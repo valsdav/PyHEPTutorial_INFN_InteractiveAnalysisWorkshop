{
 "cells": [
  {
   "cell_type": "code",
   "execution_count": 8,
   "id": "f926faab-cbe0-4e70-a9bc-fda3c5827840",
   "metadata": {},
   "outputs": [],
   "source": [
    "import numpy as np\n",
    "import awkward as ak\n",
    "import hist\n",
    "import uproot\n",
    "import coffea\n",
    "import vector\n",
    "vector.register_awkward()\n",
    "import numba\n",
    "import correctionlib\n",
    "import mplhep\n",
    "import pandas as pd\n",
    "import matplotlib"
   ]
  },
  {
   "cell_type": "code",
   "execution_count": 10,
   "id": "74593a4a-a62c-4e52-9c1a-17b9a6928ab3",
   "metadata": {},
   "outputs": [
    {
     "data": {
      "text/plain": [
       "'1.10.3'"
      ]
     },
     "execution_count": 10,
     "metadata": {},
     "output_type": "execute_result"
    }
   ],
   "source": [
    "ak.__version__"
   ]
  },
  {
   "cell_type": "code",
   "execution_count": 11,
   "id": "76d47094-2184-4d66-a865-2617fad9ab3a",
   "metadata": {},
   "outputs": [
    {
     "data": {
      "text/plain": [
       "'0.7.22'"
      ]
     },
     "execution_count": 11,
     "metadata": {},
     "output_type": "execute_result"
    }
   ],
   "source": [
    "coffea.__version__"
   ]
  },
  {
   "cell_type": "code",
   "execution_count": 12,
   "id": "2e64a09c-9ff9-4cef-8034-7bac63236fdb",
   "metadata": {},
   "outputs": [
    {
     "data": {
      "text/plain": [
       "'2.8.0'"
      ]
     },
     "execution_count": 12,
     "metadata": {},
     "output_type": "execute_result"
    }
   ],
   "source": [
    "hist.__version__"
   ]
  },
  {
   "cell_type": "code",
   "execution_count": 13,
   "id": "d3459e55-3cee-410e-a630-a0c5e58c5991",
   "metadata": {},
   "outputs": [
    {
     "data": {
      "text/plain": [
       "'4.3.7'"
      ]
     },
     "execution_count": 13,
     "metadata": {},
     "output_type": "execute_result"
    }
   ],
   "source": [
    "uproot.__version__"
   ]
  },
  {
   "cell_type": "code",
   "execution_count": 14,
   "id": "f07815f8-c3c3-4fc7-b905-14b9e201b3f3",
   "metadata": {},
   "outputs": [
    {
     "data": {
      "text/plain": [
       "'1.4.3'"
      ]
     },
     "execution_count": 14,
     "metadata": {},
     "output_type": "execute_result"
    }
   ],
   "source": [
    "vector.__version__"
   ]
  },
  {
   "cell_type": "code",
   "execution_count": 15,
   "id": "98fc9fa4-881b-46d3-805e-559d200d5445",
   "metadata": {},
   "outputs": [
    {
     "data": {
      "text/plain": [
       "'0.60.0'"
      ]
     },
     "execution_count": 15,
     "metadata": {},
     "output_type": "execute_result"
    }
   ],
   "source": [
    "numba.__version__"
   ]
  },
  {
   "cell_type": "code",
   "execution_count": 16,
   "id": "673d789f-d290-4e4f-8ae5-a63d429780ef",
   "metadata": {},
   "outputs": [
    {
     "data": {
      "text/plain": [
       "'1.23.5'"
      ]
     },
     "execution_count": 16,
     "metadata": {},
     "output_type": "execute_result"
    }
   ],
   "source": [
    "np.__version__"
   ]
  },
  {
   "cell_type": "code",
   "execution_count": null,
   "id": "17a44ee3-f6da-4bc4-913e-4eb25361cb57",
   "metadata": {},
   "outputs": [],
   "source": []
  }
 ],
 "metadata": {
  "kernelspec": {
   "display_name": "Python 3 (ipykernel)",
   "language": "python",
   "name": "python3"
  },
  "language_info": {
   "codemirror_mode": {
    "name": "ipython",
    "version": 3
   },
   "file_extension": ".py",
   "mimetype": "text/x-python",
   "name": "python",
   "nbconvert_exporter": "python",
   "pygments_lexer": "ipython3",
   "version": "3.11.8"
  }
 },
 "nbformat": 4,
 "nbformat_minor": 5
}
