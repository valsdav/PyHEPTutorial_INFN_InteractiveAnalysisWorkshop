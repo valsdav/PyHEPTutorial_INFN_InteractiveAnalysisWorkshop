{
 "cells": [
  {
   "cell_type": "markdown",
   "id": "2b0d0c1c-d690-4bcd-8583-a5a569fad55b",
   "metadata": {},
   "source": [
    "# uproot essentials\n",
    "A quick walkthrough the essentials operations performed with **uproot** to read and manipulate ROOT files in Python. \n",
    "\n",
    "https://uproot.readthedocs.io/en/latest/basic.html"
   ]
  },
  {
   "cell_type": "code",
   "execution_count": null,
   "id": "525c27d2-2189-4ad9-b03f-efc9b1aa03de",
   "metadata": {},
   "outputs": [],
   "source": [
    "import uproot\n",
    "import awkward as ak\n",
    "import numpy as np"
   ]
  },
  {
   "cell_type": "markdown",
   "id": "55dc65b4-7445-4243-9d07-da54bf495675",
   "metadata": {},
   "source": [
    "## Explore the TFile"
   ]
  },
  {
   "cell_type": "code",
   "execution_count": 4,
   "id": "2fa22a61-a851-4715-a7b1-a96185caea98",
   "metadata": {},
   "outputs": [],
   "source": [
    "cms_opendata_file = \"root://eospublic.cern.ch//eos/opendata/cms/mc/RunIISummer20UL16NanoAODv9/DYJetsToLL_M-50_TuneCP5_13TeV-madgraphMLM-pythia8/NANOAODSIM/106X_mcRun2_asymptotic_v17-v1/40000/14B6A8AE-C9FE-D744-80A4-DDE5D008C1CD.root\"\n",
    "file = uproot.open(cms_opendata_file)"
   ]
  },
  {
   "cell_type": "code",
   "execution_count": 5,
   "id": "d16afd49-7b2c-4a43-8d64-471bd232cd68",
   "metadata": {},
   "outputs": [
    {
     "data": {
      "text/plain": [
       "{'tag;1': 'TObjString',\n",
       " 'Events;1': 'TTree',\n",
       " 'LuminosityBlocks;1': 'TTree',\n",
       " 'Runs;1': 'TTree',\n",
       " 'MetaData;1': 'TTree',\n",
       " 'ParameterSets;1': 'TTree'}"
      ]
     },
     "execution_count": 5,
     "metadata": {},
     "output_type": "execute_result"
    }
   ],
   "source": [
    "file.classnames()"
   ]
  },
  {
   "cell_type": "code",
   "execution_count": 6,
   "id": "3394db2c-cabf-40a0-8ce5-d882e6878544",
   "metadata": {},
   "outputs": [
    {
     "data": {
      "text/plain": [
       "['tag;1',\n",
       " 'Events;1',\n",
       " 'LuminosityBlocks;1',\n",
       " 'Runs;1',\n",
       " 'MetaData;1',\n",
       " 'ParameterSets;1']"
      ]
     },
     "execution_count": 6,
     "metadata": {},
     "output_type": "execute_result"
    }
   ],
   "source": [
    "file.keys()"
   ]
  },
  {
   "cell_type": "markdown",
   "id": "34aa057e-509e-4b6a-bc5f-5c406e082a3e",
   "metadata": {},
   "source": [
    "Let's get the TTree using the file as a dictionary"
   ]
  },
  {
   "cell_type": "code",
   "execution_count": 7,
   "id": "7680769e-9cc2-4e7a-9009-0db39aca0fdf",
   "metadata": {},
   "outputs": [],
   "source": [
    "events = file[\"Events\"]"
   ]
  },
  {
   "cell_type": "markdown",
   "id": "f7c425b0-6885-43ac-85ff-a757e865aebe",
   "metadata": {},
   "source": [
    "we can easily inspect all the TTree content"
   ]
  },
  {
   "cell_type": "code",
   "execution_count": 8,
   "id": "728544f8-e336-490b-a90f-507831019df5",
   "metadata": {
    "collapsed": true,
    "jupyter": {
     "outputs_hidden": true
    }
   },
   "outputs": [
    {
     "name": "stdout",
     "output_type": "stream",
     "text": [
      "name                 | typename                 | interpretation                \n",
      "---------------------+--------------------------+-------------------------------\n",
      "run                  | uint32_t                 | AsDtype('>u4')\n",
      "luminosityBlock      | uint32_t                 | AsDtype('>u4')\n",
      "event                | uint64_t                 | AsDtype('>u8')\n",
      "HTXS_Higgs_pt        | float                    | AsDtype('>f4')\n",
      "HTXS_Higgs_y         | float                    | AsDtype('>f4')\n",
      "HTXS_stage1_1_cat... | int32_t                  | AsDtype('>i4')\n",
      "HTXS_stage1_1_cat... | int32_t                  | AsDtype('>i4')\n",
      "HTXS_stage1_1_fin... | int32_t                  | AsDtype('>i4')\n",
      "HTXS_stage1_1_fin... | int32_t                  | AsDtype('>i4')\n",
      "HTXS_stage1_2_cat... | int32_t                  | AsDtype('>i4')\n",
      "HTXS_stage1_2_cat... | int32_t                  | AsDtype('>i4')\n",
      "HTXS_stage1_2_fin... | int32_t                  | AsDtype('>i4')\n",
      "HTXS_stage1_2_fin... | int32_t                  | AsDtype('>i4')\n",
      "HTXS_stage_0         | int32_t                  | AsDtype('>i4')\n",
      "HTXS_stage_1_pTjet25 | int32_t                  | AsDtype('>i4')\n",
      "HTXS_stage_1_pTjet30 | int32_t                  | AsDtype('>i4')\n",
      "HTXS_njets25         | uint8_t                  | AsDtype('uint8')\n",
      "HTXS_njets30         | uint8_t                  | AsDtype('uint8')\n",
      "nboostedTau          | uint32_t                 | AsDtype('>u4')\n",
      "boostedTau_charge... | float[]                  | AsJagged(AsDtype('>f4'))\n",
      "boostedTau_eta       | float[]                  | AsJagged(AsDtype('>f4'))\n",
      "boostedTau_leadTk... | float[]                  | AsJagged(AsDtype('>f4'))\n",
      "boostedTau_leadTk... | float[]                  | AsJagged(AsDtype('>f4'))\n",
      "boostedTau_leadTk... | float[]                  | AsJagged(AsDtype('>f4'))\n",
      "boostedTau_mass      | float[]                  | AsJagged(AsDtype('>f4'))\n",
      "boostedTau_neutra... | float[]                  | AsJagged(AsDtype('>f4'))\n",
      "boostedTau_phi       | float[]                  | AsJagged(AsDtype('>f4'))\n",
      "boostedTau_photon... | float[]                  | AsJagged(AsDtype('>f4'))\n",
      "boostedTau_pt        | float[]                  | AsJagged(AsDtype('>f4'))\n",
      "boostedTau_puCorr    | float[]                  | AsJagged(AsDtype('>f4'))\n",
      "boostedTau_rawAnt... | float[]                  | AsJagged(AsDtype('>f4'))\n",
      "boostedTau_rawIso    | float[]                  | AsJagged(AsDtype('>f4'))\n",
      "boostedTau_rawIso... | float[]                  | AsJagged(AsDtype('>f4'))\n",
      "boostedTau_rawMVA... | float[]                  | AsJagged(AsDtype('>f4'))\n",
      "boostedTau_rawMVA... | float[]                  | AsJagged(AsDtype('>f4'))\n",
      "boostedTau_rawMVA... | float[]                  | AsJagged(AsDtype('>f4'))\n",
      "boostedTau_charge    | int32_t[]                | AsJagged(AsDtype('>i4'))\n",
      "boostedTau_decayMode | int32_t[]                | AsJagged(AsDtype('>i4'))\n",
      "boostedTau_jetIdx    | int32_t[]                | AsJagged(AsDtype('>i4'))\n",
      "boostedTau_rawAnt... | int32_t[]                | AsJagged(AsDtype('>i4'))\n",
      "boostedTau_idAnti... | uint8_t[]                | AsJagged(AsDtype('uint8'))\n",
      "boostedTau_idAntiMu  | uint8_t[]                | AsJagged(AsDtype('uint8'))\n",
      "boostedTau_idMVAn... | uint8_t[]                | AsJagged(AsDtype('uint8'))\n",
      "boostedTau_idMVAo... | uint8_t[]                | AsJagged(AsDtype('uint8'))\n",
      "boostedTau_idMVAo... | uint8_t[]                | AsJagged(AsDtype('uint8'))\n",
      "btagWeight_CSVV2     | float                    | AsDtype('>f4')\n",
      "btagWeight_DeepCSVB  | float                    | AsDtype('>f4')\n",
      "CaloMET_phi          | float                    | AsDtype('>f4')\n",
      "CaloMET_pt           | float                    | AsDtype('>f4')\n",
      "CaloMET_sumEt        | float                    | AsDtype('>f4')\n",
      "ChsMET_phi           | float                    | AsDtype('>f4')\n",
      "ChsMET_pt            | float                    | AsDtype('>f4')\n",
      "ChsMET_sumEt         | float                    | AsDtype('>f4')\n",
      "nCorrT1METJet        | uint32_t                 | AsDtype('>u4')\n",
      "CorrT1METJet_area    | float[]                  | AsJagged(AsDtype('>f4'))\n",
      "CorrT1METJet_eta     | float[]                  | AsJagged(AsDtype('>f4'))\n",
      "CorrT1METJet_muon... | float[]                  | AsJagged(AsDtype('>f4'))\n",
      "CorrT1METJet_phi     | float[]                  | AsJagged(AsDtype('>f4'))\n",
      "CorrT1METJet_rawPt   | float[]                  | AsJagged(AsDtype('>f4'))\n",
      "DeepMETResolution... | float                    | AsDtype('>f4')\n",
      "DeepMETResolution... | float                    | AsDtype('>f4')\n",
      "DeepMETResponseTu... | float                    | AsDtype('>f4')\n",
      "DeepMETResponseTu... | float                    | AsDtype('>f4')\n",
      "nElectron            | uint32_t                 | AsDtype('>u4')\n",
      "Electron_dEscaleDown | float[]                  | AsJagged(AsDtype('>f4'))\n",
      "Electron_dEscaleUp   | float[]                  | AsJagged(AsDtype('>f4'))\n",
      "Electron_dEsigmaDown | float[]                  | AsJagged(AsDtype('>f4'))\n",
      "Electron_dEsigmaUp   | float[]                  | AsJagged(AsDtype('>f4'))\n",
      "Electron_deltaEtaSC  | float[]                  | AsJagged(AsDtype('>f4'))\n",
      "Electron_dr03Ecal... | float[]                  | AsJagged(AsDtype('>f4'))\n",
      "Electron_dr03Hcal... | float[]                  | AsJagged(AsDtype('>f4'))\n",
      "Electron_dr03TkSumPt | float[]                  | AsJagged(AsDtype('>f4'))\n",
      "Electron_dr03TkSu... | float[]                  | AsJagged(AsDtype('>f4'))\n",
      "Electron_dxy         | float[]                  | AsJagged(AsDtype('>f4'))\n",
      "Electron_dxyErr      | float[]                  | AsJagged(AsDtype('>f4'))\n",
      "Electron_dz          | float[]                  | AsJagged(AsDtype('>f4'))\n",
      "Electron_dzErr       | float[]                  | AsJagged(AsDtype('>f4'))\n",
      "Electron_eCorr       | float[]                  | AsJagged(AsDtype('>f4'))\n",
      "Electron_eInvMinu... | float[]                  | AsJagged(AsDtype('>f4'))\n",
      "Electron_energyErr   | float[]                  | AsJagged(AsDtype('>f4'))\n",
      "Electron_eta         | float[]                  | AsJagged(AsDtype('>f4'))\n",
      "Electron_hoe         | float[]                  | AsJagged(AsDtype('>f4'))\n",
      "Electron_ip3d        | float[]                  | AsJagged(AsDtype('>f4'))\n",
      "Electron_jetPtRelv2  | float[]                  | AsJagged(AsDtype('>f4'))\n",
      "Electron_jetRelIso   | float[]                  | AsJagged(AsDtype('>f4'))\n",
      "Electron_mass        | float[]                  | AsJagged(AsDtype('>f4'))\n",
      "Electron_miniPFRe... | float[]                  | AsJagged(AsDtype('>f4'))\n",
      "Electron_miniPFRe... | float[]                  | AsJagged(AsDtype('>f4'))\n",
      "Electron_mvaFall1... | float[]                  | AsJagged(AsDtype('>f4'))\n",
      "Electron_mvaFall1... | float[]                  | AsJagged(AsDtype('>f4'))\n",
      "Electron_pfRelIso... | float[]                  | AsJagged(AsDtype('>f4'))\n",
      "Electron_pfRelIso... | float[]                  | AsJagged(AsDtype('>f4'))\n",
      "Electron_phi         | float[]                  | AsJagged(AsDtype('>f4'))\n",
      "Electron_pt          | float[]                  | AsJagged(AsDtype('>f4'))\n",
      "Electron_r9          | float[]                  | AsJagged(AsDtype('>f4'))\n",
      "Electron_scEtOverPt  | float[]                  | AsJagged(AsDtype('>f4'))\n",
      "Electron_sieie       | float[]                  | AsJagged(AsDtype('>f4'))\n",
      "Electron_sip3d       | float[]                  | AsJagged(AsDtype('>f4'))\n",
      "Electron_mvaTTH      | float[]                  | AsJagged(AsDtype('>f4'))\n",
      "Electron_charge      | int32_t[]                | AsJagged(AsDtype('>i4'))\n",
      "Electron_cutBased    | int32_t[]                | AsJagged(AsDtype('>i4'))\n",
      "Electron_jetIdx      | int32_t[]                | AsJagged(AsDtype('>i4'))\n",
      "Electron_pdgId       | int32_t[]                | AsJagged(AsDtype('>i4'))\n",
      "Electron_photonIdx   | int32_t[]                | AsJagged(AsDtype('>i4'))\n",
      "Electron_tightCharge | int32_t[]                | AsJagged(AsDtype('>i4'))\n",
      "Electron_vidNeste... | int32_t[]                | AsJagged(AsDtype('>i4'))\n",
      "Electron_vidNeste... | int32_t[]                | AsJagged(AsDtype('>i4'))\n",
      "Electron_convVeto    | bool[]                   | AsJagged(AsDtype('bool'))\n",
      "Electron_cutBased... | bool[]                   | AsJagged(AsDtype('bool'))\n",
      "Electron_isPFcand    | bool[]                   | AsJagged(AsDtype('bool'))\n",
      "Electron_jetNDauC... | uint8_t[]                | AsJagged(AsDtype('uint8'))\n",
      "Electron_lostHits    | uint8_t[]                | AsJagged(AsDtype('uint8'))\n",
      "Electron_mvaFall1... | bool[]                   | AsJagged(AsDtype('bool'))\n",
      "Electron_mvaFall1... | bool[]                   | AsJagged(AsDtype('bool'))\n",
      "Electron_mvaFall1... | bool[]                   | AsJagged(AsDtype('bool'))\n",
      "Electron_mvaFall1... | bool[]                   | AsJagged(AsDtype('bool'))\n",
      "Electron_mvaFall1... | bool[]                   | AsJagged(AsDtype('bool'))\n",
      "Electron_mvaFall1... | bool[]                   | AsJagged(AsDtype('bool'))\n",
      "Electron_seedGain    | uint8_t[]                | AsJagged(AsDtype('uint8'))\n",
      "nFatJet              | uint32_t                 | AsDtype('>u4')\n",
      "FatJet_area          | float[]                  | AsJagged(AsDtype('>f4'))\n",
      "FatJet_btagCSVV2     | float[]                  | AsJagged(AsDtype('>f4'))\n",
      "FatJet_btagDDBvLV2   | float[]                  | AsJagged(AsDtype('>f4'))\n",
      "FatJet_btagDDCvBV2   | float[]                  | AsJagged(AsDtype('>f4'))\n",
      "FatJet_btagDDCvLV2   | float[]                  | AsJagged(AsDtype('>f4'))\n",
      "FatJet_btagDeepB     | float[]                  | AsJagged(AsDtype('>f4'))\n",
      "FatJet_btagHbb       | float[]                  | AsJagged(AsDtype('>f4'))\n",
      "FatJet_deepTagMD_... | float[]                  | AsJagged(AsDtype('>f4'))\n",
      "FatJet_deepTagMD_... | float[]                  | AsJagged(AsDtype('>f4'))\n",
      "FatJet_deepTagMD_... | float[]                  | AsJagged(AsDtype('>f4'))\n",
      "FatJet_deepTagMD_... | float[]                  | AsJagged(AsDtype('>f4'))\n",
      "FatJet_deepTagMD_... | float[]                  | AsJagged(AsDtype('>f4'))\n",
      "FatJet_deepTagMD_... | float[]                  | AsJagged(AsDtype('>f4'))\n",
      "FatJet_deepTagMD_... | float[]                  | AsJagged(AsDtype('>f4'))\n",
      "FatJet_deepTagMD_... | float[]                  | AsJagged(AsDtype('>f4'))\n",
      "FatJet_deepTagMD_... | float[]                  | AsJagged(AsDtype('>f4'))\n",
      "FatJet_deepTagMD_... | float[]                  | AsJagged(AsDtype('>f4'))\n",
      "FatJet_deepTag_H     | float[]                  | AsJagged(AsDtype('>f4'))\n",
      "FatJet_deepTag_QCD   | float[]                  | AsJagged(AsDtype('>f4'))\n",
      "FatJet_deepTag_QC... | float[]                  | AsJagged(AsDtype('>f4'))\n",
      "FatJet_deepTag_Tv... | float[]                  | AsJagged(AsDtype('>f4'))\n",
      "FatJet_deepTag_Wv... | float[]                  | AsJagged(AsDtype('>f4'))\n",
      "FatJet_deepTag_Zv... | float[]                  | AsJagged(AsDtype('>f4'))\n",
      "FatJet_eta           | float[]                  | AsJagged(AsDtype('>f4'))\n",
      "FatJet_mass          | float[]                  | AsJagged(AsDtype('>f4'))\n",
      "FatJet_msoftdrop     | float[]                  | AsJagged(AsDtype('>f4'))\n",
      "FatJet_n2b1          | float[]                  | AsJagged(AsDtype('>f4'))\n",
      "FatJet_n3b1          | float[]                  | AsJagged(AsDtype('>f4'))\n",
      "FatJet_particleNe... | float[]                  | AsJagged(AsDtype('>f4'))\n",
      "FatJet_particleNe... | float[]                  | AsJagged(AsDtype('>f4'))\n",
      "FatJet_particleNe... | float[]                  | AsJagged(AsDtype('>f4'))\n",
      "FatJet_particleNe... | float[]                  | AsJagged(AsDtype('>f4'))\n",
      "FatJet_particleNe... | float[]                  | AsJagged(AsDtype('>f4'))\n",
      "FatJet_particleNe... | float[]                  | AsJagged(AsDtype('>f4'))\n",
      "FatJet_particleNe... | float[]                  | AsJagged(AsDtype('>f4'))\n",
      "FatJet_particleNe... | float[]                  | AsJagged(AsDtype('>f4'))\n",
      "FatJet_particleNe... | float[]                  | AsJagged(AsDtype('>f4'))\n",
      "FatJet_particleNe... | float[]                  | AsJagged(AsDtype('>f4'))\n",
      "FatJet_particleNe... | float[]                  | AsJagged(AsDtype('>f4'))\n",
      "FatJet_particleNe... | float[]                  | AsJagged(AsDtype('>f4'))\n",
      "FatJet_phi           | float[]                  | AsJagged(AsDtype('>f4'))\n",
      "FatJet_pt            | float[]                  | AsJagged(AsDtype('>f4'))\n",
      "FatJet_rawFactor     | float[]                  | AsJagged(AsDtype('>f4'))\n",
      "FatJet_tau1          | float[]                  | AsJagged(AsDtype('>f4'))\n",
      "FatJet_tau2          | float[]                  | AsJagged(AsDtype('>f4'))\n",
      "FatJet_tau3          | float[]                  | AsJagged(AsDtype('>f4'))\n",
      "FatJet_tau4          | float[]                  | AsJagged(AsDtype('>f4'))\n",
      "FatJet_lsf3          | float[]                  | AsJagged(AsDtype('>f4'))\n",
      "FatJet_jetId         | int32_t[]                | AsJagged(AsDtype('>i4'))\n",
      "FatJet_subJetIdx1    | int32_t[]                | AsJagged(AsDtype('>i4'))\n",
      "FatJet_subJetIdx2    | int32_t[]                | AsJagged(AsDtype('>i4'))\n",
      "FatJet_electronId... | int32_t[]                | AsJagged(AsDtype('>i4'))\n",
      "FatJet_muonIdx3SJ    | int32_t[]                | AsJagged(AsDtype('>i4'))\n",
      "FatJet_nConstituents | uint8_t[]                | AsJagged(AsDtype('uint8'))\n",
      "nFsrPhoton           | uint32_t                 | AsDtype('>u4')\n",
      "FsrPhoton_dROverEt2  | float[]                  | AsJagged(AsDtype('>f4'))\n",
      "FsrPhoton_eta        | float[]                  | AsJagged(AsDtype('>f4'))\n",
      "FsrPhoton_phi        | float[]                  | AsJagged(AsDtype('>f4'))\n",
      "FsrPhoton_pt         | float[]                  | AsJagged(AsDtype('>f4'))\n",
      "FsrPhoton_relIso03   | float[]                  | AsJagged(AsDtype('>f4'))\n",
      "FsrPhoton_muonIdx    | int32_t[]                | AsJagged(AsDtype('>i4'))\n",
      "nGenJetAK8           | uint32_t                 | AsDtype('>u4')\n",
      "GenJetAK8_eta        | float[]                  | AsJagged(AsDtype('>f4'))\n",
      "GenJetAK8_mass       | float[]                  | AsJagged(AsDtype('>f4'))\n",
      "GenJetAK8_phi        | float[]                  | AsJagged(AsDtype('>f4'))\n",
      "GenJetAK8_pt         | float[]                  | AsJagged(AsDtype('>f4'))\n",
      "nGenJet              | uint32_t                 | AsDtype('>u4')\n",
      "GenJet_eta           | float[]                  | AsJagged(AsDtype('>f4'))\n",
      "GenJet_mass          | float[]                  | AsJagged(AsDtype('>f4'))\n",
      "GenJet_phi           | float[]                  | AsJagged(AsDtype('>f4'))\n",
      "GenJet_pt            | float[]                  | AsJagged(AsDtype('>f4'))\n",
      "nGenPart             | uint32_t                 | AsDtype('>u4')\n",
      "GenPart_eta          | float[]                  | AsJagged(AsDtype('>f4'))\n",
      "GenPart_mass         | float[]                  | AsJagged(AsDtype('>f4'))\n",
      "GenPart_phi          | float[]                  | AsJagged(AsDtype('>f4'))\n",
      "GenPart_pt           | float[]                  | AsJagged(AsDtype('>f4'))\n",
      "GenPart_genPartId... | int32_t[]                | AsJagged(AsDtype('>i4'))\n",
      "GenPart_pdgId        | int32_t[]                | AsJagged(AsDtype('>i4'))\n",
      "GenPart_status       | int32_t[]                | AsJagged(AsDtype('>i4'))\n",
      "GenPart_statusFlags  | int32_t[]                | AsJagged(AsDtype('>i4'))\n",
      "nSubGenJetAK8        | uint32_t                 | AsDtype('>u4')\n",
      "SubGenJetAK8_eta     | float[]                  | AsJagged(AsDtype('>f4'))\n",
      "SubGenJetAK8_mass    | float[]                  | AsJagged(AsDtype('>f4'))\n",
      "SubGenJetAK8_phi     | float[]                  | AsJagged(AsDtype('>f4'))\n",
      "SubGenJetAK8_pt      | float[]                  | AsJagged(AsDtype('>f4'))\n",
      "Generator_binvar     | float                    | AsDtype('>f4')\n",
      "Generator_scalePDF   | float                    | AsDtype('>f4')\n",
      "Generator_weight     | float                    | AsDtype('>f4')\n",
      "Generator_x1         | float                    | AsDtype('>f4')\n",
      "Generator_x2         | float                    | AsDtype('>f4')\n",
      "Generator_xpdf1      | float                    | AsDtype('>f4')\n",
      "Generator_xpdf2      | float                    | AsDtype('>f4')\n",
      "Generator_id1        | int32_t                  | AsDtype('>i4')\n",
      "Generator_id2        | int32_t                  | AsDtype('>i4')\n",
      "GenVtx_x             | float                    | AsDtype('>f4')\n",
      "GenVtx_y             | float                    | AsDtype('>f4')\n",
      "GenVtx_z             | float                    | AsDtype('>f4')\n",
      "nGenVisTau           | uint32_t                 | AsDtype('>u4')\n",
      "GenVisTau_eta        | float[]                  | AsJagged(AsDtype('>f4'))\n",
      "GenVisTau_mass       | float[]                  | AsJagged(AsDtype('>f4'))\n",
      "GenVisTau_phi        | float[]                  | AsJagged(AsDtype('>f4'))\n",
      "GenVisTau_pt         | float[]                  | AsJagged(AsDtype('>f4'))\n",
      "GenVisTau_charge     | int32_t[]                | AsJagged(AsDtype('>i4'))\n",
      "GenVisTau_genPart... | int32_t[]                | AsJagged(AsDtype('>i4'))\n",
      "GenVisTau_status     | int32_t[]                | AsJagged(AsDtype('>i4'))\n",
      "genWeight            | float                    | AsDtype('>f4')\n",
      "LHEWeight_origina... | float                    | AsDtype('>f4')\n",
      "nLHEPdfWeight        | uint32_t                 | AsDtype('>u4')\n",
      "LHEPdfWeight         | float[]                  | AsJagged(AsDtype('>f4'))\n",
      "nLHEReweightingWe... | uint32_t                 | AsDtype('>u4')\n",
      "LHEReweightingWeight | float[]                  | AsJagged(AsDtype('>f4'))\n",
      "nLHEScaleWeight      | uint32_t                 | AsDtype('>u4')\n",
      "LHEScaleWeight       | float[]                  | AsJagged(AsDtype('>f4'))\n",
      "nPSWeight            | uint32_t                 | AsDtype('>u4')\n",
      "PSWeight             | float[]                  | AsJagged(AsDtype('>f4'))\n",
      "nIsoTrack            | uint32_t                 | AsDtype('>u4')\n",
      "IsoTrack_dxy         | float[]                  | AsJagged(AsDtype('>f4'))\n",
      "IsoTrack_dz          | float[]                  | AsJagged(AsDtype('>f4'))\n",
      "IsoTrack_eta         | float[]                  | AsJagged(AsDtype('>f4'))\n",
      "IsoTrack_pfRelIso... | float[]                  | AsJagged(AsDtype('>f4'))\n",
      "IsoTrack_pfRelIso... | float[]                  | AsJagged(AsDtype('>f4'))\n",
      "IsoTrack_phi         | float[]                  | AsJagged(AsDtype('>f4'))\n",
      "IsoTrack_pt          | float[]                  | AsJagged(AsDtype('>f4'))\n",
      "IsoTrack_miniPFRe... | float[]                  | AsJagged(AsDtype('>f4'))\n",
      "IsoTrack_miniPFRe... | float[]                  | AsJagged(AsDtype('>f4'))\n",
      "IsoTrack_charge      | int32_t[]                | AsJagged(AsDtype('>i4'))\n",
      "IsoTrack_fromPV      | int32_t[]                | AsJagged(AsDtype('>i4'))\n",
      "IsoTrack_pdgId       | int32_t[]                | AsJagged(AsDtype('>i4'))\n",
      "IsoTrack_isHighPu... | bool[]                   | AsJagged(AsDtype('bool'))\n",
      "IsoTrack_isPFcand    | bool[]                   | AsJagged(AsDtype('bool'))\n",
      "IsoTrack_isFromLo... | bool[]                   | AsJagged(AsDtype('bool'))\n",
      "nJet                 | uint32_t                 | AsDtype('>u4')\n",
      "Jet_area             | float[]                  | AsJagged(AsDtype('>f4'))\n",
      "Jet_btagCSVV2        | float[]                  | AsJagged(AsDtype('>f4'))\n",
      "Jet_btagDeepB        | float[]                  | AsJagged(AsDtype('>f4'))\n",
      "Jet_btagDeepCvB      | float[]                  | AsJagged(AsDtype('>f4'))\n",
      "Jet_btagDeepCvL      | float[]                  | AsJagged(AsDtype('>f4'))\n",
      "Jet_btagDeepFlavB    | float[]                  | AsJagged(AsDtype('>f4'))\n",
      "Jet_btagDeepFlavCvB  | float[]                  | AsJagged(AsDtype('>f4'))\n",
      "Jet_btagDeepFlavCvL  | float[]                  | AsJagged(AsDtype('>f4'))\n",
      "Jet_btagDeepFlavQG   | float[]                  | AsJagged(AsDtype('>f4'))\n",
      "Jet_chEmEF           | float[]                  | AsJagged(AsDtype('>f4'))\n",
      "Jet_chFPV0EF         | float[]                  | AsJagged(AsDtype('>f4'))\n",
      "Jet_chHEF            | float[]                  | AsJagged(AsDtype('>f4'))\n",
      "Jet_eta              | float[]                  | AsJagged(AsDtype('>f4'))\n",
      "Jet_hfsigmaEtaEta    | float[]                  | AsJagged(AsDtype('>f4'))\n",
      "Jet_hfsigmaPhiPhi    | float[]                  | AsJagged(AsDtype('>f4'))\n",
      "Jet_mass             | float[]                  | AsJagged(AsDtype('>f4'))\n",
      "Jet_muEF             | float[]                  | AsJagged(AsDtype('>f4'))\n",
      "Jet_muonSubtrFactor  | float[]                  | AsJagged(AsDtype('>f4'))\n",
      "Jet_neEmEF           | float[]                  | AsJagged(AsDtype('>f4'))\n",
      "Jet_neHEF            | float[]                  | AsJagged(AsDtype('>f4'))\n",
      "Jet_phi              | float[]                  | AsJagged(AsDtype('>f4'))\n",
      "Jet_pt               | float[]                  | AsJagged(AsDtype('>f4'))\n",
      "Jet_puIdDisc         | float[]                  | AsJagged(AsDtype('>f4'))\n",
      "Jet_qgl              | float[]                  | AsJagged(AsDtype('>f4'))\n",
      "Jet_rawFactor        | float[]                  | AsJagged(AsDtype('>f4'))\n",
      "Jet_bRegCorr         | float[]                  | AsJagged(AsDtype('>f4'))\n",
      "Jet_bRegRes          | float[]                  | AsJagged(AsDtype('>f4'))\n",
      "Jet_cRegCorr         | float[]                  | AsJagged(AsDtype('>f4'))\n",
      "Jet_cRegRes          | float[]                  | AsJagged(AsDtype('>f4'))\n",
      "Jet_electronIdx1     | int32_t[]                | AsJagged(AsDtype('>i4'))\n",
      "Jet_electronIdx2     | int32_t[]                | AsJagged(AsDtype('>i4'))\n",
      "Jet_hfadjacentEta... | int32_t[]                | AsJagged(AsDtype('>i4'))\n",
      "Jet_hfcentralEtaS... | int32_t[]                | AsJagged(AsDtype('>i4'))\n",
      "Jet_jetId            | int32_t[]                | AsJagged(AsDtype('>i4'))\n",
      "Jet_muonIdx1         | int32_t[]                | AsJagged(AsDtype('>i4'))\n",
      "Jet_muonIdx2         | int32_t[]                | AsJagged(AsDtype('>i4'))\n",
      "Jet_nElectrons       | int32_t[]                | AsJagged(AsDtype('>i4'))\n",
      "Jet_nMuons           | int32_t[]                | AsJagged(AsDtype('>i4'))\n",
      "Jet_puId             | int32_t[]                | AsJagged(AsDtype('>i4'))\n",
      "Jet_nConstituents    | uint8_t[]                | AsJagged(AsDtype('uint8'))\n",
      "L1PreFiringWeight_Dn | float                    | AsDtype('>f4')\n",
      "L1PreFiringWeight... | float                    | AsDtype('>f4')\n",
      "L1PreFiringWeight... | float                    | AsDtype('>f4')\n",
      "L1PreFiringWeight... | float                    | AsDtype('>f4')\n",
      "L1PreFiringWeight... | float                    | AsDtype('>f4')\n",
      "L1PreFiringWeight... | float                    | AsDtype('>f4')\n",
      "L1PreFiringWeight... | float                    | AsDtype('>f4')\n",
      "L1PreFiringWeight... | float                    | AsDtype('>f4')\n",
      "L1PreFiringWeight... | float                    | AsDtype('>f4')\n",
      "L1PreFiringWeight... | float                    | AsDtype('>f4')\n",
      "L1PreFiringWeight_Up | float                    | AsDtype('>f4')\n",
      "LHE_HT               | float                    | AsDtype('>f4')\n",
      "LHE_HTIncoming       | float                    | AsDtype('>f4')\n",
      "LHE_Vpt              | float                    | AsDtype('>f4')\n",
      "LHE_AlphaS           | float                    | AsDtype('>f4')\n",
      "LHE_Njets            | uint8_t                  | AsDtype('uint8')\n",
      "LHE_Nb               | uint8_t                  | AsDtype('uint8')\n",
      "LHE_Nc               | uint8_t                  | AsDtype('uint8')\n",
      "LHE_Nuds             | uint8_t                  | AsDtype('uint8')\n",
      "LHE_Nglu             | uint8_t                  | AsDtype('uint8')\n",
      "LHE_NpNLO            | uint8_t                  | AsDtype('uint8')\n",
      "LHE_NpLO             | uint8_t                  | AsDtype('uint8')\n",
      "nLHEPart             | uint32_t                 | AsDtype('>u4')\n",
      "LHEPart_pt           | float[]                  | AsJagged(AsDtype('>f4'))\n",
      "LHEPart_eta          | float[]                  | AsJagged(AsDtype('>f4'))\n",
      "LHEPart_phi          | float[]                  | AsJagged(AsDtype('>f4'))\n",
      "LHEPart_mass         | float[]                  | AsJagged(AsDtype('>f4'))\n",
      "LHEPart_incomingpz   | float[]                  | AsJagged(AsDtype('>f4'))\n",
      "LHEPart_pdgId        | int32_t[]                | AsJagged(AsDtype('>i4'))\n",
      "LHEPart_status       | int32_t[]                | AsJagged(AsDtype('>i4'))\n",
      "LHEPart_spin         | int32_t[]                | AsJagged(AsDtype('>i4'))\n",
      "nLowPtElectron       | uint32_t                 | AsDtype('>u4')\n",
      "LowPtElectron_ID     | float[]                  | AsJagged(AsDtype('>f4'))\n",
      "LowPtElectron_con... | float[]                  | AsJagged(AsDtype('>f4'))\n",
      "LowPtElectron_del... | float[]                  | AsJagged(AsDtype('>f4'))\n",
      "LowPtElectron_dxy    | float[]                  | AsJagged(AsDtype('>f4'))\n",
      "LowPtElectron_dxyErr | float[]                  | AsJagged(AsDtype('>f4'))\n",
      "LowPtElectron_dz     | float[]                  | AsJagged(AsDtype('>f4'))\n",
      "LowPtElectron_dzErr  | float[]                  | AsJagged(AsDtype('>f4'))\n",
      "LowPtElectron_eIn... | float[]                  | AsJagged(AsDtype('>f4'))\n",
      "LowPtElectron_emb... | float[]                  | AsJagged(AsDtype('>f4'))\n",
      "LowPtElectron_ene... | float[]                  | AsJagged(AsDtype('>f4'))\n",
      "LowPtElectron_eta    | float[]                  | AsJagged(AsDtype('>f4'))\n",
      "LowPtElectron_hoe    | float[]                  | AsJagged(AsDtype('>f4'))\n",
      "LowPtElectron_mass   | float[]                  | AsJagged(AsDtype('>f4'))\n",
      "LowPtElectron_min... | float[]                  | AsJagged(AsDtype('>f4'))\n",
      "LowPtElectron_min... | float[]                  | AsJagged(AsDtype('>f4'))\n",
      "LowPtElectron_phi    | float[]                  | AsJagged(AsDtype('>f4'))\n",
      "LowPtElectron_pt     | float[]                  | AsJagged(AsDtype('>f4'))\n",
      "LowPtElectron_ptb... | float[]                  | AsJagged(AsDtype('>f4'))\n",
      "LowPtElectron_r9     | float[]                  | AsJagged(AsDtype('>f4'))\n",
      "LowPtElectron_scE... | float[]                  | AsJagged(AsDtype('>f4'))\n",
      "LowPtElectron_sieie  | float[]                  | AsJagged(AsDtype('>f4'))\n",
      "LowPtElectron_unb... | float[]                  | AsJagged(AsDtype('>f4'))\n",
      "LowPtElectron_charge | int32_t[]                | AsJagged(AsDtype('>i4'))\n",
      "LowPtElectron_convWP | int32_t[]                | AsJagged(AsDtype('>i4'))\n",
      "LowPtElectron_pdgId  | int32_t[]                | AsJagged(AsDtype('>i4'))\n",
      "LowPtElectron_con... | bool[]                   | AsJagged(AsDtype('bool'))\n",
      "LowPtElectron_los... | uint8_t[]                | AsJagged(AsDtype('uint8'))\n",
      "GenMET_phi           | float                    | AsDtype('>f4')\n",
      "GenMET_pt            | float                    | AsDtype('>f4')\n",
      "MET_MetUnclustEnU... | float                    | AsDtype('>f4')\n",
      "MET_MetUnclustEnU... | float                    | AsDtype('>f4')\n",
      "MET_covXX            | float                    | AsDtype('>f4')\n",
      "MET_covXY            | float                    | AsDtype('>f4')\n",
      "MET_covYY            | float                    | AsDtype('>f4')\n",
      "MET_phi              | float                    | AsDtype('>f4')\n",
      "MET_pt               | float                    | AsDtype('>f4')\n",
      "MET_significance     | float                    | AsDtype('>f4')\n",
      "MET_sumEt            | float                    | AsDtype('>f4')\n",
      "MET_sumPtUnclustered | float                    | AsDtype('>f4')\n",
      "nMuon                | uint32_t                 | AsDtype('>u4')\n",
      "Muon_dxy             | float[]                  | AsJagged(AsDtype('>f4'))\n",
      "Muon_dxyErr          | float[]                  | AsJagged(AsDtype('>f4'))\n",
      "Muon_dxybs           | float[]                  | AsJagged(AsDtype('>f4'))\n",
      "Muon_dz              | float[]                  | AsJagged(AsDtype('>f4'))\n",
      "Muon_dzErr           | float[]                  | AsJagged(AsDtype('>f4'))\n",
      "Muon_eta             | float[]                  | AsJagged(AsDtype('>f4'))\n",
      "Muon_ip3d            | float[]                  | AsJagged(AsDtype('>f4'))\n",
      "Muon_jetPtRelv2      | float[]                  | AsJagged(AsDtype('>f4'))\n",
      "Muon_jetRelIso       | float[]                  | AsJagged(AsDtype('>f4'))\n",
      "Muon_mass            | float[]                  | AsJagged(AsDtype('>f4'))\n",
      "Muon_miniPFRelIso... | float[]                  | AsJagged(AsDtype('>f4'))\n",
      "Muon_miniPFRelIso... | float[]                  | AsJagged(AsDtype('>f4'))\n",
      "Muon_pfRelIso03_all  | float[]                  | AsJagged(AsDtype('>f4'))\n",
      "Muon_pfRelIso03_chg  | float[]                  | AsJagged(AsDtype('>f4'))\n",
      "Muon_pfRelIso04_all  | float[]                  | AsJagged(AsDtype('>f4'))\n",
      "Muon_phi             | float[]                  | AsJagged(AsDtype('>f4'))\n",
      "Muon_pt              | float[]                  | AsJagged(AsDtype('>f4'))\n",
      "Muon_ptErr           | float[]                  | AsJagged(AsDtype('>f4'))\n",
      "Muon_segmentComp     | float[]                  | AsJagged(AsDtype('>f4'))\n",
      "Muon_sip3d           | float[]                  | AsJagged(AsDtype('>f4'))\n",
      "Muon_softMva         | float[]                  | AsJagged(AsDtype('>f4'))\n",
      "Muon_tkRelIso        | float[]                  | AsJagged(AsDtype('>f4'))\n",
      "Muon_tunepRelPt      | float[]                  | AsJagged(AsDtype('>f4'))\n",
      "Muon_mvaLowPt        | float[]                  | AsJagged(AsDtype('>f4'))\n",
      "Muon_mvaTTH          | float[]                  | AsJagged(AsDtype('>f4'))\n",
      "Muon_charge          | int32_t[]                | AsJagged(AsDtype('>i4'))\n",
      "Muon_jetIdx          | int32_t[]                | AsJagged(AsDtype('>i4'))\n",
      "Muon_nStations       | int32_t[]                | AsJagged(AsDtype('>i4'))\n",
      "Muon_nTrackerLayers  | int32_t[]                | AsJagged(AsDtype('>i4'))\n",
      "Muon_pdgId           | int32_t[]                | AsJagged(AsDtype('>i4'))\n",
      "Muon_tightCharge     | int32_t[]                | AsJagged(AsDtype('>i4'))\n",
      "Muon_fsrPhotonIdx    | int32_t[]                | AsJagged(AsDtype('>i4'))\n",
      "Muon_highPtId        | uint8_t[]                | AsJagged(AsDtype('uint8'))\n",
      "Muon_highPurity      | bool[]                   | AsJagged(AsDtype('bool'))\n",
      "Muon_inTimeMuon      | bool[]                   | AsJagged(AsDtype('bool'))\n",
      "Muon_isGlobal        | bool[]                   | AsJagged(AsDtype('bool'))\n",
      "Muon_isPFcand        | bool[]                   | AsJagged(AsDtype('bool'))\n",
      "Muon_isStandalone    | bool[]                   | AsJagged(AsDtype('bool'))\n",
      "Muon_isTracker       | bool[]                   | AsJagged(AsDtype('bool'))\n",
      "Muon_jetNDauCharged  | uint8_t[]                | AsJagged(AsDtype('uint8'))\n",
      "Muon_looseId         | bool[]                   | AsJagged(AsDtype('bool'))\n",
      "Muon_mediumId        | bool[]                   | AsJagged(AsDtype('bool'))\n",
      "Muon_mediumPromptId  | bool[]                   | AsJagged(AsDtype('bool'))\n",
      "Muon_miniIsoId       | uint8_t[]                | AsJagged(AsDtype('uint8'))\n",
      "Muon_multiIsoId      | uint8_t[]                | AsJagged(AsDtype('uint8'))\n",
      "Muon_mvaId           | uint8_t[]                | AsJagged(AsDtype('uint8'))\n",
      "Muon_mvaLowPtId      | uint8_t[]                | AsJagged(AsDtype('uint8'))\n",
      "Muon_pfIsoId         | uint8_t[]                | AsJagged(AsDtype('uint8'))\n",
      "Muon_puppiIsoId      | uint8_t[]                | AsJagged(AsDtype('uint8'))\n",
      "Muon_softId          | bool[]                   | AsJagged(AsDtype('bool'))\n",
      "Muon_softMvaId       | bool[]                   | AsJagged(AsDtype('bool'))\n",
      "Muon_tightId         | bool[]                   | AsJagged(AsDtype('bool'))\n",
      "Muon_tkIsoId         | uint8_t[]                | AsJagged(AsDtype('uint8'))\n",
      "Muon_triggerIdLoose  | bool[]                   | AsJagged(AsDtype('bool'))\n",
      "nPhoton              | uint32_t                 | AsDtype('>u4')\n",
      "Photon_dEscaleDown   | float[]                  | AsJagged(AsDtype('>f4'))\n",
      "Photon_dEscaleUp     | float[]                  | AsJagged(AsDtype('>f4'))\n",
      "Photon_dEsigmaDown   | float[]                  | AsJagged(AsDtype('>f4'))\n",
      "Photon_dEsigmaUp     | float[]                  | AsJagged(AsDtype('>f4'))\n",
      "Photon_eCorr         | float[]                  | AsJagged(AsDtype('>f4'))\n",
      "Photon_energyErr     | float[]                  | AsJagged(AsDtype('>f4'))\n",
      "Photon_eta           | float[]                  | AsJagged(AsDtype('>f4'))\n",
      "Photon_hoe           | float[]                  | AsJagged(AsDtype('>f4'))\n",
      "Photon_mass          | float[]                  | AsJagged(AsDtype('>f4'))\n",
      "Photon_mvaID         | float[]                  | AsJagged(AsDtype('>f4'))\n",
      "Photon_mvaID_Fall... | float[]                  | AsJagged(AsDtype('>f4'))\n",
      "Photon_pfRelIso03... | float[]                  | AsJagged(AsDtype('>f4'))\n",
      "Photon_pfRelIso03... | float[]                  | AsJagged(AsDtype('>f4'))\n",
      "Photon_phi           | float[]                  | AsJagged(AsDtype('>f4'))\n",
      "Photon_pt            | float[]                  | AsJagged(AsDtype('>f4'))\n",
      "Photon_r9            | float[]                  | AsJagged(AsDtype('>f4'))\n",
      "Photon_sieie         | float[]                  | AsJagged(AsDtype('>f4'))\n",
      "Photon_charge        | int32_t[]                | AsJagged(AsDtype('>i4'))\n",
      "Photon_cutBased      | int32_t[]                | AsJagged(AsDtype('>i4'))\n",
      "Photon_cutBased_F... | int32_t[]                | AsJagged(AsDtype('>i4'))\n",
      "Photon_electronIdx   | int32_t[]                | AsJagged(AsDtype('>i4'))\n",
      "Photon_jetIdx        | int32_t[]                | AsJagged(AsDtype('>i4'))\n",
      "Photon_pdgId         | int32_t[]                | AsJagged(AsDtype('>i4'))\n",
      "Photon_vidNestedW... | int32_t[]                | AsJagged(AsDtype('>i4'))\n",
      "Photon_electronVeto  | bool[]                   | AsJagged(AsDtype('bool'))\n",
      "Photon_isScEtaEB     | bool[]                   | AsJagged(AsDtype('bool'))\n",
      "Photon_isScEtaEE     | bool[]                   | AsJagged(AsDtype('bool'))\n",
      "Photon_mvaID_WP80    | bool[]                   | AsJagged(AsDtype('bool'))\n",
      "Photon_mvaID_WP90    | bool[]                   | AsJagged(AsDtype('bool'))\n",
      "Photon_pixelSeed     | bool[]                   | AsJagged(AsDtype('bool'))\n",
      "Photon_seedGain      | uint8_t[]                | AsJagged(AsDtype('uint8'))\n",
      "Pileup_nTrueInt      | float                    | AsDtype('>f4')\n",
      "Pileup_pudensity     | float                    | AsDtype('>f4')\n",
      "Pileup_gpudensity    | float                    | AsDtype('>f4')\n",
      "Pileup_nPU           | int32_t                  | AsDtype('>i4')\n",
      "Pileup_sumEOOT       | int32_t                  | AsDtype('>i4')\n",
      "Pileup_sumLOOT       | int32_t                  | AsDtype('>i4')\n",
      "PuppiMET_phi         | float                    | AsDtype('>f4')\n",
      "PuppiMET_phiJERDown  | float                    | AsDtype('>f4')\n",
      "PuppiMET_phiJERUp    | float                    | AsDtype('>f4')\n",
      "PuppiMET_phiJESDown  | float                    | AsDtype('>f4')\n",
      "PuppiMET_phiJESUp    | float                    | AsDtype('>f4')\n",
      "PuppiMET_phiUnclu... | float                    | AsDtype('>f4')\n",
      "PuppiMET_phiUnclu... | float                    | AsDtype('>f4')\n",
      "PuppiMET_pt          | float                    | AsDtype('>f4')\n",
      "PuppiMET_ptJERDown   | float                    | AsDtype('>f4')\n",
      "PuppiMET_ptJERUp     | float                    | AsDtype('>f4')\n",
      "PuppiMET_ptJESDown   | float                    | AsDtype('>f4')\n",
      "PuppiMET_ptJESUp     | float                    | AsDtype('>f4')\n",
      "PuppiMET_ptUnclus... | float                    | AsDtype('>f4')\n",
      "PuppiMET_ptUnclus... | float                    | AsDtype('>f4')\n",
      "PuppiMET_sumEt       | float                    | AsDtype('>f4')\n",
      "RawMET_phi           | float                    | AsDtype('>f4')\n",
      "RawMET_pt            | float                    | AsDtype('>f4')\n",
      "RawMET_sumEt         | float                    | AsDtype('>f4')\n",
      "RawPuppiMET_phi      | float                    | AsDtype('>f4')\n",
      "RawPuppiMET_pt       | float                    | AsDtype('>f4')\n",
      "RawPuppiMET_sumEt    | float                    | AsDtype('>f4')\n",
      "fixedGridRhoFastj... | float                    | AsDtype('>f4')\n",
      "fixedGridRhoFastj... | float                    | AsDtype('>f4')\n",
      "fixedGridRhoFastj... | float                    | AsDtype('>f4')\n",
      "fixedGridRhoFastj... | float                    | AsDtype('>f4')\n",
      "fixedGridRhoFastj... | float                    | AsDtype('>f4')\n",
      "nGenDressedLepton    | uint32_t                 | AsDtype('>u4')\n",
      "GenDressedLepton_eta | float[]                  | AsJagged(AsDtype('>f4'))\n",
      "GenDressedLepton_... | float[]                  | AsJagged(AsDtype('>f4'))\n",
      "GenDressedLepton_phi | float[]                  | AsJagged(AsDtype('>f4'))\n",
      "GenDressedLepton_pt  | float[]                  | AsJagged(AsDtype('>f4'))\n",
      "GenDressedLepton_... | int32_t[]                | AsJagged(AsDtype('>i4'))\n",
      "GenDressedLepton_... | bool[]                   | AsJagged(AsDtype('bool'))\n",
      "nGenIsolatedPhoton   | uint32_t                 | AsDtype('>u4')\n",
      "GenIsolatedPhoton... | float[]                  | AsJagged(AsDtype('>f4'))\n",
      "GenIsolatedPhoton... | float[]                  | AsJagged(AsDtype('>f4'))\n",
      "GenIsolatedPhoton... | float[]                  | AsJagged(AsDtype('>f4'))\n",
      "GenIsolatedPhoton_pt | float[]                  | AsJagged(AsDtype('>f4'))\n",
      "nSoftActivityJet     | uint32_t                 | AsDtype('>u4')\n",
      "SoftActivityJet_eta  | float[]                  | AsJagged(AsDtype('>f4'))\n",
      "SoftActivityJet_phi  | float[]                  | AsJagged(AsDtype('>f4'))\n",
      "SoftActivityJet_pt   | float[]                  | AsJagged(AsDtype('>f4'))\n",
      "SoftActivityJetHT    | float                    | AsDtype('>f4')\n",
      "SoftActivityJetHT10  | float                    | AsDtype('>f4')\n",
      "SoftActivityJetHT2   | float                    | AsDtype('>f4')\n",
      "SoftActivityJetHT5   | float                    | AsDtype('>f4')\n",
      "SoftActivityJetNj... | int32_t                  | AsDtype('>i4')\n",
      "SoftActivityJetNj... | int32_t                  | AsDtype('>i4')\n",
      "SoftActivityJetNj... | int32_t                  | AsDtype('>i4')\n",
      "nSubJet              | uint32_t                 | AsDtype('>u4')\n",
      "SubJet_btagCSVV2     | float[]                  | AsJagged(AsDtype('>f4'))\n",
      "SubJet_btagDeepB     | float[]                  | AsJagged(AsDtype('>f4'))\n",
      "SubJet_eta           | float[]                  | AsJagged(AsDtype('>f4'))\n",
      "SubJet_mass          | float[]                  | AsJagged(AsDtype('>f4'))\n",
      "SubJet_n2b1          | float[]                  | AsJagged(AsDtype('>f4'))\n",
      "SubJet_n3b1          | float[]                  | AsJagged(AsDtype('>f4'))\n",
      "SubJet_phi           | float[]                  | AsJagged(AsDtype('>f4'))\n",
      "SubJet_pt            | float[]                  | AsJagged(AsDtype('>f4'))\n",
      "SubJet_rawFactor     | float[]                  | AsJagged(AsDtype('>f4'))\n",
      "SubJet_tau1          | float[]                  | AsJagged(AsDtype('>f4'))\n",
      "SubJet_tau2          | float[]                  | AsJagged(AsDtype('>f4'))\n",
      "SubJet_tau3          | float[]                  | AsJagged(AsDtype('>f4'))\n",
      "SubJet_tau4          | float[]                  | AsJagged(AsDtype('>f4'))\n",
      "nTau                 | uint32_t                 | AsDtype('>u4')\n",
      "Tau_chargedIso       | float[]                  | AsJagged(AsDtype('>f4'))\n",
      "Tau_dxy              | float[]                  | AsJagged(AsDtype('>f4'))\n",
      "Tau_dz               | float[]                  | AsJagged(AsDtype('>f4'))\n",
      "Tau_eta              | float[]                  | AsJagged(AsDtype('>f4'))\n",
      "Tau_leadTkDeltaEta   | float[]                  | AsJagged(AsDtype('>f4'))\n",
      "Tau_leadTkDeltaPhi   | float[]                  | AsJagged(AsDtype('>f4'))\n",
      "Tau_leadTkPtOverT... | float[]                  | AsJagged(AsDtype('>f4'))\n",
      "Tau_mass             | float[]                  | AsJagged(AsDtype('>f4'))\n",
      "Tau_neutralIso       | float[]                  | AsJagged(AsDtype('>f4'))\n",
      "Tau_phi              | float[]                  | AsJagged(AsDtype('>f4'))\n",
      "Tau_photonsOutsid... | float[]                  | AsJagged(AsDtype('>f4'))\n",
      "Tau_pt               | float[]                  | AsJagged(AsDtype('>f4'))\n",
      "Tau_puCorr           | float[]                  | AsJagged(AsDtype('>f4'))\n",
      "Tau_rawDeepTau201... | float[]                  | AsJagged(AsDtype('>f4'))\n",
      "Tau_rawDeepTau201... | float[]                  | AsJagged(AsDtype('>f4'))\n",
      "Tau_rawDeepTau201... | float[]                  | AsJagged(AsDtype('>f4'))\n",
      "Tau_rawIso           | float[]                  | AsJagged(AsDtype('>f4'))\n",
      "Tau_rawIsodR03       | float[]                  | AsJagged(AsDtype('>f4'))\n",
      "Tau_charge           | int32_t[]                | AsJagged(AsDtype('>i4'))\n",
      "Tau_decayMode        | int32_t[]                | AsJagged(AsDtype('>i4'))\n",
      "Tau_jetIdx           | int32_t[]                | AsJagged(AsDtype('>i4'))\n",
      "Tau_idAntiEleDead... | bool[]                   | AsJagged(AsDtype('bool'))\n",
      "Tau_idAntiMu         | uint8_t[]                | AsJagged(AsDtype('uint8'))\n",
      "Tau_idDecayModeOl... | bool[]                   | AsJagged(AsDtype('bool'))\n",
      "Tau_idDeepTau2017... | uint8_t[]                | AsJagged(AsDtype('uint8'))\n",
      "Tau_idDeepTau2017... | uint8_t[]                | AsJagged(AsDtype('uint8'))\n",
      "Tau_idDeepTau2017... | uint8_t[]                | AsJagged(AsDtype('uint8'))\n",
      "TkMET_phi            | float                    | AsDtype('>f4')\n",
      "TkMET_pt             | float                    | AsDtype('>f4')\n",
      "TkMET_sumEt          | float                    | AsDtype('>f4')\n",
      "nTrigObj             | uint32_t                 | AsDtype('>u4')\n",
      "TrigObj_pt           | float[]                  | AsJagged(AsDtype('>f4'))\n",
      "TrigObj_eta          | float[]                  | AsJagged(AsDtype('>f4'))\n",
      "TrigObj_phi          | float[]                  | AsJagged(AsDtype('>f4'))\n",
      "TrigObj_l1pt         | float[]                  | AsJagged(AsDtype('>f4'))\n",
      "TrigObj_l1pt_2       | float[]                  | AsJagged(AsDtype('>f4'))\n",
      "TrigObj_l2pt         | float[]                  | AsJagged(AsDtype('>f4'))\n",
      "TrigObj_id           | int32_t[]                | AsJagged(AsDtype('>i4'))\n",
      "TrigObj_l1iso        | int32_t[]                | AsJagged(AsDtype('>i4'))\n",
      "TrigObj_l1charge     | int32_t[]                | AsJagged(AsDtype('>i4'))\n",
      "TrigObj_filterBits   | int32_t[]                | AsJagged(AsDtype('>i4'))\n",
      "genTtbarId           | int32_t                  | AsDtype('>i4')\n",
      "nOtherPV             | uint32_t                 | AsDtype('>u4')\n",
      "OtherPV_z            | float[]                  | AsJagged(AsDtype('>f4'))\n",
      "PV_ndof              | float                    | AsDtype('>f4')\n",
      "PV_x                 | float                    | AsDtype('>f4')\n",
      "PV_y                 | float                    | AsDtype('>f4')\n",
      "PV_z                 | float                    | AsDtype('>f4')\n",
      "PV_chi2              | float                    | AsDtype('>f4')\n",
      "PV_score             | float                    | AsDtype('>f4')\n",
      "PV_npvs              | int32_t                  | AsDtype('>i4')\n",
      "PV_npvsGood          | int32_t                  | AsDtype('>i4')\n",
      "nSV                  | uint32_t                 | AsDtype('>u4')\n",
      "SV_dlen              | float[]                  | AsJagged(AsDtype('>f4'))\n",
      "SV_dlenSig           | float[]                  | AsJagged(AsDtype('>f4'))\n",
      "SV_dxy               | float[]                  | AsJagged(AsDtype('>f4'))\n",
      "SV_dxySig            | float[]                  | AsJagged(AsDtype('>f4'))\n",
      "SV_pAngle            | float[]                  | AsJagged(AsDtype('>f4'))\n",
      "SV_charge            | int32_t[]                | AsJagged(AsDtype('>i4'))\n",
      "boostedTau_genPar... | int32_t[]                | AsJagged(AsDtype('>i4'))\n",
      "boostedTau_genPar... | uint8_t[]                | AsJagged(AsDtype('uint8'))\n",
      "Electron_genPartIdx  | int32_t[]                | AsJagged(AsDtype('>i4'))\n",
      "Electron_genPartFlav | uint8_t[]                | AsJagged(AsDtype('uint8'))\n",
      "FatJet_genJetAK8Idx  | int32_t[]                | AsJagged(AsDtype('>i4'))\n",
      "FatJet_hadronFlavour | int32_t[]                | AsJagged(AsDtype('>i4'))\n",
      "FatJet_nBHadrons     | uint8_t[]                | AsJagged(AsDtype('uint8'))\n",
      "FatJet_nCHadrons     | uint8_t[]                | AsJagged(AsDtype('uint8'))\n",
      "GenJetAK8_partonF... | int32_t[]                | AsJagged(AsDtype('>i4'))\n",
      "GenJetAK8_hadronF... | uint8_t[]                | AsJagged(AsDtype('uint8'))\n",
      "GenJet_partonFlavour | int32_t[]                | AsJagged(AsDtype('>i4'))\n",
      "GenJet_hadronFlavour | uint8_t[]                | AsJagged(AsDtype('uint8'))\n",
      "GenVtx_t0            | float                    | AsDtype('>f4')\n",
      "Jet_genJetIdx        | int32_t[]                | AsJagged(AsDtype('>i4'))\n",
      "Jet_hadronFlavour    | int32_t[]                | AsJagged(AsDtype('>i4'))\n",
      "Jet_partonFlavour    | int32_t[]                | AsJagged(AsDtype('>i4'))\n",
      "LowPtElectron_gen... | int32_t[]                | AsJagged(AsDtype('>i4'))\n",
      "LowPtElectron_gen... | uint8_t[]                | AsJagged(AsDtype('uint8'))\n",
      "Muon_genPartIdx      | int32_t[]                | AsJagged(AsDtype('>i4'))\n",
      "Muon_genPartFlav     | uint8_t[]                | AsJagged(AsDtype('uint8'))\n",
      "Photon_genPartIdx    | int32_t[]                | AsJagged(AsDtype('>i4'))\n",
      "Photon_genPartFlav   | uint8_t[]                | AsJagged(AsDtype('uint8'))\n",
      "MET_fiducialGenPhi   | float                    | AsDtype('>f4')\n",
      "MET_fiducialGenPt    | float                    | AsDtype('>f4')\n",
      "Electron_cleanmask   | uint8_t[]                | AsJagged(AsDtype('uint8'))\n",
      "Jet_cleanmask        | uint8_t[]                | AsJagged(AsDtype('uint8'))\n",
      "Muon_cleanmask       | uint8_t[]                | AsJagged(AsDtype('uint8'))\n",
      "Photon_cleanmask     | uint8_t[]                | AsJagged(AsDtype('uint8'))\n",
      "Tau_cleanmask        | uint8_t[]                | AsJagged(AsDtype('uint8'))\n",
      "SubJet_hadronFlavour | int32_t[]                | AsJagged(AsDtype('>i4'))\n",
      "SubJet_nBHadrons     | uint8_t[]                | AsJagged(AsDtype('uint8'))\n",
      "SubJet_nCHadrons     | uint8_t[]                | AsJagged(AsDtype('uint8'))\n",
      "SV_chi2              | float[]                  | AsJagged(AsDtype('>f4'))\n",
      "SV_eta               | float[]                  | AsJagged(AsDtype('>f4'))\n",
      "SV_mass              | float[]                  | AsJagged(AsDtype('>f4'))\n",
      "SV_ndof              | float[]                  | AsJagged(AsDtype('>f4'))\n",
      "SV_phi               | float[]                  | AsJagged(AsDtype('>f4'))\n",
      "SV_pt                | float[]                  | AsJagged(AsDtype('>f4'))\n",
      "SV_x                 | float[]                  | AsJagged(AsDtype('>f4'))\n",
      "SV_y                 | float[]                  | AsJagged(AsDtype('>f4'))\n",
      "SV_z                 | float[]                  | AsJagged(AsDtype('>f4'))\n",
      "SV_ntracks           | uint8_t[]                | AsJagged(AsDtype('uint8'))\n",
      "Tau_genPartIdx       | int32_t[]                | AsJagged(AsDtype('>i4'))\n",
      "Tau_genPartFlav      | uint8_t[]                | AsJagged(AsDtype('uint8'))\n",
      "L1_AlwaysTrue        | bool                     | AsDtype('bool')\n",
      "L1_BRIL_TRIG0_AND    | bool                     | AsDtype('bool')\n",
      "L1_BRIL_TRIG0_Fst... | bool                     | AsDtype('bool')\n",
      "L1_BRIL_TRIG0_OR     | bool                     | AsDtype('bool')\n",
      "L1_BRIL_TRIG0_del... | bool                     | AsDtype('bool')\n",
      "L1_BeamGasB1         | bool                     | AsDtype('bool')\n",
      "L1_BeamGasB2         | bool                     | AsDtype('bool')\n",
      "L1_BeamGasMinus      | bool                     | AsDtype('bool')\n",
      "L1_BeamGasPlus       | bool                     | AsDtype('bool')\n",
      "L1_BptxMinus         | bool                     | AsDtype('bool')\n",
      "L1_BptxOR            | bool                     | AsDtype('bool')\n",
      "L1_BptxPlus          | bool                     | AsDtype('bool')\n",
      "L1_BptxXOR           | bool                     | AsDtype('bool')\n",
      "L1_DoubleEG6_HTT255  | bool                     | AsDtype('bool')\n",
      "L1_DoubleEG_15_10    | bool                     | AsDtype('bool')\n",
      "L1_DoubleEG_18_17    | bool                     | AsDtype('bool')\n",
      "L1_DoubleEG_20_18    | bool                     | AsDtype('bool')\n",
      "L1_DoubleEG_22_10    | bool                     | AsDtype('bool')\n",
      "L1_DoubleEG_22_12    | bool                     | AsDtype('bool')\n",
      "L1_DoubleEG_22_15    | bool                     | AsDtype('bool')\n",
      "L1_DoubleEG_23_10    | bool                     | AsDtype('bool')\n",
      "L1_DoubleEG_24_17    | bool                     | AsDtype('bool')\n",
      "L1_DoubleEG_25_12    | bool                     | AsDtype('bool')\n",
      "L1_DoubleIsoTau28er  | bool                     | AsDtype('bool')\n",
      "L1_DoubleIsoTau30er  | bool                     | AsDtype('bool')\n",
      "L1_DoubleIsoTau32er  | bool                     | AsDtype('bool')\n",
      "L1_DoubleIsoTau33er  | bool                     | AsDtype('bool')\n",
      "L1_DoubleIsoTau34er  | bool                     | AsDtype('bool')\n",
      "L1_DoubleIsoTau35er  | bool                     | AsDtype('bool')\n",
      "L1_DoubleIsoTau36er  | bool                     | AsDtype('bool')\n",
      "L1_DoubleJet12_Fo... | bool                     | AsDtype('bool')\n",
      "L1_DoubleJet16_Fo... | bool                     | AsDtype('bool')\n",
      "L1_DoubleJet8_For... | bool                     | AsDtype('bool')\n",
      "L1_DoubleJetC100     | bool                     | AsDtype('bool')\n",
      "L1_DoubleJetC112     | bool                     | AsDtype('bool')\n",
      "L1_DoubleJetC120     | bool                     | AsDtype('bool')\n",
      "L1_DoubleJetC40      | bool                     | AsDtype('bool')\n",
      "L1_DoubleJetC50      | bool                     | AsDtype('bool')\n",
      "L1_DoubleJetC60      | bool                     | AsDtype('bool')\n",
      "L1_DoubleJetC60_E... | bool                     | AsDtype('bool')\n",
      "L1_DoubleJetC80      | bool                     | AsDtype('bool')\n",
      "L1_DoubleMu0         | bool                     | AsDtype('bool')\n",
      "L1_DoubleMu0_ETM40   | bool                     | AsDtype('bool')\n",
      "L1_DoubleMu0_ETM55   | bool                     | AsDtype('bool')\n",
      "L1_DoubleMu0er1p4... | bool                     | AsDtype('bool')\n",
      "L1_DoubleMu0er1p6... | bool                     | AsDtype('bool')\n",
      "L1_DoubleMu0er1p6... | bool                     | AsDtype('bool')\n",
      "L1_DoubleMu7_EG14    | bool                     | AsDtype('bool')\n",
      "L1_DoubleMu7_EG7     | bool                     | AsDtype('bool')\n",
      "L1_DoubleMuOpen      | bool                     | AsDtype('bool')\n",
      "L1_DoubleMu_10_0_... | bool                     | AsDtype('bool')\n",
      "L1_DoubleMu_10_3p5   | bool                     | AsDtype('bool')\n",
      "L1_DoubleMu_10_Open  | bool                     | AsDtype('bool')\n",
      "L1_DoubleMu_11_4     | bool                     | AsDtype('bool')\n",
      "L1_DoubleMu_12_5     | bool                     | AsDtype('bool')\n",
      "L1_DoubleMu_12_8     | bool                     | AsDtype('bool')\n",
      "L1_DoubleMu_13_6     | bool                     | AsDtype('bool')\n",
      "L1_DoubleMu_15_5     | bool                     | AsDtype('bool')\n",
      "L1_DoubleTau50er     | bool                     | AsDtype('bool')\n",
      "L1_EG25er_HTT125     | bool                     | AsDtype('bool')\n",
      "L1_EG27er_HTT200     | bool                     | AsDtype('bool')\n",
      "L1_ETM100            | bool                     | AsDtype('bool')\n",
      "L1_ETM120            | bool                     | AsDtype('bool')\n",
      "L1_ETM30             | bool                     | AsDtype('bool')\n",
      "L1_ETM40             | bool                     | AsDtype('bool')\n",
      "L1_ETM50             | bool                     | AsDtype('bool')\n",
      "L1_ETM60             | bool                     | AsDtype('bool')\n",
      "L1_ETM70             | bool                     | AsDtype('bool')\n",
      "L1_ETM75             | bool                     | AsDtype('bool')\n",
      "L1_ETM75_Jet60_dP... | bool                     | AsDtype('bool')\n",
      "L1_ETM80             | bool                     | AsDtype('bool')\n",
      "L1_ETM85             | bool                     | AsDtype('bool')\n",
      "L1_ETM90             | bool                     | AsDtype('bool')\n",
      "L1_ETM95             | bool                     | AsDtype('bool')\n",
      "L1_ETT25             | bool                     | AsDtype('bool')\n",
      "L1_ETT35_BptxAND     | bool                     | AsDtype('bool')\n",
      "L1_ETT40_BptxAND     | bool                     | AsDtype('bool')\n",
      "L1_ETT50_BptxAND     | bool                     | AsDtype('bool')\n",
      "L1_ETT60_BptxAND     | bool                     | AsDtype('bool')\n",
      "L1_FirstBunchAfte... | bool                     | AsDtype('bool')\n",
      "L1_FirstBunchInTrain | bool                     | AsDtype('bool')\n",
      "L1_HTM100            | bool                     | AsDtype('bool')\n",
      "L1_HTM120            | bool                     | AsDtype('bool')\n",
      "L1_HTM130            | bool                     | AsDtype('bool')\n",
      "L1_HTM140            | bool                     | AsDtype('bool')\n",
      "L1_HTM150            | bool                     | AsDtype('bool')\n",
      "L1_HTM50             | bool                     | AsDtype('bool')\n",
      "L1_HTM60_HTT260      | bool                     | AsDtype('bool')\n",
      "L1_HTM70             | bool                     | AsDtype('bool')\n",
      "L1_HTM80             | bool                     | AsDtype('bool')\n",
      "L1_HTM80_HTT220      | bool                     | AsDtype('bool')\n",
      "L1_HTT120            | bool                     | AsDtype('bool')\n",
      "L1_HTT160            | bool                     | AsDtype('bool')\n",
      "L1_HTT200            | bool                     | AsDtype('bool')\n",
      "L1_HTT220            | bool                     | AsDtype('bool')\n",
      "L1_HTT240            | bool                     | AsDtype('bool')\n",
      "L1_HTT255            | bool                     | AsDtype('bool')\n",
      "L1_HTT270            | bool                     | AsDtype('bool')\n",
      "L1_HTT280            | bool                     | AsDtype('bool')\n",
      "L1_HTT300            | bool                     | AsDtype('bool')\n",
      "L1_HTT320            | bool                     | AsDtype('bool')\n",
      "L1_IsoEG18er_IsoT... | bool                     | AsDtype('bool')\n",
      "L1_IsoEG20er_IsoT... | bool                     | AsDtype('bool')\n",
      "L1_IsoEG22er_IsoT... | bool                     | AsDtype('bool')\n",
      "L1_IsoEG22er_Tau2... | bool                     | AsDtype('bool')\n",
      "L1_IsolatedBunch     | bool                     | AsDtype('bool')\n",
      "L1_Jet32_DoubleMu... | bool                     | AsDtype('bool')\n",
      "L1_Jet32_Mu0_EG10... | bool                     | AsDtype('bool')\n",
      "L1_MU20_EG15         | bool                     | AsDtype('bool')\n",
      "L1_MinimumBiasHF0... | bool                     | AsDtype('bool')\n",
      "L1_MinimumBiasHF0... | bool                     | AsDtype('bool')\n",
      "L1_MinimumBiasHF0_OR | bool                     | AsDtype('bool')\n",
      "L1_MinimumBiasHF0... | bool                     | AsDtype('bool')\n",
      "L1_MinimumBiasHF1... | bool                     | AsDtype('bool')\n",
      "L1_MinimumBiasHF1... | bool                     | AsDtype('bool')\n",
      "L1_MinimumBiasHF1_OR | bool                     | AsDtype('bool')\n",
      "L1_MinimumBiasHF1... | bool                     | AsDtype('bool')\n",
      "L1_Mu0er_ETM40       | bool                     | AsDtype('bool')\n",
      "L1_Mu0er_ETM55       | bool                     | AsDtype('bool')\n",
      "L1_Mu10er_ETM30      | bool                     | AsDtype('bool')\n",
      "L1_Mu10er_ETM50      | bool                     | AsDtype('bool')\n",
      "L1_Mu12_EG10         | bool                     | AsDtype('bool')\n",
      "L1_Mu14er_ETM30      | bool                     | AsDtype('bool')\n",
      "L1_Mu16er_Tau20er    | bool                     | AsDtype('bool')\n",
      "L1_Mu16er_Tau24er    | bool                     | AsDtype('bool')\n",
      "L1_Mu18er_IsoTau26er | bool                     | AsDtype('bool')\n",
      "L1_Mu18er_Tau20er    | bool                     | AsDtype('bool')\n",
      "L1_Mu18er_Tau24er    | bool                     | AsDtype('bool')\n",
      "L1_Mu20_EG10         | bool                     | AsDtype('bool')\n",
      "L1_Mu20_EG17         | bool                     | AsDtype('bool')\n",
      "L1_Mu20_IsoEG6       | bool                     | AsDtype('bool')\n",
      "L1_Mu20er_IsoTau26er | bool                     | AsDtype('bool')\n",
      "L1_Mu22er_IsoTau26er | bool                     | AsDtype('bool')\n",
      "L1_Mu23_EG10         | bool                     | AsDtype('bool')\n",
      "L1_Mu23_IsoEG10      | bool                     | AsDtype('bool')\n",
      "L1_Mu25er_IsoTau26er | bool                     | AsDtype('bool')\n",
      "L1_Mu3_JetC120       | bool                     | AsDtype('bool')\n",
      "L1_Mu3_JetC120_dE... | bool                     | AsDtype('bool')\n",
      "L1_Mu3_JetC16        | bool                     | AsDtype('bool')\n",
      "L1_Mu3_JetC16_dEt... | bool                     | AsDtype('bool')\n",
      "L1_Mu3_JetC60        | bool                     | AsDtype('bool')\n",
      "L1_Mu3_JetC60_dEt... | bool                     | AsDtype('bool')\n",
      "L1_Mu5_EG15          | bool                     | AsDtype('bool')\n",
      "L1_Mu5_EG20          | bool                     | AsDtype('bool')\n",
      "L1_Mu5_EG23          | bool                     | AsDtype('bool')\n",
      "L1_Mu5_IsoEG18       | bool                     | AsDtype('bool')\n",
      "L1_Mu5_IsoEG20       | bool                     | AsDtype('bool')\n",
      "L1_Mu6_DoubleEG10    | bool                     | AsDtype('bool')\n",
      "L1_Mu6_DoubleEG17    | bool                     | AsDtype('bool')\n",
      "L1_Mu6_HTT200        | bool                     | AsDtype('bool')\n",
      "L1_Mu8_HTT150        | bool                     | AsDtype('bool')\n",
      "L1_NotBptxOR         | bool                     | AsDtype('bool')\n",
      "L1_QuadJetC36_Tau52  | bool                     | AsDtype('bool')\n",
      "L1_QuadJetC40        | bool                     | AsDtype('bool')\n",
      "L1_QuadJetC50        | bool                     | AsDtype('bool')\n",
      "L1_QuadJetC60        | bool                     | AsDtype('bool')\n",
      "L1_QuadMu0           | bool                     | AsDtype('bool')\n",
      "L1_SingleEG10        | bool                     | AsDtype('bool')\n",
      "L1_SingleEG15        | bool                     | AsDtype('bool')\n",
      "L1_SingleEG18        | bool                     | AsDtype('bool')\n",
      "L1_SingleEG24        | bool                     | AsDtype('bool')\n",
      "L1_SingleEG26        | bool                     | AsDtype('bool')\n",
      "L1_SingleEG28        | bool                     | AsDtype('bool')\n",
      "L1_SingleEG2_BptxAND | bool                     | AsDtype('bool')\n",
      "L1_SingleEG30        | bool                     | AsDtype('bool')\n",
      "L1_SingleEG32        | bool                     | AsDtype('bool')\n",
      "L1_SingleEG34        | bool                     | AsDtype('bool')\n",
      "L1_SingleEG36        | bool                     | AsDtype('bool')\n",
      "L1_SingleEG38        | bool                     | AsDtype('bool')\n",
      "L1_SingleEG40        | bool                     | AsDtype('bool')\n",
      "L1_SingleEG45        | bool                     | AsDtype('bool')\n",
      "L1_SingleEG5         | bool                     | AsDtype('bool')\n",
      "L1_SingleIsoEG18     | bool                     | AsDtype('bool')\n",
      "L1_SingleIsoEG18er   | bool                     | AsDtype('bool')\n",
      "L1_SingleIsoEG20     | bool                     | AsDtype('bool')\n",
      "L1_SingleIsoEG20er   | bool                     | AsDtype('bool')\n",
      "L1_SingleIsoEG22     | bool                     | AsDtype('bool')\n",
      "L1_SingleIsoEG22er   | bool                     | AsDtype('bool')\n",
      "L1_SingleIsoEG24     | bool                     | AsDtype('bool')\n",
      "L1_SingleIsoEG24er   | bool                     | AsDtype('bool')\n",
      "L1_SingleIsoEG26     | bool                     | AsDtype('bool')\n",
      "L1_SingleIsoEG26er   | bool                     | AsDtype('bool')\n",
      "L1_SingleIsoEG28     | bool                     | AsDtype('bool')\n",
      "L1_SingleIsoEG28er   | bool                     | AsDtype('bool')\n",
      "L1_SingleIsoEG30     | bool                     | AsDtype('bool')\n",
      "L1_SingleIsoEG30er   | bool                     | AsDtype('bool')\n",
      "L1_SingleIsoEG32     | bool                     | AsDtype('bool')\n",
      "L1_SingleIsoEG32er   | bool                     | AsDtype('bool')\n",
      "L1_SingleIsoEG34     | bool                     | AsDtype('bool')\n",
      "L1_SingleIsoEG34er   | bool                     | AsDtype('bool')\n",
      "L1_SingleIsoEG36     | bool                     | AsDtype('bool')\n",
      "L1_SingleJet120      | bool                     | AsDtype('bool')\n",
      "L1_SingleJet12_Bp... | bool                     | AsDtype('bool')\n",
      "L1_SingleJet140      | bool                     | AsDtype('bool')\n",
      "L1_SingleJet150      | bool                     | AsDtype('bool')\n",
      "L1_SingleJet16       | bool                     | AsDtype('bool')\n",
      "L1_SingleJet160      | bool                     | AsDtype('bool')\n",
      "L1_SingleJet170      | bool                     | AsDtype('bool')\n",
      "L1_SingleJet180      | bool                     | AsDtype('bool')\n",
      "L1_SingleJet20       | bool                     | AsDtype('bool')\n",
      "L1_SingleJet200      | bool                     | AsDtype('bool')\n",
      "L1_SingleJet35       | bool                     | AsDtype('bool')\n",
      "L1_SingleJet60       | bool                     | AsDtype('bool')\n",
      "L1_SingleJet8_Bpt... | bool                     | AsDtype('bool')\n",
      "L1_SingleJet90       | bool                     | AsDtype('bool')\n",
      "L1_SingleJetC20_N... | bool                     | AsDtype('bool')\n",
      "L1_SingleJetC20_N... | bool                     | AsDtype('bool')\n",
      "L1_SingleJetC32_N... | bool                     | AsDtype('bool')\n",
      "L1_SingleJetC32_N... | bool                     | AsDtype('bool')\n",
      "L1_SingleJetC36_N... | bool                     | AsDtype('bool')\n",
      "L1_SingleMu10_LowQ   | bool                     | AsDtype('bool')\n",
      "L1_SingleMu12        | bool                     | AsDtype('bool')\n",
      "L1_SingleMu14        | bool                     | AsDtype('bool')\n",
      "L1_SingleMu14er      | bool                     | AsDtype('bool')\n",
      "L1_SingleMu16        | bool                     | AsDtype('bool')\n",
      "L1_SingleMu16er      | bool                     | AsDtype('bool')\n",
      "L1_SingleMu18        | bool                     | AsDtype('bool')\n",
      "L1_SingleMu18er      | bool                     | AsDtype('bool')\n",
      "L1_SingleMu20        | bool                     | AsDtype('bool')\n",
      "L1_SingleMu20er      | bool                     | AsDtype('bool')\n",
      "L1_SingleMu22        | bool                     | AsDtype('bool')\n",
      "L1_SingleMu22er      | bool                     | AsDtype('bool')\n",
      "L1_SingleMu25        | bool                     | AsDtype('bool')\n",
      "L1_SingleMu25er      | bool                     | AsDtype('bool')\n",
      "L1_SingleMu3         | bool                     | AsDtype('bool')\n",
      "L1_SingleMu30        | bool                     | AsDtype('bool')\n",
      "L1_SingleMu30er      | bool                     | AsDtype('bool')\n",
      "L1_SingleMu5         | bool                     | AsDtype('bool')\n",
      "L1_SingleMu7         | bool                     | AsDtype('bool')\n",
      "L1_SingleMuCosmics   | bool                     | AsDtype('bool')\n",
      "L1_SingleMuOpen      | bool                     | AsDtype('bool')\n",
      "L1_SingleMuOpen_N... | bool                     | AsDtype('bool')\n",
      "L1_SingleMuOpen_N... | bool                     | AsDtype('bool')\n",
      "L1_SingleTau100er    | bool                     | AsDtype('bool')\n",
      "L1_SingleTau120er    | bool                     | AsDtype('bool')\n",
      "L1_SingleTau80er     | bool                     | AsDtype('bool')\n",
      "L1_TripleEG_14_10_8  | bool                     | AsDtype('bool')\n",
      "L1_TripleEG_18_17_8  | bool                     | AsDtype('bool')\n",
      "L1_TripleJet_84_6... | bool                     | AsDtype('bool')\n",
      "L1_TripleJet_88_7... | bool                     | AsDtype('bool')\n",
      "L1_TripleJet_92_7... | bool                     | AsDtype('bool')\n",
      "L1_TripleMu0         | bool                     | AsDtype('bool')\n",
      "L1_TripleMu_5_0_0    | bool                     | AsDtype('bool')\n",
      "L1_TripleMu_5_5_3    | bool                     | AsDtype('bool')\n",
      "L1_ZeroBias          | bool                     | AsDtype('bool')\n",
      "L1_ZeroBias_First... | bool                     | AsDtype('bool')\n",
      "L1_ZeroBias_copy     | bool                     | AsDtype('bool')\n",
      "L1_UnprefireableE... | bool                     | AsDtype('bool')\n",
      "Flag_HBHENoiseFilter | bool                     | AsDtype('bool')\n",
      "Flag_HBHENoiseIso... | bool                     | AsDtype('bool')\n",
      "Flag_CSCTightHalo... | bool                     | AsDtype('bool')\n",
      "Flag_CSCTightHalo... | bool                     | AsDtype('bool')\n",
      "Flag_CSCTightHalo... | bool                     | AsDtype('bool')\n",
      "Flag_globalTightH... | bool                     | AsDtype('bool')\n",
      "Flag_globalSuperT... | bool                     | AsDtype('bool')\n",
      "Flag_HcalStripHal... | bool                     | AsDtype('bool')\n",
      "Flag_hcalLaserEve... | bool                     | AsDtype('bool')\n",
      "Flag_EcalDeadCell... | bool                     | AsDtype('bool')\n",
      "Flag_EcalDeadCell... | bool                     | AsDtype('bool')\n",
      "Flag_ecalBadCalib... | bool                     | AsDtype('bool')\n",
      "Flag_goodVertices    | bool                     | AsDtype('bool')\n",
      "Flag_eeBadScFilter   | bool                     | AsDtype('bool')\n",
      "Flag_ecalLaserCor... | bool                     | AsDtype('bool')\n",
      "Flag_trkPOGFilters   | bool                     | AsDtype('bool')\n",
      "Flag_chargedHadro... | bool                     | AsDtype('bool')\n",
      "Flag_muonBadTrack... | bool                     | AsDtype('bool')\n",
      "Flag_BadChargedCa... | bool                     | AsDtype('bool')\n",
      "Flag_BadPFMuonFilter | bool                     | AsDtype('bool')\n",
      "Flag_BadPFMuonDzF... | bool                     | AsDtype('bool')\n",
      "Flag_hfNoisyHitsF... | bool                     | AsDtype('bool')\n",
      "Flag_BadChargedCa... | bool                     | AsDtype('bool')\n",
      "Flag_BadPFMuonSum... | bool                     | AsDtype('bool')\n",
      "Flag_trkPOG_manys... | bool                     | AsDtype('bool')\n",
      "Flag_trkPOG_tooma... | bool                     | AsDtype('bool')\n",
      "Flag_trkPOG_logEr... | bool                     | AsDtype('bool')\n",
      "Flag_METFilters      | bool                     | AsDtype('bool')\n",
      "L1Reco_step          | bool                     | AsDtype('bool')\n",
      "HLTriggerFirstPath   | bool                     | AsDtype('bool')\n",
      "HLT_AK8PFJet360_T... | bool                     | AsDtype('bool')\n",
      "HLT_AK8PFJet400_T... | bool                     | AsDtype('bool')\n",
      "HLT_AK8PFHT750_Tr... | bool                     | AsDtype('bool')\n",
      "HLT_AK8PFHT800_Tr... | bool                     | AsDtype('bool')\n",
      "HLT_AK8DiPFJet300... | bool                     | AsDtype('bool')\n",
      "HLT_AK8DiPFJet280... | bool                     | AsDtype('bool')\n",
      "HLT_AK8DiPFJet300... | bool                     | AsDtype('bool')\n",
      "HLT_AK8DiPFJet300... | bool                     | AsDtype('bool')\n",
      "HLT_AK8PFHT700_Tr... | bool                     | AsDtype('bool')\n",
      "HLT_AK8PFHT650_Tr... | bool                     | AsDtype('bool')\n",
      "HLT_AK8PFHT600_Tr... | bool                     | AsDtype('bool')\n",
      "HLT_AK8DiPFJet280... | bool                     | AsDtype('bool')\n",
      "HLT_AK8DiPFJet250... | bool                     | AsDtype('bool')\n",
      "HLT_AK8DiPFJet280... | bool                     | AsDtype('bool')\n",
      "HLT_AK8DiPFJet250... | bool                     | AsDtype('bool')\n",
      "HLT_CaloJet260       | bool                     | AsDtype('bool')\n",
      "HLT_CaloJet500_No... | bool                     | AsDtype('bool')\n",
      "HLT_Dimuon13_PsiP... | bool                     | AsDtype('bool')\n",
      "HLT_Dimuon13_Upsilon | bool                     | AsDtype('bool')\n",
      "HLT_Dimuon20_Jpsi    | bool                     | AsDtype('bool')\n",
      "HLT_DoubleEle24_2... | bool                     | AsDtype('bool')\n",
      "HLT_DoubleEle25_C... | bool                     | AsDtype('bool')\n",
      "HLT_DoubleEle33_C... | bool                     | AsDtype('bool')\n",
      "HLT_DoubleEle33_C... | bool                     | AsDtype('bool')\n",
      "HLT_DoubleEle33_C... | bool                     | AsDtype('bool')\n",
      "HLT_DoubleEle33_C... | bool                     | AsDtype('bool')\n",
      "HLT_DoubleMediumC... | bool                     | AsDtype('bool')\n",
      "HLT_DoubleTightCo... | bool                     | AsDtype('bool')\n",
      "HLT_DoubleMediumC... | bool                     | AsDtype('bool')\n",
      "HLT_DoubleTightCo... | bool                     | AsDtype('bool')\n",
      "HLT_DoubleMediumC... | bool                     | AsDtype('bool')\n",
      "HLT_DoubleTightCo... | bool                     | AsDtype('bool')\n",
      "HLT_DoubleMediumI... | bool                     | AsDtype('bool')\n",
      "HLT_DoubleMediumI... | bool                     | AsDtype('bool')\n",
      "HLT_DoubleMediumI... | bool                     | AsDtype('bool')\n",
      "HLT_DoubleEle37_E... | bool                     | AsDtype('bool')\n",
      "HLT_DoubleMu33NoF... | bool                     | AsDtype('bool')\n",
      "HLT_DoubleMu38NoF... | bool                     | AsDtype('bool')\n",
      "HLT_DoubleMu23NoF... | bool                     | AsDtype('bool')\n",
      "HLT_DoubleMu28NoF... | bool                     | AsDtype('bool')\n",
      "HLT_DoubleMu0        | bool                     | AsDtype('bool')\n",
      "HLT_DoubleMu4_3_Bs   | bool                     | AsDtype('bool')\n",
      "HLT_DoubleMu4_3_J... | bool                     | AsDtype('bool')\n",
      "HLT_DoubleMu4_Jps... | bool                     | AsDtype('bool')\n",
      "HLT_DoubleMu4_Low... | bool                     | AsDtype('bool')\n",
      "HLT_DoubleMu3_Trk... | bool                     | AsDtype('bool')\n",
      "HLT_DoubleMu4_Psi... | bool                     | AsDtype('bool')\n",
      "HLT_Mu7p5_L2Mu2_Jpsi | bool                     | AsDtype('bool')\n",
      "HLT_Mu7p5_L2Mu2_U... | bool                     | AsDtype('bool')\n",
      "HLT_Mu7p5_Track2_... | bool                     | AsDtype('bool')\n",
      "HLT_Mu7p5_Track3p... | bool                     | AsDtype('bool')\n",
      "HLT_Mu7p5_Track7_... | bool                     | AsDtype('bool')\n",
      "HLT_Mu7p5_Track2_... | bool                     | AsDtype('bool')\n",
      "HLT_Mu7p5_Track3p... | bool                     | AsDtype('bool')\n",
      "HLT_Mu7p5_Track7_... | bool                     | AsDtype('bool')\n",
      "HLT_Dimuon0er16_J... | bool                     | AsDtype('bool')\n",
      "HLT_Dimuon0er16_J... | bool                     | AsDtype('bool')\n",
      "HLT_Dimuon6_Jpsi_... | bool                     | AsDtype('bool')\n",
      "HLT_Photon150        | bool                     | AsDtype('bool')\n",
      "HLT_Photon90_Calo... | bool                     | AsDtype('bool')\n",
      "HLT_HT250_CaloMET70  | bool                     | AsDtype('bool')\n",
      "HLT_DoublePhoton60   | bool                     | AsDtype('bool')\n",
      "HLT_DoublePhoton85   | bool                     | AsDtype('bool')\n",
      "HLT_Ele17_Ele8_Gsf   | bool                     | AsDtype('bool')\n",
      "HLT_Ele20_eta2p1_... | bool                     | AsDtype('bool')\n",
      "HLT_Ele22_eta2p1_... | bool                     | AsDtype('bool')\n",
      "HLT_Ele22_eta2p1_... | bool                     | AsDtype('bool')\n",
      "HLT_Ele22_eta2p1_... | bool                     | AsDtype('bool')\n",
      "HLT_Ele23_WPLoose... | bool                     | AsDtype('bool')\n",
      "HLT_Ele23_WPLoose... | bool                     | AsDtype('bool')\n",
      "HLT_Ele24_eta2p1_... | bool                     | AsDtype('bool')\n",
      "HLT_Ele24_eta2p1_... | bool                     | AsDtype('bool')\n",
      "HLT_Ele24_eta2p1_... | bool                     | AsDtype('bool')\n",
      "HLT_Ele24_eta2p1_... | bool                     | AsDtype('bool')\n",
      "HLT_Ele25_WPTight... | bool                     | AsDtype('bool')\n",
      "HLT_Ele25_eta2p1_... | bool                     | AsDtype('bool')\n",
      "HLT_Ele25_eta2p1_... | bool                     | AsDtype('bool')\n",
      "HLT_Ele27_WPLoose... | bool                     | AsDtype('bool')\n",
      "HLT_Ele27_WPLoose... | bool                     | AsDtype('bool')\n",
      "HLT_Ele27_WPTight... | bool                     | AsDtype('bool')\n",
      "HLT_Ele27_WPTight... | bool                     | AsDtype('bool')\n",
      "HLT_Ele27_eta2p1_... | bool                     | AsDtype('bool')\n",
      "HLT_Ele27_eta2p1_... | bool                     | AsDtype('bool')\n",
      "HLT_Ele27_eta2p1_... | bool                     | AsDtype('bool')\n",
      "HLT_Ele30_WPTight... | bool                     | AsDtype('bool')\n",
      "HLT_Ele30_eta2p1_... | bool                     | AsDtype('bool')\n",
      "HLT_Ele30_eta2p1_... | bool                     | AsDtype('bool')\n",
      "HLT_Ele32_WPTight... | bool                     | AsDtype('bool')\n",
      "HLT_Ele32_eta2p1_... | bool                     | AsDtype('bool')\n",
      "HLT_Ele32_eta2p1_... | bool                     | AsDtype('bool')\n",
      "HLT_Ele32_eta2p1_... | bool                     | AsDtype('bool')\n",
      "HLT_Ele35_WPLoose... | bool                     | AsDtype('bool')\n",
      "HLT_Ele35_CaloIdV... | bool                     | AsDtype('bool')\n",
      "HLT_Ele36_eta2p1_... | bool                     | AsDtype('bool')\n",
      "HLT_Ele45_WPLoose... | bool                     | AsDtype('bool')\n",
      "HLT_Ele45_WPLoose... | bool                     | AsDtype('bool')\n",
      "HLT_Ele45_CaloIdV... | bool                     | AsDtype('bool')\n",
      "HLT_Ele105_CaloId... | bool                     | AsDtype('bool')\n",
      "HLT_Ele30WP60_SC4... | bool                     | AsDtype('bool')\n",
      "HLT_Ele30WP60_Ele... | bool                     | AsDtype('bool')\n",
      "HLT_HT200            | bool                     | AsDtype('bool')\n",
      "HLT_HT275            | bool                     | AsDtype('bool')\n",
      "HLT_HT325            | bool                     | AsDtype('bool')\n",
      "HLT_HT425            | bool                     | AsDtype('bool')\n",
      "HLT_HT575            | bool                     | AsDtype('bool')\n",
      "HLT_HT410to430       | bool                     | AsDtype('bool')\n",
      "HLT_HT430to450       | bool                     | AsDtype('bool')\n",
      "HLT_HT450to470       | bool                     | AsDtype('bool')\n",
      "HLT_HT470to500       | bool                     | AsDtype('bool')\n",
      "HLT_HT500to550       | bool                     | AsDtype('bool')\n",
      "HLT_HT550to650       | bool                     | AsDtype('bool')\n",
      "HLT_HT650            | bool                     | AsDtype('bool')\n",
      "HLT_Mu16_eta2p1_M... | bool                     | AsDtype('bool')\n",
      "HLT_IsoMu16_eta2p... | bool                     | AsDtype('bool')\n",
      "HLT_IsoMu16_eta2p... | bool                     | AsDtype('bool')\n",
      "HLT_IsoMu17_eta2p1   | bool                     | AsDtype('bool')\n",
      "HLT_IsoMu17_eta2p... | bool                     | AsDtype('bool')\n",
      "HLT_IsoMu17_eta2p... | bool                     | AsDtype('bool')\n",
      "HLT_DoubleIsoMu17... | bool                     | AsDtype('bool')\n",
      "HLT_DoubleIsoMu17... | bool                     | AsDtype('bool')\n",
      "HLT_IsoMu18          | bool                     | AsDtype('bool')\n",
      "HLT_IsoMu19_eta2p... | bool                     | AsDtype('bool')\n",
      "HLT_IsoMu19_eta2p... | bool                     | AsDtype('bool')\n",
      "HLT_IsoMu19_eta2p... | bool                     | AsDtype('bool')\n",
      "HLT_IsoMu19_eta2p... | bool                     | AsDtype('bool')\n",
      "HLT_IsoMu19_eta2p... | bool                     | AsDtype('bool')\n",
      "HLT_IsoMu19_eta2p... | bool                     | AsDtype('bool')\n",
      "HLT_IsoMu21_eta2p... | bool                     | AsDtype('bool')\n",
      "HLT_IsoMu21_eta2p... | bool                     | AsDtype('bool')\n",
      "HLT_IsoMu20          | bool                     | AsDtype('bool')\n",
      "HLT_IsoMu21_eta2p... | bool                     | AsDtype('bool')\n",
      "HLT_IsoMu21_eta2p... | bool                     | AsDtype('bool')\n",
      "HLT_IsoMu21_eta2p... | bool                     | AsDtype('bool')\n",
      "HLT_IsoMu22          | bool                     | AsDtype('bool')\n",
      "HLT_IsoMu22_eta2p1   | bool                     | AsDtype('bool')\n",
      "HLT_IsoMu24          | bool                     | AsDtype('bool')\n",
      "HLT_IsoMu27          | bool                     | AsDtype('bool')\n",
      "HLT_IsoTkMu18        | bool                     | AsDtype('bool')\n",
      "HLT_IsoTkMu20        | bool                     | AsDtype('bool')\n",
      "HLT_IsoTkMu22        | bool                     | AsDtype('bool')\n",
      "HLT_IsoTkMu22_eta2p1 | bool                     | AsDtype('bool')\n",
      "HLT_IsoTkMu24        | bool                     | AsDtype('bool')\n",
      "HLT_IsoTkMu27        | bool                     | AsDtype('bool')\n",
      "HLT_JetE30_NoBPTX3BX | bool                     | AsDtype('bool')\n",
      "HLT_JetE30_NoBPTX    | bool                     | AsDtype('bool')\n",
      "HLT_JetE50_NoBPTX3BX | bool                     | AsDtype('bool')\n",
      "HLT_JetE70_NoBPTX3BX | bool                     | AsDtype('bool')\n",
      "HLT_L1SingleMu18     | bool                     | AsDtype('bool')\n",
      "HLT_L2Mu10           | bool                     | AsDtype('bool')\n",
      "HLT_L1SingleMuOpen   | bool                     | AsDtype('bool')\n",
      "HLT_L1SingleMuOpe... | bool                     | AsDtype('bool')\n",
      "HLT_L2DoubleMu23_... | bool                     | AsDtype('bool')\n",
      "HLT_L2DoubleMu28_... | bool                     | AsDtype('bool')\n",
      "HLT_L2DoubleMu38_... | bool                     | AsDtype('bool')\n",
      "HLT_L2Mu10_NoVert... | bool                     | AsDtype('bool')\n",
      "HLT_L2Mu10_NoVert... | bool                     | AsDtype('bool')\n",
      "HLT_L2Mu45_NoVert... | bool                     | AsDtype('bool')\n",
      "HLT_L2Mu40_NoVert... | bool                     | AsDtype('bool')\n",
      "HLT_LooseIsoPFTau... | bool                     | AsDtype('bool')\n",
      "HLT_LooseIsoPFTau... | bool                     | AsDtype('bool')\n",
      "HLT_LooseIsoPFTau... | bool                     | AsDtype('bool')\n",
      "HLT_LooseIsoPFTau... | bool                     | AsDtype('bool')\n",
      "HLT_LooseIsoPFTau... | bool                     | AsDtype('bool')\n",
      "HLT_PFTau120_eta2p1  | bool                     | AsDtype('bool')\n",
      "HLT_PFTau140_eta2p1  | bool                     | AsDtype('bool')\n",
      "HLT_VLooseIsoPFTa... | bool                     | AsDtype('bool')\n",
      "HLT_VLooseIsoPFTa... | bool                     | AsDtype('bool')\n",
      "HLT_Mu17_Mu8         | bool                     | AsDtype('bool')\n",
      "HLT_Mu17_Mu8_DZ      | bool                     | AsDtype('bool')\n",
      "HLT_Mu17_Mu8_Same... | bool                     | AsDtype('bool')\n",
      "HLT_Mu17_Mu8_Same... | bool                     | AsDtype('bool')\n",
      "HLT_Mu20_Mu10        | bool                     | AsDtype('bool')\n",
      "HLT_Mu20_Mu10_DZ     | bool                     | AsDtype('bool')\n",
      "HLT_Mu20_Mu10_Sam... | bool                     | AsDtype('bool')\n",
      "HLT_Mu20_Mu10_Sam... | bool                     | AsDtype('bool')\n",
      "HLT_Mu17_TkMu8_DZ    | bool                     | AsDtype('bool')\n",
      "HLT_Mu17_TrkIsoVV... | bool                     | AsDtype('bool')\n",
      "HLT_Mu17_TrkIsoVV... | bool                     | AsDtype('bool')\n",
      "HLT_Mu17_TrkIsoVV... | bool                     | AsDtype('bool')\n",
      "HLT_Mu17_TrkIsoVV... | bool                     | AsDtype('bool')\n",
      "HLT_Mu25_TkMu0_dE... | bool                     | AsDtype('bool')\n",
      "HLT_Mu27_TkMu8       | bool                     | AsDtype('bool')\n",
      "HLT_Mu30_TkMu11      | bool                     | AsDtype('bool')\n",
      "HLT_Mu30_eta2p1_P... | bool                     | AsDtype('bool')\n",
      "HLT_Mu40_TkMu11      | bool                     | AsDtype('bool')\n",
      "HLT_Mu40_eta2p1_P... | bool                     | AsDtype('bool')\n",
      "HLT_Mu20             | bool                     | AsDtype('bool')\n",
      "HLT_TkMu17           | bool                     | AsDtype('bool')\n",
      "HLT_TkMu17_TrkIso... | bool                     | AsDtype('bool')\n",
      "HLT_TkMu17_TrkIso... | bool                     | AsDtype('bool')\n",
      "HLT_TkMu20           | bool                     | AsDtype('bool')\n",
      "HLT_Mu24_eta2p1      | bool                     | AsDtype('bool')\n",
      "HLT_TkMu24_eta2p1    | bool                     | AsDtype('bool')\n",
      "HLT_Mu27             | bool                     | AsDtype('bool')\n",
      "HLT_TkMu27           | bool                     | AsDtype('bool')\n",
      "HLT_Mu45_eta2p1      | bool                     | AsDtype('bool')\n",
      "HLT_Mu50             | bool                     | AsDtype('bool')\n",
      "HLT_TkMu50           | bool                     | AsDtype('bool')\n",
      "HLT_Mu38NoFilters... | bool                     | AsDtype('bool')\n",
      "HLT_Mu42NoFilters... | bool                     | AsDtype('bool')\n",
      "HLT_Mu28NoFilters... | bool                     | AsDtype('bool')\n",
      "HLT_Mu33NoFilters... | bool                     | AsDtype('bool')\n",
      "HLT_Mu23NoFilters... | bool                     | AsDtype('bool')\n",
      "HLT_DoubleMu18NoF... | bool                     | AsDtype('bool')\n",
      "HLT_Mu33NoFilters... | bool                     | AsDtype('bool')\n",
      "HLT_Mu33NoFilters... | bool                     | AsDtype('bool')\n",
      "HLT_Mu28NoFilters... | bool                     | AsDtype('bool')\n",
      "HLT_Mu38NoFilters... | bool                     | AsDtype('bool')\n",
      "HLT_Mu38NoFilters... | bool                     | AsDtype('bool')\n",
      "HLT_Mu38NoFilters... | bool                     | AsDtype('bool')\n",
      "HLT_Mu28NoFilters... | bool                     | AsDtype('bool')\n",
      "HLT_PFHT300_PFMET100 | bool                     | AsDtype('bool')\n",
      "HLT_PFHT300_PFMET110 | bool                     | AsDtype('bool')\n",
      "HLT_PFHT550_4JetPt50 | bool                     | AsDtype('bool')\n",
      "HLT_PFHT650_4JetPt50 | bool                     | AsDtype('bool')\n",
      "HLT_PFHT750_4JetPt50 | bool                     | AsDtype('bool')\n",
      "HLT_PFHT750_4JetPt70 | bool                     | AsDtype('bool')\n",
      "HLT_PFHT750_4JetPt80 | bool                     | AsDtype('bool')\n",
      "HLT_PFHT800_4JetPt50 | bool                     | AsDtype('bool')\n",
      "HLT_PFHT850_4JetPt50 | bool                     | AsDtype('bool')\n",
      "HLT_PFJet15_NoCal... | bool                     | AsDtype('bool')\n",
      "HLT_PFJet25_NoCal... | bool                     | AsDtype('bool')\n",
      "HLT_DiPFJet15_NoC... | bool                     | AsDtype('bool')\n",
      "HLT_DiPFJet25_NoC... | bool                     | AsDtype('bool')\n",
      "HLT_DiPFJet15_FBE... | bool                     | AsDtype('bool')\n",
      "HLT_DiPFJet25_FBE... | bool                     | AsDtype('bool')\n",
      "HLT_DiPFJetAve15_... | bool                     | AsDtype('bool')\n",
      "HLT_DiPFJetAve25_... | bool                     | AsDtype('bool')\n",
      "HLT_DiPFJetAve35_... | bool                     | AsDtype('bool')\n",
      "HLT_AK8PFJet40       | bool                     | AsDtype('bool')\n",
      "HLT_AK8PFJet60       | bool                     | AsDtype('bool')\n",
      "HLT_AK8PFJet80       | bool                     | AsDtype('bool')\n",
      "HLT_AK8PFJet140      | bool                     | AsDtype('bool')\n",
      "HLT_AK8PFJet200      | bool                     | AsDtype('bool')\n",
      "HLT_AK8PFJet260      | bool                     | AsDtype('bool')\n",
      "HLT_AK8PFJet320      | bool                     | AsDtype('bool')\n",
      "HLT_AK8PFJet400      | bool                     | AsDtype('bool')\n",
      "HLT_AK8PFJet450      | bool                     | AsDtype('bool')\n",
      "HLT_AK8PFJet500      | bool                     | AsDtype('bool')\n",
      "HLT_PFJet40          | bool                     | AsDtype('bool')\n",
      "HLT_PFJet60          | bool                     | AsDtype('bool')\n",
      "HLT_PFJet80          | bool                     | AsDtype('bool')\n",
      "HLT_PFJet140         | bool                     | AsDtype('bool')\n",
      "HLT_PFJet200         | bool                     | AsDtype('bool')\n",
      "HLT_PFJet260         | bool                     | AsDtype('bool')\n",
      "HLT_PFJet320         | bool                     | AsDtype('bool')\n",
      "HLT_PFJet400         | bool                     | AsDtype('bool')\n",
      "HLT_PFJet450         | bool                     | AsDtype('bool')\n",
      "HLT_PFJet500         | bool                     | AsDtype('bool')\n",
      "HLT_DiPFJetAve40     | bool                     | AsDtype('bool')\n",
      "HLT_DiPFJetAve60     | bool                     | AsDtype('bool')\n",
      "HLT_DiPFJetAve80     | bool                     | AsDtype('bool')\n",
      "HLT_DiPFJetAve140    | bool                     | AsDtype('bool')\n",
      "HLT_DiPFJetAve200    | bool                     | AsDtype('bool')\n",
      "HLT_DiPFJetAve260    | bool                     | AsDtype('bool')\n",
      "HLT_DiPFJetAve320    | bool                     | AsDtype('bool')\n",
      "HLT_DiPFJetAve400    | bool                     | AsDtype('bool')\n",
      "HLT_DiPFJetAve500    | bool                     | AsDtype('bool')\n",
      "HLT_DiPFJetAve60_... | bool                     | AsDtype('bool')\n",
      "HLT_DiPFJetAve80_... | bool                     | AsDtype('bool')\n",
      "HLT_DiPFJetAve100... | bool                     | AsDtype('bool')\n",
      "HLT_DiPFJetAve160... | bool                     | AsDtype('bool')\n",
      "HLT_DiPFJetAve220... | bool                     | AsDtype('bool')\n",
      "HLT_DiPFJetAve300... | bool                     | AsDtype('bool')\n",
      "HLT_DiPFJet40_DEt... | bool                     | AsDtype('bool')\n",
      "HLT_DiPFJet40_DEt... | bool                     | AsDtype('bool')\n",
      "HLT_DiCentralPFJe... | bool                     | AsDtype('bool')\n",
      "HLT_SingleCentral... | bool                     | AsDtype('bool')\n",
      "HLT_DiCentralPFJe... | bool                     | AsDtype('bool')\n",
      "HLT_DiCentralPFJe... | bool                     | AsDtype('bool')\n",
      "HLT_DiCentralPFJe... | bool                     | AsDtype('bool')\n",
      "HLT_DiCentralPFJe... | bool                     | AsDtype('bool')\n",
      "HLT_PFHT125          | bool                     | AsDtype('bool')\n",
      "HLT_PFHT200          | bool                     | AsDtype('bool')\n",
      "HLT_PFHT250          | bool                     | AsDtype('bool')\n",
      "HLT_PFHT300          | bool                     | AsDtype('bool')\n",
      "HLT_PFHT350          | bool                     | AsDtype('bool')\n",
      "HLT_PFHT400          | bool                     | AsDtype('bool')\n",
      "HLT_PFHT475          | bool                     | AsDtype('bool')\n",
      "HLT_PFHT600          | bool                     | AsDtype('bool')\n",
      "HLT_PFHT650          | bool                     | AsDtype('bool')\n",
      "HLT_PFHT800          | bool                     | AsDtype('bool')\n",
      "HLT_PFHT900          | bool                     | AsDtype('bool')\n",
      "HLT_PFHT200_PFAlp... | bool                     | AsDtype('bool')\n",
      "HLT_PFHT200_DiPFJ... | bool                     | AsDtype('bool')\n",
      "HLT_PFHT200_DiPFJ... | bool                     | AsDtype('bool')\n",
      "HLT_PFHT250_DiPFJ... | bool                     | AsDtype('bool')\n",
      "HLT_PFHT250_DiPFJ... | bool                     | AsDtype('bool')\n",
      "HLT_PFHT300_DiPFJ... | bool                     | AsDtype('bool')\n",
      "HLT_PFHT300_DiPFJ... | bool                     | AsDtype('bool')\n",
      "HLT_PFHT350_DiPFJ... | bool                     | AsDtype('bool')\n",
      "HLT_PFHT350_DiPFJ... | bool                     | AsDtype('bool')\n",
      "HLT_PFHT400_DiPFJ... | bool                     | AsDtype('bool')\n",
      "HLT_PFHT400_DiPFJ... | bool                     | AsDtype('bool')\n",
      "HLT_MET60_IsoTrk3... | bool                     | AsDtype('bool')\n",
      "HLT_MET75_IsoTrk50   | bool                     | AsDtype('bool')\n",
      "HLT_MET90_IsoTrk50   | bool                     | AsDtype('bool')\n",
      "HLT_PFMET120_BTag... | bool                     | AsDtype('bool')\n",
      "HLT_PFMET120_Mu5     | bool                     | AsDtype('bool')\n",
      "HLT_PFMET170_NotC... | bool                     | AsDtype('bool')\n",
      "HLT_PFMET170_Nois... | bool                     | AsDtype('bool')\n",
      "HLT_PFMET170_HBHE... | bool                     | AsDtype('bool')\n",
      "HLT_PFMET170_JetI... | bool                     | AsDtype('bool')\n",
      "HLT_PFMET170_Beam... | bool                     | AsDtype('bool')\n",
      "HLT_PFMET170_HBHE... | bool                     | AsDtype('bool')\n",
      "HLT_PFMETTypeOne1... | bool                     | AsDtype('bool')\n",
      "HLT_PFMET90_PFMHT... | bool                     | AsDtype('bool')\n",
      "HLT_PFMET100_PFMH... | bool                     | AsDtype('bool')\n",
      "HLT_PFMET100_PFMH... | bool                     | AsDtype('bool')\n",
      "HLT_PFMET110_PFMH... | bool                     | AsDtype('bool')\n",
      "HLT_PFMET120_PFMH... | bool                     | AsDtype('bool')\n",
      "HLT_CaloMHTNoPU90... | bool                     | AsDtype('bool')\n",
      "HLT_CaloMHTNoPU90... | bool                     | AsDtype('bool')\n",
      "HLT_QuadPFJet_BTa... | bool                     | AsDtype('bool')\n",
      "HLT_QuadPFJet_BTa... | bool                     | AsDtype('bool')\n",
      "HLT_QuadPFJet_BTa... | bool                     | AsDtype('bool')\n",
      "HLT_QuadPFJet_BTa... | bool                     | AsDtype('bool')\n",
      "HLT_QuadPFJet_VBF    | bool                     | AsDtype('bool')\n",
      "HLT_L1_TripleJet_VBF | bool                     | AsDtype('bool')\n",
      "HLT_QuadJet45_Tri... | bool                     | AsDtype('bool')\n",
      "HLT_QuadJet45_Dou... | bool                     | AsDtype('bool')\n",
      "HLT_DoubleJet90_D... | bool                     | AsDtype('bool')\n",
      "HLT_DoubleJet90_D... | bool                     | AsDtype('bool')\n",
      "HLT_DoubleJetsC10... | bool                     | AsDtype('bool')\n",
      "HLT_DoubleJetsC10... | bool                     | AsDtype('bool')\n",
      "HLT_DoubleJetsC11... | bool                     | AsDtype('bool')\n",
      "HLT_DoubleJetsC11... | bool                     | AsDtype('bool')\n",
      "HLT_DoubleJetsC10... | bool                     | AsDtype('bool')\n",
      "HLT_DoubleJetsC10... | bool                     | AsDtype('bool')\n",
      "HLT_DoubleJetsC10... | bool                     | AsDtype('bool')\n",
      "HLT_DoubleJetsC10... | bool                     | AsDtype('bool')\n",
      "HLT_Photon135_PFM... | bool                     | AsDtype('bool')\n",
      "HLT_Photon20_Calo... | bool                     | AsDtype('bool')\n",
      "HLT_Photon22_R9Id... | bool                     | AsDtype('bool')\n",
      "HLT_Photon22_R9Id... | bool                     | AsDtype('bool')\n",
      "HLT_Photon250_NoHE   | bool                     | AsDtype('bool')\n",
      "HLT_Photon300_NoHE   | bool                     | AsDtype('bool')\n",
      "HLT_Photon26_R9Id... | bool                     | AsDtype('bool')\n",
      "HLT_Photon36_R9Id... | bool                     | AsDtype('bool')\n",
      "HLT_Photon36_R9Id... | bool                     | AsDtype('bool')\n",
      "HLT_Photon36_R9Id... | bool                     | AsDtype('bool')\n",
      "HLT_Photon50_R9Id... | bool                     | AsDtype('bool')\n",
      "HLT_Photon50_R9Id... | bool                     | AsDtype('bool')\n",
      "HLT_Photon75_R9Id... | bool                     | AsDtype('bool')\n",
      "HLT_Photon75_R9Id... | bool                     | AsDtype('bool')\n",
      "HLT_Photon90_R9Id... | bool                     | AsDtype('bool')\n",
      "HLT_Photon90_R9Id... | bool                     | AsDtype('bool')\n",
      "HLT_Photon120_R9I... | bool                     | AsDtype('bool')\n",
      "HLT_Photon120_R9I... | bool                     | AsDtype('bool')\n",
      "HLT_Mu8_TrkIsoVVL    | bool                     | AsDtype('bool')\n",
      "HLT_Mu17_TrkIsoVVL   | bool                     | AsDtype('bool')\n",
      "HLT_Ele8_CaloIdL_... | bool                     | AsDtype('bool')\n",
      "HLT_Ele12_CaloIdL... | bool                     | AsDtype('bool')\n",
      "HLT_Ele17_CaloIdL... | bool                     | AsDtype('bool')\n",
      "HLT_Ele23_CaloIdL... | bool                     | AsDtype('bool')\n",
      "HLT_BTagMu_DiJet2... | bool                     | AsDtype('bool')\n",
      "HLT_BTagMu_DiJet4... | bool                     | AsDtype('bool')\n",
      "HLT_BTagMu_DiJet7... | bool                     | AsDtype('bool')\n",
      "HLT_BTagMu_DiJet1... | bool                     | AsDtype('bool')\n",
      "HLT_BTagMu_DiJet1... | bool                     | AsDtype('bool')\n",
      "HLT_BTagMu_Jet300... | bool                     | AsDtype('bool')\n",
      "HLT_BTagMu_AK8Jet... | bool                     | AsDtype('bool')\n",
      "HLT_Ele23_Ele12_C... | bool                     | AsDtype('bool')\n",
      "HLT_Ele23_Ele12_C... | bool                     | AsDtype('bool')\n",
      "HLT_Ele17_Ele12_C... | bool                     | AsDtype('bool')\n",
      "HLT_Ele16_Ele12_E... | bool                     | AsDtype('bool')\n",
      "HLT_Mu8_TrkIsoVVL... | bool                     | AsDtype('bool')\n",
      "HLT_Mu8_TrkIsoVVL... | bool                     | AsDtype('bool')\n",
      "HLT_Mu8_TrkIsoVVL... | bool                     | AsDtype('bool')\n",
      "HLT_Mu12_TrkIsoVV... | bool                     | AsDtype('bool')\n",
      "HLT_Mu12_TrkIsoVV... | bool                     | AsDtype('bool')\n",
      "HLT_Mu17_TrkIsoVV... | bool                     | AsDtype('bool')\n",
      "HLT_Mu23_TrkIsoVV... | bool                     | AsDtype('bool')\n",
      "HLT_Mu23_TrkIsoVV... | bool                     | AsDtype('bool')\n",
      "HLT_Mu23_TrkIsoVV... | bool                     | AsDtype('bool')\n",
      "HLT_Mu23_TrkIsoVV... | bool                     | AsDtype('bool')\n",
      "HLT_Mu30_Ele30_Ca... | bool                     | AsDtype('bool')\n",
      "HLT_Mu33_Ele33_Ca... | bool                     | AsDtype('bool')\n",
      "HLT_Mu37_Ele27_Ca... | bool                     | AsDtype('bool')\n",
      "HLT_Mu27_Ele37_Ca... | bool                     | AsDtype('bool')\n",
      "HLT_Mu8_DiEle12_C... | bool                     | AsDtype('bool')\n",
      "HLT_Mu12_Photon25... | bool                     | AsDtype('bool')\n",
      "HLT_Mu12_Photon25... | bool                     | AsDtype('bool')\n",
      "HLT_Mu12_Photon25... | bool                     | AsDtype('bool')\n",
      "HLT_Mu17_Photon22... | bool                     | AsDtype('bool')\n",
      "HLT_Mu17_Photon30... | bool                     | AsDtype('bool')\n",
      "HLT_Mu17_Photon35... | bool                     | AsDtype('bool')\n",
      "HLT_DiMu9_Ele9_Ca... | bool                     | AsDtype('bool')\n",
      "HLT_TripleMu_5_3_3   | bool                     | AsDtype('bool')\n",
      "HLT_TripleMu_12_10_5 | bool                     | AsDtype('bool')\n",
      "HLT_Mu3er_PFHT140... | bool                     | AsDtype('bool')\n",
      "HLT_Mu6_PFHT200_P... | bool                     | AsDtype('bool')\n",
      "HLT_Mu6_PFHT200_P... | bool                     | AsDtype('bool')\n",
      "HLT_Mu14er_PFMET100  | bool                     | AsDtype('bool')\n",
      "HLT_Ele17_Ele12_C... | bool                     | AsDtype('bool')\n",
      "HLT_Ele23_Ele12_C... | bool                     | AsDtype('bool')\n",
      "HLT_Ele12_CaloIdL... | bool                     | AsDtype('bool')\n",
      "HLT_Ele17_CaloIdL... | bool                     | AsDtype('bool')\n",
      "HLT_Ele17_CaloIdL... | bool                     | AsDtype('bool')\n",
      "HLT_Ele23_CaloIdL... | bool                     | AsDtype('bool')\n",
      "HLT_PFHT650_WideJ... | bool                     | AsDtype('bool')\n",
      "HLT_PFHT650_WideJ... | bool                     | AsDtype('bool')\n",
      "HLT_Photon22         | bool                     | AsDtype('bool')\n",
      "HLT_Photon30         | bool                     | AsDtype('bool')\n",
      "HLT_Photon36         | bool                     | AsDtype('bool')\n",
      "HLT_Photon50         | bool                     | AsDtype('bool')\n",
      "HLT_Photon75         | bool                     | AsDtype('bool')\n",
      "HLT_Photon90         | bool                     | AsDtype('bool')\n",
      "HLT_Photon120        | bool                     | AsDtype('bool')\n",
      "HLT_Photon175        | bool                     | AsDtype('bool')\n",
      "HLT_Photon165_HE10   | bool                     | AsDtype('bool')\n",
      "HLT_Photon22_R9Id... | bool                     | AsDtype('bool')\n",
      "HLT_Photon30_R9Id... | bool                     | AsDtype('bool')\n",
      "HLT_Photon36_R9Id... | bool                     | AsDtype('bool')\n",
      "HLT_Photon50_R9Id... | bool                     | AsDtype('bool')\n",
      "HLT_Photon75_R9Id... | bool                     | AsDtype('bool')\n",
      "HLT_Photon90_R9Id... | bool                     | AsDtype('bool')\n",
      "HLT_Photon120_R9I... | bool                     | AsDtype('bool')\n",
      "HLT_Photon165_R9I... | bool                     | AsDtype('bool')\n",
      "HLT_Diphoton30_18... | bool                     | AsDtype('bool')\n",
      "HLT_Diphoton30_18... | bool                     | AsDtype('bool')\n",
      "HLT_Diphoton30PV_... | bool                     | AsDtype('bool')\n",
      "HLT_Diphoton30_18... | bool                     | AsDtype('bool')\n",
      "HLT_Diphoton30EB_... | bool                     | AsDtype('bool')\n",
      "HLT_Dimuon0_Jpsi_... | bool                     | AsDtype('bool')\n",
      "HLT_Dimuon0_Upsil... | bool                     | AsDtype('bool')\n",
      "HLT_QuadMuon0_Dim... | bool                     | AsDtype('bool')\n",
      "HLT_QuadMuon0_Dim... | bool                     | AsDtype('bool')\n",
      "HLT_Rsq0p25_Calo     | bool                     | AsDtype('bool')\n",
      "HLT_RsqMR240_Rsq0... | bool                     | AsDtype('bool')\n",
      "HLT_RsqMR240_Rsq0... | bool                     | AsDtype('bool')\n",
      "HLT_Rsq0p25          | bool                     | AsDtype('bool')\n",
      "HLT_Rsq0p30          | bool                     | AsDtype('bool')\n",
      "HLT_RsqMR240_Rsq0... | bool                     | AsDtype('bool')\n",
      "HLT_RsqMR240_Rsq0... | bool                     | AsDtype('bool')\n",
      "HLT_RsqMR270_Rsq0... | bool                     | AsDtype('bool')\n",
      "HLT_RsqMR270_Rsq0... | bool                     | AsDtype('bool')\n",
      "HLT_Rsq0p02_MR300... | bool                     | AsDtype('bool')\n",
      "HLT_Rsq0p02_MR400... | bool                     | AsDtype('bool')\n",
      "HLT_Rsq0p02_MR450... | bool                     | AsDtype('bool')\n",
      "HLT_Rsq0p02_MR500... | bool                     | AsDtype('bool')\n",
      "HLT_Rsq0p02_MR550... | bool                     | AsDtype('bool')\n",
      "HLT_HT200_Displac... | bool                     | AsDtype('bool')\n",
      "HLT_HT250_Displac... | bool                     | AsDtype('bool')\n",
      "HLT_HT350_Displac... | bool                     | AsDtype('bool')\n",
      "HLT_HT350_Displac... | bool                     | AsDtype('bool')\n",
      "HLT_HT350_Displac... | bool                     | AsDtype('bool')\n",
      "HLT_HT350_Displac... | bool                     | AsDtype('bool')\n",
      "HLT_HT400_Displac... | bool                     | AsDtype('bool')\n",
      "HLT_HT500_Displac... | bool                     | AsDtype('bool')\n",
      "HLT_HT550_Displac... | bool                     | AsDtype('bool')\n",
      "HLT_HT550_Displac... | bool                     | AsDtype('bool')\n",
      "HLT_HT650_Displac... | bool                     | AsDtype('bool')\n",
      "HLT_HT750_Displac... | bool                     | AsDtype('bool')\n",
      "HLT_VBF_Displaced... | bool                     | AsDtype('bool')\n",
      "HLT_VBF_Displaced... | bool                     | AsDtype('bool')\n",
      "HLT_VBF_Displaced... | bool                     | AsDtype('bool')\n",
      "HLT_VBF_Displaced... | bool                     | AsDtype('bool')\n",
      "HLT_VBF_Displaced... | bool                     | AsDtype('bool')\n",
      "HLT_VBF_Displaced... | bool                     | AsDtype('bool')\n",
      "HLT_VBF_Displaced... | bool                     | AsDtype('bool')\n",
      "HLT_VBF_Displaced... | bool                     | AsDtype('bool')\n",
      "HLT_VBF_Displaced... | bool                     | AsDtype('bool')\n",
      "HLT_VBF_Displaced... | bool                     | AsDtype('bool')\n",
      "HLT_PFMETNoMu90_P... | bool                     | AsDtype('bool')\n",
      "HLT_PFMETNoMu100_... | bool                     | AsDtype('bool')\n",
      "HLT_PFMETNoMu110_... | bool                     | AsDtype('bool')\n",
      "HLT_PFMETNoMu120_... | bool                     | AsDtype('bool')\n",
      "HLT_MonoCentralPF... | bool                     | AsDtype('bool')\n",
      "HLT_MonoCentralPF... | bool                     | AsDtype('bool')\n",
      "HLT_MonoCentralPF... | bool                     | AsDtype('bool')\n",
      "HLT_MonoCentralPF... | bool                     | AsDtype('bool')\n",
      "HLT_Ele27_eta2p1_... | bool                     | AsDtype('bool')\n",
      "HLT_Photon90_Calo... | bool                     | AsDtype('bool')\n",
      "HLT_DoubleMu8_Mas... | bool                     | AsDtype('bool')\n",
      "HLT_Mu8_Ele8_Calo... | bool                     | AsDtype('bool')\n",
      "HLT_DoubleEle8_Ca... | bool                     | AsDtype('bool')\n",
      "HLT_DoubleMu8_Mas... | bool                     | AsDtype('bool')\n",
      "HLT_Mu8_Ele8_Calo... | bool                     | AsDtype('bool')\n",
      "HLT_DoubleEle8_Ca... | bool                     | AsDtype('bool')\n",
      "HLT_Mu10_CentralP... | bool                     | AsDtype('bool')\n",
      "HLT_DoubleMu3_PFM... | bool                     | AsDtype('bool')\n",
      "HLT_Ele10_CaloIdM... | bool                     | AsDtype('bool')\n",
      "HLT_Ele15_IsoVVVL... | bool                     | AsDtype('bool')\n",
      "HLT_Ele15_IsoVVVL... | bool                     | AsDtype('bool')\n",
      "HLT_Ele15_IsoVVVL... | bool                     | AsDtype('bool')\n",
      "HLT_Ele15_IsoVVVL... | bool                     | AsDtype('bool')\n",
      "HLT_Ele15_IsoVVVL... | bool                     | AsDtype('bool')\n",
      "HLT_Ele15_IsoVVVL... | bool                     | AsDtype('bool')\n",
      "HLT_Ele50_IsoVVVL... | bool                     | AsDtype('bool')\n",
      "HLT_Mu8_TrkIsoVVL... | bool                     | AsDtype('bool')\n",
      "HLT_Mu10_TrkIsoVV... | bool                     | AsDtype('bool')\n",
      "HLT_Mu15_IsoVVVL_... | bool                     | AsDtype('bool')\n",
      "HLT_Mu15_IsoVVVL_... | bool                     | AsDtype('bool')\n",
      "HLT_Mu15_IsoVVVL_... | bool                     | AsDtype('bool')\n",
      "HLT_Mu15_IsoVVVL_... | bool                     | AsDtype('bool')\n",
      "HLT_Mu15_IsoVVVL_... | bool                     | AsDtype('bool')\n",
      "HLT_Mu15_IsoVVVL_... | bool                     | AsDtype('bool')\n",
      "HLT_Mu50_IsoVVVL_... | bool                     | AsDtype('bool')\n",
      "HLT_Dimuon16_Jpsi    | bool                     | AsDtype('bool')\n",
      "HLT_Dimuon10_Jpsi... | bool                     | AsDtype('bool')\n",
      "HLT_Dimuon8_PsiPr... | bool                     | AsDtype('bool')\n",
      "HLT_Dimuon8_Upsil... | bool                     | AsDtype('bool')\n",
      "HLT_Dimuon0_Phi_B... | bool                     | AsDtype('bool')\n",
      "HLT_Mu16_TkMu0_dE... | bool                     | AsDtype('bool')\n",
      "HLT_Mu16_TkMu0_dE... | bool                     | AsDtype('bool')\n",
      "HLT_TrkMu15_Doubl... | bool                     | AsDtype('bool')\n",
      "HLT_TrkMu17_Doubl... | bool                     | AsDtype('bool')\n",
      "HLT_Mu8              | bool                     | AsDtype('bool')\n",
      "HLT_Mu17             | bool                     | AsDtype('bool')\n",
      "HLT_Mu3_PFJet40      | bool                     | AsDtype('bool')\n",
      "HLT_Ele8_CaloIdM_... | bool                     | AsDtype('bool')\n",
      "HLT_Ele12_CaloIdM... | bool                     | AsDtype('bool')\n",
      "HLT_Ele17_CaloIdM... | bool                     | AsDtype('bool')\n",
      "HLT_Ele23_CaloIdM... | bool                     | AsDtype('bool')\n",
      "HLT_Ele50_CaloIdV... | bool                     | AsDtype('bool')\n",
      "HLT_Ele50_CaloIdV... | bool                     | AsDtype('bool')\n",
      "HLT_PFHT400_SixJe... | bool                     | AsDtype('bool')\n",
      "HLT_PFHT450_SixJe... | bool                     | AsDtype('bool')\n",
      "HLT_PFHT400_SixJet30 | bool                     | AsDtype('bool')\n",
      "HLT_PFHT450_SixJet40 | bool                     | AsDtype('bool')\n",
      "HLT_Ele115_CaloId... | bool                     | AsDtype('bool')\n",
      "HLT_Mu55             | bool                     | AsDtype('bool')\n",
      "HLT_Photon42_R9Id... | bool                     | AsDtype('bool')\n",
      "HLT_Photon90_Calo... | bool                     | AsDtype('bool')\n",
      "HLT_PixelTracks_M... | bool                     | AsDtype('bool')\n",
      "HLT_PixelTracks_M... | bool                     | AsDtype('bool')\n",
      "HLT_PixelTracks_M... | bool                     | AsDtype('bool')\n",
      "HLT_PixelTracks_M... | bool                     | AsDtype('bool')\n",
      "HLT_PixelTracks_M... | bool                     | AsDtype('bool')\n",
      "HLT_FullTracks_Mu... | bool                     | AsDtype('bool')\n",
      "HLT_FullTracks_Mu... | bool                     | AsDtype('bool')\n",
      "HLT_FullTracks_Mu... | bool                     | AsDtype('bool')\n",
      "HLT_FullTracks_Mu... | bool                     | AsDtype('bool')\n",
      "HLT_ECALHT800        | bool                     | AsDtype('bool')\n",
      "HLT_DiSC30_18_EIs... | bool                     | AsDtype('bool')\n",
      "HLT_Photon125        | bool                     | AsDtype('bool')\n",
      "HLT_MET100           | bool                     | AsDtype('bool')\n",
      "HLT_MET150           | bool                     | AsDtype('bool')\n",
      "HLT_MET200           | bool                     | AsDtype('bool')\n",
      "HLT_Ele27_HighEta... | bool                     | AsDtype('bool')\n",
      "HLT_L1FatEvents      | bool                     | AsDtype('bool')\n",
      "HLT_Physics          | bool                     | AsDtype('bool')\n",
      "HLT_L1FatEvents_p... | bool                     | AsDtype('bool')\n",
      "HLT_L1FatEvents_p... | bool                     | AsDtype('bool')\n",
      "HLT_L1FatEvents_p... | bool                     | AsDtype('bool')\n",
      "HLT_L1FatEvents_p... | bool                     | AsDtype('bool')\n",
      "HLT_Random           | bool                     | AsDtype('bool')\n",
      "HLT_ZeroBias         | bool                     | AsDtype('bool')\n",
      "HLT_AK4CaloJet30     | bool                     | AsDtype('bool')\n",
      "HLT_AK4CaloJet40     | bool                     | AsDtype('bool')\n",
      "HLT_AK4CaloJet50     | bool                     | AsDtype('bool')\n",
      "HLT_AK4CaloJet80     | bool                     | AsDtype('bool')\n",
      "HLT_AK4CaloJet100    | bool                     | AsDtype('bool')\n",
      "HLT_AK4PFJet30       | bool                     | AsDtype('bool')\n",
      "HLT_AK4PFJet50       | bool                     | AsDtype('bool')\n",
      "HLT_AK4PFJet80       | bool                     | AsDtype('bool')\n",
      "HLT_AK4PFJet100      | bool                     | AsDtype('bool')\n",
      "HLT_HISinglePhoton10 | bool                     | AsDtype('bool')\n",
      "HLT_HISinglePhoton15 | bool                     | AsDtype('bool')\n",
      "HLT_HISinglePhoton20 | bool                     | AsDtype('bool')\n",
      "HLT_HISinglePhoton40 | bool                     | AsDtype('bool')\n",
      "HLT_HISinglePhoton60 | bool                     | AsDtype('bool')\n",
      "HLT_EcalCalibration  | bool                     | AsDtype('bool')\n",
      "HLT_HcalCalibration  | bool                     | AsDtype('bool')\n",
      "HLT_GlobalRunHPDN... | bool                     | AsDtype('bool')\n",
      "HLT_L1BptxMinus      | bool                     | AsDtype('bool')\n",
      "HLT_L1BptxPlus       | bool                     | AsDtype('bool')\n",
      "HLT_L1NotBptxOR      | bool                     | AsDtype('bool')\n",
      "HLT_L1BeamGasMinus   | bool                     | AsDtype('bool')\n",
      "HLT_L1BeamGasPlus    | bool                     | AsDtype('bool')\n",
      "HLT_L1BptxXOR        | bool                     | AsDtype('bool')\n",
      "HLT_L1MinimumBias... | bool                     | AsDtype('bool')\n",
      "HLT_L1MinimumBias... | bool                     | AsDtype('bool')\n",
      "HLT_HcalNZS          | bool                     | AsDtype('bool')\n",
      "HLT_HcalPhiSym       | bool                     | AsDtype('bool')\n",
      "HLT_HcalIsolatedb... | bool                     | AsDtype('bool')\n",
      "HLT_ZeroBias_Firs... | bool                     | AsDtype('bool')\n",
      "HLT_ZeroBias_Firs... | bool                     | AsDtype('bool')\n",
      "HLT_ZeroBias_Firs... | bool                     | AsDtype('bool')\n",
      "HLT_ZeroBias_Isol... | bool                     | AsDtype('bool')\n",
      "HLT_ZeroBias_Firs... | bool                     | AsDtype('bool')\n",
      "HLT_ZeroBias_Firs... | bool                     | AsDtype('bool')\n",
      "HLT_Photon500        | bool                     | AsDtype('bool')\n",
      "HLT_Photon600        | bool                     | AsDtype('bool')\n",
      "HLT_Mu300            | bool                     | AsDtype('bool')\n",
      "HLT_Mu350            | bool                     | AsDtype('bool')\n",
      "HLT_MET250           | bool                     | AsDtype('bool')\n",
      "HLT_MET300           | bool                     | AsDtype('bool')\n",
      "HLT_MET600           | bool                     | AsDtype('bool')\n",
      "HLT_MET700           | bool                     | AsDtype('bool')\n",
      "HLT_PFMET300         | bool                     | AsDtype('bool')\n",
      "HLT_PFMET400         | bool                     | AsDtype('bool')\n",
      "HLT_PFMET500         | bool                     | AsDtype('bool')\n",
      "HLT_PFMET600         | bool                     | AsDtype('bool')\n",
      "HLT_Ele250_CaloId... | bool                     | AsDtype('bool')\n",
      "HLT_Ele300_CaloId... | bool                     | AsDtype('bool')\n",
      "HLT_HT2000           | bool                     | AsDtype('bool')\n",
      "HLT_HT2500           | bool                     | AsDtype('bool')\n",
      "HLT_IsoTrackHE       | bool                     | AsDtype('bool')\n",
      "HLT_IsoTrackHB       | bool                     | AsDtype('bool')\n",
      "HLTriggerFinalPath   | bool                     | AsDtype('bool')\n",
      "L1simulation_step    | bool                     | AsDtype('bool')\n"
     ]
    }
   ],
   "source": [
    "events.show()"
   ]
  },
  {
   "cell_type": "markdown",
   "id": "4853aac4-e508-412e-b7a4-366aea34dab1",
   "metadata": {},
   "source": [
    "or get the type of all the branches"
   ]
  },
  {
   "cell_type": "code",
   "execution_count": 9,
   "id": "f5b69df5-0116-4c52-b2ec-82d064fe443d",
   "metadata": {
    "collapsed": true,
    "jupyter": {
     "outputs_hidden": true
    }
   },
   "outputs": [
    {
     "data": {
      "text/plain": [
       "{'run': 'uint32_t',\n",
       " 'luminosityBlock': 'uint32_t',\n",
       " 'event': 'uint64_t',\n",
       " 'HTXS_Higgs_pt': 'float',\n",
       " 'HTXS_Higgs_y': 'float',\n",
       " 'HTXS_stage1_1_cat_pTjet25GeV': 'int32_t',\n",
       " 'HTXS_stage1_1_cat_pTjet30GeV': 'int32_t',\n",
       " 'HTXS_stage1_1_fine_cat_pTjet25GeV': 'int32_t',\n",
       " 'HTXS_stage1_1_fine_cat_pTjet30GeV': 'int32_t',\n",
       " 'HTXS_stage1_2_cat_pTjet25GeV': 'int32_t',\n",
       " 'HTXS_stage1_2_cat_pTjet30GeV': 'int32_t',\n",
       " 'HTXS_stage1_2_fine_cat_pTjet25GeV': 'int32_t',\n",
       " 'HTXS_stage1_2_fine_cat_pTjet30GeV': 'int32_t',\n",
       " 'HTXS_stage_0': 'int32_t',\n",
       " 'HTXS_stage_1_pTjet25': 'int32_t',\n",
       " 'HTXS_stage_1_pTjet30': 'int32_t',\n",
       " 'HTXS_njets25': 'uint8_t',\n",
       " 'HTXS_njets30': 'uint8_t',\n",
       " 'nboostedTau': 'uint32_t',\n",
       " 'boostedTau_chargedIso': 'float[]',\n",
       " 'boostedTau_eta': 'float[]',\n",
       " 'boostedTau_leadTkDeltaEta': 'float[]',\n",
       " 'boostedTau_leadTkDeltaPhi': 'float[]',\n",
       " 'boostedTau_leadTkPtOverTauPt': 'float[]',\n",
       " 'boostedTau_mass': 'float[]',\n",
       " 'boostedTau_neutralIso': 'float[]',\n",
       " 'boostedTau_phi': 'float[]',\n",
       " 'boostedTau_photonsOutsideSignalCone': 'float[]',\n",
       " 'boostedTau_pt': 'float[]',\n",
       " 'boostedTau_puCorr': 'float[]',\n",
       " 'boostedTau_rawAntiEle2018': 'float[]',\n",
       " 'boostedTau_rawIso': 'float[]',\n",
       " 'boostedTau_rawIsodR03': 'float[]',\n",
       " 'boostedTau_rawMVAnewDM2017v2': 'float[]',\n",
       " 'boostedTau_rawMVAoldDM2017v2': 'float[]',\n",
       " 'boostedTau_rawMVAoldDMdR032017v2': 'float[]',\n",
       " 'boostedTau_charge': 'int32_t[]',\n",
       " 'boostedTau_decayMode': 'int32_t[]',\n",
       " 'boostedTau_jetIdx': 'int32_t[]',\n",
       " 'boostedTau_rawAntiEleCat2018': 'int32_t[]',\n",
       " 'boostedTau_idAntiEle2018': 'uint8_t[]',\n",
       " 'boostedTau_idAntiMu': 'uint8_t[]',\n",
       " 'boostedTau_idMVAnewDM2017v2': 'uint8_t[]',\n",
       " 'boostedTau_idMVAoldDM2017v2': 'uint8_t[]',\n",
       " 'boostedTau_idMVAoldDMdR032017v2': 'uint8_t[]',\n",
       " 'btagWeight_CSVV2': 'float',\n",
       " 'btagWeight_DeepCSVB': 'float',\n",
       " 'CaloMET_phi': 'float',\n",
       " 'CaloMET_pt': 'float',\n",
       " 'CaloMET_sumEt': 'float',\n",
       " 'ChsMET_phi': 'float',\n",
       " 'ChsMET_pt': 'float',\n",
       " 'ChsMET_sumEt': 'float',\n",
       " 'nCorrT1METJet': 'uint32_t',\n",
       " 'CorrT1METJet_area': 'float[]',\n",
       " 'CorrT1METJet_eta': 'float[]',\n",
       " 'CorrT1METJet_muonSubtrFactor': 'float[]',\n",
       " 'CorrT1METJet_phi': 'float[]',\n",
       " 'CorrT1METJet_rawPt': 'float[]',\n",
       " 'DeepMETResolutionTune_phi': 'float',\n",
       " 'DeepMETResolutionTune_pt': 'float',\n",
       " 'DeepMETResponseTune_phi': 'float',\n",
       " 'DeepMETResponseTune_pt': 'float',\n",
       " 'nElectron': 'uint32_t',\n",
       " 'Electron_dEscaleDown': 'float[]',\n",
       " 'Electron_dEscaleUp': 'float[]',\n",
       " 'Electron_dEsigmaDown': 'float[]',\n",
       " 'Electron_dEsigmaUp': 'float[]',\n",
       " 'Electron_deltaEtaSC': 'float[]',\n",
       " 'Electron_dr03EcalRecHitSumEt': 'float[]',\n",
       " 'Electron_dr03HcalDepth1TowerSumEt': 'float[]',\n",
       " 'Electron_dr03TkSumPt': 'float[]',\n",
       " 'Electron_dr03TkSumPtHEEP': 'float[]',\n",
       " 'Electron_dxy': 'float[]',\n",
       " 'Electron_dxyErr': 'float[]',\n",
       " 'Electron_dz': 'float[]',\n",
       " 'Electron_dzErr': 'float[]',\n",
       " 'Electron_eCorr': 'float[]',\n",
       " 'Electron_eInvMinusPInv': 'float[]',\n",
       " 'Electron_energyErr': 'float[]',\n",
       " 'Electron_eta': 'float[]',\n",
       " 'Electron_hoe': 'float[]',\n",
       " 'Electron_ip3d': 'float[]',\n",
       " 'Electron_jetPtRelv2': 'float[]',\n",
       " 'Electron_jetRelIso': 'float[]',\n",
       " 'Electron_mass': 'float[]',\n",
       " 'Electron_miniPFRelIso_all': 'float[]',\n",
       " 'Electron_miniPFRelIso_chg': 'float[]',\n",
       " 'Electron_mvaFall17V2Iso': 'float[]',\n",
       " 'Electron_mvaFall17V2noIso': 'float[]',\n",
       " 'Electron_pfRelIso03_all': 'float[]',\n",
       " 'Electron_pfRelIso03_chg': 'float[]',\n",
       " 'Electron_phi': 'float[]',\n",
       " 'Electron_pt': 'float[]',\n",
       " 'Electron_r9': 'float[]',\n",
       " 'Electron_scEtOverPt': 'float[]',\n",
       " 'Electron_sieie': 'float[]',\n",
       " 'Electron_sip3d': 'float[]',\n",
       " 'Electron_mvaTTH': 'float[]',\n",
       " 'Electron_charge': 'int32_t[]',\n",
       " 'Electron_cutBased': 'int32_t[]',\n",
       " 'Electron_jetIdx': 'int32_t[]',\n",
       " 'Electron_pdgId': 'int32_t[]',\n",
       " 'Electron_photonIdx': 'int32_t[]',\n",
       " 'Electron_tightCharge': 'int32_t[]',\n",
       " 'Electron_vidNestedWPBitmap': 'int32_t[]',\n",
       " 'Electron_vidNestedWPBitmapHEEP': 'int32_t[]',\n",
       " 'Electron_convVeto': 'bool[]',\n",
       " 'Electron_cutBased_HEEP': 'bool[]',\n",
       " 'Electron_isPFcand': 'bool[]',\n",
       " 'Electron_jetNDauCharged': 'uint8_t[]',\n",
       " 'Electron_lostHits': 'uint8_t[]',\n",
       " 'Electron_mvaFall17V2Iso_WP80': 'bool[]',\n",
       " 'Electron_mvaFall17V2Iso_WP90': 'bool[]',\n",
       " 'Electron_mvaFall17V2Iso_WPL': 'bool[]',\n",
       " 'Electron_mvaFall17V2noIso_WP80': 'bool[]',\n",
       " 'Electron_mvaFall17V2noIso_WP90': 'bool[]',\n",
       " 'Electron_mvaFall17V2noIso_WPL': 'bool[]',\n",
       " 'Electron_seedGain': 'uint8_t[]',\n",
       " 'nFatJet': 'uint32_t',\n",
       " 'FatJet_area': 'float[]',\n",
       " 'FatJet_btagCSVV2': 'float[]',\n",
       " 'FatJet_btagDDBvLV2': 'float[]',\n",
       " 'FatJet_btagDDCvBV2': 'float[]',\n",
       " 'FatJet_btagDDCvLV2': 'float[]',\n",
       " 'FatJet_btagDeepB': 'float[]',\n",
       " 'FatJet_btagHbb': 'float[]',\n",
       " 'FatJet_deepTagMD_H4qvsQCD': 'float[]',\n",
       " 'FatJet_deepTagMD_HbbvsQCD': 'float[]',\n",
       " 'FatJet_deepTagMD_TvsQCD': 'float[]',\n",
       " 'FatJet_deepTagMD_WvsQCD': 'float[]',\n",
       " 'FatJet_deepTagMD_ZHbbvsQCD': 'float[]',\n",
       " 'FatJet_deepTagMD_ZHccvsQCD': 'float[]',\n",
       " 'FatJet_deepTagMD_ZbbvsQCD': 'float[]',\n",
       " 'FatJet_deepTagMD_ZvsQCD': 'float[]',\n",
       " 'FatJet_deepTagMD_bbvsLight': 'float[]',\n",
       " 'FatJet_deepTagMD_ccvsLight': 'float[]',\n",
       " 'FatJet_deepTag_H': 'float[]',\n",
       " 'FatJet_deepTag_QCD': 'float[]',\n",
       " 'FatJet_deepTag_QCDothers': 'float[]',\n",
       " 'FatJet_deepTag_TvsQCD': 'float[]',\n",
       " 'FatJet_deepTag_WvsQCD': 'float[]',\n",
       " 'FatJet_deepTag_ZvsQCD': 'float[]',\n",
       " 'FatJet_eta': 'float[]',\n",
       " 'FatJet_mass': 'float[]',\n",
       " 'FatJet_msoftdrop': 'float[]',\n",
       " 'FatJet_n2b1': 'float[]',\n",
       " 'FatJet_n3b1': 'float[]',\n",
       " 'FatJet_particleNetMD_QCD': 'float[]',\n",
       " 'FatJet_particleNetMD_Xbb': 'float[]',\n",
       " 'FatJet_particleNetMD_Xcc': 'float[]',\n",
       " 'FatJet_particleNetMD_Xqq': 'float[]',\n",
       " 'FatJet_particleNet_H4qvsQCD': 'float[]',\n",
       " 'FatJet_particleNet_HbbvsQCD': 'float[]',\n",
       " 'FatJet_particleNet_HccvsQCD': 'float[]',\n",
       " 'FatJet_particleNet_QCD': 'float[]',\n",
       " 'FatJet_particleNet_TvsQCD': 'float[]',\n",
       " 'FatJet_particleNet_WvsQCD': 'float[]',\n",
       " 'FatJet_particleNet_ZvsQCD': 'float[]',\n",
       " 'FatJet_particleNet_mass': 'float[]',\n",
       " 'FatJet_phi': 'float[]',\n",
       " 'FatJet_pt': 'float[]',\n",
       " 'FatJet_rawFactor': 'float[]',\n",
       " 'FatJet_tau1': 'float[]',\n",
       " 'FatJet_tau2': 'float[]',\n",
       " 'FatJet_tau3': 'float[]',\n",
       " 'FatJet_tau4': 'float[]',\n",
       " 'FatJet_lsf3': 'float[]',\n",
       " 'FatJet_jetId': 'int32_t[]',\n",
       " 'FatJet_subJetIdx1': 'int32_t[]',\n",
       " 'FatJet_subJetIdx2': 'int32_t[]',\n",
       " 'FatJet_electronIdx3SJ': 'int32_t[]',\n",
       " 'FatJet_muonIdx3SJ': 'int32_t[]',\n",
       " 'FatJet_nConstituents': 'uint8_t[]',\n",
       " 'nFsrPhoton': 'uint32_t',\n",
       " 'FsrPhoton_dROverEt2': 'float[]',\n",
       " 'FsrPhoton_eta': 'float[]',\n",
       " 'FsrPhoton_phi': 'float[]',\n",
       " 'FsrPhoton_pt': 'float[]',\n",
       " 'FsrPhoton_relIso03': 'float[]',\n",
       " 'FsrPhoton_muonIdx': 'int32_t[]',\n",
       " 'nGenJetAK8': 'uint32_t',\n",
       " 'GenJetAK8_eta': 'float[]',\n",
       " 'GenJetAK8_mass': 'float[]',\n",
       " 'GenJetAK8_phi': 'float[]',\n",
       " 'GenJetAK8_pt': 'float[]',\n",
       " 'nGenJet': 'uint32_t',\n",
       " 'GenJet_eta': 'float[]',\n",
       " 'GenJet_mass': 'float[]',\n",
       " 'GenJet_phi': 'float[]',\n",
       " 'GenJet_pt': 'float[]',\n",
       " 'nGenPart': 'uint32_t',\n",
       " 'GenPart_eta': 'float[]',\n",
       " 'GenPart_mass': 'float[]',\n",
       " 'GenPart_phi': 'float[]',\n",
       " 'GenPart_pt': 'float[]',\n",
       " 'GenPart_genPartIdxMother': 'int32_t[]',\n",
       " 'GenPart_pdgId': 'int32_t[]',\n",
       " 'GenPart_status': 'int32_t[]',\n",
       " 'GenPart_statusFlags': 'int32_t[]',\n",
       " 'nSubGenJetAK8': 'uint32_t',\n",
       " 'SubGenJetAK8_eta': 'float[]',\n",
       " 'SubGenJetAK8_mass': 'float[]',\n",
       " 'SubGenJetAK8_phi': 'float[]',\n",
       " 'SubGenJetAK8_pt': 'float[]',\n",
       " 'Generator_binvar': 'float',\n",
       " 'Generator_scalePDF': 'float',\n",
       " 'Generator_weight': 'float',\n",
       " 'Generator_x1': 'float',\n",
       " 'Generator_x2': 'float',\n",
       " 'Generator_xpdf1': 'float',\n",
       " 'Generator_xpdf2': 'float',\n",
       " 'Generator_id1': 'int32_t',\n",
       " 'Generator_id2': 'int32_t',\n",
       " 'GenVtx_x': 'float',\n",
       " 'GenVtx_y': 'float',\n",
       " 'GenVtx_z': 'float',\n",
       " 'nGenVisTau': 'uint32_t',\n",
       " 'GenVisTau_eta': 'float[]',\n",
       " 'GenVisTau_mass': 'float[]',\n",
       " 'GenVisTau_phi': 'float[]',\n",
       " 'GenVisTau_pt': 'float[]',\n",
       " 'GenVisTau_charge': 'int32_t[]',\n",
       " 'GenVisTau_genPartIdxMother': 'int32_t[]',\n",
       " 'GenVisTau_status': 'int32_t[]',\n",
       " 'genWeight': 'float',\n",
       " 'LHEWeight_originalXWGTUP': 'float',\n",
       " 'nLHEPdfWeight': 'uint32_t',\n",
       " 'LHEPdfWeight': 'float[]',\n",
       " 'nLHEReweightingWeight': 'uint32_t',\n",
       " 'LHEReweightingWeight': 'float[]',\n",
       " 'nLHEScaleWeight': 'uint32_t',\n",
       " 'LHEScaleWeight': 'float[]',\n",
       " 'nPSWeight': 'uint32_t',\n",
       " 'PSWeight': 'float[]',\n",
       " 'nIsoTrack': 'uint32_t',\n",
       " 'IsoTrack_dxy': 'float[]',\n",
       " 'IsoTrack_dz': 'float[]',\n",
       " 'IsoTrack_eta': 'float[]',\n",
       " 'IsoTrack_pfRelIso03_all': 'float[]',\n",
       " 'IsoTrack_pfRelIso03_chg': 'float[]',\n",
       " 'IsoTrack_phi': 'float[]',\n",
       " 'IsoTrack_pt': 'float[]',\n",
       " 'IsoTrack_miniPFRelIso_all': 'float[]',\n",
       " 'IsoTrack_miniPFRelIso_chg': 'float[]',\n",
       " 'IsoTrack_charge': 'int32_t[]',\n",
       " 'IsoTrack_fromPV': 'int32_t[]',\n",
       " 'IsoTrack_pdgId': 'int32_t[]',\n",
       " 'IsoTrack_isHighPurityTrack': 'bool[]',\n",
       " 'IsoTrack_isPFcand': 'bool[]',\n",
       " 'IsoTrack_isFromLostTrack': 'bool[]',\n",
       " 'nJet': 'uint32_t',\n",
       " 'Jet_area': 'float[]',\n",
       " 'Jet_btagCSVV2': 'float[]',\n",
       " 'Jet_btagDeepB': 'float[]',\n",
       " 'Jet_btagDeepCvB': 'float[]',\n",
       " 'Jet_btagDeepCvL': 'float[]',\n",
       " 'Jet_btagDeepFlavB': 'float[]',\n",
       " 'Jet_btagDeepFlavCvB': 'float[]',\n",
       " 'Jet_btagDeepFlavCvL': 'float[]',\n",
       " 'Jet_btagDeepFlavQG': 'float[]',\n",
       " 'Jet_chEmEF': 'float[]',\n",
       " 'Jet_chFPV0EF': 'float[]',\n",
       " 'Jet_chHEF': 'float[]',\n",
       " 'Jet_eta': 'float[]',\n",
       " 'Jet_hfsigmaEtaEta': 'float[]',\n",
       " 'Jet_hfsigmaPhiPhi': 'float[]',\n",
       " 'Jet_mass': 'float[]',\n",
       " 'Jet_muEF': 'float[]',\n",
       " 'Jet_muonSubtrFactor': 'float[]',\n",
       " 'Jet_neEmEF': 'float[]',\n",
       " 'Jet_neHEF': 'float[]',\n",
       " 'Jet_phi': 'float[]',\n",
       " 'Jet_pt': 'float[]',\n",
       " 'Jet_puIdDisc': 'float[]',\n",
       " 'Jet_qgl': 'float[]',\n",
       " 'Jet_rawFactor': 'float[]',\n",
       " 'Jet_bRegCorr': 'float[]',\n",
       " 'Jet_bRegRes': 'float[]',\n",
       " 'Jet_cRegCorr': 'float[]',\n",
       " 'Jet_cRegRes': 'float[]',\n",
       " 'Jet_electronIdx1': 'int32_t[]',\n",
       " 'Jet_electronIdx2': 'int32_t[]',\n",
       " 'Jet_hfadjacentEtaStripsSize': 'int32_t[]',\n",
       " 'Jet_hfcentralEtaStripSize': 'int32_t[]',\n",
       " 'Jet_jetId': 'int32_t[]',\n",
       " 'Jet_muonIdx1': 'int32_t[]',\n",
       " 'Jet_muonIdx2': 'int32_t[]',\n",
       " 'Jet_nElectrons': 'int32_t[]',\n",
       " 'Jet_nMuons': 'int32_t[]',\n",
       " 'Jet_puId': 'int32_t[]',\n",
       " 'Jet_nConstituents': 'uint8_t[]',\n",
       " 'L1PreFiringWeight_Dn': 'float',\n",
       " 'L1PreFiringWeight_ECAL_Dn': 'float',\n",
       " 'L1PreFiringWeight_ECAL_Nom': 'float',\n",
       " 'L1PreFiringWeight_ECAL_Up': 'float',\n",
       " 'L1PreFiringWeight_Muon_Nom': 'float',\n",
       " 'L1PreFiringWeight_Muon_StatDn': 'float',\n",
       " 'L1PreFiringWeight_Muon_StatUp': 'float',\n",
       " 'L1PreFiringWeight_Muon_SystDn': 'float',\n",
       " 'L1PreFiringWeight_Muon_SystUp': 'float',\n",
       " 'L1PreFiringWeight_Nom': 'float',\n",
       " 'L1PreFiringWeight_Up': 'float',\n",
       " 'LHE_HT': 'float',\n",
       " 'LHE_HTIncoming': 'float',\n",
       " 'LHE_Vpt': 'float',\n",
       " 'LHE_AlphaS': 'float',\n",
       " 'LHE_Njets': 'uint8_t',\n",
       " 'LHE_Nb': 'uint8_t',\n",
       " 'LHE_Nc': 'uint8_t',\n",
       " 'LHE_Nuds': 'uint8_t',\n",
       " 'LHE_Nglu': 'uint8_t',\n",
       " 'LHE_NpNLO': 'uint8_t',\n",
       " 'LHE_NpLO': 'uint8_t',\n",
       " 'nLHEPart': 'uint32_t',\n",
       " 'LHEPart_pt': 'float[]',\n",
       " 'LHEPart_eta': 'float[]',\n",
       " 'LHEPart_phi': 'float[]',\n",
       " 'LHEPart_mass': 'float[]',\n",
       " 'LHEPart_incomingpz': 'float[]',\n",
       " 'LHEPart_pdgId': 'int32_t[]',\n",
       " 'LHEPart_status': 'int32_t[]',\n",
       " 'LHEPart_spin': 'int32_t[]',\n",
       " 'nLowPtElectron': 'uint32_t',\n",
       " 'LowPtElectron_ID': 'float[]',\n",
       " 'LowPtElectron_convVtxRadius': 'float[]',\n",
       " 'LowPtElectron_deltaEtaSC': 'float[]',\n",
       " 'LowPtElectron_dxy': 'float[]',\n",
       " 'LowPtElectron_dxyErr': 'float[]',\n",
       " 'LowPtElectron_dz': 'float[]',\n",
       " 'LowPtElectron_dzErr': 'float[]',\n",
       " 'LowPtElectron_eInvMinusPInv': 'float[]',\n",
       " 'LowPtElectron_embeddedID': 'float[]',\n",
       " 'LowPtElectron_energyErr': 'float[]',\n",
       " 'LowPtElectron_eta': 'float[]',\n",
       " 'LowPtElectron_hoe': 'float[]',\n",
       " 'LowPtElectron_mass': 'float[]',\n",
       " 'LowPtElectron_miniPFRelIso_all': 'float[]',\n",
       " 'LowPtElectron_miniPFRelIso_chg': 'float[]',\n",
       " 'LowPtElectron_phi': 'float[]',\n",
       " 'LowPtElectron_pt': 'float[]',\n",
       " 'LowPtElectron_ptbiased': 'float[]',\n",
       " 'LowPtElectron_r9': 'float[]',\n",
       " 'LowPtElectron_scEtOverPt': 'float[]',\n",
       " 'LowPtElectron_sieie': 'float[]',\n",
       " 'LowPtElectron_unbiased': 'float[]',\n",
       " 'LowPtElectron_charge': 'int32_t[]',\n",
       " 'LowPtElectron_convWP': 'int32_t[]',\n",
       " 'LowPtElectron_pdgId': 'int32_t[]',\n",
       " 'LowPtElectron_convVeto': 'bool[]',\n",
       " 'LowPtElectron_lostHits': 'uint8_t[]',\n",
       " 'GenMET_phi': 'float',\n",
       " 'GenMET_pt': 'float',\n",
       " 'MET_MetUnclustEnUpDeltaX': 'float',\n",
       " 'MET_MetUnclustEnUpDeltaY': 'float',\n",
       " 'MET_covXX': 'float',\n",
       " 'MET_covXY': 'float',\n",
       " 'MET_covYY': 'float',\n",
       " 'MET_phi': 'float',\n",
       " 'MET_pt': 'float',\n",
       " 'MET_significance': 'float',\n",
       " 'MET_sumEt': 'float',\n",
       " 'MET_sumPtUnclustered': 'float',\n",
       " 'nMuon': 'uint32_t',\n",
       " 'Muon_dxy': 'float[]',\n",
       " 'Muon_dxyErr': 'float[]',\n",
       " 'Muon_dxybs': 'float[]',\n",
       " 'Muon_dz': 'float[]',\n",
       " 'Muon_dzErr': 'float[]',\n",
       " 'Muon_eta': 'float[]',\n",
       " 'Muon_ip3d': 'float[]',\n",
       " 'Muon_jetPtRelv2': 'float[]',\n",
       " 'Muon_jetRelIso': 'float[]',\n",
       " 'Muon_mass': 'float[]',\n",
       " 'Muon_miniPFRelIso_all': 'float[]',\n",
       " 'Muon_miniPFRelIso_chg': 'float[]',\n",
       " 'Muon_pfRelIso03_all': 'float[]',\n",
       " 'Muon_pfRelIso03_chg': 'float[]',\n",
       " 'Muon_pfRelIso04_all': 'float[]',\n",
       " 'Muon_phi': 'float[]',\n",
       " 'Muon_pt': 'float[]',\n",
       " 'Muon_ptErr': 'float[]',\n",
       " 'Muon_segmentComp': 'float[]',\n",
       " 'Muon_sip3d': 'float[]',\n",
       " 'Muon_softMva': 'float[]',\n",
       " 'Muon_tkRelIso': 'float[]',\n",
       " 'Muon_tunepRelPt': 'float[]',\n",
       " 'Muon_mvaLowPt': 'float[]',\n",
       " 'Muon_mvaTTH': 'float[]',\n",
       " 'Muon_charge': 'int32_t[]',\n",
       " 'Muon_jetIdx': 'int32_t[]',\n",
       " 'Muon_nStations': 'int32_t[]',\n",
       " 'Muon_nTrackerLayers': 'int32_t[]',\n",
       " 'Muon_pdgId': 'int32_t[]',\n",
       " 'Muon_tightCharge': 'int32_t[]',\n",
       " 'Muon_fsrPhotonIdx': 'int32_t[]',\n",
       " 'Muon_highPtId': 'uint8_t[]',\n",
       " 'Muon_highPurity': 'bool[]',\n",
       " 'Muon_inTimeMuon': 'bool[]',\n",
       " 'Muon_isGlobal': 'bool[]',\n",
       " 'Muon_isPFcand': 'bool[]',\n",
       " 'Muon_isStandalone': 'bool[]',\n",
       " 'Muon_isTracker': 'bool[]',\n",
       " 'Muon_jetNDauCharged': 'uint8_t[]',\n",
       " 'Muon_looseId': 'bool[]',\n",
       " 'Muon_mediumId': 'bool[]',\n",
       " 'Muon_mediumPromptId': 'bool[]',\n",
       " 'Muon_miniIsoId': 'uint8_t[]',\n",
       " 'Muon_multiIsoId': 'uint8_t[]',\n",
       " 'Muon_mvaId': 'uint8_t[]',\n",
       " 'Muon_mvaLowPtId': 'uint8_t[]',\n",
       " 'Muon_pfIsoId': 'uint8_t[]',\n",
       " 'Muon_puppiIsoId': 'uint8_t[]',\n",
       " 'Muon_softId': 'bool[]',\n",
       " 'Muon_softMvaId': 'bool[]',\n",
       " 'Muon_tightId': 'bool[]',\n",
       " 'Muon_tkIsoId': 'uint8_t[]',\n",
       " 'Muon_triggerIdLoose': 'bool[]',\n",
       " 'nPhoton': 'uint32_t',\n",
       " 'Photon_dEscaleDown': 'float[]',\n",
       " 'Photon_dEscaleUp': 'float[]',\n",
       " 'Photon_dEsigmaDown': 'float[]',\n",
       " 'Photon_dEsigmaUp': 'float[]',\n",
       " 'Photon_eCorr': 'float[]',\n",
       " 'Photon_energyErr': 'float[]',\n",
       " 'Photon_eta': 'float[]',\n",
       " 'Photon_hoe': 'float[]',\n",
       " 'Photon_mass': 'float[]',\n",
       " 'Photon_mvaID': 'float[]',\n",
       " 'Photon_mvaID_Fall17V1p1': 'float[]',\n",
       " 'Photon_pfRelIso03_all': 'float[]',\n",
       " 'Photon_pfRelIso03_chg': 'float[]',\n",
       " 'Photon_phi': 'float[]',\n",
       " 'Photon_pt': 'float[]',\n",
       " 'Photon_r9': 'float[]',\n",
       " 'Photon_sieie': 'float[]',\n",
       " 'Photon_charge': 'int32_t[]',\n",
       " 'Photon_cutBased': 'int32_t[]',\n",
       " 'Photon_cutBased_Fall17V1Bitmap': 'int32_t[]',\n",
       " 'Photon_electronIdx': 'int32_t[]',\n",
       " 'Photon_jetIdx': 'int32_t[]',\n",
       " 'Photon_pdgId': 'int32_t[]',\n",
       " 'Photon_vidNestedWPBitmap': 'int32_t[]',\n",
       " 'Photon_electronVeto': 'bool[]',\n",
       " 'Photon_isScEtaEB': 'bool[]',\n",
       " 'Photon_isScEtaEE': 'bool[]',\n",
       " 'Photon_mvaID_WP80': 'bool[]',\n",
       " 'Photon_mvaID_WP90': 'bool[]',\n",
       " 'Photon_pixelSeed': 'bool[]',\n",
       " 'Photon_seedGain': 'uint8_t[]',\n",
       " 'Pileup_nTrueInt': 'float',\n",
       " 'Pileup_pudensity': 'float',\n",
       " 'Pileup_gpudensity': 'float',\n",
       " 'Pileup_nPU': 'int32_t',\n",
       " 'Pileup_sumEOOT': 'int32_t',\n",
       " 'Pileup_sumLOOT': 'int32_t',\n",
       " 'PuppiMET_phi': 'float',\n",
       " 'PuppiMET_phiJERDown': 'float',\n",
       " 'PuppiMET_phiJERUp': 'float',\n",
       " 'PuppiMET_phiJESDown': 'float',\n",
       " 'PuppiMET_phiJESUp': 'float',\n",
       " 'PuppiMET_phiUnclusteredDown': 'float',\n",
       " 'PuppiMET_phiUnclusteredUp': 'float',\n",
       " 'PuppiMET_pt': 'float',\n",
       " 'PuppiMET_ptJERDown': 'float',\n",
       " 'PuppiMET_ptJERUp': 'float',\n",
       " 'PuppiMET_ptJESDown': 'float',\n",
       " 'PuppiMET_ptJESUp': 'float',\n",
       " 'PuppiMET_ptUnclusteredDown': 'float',\n",
       " 'PuppiMET_ptUnclusteredUp': 'float',\n",
       " 'PuppiMET_sumEt': 'float',\n",
       " 'RawMET_phi': 'float',\n",
       " 'RawMET_pt': 'float',\n",
       " 'RawMET_sumEt': 'float',\n",
       " 'RawPuppiMET_phi': 'float',\n",
       " 'RawPuppiMET_pt': 'float',\n",
       " 'RawPuppiMET_sumEt': 'float',\n",
       " 'fixedGridRhoFastjetAll': 'float',\n",
       " 'fixedGridRhoFastjetCentral': 'float',\n",
       " 'fixedGridRhoFastjetCentralCalo': 'float',\n",
       " 'fixedGridRhoFastjetCentralChargedPileUp': 'float',\n",
       " 'fixedGridRhoFastjetCentralNeutral': 'float',\n",
       " 'nGenDressedLepton': 'uint32_t',\n",
       " 'GenDressedLepton_eta': 'float[]',\n",
       " 'GenDressedLepton_mass': 'float[]',\n",
       " 'GenDressedLepton_phi': 'float[]',\n",
       " 'GenDressedLepton_pt': 'float[]',\n",
       " 'GenDressedLepton_pdgId': 'int32_t[]',\n",
       " 'GenDressedLepton_hasTauAnc': 'bool[]',\n",
       " 'nGenIsolatedPhoton': 'uint32_t',\n",
       " 'GenIsolatedPhoton_eta': 'float[]',\n",
       " 'GenIsolatedPhoton_mass': 'float[]',\n",
       " 'GenIsolatedPhoton_phi': 'float[]',\n",
       " 'GenIsolatedPhoton_pt': 'float[]',\n",
       " 'nSoftActivityJet': 'uint32_t',\n",
       " 'SoftActivityJet_eta': 'float[]',\n",
       " 'SoftActivityJet_phi': 'float[]',\n",
       " 'SoftActivityJet_pt': 'float[]',\n",
       " 'SoftActivityJetHT': 'float',\n",
       " 'SoftActivityJetHT10': 'float',\n",
       " 'SoftActivityJetHT2': 'float',\n",
       " 'SoftActivityJetHT5': 'float',\n",
       " 'SoftActivityJetNjets10': 'int32_t',\n",
       " 'SoftActivityJetNjets2': 'int32_t',\n",
       " 'SoftActivityJetNjets5': 'int32_t',\n",
       " 'nSubJet': 'uint32_t',\n",
       " 'SubJet_btagCSVV2': 'float[]',\n",
       " 'SubJet_btagDeepB': 'float[]',\n",
       " 'SubJet_eta': 'float[]',\n",
       " 'SubJet_mass': 'float[]',\n",
       " 'SubJet_n2b1': 'float[]',\n",
       " 'SubJet_n3b1': 'float[]',\n",
       " 'SubJet_phi': 'float[]',\n",
       " 'SubJet_pt': 'float[]',\n",
       " 'SubJet_rawFactor': 'float[]',\n",
       " 'SubJet_tau1': 'float[]',\n",
       " 'SubJet_tau2': 'float[]',\n",
       " 'SubJet_tau3': 'float[]',\n",
       " 'SubJet_tau4': 'float[]',\n",
       " 'nTau': 'uint32_t',\n",
       " 'Tau_chargedIso': 'float[]',\n",
       " 'Tau_dxy': 'float[]',\n",
       " 'Tau_dz': 'float[]',\n",
       " 'Tau_eta': 'float[]',\n",
       " 'Tau_leadTkDeltaEta': 'float[]',\n",
       " 'Tau_leadTkDeltaPhi': 'float[]',\n",
       " 'Tau_leadTkPtOverTauPt': 'float[]',\n",
       " 'Tau_mass': 'float[]',\n",
       " 'Tau_neutralIso': 'float[]',\n",
       " 'Tau_phi': 'float[]',\n",
       " 'Tau_photonsOutsideSignalCone': 'float[]',\n",
       " 'Tau_pt': 'float[]',\n",
       " 'Tau_puCorr': 'float[]',\n",
       " 'Tau_rawDeepTau2017v2p1VSe': 'float[]',\n",
       " 'Tau_rawDeepTau2017v2p1VSjet': 'float[]',\n",
       " 'Tau_rawDeepTau2017v2p1VSmu': 'float[]',\n",
       " 'Tau_rawIso': 'float[]',\n",
       " 'Tau_rawIsodR03': 'float[]',\n",
       " 'Tau_charge': 'int32_t[]',\n",
       " 'Tau_decayMode': 'int32_t[]',\n",
       " 'Tau_jetIdx': 'int32_t[]',\n",
       " 'Tau_idAntiEleDeadECal': 'bool[]',\n",
       " 'Tau_idAntiMu': 'uint8_t[]',\n",
       " 'Tau_idDecayModeOldDMs': 'bool[]',\n",
       " 'Tau_idDeepTau2017v2p1VSe': 'uint8_t[]',\n",
       " 'Tau_idDeepTau2017v2p1VSjet': 'uint8_t[]',\n",
       " 'Tau_idDeepTau2017v2p1VSmu': 'uint8_t[]',\n",
       " 'TkMET_phi': 'float',\n",
       " 'TkMET_pt': 'float',\n",
       " 'TkMET_sumEt': 'float',\n",
       " 'nTrigObj': 'uint32_t',\n",
       " 'TrigObj_pt': 'float[]',\n",
       " 'TrigObj_eta': 'float[]',\n",
       " 'TrigObj_phi': 'float[]',\n",
       " 'TrigObj_l1pt': 'float[]',\n",
       " 'TrigObj_l1pt_2': 'float[]',\n",
       " 'TrigObj_l2pt': 'float[]',\n",
       " 'TrigObj_id': 'int32_t[]',\n",
       " 'TrigObj_l1iso': 'int32_t[]',\n",
       " 'TrigObj_l1charge': 'int32_t[]',\n",
       " 'TrigObj_filterBits': 'int32_t[]',\n",
       " 'genTtbarId': 'int32_t',\n",
       " 'nOtherPV': 'uint32_t',\n",
       " 'OtherPV_z': 'float[]',\n",
       " 'PV_ndof': 'float',\n",
       " 'PV_x': 'float',\n",
       " 'PV_y': 'float',\n",
       " 'PV_z': 'float',\n",
       " 'PV_chi2': 'float',\n",
       " 'PV_score': 'float',\n",
       " 'PV_npvs': 'int32_t',\n",
       " 'PV_npvsGood': 'int32_t',\n",
       " 'nSV': 'uint32_t',\n",
       " 'SV_dlen': 'float[]',\n",
       " 'SV_dlenSig': 'float[]',\n",
       " 'SV_dxy': 'float[]',\n",
       " 'SV_dxySig': 'float[]',\n",
       " 'SV_pAngle': 'float[]',\n",
       " 'SV_charge': 'int32_t[]',\n",
       " 'boostedTau_genPartIdx': 'int32_t[]',\n",
       " 'boostedTau_genPartFlav': 'uint8_t[]',\n",
       " 'Electron_genPartIdx': 'int32_t[]',\n",
       " 'Electron_genPartFlav': 'uint8_t[]',\n",
       " 'FatJet_genJetAK8Idx': 'int32_t[]',\n",
       " 'FatJet_hadronFlavour': 'int32_t[]',\n",
       " 'FatJet_nBHadrons': 'uint8_t[]',\n",
       " 'FatJet_nCHadrons': 'uint8_t[]',\n",
       " 'GenJetAK8_partonFlavour': 'int32_t[]',\n",
       " 'GenJetAK8_hadronFlavour': 'uint8_t[]',\n",
       " 'GenJet_partonFlavour': 'int32_t[]',\n",
       " 'GenJet_hadronFlavour': 'uint8_t[]',\n",
       " 'GenVtx_t0': 'float',\n",
       " 'Jet_genJetIdx': 'int32_t[]',\n",
       " 'Jet_hadronFlavour': 'int32_t[]',\n",
       " 'Jet_partonFlavour': 'int32_t[]',\n",
       " 'LowPtElectron_genPartIdx': 'int32_t[]',\n",
       " 'LowPtElectron_genPartFlav': 'uint8_t[]',\n",
       " 'Muon_genPartIdx': 'int32_t[]',\n",
       " 'Muon_genPartFlav': 'uint8_t[]',\n",
       " 'Photon_genPartIdx': 'int32_t[]',\n",
       " 'Photon_genPartFlav': 'uint8_t[]',\n",
       " 'MET_fiducialGenPhi': 'float',\n",
       " 'MET_fiducialGenPt': 'float',\n",
       " 'Electron_cleanmask': 'uint8_t[]',\n",
       " 'Jet_cleanmask': 'uint8_t[]',\n",
       " 'Muon_cleanmask': 'uint8_t[]',\n",
       " 'Photon_cleanmask': 'uint8_t[]',\n",
       " 'Tau_cleanmask': 'uint8_t[]',\n",
       " 'SubJet_hadronFlavour': 'int32_t[]',\n",
       " 'SubJet_nBHadrons': 'uint8_t[]',\n",
       " 'SubJet_nCHadrons': 'uint8_t[]',\n",
       " 'SV_chi2': 'float[]',\n",
       " 'SV_eta': 'float[]',\n",
       " 'SV_mass': 'float[]',\n",
       " 'SV_ndof': 'float[]',\n",
       " 'SV_phi': 'float[]',\n",
       " 'SV_pt': 'float[]',\n",
       " 'SV_x': 'float[]',\n",
       " 'SV_y': 'float[]',\n",
       " 'SV_z': 'float[]',\n",
       " 'SV_ntracks': 'uint8_t[]',\n",
       " 'Tau_genPartIdx': 'int32_t[]',\n",
       " 'Tau_genPartFlav': 'uint8_t[]',\n",
       " 'L1_AlwaysTrue': 'bool',\n",
       " 'L1_BRIL_TRIG0_AND': 'bool',\n",
       " 'L1_BRIL_TRIG0_FstBunchInTrain': 'bool',\n",
       " 'L1_BRIL_TRIG0_OR': 'bool',\n",
       " 'L1_BRIL_TRIG0_delayedAND': 'bool',\n",
       " 'L1_BeamGasB1': 'bool',\n",
       " 'L1_BeamGasB2': 'bool',\n",
       " 'L1_BeamGasMinus': 'bool',\n",
       " 'L1_BeamGasPlus': 'bool',\n",
       " 'L1_BptxMinus': 'bool',\n",
       " 'L1_BptxOR': 'bool',\n",
       " 'L1_BptxPlus': 'bool',\n",
       " 'L1_BptxXOR': 'bool',\n",
       " 'L1_DoubleEG6_HTT255': 'bool',\n",
       " 'L1_DoubleEG_15_10': 'bool',\n",
       " 'L1_DoubleEG_18_17': 'bool',\n",
       " 'L1_DoubleEG_20_18': 'bool',\n",
       " 'L1_DoubleEG_22_10': 'bool',\n",
       " 'L1_DoubleEG_22_12': 'bool',\n",
       " 'L1_DoubleEG_22_15': 'bool',\n",
       " 'L1_DoubleEG_23_10': 'bool',\n",
       " 'L1_DoubleEG_24_17': 'bool',\n",
       " 'L1_DoubleEG_25_12': 'bool',\n",
       " 'L1_DoubleIsoTau28er': 'bool',\n",
       " 'L1_DoubleIsoTau30er': 'bool',\n",
       " 'L1_DoubleIsoTau32er': 'bool',\n",
       " 'L1_DoubleIsoTau33er': 'bool',\n",
       " 'L1_DoubleIsoTau34er': 'bool',\n",
       " 'L1_DoubleIsoTau35er': 'bool',\n",
       " 'L1_DoubleIsoTau36er': 'bool',\n",
       " 'L1_DoubleJet12_ForwardBackward': 'bool',\n",
       " 'L1_DoubleJet16_ForwardBackward': 'bool',\n",
       " 'L1_DoubleJet8_ForwardBackward': 'bool',\n",
       " 'L1_DoubleJetC100': 'bool',\n",
       " 'L1_DoubleJetC112': 'bool',\n",
       " 'L1_DoubleJetC120': 'bool',\n",
       " 'L1_DoubleJetC40': 'bool',\n",
       " 'L1_DoubleJetC50': 'bool',\n",
       " 'L1_DoubleJetC60': 'bool',\n",
       " 'L1_DoubleJetC60_ETM60': 'bool',\n",
       " 'L1_DoubleJetC80': 'bool',\n",
       " 'L1_DoubleMu0': 'bool',\n",
       " 'L1_DoubleMu0_ETM40': 'bool',\n",
       " 'L1_DoubleMu0_ETM55': 'bool',\n",
       " 'L1_DoubleMu0er1p4_dEta_Max1p8_OS': 'bool',\n",
       " 'L1_DoubleMu0er1p6_dEta_Max1p8': 'bool',\n",
       " 'L1_DoubleMu0er1p6_dEta_Max1p8_OS': 'bool',\n",
       " 'L1_DoubleMu7_EG14': 'bool',\n",
       " 'L1_DoubleMu7_EG7': 'bool',\n",
       " 'L1_DoubleMuOpen': 'bool',\n",
       " 'L1_DoubleMu_10_0_dEta_Max1p8': 'bool',\n",
       " 'L1_DoubleMu_10_3p5': 'bool',\n",
       " 'L1_DoubleMu_10_Open': 'bool',\n",
       " 'L1_DoubleMu_11_4': 'bool',\n",
       " 'L1_DoubleMu_12_5': 'bool',\n",
       " 'L1_DoubleMu_12_8': 'bool',\n",
       " 'L1_DoubleMu_13_6': 'bool',\n",
       " 'L1_DoubleMu_15_5': 'bool',\n",
       " 'L1_DoubleTau50er': 'bool',\n",
       " 'L1_EG25er_HTT125': 'bool',\n",
       " 'L1_EG27er_HTT200': 'bool',\n",
       " 'L1_ETM100': 'bool',\n",
       " 'L1_ETM120': 'bool',\n",
       " 'L1_ETM30': 'bool',\n",
       " 'L1_ETM40': 'bool',\n",
       " 'L1_ETM50': 'bool',\n",
       " 'L1_ETM60': 'bool',\n",
       " 'L1_ETM70': 'bool',\n",
       " 'L1_ETM75': 'bool',\n",
       " 'L1_ETM75_Jet60_dPhi_Min0p4': 'bool',\n",
       " 'L1_ETM80': 'bool',\n",
       " 'L1_ETM85': 'bool',\n",
       " 'L1_ETM90': 'bool',\n",
       " 'L1_ETM95': 'bool',\n",
       " 'L1_ETT25': 'bool',\n",
       " 'L1_ETT35_BptxAND': 'bool',\n",
       " 'L1_ETT40_BptxAND': 'bool',\n",
       " 'L1_ETT50_BptxAND': 'bool',\n",
       " 'L1_ETT60_BptxAND': 'bool',\n",
       " 'L1_FirstBunchAfterTrain': 'bool',\n",
       " 'L1_FirstBunchInTrain': 'bool',\n",
       " 'L1_HTM100': 'bool',\n",
       " 'L1_HTM120': 'bool',\n",
       " 'L1_HTM130': 'bool',\n",
       " 'L1_HTM140': 'bool',\n",
       " 'L1_HTM150': 'bool',\n",
       " 'L1_HTM50': 'bool',\n",
       " 'L1_HTM60_HTT260': 'bool',\n",
       " 'L1_HTM70': 'bool',\n",
       " 'L1_HTM80': 'bool',\n",
       " 'L1_HTM80_HTT220': 'bool',\n",
       " 'L1_HTT120': 'bool',\n",
       " 'L1_HTT160': 'bool',\n",
       " 'L1_HTT200': 'bool',\n",
       " 'L1_HTT220': 'bool',\n",
       " 'L1_HTT240': 'bool',\n",
       " 'L1_HTT255': 'bool',\n",
       " 'L1_HTT270': 'bool',\n",
       " 'L1_HTT280': 'bool',\n",
       " 'L1_HTT300': 'bool',\n",
       " 'L1_HTT320': 'bool',\n",
       " 'L1_IsoEG18er_IsoTau24er_dEta_Min0p2': 'bool',\n",
       " 'L1_IsoEG20er_IsoTau25er_dEta_Min0p2': 'bool',\n",
       " 'L1_IsoEG22er_IsoTau26er_dEta_Min0p2': 'bool',\n",
       " 'L1_IsoEG22er_Tau20er_dEta_Min0p2': 'bool',\n",
       " 'L1_IsolatedBunch': 'bool',\n",
       " 'L1_Jet32_DoubleMu_10_0_dPhi_Jet_Mu0_Max0p4_dPhi_Mu_Mu_Min1p0': 'bool',\n",
       " 'L1_Jet32_Mu0_EG10_dPhi_Jet_Mu_Max0p4_dPhi_Mu_EG_Min1p0': 'bool',\n",
       " 'L1_MU20_EG15': 'bool',\n",
       " 'L1_MinimumBiasHF0_AND': 'bool',\n",
       " 'L1_MinimumBiasHF0_AND_BptxAND': 'bool',\n",
       " 'L1_MinimumBiasHF0_OR': 'bool',\n",
       " 'L1_MinimumBiasHF0_OR_BptxAND': 'bool',\n",
       " 'L1_MinimumBiasHF1_AND': 'bool',\n",
       " 'L1_MinimumBiasHF1_AND_BptxAND': 'bool',\n",
       " 'L1_MinimumBiasHF1_OR': 'bool',\n",
       " 'L1_MinimumBiasHF1_OR_BptxAND': 'bool',\n",
       " 'L1_Mu0er_ETM40': 'bool',\n",
       " 'L1_Mu0er_ETM55': 'bool',\n",
       " 'L1_Mu10er_ETM30': 'bool',\n",
       " 'L1_Mu10er_ETM50': 'bool',\n",
       " 'L1_Mu12_EG10': 'bool',\n",
       " 'L1_Mu14er_ETM30': 'bool',\n",
       " 'L1_Mu16er_Tau20er': 'bool',\n",
       " 'L1_Mu16er_Tau24er': 'bool',\n",
       " 'L1_Mu18er_IsoTau26er': 'bool',\n",
       " 'L1_Mu18er_Tau20er': 'bool',\n",
       " 'L1_Mu18er_Tau24er': 'bool',\n",
       " 'L1_Mu20_EG10': 'bool',\n",
       " 'L1_Mu20_EG17': 'bool',\n",
       " 'L1_Mu20_IsoEG6': 'bool',\n",
       " 'L1_Mu20er_IsoTau26er': 'bool',\n",
       " 'L1_Mu22er_IsoTau26er': 'bool',\n",
       " 'L1_Mu23_EG10': 'bool',\n",
       " 'L1_Mu23_IsoEG10': 'bool',\n",
       " 'L1_Mu25er_IsoTau26er': 'bool',\n",
       " 'L1_Mu3_JetC120': 'bool',\n",
       " 'L1_Mu3_JetC120_dEta_Max0p4_dPhi_Max0p4': 'bool',\n",
       " 'L1_Mu3_JetC16': 'bool',\n",
       " 'L1_Mu3_JetC16_dEta_Max0p4_dPhi_Max0p4': 'bool',\n",
       " 'L1_Mu3_JetC60': 'bool',\n",
       " 'L1_Mu3_JetC60_dEta_Max0p4_dPhi_Max0p4': 'bool',\n",
       " 'L1_Mu5_EG15': 'bool',\n",
       " 'L1_Mu5_EG20': 'bool',\n",
       " 'L1_Mu5_EG23': 'bool',\n",
       " 'L1_Mu5_IsoEG18': 'bool',\n",
       " 'L1_Mu5_IsoEG20': 'bool',\n",
       " 'L1_Mu6_DoubleEG10': 'bool',\n",
       " 'L1_Mu6_DoubleEG17': 'bool',\n",
       " 'L1_Mu6_HTT200': 'bool',\n",
       " 'L1_Mu8_HTT150': 'bool',\n",
       " 'L1_NotBptxOR': 'bool',\n",
       " 'L1_QuadJetC36_Tau52': 'bool',\n",
       " 'L1_QuadJetC40': 'bool',\n",
       " 'L1_QuadJetC50': 'bool',\n",
       " 'L1_QuadJetC60': 'bool',\n",
       " 'L1_QuadMu0': 'bool',\n",
       " 'L1_SingleEG10': 'bool',\n",
       " 'L1_SingleEG15': 'bool',\n",
       " 'L1_SingleEG18': 'bool',\n",
       " 'L1_SingleEG24': 'bool',\n",
       " 'L1_SingleEG26': 'bool',\n",
       " 'L1_SingleEG28': 'bool',\n",
       " 'L1_SingleEG2_BptxAND': 'bool',\n",
       " 'L1_SingleEG30': 'bool',\n",
       " 'L1_SingleEG32': 'bool',\n",
       " 'L1_SingleEG34': 'bool',\n",
       " 'L1_SingleEG36': 'bool',\n",
       " 'L1_SingleEG38': 'bool',\n",
       " 'L1_SingleEG40': 'bool',\n",
       " 'L1_SingleEG45': 'bool',\n",
       " 'L1_SingleEG5': 'bool',\n",
       " 'L1_SingleIsoEG18': 'bool',\n",
       " 'L1_SingleIsoEG18er': 'bool',\n",
       " 'L1_SingleIsoEG20': 'bool',\n",
       " 'L1_SingleIsoEG20er': 'bool',\n",
       " 'L1_SingleIsoEG22': 'bool',\n",
       " 'L1_SingleIsoEG22er': 'bool',\n",
       " 'L1_SingleIsoEG24': 'bool',\n",
       " 'L1_SingleIsoEG24er': 'bool',\n",
       " 'L1_SingleIsoEG26': 'bool',\n",
       " 'L1_SingleIsoEG26er': 'bool',\n",
       " 'L1_SingleIsoEG28': 'bool',\n",
       " 'L1_SingleIsoEG28er': 'bool',\n",
       " 'L1_SingleIsoEG30': 'bool',\n",
       " 'L1_SingleIsoEG30er': 'bool',\n",
       " 'L1_SingleIsoEG32': 'bool',\n",
       " 'L1_SingleIsoEG32er': 'bool',\n",
       " 'L1_SingleIsoEG34': 'bool',\n",
       " 'L1_SingleIsoEG34er': 'bool',\n",
       " 'L1_SingleIsoEG36': 'bool',\n",
       " 'L1_SingleJet120': 'bool',\n",
       " 'L1_SingleJet12_BptxAND': 'bool',\n",
       " 'L1_SingleJet140': 'bool',\n",
       " 'L1_SingleJet150': 'bool',\n",
       " 'L1_SingleJet16': 'bool',\n",
       " 'L1_SingleJet160': 'bool',\n",
       " 'L1_SingleJet170': 'bool',\n",
       " 'L1_SingleJet180': 'bool',\n",
       " 'L1_SingleJet20': 'bool',\n",
       " 'L1_SingleJet200': 'bool',\n",
       " 'L1_SingleJet35': 'bool',\n",
       " 'L1_SingleJet60': 'bool',\n",
       " 'L1_SingleJet8_BptxAND': 'bool',\n",
       " 'L1_SingleJet90': 'bool',\n",
       " 'L1_SingleJetC20_NotBptxOR': 'bool',\n",
       " 'L1_SingleJetC20_NotBptxOR_3BX': 'bool',\n",
       " 'L1_SingleJetC32_NotBptxOR': 'bool',\n",
       " 'L1_SingleJetC32_NotBptxOR_3BX': 'bool',\n",
       " 'L1_SingleJetC36_NotBptxOR_3BX': 'bool',\n",
       " 'L1_SingleMu10_LowQ': 'bool',\n",
       " 'L1_SingleMu12': 'bool',\n",
       " 'L1_SingleMu14': 'bool',\n",
       " 'L1_SingleMu14er': 'bool',\n",
       " 'L1_SingleMu16': 'bool',\n",
       " 'L1_SingleMu16er': 'bool',\n",
       " 'L1_SingleMu18': 'bool',\n",
       " 'L1_SingleMu18er': 'bool',\n",
       " 'L1_SingleMu20': 'bool',\n",
       " 'L1_SingleMu20er': 'bool',\n",
       " 'L1_SingleMu22': 'bool',\n",
       " 'L1_SingleMu22er': 'bool',\n",
       " 'L1_SingleMu25': 'bool',\n",
       " 'L1_SingleMu25er': 'bool',\n",
       " 'L1_SingleMu3': 'bool',\n",
       " 'L1_SingleMu30': 'bool',\n",
       " 'L1_SingleMu30er': 'bool',\n",
       " 'L1_SingleMu5': 'bool',\n",
       " 'L1_SingleMu7': 'bool',\n",
       " 'L1_SingleMuCosmics': 'bool',\n",
       " 'L1_SingleMuOpen': 'bool',\n",
       " 'L1_SingleMuOpen_NotBptxOR': 'bool',\n",
       " 'L1_SingleMuOpen_NotBptxOR_3BX': 'bool',\n",
       " 'L1_SingleTau100er': 'bool',\n",
       " 'L1_SingleTau120er': 'bool',\n",
       " 'L1_SingleTau80er': 'bool',\n",
       " 'L1_TripleEG_14_10_8': 'bool',\n",
       " 'L1_TripleEG_18_17_8': 'bool',\n",
       " 'L1_TripleJet_84_68_48_VBF': 'bool',\n",
       " 'L1_TripleJet_88_72_56_VBF': 'bool',\n",
       " 'L1_TripleJet_92_76_64_VBF': 'bool',\n",
       " 'L1_TripleMu0': 'bool',\n",
       " 'L1_TripleMu_5_0_0': 'bool',\n",
       " 'L1_TripleMu_5_5_3': 'bool',\n",
       " 'L1_ZeroBias': 'bool',\n",
       " 'L1_ZeroBias_FirstCollidingBunch': 'bool',\n",
       " 'L1_ZeroBias_copy': 'bool',\n",
       " 'L1_UnprefireableEvent': 'bool',\n",
       " 'Flag_HBHENoiseFilter': 'bool',\n",
       " 'Flag_HBHENoiseIsoFilter': 'bool',\n",
       " 'Flag_CSCTightHaloFilter': 'bool',\n",
       " 'Flag_CSCTightHaloTrkMuUnvetoFilter': 'bool',\n",
       " 'Flag_CSCTightHalo2015Filter': 'bool',\n",
       " 'Flag_globalTightHalo2016Filter': 'bool',\n",
       " 'Flag_globalSuperTightHalo2016Filter': 'bool',\n",
       " 'Flag_HcalStripHaloFilter': 'bool',\n",
       " 'Flag_hcalLaserEventFilter': 'bool',\n",
       " 'Flag_EcalDeadCellTriggerPrimitiveFilter': 'bool',\n",
       " 'Flag_EcalDeadCellBoundaryEnergyFilter': 'bool',\n",
       " 'Flag_ecalBadCalibFilter': 'bool',\n",
       " 'Flag_goodVertices': 'bool',\n",
       " 'Flag_eeBadScFilter': 'bool',\n",
       " 'Flag_ecalLaserCorrFilter': 'bool',\n",
       " 'Flag_trkPOGFilters': 'bool',\n",
       " 'Flag_chargedHadronTrackResolutionFilter': 'bool',\n",
       " 'Flag_muonBadTrackFilter': 'bool',\n",
       " 'Flag_BadChargedCandidateFilter': 'bool',\n",
       " 'Flag_BadPFMuonFilter': 'bool',\n",
       " 'Flag_BadPFMuonDzFilter': 'bool',\n",
       " 'Flag_hfNoisyHitsFilter': 'bool',\n",
       " 'Flag_BadChargedCandidateSummer16Filter': 'bool',\n",
       " 'Flag_BadPFMuonSummer16Filter': 'bool',\n",
       " 'Flag_trkPOG_manystripclus53X': 'bool',\n",
       " 'Flag_trkPOG_toomanystripclus53X': 'bool',\n",
       " 'Flag_trkPOG_logErrorTooManyClusters': 'bool',\n",
       " 'Flag_METFilters': 'bool',\n",
       " 'L1Reco_step': 'bool',\n",
       " 'HLTriggerFirstPath': 'bool',\n",
       " 'HLT_AK8PFJet360_TrimMass30': 'bool',\n",
       " 'HLT_AK8PFJet400_TrimMass30': 'bool',\n",
       " 'HLT_AK8PFHT750_TrimMass50': 'bool',\n",
       " 'HLT_AK8PFHT800_TrimMass50': 'bool',\n",
       " 'HLT_AK8DiPFJet300_200_TrimMass30_BTagCSV_p20': 'bool',\n",
       " 'HLT_AK8DiPFJet280_200_TrimMass30_BTagCSV_p087': 'bool',\n",
       " 'HLT_AK8DiPFJet300_200_TrimMass30_BTagCSV_p087': 'bool',\n",
       " 'HLT_AK8DiPFJet300_200_TrimMass30': 'bool',\n",
       " 'HLT_AK8PFHT700_TrimR0p1PT0p03Mass50': 'bool',\n",
       " 'HLT_AK8PFHT650_TrimR0p1PT0p03Mass50': 'bool',\n",
       " 'HLT_AK8PFHT600_TrimR0p1PT0p03Mass50_BTagCSV_p20': 'bool',\n",
       " 'HLT_AK8DiPFJet280_200_TrimMass30': 'bool',\n",
       " 'HLT_AK8DiPFJet250_200_TrimMass30': 'bool',\n",
       " 'HLT_AK8DiPFJet280_200_TrimMass30_BTagCSV_p20': 'bool',\n",
       " 'HLT_AK8DiPFJet250_200_TrimMass30_BTagCSV_p20': 'bool',\n",
       " 'HLT_CaloJet260': 'bool',\n",
       " 'HLT_CaloJet500_NoJetID': 'bool',\n",
       " 'HLT_Dimuon13_PsiPrime': 'bool',\n",
       " 'HLT_Dimuon13_Upsilon': 'bool',\n",
       " 'HLT_Dimuon20_Jpsi': 'bool',\n",
       " 'HLT_DoubleEle24_22_eta2p1_WPLoose_Gsf': 'bool',\n",
       " 'HLT_DoubleEle25_CaloIdL_GsfTrkIdVL': 'bool',\n",
       " 'HLT_DoubleEle33_CaloIdL': 'bool',\n",
       " 'HLT_DoubleEle33_CaloIdL_MW': 'bool',\n",
       " 'HLT_DoubleEle33_CaloIdL_GsfTrkIdVL_MW': 'bool',\n",
       " 'HLT_DoubleEle33_CaloIdL_GsfTrkIdVL': 'bool',\n",
       " 'HLT_DoubleMediumCombinedIsoPFTau35_Trk1_eta2p1_Reg': 'bool',\n",
       " 'HLT_DoubleTightCombinedIsoPFTau35_Trk1_eta2p1_Reg': 'bool',\n",
       " 'HLT_DoubleMediumCombinedIsoPFTau40_Trk1_eta2p1_Reg': 'bool',\n",
       " 'HLT_DoubleTightCombinedIsoPFTau40_Trk1_eta2p1_Reg': 'bool',\n",
       " 'HLT_DoubleMediumCombinedIsoPFTau40_Trk1_eta2p1': 'bool',\n",
       " 'HLT_DoubleTightCombinedIsoPFTau40_Trk1_eta2p1': 'bool',\n",
       " 'HLT_DoubleMediumIsoPFTau35_Trk1_eta2p1_Reg': 'bool',\n",
       " 'HLT_DoubleMediumIsoPFTau40_Trk1_eta2p1_Reg': 'bool',\n",
       " 'HLT_DoubleMediumIsoPFTau40_Trk1_eta2p1': 'bool',\n",
       " 'HLT_DoubleEle37_Ele27_CaloIdL_GsfTrkIdVL': 'bool',\n",
       " 'HLT_DoubleMu33NoFiltersNoVtx': 'bool',\n",
       " 'HLT_DoubleMu38NoFiltersNoVtx': 'bool',\n",
       " 'HLT_DoubleMu23NoFiltersNoVtxDisplaced': 'bool',\n",
       " 'HLT_DoubleMu28NoFiltersNoVtxDisplaced': 'bool',\n",
       " 'HLT_DoubleMu0': 'bool',\n",
       " 'HLT_DoubleMu4_3_Bs': 'bool',\n",
       " 'HLT_DoubleMu4_3_Jpsi_Displaced': 'bool',\n",
       " 'HLT_DoubleMu4_JpsiTrk_Displaced': 'bool',\n",
       " 'HLT_DoubleMu4_LowMassNonResonantTrk_Displaced': 'bool',\n",
       " 'HLT_DoubleMu3_Trk_Tau3mu': 'bool',\n",
       " 'HLT_DoubleMu4_PsiPrimeTrk_Displaced': 'bool',\n",
       " 'HLT_Mu7p5_L2Mu2_Jpsi': 'bool',\n",
       " 'HLT_Mu7p5_L2Mu2_Upsilon': 'bool',\n",
       " 'HLT_Mu7p5_Track2_Jpsi': 'bool',\n",
       " 'HLT_Mu7p5_Track3p5_Jpsi': 'bool',\n",
       " 'HLT_Mu7p5_Track7_Jpsi': 'bool',\n",
       " 'HLT_Mu7p5_Track2_Upsilon': 'bool',\n",
       " 'HLT_Mu7p5_Track3p5_Upsilon': 'bool',\n",
       " 'HLT_Mu7p5_Track7_Upsilon': 'bool',\n",
       " 'HLT_Dimuon0er16_Jpsi_NoOS_NoVertexing': 'bool',\n",
       " 'HLT_Dimuon0er16_Jpsi_NoVertexing': 'bool',\n",
       " 'HLT_Dimuon6_Jpsi_NoVertexing': 'bool',\n",
       " 'HLT_Photon150': 'bool',\n",
       " 'HLT_Photon90_CaloIdL_HT300': 'bool',\n",
       " 'HLT_HT250_CaloMET70': 'bool',\n",
       " 'HLT_DoublePhoton60': 'bool',\n",
       " 'HLT_DoublePhoton85': 'bool',\n",
       " 'HLT_Ele17_Ele8_Gsf': 'bool',\n",
       " 'HLT_Ele20_eta2p1_WPLoose_Gsf_LooseIsoPFTau28': 'bool',\n",
       " 'HLT_Ele22_eta2p1_WPLoose_Gsf_LooseIsoPFTau29': 'bool',\n",
       " 'HLT_Ele22_eta2p1_WPLoose_Gsf': 'bool',\n",
       " 'HLT_Ele22_eta2p1_WPLoose_Gsf_LooseIsoPFTau20_SingleL1': 'bool',\n",
       " 'HLT_Ele23_WPLoose_Gsf': 'bool',\n",
       " 'HLT_Ele23_WPLoose_Gsf_WHbbBoost': 'bool',\n",
       " 'HLT_Ele24_eta2p1_WPLoose_Gsf': 'bool',\n",
       " 'HLT_Ele24_eta2p1_WPLoose_Gsf_LooseIsoPFTau20': 'bool',\n",
       " 'HLT_Ele24_eta2p1_WPLoose_Gsf_LooseIsoPFTau20_SingleL1': 'bool',\n",
       " 'HLT_Ele24_eta2p1_WPLoose_Gsf_LooseIsoPFTau30': 'bool',\n",
       " 'HLT_Ele25_WPTight_Gsf': 'bool',\n",
       " 'HLT_Ele25_eta2p1_WPLoose_Gsf': 'bool',\n",
       " 'HLT_Ele25_eta2p1_WPTight_Gsf': 'bool',\n",
       " 'HLT_Ele27_WPLoose_Gsf': 'bool',\n",
       " 'HLT_Ele27_WPLoose_Gsf_WHbbBoost': 'bool',\n",
       " 'HLT_Ele27_WPTight_Gsf': 'bool',\n",
       " 'HLT_Ele27_WPTight_Gsf_L1JetTauSeeded': 'bool',\n",
       " 'HLT_Ele27_eta2p1_WPLoose_Gsf': 'bool',\n",
       " 'HLT_Ele27_eta2p1_WPLoose_Gsf_LooseIsoPFTau20_SingleL1': 'bool',\n",
       " 'HLT_Ele27_eta2p1_WPTight_Gsf': 'bool',\n",
       " 'HLT_Ele30_WPTight_Gsf': 'bool',\n",
       " 'HLT_Ele30_eta2p1_WPLoose_Gsf': 'bool',\n",
       " 'HLT_Ele30_eta2p1_WPTight_Gsf': 'bool',\n",
       " 'HLT_Ele32_WPTight_Gsf': 'bool',\n",
       " 'HLT_Ele32_eta2p1_WPLoose_Gsf': 'bool',\n",
       " 'HLT_Ele32_eta2p1_WPLoose_Gsf_LooseIsoPFTau20_SingleL1': 'bool',\n",
       " 'HLT_Ele32_eta2p1_WPTight_Gsf': 'bool',\n",
       " 'HLT_Ele35_WPLoose_Gsf': 'bool',\n",
       " 'HLT_Ele35_CaloIdVT_GsfTrkIdT_PFJet150_PFJet50': 'bool',\n",
       " 'HLT_Ele36_eta2p1_WPLoose_Gsf_LooseIsoPFTau20_SingleL1': 'bool',\n",
       " 'HLT_Ele45_WPLoose_Gsf': 'bool',\n",
       " 'HLT_Ele45_WPLoose_Gsf_L1JetTauSeeded': 'bool',\n",
       " 'HLT_Ele45_CaloIdVT_GsfTrkIdT_PFJet200_PFJet50': 'bool',\n",
       " 'HLT_Ele105_CaloIdVT_GsfTrkIdT': 'bool',\n",
       " 'HLT_Ele30WP60_SC4_Mass55': 'bool',\n",
       " ...}"
      ]
     },
     "execution_count": 9,
     "metadata": {},
     "output_type": "execute_result"
    }
   ],
   "source": [
    "events.typenames()"
   ]
  },
  {
   "cell_type": "markdown",
   "id": "2b59b6c1-dcac-419f-92da-80f7f4fc8065",
   "metadata": {},
   "source": [
    "The number of \"rows\" or events is accessible as"
   ]
  },
  {
   "cell_type": "code",
   "execution_count": 10,
   "id": "c43b7490-df38-464a-b0ad-352e614cab88",
   "metadata": {},
   "outputs": [
    {
     "data": {
      "text/plain": [
       "1434319"
      ]
     },
     "execution_count": 10,
     "metadata": {},
     "output_type": "execute_result"
    }
   ],
   "source": [
    "events.num_entries"
   ]
  },
  {
   "cell_type": "code",
   "execution_count": 11,
   "id": "672bb3ed-93e5-4af5-899d-3cf8254a228b",
   "metadata": {},
   "outputs": [
    {
     "data": {
      "text/plain": [
       "1504"
      ]
     },
     "execution_count": 11,
     "metadata": {},
     "output_type": "execute_result"
    }
   ],
   "source": [
    "len(events)"
   ]
  },
  {
   "cell_type": "markdown",
   "id": "10790e5e-5aab-4844-bf5e-cc81f02f0c8c",
   "metadata": {},
   "source": [
    "It's also possible to open directly the TTree from the file"
   ]
  },
  {
   "cell_type": "code",
   "execution_count": 12,
   "id": "527f55ee-623d-45ae-8042-9f130f0f6686",
   "metadata": {},
   "outputs": [
    {
     "data": {
      "text/plain": [
       "<TTree 'Events' (1504 branches) at 0x7a1fd2f4e090>"
      ]
     },
     "execution_count": 12,
     "metadata": {},
     "output_type": "execute_result"
    }
   ],
   "source": [
    "events = uproot.open(f\"{cms_opendata_file}:Events\")\n",
    "events"
   ]
  },
  {
   "cell_type": "markdown",
   "id": "d75c29f6-0d1e-4d05-a741-6bed9cb8d989",
   "metadata": {},
   "source": [
    "## Arrays from TTree"
   ]
  },
  {
   "cell_type": "markdown",
   "id": "2810026e-1665-4123-9410-35606bee8b1d",
   "metadata": {},
   "source": [
    "There are many ways to read data from TTrees in *uproot*. \n",
    "\n",
    "- Read a single branch to a numpy arrays or Pandas serier\n",
    "- Read the full TTree data as a awkward-array\n",
    "- Read partially the TTree by specifing a list of branch\n",
    "- Apply a cut over the TTree rows before reading the data"
   ]
  },
  {
   "cell_type": "code",
   "execution_count": 13,
   "id": "cce10d32-a310-4c58-b4ca-965410a9abd0",
   "metadata": {
    "collapsed": true,
    "jupyter": {
     "outputs_hidden": true
    }
   },
   "outputs": [
    {
     "data": {
      "text/plain": [
       "\u001b[0;31mSignature:\u001b[0m\n",
       "\u001b[0mevents\u001b[0m\u001b[0;34m.\u001b[0m\u001b[0marrays\u001b[0m\u001b[0;34m(\u001b[0m\u001b[0;34m\u001b[0m\n",
       "\u001b[0;34m\u001b[0m    \u001b[0mexpressions\u001b[0m\u001b[0;34m=\u001b[0m\u001b[0;32mNone\u001b[0m\u001b[0;34m,\u001b[0m\u001b[0;34m\u001b[0m\n",
       "\u001b[0;34m\u001b[0m    \u001b[0mcut\u001b[0m\u001b[0;34m=\u001b[0m\u001b[0;32mNone\u001b[0m\u001b[0;34m,\u001b[0m\u001b[0;34m\u001b[0m\n",
       "\u001b[0;34m\u001b[0m    \u001b[0mfilter_name\u001b[0m\u001b[0;34m=\u001b[0m\u001b[0;34m<\u001b[0m\u001b[0mfunction\u001b[0m \u001b[0mno_filter\u001b[0m \u001b[0mat\u001b[0m \u001b[0;36m0x7a208577a480\u001b[0m\u001b[0;34m>\u001b[0m\u001b[0;34m,\u001b[0m\u001b[0;34m\u001b[0m\n",
       "\u001b[0;34m\u001b[0m    \u001b[0mfilter_typename\u001b[0m\u001b[0;34m=\u001b[0m\u001b[0;34m<\u001b[0m\u001b[0mfunction\u001b[0m \u001b[0mno_filter\u001b[0m \u001b[0mat\u001b[0m \u001b[0;36m0x7a208577a480\u001b[0m\u001b[0;34m>\u001b[0m\u001b[0;34m,\u001b[0m\u001b[0;34m\u001b[0m\n",
       "\u001b[0;34m\u001b[0m    \u001b[0mfilter_branch\u001b[0m\u001b[0;34m=\u001b[0m\u001b[0;34m<\u001b[0m\u001b[0mfunction\u001b[0m \u001b[0mno_filter\u001b[0m \u001b[0mat\u001b[0m \u001b[0;36m0x7a208577a480\u001b[0m\u001b[0;34m>\u001b[0m\u001b[0;34m,\u001b[0m\u001b[0;34m\u001b[0m\n",
       "\u001b[0;34m\u001b[0m    \u001b[0maliases\u001b[0m\u001b[0;34m=\u001b[0m\u001b[0;32mNone\u001b[0m\u001b[0;34m,\u001b[0m\u001b[0;34m\u001b[0m\n",
       "\u001b[0;34m\u001b[0m    \u001b[0mlanguage\u001b[0m\u001b[0;34m=\u001b[0m\u001b[0muproot\u001b[0m\u001b[0;34m.\u001b[0m\u001b[0mlanguage\u001b[0m\u001b[0;34m.\u001b[0m\u001b[0mpython\u001b[0m\u001b[0;34m.\u001b[0m\u001b[0mPythonLanguage\u001b[0m\u001b[0;34m(\u001b[0m\u001b[0;34m)\u001b[0m\u001b[0;34m,\u001b[0m\u001b[0;34m\u001b[0m\n",
       "\u001b[0;34m\u001b[0m    \u001b[0mentry_start\u001b[0m\u001b[0;34m=\u001b[0m\u001b[0;32mNone\u001b[0m\u001b[0;34m,\u001b[0m\u001b[0;34m\u001b[0m\n",
       "\u001b[0;34m\u001b[0m    \u001b[0mentry_stop\u001b[0m\u001b[0;34m=\u001b[0m\u001b[0;32mNone\u001b[0m\u001b[0;34m,\u001b[0m\u001b[0;34m\u001b[0m\n",
       "\u001b[0;34m\u001b[0m    \u001b[0mdecompression_executor\u001b[0m\u001b[0;34m=\u001b[0m\u001b[0;32mNone\u001b[0m\u001b[0;34m,\u001b[0m\u001b[0;34m\u001b[0m\n",
       "\u001b[0;34m\u001b[0m    \u001b[0minterpretation_executor\u001b[0m\u001b[0;34m=\u001b[0m\u001b[0;32mNone\u001b[0m\u001b[0;34m,\u001b[0m\u001b[0;34m\u001b[0m\n",
       "\u001b[0;34m\u001b[0m    \u001b[0marray_cache\u001b[0m\u001b[0;34m=\u001b[0m\u001b[0;34m'inherit'\u001b[0m\u001b[0;34m,\u001b[0m\u001b[0;34m\u001b[0m\n",
       "\u001b[0;34m\u001b[0m    \u001b[0mlibrary\u001b[0m\u001b[0;34m=\u001b[0m\u001b[0;34m'ak'\u001b[0m\u001b[0;34m,\u001b[0m\u001b[0;34m\u001b[0m\n",
       "\u001b[0;34m\u001b[0m    \u001b[0mhow\u001b[0m\u001b[0;34m=\u001b[0m\u001b[0;32mNone\u001b[0m\u001b[0;34m,\u001b[0m\u001b[0;34m\u001b[0m\n",
       "\u001b[0;34m\u001b[0m\u001b[0;34m)\u001b[0m\u001b[0;34m\u001b[0m\u001b[0;34m\u001b[0m\u001b[0m\n",
       "\u001b[0;31mDocstring:\u001b[0m\n",
       "Args:\n",
       "    expressions (None, str, or list of str): Names of ``TBranches`` or\n",
       "        aliases to convert to arrays or mathematical expressions of them.\n",
       "        Uses the ``language`` to evaluate. If None, all ``TBranches``\n",
       "        selected by the filters are included.\n",
       "    cut (None or str): If not None, this expression filters all of the\n",
       "        ``expressions``.\n",
       "    filter_name (None, glob string, regex string in ``\"/pattern/i\"`` syntax, function of str → bool, or iterable of the above): A\n",
       "        filter to select ``TBranches`` by name.\n",
       "    filter_typename (None, glob string, regex string in ``\"/pattern/i\"`` syntax, function of str → bool, or iterable of the above): A\n",
       "        filter to select ``TBranches`` by type.\n",
       "    filter_branch (None or function of :doc:`uproot.behaviors.TBranch.TBranch` → bool, :doc:`uproot.interpretation.Interpretation`, or None): A\n",
       "        filter to select ``TBranches`` using the full\n",
       "        :doc:`uproot.behaviors.TBranch.TBranch` object. If the function\n",
       "        returns False or None, the ``TBranch`` is excluded; if the function\n",
       "        returns True, it is included with its standard\n",
       "        :ref:`uproot.behaviors.TBranch.TBranch.interpretation`; if an\n",
       "        :doc:`uproot.interpretation.Interpretation`, this interpretation\n",
       "        overrules the standard one.\n",
       "    aliases (None or dict of str → str): Mathematical expressions that\n",
       "        can be used in ``expressions`` or other aliases (without cycles).\n",
       "        Uses the ``language`` engine to evaluate. If None, only the\n",
       "        :ref:`uproot.behaviors.TBranch.TBranch.aliases` are available.\n",
       "    language (:doc:`uproot.language.Language`): Language used to interpret\n",
       "        the ``expressions`` and ``aliases``.\n",
       "    entry_start (None or int): The first entry to include. If None, start\n",
       "        at zero. If negative, count from the end, like a Python slice.\n",
       "    entry_stop (None or int): The first entry to exclude (i.e. one greater\n",
       "        than the last entry to include). If None, stop at\n",
       "        :ref:`uproot.behaviors.TTree.TTree.num_entries`. If negative,\n",
       "        count from the end, like a Python slice.\n",
       "    decompression_executor (None or Executor with a ``submit`` method): The\n",
       "        executor that is used to decompress ``TBaskets``; if None, the\n",
       "        file's :ref:`uproot.reading.ReadOnlyFile.decompression_executor`\n",
       "        is used.\n",
       "    interpretation_executor (None or Executor with a ``submit`` method): The\n",
       "        executor that is used to interpret uncompressed ``TBasket`` data as\n",
       "        arrays; if None, the file's :ref:`uproot.reading.ReadOnlyFile.interpretation_executor`\n",
       "        is used.\n",
       "    array_cache (\"inherit\", None, MutableMapping, or memory size): Cache of arrays;\n",
       "        if \"inherit\", use the file's cache; if None, do not use a cache;\n",
       "        if a memory size, create a new cache of this size.\n",
       "    library (str or :doc:`uproot.interpretation.library.Library`): The library\n",
       "        that is used to represent arrays. Options are ``\"np\"`` for NumPy,\n",
       "        ``\"ak\"`` for Awkward Array, and ``\"pd\"`` for Pandas.\n",
       "    how (None, str, or container type): Library-dependent instructions\n",
       "        for grouping. The only recognized container types are ``tuple``,\n",
       "        ``list``, and ``dict``. Note that the container *type itself*\n",
       "        must be passed as ``how``, not an instance of that type (i.e.\n",
       "        ``how=tuple``, not ``how=()``).\n",
       "\n",
       "Returns a group of arrays from the ``TTree``.\n",
       "\n",
       "For example:\n",
       "\n",
       ".. code-block:: python\n",
       "\n",
       "    >>> my_tree[\"x\"].array()\n",
       "    <Array [-41.2, 35.1, 35.1, ... 32.4, 32.5] type='2304 * float64'>\n",
       "    >>> my_tree[\"y\"].array()\n",
       "    <Array [17.4, -16.6, -16.6, ... 1.2, 1.2, 1.2] type='2304 * float64'>\n",
       "\n",
       "See also :ref:`uproot.behaviors.TBranch.TBranch.array` to read a single\n",
       "``TBranch`` as an array.\n",
       "\n",
       "See also :ref:`uproot.behaviors.TBranch.HasBranches.iterate` to iterate over\n",
       "the array in contiguous ranges of entries.\n",
       "\u001b[0;31mFile:\u001b[0m      /opt/conda/lib/python3.11/site-packages/uproot/behaviors/TBranch.py\n",
       "\u001b[0;31mType:\u001b[0m      method"
      ]
     },
     "metadata": {},
     "output_type": "display_data"
    }
   ],
   "source": [
    "events.arrays?"
   ]
  },
  {
   "cell_type": "code",
   "execution_count": 14,
   "id": "ac8a2698-6964-484c-b3b4-3be86995414a",
   "metadata": {},
   "outputs": [],
   "source": [
    "met = events.arrays([\"MET_pt\", \"MET_phi\"], library=\"np\", entry_stop=5000)"
   ]
  },
  {
   "cell_type": "code",
   "execution_count": 15,
   "id": "7745e959-a991-420e-a177-fde275c8bea6",
   "metadata": {},
   "outputs": [
    {
     "data": {
      "text/plain": [
       "{'MET_pt': array([31.452927 , 40.65485  , 32.816944 , ..., 23.492601 ,  2.4211023,\n",
       "        44.237286 ], dtype=float32),\n",
       " 'MET_phi': array([-0.28570557, -2.8354492 , -0.5496826 , ...,  0.22387695,\n",
       "         1.7602539 , -1.3271484 ], dtype=float32)}"
      ]
     },
     "execution_count": 15,
     "metadata": {},
     "output_type": "execute_result"
    }
   ],
   "source": [
    "met"
   ]
  },
  {
   "cell_type": "markdown",
   "id": "f55eada5-4b97-462c-8a4d-cf0b82bcf1d5",
   "metadata": {},
   "source": [
    "If we request \"flat\" arrays, with library `np==numpy`, we get a dictionary of numpy arrays"
   ]
  },
  {
   "cell_type": "code",
   "execution_count": 18,
   "id": "6c272d5f-e52c-44de-9fa6-b84da56aa5d8",
   "metadata": {},
   "outputs": [],
   "source": [
    "E = events.arrays([\"Electron_pt\", \"Electron_eta\", \"Electron_phi\"], library=\"ak\", entry_stop=5000)"
   ]
  },
  {
   "cell_type": "code",
   "execution_count": 20,
   "id": "8191c964-5d1e-4a93-95f5-dfafb22ffac7",
   "metadata": {},
   "outputs": [
    {
     "data": {
      "text/plain": [
       "5000 * {\"Electron_pt\": var * float32, \"Electron_eta\": var * float32, \"Electron_phi\": var * float32}"
      ]
     },
     "execution_count": 20,
     "metadata": {},
     "output_type": "execute_result"
    }
   ],
   "source": [
    "E.type"
   ]
  },
  {
   "cell_type": "markdown",
   "id": "7c94d828-fa58-4ca7-8f06-dcf48a6d2c5f",
   "metadata": {},
   "source": [
    "By default the uproot.arrays() method will read the full data from the TFile. We will see later methods to iterate over chunks of data. \n",
    "For this demonstration let's read the first 5k events."
   ]
  },
  {
   "cell_type": "code",
   "execution_count": 21,
   "id": "c67cdb57-c727-4c8b-b092-29e49ba7d8a2",
   "metadata": {},
   "outputs": [
    {
     "data": {
      "text/plain": [
       "['Electron_pt', 'Electron_eta', 'Electron_phi']"
      ]
     },
     "execution_count": 21,
     "metadata": {},
     "output_type": "execute_result"
    }
   ],
   "source": [
    "E.fields"
   ]
  },
  {
   "cell_type": "code",
   "execution_count": 23,
   "id": "2549208a-8427-43ce-a5c7-b3886e476440",
   "metadata": {},
   "outputs": [
    {
     "data": {
      "text/plain": [
       "[[],\n",
       " [],\n",
       " [],\n",
       " [],\n",
       " [],\n",
       " [],\n",
       " [],\n",
       " [],\n",
       " [],\n",
       " [],\n",
       " [12.856979370117188],\n",
       " [36.20459747314453, 34.421146392822266],\n",
       " [],\n",
       " [27.363569259643555],\n",
       " [],\n",
       " [45.87591552734375, 16.642621994018555],\n",
       " [],\n",
       " [62.07752227783203, 30.823516845703125],\n",
       " [43.98117446899414, 29.890472412109375],\n",
       " [45.70139694213867, 44.009971618652344]]"
      ]
     },
     "execution_count": 23,
     "metadata": {},
     "output_type": "execute_result"
    }
   ],
   "source": [
    "E.Electron_pt[0:20].tolist()"
   ]
  },
  {
   "cell_type": "markdown",
   "id": "64422cee-1612-42d8-bc22-1e6a19ec6a2f",
   "metadata": {},
   "source": [
    "This is a awkward array containing the requested branches."
   ]
  },
  {
   "cell_type": "markdown",
   "id": "069ce4dd-1c86-48cc-96a5-4682b21f15ea",
   "metadata": {},
   "source": [
    "## Iterating over entries"
   ]
  },
  {
   "cell_type": "code",
   "execution_count": 24,
   "id": "96727f66-4a22-4dea-89fa-75887fe334b8",
   "metadata": {},
   "outputs": [
    {
     "name": "stdout",
     "output_type": "stream",
     "text": [
      "<Array [{run: 1, ... L1simulation_step: True}] type='1000 * {\"run\": uint32, \"lum...'>\n",
      "<Array [{run: 1, ... L1simulation_step: True}] type='1000 * {\"run\": uint32, \"lum...'>\n",
      "<Array [{run: 1, ... L1simulation_step: True}] type='1000 * {\"run\": uint32, \"lum...'>\n",
      "<Array [{run: 1, ... L1simulation_step: True}] type='1000 * {\"run\": uint32, \"lum...'>\n",
      "<Array [{run: 1, ... L1simulation_step: True}] type='1000 * {\"run\": uint32, \"lum...'>\n",
      "<Array [{run: 1, ... L1simulation_step: True}] type='1000 * {\"run\": uint32, \"lum...'>\n",
      "<Array [{run: 1, ... L1simulation_step: True}] type='1000 * {\"run\": uint32, \"lum...'>\n",
      "<Array [{run: 1, ... L1simulation_step: True}] type='1000 * {\"run\": uint32, \"lum...'>\n",
      "<Array [{run: 1, ... L1simulation_step: True}] type='1000 * {\"run\": uint32, \"lum...'>\n",
      "<Array [{run: 1, ... L1simulation_step: True}] type='1000 * {\"run\": uint32, \"lum...'>\n"
     ]
    }
   ],
   "source": [
    "for batch in events.iterate(step_size=1000, entry_stop=10_000):\n",
    "    print(repr(batch))"
   ]
  },
  {
   "cell_type": "markdown",
   "id": "691b0054-b6c7-4f00-982c-c122a4de4a7d",
   "metadata": {},
   "source": [
    "## Iterating over files"
   ]
  },
  {
   "cell_type": "code",
   "execution_count": 25,
   "id": "9d4c4caf-b5a1-42a0-9af7-ae7f42d8d951",
   "metadata": {},
   "outputs": [],
   "source": [
    "import yaml\n",
    "with open(\"datasets.yaml\") as f:\n",
    "    datasets = yaml.safe_load(f)"
   ]
  },
  {
   "cell_type": "code",
   "execution_count": null,
   "id": "6f6ec2fe-8803-4373-90e4-10cb0218b9ef",
   "metadata": {},
   "outputs": [],
   "source": [
    "uproot.iterate?"
   ]
  },
  {
   "cell_type": "code",
   "execution_count": null,
   "id": "ef9f7b23-1d15-4d6d-9835-9e57c8ab829a",
   "metadata": {},
   "outputs": [],
   "source": [
    "for batch in uproot.iterate([ f\"{file}:Events\" for file in datasets[\"DYJetsToLL\"][\"files\"][0:3]], \n",
    "                           filter_name=[\"Jet_pt\", \"Jet_eta\", \"Jet_phi\"],\n",
    "                           step_size=100_000):\n",
    "    print(batch)"
   ]
  },
  {
   "cell_type": "markdown",
   "id": "b594c7fe-3850-4374-a49c-697d4c296e7f",
   "metadata": {},
   "source": [
    "## Uproot lazy"
   ]
  },
  {
   "cell_type": "markdown",
   "id": "c54156d1-1e4b-43a1-9bf8-097dd5581adb",
   "metadata": {},
   "source": [
    "Files can also be loaded lazily with uproot. The actual data reading is happening only when accessing the files.\n",
    "When the function is invozed, uproot needs to open ones all the files to read their metadata, but data is not accessed. \n",
    "This is useful to collect in a single objects many different files, not fitting in the RAM.\n",
    "\n",
    "Moreover, a `num_worker` can be specified for parallel data access."
   ]
  },
  {
   "cell_type": "code",
   "execution_count": null,
   "id": "7b203c03-4391-4f4a-8254-56ba404487ee",
   "metadata": {},
   "outputs": [],
   "source": [
    "df_lazy = uproot.lazy([f\"{file}:Events\" for file in datasets['DoubleMuon'][\"files\"][0:10]], \n",
    "                      num_workers=4)"
   ]
  },
  {
   "cell_type": "code",
   "execution_count": null,
   "id": "550477fb-3469-4729-893c-41ffbadc46c5",
   "metadata": {},
   "outputs": [],
   "source": [
    "df_lazy.Electron_pt"
   ]
  },
  {
   "cell_type": "markdown",
   "id": "19793cfe-cd4b-40e1-b41e-522cdb8d75c8",
   "metadata": {},
   "source": [
    "# Awkward arrays"
   ]
  },
  {
   "cell_type": "markdown",
   "id": "a91a153b-2c8b-47e9-8052-1e2a7d9b4942",
   "metadata": {},
   "source": [
    "Awkward arrays are very similar to **numpy** arrays, but they can accomodate multidimensional arrays with different size for each entry. \n",
    "For example: the pT of the Jets for a set of events can be represented as a 2D arrays, where each row (event) can have different number of columns (different number of jets). \n",
    "\n",
    "API reference: https://awkward-array.org/doc/1.10/api-reference.html"
   ]
  },
  {
   "cell_type": "code",
   "execution_count": 28,
   "id": "0f3813e4-269d-4ff4-94fd-8edd25ff9e04",
   "metadata": {},
   "outputs": [],
   "source": [
    "events = uproot.open(f\"{cms_opendata_file}:Events\", num_workers=4)\n",
    "df = events.arrays(entry_stop=5000)"
   ]
  },
  {
   "cell_type": "code",
   "execution_count": 30,
   "id": "395e3f19-0257-4587-a87b-c10444911c9f",
   "metadata": {},
   "outputs": [],
   "source": [
    "jets_pt = df.Jet_pt"
   ]
  },
  {
   "cell_type": "markdown",
   "id": "48c01863-f7c5-483f-8e64-7f281fc4faa1",
   "metadata": {},
   "source": [
    "the `tolist()` method is useful to printout the full array for debugging and checking the structure"
   ]
  },
  {
   "cell_type": "code",
   "execution_count": 33,
   "id": "9e09993e-ebc2-44dc-8e73-8f87f623175e",
   "metadata": {},
   "outputs": [
    {
     "data": {
      "text/plain": [
       "[[],\n",
       " [48.1875, 47.84375, 16.28125],\n",
       " [45.0625, 27.578125, 16.078125],\n",
       " [21.0, 16.640625],\n",
       " [26.96875, 20.203125, 19.875, 19.703125]]"
      ]
     },
     "execution_count": 33,
     "metadata": {},
     "output_type": "execute_result"
    }
   ],
   "source": [
    "jets_pt[0:5].tolist()"
   ]
  },
  {
   "cell_type": "code",
   "execution_count": 36,
   "id": "96532674-f41d-4e0a-9b73-ecc75ddaf39e",
   "metadata": {},
   "outputs": [],
   "source": [
    "N_jets = ak.num(jets_pt, axis=1)"
   ]
  },
  {
   "cell_type": "code",
   "execution_count": 37,
   "id": "268fdef6-23de-40c3-a3c3-3a32cbc7dab2",
   "metadata": {},
   "outputs": [
    {
     "data": {
      "text/plain": [
       "<Array [0, 3, 3, 2, 4, 2, ... 4, 2, 8, 3, 9, 4] type='5000 * int64'>"
      ]
     },
     "execution_count": 37,
     "metadata": {},
     "output_type": "execute_result"
    }
   ],
   "source": [
    "N_jets"
   ]
  },
  {
   "cell_type": "markdown",
   "id": "9b6ded6f-3ac2-4b55-9d0c-3888923dc928",
   "metadata": {},
   "source": [
    "simple operations can be applied on the full arrays (as with numpy arrays). The **broadcast** rules works in the same way as numpy"
   ]
  },
  {
   "cell_type": "code",
   "execution_count": 38,
   "id": "2f612f3e-1ff7-46b0-8197-98caddb28df8",
   "metadata": {},
   "outputs": [
    {
     "data": {
      "text/plain": [
       "<Array [[], [96.4, 95.7, ... 37.6, 37.2, 36]] type='5000 * var * float32'>"
      ]
     },
     "execution_count": 38,
     "metadata": {},
     "output_type": "execute_result"
    }
   ],
   "source": [
    "jets_pt * 2"
   ]
  },
  {
   "cell_type": "code",
   "execution_count": 39,
   "id": "edd57ef1-cfb9-43de-8e73-62326c085ae5",
   "metadata": {},
   "outputs": [
    {
     "data": {
      "text/plain": [
       "<Array [[], [2.32e+03, ... 353, 345, 324]] type='5000 * var * float32'>"
      ]
     },
     "execution_count": 39,
     "metadata": {},
     "output_type": "execute_result"
    }
   ],
   "source": [
    "jets_pt ** 2"
   ]
  },
  {
   "cell_type": "markdown",
   "id": "81af43a3-76a2-4072-9a16-c87bf5f507fc",
   "metadata": {},
   "source": [
    "Also numpy functions can be applied"
   ]
  },
  {
   "cell_type": "code",
   "execution_count": 40,
   "id": "9787f8e1-d79d-40a5-810c-7a12410cc699",
   "metadata": {},
   "outputs": [
    {
     "data": {
      "text/plain": [
       "<Array [[], [6.94, 6.92, ... 4.34, 4.31, 4.24]] type='5000 * var * float32'>"
      ]
     },
     "execution_count": 40,
     "metadata": {},
     "output_type": "execute_result"
    }
   ],
   "source": [
    "np.sqrt(jets_pt)"
   ]
  },
  {
   "cell_type": "code",
   "execution_count": 42,
   "id": "2818271c-0d10-4419-9bc8-6d0a5eb3671e",
   "metadata": {},
   "outputs": [
    {
     "data": {
      "text/plain": [
       "<Array [[], [48.2, 47.8, ... 18.8, 18.6, 18]] type='5000 * var * float32'>"
      ]
     },
     "execution_count": 42,
     "metadata": {},
     "output_type": "execute_result"
    }
   ],
   "source": [
    "abs(jets_pt)"
   ]
  },
  {
   "cell_type": "markdown",
   "id": "7412f35d-ee2a-49f5-a449-5743c77faf49",
   "metadata": {},
   "source": [
    "## Indexing"
   ]
  },
  {
   "cell_type": "code",
   "execution_count": 43,
   "id": "7857b998-3eca-48be-a8bb-019d2739cba6",
   "metadata": {},
   "outputs": [
    {
     "data": {
      "text/plain": [
       "<Array [48.2, 47.8, 16.3] type='3 * float32'>"
      ]
     },
     "execution_count": 43,
     "metadata": {},
     "output_type": "execute_result"
    }
   ],
   "source": [
    "jets_pt[1]"
   ]
  },
  {
   "cell_type": "markdown",
   "id": "ad9f5060-a022-4b1d-bb27-9b02c51aeb1e",
   "metadata": {},
   "source": [
    "We can ask for a range of columns, and this works also if the events have a different lenght"
   ]
  },
  {
   "cell_type": "code",
   "execution_count": 44,
   "id": "8eea8290-e913-4ab8-9528-aa6488249407",
   "metadata": {},
   "outputs": [
    {
     "data": {
      "text/plain": [
       "<Array [[], [48.2, 47.8, ... 21.3], [43.2]] type='10 * var * float32'>"
      ]
     },
     "execution_count": 44,
     "metadata": {},
     "output_type": "execute_result"
    }
   ],
   "source": [
    "jets_pt[0:10, :5]"
   ]
  },
  {
   "cell_type": "markdown",
   "id": "32d4b5ef-a1b0-4c56-8b06-907b7381d1d2",
   "metadata": {},
   "source": [
    "but if we request the first jet specifically, and it is not available for one of the event, an expection is raise. Have a look at the padding spection. "
   ]
  },
  {
   "cell_type": "code",
   "execution_count": 45,
   "id": "bd55db78-b0b6-4636-a53d-e6f4437f2309",
   "metadata": {},
   "outputs": [
    {
     "ename": "ValueError",
     "evalue": "in ListOffsetArray64 attempting to get 1, index out of range\n\n(https://github.com/scikit-hep/awkward-1.0/blob/1.10.3/src/cpu-kernels/awkward_NumpyArray_getitem_next_at.cpp#L21)",
     "output_type": "error",
     "traceback": [
      "\u001b[0;31m---------------------------------------------------------------------------\u001b[0m",
      "\u001b[0;31mValueError\u001b[0m                                Traceback (most recent call last)",
      "Cell \u001b[0;32mIn[45], line 1\u001b[0m\n\u001b[0;32m----> 1\u001b[0m \u001b[43mjets_pt\u001b[49m\u001b[43m[\u001b[49m\u001b[38;5;241;43m0\u001b[39;49m\u001b[43m:\u001b[49m\u001b[38;5;241;43m10\u001b[39;49m\u001b[43m,\u001b[49m\u001b[43m \u001b[49m\u001b[38;5;241;43m1\u001b[39;49m\u001b[43m]\u001b[49m\n",
      "File \u001b[0;32m/opt/conda/lib/python3.11/site-packages/awkward/highlevel.py:991\u001b[0m, in \u001b[0;36mArray.__getitem__\u001b[0;34m(self, where)\u001b[0m\n\u001b[1;32m    579\u001b[0m \u001b[38;5;250m\u001b[39m\u001b[38;5;124;03m\"\"\"\u001b[39;00m\n\u001b[1;32m    580\u001b[0m \u001b[38;5;124;03mArgs:\u001b[39;00m\n\u001b[1;32m    581\u001b[0m \u001b[38;5;124;03m    where (many types supported; see below): Index of positions to\u001b[39;00m\n\u001b[0;32m   (...)\u001b[0m\n\u001b[1;32m    988\u001b[0m \u001b[38;5;124;03mhave the same dimension as the array being indexed.\u001b[39;00m\n\u001b[1;32m    989\u001b[0m \u001b[38;5;124;03m\"\"\"\u001b[39;00m\n\u001b[1;32m    990\u001b[0m \u001b[38;5;28;01mif\u001b[39;00m \u001b[38;5;129;01mnot\u001b[39;00m \u001b[38;5;28mhasattr\u001b[39m(\u001b[38;5;28mself\u001b[39m, \u001b[38;5;124m\"\u001b[39m\u001b[38;5;124m_tracers\u001b[39m\u001b[38;5;124m\"\u001b[39m):\n\u001b[0;32m--> 991\u001b[0m     tmp \u001b[38;5;241m=\u001b[39m ak\u001b[38;5;241m.\u001b[39m_util\u001b[38;5;241m.\u001b[39mwrap(\u001b[38;5;28;43mself\u001b[39;49m\u001b[38;5;241;43m.\u001b[39;49m\u001b[43mlayout\u001b[49m\u001b[43m[\u001b[49m\u001b[43mwhere\u001b[49m\u001b[43m]\u001b[49m, \u001b[38;5;28mself\u001b[39m\u001b[38;5;241m.\u001b[39m_behavior)\n\u001b[1;32m    992\u001b[0m \u001b[38;5;28;01melse\u001b[39;00m:\n\u001b[1;32m    993\u001b[0m     tmp \u001b[38;5;241m=\u001b[39m ak\u001b[38;5;241m.\u001b[39m_connect\u001b[38;5;241m.\u001b[39m_jax\u001b[38;5;241m.\u001b[39mjax_utils\u001b[38;5;241m.\u001b[39m_jaxtracers_getitem(\u001b[38;5;28mself\u001b[39m, where)\n",
      "\u001b[0;31mValueError\u001b[0m: in ListOffsetArray64 attempting to get 1, index out of range\n\n(https://github.com/scikit-hep/awkward-1.0/blob/1.10.3/src/cpu-kernels/awkward_NumpyArray_getitem_next_at.cpp#L21)"
     ]
    }
   ],
   "source": [
    "jets_pt[0:10, 1]"
   ]
  },
  {
   "cell_type": "code",
   "execution_count": 47,
   "id": "90d1c72e-ffbe-4179-81b7-963403f8914e",
   "metadata": {},
   "outputs": [
    {
     "data": {
      "text/plain": [
       "<Array [None, 48.2, 45.1, ... 39.4, 48.2, 51.4] type='5000 * ?float32'>"
      ]
     },
     "execution_count": 47,
     "metadata": {},
     "output_type": "execute_result"
    }
   ],
   "source": [
    "ak.firsts(jets_pt)"
   ]
  },
  {
   "cell_type": "markdown",
   "id": "77b62dbd-b874-4b28-95c1-27dce055e9e7",
   "metadata": {},
   "source": [
    "A useful trick is also getting an array representing the indexes of the elements of an array."
   ]
  },
  {
   "cell_type": "code",
   "execution_count": 48,
   "id": "6d901a15-8e39-4a43-b51d-71ba6d1896a4",
   "metadata": {},
   "outputs": [
    {
     "data": {
      "text/plain": [
       "<Array [[], [0, 1, 2], ... 8], [0, 1, 2, 3]] type='5000 * var * int64'>"
      ]
     },
     "execution_count": 48,
     "metadata": {},
     "output_type": "execute_result"
    }
   ],
   "source": [
    "locidx = ak.local_index(jets_pt)\n",
    "locidx"
   ]
  },
  {
   "cell_type": "code",
   "execution_count": 49,
   "id": "14ac336f-d36c-47be-9940-9fa1baf47b0c",
   "metadata": {},
   "outputs": [
    {
     "data": {
      "text/plain": [
       "[[],\n",
       " [0, 1, 2],\n",
       " [0, 1, 2],\n",
       " [0, 1],\n",
       " [0, 1, 2, 3],\n",
       " [0, 1],\n",
       " [0, 1, 2, 3],\n",
       " [0, 1],\n",
       " [0, 1, 2, 3, 4, 5],\n",
       " [0]]"
      ]
     },
     "execution_count": 49,
     "metadata": {},
     "output_type": "execute_result"
    }
   ],
   "source": [
    "locidx[0:10].tolist()"
   ]
  },
  {
   "cell_type": "markdown",
   "id": "15b2ea04-2efb-4fd8-8e6d-81e50cb6e7a7",
   "metadata": {},
   "source": [
    "This is useful because indexing can also be done explicitely with an (awkward) arrays of indices. \n",
    "\n",
    "For example. "
   ]
  },
  {
   "cell_type": "code",
   "execution_count": 51,
   "id": "3ba6be32-1bf5-4fd6-89a1-942dcd62ec97",
   "metadata": {},
   "outputs": [
    {
     "data": {
      "text/plain": [
       "[[48.1875, 47.84375, 16.28125],\n",
       " [45.0625, 27.578125, 16.078125],\n",
       " [21.0, 16.640625],\n",
       " [26.96875, 20.203125, 19.875, 19.703125]]"
      ]
     },
     "execution_count": 51,
     "metadata": {},
     "output_type": "execute_result"
    }
   ],
   "source": [
    "jet_pt_1_5 = jets_pt[1:5]\n",
    "jet_pt_1_5.tolist()"
   ]
  },
  {
   "cell_type": "markdown",
   "id": "ff744fcd-399e-4ad3-a953-c7dab8293380",
   "metadata": {},
   "source": [
    "We want to take the first jet of the first event, the second and third of the second events, and so on.."
   ]
  },
  {
   "cell_type": "code",
   "execution_count": 53,
   "id": "2b857fcf-9709-45d6-bbab-9ea52839fb70",
   "metadata": {},
   "outputs": [
    {
     "data": {
      "text/plain": [
       "[[48.1875], [27.578125, 16.078125], [16.640625], [26.96875, 20.203125]]"
      ]
     },
     "execution_count": 53,
     "metadata": {},
     "output_type": "execute_result"
    }
   ],
   "source": [
    "jet_pt_1_5[ ak.Array([[0], [1,2], [1], [0,1]]) ].tolist()"
   ]
  },
  {
   "cell_type": "markdown",
   "id": "ead77b67-da6f-4163-8d35-b2c34dc91f48",
   "metadata": {},
   "source": [
    "## Splitting / combining columns"
   ]
  },
  {
   "cell_type": "code",
   "execution_count": 54,
   "id": "f5db5d73-73ec-4df6-87a0-c4c3668028d8",
   "metadata": {},
   "outputs": [],
   "source": [
    "jet = ak.zip({\"pt\": df.Jet_pt, \"eta\": df.Jet_eta, \"phi\": df.Jet_phi})"
   ]
  },
  {
   "cell_type": "code",
   "execution_count": 55,
   "id": "959145a0-bc50-4f3d-9ed2-57e51239bf3d",
   "metadata": {},
   "outputs": [
    {
     "data": {
      "text/plain": [
       "['pt', 'eta', 'phi']"
      ]
     },
     "execution_count": 55,
     "metadata": {},
     "output_type": "execute_result"
    }
   ],
   "source": [
    "jet.fields"
   ]
  },
  {
   "cell_type": "code",
   "execution_count": 56,
   "id": "b5898d8a-829c-4de1-989f-c992cd7e5c59",
   "metadata": {},
   "outputs": [
    {
     "data": {
      "text/plain": [
       "(<Array [[], [48.2, 47.8, ... 18.8, 18.6, 18]] type='5000 * var * float32'>,\n",
       " <Array [[], [-1.48, ... 0.106, 3.7, 2.67]] type='5000 * var * float32'>,\n",
       " <Array [[], [1.27, ... -3.1, 0.846, -3.05]] type='5000 * var * float32'>)"
      ]
     },
     "execution_count": 56,
     "metadata": {},
     "output_type": "execute_result"
    }
   ],
   "source": [
    "ak.unzip(jet)"
   ]
  },
  {
   "cell_type": "markdown",
   "id": "fc0f9adb-de93-46d3-a290-6bcd76a3ed98",
   "metadata": {},
   "source": [
    "It's also possible to add a fields to a Akward array record"
   ]
  },
  {
   "cell_type": "code",
   "execution_count": 57,
   "id": "105ad725-b9c0-4d03-9088-54d62c71a3df",
   "metadata": {},
   "outputs": [],
   "source": [
    "jet = ak.with_field(jet, df.Jet_mass, \"mass\")"
   ]
  },
  {
   "cell_type": "code",
   "execution_count": 58,
   "id": "2be1cec9-e15c-488d-900c-33eae3a86b78",
   "metadata": {},
   "outputs": [
    {
     "data": {
      "text/plain": [
       "['pt', 'eta', 'phi', 'mass']"
      ]
     },
     "execution_count": 58,
     "metadata": {},
     "output_type": "execute_result"
    }
   ],
   "source": [
    "jet.fields"
   ]
  },
  {
   "cell_type": "markdown",
   "id": "46069946-6cbc-4c87-bbd6-c150bd9fab35",
   "metadata": {},
   "source": [
    "## Masking\n",
    "Masking == applying cuts. Masking can be applied at events level (on the axis 0, on rows), or at columns level. The masking syntax is equivalent to the numpy one. "
   ]
  },
  {
   "cell_type": "markdown",
   "id": "3e2accca-9658-45cf-b4fa-e233d43b7817",
   "metadata": {},
   "source": [
    "### All events with at least 2 jets"
   ]
  },
  {
   "cell_type": "code",
   "execution_count": 59,
   "id": "8002ebeb-dae7-47e7-af09-c47a3ae44812",
   "metadata": {},
   "outputs": [],
   "source": [
    "mask = ak.num(df.Jet_pt) >= 2"
   ]
  },
  {
   "cell_type": "code",
   "execution_count": 60,
   "id": "24d9befd-5448-4881-9d14-4f5674e22225",
   "metadata": {},
   "outputs": [
    {
     "data": {
      "text/plain": [
       "<Array [False, True, True, ... True, True] type='5000 * bool'>"
      ]
     },
     "execution_count": 60,
     "metadata": {},
     "output_type": "execute_result"
    }
   ],
   "source": [
    "mask"
   ]
  },
  {
   "cell_type": "markdown",
   "id": "114131e2-d7c9-4d08-8956-5da92363a9b6",
   "metadata": {},
   "source": [
    "The mask is a 1D boolean array with the same size of the data arrays. "
   ]
  },
  {
   "cell_type": "code",
   "execution_count": 61,
   "id": "8b5d6a79-5fe8-4af1-88e4-080bcf6f66f9",
   "metadata": {},
   "outputs": [],
   "source": [
    "events_2j = df[mask]"
   ]
  },
  {
   "cell_type": "code",
   "execution_count": 63,
   "id": "b36e433a-1e91-4a31-a9e3-35ff45657e99",
   "metadata": {},
   "outputs": [
    {
     "data": {
      "text/plain": [
       "<Array [3, 3, 2, 4, 2, 4, ... 4, 2, 8, 3, 9, 4] type='4410 * int64'>"
      ]
     },
     "execution_count": 63,
     "metadata": {},
     "output_type": "execute_result"
    }
   ],
   "source": [
    "ak.num(events_2j.Jet_pt)"
   ]
  },
  {
   "cell_type": "code",
   "execution_count": 66,
   "id": "d84946ac-c909-417e-8b2b-c854f124cea5",
   "metadata": {},
   "outputs": [
    {
     "data": {
      "text/plain": [
       "<Array [[], [], [], ... 33.3, 32.3, 10.6], []] type='4410 * var * float32'>"
      ]
     },
     "execution_count": 66,
     "metadata": {},
     "output_type": "execute_result"
    }
   ],
   "source": [
    "events_2j.Electron_pt"
   ]
  },
  {
   "cell_type": "markdown",
   "id": "683ae466-ad6e-42f2-8484-271714948855",
   "metadata": {},
   "source": [
    "The mask is applied to all the fields of the awkward arrays"
   ]
  },
  {
   "cell_type": "markdown",
   "id": "eb51049a-030c-4dd6-91e7-e5668479627e",
   "metadata": {},
   "source": [
    "### Keep only jets with at least 30 GeV"
   ]
  },
  {
   "cell_type": "code",
   "execution_count": 67,
   "id": "7ba58b53-fa05-4e98-b7c2-adaf4de562ae",
   "metadata": {},
   "outputs": [],
   "source": [
    "mask_jets = df.Jet_pt > 30"
   ]
  },
  {
   "cell_type": "code",
   "execution_count": 68,
   "id": "e47263ea-697a-41ff-8b36-c6e208b1314a",
   "metadata": {},
   "outputs": [
    {
     "data": {
      "text/plain": [
       "<Array [[], [True, ... False, False, False]] type='5000 * var * bool'>"
      ]
     },
     "execution_count": 68,
     "metadata": {},
     "output_type": "execute_result"
    }
   ],
   "source": [
    "mask_jets"
   ]
  },
  {
   "cell_type": "code",
   "execution_count": 69,
   "id": "5ef4e8a1-8d9c-444a-b111-398d8397bb17",
   "metadata": {},
   "outputs": [
    {
     "data": {
      "text/plain": [
       "[[],\n",
       " [True, True, False],\n",
       " [True, False, False],\n",
       " [False, False],\n",
       " [False, False, False, False],\n",
       " [False, False],\n",
       " [True, False, False, False],\n",
       " [True, True],\n",
       " [True, False, False, False, False, False],\n",
       " [True]]"
      ]
     },
     "execution_count": 69,
     "metadata": {},
     "output_type": "execute_result"
    }
   ],
   "source": [
    "mask_jets[0:10].tolist()"
   ]
  },
  {
   "cell_type": "markdown",
   "id": "c6e517ec-447a-4ede-bca7-8fe0d33e36f3",
   "metadata": {},
   "source": [
    "the mask is now 2D. "
   ]
  },
  {
   "cell_type": "code",
   "execution_count": 70,
   "id": "41ec955e-f45e-4b06-9ac9-08acdcd6fb86",
   "metadata": {},
   "outputs": [
    {
     "data": {
      "text/plain": [
       "<Array [[], [48.2, 47.8], ... 30.4], [51.4]] type='5000 * var * float32'>"
      ]
     },
     "execution_count": 70,
     "metadata": {},
     "output_type": "execute_result"
    }
   ],
   "source": [
    "jet_pt_masked = jets_pt[mask_jets]\n",
    "jet_pt_masked"
   ]
  },
  {
   "cell_type": "code",
   "execution_count": 72,
   "id": "5c68b886-5bfa-4fd6-8b83-2041a19af082",
   "metadata": {},
   "outputs": [
    {
     "data": {
      "text/plain": [
       "<Array [[], [-1.48, -0.058, ... [-1.92]] type='5000 * var * float32'>"
      ]
     },
     "execution_count": 72,
     "metadata": {},
     "output_type": "execute_result"
    }
   ],
   "source": [
    "jet_eta_masked = df.Jet_eta[mask_jets]\n",
    "jet_eta_masked"
   ]
  },
  {
   "cell_type": "code",
   "execution_count": 73,
   "id": "0f44b660-3164-40e8-9ba8-4c9b0c3b7707",
   "metadata": {},
   "outputs": [
    {
     "data": {
      "text/plain": [
       "30.015625"
      ]
     },
     "execution_count": 73,
     "metadata": {},
     "output_type": "execute_result"
    }
   ],
   "source": [
    "ak.min(jet_pt_masked)"
   ]
  },
  {
   "cell_type": "code",
   "execution_count": 76,
   "id": "93d1f075-a451-486b-8b25-3bab44a40780",
   "metadata": {},
   "outputs": [
    {
     "data": {
      "text/plain": [
       "<Array [False, True, True, ... True, True] type='5000 * bool'>"
      ]
     },
     "execution_count": 76,
     "metadata": {},
     "output_type": "execute_result"
    }
   ],
   "source": [
    "ak.any(mask_jets, axis=1)"
   ]
  },
  {
   "cell_type": "markdown",
   "id": "d836278e-0f02-4cee-9655-e74001d3fc92",
   "metadata": {},
   "source": [
    "### Combining masks"
   ]
  },
  {
   "cell_type": "code",
   "execution_count": 77,
   "id": "aa16558d-42e8-4e66-ab90-f504799408c2",
   "metadata": {},
   "outputs": [],
   "source": [
    "mask_pt = df.Jet_pt > 30 \n",
    "mask_eta = abs(df.Jet_eta) < 2\n",
    "mask_tot = mask_pt & mask_eta"
   ]
  },
  {
   "cell_type": "code",
   "execution_count": 78,
   "id": "06fd00af-bfbe-462b-a7b4-013ec8b7cd36",
   "metadata": {},
   "outputs": [
    {
     "data": {
      "text/plain": [
       "<Array [[], [True, ... False, False, False]] type='5000 * var * bool'>"
      ]
     },
     "execution_count": 78,
     "metadata": {},
     "output_type": "execute_result"
    }
   ],
   "source": [
    "mask_tot"
   ]
  },
  {
   "cell_type": "code",
   "execution_count": 79,
   "id": "d3f41a58-01d7-428b-be9e-71ded3dbc82d",
   "metadata": {},
   "outputs": [],
   "source": [
    "masked_jet = df.Jet_pt[mask_tot]"
   ]
  },
  {
   "cell_type": "markdown",
   "id": "3a08502f-7ee2-4d97-a132-9eb6bf0032e4",
   "metadata": {},
   "source": [
    "OR "
   ]
  },
  {
   "cell_type": "code",
   "execution_count": null,
   "id": "2b4e96ee-c196-4e6b-a04c-9042c634dfb7",
   "metadata": {},
   "outputs": [],
   "source": [
    "mask_or = mask_pt | mask_eta"
   ]
  },
  {
   "cell_type": "markdown",
   "id": "e6fe197e-e864-4fce-94f2-c2a9dce9e98f",
   "metadata": {},
   "source": [
    "Negate"
   ]
  },
  {
   "cell_type": "code",
   "execution_count": 80,
   "id": "11b60089-0c5d-445e-8fa6-5c20afccfd55",
   "metadata": {},
   "outputs": [
    {
     "data": {
      "text/plain": [
       "<Array [[], [False, ... True, True, True]] type='5000 * var * bool'>"
      ]
     },
     "execution_count": 80,
     "metadata": {},
     "output_type": "execute_result"
    }
   ],
   "source": [
    "~mask_pt"
   ]
  },
  {
   "cell_type": "code",
   "execution_count": 82,
   "id": "bded2e0b-5990-4d08-90fe-321fbe0d8aa6",
   "metadata": {},
   "outputs": [
    {
     "data": {
      "text/plain": [
       "<Array [[], [37.4, 37], [], ... [], [], [41.8]] type='5000 * var * float32'>"
      ]
     },
     "execution_count": 82,
     "metadata": {},
     "output_type": "execute_result"
    }
   ],
   "source": [
    "df.Muon_pt"
   ]
  },
  {
   "cell_type": "code",
   "execution_count": 84,
   "id": "dbae0640-1910-418e-8496-a07d0eec2ce5",
   "metadata": {},
   "outputs": [
    {
     "data": {
      "text/plain": [
       "<Array [1, 2, 3, 4, ... 4996, 4997, 4998, 4999] type='4410 * int64'>"
      ]
     },
     "execution_count": 84,
     "metadata": {},
     "output_type": "execute_result"
    }
   ],
   "source": [
    "ak.local_index(df.Jet_pt, axis=0)[mask]"
   ]
  },
  {
   "cell_type": "code",
   "execution_count": null,
   "id": "70112718-f136-4810-8a25-9c7ad20454e3",
   "metadata": {},
   "outputs": [],
   "source": []
  },
  {
   "cell_type": "code",
   "execution_count": null,
   "id": "ee4c8b92-7639-4830-ab4e-3c7176cb4d67",
   "metadata": {},
   "outputs": [],
   "source": []
  },
  {
   "cell_type": "markdown",
   "id": "f9b31ac9-144d-4070-aae8-964852834161",
   "metadata": {},
   "source": [
    "## Flattening / unflattening\n"
   ]
  },
  {
   "cell_type": "markdown",
   "id": "4d83b61d-1a27-4647-af06-f41a706dcb3d",
   "metadata": {},
   "source": [
    "Very often we need to \"flatten\" an array, to reduce it's dimensionality. For example we may need the full list of jets pt, without the event-by-event division, to apply some computation. \n",
    "\n",
    "We often need to reverse the flattening and reproduce the original dimensionality of the array."
   ]
  },
  {
   "cell_type": "code",
   "execution_count": 86,
   "id": "cfbb7521-5e2f-42ae-84c7-c4ed130792a9",
   "metadata": {},
   "outputs": [
    {
     "data": {
      "text/plain": [
       "<Array [48.2, 47.8, 16.3, ... 18.8, 18.6, 18] type='16753 * float32'>"
      ]
     },
     "execution_count": 86,
     "metadata": {},
     "output_type": "execute_result"
    }
   ],
   "source": [
    "flat_jet_pt = ak.flatten(jets_pt, axis=1)\n",
    "flat_jet_pt"
   ]
  },
  {
   "cell_type": "code",
   "execution_count": 88,
   "id": "98209e76-d0f4-4cba-a4a0-012160e8dc24",
   "metadata": {},
   "outputs": [
    {
     "data": {
      "text/plain": [
       "<Array [[], [48.2, 47.8, ... 18.8, 18.6, 18]] type='5000 * var * float32'>"
      ]
     },
     "execution_count": 88,
     "metadata": {},
     "output_type": "execute_result"
    }
   ],
   "source": [
    "ak.unflatten(flat_jet_pt, N_jets)"
   ]
  },
  {
   "cell_type": "markdown",
   "id": "ae6785a4-b61e-4779-ad2f-ca7cad7c8fa7",
   "metadata": {},
   "source": [
    "## Padding\n",
    "Often we need to get a \"regular\" arrays, without any jagged structure. For example this is needed for machine learning applications. \n",
    "The missing information is usually **padded** with 0. or specific values. "
   ]
  },
  {
   "cell_type": "code",
   "execution_count": 90,
   "id": "4a4f1671-ca04-4e4b-8c3d-56f3467d7acb",
   "metadata": {},
   "outputs": [
    {
     "ename": "ValueError",
     "evalue": "in ListOffsetArray64, cannot convert to RegularArray because subarray lengths are not regular\n\n(https://github.com/scikit-hep/awkward-1.0/blob/1.10.3/src/cpu-kernels/awkward_ListOffsetArray_toRegularArray.cpp#L22)",
     "output_type": "error",
     "traceback": [
      "\u001b[0;31m---------------------------------------------------------------------------\u001b[0m",
      "\u001b[0;31mValueError\u001b[0m                                Traceback (most recent call last)",
      "Cell \u001b[0;32mIn[90], line 1\u001b[0m\n\u001b[0;32m----> 1\u001b[0m \u001b[43mak\u001b[49m\u001b[38;5;241;43m.\u001b[39;49m\u001b[43mto_regular\u001b[49m\u001b[43m(\u001b[49m\u001b[43mjets_pt\u001b[49m\u001b[43m)\u001b[49m\n",
      "File \u001b[0;32m/opt/conda/lib/python3.11/site-packages/awkward/operations/structure.py:801\u001b[0m, in \u001b[0;36mto_regular\u001b[0;34m(array, axis, highlevel, behavior)\u001b[0m\n\u001b[1;32m    799\u001b[0m out \u001b[38;5;241m=\u001b[39m ak\u001b[38;5;241m.\u001b[39moperations\u001b[38;5;241m.\u001b[39mconvert\u001b[38;5;241m.\u001b[39mto_layout(array)\n\u001b[1;32m    800\u001b[0m \u001b[38;5;28;01mif\u001b[39;00m axis \u001b[38;5;241m!=\u001b[39m \u001b[38;5;241m0\u001b[39m:\n\u001b[0;32m--> 801\u001b[0m     out \u001b[38;5;241m=\u001b[39m \u001b[43mak\u001b[49m\u001b[38;5;241;43m.\u001b[39;49m\u001b[43m_util\u001b[49m\u001b[38;5;241;43m.\u001b[39;49m\u001b[43mrecursively_apply\u001b[49m\u001b[43m(\u001b[49m\n\u001b[1;32m    802\u001b[0m \u001b[43m        \u001b[49m\u001b[43mout\u001b[49m\u001b[43m,\u001b[49m\n\u001b[1;32m    803\u001b[0m \u001b[43m        \u001b[49m\u001b[43mgetfunction\u001b[49m\u001b[43m,\u001b[49m\n\u001b[1;32m    804\u001b[0m \u001b[43m        \u001b[49m\u001b[43mpass_depth\u001b[49m\u001b[38;5;241;43m=\u001b[39;49m\u001b[38;5;28;43;01mTrue\u001b[39;49;00m\u001b[43m,\u001b[49m\n\u001b[1;32m    805\u001b[0m \u001b[43m        \u001b[49m\u001b[43mpass_user\u001b[49m\u001b[38;5;241;43m=\u001b[39;49m\u001b[38;5;28;43;01mTrue\u001b[39;49;00m\u001b[43m,\u001b[49m\n\u001b[1;32m    806\u001b[0m \u001b[43m        \u001b[49m\u001b[43muser\u001b[49m\u001b[38;5;241;43m=\u001b[39;49m\u001b[43maxis\u001b[49m\u001b[43m,\u001b[49m\n\u001b[1;32m    807\u001b[0m \u001b[43m        \u001b[49m\u001b[43mnumpy_to_regular\u001b[49m\u001b[38;5;241;43m=\u001b[39;49m\u001b[38;5;28;43;01mTrue\u001b[39;49;00m\u001b[43m,\u001b[49m\n\u001b[1;32m    808\u001b[0m \u001b[43m    \u001b[49m\u001b[43m)\u001b[49m\n\u001b[1;32m    810\u001b[0m \u001b[38;5;28;01mreturn\u001b[39;00m ak\u001b[38;5;241m.\u001b[39m_util\u001b[38;5;241m.\u001b[39mmaybe_wrap_like(out, array, behavior, highlevel)\n",
      "File \u001b[0;32m/opt/conda/lib/python3.11/site-packages/awkward/_util.py:1242\u001b[0m, in \u001b[0;36mrecursively_apply\u001b[0;34m(layout, getfunction, pass_depth, pass_user, user, keep_parameters, numpy_to_regular)\u001b[0m\n\u001b[1;32m   1237\u001b[0m     \u001b[38;5;28;01melse\u001b[39;00m:\n\u001b[1;32m   1238\u001b[0m         \u001b[38;5;28;01mreturn\u001b[39;00m transform_child_layouts(\n\u001b[1;32m   1239\u001b[0m             transform, layout, depth, user\u001b[38;5;241m=\u001b[39mcustom, keep_parameters\u001b[38;5;241m=\u001b[39mkeep_parameters\n\u001b[1;32m   1240\u001b[0m         )\n\u001b[0;32m-> 1242\u001b[0m \u001b[38;5;28;01mreturn\u001b[39;00m \u001b[43mtransform\u001b[49m\u001b[43m(\u001b[49m\u001b[43mlayout\u001b[49m\u001b[43m,\u001b[49m\u001b[43m \u001b[49m\u001b[38;5;241;43m1\u001b[39;49m\u001b[43m,\u001b[49m\u001b[43m \u001b[49m\u001b[43muser\u001b[49m\u001b[43m)\u001b[49m\n",
      "File \u001b[0;32m/opt/conda/lib/python3.11/site-packages/awkward/_util.py:1235\u001b[0m, in \u001b[0;36mrecursively_apply.<locals>.transform\u001b[0;34m(layout, depth, user)\u001b[0m\n\u001b[1;32m   1233\u001b[0m custom \u001b[38;5;241m=\u001b[39m getfunction(layout, \u001b[38;5;241m*\u001b[39margs)\n\u001b[1;32m   1234\u001b[0m \u001b[38;5;28;01mif\u001b[39;00m \u001b[38;5;28mcallable\u001b[39m(custom):\n\u001b[0;32m-> 1235\u001b[0m     \u001b[38;5;28;01mreturn\u001b[39;00m \u001b[43mcustom\u001b[49m\u001b[43m(\u001b[49m\u001b[43m)\u001b[49m\n\u001b[1;32m   1237\u001b[0m \u001b[38;5;28;01melse\u001b[39;00m:\n\u001b[1;32m   1238\u001b[0m     \u001b[38;5;28;01mreturn\u001b[39;00m transform_child_layouts(\n\u001b[1;32m   1239\u001b[0m         transform, layout, depth, user\u001b[38;5;241m=\u001b[39mcustom, keep_parameters\u001b[38;5;241m=\u001b[39mkeep_parameters\n\u001b[1;32m   1240\u001b[0m     )\n",
      "File \u001b[0;32m/opt/conda/lib/python3.11/site-packages/awkward/operations/structure.py:791\u001b[0m, in \u001b[0;36mto_regular.<locals>.getfunction.<locals>.<lambda>\u001b[0;34m()\u001b[0m\n\u001b[1;32m    789\u001b[0m     \u001b[38;5;28;01mreturn\u001b[39;00m \u001b[38;5;28;01mlambda\u001b[39;00m: layout\n\u001b[1;32m    790\u001b[0m \u001b[38;5;28;01melif\u001b[39;00m posaxis \u001b[38;5;241m==\u001b[39m depth \u001b[38;5;129;01mand\u001b[39;00m \u001b[38;5;28misinstance\u001b[39m(layout, ak\u001b[38;5;241m.\u001b[39m_util\u001b[38;5;241m.\u001b[39mlisttypes):\n\u001b[0;32m--> 791\u001b[0m     \u001b[38;5;28;01mreturn\u001b[39;00m \u001b[38;5;28;01mlambda\u001b[39;00m: \u001b[43mlayout\u001b[49m\u001b[38;5;241;43m.\u001b[39;49m\u001b[43mtoRegularArray\u001b[49m\u001b[43m(\u001b[49m\u001b[43m)\u001b[49m\n\u001b[1;32m    792\u001b[0m \u001b[38;5;28;01melif\u001b[39;00m posaxis \u001b[38;5;241m==\u001b[39m \u001b[38;5;241m0\u001b[39m:\n\u001b[1;32m    793\u001b[0m     \u001b[38;5;28;01mraise\u001b[39;00m \u001b[38;5;167;01mValueError\u001b[39;00m(\n\u001b[1;32m    794\u001b[0m         \u001b[38;5;124mf\u001b[39m\u001b[38;5;124m\"\u001b[39m\u001b[38;5;124marray has no axis \u001b[39m\u001b[38;5;132;01m{\u001b[39;00maxis\u001b[38;5;132;01m}\u001b[39;00m\u001b[38;5;124m\"\u001b[39m \u001b[38;5;241m+\u001b[39m ak\u001b[38;5;241m.\u001b[39m_util\u001b[38;5;241m.\u001b[39mexception_suffix(\u001b[38;5;18m__file__\u001b[39m)\n\u001b[1;32m    795\u001b[0m     )\n",
      "\u001b[0;31mValueError\u001b[0m: in ListOffsetArray64, cannot convert to RegularArray because subarray lengths are not regular\n\n(https://github.com/scikit-hep/awkward-1.0/blob/1.10.3/src/cpu-kernels/awkward_ListOffsetArray_toRegularArray.cpp#L22)"
     ]
    }
   ],
   "source": [
    "ak.to_regular(jets_pt)"
   ]
  },
  {
   "cell_type": "markdown",
   "id": "dee750dc-327e-49a7-baec-cd8b7d467422",
   "metadata": {},
   "source": [
    "we cannot convert it to a regular array because it is still jagged"
   ]
  },
  {
   "cell_type": "code",
   "execution_count": 92,
   "id": "a11ca5f8-b8e9-4cae-94cb-d78db2b40191",
   "metadata": {},
   "outputs": [
    {
     "data": {
      "text/plain": [
       "[[None,\n",
       "  None,\n",
       "  None,\n",
       "  None,\n",
       "  None,\n",
       "  None,\n",
       "  None,\n",
       "  None,\n",
       "  None,\n",
       "  None,\n",
       "  None,\n",
       "  None,\n",
       "  None,\n",
       "  None],\n",
       " [48.1875,\n",
       "  47.84375,\n",
       "  16.28125,\n",
       "  None,\n",
       "  None,\n",
       "  None,\n",
       "  None,\n",
       "  None,\n",
       "  None,\n",
       "  None,\n",
       "  None,\n",
       "  None,\n",
       "  None,\n",
       "  None],\n",
       " [45.0625,\n",
       "  27.578125,\n",
       "  16.078125,\n",
       "  None,\n",
       "  None,\n",
       "  None,\n",
       "  None,\n",
       "  None,\n",
       "  None,\n",
       "  None,\n",
       "  None,\n",
       "  None,\n",
       "  None,\n",
       "  None]]"
      ]
     },
     "execution_count": 92,
     "metadata": {},
     "output_type": "execute_result"
    }
   ],
   "source": [
    "padded_jet_pt = ak.pad_none(jets_pt, ak.max(N_jets))\n",
    "padded_jet_pt[0:3].tolist()"
   ]
  },
  {
   "cell_type": "code",
   "execution_count": 93,
   "id": "3d85d8db-60e4-48ac-a764-d53f4a64b83d",
   "metadata": {},
   "outputs": [
    {
     "data": {
      "text/plain": [
       "<Array [[None, None, None, ... None, None]] type='5000 * 14 * ?float32'>"
      ]
     },
     "execution_count": 93,
     "metadata": {},
     "output_type": "execute_result"
    }
   ],
   "source": [
    "ak.to_regular(padded_jet_pt)"
   ]
  },
  {
   "cell_type": "markdown",
   "id": "1b1717ed-d870-4193-8325-3dc10a0f01c7",
   "metadata": {},
   "source": [
    "Note the change in the type field: the array has now a regular dimension of 14 elements, and it is no more \"var\" variable. "
   ]
  },
  {
   "cell_type": "markdown",
   "id": "4af87109-d154-47c8-9c44-ec18e9551b85",
   "metadata": {},
   "source": [
    "None values are usually replaced with specific value like 0. "
   ]
  },
  {
   "cell_type": "code",
   "execution_count": 97,
   "id": "d47c0a14-ad1a-4be3-831a-9edc037332c0",
   "metadata": {},
   "outputs": [],
   "source": [
    "padding_mask = ~ak.is_none(padded_jet_pt, axis=1)"
   ]
  },
  {
   "cell_type": "code",
   "execution_count": 99,
   "id": "73675a21-dd1f-41d2-a040-d4c81fd8337a",
   "metadata": {},
   "outputs": [
    {
     "data": {
      "text/plain": [
       "[[False,\n",
       "  False,\n",
       "  False,\n",
       "  False,\n",
       "  False,\n",
       "  False,\n",
       "  False,\n",
       "  False,\n",
       "  False,\n",
       "  False,\n",
       "  False,\n",
       "  False,\n",
       "  False,\n",
       "  False],\n",
       " [True,\n",
       "  True,\n",
       "  True,\n",
       "  False,\n",
       "  False,\n",
       "  False,\n",
       "  False,\n",
       "  False,\n",
       "  False,\n",
       "  False,\n",
       "  False,\n",
       "  False,\n",
       "  False,\n",
       "  False],\n",
       " [True,\n",
       "  True,\n",
       "  True,\n",
       "  False,\n",
       "  False,\n",
       "  False,\n",
       "  False,\n",
       "  False,\n",
       "  False,\n",
       "  False,\n",
       "  False,\n",
       "  False,\n",
       "  False,\n",
       "  False]]"
      ]
     },
     "execution_count": 99,
     "metadata": {},
     "output_type": "execute_result"
    }
   ],
   "source": [
    "padding_mask[0:3].tolist()"
   ]
  },
  {
   "cell_type": "code",
   "execution_count": 94,
   "id": "5b9a106e-5173-4895-a37e-f7c9ec967439",
   "metadata": {},
   "outputs": [
    {
     "data": {
      "text/plain": [
       "[[0.0, 0.0, 0.0, 0.0, 0.0, 0.0, 0.0, 0.0, 0.0, 0.0, 0.0, 0.0, 0.0, 0.0],\n",
       " [48.1875,\n",
       "  47.84375,\n",
       "  16.28125,\n",
       "  0.0,\n",
       "  0.0,\n",
       "  0.0,\n",
       "  0.0,\n",
       "  0.0,\n",
       "  0.0,\n",
       "  0.0,\n",
       "  0.0,\n",
       "  0.0,\n",
       "  0.0,\n",
       "  0.0],\n",
       " [45.0625,\n",
       "  27.578125,\n",
       "  16.078125,\n",
       "  0.0,\n",
       "  0.0,\n",
       "  0.0,\n",
       "  0.0,\n",
       "  0.0,\n",
       "  0.0,\n",
       "  0.0,\n",
       "  0.0,\n",
       "  0.0,\n",
       "  0.0,\n",
       "  0.0],\n",
       " [21.0, 16.640625, 0.0, 0.0, 0.0, 0.0, 0.0, 0.0, 0.0, 0.0, 0.0, 0.0, 0.0, 0.0],\n",
       " [26.96875,\n",
       "  20.203125,\n",
       "  19.875,\n",
       "  19.703125,\n",
       "  0.0,\n",
       "  0.0,\n",
       "  0.0,\n",
       "  0.0,\n",
       "  0.0,\n",
       "  0.0,\n",
       "  0.0,\n",
       "  0.0,\n",
       "  0.0,\n",
       "  0.0]]"
      ]
     },
     "execution_count": 94,
     "metadata": {},
     "output_type": "execute_result"
    }
   ],
   "source": [
    "padded_jet_pt_final = ak.fill_none(padded_jet_pt, 0.)\n",
    "padded_jet_pt_final[0:5].tolist()"
   ]
  },
  {
   "cell_type": "markdown",
   "id": "2fc69967-c0e9-4fc1-b0d1-a43d5ae601d1",
   "metadata": {},
   "source": [
    "## Conversion to numpy"
   ]
  },
  {
   "cell_type": "markdown",
   "id": "f05d577e-0296-4714-bbbb-ce2c1fdc8725",
   "metadata": {},
   "source": [
    "When converting an awkward array (regular) to numpy, if Nones are present, a masked numpy array is created"
   ]
  },
  {
   "cell_type": "code",
   "execution_count": 100,
   "id": "eb5e8045-ea09-4bf3-aa20-ea29a6834609",
   "metadata": {},
   "outputs": [
    {
     "ename": "ValueError",
     "evalue": "in ListOffsetArray64, cannot convert to RegularArray because subarray lengths are not regular\n\n(https://github.com/scikit-hep/awkward-1.0/blob/1.10.3/src/cpu-kernels/awkward_ListOffsetArray_toRegularArray.cpp#L22)",
     "output_type": "error",
     "traceback": [
      "\u001b[0;31m---------------------------------------------------------------------------\u001b[0m",
      "\u001b[0;31mValueError\u001b[0m                                Traceback (most recent call last)",
      "Cell \u001b[0;32mIn[100], line 1\u001b[0m\n\u001b[0;32m----> 1\u001b[0m \u001b[43mak\u001b[49m\u001b[38;5;241;43m.\u001b[39;49m\u001b[43mto_numpy\u001b[49m\u001b[43m(\u001b[49m\u001b[43mjets_pt\u001b[49m\u001b[43m)\u001b[49m\n",
      "File \u001b[0;32m/opt/conda/lib/python3.11/site-packages/awkward/operations/convert.py:196\u001b[0m, in \u001b[0;36mto_numpy\u001b[0;34m(array, allow_missing)\u001b[0m\n\u001b[1;32m    193\u001b[0m     \u001b[38;5;28;01mreturn\u001b[39;00m array\n\u001b[1;32m    195\u001b[0m \u001b[38;5;28;01melif\u001b[39;00m \u001b[38;5;28misinstance\u001b[39m(array, ak\u001b[38;5;241m.\u001b[39mhighlevel\u001b[38;5;241m.\u001b[39mArray):\n\u001b[0;32m--> 196\u001b[0m     \u001b[38;5;28;01mreturn\u001b[39;00m \u001b[43mto_numpy\u001b[49m\u001b[43m(\u001b[49m\u001b[43marray\u001b[49m\u001b[38;5;241;43m.\u001b[39;49m\u001b[43mlayout\u001b[49m\u001b[43m,\u001b[49m\u001b[43m \u001b[49m\u001b[43mallow_missing\u001b[49m\u001b[38;5;241;43m=\u001b[39;49m\u001b[43mallow_missing\u001b[49m\u001b[43m)\u001b[49m\n\u001b[1;32m    198\u001b[0m \u001b[38;5;28;01melif\u001b[39;00m \u001b[38;5;28misinstance\u001b[39m(array, ak\u001b[38;5;241m.\u001b[39mhighlevel\u001b[38;5;241m.\u001b[39mRecord):\n\u001b[1;32m    199\u001b[0m     out \u001b[38;5;241m=\u001b[39m array\u001b[38;5;241m.\u001b[39mlayout\n",
      "File \u001b[0;32m/opt/conda/lib/python3.11/site-packages/awkward/operations/convert.py:324\u001b[0m, in \u001b[0;36mto_numpy\u001b[0;34m(array, allow_missing)\u001b[0m\n\u001b[1;32m    321\u001b[0m     \u001b[38;5;28;01mreturn\u001b[39;00m out[: shape[\u001b[38;5;241m0\u001b[39m] \u001b[38;5;241m*\u001b[39m array\u001b[38;5;241m.\u001b[39msize]\u001b[38;5;241m.\u001b[39mreshape(shape)\n\u001b[1;32m    323\u001b[0m \u001b[38;5;28;01melif\u001b[39;00m \u001b[38;5;28misinstance\u001b[39m(array, ak\u001b[38;5;241m.\u001b[39m_util\u001b[38;5;241m.\u001b[39mlisttypes):\n\u001b[0;32m--> 324\u001b[0m     \u001b[38;5;28;01mreturn\u001b[39;00m to_numpy(\u001b[43marray\u001b[49m\u001b[38;5;241;43m.\u001b[39;49m\u001b[43mtoRegularArray\u001b[49m\u001b[43m(\u001b[49m\u001b[43m)\u001b[49m, allow_missing\u001b[38;5;241m=\u001b[39mallow_missing)\n\u001b[1;32m    326\u001b[0m \u001b[38;5;28;01melif\u001b[39;00m \u001b[38;5;28misinstance\u001b[39m(array, ak\u001b[38;5;241m.\u001b[39m_util\u001b[38;5;241m.\u001b[39mrecordtypes):\n\u001b[1;32m    327\u001b[0m     \u001b[38;5;28;01mif\u001b[39;00m array\u001b[38;5;241m.\u001b[39mnumfields \u001b[38;5;241m==\u001b[39m \u001b[38;5;241m0\u001b[39m:\n",
      "\u001b[0;31mValueError\u001b[0m: in ListOffsetArray64, cannot convert to RegularArray because subarray lengths are not regular\n\n(https://github.com/scikit-hep/awkward-1.0/blob/1.10.3/src/cpu-kernels/awkward_ListOffsetArray_toRegularArray.cpp#L22)"
     ]
    }
   ],
   "source": [
    "ak.to_numpy(jets_pt)"
   ]
  },
  {
   "cell_type": "code",
   "execution_count": 101,
   "id": "c554a97d-b90a-4815-b8ef-6c8ededc582a",
   "metadata": {},
   "outputs": [
    {
     "data": {
      "text/plain": [
       "masked_array(\n",
       "  data=[[--, --, --, ..., --, --, --],\n",
       "        [48.1875, 47.84375, 16.28125, ..., --, --, --],\n",
       "        [45.0625, 27.578125, 16.078125, ..., --, --, --],\n",
       "        ...,\n",
       "        [39.4375, 21.3125, 19.90625, ..., --, --, --],\n",
       "        [48.15625, 40.84375, 38.03125, ..., --, --, --],\n",
       "        [51.4375, 18.796875, 18.578125, ..., --, --, --]],\n",
       "  mask=[[ True,  True,  True, ...,  True,  True,  True],\n",
       "        [False, False, False, ...,  True,  True,  True],\n",
       "        [False, False, False, ...,  True,  True,  True],\n",
       "        ...,\n",
       "        [False, False, False, ...,  True,  True,  True],\n",
       "        [False, False, False, ...,  True,  True,  True],\n",
       "        [False, False, False, ...,  True,  True,  True]],\n",
       "  fill_value=1e+20,\n",
       "  dtype=float32)"
      ]
     },
     "execution_count": 101,
     "metadata": {},
     "output_type": "execute_result"
    }
   ],
   "source": [
    "ak.to_numpy(padded_jet_pt)"
   ]
  },
  {
   "cell_type": "markdown",
   "id": "9592b9e7-41e3-4cab-b1dd-c4d1ca4f1c81",
   "metadata": {},
   "source": [
    "The option `allow_missing` is used to check explicitely for None values and fail the conversion"
   ]
  },
  {
   "cell_type": "code",
   "execution_count": 102,
   "id": "1bac9da1-862c-4ce4-87a6-b30d5a72f4b8",
   "metadata": {},
   "outputs": [
    {
     "ename": "ValueError",
     "evalue": "ak.to_numpy cannot convert 'None' values to np.ma.MaskedArray unless the 'allow_missing' parameter is set to True\n\n(https://github.com/scikit-hep/awkward-1.0/blob/1.10.3/src/awkward/operations/convert.py#L306)",
     "output_type": "error",
     "traceback": [
      "\u001b[0;31m---------------------------------------------------------------------------\u001b[0m",
      "\u001b[0;31mValueError\u001b[0m                                Traceback (most recent call last)",
      "Cell \u001b[0;32mIn[102], line 1\u001b[0m\n\u001b[0;32m----> 1\u001b[0m \u001b[43mak\u001b[49m\u001b[38;5;241;43m.\u001b[39;49m\u001b[43mto_numpy\u001b[49m\u001b[43m(\u001b[49m\u001b[43mpadded_jet_pt\u001b[49m\u001b[43m,\u001b[49m\u001b[43m \u001b[49m\u001b[43mallow_missing\u001b[49m\u001b[38;5;241;43m=\u001b[39;49m\u001b[38;5;28;43;01mFalse\u001b[39;49;00m\u001b[43m)\u001b[49m\n",
      "File \u001b[0;32m/opt/conda/lib/python3.11/site-packages/awkward/operations/convert.py:196\u001b[0m, in \u001b[0;36mto_numpy\u001b[0;34m(array, allow_missing)\u001b[0m\n\u001b[1;32m    193\u001b[0m     \u001b[38;5;28;01mreturn\u001b[39;00m array\n\u001b[1;32m    195\u001b[0m \u001b[38;5;28;01melif\u001b[39;00m \u001b[38;5;28misinstance\u001b[39m(array, ak\u001b[38;5;241m.\u001b[39mhighlevel\u001b[38;5;241m.\u001b[39mArray):\n\u001b[0;32m--> 196\u001b[0m     \u001b[38;5;28;01mreturn\u001b[39;00m \u001b[43mto_numpy\u001b[49m\u001b[43m(\u001b[49m\u001b[43marray\u001b[49m\u001b[38;5;241;43m.\u001b[39;49m\u001b[43mlayout\u001b[49m\u001b[43m,\u001b[49m\u001b[43m \u001b[49m\u001b[43mallow_missing\u001b[49m\u001b[38;5;241;43m=\u001b[39;49m\u001b[43mallow_missing\u001b[49m\u001b[43m)\u001b[49m\n\u001b[1;32m    198\u001b[0m \u001b[38;5;28;01melif\u001b[39;00m \u001b[38;5;28misinstance\u001b[39m(array, ak\u001b[38;5;241m.\u001b[39mhighlevel\u001b[38;5;241m.\u001b[39mRecord):\n\u001b[1;32m    199\u001b[0m     out \u001b[38;5;241m=\u001b[39m array\u001b[38;5;241m.\u001b[39mlayout\n",
      "File \u001b[0;32m/opt/conda/lib/python3.11/site-packages/awkward/operations/convert.py:324\u001b[0m, in \u001b[0;36mto_numpy\u001b[0;34m(array, allow_missing)\u001b[0m\n\u001b[1;32m    321\u001b[0m     \u001b[38;5;28;01mreturn\u001b[39;00m out[: shape[\u001b[38;5;241m0\u001b[39m] \u001b[38;5;241m*\u001b[39m array\u001b[38;5;241m.\u001b[39msize]\u001b[38;5;241m.\u001b[39mreshape(shape)\n\u001b[1;32m    323\u001b[0m \u001b[38;5;28;01melif\u001b[39;00m \u001b[38;5;28misinstance\u001b[39m(array, ak\u001b[38;5;241m.\u001b[39m_util\u001b[38;5;241m.\u001b[39mlisttypes):\n\u001b[0;32m--> 324\u001b[0m     \u001b[38;5;28;01mreturn\u001b[39;00m \u001b[43mto_numpy\u001b[49m\u001b[43m(\u001b[49m\u001b[43marray\u001b[49m\u001b[38;5;241;43m.\u001b[39;49m\u001b[43mtoRegularArray\u001b[49m\u001b[43m(\u001b[49m\u001b[43m)\u001b[49m\u001b[43m,\u001b[49m\u001b[43m \u001b[49m\u001b[43mallow_missing\u001b[49m\u001b[38;5;241;43m=\u001b[39;49m\u001b[43mallow_missing\u001b[49m\u001b[43m)\u001b[49m\n\u001b[1;32m    326\u001b[0m \u001b[38;5;28;01melif\u001b[39;00m \u001b[38;5;28misinstance\u001b[39m(array, ak\u001b[38;5;241m.\u001b[39m_util\u001b[38;5;241m.\u001b[39mrecordtypes):\n\u001b[1;32m    327\u001b[0m     \u001b[38;5;28;01mif\u001b[39;00m array\u001b[38;5;241m.\u001b[39mnumfields \u001b[38;5;241m==\u001b[39m \u001b[38;5;241m0\u001b[39m:\n",
      "File \u001b[0;32m/opt/conda/lib/python3.11/site-packages/awkward/operations/convert.py:315\u001b[0m, in \u001b[0;36mto_numpy\u001b[0;34m(array, allow_missing)\u001b[0m\n\u001b[1;32m    312\u001b[0m             \u001b[38;5;28;01mreturn\u001b[39;00m content\n\u001b[1;32m    314\u001b[0m \u001b[38;5;28;01melif\u001b[39;00m \u001b[38;5;28misinstance\u001b[39m(array, ak\u001b[38;5;241m.\u001b[39mlayout\u001b[38;5;241m.\u001b[39mRegularArray):\n\u001b[0;32m--> 315\u001b[0m     out \u001b[38;5;241m=\u001b[39m \u001b[43mto_numpy\u001b[49m\u001b[43m(\u001b[49m\u001b[43marray\u001b[49m\u001b[38;5;241;43m.\u001b[39;49m\u001b[43mcontent\u001b[49m\u001b[43m,\u001b[49m\u001b[43m \u001b[49m\u001b[43mallow_missing\u001b[49m\u001b[38;5;241;43m=\u001b[39;49m\u001b[43mallow_missing\u001b[49m\u001b[43m)\u001b[49m\n\u001b[1;32m    316\u001b[0m     head, tail \u001b[38;5;241m=\u001b[39m out\u001b[38;5;241m.\u001b[39mshape[\u001b[38;5;241m0\u001b[39m], out\u001b[38;5;241m.\u001b[39mshape[\u001b[38;5;241m1\u001b[39m:]\n\u001b[1;32m    317\u001b[0m     \u001b[38;5;28;01mif\u001b[39;00m array\u001b[38;5;241m.\u001b[39msize \u001b[38;5;241m==\u001b[39m \u001b[38;5;241m0\u001b[39m:\n",
      "File \u001b[0;32m/opt/conda/lib/python3.11/site-packages/awkward/operations/convert.py:302\u001b[0m, in \u001b[0;36mto_numpy\u001b[0;34m(array, allow_missing)\u001b[0m\n\u001b[1;32m    300\u001b[0m         \u001b[38;5;28;01mreturn\u001b[39;00m numpy\u001b[38;5;241m.\u001b[39mma\u001b[38;5;241m.\u001b[39mMaskedArray(data, mask)\n\u001b[1;32m    301\u001b[0m     \u001b[38;5;28;01melse\u001b[39;00m:\n\u001b[0;32m--> 302\u001b[0m         \u001b[38;5;28;01mraise\u001b[39;00m \u001b[38;5;167;01mValueError\u001b[39;00m(\n\u001b[1;32m    303\u001b[0m             \u001b[38;5;124m\"\u001b[39m\u001b[38;5;124mak.to_numpy cannot convert \u001b[39m\u001b[38;5;124m'\u001b[39m\u001b[38;5;124mNone\u001b[39m\u001b[38;5;124m'\u001b[39m\u001b[38;5;124m values to \u001b[39m\u001b[38;5;124m\"\u001b[39m\n\u001b[1;32m    304\u001b[0m             \u001b[38;5;124m\"\u001b[39m\u001b[38;5;124mnp.ma.MaskedArray unless the \u001b[39m\u001b[38;5;124m\"\u001b[39m\n\u001b[1;32m    305\u001b[0m             \u001b[38;5;124m\"\u001b[39m\u001b[38;5;124m'\u001b[39m\u001b[38;5;124mallow_missing\u001b[39m\u001b[38;5;124m'\u001b[39m\u001b[38;5;124m parameter is set to True\u001b[39m\u001b[38;5;124m\"\u001b[39m\n\u001b[1;32m    306\u001b[0m             \u001b[38;5;241m+\u001b[39m ak\u001b[38;5;241m.\u001b[39m_util\u001b[38;5;241m.\u001b[39mexception_suffix(\u001b[38;5;18m__file__\u001b[39m)\n\u001b[1;32m    307\u001b[0m         )\n\u001b[1;32m    308\u001b[0m \u001b[38;5;28;01melse\u001b[39;00m:\n\u001b[1;32m    309\u001b[0m     \u001b[38;5;28;01mif\u001b[39;00m allow_missing:\n",
      "\u001b[0;31mValueError\u001b[0m: ak.to_numpy cannot convert 'None' values to np.ma.MaskedArray unless the 'allow_missing' parameter is set to True\n\n(https://github.com/scikit-hep/awkward-1.0/blob/1.10.3/src/awkward/operations/convert.py#L306)"
     ]
    }
   ],
   "source": [
    "ak.to_numpy(padded_jet_pt, allow_missing=False)"
   ]
  },
  {
   "cell_type": "code",
   "execution_count": 103,
   "id": "671d0693-e393-434b-9b08-ddc8deaab654",
   "metadata": {},
   "outputs": [
    {
     "data": {
      "text/plain": [
       "array([[ 0.      ,  0.      ,  0.      , ...,  0.      ,  0.      ,\n",
       "         0.      ],\n",
       "       [48.1875  , 47.84375 , 16.28125 , ...,  0.      ,  0.      ,\n",
       "         0.      ],\n",
       "       [45.0625  , 27.578125, 16.078125, ...,  0.      ,  0.      ,\n",
       "         0.      ],\n",
       "       ...,\n",
       "       [39.4375  , 21.3125  , 19.90625 , ...,  0.      ,  0.      ,\n",
       "         0.      ],\n",
       "       [48.15625 , 40.84375 , 38.03125 , ...,  0.      ,  0.      ,\n",
       "         0.      ],\n",
       "       [51.4375  , 18.796875, 18.578125, ...,  0.      ,  0.      ,\n",
       "         0.      ]])"
      ]
     },
     "execution_count": 103,
     "metadata": {},
     "output_type": "execute_result"
    }
   ],
   "source": [
    "ak.to_numpy(padded_jet_pt_final, allow_missing=False)"
   ]
  },
  {
   "cell_type": "markdown",
   "id": "71c0f63d-6d6f-47dd-bea6-9624f2620c7c",
   "metadata": {},
   "source": [
    "## Writing objects to ROOT file"
   ]
  },
  {
   "cell_type": "code",
   "execution_count": 105,
   "id": "3e626773-5992-469d-94f1-5ef761a9baa8",
   "metadata": {},
   "outputs": [
    {
     "name": "stdout",
     "output_type": "stream",
     "text": [
      "<class 'uproot.models.TH.Model_TH1D_v3'>\n",
      "<class 'uproot.models.TH.Model_TH2D_v4'>\n"
     ]
    }
   ],
   "source": [
    "file = uproot.recreate(\"output.root\", compression=uproot.ZLIB(4))\n",
    "\n",
    "# Let's create a 1D histograms and save it to the Root file\n",
    "H = np.histogram(ak.flatten(df.Jet_pt).to_numpy(), bins=50, range=(0,200))\n",
    "\n",
    "file[\"histo\"] = H\n",
    "file.keys()\n",
    "h = file[\"histo\"]\n",
    "print(type(h))\n",
    "\n",
    "# up to 3D histogram\n",
    "H = np.histogram2d(ak.flatten(df.Jet_pt).to_numpy(), \n",
    "                   ak.flatten(df.Jet_eta).to_numpy(),\n",
    "                   bins=(50,50), range=((0,200),(-4,4)))\n",
    "\n",
    "file[\"histo2D\"] = H\n",
    "file.keys()\n",
    "h = file[\"histo2D\"]\n",
    "print(type(h))\n",
    "\n",
    "\n",
    "#file.close()"
   ]
  },
  {
   "cell_type": "code",
   "execution_count": null,
   "id": "092ebc2d-a4df-4dbc-99cc-ec0eb34be65f",
   "metadata": {},
   "outputs": [],
   "source": []
  },
  {
   "cell_type": "markdown",
   "id": "c1aa65ce-82d7-4136-ad23-9ead0cf137b2",
   "metadata": {},
   "source": [
    "## More complicated operations"
   ]
  },
  {
   "cell_type": "markdown",
   "id": "58d13c1b-6574-4f61-a6ba-a2f6bee949f2",
   "metadata": {},
   "source": [
    "### All possible combinations of 2 collections"
   ]
  },
  {
   "cell_type": "code",
   "execution_count": 106,
   "id": "4b201232-ab26-44b9-ac09-56a4dd2933df",
   "metadata": {},
   "outputs": [],
   "source": [
    "mask_1j_1e = (ak.num(df.Jet_pt, axis=1)>0) & (ak.num(df.Electron_pt, axis=1)>0)\n",
    "myevents = df[mask_1j_1e]"
   ]
  },
  {
   "cell_type": "code",
   "execution_count": 110,
   "id": "cea5d0b7-1f9e-40c0-ab4d-6c1542626df7",
   "metadata": {},
   "outputs": [
    {
     "data": {
      "text/plain": [
       "<Array [[(0, 0)], [(0, 0), ... (8, 1), (8, 2)]] type='2051 * var * (int64, int64)'>"
      ]
     },
     "execution_count": 110,
     "metadata": {},
     "output_type": "execute_result"
    }
   ],
   "source": [
    "cart = ak.argcartesian([myevents.Jet_pt, myevents.Electron_pt])\n",
    "cart"
   ]
  },
  {
   "cell_type": "code",
   "execution_count": 123,
   "id": "c473341b-1a8c-42c6-ac11-b9b4b20d9641",
   "metadata": {},
   "outputs": [
    {
     "data": {
      "text/plain": [
       "[[(0, 0)],\n",
       " [(0, 0), (0, 1), (1, 0), (1, 1)],\n",
       " [(0, 0), (1, 0), (2, 0)],\n",
       " [(0, 0),\n",
       "  (0, 1),\n",
       "  (1, 0),\n",
       "  (1, 1),\n",
       "  (2, 0),\n",
       "  (2, 1),\n",
       "  (3, 0),\n",
       "  (3, 1),\n",
       "  (4, 0),\n",
       "  (4, 1),\n",
       "  (5, 0),\n",
       "  (5, 1)],\n",
       " [(0, 0),\n",
       "  (0, 1),\n",
       "  (1, 0),\n",
       "  (1, 1),\n",
       "  (2, 0),\n",
       "  (2, 1),\n",
       "  (3, 0),\n",
       "  (3, 1),\n",
       "  (4, 0),\n",
       "  (4, 1)]]"
      ]
     },
     "execution_count": 123,
     "metadata": {},
     "output_type": "execute_result"
    }
   ],
   "source": [
    "cart[0:5].tolist()"
   ]
  },
  {
   "cell_type": "code",
   "execution_count": 112,
   "id": "cc8514ef-b076-4730-bd93-07936e382888",
   "metadata": {},
   "outputs": [],
   "source": [
    "first_index , second_index = ak.unzip(ak.argcartesian([myevents.Jet_pt, myevents.Electron_pt]))"
   ]
  },
  {
   "cell_type": "code",
   "execution_count": 113,
   "id": "b177b821-3add-4ab6-9f39-b4f783dc877f",
   "metadata": {},
   "outputs": [
    {
     "data": {
      "text/plain": [
       "[[0], [0, 0, 1, 1], [0, 1, 2]]"
      ]
     },
     "execution_count": 113,
     "metadata": {},
     "output_type": "execute_result"
    }
   ],
   "source": [
    "first_index[0:3].tolist()"
   ]
  },
  {
   "cell_type": "code",
   "execution_count": 114,
   "id": "26a9f352-bd95-415e-9e71-9e3013c7d199",
   "metadata": {},
   "outputs": [
    {
     "data": {
      "text/plain": [
       "[[0], [0, 1, 0, 1], [0, 0, 0]]"
      ]
     },
     "execution_count": 114,
     "metadata": {},
     "output_type": "execute_result"
    }
   ],
   "source": [
    "second_index[0:3].tolist()"
   ]
  },
  {
   "cell_type": "code",
   "execution_count": 116,
   "id": "67a29515-ab06-4e47-bc55-18d05602cd4d",
   "metadata": {},
   "outputs": [],
   "source": [
    "jets_comb = myevents.Jet_pt[first_index]\n",
    "ele_comb = myevents.Electron_pt[second_index]"
   ]
  },
  {
   "cell_type": "code",
   "execution_count": 117,
   "id": "b0a06ff5-9a1e-44c0-85db-d7406888e158",
   "metadata": {},
   "outputs": [
    {
     "data": {
      "text/plain": [
       "<Array [[31.8], [39.9, ... 16.3, 16.3, 16.3]] type='2051 * var * float32'>"
      ]
     },
     "execution_count": 117,
     "metadata": {},
     "output_type": "execute_result"
    }
   ],
   "source": [
    "jets_comb"
   ]
  },
  {
   "cell_type": "markdown",
   "id": "3e319baa-8c62-45bd-8744-c75ffded2a69",
   "metadata": {},
   "source": [
    "Now we have an array of jets and one of electrons, correctly aligned to be able to perform operations on them. "
   ]
  },
  {
   "cell_type": "code",
   "execution_count": 119,
   "id": "8fa063a7-40b1-4298-a740-a9ad44d03394",
   "metadata": {},
   "outputs": [
    {
     "data": {
      "text/plain": [
       "<Array [[19], [3.7, ... 6.13, 17, 16, 5.66]] type='2051 * var * float32'>"
      ]
     },
     "execution_count": 119,
     "metadata": {},
     "output_type": "execute_result"
    }
   ],
   "source": [
    "diff_pt = abs(jets_comb - ele_comb)\n",
    "diff_pt"
   ]
  },
  {
   "cell_type": "code",
   "execution_count": 120,
   "id": "c5420414-5edc-4003-be57-e249dddd834d",
   "metadata": {},
   "outputs": [
    {
     "data": {
      "text/plain": [
       "[[18.971145629882812],\n",
       " [3.7016525268554688,\n",
       "  5.485103607177734,\n",
       "  2.1079025268554688,\n",
       "  3.8913536071777344],\n",
       " [10.823930740356445, 3.7614307403564453, 2.8864307403564453]]"
      ]
     },
     "execution_count": 120,
     "metadata": {},
     "output_type": "execute_result"
    }
   ],
   "source": [
    "diff_pt[0:3].tolist()"
   ]
  },
  {
   "cell_type": "code",
   "execution_count": 122,
   "id": "26396395-0b89-4e53-bfe8-b49a33a8984a",
   "metadata": {},
   "outputs": [
    {
     "data": {
      "text/plain": [
       "<Array [[19], [3.7, ... 6.13, 17, 16, 5.66]] type='2051 * var * float32'>"
      ]
     },
     "execution_count": 122,
     "metadata": {},
     "output_type": "execute_result"
    }
   ],
   "source": [
    "diff_pt"
   ]
  },
  {
   "cell_type": "markdown",
   "id": "5403ee8f-2f58-4d94-af71-0dbb4c6bc845",
   "metadata": {},
   "source": [
    "### Taking the largest element"
   ]
  },
  {
   "cell_type": "markdown",
   "id": "f4311cef-4c67-47f6-b586-33ffa543adb6",
   "metadata": {},
   "source": [
    "We can now look for the larget diff_pt element for each event. \n",
    "The arrays are already properly formatting to be able to perform the following"
   ]
  },
  {
   "cell_type": "code",
   "execution_count": 124,
   "id": "604b4031-b6ea-46a7-afa0-6a0e98dbc34b",
   "metadata": {},
   "outputs": [
    {
     "data": {
      "text/plain": [
       "<Array [0, 1, 0, 1, 8, 1, ... 0, 12, 14, 0, 2] type='2051 * ?int64'>"
      ]
     },
     "execution_count": 124,
     "metadata": {},
     "output_type": "execute_result"
    }
   ],
   "source": [
    "max_diff_pt_idx = ak.argmax(diff_pt, axis=1)\n",
    "max_diff_pt_idx"
   ]
  },
  {
   "cell_type": "markdown",
   "id": "9f7b400f-2d38-4240-9cab-268b8d99bba3",
   "metadata": {},
   "source": [
    "This is the index of the jet-electron combination with the largest difference in pt for each event.  We can use this indexing to get the correct jet for each event."
   ]
  },
  {
   "cell_type": "code",
   "execution_count": 126,
   "id": "3bed7517-9fd4-4aee-9911-e0196bdd67b2",
   "metadata": {},
   "outputs": [
    {
     "data": {
      "text/plain": [
       "[[31.828125], [39.90625, 39.90625, 38.3125, 38.3125], [31.828125]]"
      ]
     },
     "execution_count": 126,
     "metadata": {},
     "output_type": "execute_result"
    }
   ],
   "source": [
    "jets_comb[max_diff_pt_idx][0:3].tolist()"
   ]
  },
  {
   "cell_type": "markdown",
   "id": "4510c6ed-998d-4952-9ed9-593bb8e2d4cd",
   "metadata": {},
   "source": [
    "### Combinations"
   ]
  },
  {
   "cell_type": "code",
   "execution_count": 150,
   "id": "bd141346-8266-496d-b8f8-e4e61b1f74c7",
   "metadata": {},
   "outputs": [
    {
     "data": {
      "text/plain": [
       "<Array [[[(31.8, 12.9)]], ... (16.3, 10.6)]]] type='2051 * var * var * (float32,...'>"
      ]
     },
     "execution_count": 150,
     "metadata": {},
     "output_type": "execute_result"
    }
   ],
   "source": [
    "comb = ak.cartesian([myevents.Jet_pt, myevents.Electron_pt], axis=1, nested=True)\n",
    "comb"
   ]
  },
  {
   "cell_type": "code",
   "execution_count": 151,
   "id": "06669e2b-56b3-4f67-9092-b5b8fa9de36a",
   "metadata": {},
   "outputs": [
    {
     "data": {
      "text/plain": [
       "[[[(31.828125, 12.856979370117188)]],\n",
       " [[(39.90625, 36.20459747314453), (39.90625, 34.421146392822266)],\n",
       "  [(38.3125, 36.20459747314453), (38.3125, 34.421146392822266)]],\n",
       " [[(38.1875, 27.363569259643555)],\n",
       "  [(31.125, 27.363569259643555)],\n",
       "  [(30.25, 27.363569259643555)]],\n",
       " [[(51.90625, 45.87591552734375), (51.90625, 16.642621994018555)],\n",
       "  [(29.015625, 45.87591552734375), (29.015625, 16.642621994018555)],\n",
       "  [(22.296875, 45.87591552734375), (22.296875, 16.642621994018555)],\n",
       "  [(21.46875, 45.87591552734375), (21.46875, 16.642621994018555)],\n",
       "  [(15.46875, 45.87591552734375), (15.46875, 16.642621994018555)],\n",
       "  [(15.125, 45.87591552734375), (15.125, 16.642621994018555)]],\n",
       " [[(69.8125, 62.07752227783203), (69.8125, 30.823516845703125)],\n",
       "  [(38.59375, 62.07752227783203), (38.59375, 30.823516845703125)],\n",
       "  [(27.96875, 62.07752227783203), (27.96875, 30.823516845703125)],\n",
       "  [(17.421875, 62.07752227783203), (17.421875, 30.823516845703125)],\n",
       "  [(16.78125, 62.07752227783203), (16.78125, 30.823516845703125)]],\n",
       " [[(75.125, 43.98117446899414), (75.125, 29.890472412109375)],\n",
       "  [(48.59375, 43.98117446899414), (48.59375, 29.890472412109375)],\n",
       "  [(38.5, 43.98117446899414), (38.5, 29.890472412109375)],\n",
       "  [(19.40625, 43.98117446899414), (19.40625, 29.890472412109375)]],\n",
       " [[(65.25, 45.70139694213867), (65.25, 44.009971618652344)],\n",
       "  [(53.09375, 45.70139694213867), (53.09375, 44.009971618652344)]],\n",
       " [[(28.625, 9.110495567321777), (28.625, 7.295751571655273)],\n",
       "  [(24.765625, 9.110495567321777), (24.765625, 7.295751571655273)],\n",
       "  [(23.28125, 9.110495567321777), (23.28125, 7.295751571655273)],\n",
       "  [(22.28125, 9.110495567321777), (22.28125, 7.295751571655273)],\n",
       "  [(19.578125, 9.110495567321777), (19.578125, 7.295751571655273)]],\n",
       " [[(51.21875, 11.149998664855957)],\n",
       "  [(40.90625, 11.149998664855957)],\n",
       "  [(32.9375, 11.149998664855957)],\n",
       "  [(24.46875, 11.149998664855957)],\n",
       "  [(17.484375, 11.149998664855957)]],\n",
       " [[(33.46875, 10.54220199584961)],\n",
       "  [(19.84375, 10.54220199584961)],\n",
       "  [(17.96875, 10.54220199584961)],\n",
       "  [(15.8828125, 10.54220199584961)]]]"
      ]
     },
     "execution_count": 151,
     "metadata": {},
     "output_type": "execute_result"
    }
   ],
   "source": [
    "comb[0:10].tolist()"
   ]
  },
  {
   "cell_type": "markdown",
   "id": "b2c71a49-196f-4239-b712-266cf6d1af01",
   "metadata": {},
   "source": [
    "## Where"
   ]
  },
  {
   "cell_type": "markdown",
   "id": "b926948c-21ff-46b8-9115-6c981368f0e2",
   "metadata": {},
   "source": [
    "Let's get the leadining lepton"
   ]
  },
  {
   "cell_type": "code",
   "execution_count": 179,
   "id": "c2dc6e94-b177-4dc7-8983-7086ada8b724",
   "metadata": {},
   "outputs": [],
   "source": [
    "myevents_mask = (ak.num(df.Electron_pt, axis=1)>1) | (ak.num(df.Muon_pt, axis=1)>1)"
   ]
  },
  {
   "cell_type": "code",
   "execution_count": 189,
   "id": "74c786bf-448a-4b61-a69b-57ae3b554150",
   "metadata": {},
   "outputs": [],
   "source": [
    "leading_pt_electron = ak.fill_none(ak.firsts(df[myevents_mask].Electron_pt), 0.)\n",
    "leading_pt_muon = ak.fill_none(ak.firsts(df[myevents_mask].Muon_pt), 0.)"
   ]
  },
  {
   "cell_type": "code",
   "execution_count": 190,
   "id": "c55798e5-6b05-45aa-bb50-4bf9de55bf82",
   "metadata": {},
   "outputs": [],
   "source": [
    "mask_larger = leading_pt_electron > leading_pt_muon"
   ]
  },
  {
   "cell_type": "code",
   "execution_count": 194,
   "id": "4e5d551b-5c0a-4d3f-a191-3a71845d4a29",
   "metadata": {},
   "outputs": [
    {
     "data": {
      "text/plain": [
       "<Array [False, False, True, ... True, True] type='1929 * bool'>"
      ]
     },
     "execution_count": 194,
     "metadata": {},
     "output_type": "execute_result"
    }
   ],
   "source": [
    "mask_larger"
   ]
  },
  {
   "cell_type": "code",
   "execution_count": 192,
   "id": "b6398857-d589-4526-935c-b56fc56ddf9d",
   "metadata": {},
   "outputs": [],
   "source": [
    "lepton_pt = ak.where(mask_larger, df[myevents_mask].Electron_pt, df[myevents_mask].Muon_pt)"
   ]
  },
  {
   "cell_type": "code",
   "execution_count": 195,
   "id": "c3e9a2d7-592e-4638-83d1-82429b8d077a",
   "metadata": {},
   "outputs": [
    {
     "data": {
      "text/plain": [
       "<Array [[37.4, 37], ... [33.3, 32.3, 10.6]] type='1929 * var * float32'>"
      ]
     },
     "execution_count": 195,
     "metadata": {},
     "output_type": "execute_result"
    }
   ],
   "source": [
    "lepton_pt"
   ]
  },
  {
   "cell_type": "markdown",
   "id": "c3e4d2fc-2bcb-45fd-ab12-2b129853936b",
   "metadata": {},
   "source": [
    "# Vectors library"
   ]
  },
  {
   "cell_type": "markdown",
   "id": "2a7559bc-59b8-49fb-834d-b544cac4e60d",
   "metadata": {},
   "source": [
    "https://github.com/scikit-hep/vector\n",
    "\n",
    "Vector is a Python library for 2D and 3D spatial vectors, as well as 4D space-time vectors. It is especially intended for performing geometric calculations on arrays of vectors, rather than one vector at a time in a Python for loop."
   ]
  },
  {
   "cell_type": "code",
   "execution_count": 128,
   "id": "1be56fab-22e6-49c2-a63a-93fba51c9979",
   "metadata": {},
   "outputs": [],
   "source": [
    "import vector\n",
    "vector.register_awkward()"
   ]
  },
  {
   "cell_type": "code",
   "execution_count": 129,
   "id": "ae693d6c-b498-4bcc-8328-1f64b6e8bffb",
   "metadata": {},
   "outputs": [
    {
     "data": {
      "text/plain": [
       "<MomentumArray4D [[{rho: 48.2, ... tau: 3.67}]] type='4860 * var * Momentum4D[\"r...'>"
      ]
     },
     "execution_count": 129,
     "metadata": {},
     "output_type": "execute_result"
    }
   ],
   "source": [
    "mask = ak.num(df.Jet_pt)>0\n",
    "jet_vec = vector.Array(ak.zip({\"pt\": df.Jet_pt[mask], \n",
    "                               \"eta\": df.Jet_eta[mask],\n",
    "                               \"phi\": df.Jet_phi[mask],\n",
    "                               \"m\": df.Jet_mass[mask]}))\n",
    "jet_vec"
   ]
  },
  {
   "cell_type": "code",
   "execution_count": 131,
   "id": "ab59049c-5f90-4921-a04d-ad2e3b3d094e",
   "metadata": {},
   "outputs": [
    {
     "data": {
      "text/plain": [
       "<MomentumArray4D [[], [{rho: 48.2, ... tau: 3.67}]] type='5000 * var * Momentum4...'>"
      ]
     },
     "execution_count": 131,
     "metadata": {},
     "output_type": "execute_result"
    }
   ],
   "source": [
    "vector.zip({\"pt\": df.Jet_pt, \"eta\": df.Jet_eta, \"phi\": df.Jet_phi, \"m\": df.Jet_mass})"
   ]
  },
  {
   "cell_type": "markdown",
   "id": "19a3a257-b6e6-444d-8a8a-77742a01791c",
   "metadata": {},
   "source": [
    "Vector methods becomes available on the Awkward array --> the vector \"behaviours\" have been added to the array"
   ]
  },
  {
   "cell_type": "code",
   "execution_count": 132,
   "id": "13d8ef36-2b44-4d8b-a204-ab999b3cf706",
   "metadata": {},
   "outputs": [
    {
     "data": {
      "text/plain": [
       "<Array [[14.4, -1.06, -16.3, ... 12.3, -17.9]] type='4860 * var * float32'>"
      ]
     },
     "execution_count": 132,
     "metadata": {},
     "output_type": "execute_result"
    }
   ],
   "source": [
    "jet_vec.px"
   ]
  },
  {
   "cell_type": "code",
   "execution_count": 135,
   "id": "52c5a36c-dc1f-4488-86fc-21f7722199a9",
   "metadata": {},
   "outputs": [
    {
     "data": {
      "text/plain": [
       "<MomentumArray4D [[{x: 3.05e-05, y: 0, ... tau: 3.67}]] type='4860 * var * Momen...'>"
      ]
     },
     "execution_count": 135,
     "metadata": {},
     "output_type": "execute_result"
    }
   ],
   "source": [
    "jet_vec.boostCM_of(jet_vec[:,0])"
   ]
  },
  {
   "cell_type": "markdown",
   "id": "ba333221-63ff-45f7-9293-22a9490233cb",
   "metadata": {},
   "source": [
    "# Exercise time"
   ]
  },
  {
   "cell_type": "markdown",
   "id": "c08928b0-e2b8-4231-b830-10733b24afef",
   "metadata": {},
   "source": [
    "1. Combine an event level mask with a collection level mask. How masks are broadcasted?\n",
    "2. Write a mask for \"get only the events with at least 3 jets with 30 GeV and |eta|<2.5\n"
   ]
  },
  {
   "cell_type": "code",
   "execution_count": 139,
   "id": "3754bd2e-cdfd-4008-ac01-218f118bb342",
   "metadata": {},
   "outputs": [
    {
     "data": {
      "text/plain": [
       "<Array [False, False, False, ... True, False] type='5000 * bool'>"
      ]
     },
     "execution_count": 139,
     "metadata": {},
     "output_type": "execute_result"
    }
   ],
   "source": [
    "ak.sum((df.Jet_pt > 30 ) & (abs(df.Jet_eta) < 2.5), axis=1) >=3 "
   ]
  },
  {
   "cell_type": "code",
   "execution_count": null,
   "id": "fd1fd57e-6289-4ade-ad46-7eddcab032d3",
   "metadata": {},
   "outputs": [],
   "source": []
  }
 ],
 "metadata": {
  "kernelspec": {
   "display_name": "Python 3 (ipykernel)",
   "language": "python",
   "name": "python3"
  },
  "language_info": {
   "codemirror_mode": {
    "name": "ipython",
    "version": 3
   },
   "file_extension": ".py",
   "mimetype": "text/x-python",
   "name": "python",
   "nbconvert_exporter": "python",
   "pygments_lexer": "ipython3",
   "version": "3.11.8"
  }
 },
 "nbformat": 4,
 "nbformat_minor": 5
}
