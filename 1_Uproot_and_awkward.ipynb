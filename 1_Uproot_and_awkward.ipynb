{
 "cells": [
  {
   "cell_type": "markdown",
   "id": "2b0d0c1c-d690-4bcd-8583-a5a569fad55b",
   "metadata": {},
   "source": [
    "# uproot essentials\n",
    "A quick walkthrough the essentials operations performed with **uproot** to read and manipulate ROOT files in Python. \n",
    "\n",
    "https://uproot.readthedocs.io/en/latest/basic.html"
   ]
  },
  {
   "cell_type": "code",
   "execution_count": 2,
   "id": "525c27d2-2189-4ad9-b03f-efc9b1aa03de",
   "metadata": {},
   "outputs": [],
   "source": [
    "import uproot\n",
    "import awkward as ak\n",
    "import numpy as np\n",
    "import hist"
   ]
  },
  {
   "cell_type": "markdown",
   "id": "55dc65b4-7445-4243-9d07-da54bf495675",
   "metadata": {},
   "source": [
    "## Explore the TFile"
   ]
  },
  {
   "cell_type": "code",
   "execution_count": 3,
   "id": "2fa22a61-a851-4715-a7b1-a96185caea98",
   "metadata": {},
   "outputs": [],
   "source": [
    "cms_opendata_file = \"root://eospublic.cern.ch//eos/opendata/cms/mc/RunIISummer20UL16NanoAODv9/DYJetsToLL_M-50_TuneCP5_13TeV-madgraphMLM-pythia8/NANOAODSIM/106X_mcRun2_asymptotic_v17-v1/40000/14B6A8AE-C9FE-D744-80A4-DDE5D008C1CD.root\"\n",
    "file = uproot.open(cms_opendata_file)"
   ]
  },
  {
   "cell_type": "code",
   "execution_count": 4,
   "id": "d16afd49-7b2c-4a43-8d64-471bd232cd68",
   "metadata": {},
   "outputs": [
    {
     "data": {
      "text/plain": [
       "{'tag;1': 'TObjString',\n",
       " 'Events;1': 'TTree',\n",
       " 'LuminosityBlocks;1': 'TTree',\n",
       " 'Runs;1': 'TTree',\n",
       " 'MetaData;1': 'TTree',\n",
       " 'ParameterSets;1': 'TTree'}"
      ]
     },
     "execution_count": 4,
     "metadata": {},
     "output_type": "execute_result"
    }
   ],
   "source": [
    "file.classnames()"
   ]
  },
  {
   "cell_type": "code",
   "execution_count": 5,
   "id": "3394db2c-cabf-40a0-8ce5-d882e6878544",
   "metadata": {},
   "outputs": [
    {
     "data": {
      "text/plain": [
       "['tag;1',\n",
       " 'Events;1',\n",
       " 'LuminosityBlocks;1',\n",
       " 'Runs;1',\n",
       " 'MetaData;1',\n",
       " 'ParameterSets;1']"
      ]
     },
     "execution_count": 5,
     "metadata": {},
     "output_type": "execute_result"
    }
   ],
   "source": [
    "file.keys()"
   ]
  },
  {
   "cell_type": "markdown",
   "id": "34aa057e-509e-4b6a-bc5f-5c406e082a3e",
   "metadata": {},
   "source": [
    "Let's get the TTree using the file as a dictionary"
   ]
  },
  {
   "cell_type": "code",
   "execution_count": 6,
   "id": "7680769e-9cc2-4e7a-9009-0db39aca0fdf",
   "metadata": {},
   "outputs": [],
   "source": [
    "events = file[\"Events\"]"
   ]
  },
  {
   "cell_type": "markdown",
   "id": "f7c425b0-6885-43ac-85ff-a757e865aebe",
   "metadata": {},
   "source": [
    "we can easily inspect all the TTree content"
   ]
  },
  {
   "cell_type": "code",
   "execution_count": null,
   "id": "728544f8-e336-490b-a90f-507831019df5",
   "metadata": {},
   "outputs": [],
   "source": [
    "events.show()"
   ]
  },
  {
   "cell_type": "markdown",
   "id": "4853aac4-e508-412e-b7a4-366aea34dab1",
   "metadata": {},
   "source": [
    "or get the type of all the branches"
   ]
  },
  {
   "cell_type": "code",
   "execution_count": null,
   "id": "f5b69df5-0116-4c52-b2ec-82d064fe443d",
   "metadata": {},
   "outputs": [],
   "source": [
    "events.typenames()"
   ]
  },
  {
   "cell_type": "markdown",
   "id": "2b59b6c1-dcac-419f-92da-80f7f4fc8065",
   "metadata": {},
   "source": [
    "The number of \"rows\" or events is accessible as"
   ]
  },
  {
   "cell_type": "code",
   "execution_count": 8,
   "id": "c43b7490-df38-464a-b0ad-352e614cab88",
   "metadata": {},
   "outputs": [
    {
     "data": {
      "text/plain": [
       "1434319"
      ]
     },
     "execution_count": 8,
     "metadata": {},
     "output_type": "execute_result"
    }
   ],
   "source": [
    "events.num_entries"
   ]
  },
  {
   "cell_type": "markdown",
   "id": "10790e5e-5aab-4844-bf5e-cc81f02f0c8c",
   "metadata": {},
   "source": [
    "It's also possible to open directly the TTree from the file"
   ]
  },
  {
   "cell_type": "code",
   "execution_count": 9,
   "id": "527f55ee-623d-45ae-8042-9f130f0f6686",
   "metadata": {},
   "outputs": [
    {
     "data": {
      "text/plain": [
       "<TTree 'Events' (1504 branches) at 0x7af031135a50>"
      ]
     },
     "execution_count": 9,
     "metadata": {},
     "output_type": "execute_result"
    }
   ],
   "source": [
    "events = uproot.open(f\"{cms_opendata_file}:Events\")\n",
    "events"
   ]
  },
  {
   "cell_type": "markdown",
   "id": "d75c29f6-0d1e-4d05-a741-6bed9cb8d989",
   "metadata": {},
   "source": [
    "## Arrays from TTree"
   ]
  },
  {
   "cell_type": "markdown",
   "id": "2810026e-1665-4123-9410-35606bee8b1d",
   "metadata": {},
   "source": [
    "There are many ways to read data from TTrees in *uproot*. \n",
    "\n",
    "- Read a single branch to a numpy arrays or Pandas serier\n",
    "- Read the full TTree data as a awkward-array\n",
    "- Read partially the TTree by specifing a list of branch\n",
    "- Apply a cut over the TTree rows before reading the data"
   ]
  },
  {
   "cell_type": "code",
   "execution_count": null,
   "id": "cce10d32-a310-4c58-b4ca-965410a9abd0",
   "metadata": {},
   "outputs": [],
   "source": [
    "events.arrays?"
   ]
  },
  {
   "cell_type": "code",
   "execution_count": 16,
   "id": "ac8a2698-6964-484c-b3b4-3be86995414a",
   "metadata": {},
   "outputs": [],
   "source": [
    "met = events.arrays([\"MET_pt\", \"MET_phi\"], library=\"np\", entry_stop=5000)"
   ]
  },
  {
   "cell_type": "code",
   "execution_count": 17,
   "id": "7745e959-a991-420e-a177-fde275c8bea6",
   "metadata": {},
   "outputs": [
    {
     "data": {
      "text/plain": [
       "{'MET_pt': array([31.452927 , 40.65485  , 32.816944 , ..., 23.492601 ,  2.4211023,\n",
       "        44.237286 ], dtype=float32),\n",
       " 'MET_phi': array([-0.28570557, -2.8354492 , -0.5496826 , ...,  0.22387695,\n",
       "         1.7602539 , -1.3271484 ], dtype=float32)}"
      ]
     },
     "execution_count": 17,
     "metadata": {},
     "output_type": "execute_result"
    }
   ],
   "source": [
    "met"
   ]
  },
  {
   "cell_type": "markdown",
   "id": "f55eada5-4b97-462c-8a4d-cf0b82bcf1d5",
   "metadata": {},
   "source": [
    "If we request \"flat\" arrays, with library `np==numpy`, we get a dictionary of numpy arrays"
   ]
  },
  {
   "cell_type": "code",
   "execution_count": 18,
   "id": "6c272d5f-e52c-44de-9fa6-b84da56aa5d8",
   "metadata": {},
   "outputs": [],
   "source": [
    "E = events.arrays([\"Electron_pt\", \"Electron_eta\", \"Electron_phi\"], library=\"ak\", entry_stop=5000)"
   ]
  },
  {
   "cell_type": "markdown",
   "id": "7c94d828-fa58-4ca7-8f06-dcf48a6d2c5f",
   "metadata": {},
   "source": [
    "By default the uproot.arrays() method will read the full data from the TFile. We will see later methods to iterate over chunks of data. \n",
    "For this demonstration let's read the first 5k events."
   ]
  },
  {
   "cell_type": "code",
   "execution_count": 26,
   "id": "0c3ec9e3-b2d3-4e8c-a462-e68b35940661",
   "metadata": {},
   "outputs": [
    {
     "data": {
      "text/plain": [
       "<Array [{Electron_pt: [], ... ] type='5000 * {\"Electron_pt\": var * float32, \"Ele...'>"
      ]
     },
     "execution_count": 26,
     "metadata": {},
     "output_type": "execute_result"
    }
   ],
   "source": [
    "E"
   ]
  },
  {
   "cell_type": "code",
   "execution_count": 20,
   "id": "c67cdb57-c727-4c8b-b092-29e49ba7d8a2",
   "metadata": {},
   "outputs": [
    {
     "data": {
      "text/plain": [
       "['Electron_pt', 'Electron_eta', 'Electron_phi']"
      ]
     },
     "execution_count": 20,
     "metadata": {},
     "output_type": "execute_result"
    }
   ],
   "source": [
    "E.fields"
   ]
  },
  {
   "cell_type": "code",
   "execution_count": 27,
   "id": "2549208a-8427-43ce-a5c7-b3886e476440",
   "metadata": {},
   "outputs": [
    {
     "data": {
      "text/plain": [
       "<Array [[], [], [], ... 33.3, 32.3, 10.6], []] type='5000 * var * float32'>"
      ]
     },
     "execution_count": 27,
     "metadata": {},
     "output_type": "execute_result"
    }
   ],
   "source": [
    "E.Electron_pt"
   ]
  },
  {
   "cell_type": "markdown",
   "id": "64422cee-1612-42d8-bc22-1e6a19ec6a2f",
   "metadata": {},
   "source": [
    "This is a awkward array containing the requested branches."
   ]
  },
  {
   "cell_type": "markdown",
   "id": "069ce4dd-1c86-48cc-96a5-4682b21f15ea",
   "metadata": {},
   "source": [
    "## Iterating over entries"
   ]
  },
  {
   "cell_type": "code",
   "execution_count": 30,
   "id": "96727f66-4a22-4dea-89fa-75887fe334b8",
   "metadata": {},
   "outputs": [
    {
     "name": "stdout",
     "output_type": "stream",
     "text": [
      "<Array [{run: 1, ... L1simulation_step: True}] type='1000 * {\"run\": uint32, \"lum...'>\n",
      "<Array [{run: 1, ... L1simulation_step: True}] type='1000 * {\"run\": uint32, \"lum...'>\n",
      "<Array [{run: 1, ... L1simulation_step: True}] type='1000 * {\"run\": uint32, \"lum...'>\n",
      "<Array [{run: 1, ... L1simulation_step: True}] type='1000 * {\"run\": uint32, \"lum...'>\n",
      "<Array [{run: 1, ... L1simulation_step: True}] type='1000 * {\"run\": uint32, \"lum...'>\n",
      "<Array [{run: 1, ... L1simulation_step: True}] type='1000 * {\"run\": uint32, \"lum...'>\n",
      "<Array [{run: 1, ... L1simulation_step: True}] type='1000 * {\"run\": uint32, \"lum...'>\n",
      "<Array [{run: 1, ... L1simulation_step: True}] type='1000 * {\"run\": uint32, \"lum...'>\n",
      "<Array [{run: 1, ... L1simulation_step: True}] type='1000 * {\"run\": uint32, \"lum...'>\n",
      "<Array [{run: 1, ... L1simulation_step: True}] type='1000 * {\"run\": uint32, \"lum...'>\n"
     ]
    }
   ],
   "source": [
    "for batch in events.iterate(step_size=1000, entry_stop=10_000):\n",
    "    print(repr(batch))"
   ]
  },
  {
   "cell_type": "markdown",
   "id": "691b0054-b6c7-4f00-982c-c122a4de4a7d",
   "metadata": {},
   "source": [
    "## Iterating over files"
   ]
  },
  {
   "cell_type": "code",
   "execution_count": 31,
   "id": "9d4c4caf-b5a1-42a0-9af7-ae7f42d8d951",
   "metadata": {},
   "outputs": [],
   "source": [
    "import yaml\n",
    "with open(\"datasets.yaml\") as f:\n",
    "    datasets = yaml.safe_load(f)"
   ]
  },
  {
   "cell_type": "code",
   "execution_count": null,
   "id": "6f6ec2fe-8803-4373-90e4-10cb0218b9ef",
   "metadata": {},
   "outputs": [],
   "source": [
    "uproot.iterate?"
   ]
  },
  {
   "cell_type": "code",
   "execution_count": 36,
   "id": "ef9f7b23-1d15-4d6d-9835-9e57c8ab829a",
   "metadata": {},
   "outputs": [
    {
     "name": "stdout",
     "output_type": "stream",
     "text": [
      "[{Jet_eta: [], Jet_phi: [], Jet_pt: []}, ... 0.945], Jet_pt: [48, 42.9, 25.3]}]\n",
      "[{Jet_eta: [-2.25, -3.79, 2.86, 2.66, -3.13], ... Jet_pt: [39.9, 35.1, 22, 20.5]}]\n",
      "[{Jet_eta: [1.23, 2.67], Jet_phi: [1.14, -2.85, ... -2.51], Jet_pt: [29.5]}]\n",
      "[{Jet_eta: [0.446, -0.574, 2.14], Jet_phi: [-1.09, ... 57.6, 51.8, 21.4, 19.7, 16]}]\n",
      "[{Jet_eta: [-2.76], Jet_phi: [1.22], Jet_pt: [16.1, ... Jet_phi: [], Jet_pt: []}]\n",
      "[{Jet_eta: [-1.41, -1.45], Jet_phi: [-1.8, ... Jet_pt: [34.4, 29.4, 28.4, 15.5]}]\n",
      "[{Jet_eta: [-0.616], Jet_phi: [1.94], Jet_pt: [, ... Jet_pt: [37.8, 32.2, 15.3]}]\n",
      "[{Jet_eta: [-1.99, -1.19, -0.0124], Jet_phi: [, ... 55.5, 53.9, 27.9, 22.5, 15.8]}]\n",
      "[{Jet_eta: [1.61, 1.42, 3.51, 4.42, -0.189, -3.76, ... 115, 93.9, 27.6, 24.1, 20.6]}]\n",
      "[{Jet_eta: [0.0519, -1.16, -2.49, -3.79, -2.33], ... -0.62], Jet_pt: [17.4]}]\n",
      "[{Jet_eta: [2.31, 1.78, -1.31, 2.38, 0.196], ... 59.6, 42.3, 36.4, 19.5, 17]}]\n",
      "[{Jet_eta: [-1.33, -0.825, 2.23, 2.96], ... Jet_pt: [51.5, 21.1, 20.8, 16.9]}]\n",
      "[{Jet_eta: [-2.81], Jet_phi: [2.61], Jet_pt: [, ... 71.7, 38.5, 35.8, 22.7, 22.3]}]\n",
      "[{Jet_eta: [0.547, 3.72, 2.92, 1.36, 3.27, -2.9, ... -1.26], Jet_pt: [48, 19.8]}]\n",
      "[{Jet_eta: [-1.84, 0.656, 3.03], Jet_phi: [, ... Jet_pt: [58.6, 35.2, 28.5, 18.2]}]\n",
      "[{Jet_eta: [], Jet_phi: [], Jet_pt: []}, ... -2.63, 0.466], Jet_pt: [30.6, 21.7]}]\n",
      "[{Jet_eta: [-3.97], Jet_phi: [-2.89], ... Jet_pt: [48.6, 28.5, 25.9, 23.3]}]\n",
      "[{Jet_eta: [1.35, -0.292, -2.91], Jet_phi: [-1.14, ... Jet_pt: [50.4, 19.4, 17.3]}]\n",
      "[{Jet_eta: [-0.447, 0.0179], Jet_phi: [-1.42, 1.67, ... 31.8, 28.9, 22, 21.9, 17.5]}]\n",
      "[{Jet_eta: [-1.5, -0.207, 2.04, -0.352, 4.25, -3.42, ... Jet_pt: [49.7, 47.5, 18]}]\n",
      "[{Jet_eta: [], Jet_phi: [], Jet_pt: []}, ... -0.925, 2.56], Jet_pt: [45.8, 41.1]}]\n",
      "[{Jet_eta: [-1.56, -1.95, -4.56, 5.01], ... Jet_pt: [56.1, 51.9, 31.8, 18.5]}]\n",
      "[{Jet_eta: [-2.2], Jet_phi: [-0.851], Jet_pt: [, ... 1.42], Jet_pt: [60.2, 55.3]}]\n",
      "[{Jet_eta: [0.775, 2.19], Jet_phi: [2.29, ... Jet_pt: [47.4, 28.4, 16.8, 15.8]}]\n",
      "[{Jet_eta: [3.97], Jet_phi: [1.76], Jet_pt: [19.5, ... Jet_pt: [25, 24, 19.1]}]\n",
      "[{Jet_eta: [1.43, 1.01, 2.79, -3.36, -0.47], ... Jet_phi: [2.21], Jet_pt: [48.8]}]\n",
      "[{Jet_eta: [-1.81, -2.22, -2.34], Jet_phi: [, ... Jet_pt: [25.3, 18.9, 18.3, 16.4]}]\n",
      "[{Jet_eta: [1.7, 2.85], Jet_phi: [-0.848, 2.31, ... Jet_phi: [3.01], Jet_pt: [34.5]}]\n",
      "[{Jet_eta: [-3.78, -0.743, -3.18, -0.92], ... Jet_pt: [47.3, 42, 19.8, 16.3]}]\n",
      "[{Jet_eta: [-2.62, 0.588], Jet_phi: [-1.92, 2.23, ... 32, 21.1, 20.4, 17.7, 16.3]}]\n",
      "[{Jet_eta: [-2.08, -1.25], Jet_phi: [-2.24, ... Jet_pt: [46.7, 41.5, 15.8, 15.1]}]\n",
      "[{Jet_eta: [2.12, 0.0104], Jet_phi: [-2.8, 0.315, ... 49.5, 32.2, 26.3, 16.3, 16.3]}]\n",
      "[{Jet_eta: [-0.915, -1.05, 1.68], Jet_phi: [-2.31, ... 27, 22.7, 21.9, 17.9, 15.8]}]\n",
      "[{Jet_eta: [1.15, -1.19], Jet_phi: [-1.45, 1.66, ... 100, 89.8, 81.4, 35.6, 18.6]}]\n",
      "[{Jet_eta: [1.15, -3.38, 2.43, -2.28], Jet_phi: [, ... 21.6, 20.6, 16.9, 16.5, 16]}]\n",
      "[{Jet_eta: [1.24, 2.44, 2.3], Jet_phi: [0.126, ... Jet_pt: [48, 37.6, 17.2, 15.5]}]\n",
      "[{Jet_eta: [-1.72, -1.02, -0.953, -3.65, -2.36, ... 27.5, 18.6, 17.7, 17.4]}]\n",
      "[{Jet_eta: [2.96, -2.38, -0.544, 2.79], ... Jet_pt: [17.8, 17.5, 17.1]}]\n",
      "[{Jet_eta: [2.18, -1.71, 2.17, 4.15, 2.34, 2.51], ... 1.5], Jet_pt: [38.3, 17.1]}]\n",
      "[{Jet_eta: [-3.46, -5.08, 1.99], Jet_phi: [-1.83, ... -1.85], Jet_pt: [46.6, 38.5]}]\n",
      "[{Jet_eta: [0.15, -1.11, -3.51, -1.12], Jet_phi: [, ... 20.5, 19, 17, 17, 16.5, 15]}]\n",
      "[{Jet_eta: [3.04, 0.823, 4.26, -0.939, -0.351, ... 38.6, 34.6, 21.8, 20.7, 19.3]}]\n",
      "[{Jet_eta: [-3.73, -4.96], Jet_phi: [1.3, -1.51, ... 21.3, 19.7, 18.4, 17.4, 16.5]}]\n"
     ]
    }
   ],
   "source": [
    "for batch in uproot.iterate([ f\"{file}:Events\" for file in datasets[\"DYJetsToLL\"][\"files\"][0:3]], \n",
    "                           filter_name=[\"Jet_pt\", \"Jet_eta\", \"Jet_phi\"],\n",
    "                           step_size=100_000):\n",
    "    print(batch)"
   ]
  },
  {
   "cell_type": "markdown",
   "id": "c882ba13-1082-49a1-8c61-8ffb4a4b2390",
   "metadata": {},
   "source": [
    "## Writing objects to ROOT file"
   ]
  },
  {
   "cell_type": "code",
   "execution_count": null,
   "id": "279bdaa6-0963-497c-8f85-a4c53a2b30b5",
   "metadata": {},
   "outputs": [],
   "source": []
  },
  {
   "cell_type": "code",
   "execution_count": null,
   "id": "4fbdd1c8-8de1-4bac-bfa4-603f520b8e6c",
   "metadata": {},
   "outputs": [],
   "source": []
  },
  {
   "cell_type": "markdown",
   "id": "19793cfe-cd4b-40e1-b41e-522cdb8d75c8",
   "metadata": {},
   "source": [
    "# Awkward arrays"
   ]
  },
  {
   "cell_type": "markdown",
   "id": "a91a153b-2c8b-47e9-8052-1e2a7d9b4942",
   "metadata": {},
   "source": [
    "Awkward arrays are very similar to **numpy** arrays, but they can accomodate multidimensional arrays with different size for each entry. \n",
    "For example: the pT of the Jets for a set of events can be represented as a 2D arrays, where each row (event) can have different number of columns (different number of jets). "
   ]
  },
  {
   "cell_type": "code",
   "execution_count": 40,
   "id": "0f3813e4-269d-4ff4-94fd-8edd25ff9e04",
   "metadata": {},
   "outputs": [],
   "source": [
    "events = uproot.open(f\"{cms_opendata_file}:Events\")\n",
    "df = events.arrays(entry_stop=5000)"
   ]
  },
  {
   "cell_type": "code",
   "execution_count": 55,
   "id": "395e3f19-0257-4587-a87b-c10444911c9f",
   "metadata": {},
   "outputs": [],
   "source": [
    "jets_pt = df.Jet_pt"
   ]
  },
  {
   "cell_type": "markdown",
   "id": "48c01863-f7c5-483f-8e64-7f281fc4faa1",
   "metadata": {},
   "source": [
    "the `tolist()` method is useful to printout the full array for debugging and checking the structure"
   ]
  },
  {
   "cell_type": "code",
   "execution_count": 56,
   "id": "9e09993e-ebc2-44dc-8e73-8f87f623175e",
   "metadata": {},
   "outputs": [
    {
     "data": {
      "text/plain": [
       "[[],\n",
       " [48.1875, 47.84375, 16.28125],\n",
       " [45.0625, 27.578125, 16.078125],\n",
       " [21.0, 16.640625],\n",
       " [26.96875, 20.203125, 19.875, 19.703125]]"
      ]
     },
     "execution_count": 56,
     "metadata": {},
     "output_type": "execute_result"
    }
   ],
   "source": [
    "jets_pt[0:5].tolist()"
   ]
  },
  {
   "cell_type": "code",
   "execution_count": 57,
   "id": "96532674-f41d-4e0a-9b73-ecc75ddaf39e",
   "metadata": {},
   "outputs": [],
   "source": [
    "N_jets = ak.num(jets_pt)"
   ]
  },
  {
   "cell_type": "code",
   "execution_count": 46,
   "id": "268fdef6-23de-40c3-a3c3-3a32cbc7dab2",
   "metadata": {},
   "outputs": [
    {
     "data": {
      "text/plain": [
       "<Array [0, 3, 3, 2, 4, 2, ... 4, 2, 8, 3, 9, 4] type='5000 * int64'>"
      ]
     },
     "execution_count": 46,
     "metadata": {},
     "output_type": "execute_result"
    }
   ],
   "source": [
    "N_jets"
   ]
  },
  {
   "cell_type": "markdown",
   "id": "9b6ded6f-3ac2-4b55-9d0c-3888923dc928",
   "metadata": {},
   "source": [
    "simple operations can be applied on the full arrays (as with numpy arrays). The **broadcast** rules works in the same way as numpy"
   ]
  },
  {
   "cell_type": "code",
   "execution_count": 53,
   "id": "2f612f3e-1ff7-46b0-8197-98caddb28df8",
   "metadata": {},
   "outputs": [
    {
     "data": {
      "text/plain": [
       "<Array [[], [96.4, 95.7, ... 37.6, 37.2, 36]] type='5000 * var * float32'>"
      ]
     },
     "execution_count": 53,
     "metadata": {},
     "output_type": "execute_result"
    }
   ],
   "source": [
    "jets_pt * 2"
   ]
  },
  {
   "cell_type": "code",
   "execution_count": 54,
   "id": "edd57ef1-cfb9-43de-8e73-62326c085ae5",
   "metadata": {},
   "outputs": [
    {
     "data": {
      "text/plain": [
       "<Array [[], [2.32e+03, ... 353, 345, 324]] type='5000 * var * float32'>"
      ]
     },
     "execution_count": 54,
     "metadata": {},
     "output_type": "execute_result"
    }
   ],
   "source": [
    "jets_pt ** 2"
   ]
  },
  {
   "cell_type": "markdown",
   "id": "81af43a3-76a2-4072-9a16-c87bf5f507fc",
   "metadata": {},
   "source": [
    "Also numpy functions can be applied"
   ]
  },
  {
   "cell_type": "code",
   "execution_count": 58,
   "id": "9787f8e1-d79d-40a5-810c-7a12410cc699",
   "metadata": {},
   "outputs": [
    {
     "data": {
      "text/plain": [
       "<Array [[], [6.94, 6.92, ... 4.34, 4.31, 4.24]] type='5000 * var * float32'>"
      ]
     },
     "execution_count": 58,
     "metadata": {},
     "output_type": "execute_result"
    }
   ],
   "source": [
    "np.sqrt(jets_pt)"
   ]
  },
  {
   "cell_type": "markdown",
   "id": "7412f35d-ee2a-49f5-a449-5743c77faf49",
   "metadata": {},
   "source": [
    "## Indexing"
   ]
  },
  {
   "cell_type": "code",
   "execution_count": 60,
   "id": "7857b998-3eca-48be-a8bb-019d2739cba6",
   "metadata": {},
   "outputs": [
    {
     "data": {
      "text/plain": [
       "<Array [48.2, 47.8, 16.3] type='3 * float32'>"
      ]
     },
     "execution_count": 60,
     "metadata": {},
     "output_type": "execute_result"
    }
   ],
   "source": [
    "jets_pt[1]"
   ]
  },
  {
   "cell_type": "markdown",
   "id": "ad9f5060-a022-4b1d-bb27-9b02c51aeb1e",
   "metadata": {},
   "source": [
    "We can ask for a range of columns, and this works also if the events have a different lenght"
   ]
  },
  {
   "cell_type": "code",
   "execution_count": 63,
   "id": "8eea8290-e913-4ab8-9528-aa6488249407",
   "metadata": {},
   "outputs": [
    {
     "data": {
      "text/plain": [
       "<Array [[], [48.2, 47.8, ... 21.3], [43.2]] type='10 * var * float32'>"
      ]
     },
     "execution_count": 63,
     "metadata": {},
     "output_type": "execute_result"
    }
   ],
   "source": [
    "jets_pt[0:10, :5]"
   ]
  },
  {
   "cell_type": "markdown",
   "id": "32d4b5ef-a1b0-4c56-8b06-907b7381d1d2",
   "metadata": {},
   "source": [
    "but if we request the first jet specifically, and it is not available for one of the event, an expection is raise. Have a look at the padding spection. "
   ]
  },
  {
   "cell_type": "code",
   "execution_count": 64,
   "id": "bd55db78-b0b6-4636-a53d-e6f4437f2309",
   "metadata": {},
   "outputs": [
    {
     "ename": "ValueError",
     "evalue": "in ListOffsetArray64 attempting to get 0, index out of range\n\n(https://github.com/scikit-hep/awkward-1.0/blob/1.10.3/src/cpu-kernels/awkward_NumpyArray_getitem_next_at.cpp#L21)",
     "output_type": "error",
     "traceback": [
      "\u001b[0;31m---------------------------------------------------------------------------\u001b[0m",
      "\u001b[0;31mValueError\u001b[0m                                Traceback (most recent call last)",
      "Cell \u001b[0;32mIn[64], line 1\u001b[0m\n\u001b[0;32m----> 1\u001b[0m \u001b[43mjets_pt\u001b[49m\u001b[43m[\u001b[49m\u001b[38;5;241;43m0\u001b[39;49m\u001b[43m:\u001b[49m\u001b[38;5;241;43m10\u001b[39;49m\u001b[43m,\u001b[49m\u001b[43m \u001b[49m\u001b[38;5;241;43m0\u001b[39;49m\u001b[43m]\u001b[49m\n",
      "File \u001b[0;32m/opt/conda/lib/python3.11/site-packages/awkward/highlevel.py:991\u001b[0m, in \u001b[0;36mArray.__getitem__\u001b[0;34m(self, where)\u001b[0m\n\u001b[1;32m    579\u001b[0m \u001b[38;5;250m\u001b[39m\u001b[38;5;124;03m\"\"\"\u001b[39;00m\n\u001b[1;32m    580\u001b[0m \u001b[38;5;124;03mArgs:\u001b[39;00m\n\u001b[1;32m    581\u001b[0m \u001b[38;5;124;03m    where (many types supported; see below): Index of positions to\u001b[39;00m\n\u001b[0;32m   (...)\u001b[0m\n\u001b[1;32m    988\u001b[0m \u001b[38;5;124;03mhave the same dimension as the array being indexed.\u001b[39;00m\n\u001b[1;32m    989\u001b[0m \u001b[38;5;124;03m\"\"\"\u001b[39;00m\n\u001b[1;32m    990\u001b[0m \u001b[38;5;28;01mif\u001b[39;00m \u001b[38;5;129;01mnot\u001b[39;00m \u001b[38;5;28mhasattr\u001b[39m(\u001b[38;5;28mself\u001b[39m, \u001b[38;5;124m\"\u001b[39m\u001b[38;5;124m_tracers\u001b[39m\u001b[38;5;124m\"\u001b[39m):\n\u001b[0;32m--> 991\u001b[0m     tmp \u001b[38;5;241m=\u001b[39m ak\u001b[38;5;241m.\u001b[39m_util\u001b[38;5;241m.\u001b[39mwrap(\u001b[38;5;28;43mself\u001b[39;49m\u001b[38;5;241;43m.\u001b[39;49m\u001b[43mlayout\u001b[49m\u001b[43m[\u001b[49m\u001b[43mwhere\u001b[49m\u001b[43m]\u001b[49m, \u001b[38;5;28mself\u001b[39m\u001b[38;5;241m.\u001b[39m_behavior)\n\u001b[1;32m    992\u001b[0m \u001b[38;5;28;01melse\u001b[39;00m:\n\u001b[1;32m    993\u001b[0m     tmp \u001b[38;5;241m=\u001b[39m ak\u001b[38;5;241m.\u001b[39m_connect\u001b[38;5;241m.\u001b[39m_jax\u001b[38;5;241m.\u001b[39mjax_utils\u001b[38;5;241m.\u001b[39m_jaxtracers_getitem(\u001b[38;5;28mself\u001b[39m, where)\n",
      "\u001b[0;31mValueError\u001b[0m: in ListOffsetArray64 attempting to get 0, index out of range\n\n(https://github.com/scikit-hep/awkward-1.0/blob/1.10.3/src/cpu-kernels/awkward_NumpyArray_getitem_next_at.cpp#L21)"
     ]
    }
   ],
   "source": [
    "jets_pt[0:10, 0]"
   ]
  },
  {
   "cell_type": "code",
   "execution_count": 65,
   "id": "90d1c72e-ffbe-4179-81b7-963403f8914e",
   "metadata": {},
   "outputs": [
    {
     "data": {
      "text/plain": [
       "<Array [None, 48.2, 45.1, ... 39.4, 48.2, 51.4] type='5000 * ?float32'>"
      ]
     },
     "execution_count": 65,
     "metadata": {},
     "output_type": "execute_result"
    }
   ],
   "source": [
    "ak.firsts(jet_pt)"
   ]
  },
  {
   "cell_type": "markdown",
   "id": "46069946-6cbc-4c87-bbd6-c150bd9fab35",
   "metadata": {},
   "source": [
    "## Masking\n"
   ]
  },
  {
   "cell_type": "markdown",
   "id": "ead77b67-da6f-4163-8d35-b2c34dc91f48",
   "metadata": {},
   "source": [
    "## Splitting / combining columns"
   ]
  },
  {
   "cell_type": "code",
   "execution_count": 48,
   "id": "8840682e-e5a2-40ba-aa2d-eeba50c3c011",
   "metadata": {},
   "outputs": [],
   "source": [
    "jet = ak.zip({\"pt\": df.Jet_pt, \"eta\": df.Jet_eta, \"phi\": df.Jet_phi})"
   ]
  },
  {
   "cell_type": "code",
   "execution_count": 50,
   "id": "f242340e-d3c3-4d34-94ed-260f5adad263",
   "metadata": {},
   "outputs": [
    {
     "data": {
      "text/plain": [
       "['pt', 'eta', 'phi']"
      ]
     },
     "execution_count": 50,
     "metadata": {},
     "output_type": "execute_result"
    }
   ],
   "source": [
    "jet.fields"
   ]
  },
  {
   "cell_type": "code",
   "execution_count": 51,
   "id": "aa389977-1193-40c6-8a04-b23e72a84fe3",
   "metadata": {},
   "outputs": [
    {
     "data": {
      "text/plain": [
       "(<Array [[], [48.2, 47.8, ... 18.8, 18.6, 18]] type='5000 * var * float32'>,\n",
       " <Array [[], [-1.48, ... 0.106, 3.7, 2.67]] type='5000 * var * float32'>,\n",
       " <Array [[], [1.27, ... -3.1, 0.846, -3.05]] type='5000 * var * float32'>)"
      ]
     },
     "execution_count": 51,
     "metadata": {},
     "output_type": "execute_result"
    }
   ],
   "source": [
    "ak.unzip(jet)"
   ]
  },
  {
   "cell_type": "markdown",
   "id": "f9b31ac9-144d-4070-aae8-964852834161",
   "metadata": {},
   "source": [
    "## Flattening\n"
   ]
  },
  {
   "cell_type": "code",
   "execution_count": null,
   "id": "cfbb7521-5e2f-42ae-84c7-c4ed130792a9",
   "metadata": {},
   "outputs": [],
   "source": []
  },
  {
   "cell_type": "markdown",
   "id": "ae6785a4-b61e-4779-ad2f-ca7cad7c8fa7",
   "metadata": {},
   "source": [
    "## Padding"
   ]
  },
  {
   "cell_type": "markdown",
   "id": "63d90334-f44b-470b-9313-026b2dbc7099",
   "metadata": {},
   "source": []
  },
  {
   "cell_type": "code",
   "execution_count": null,
   "id": "b5aac380-49cc-4a2c-a9ba-814cdc184c31",
   "metadata": {},
   "outputs": [],
   "source": []
  }
 ],
 "metadata": {
  "kernelspec": {
   "display_name": "Python 3 (ipykernel)",
   "language": "python",
   "name": "python3"
  },
  "language_info": {
   "codemirror_mode": {
    "name": "ipython",
    "version": 3
   },
   "file_extension": ".py",
   "mimetype": "text/x-python",
   "name": "python",
   "nbconvert_exporter": "python",
   "pygments_lexer": "ipython3",
   "version": "3.11.8"
  }
 },
 "nbformat": 4,
 "nbformat_minor": 5
}
