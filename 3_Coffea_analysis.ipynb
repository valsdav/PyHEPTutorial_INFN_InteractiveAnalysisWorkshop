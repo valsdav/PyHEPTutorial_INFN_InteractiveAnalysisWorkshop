{
 "cells": [
  {
   "cell_type": "markdown",
   "id": "0082ad22-0368-4f48-bfac-adfb915fe21a",
   "metadata": {},
   "source": [
    "# Coffea package"
   ]
  },
  {
   "cell_type": "code",
   "execution_count": 37,
   "id": "e9eddab5-aeee-4ecb-a916-f78a1fc5c15b",
   "metadata": {},
   "outputs": [],
   "source": [
    "import awkward as ak\n",
    "from coffea.nanoevents import NanoEventsFactory, NanoAODSchema\n",
    "import matplotlib.pyplot as plt\n",
    "import mplhep as hep\n",
    "import numpy as np\n",
    "plt.style.use(hep.style.CMS)"
   ]
  },
  {
   "cell_type": "code",
   "execution_count": 2,
   "id": "b2c8786a-3b47-49c2-98be-3f99224afffc",
   "metadata": {},
   "outputs": [],
   "source": [
    "import yaml\n",
    "with open(\"datasets.yaml\") as f:\n",
    "    datasets = yaml.safe_load(f)"
   ]
  },
  {
   "cell_type": "markdown",
   "id": "f12ed915-bb4f-4ae4-9ecf-b8ddeb241654",
   "metadata": {},
   "source": [
    "# NanoEvents"
   ]
  },
  {
   "cell_type": "markdown",
   "id": "5b45bdb7-f29f-43ee-9a2f-5d7bd117b94f",
   "metadata": {},
   "source": [
    "NanoEvents is a Coffea utility to wrap flat nTuple structures (such as the CMS NanoAOD format) into a single awkward array with appropriate object methods (such as Lorentz vector methods), cross references, and nested objects, all lazily accessed from the source ROOT TTree via uproot. The interpretation of the TTree data is configurable via schema objects, which are community-supplied for various source file types. These schema objects allow a richer interpretation of the file contents than the uproot.lazy methods. Currently available schemas include:"
   ]
  },
  {
   "cell_type": "code",
   "execution_count": 3,
   "id": "be236a23-ac1e-411f-9f0e-bec9cb00a947",
   "metadata": {},
   "outputs": [],
   "source": [
    "events = NanoEventsFactory.from_root(\n",
    "    datasets['DYJetsToLL']['files'][0],\n",
    "    schemaclass=NanoAODSchema.v7,\n",
    "    metadata={\"dataset\": \"DYJets\"},\n",
    "    entry_stop = 5000\n",
    ").events()\n"
   ]
  },
  {
   "cell_type": "code",
   "execution_count": 4,
   "id": "5e32d52a-8bf9-4912-b483-0809a2c264b5",
   "metadata": {},
   "outputs": [
    {
     "data": {
      "text/plain": [
       "<NanoEventsArray [<event 1:155:385003>, ... ] type='5000 * event'>"
      ]
     },
     "execution_count": 4,
     "metadata": {},
     "output_type": "execute_result"
    }
   ],
   "source": [
    "events"
   ]
  },
  {
   "cell_type": "code",
   "execution_count": 5,
   "id": "5ca281b4-54b1-4422-aee5-fdf0e9b8c549",
   "metadata": {},
   "outputs": [
    {
     "data": {
      "text/plain": [
       "<JetArray [[], [Jet, Jet, ... Jet, Jet, Jet, Jet]] type='5000 * var * jet'>"
      ]
     },
     "execution_count": 5,
     "metadata": {},
     "output_type": "execute_result"
    }
   ],
   "source": [
    "events.Jet"
   ]
  },
  {
   "cell_type": "markdown",
   "id": "cb6e8940-d50b-4f5a-adba-7a7dc0c851cd",
   "metadata": {},
   "source": [
    "Now the fields of the various object collections are grouped under specific awkward records, such as `Jet`, `Electron` etc"
   ]
  },
  {
   "cell_type": "code",
   "execution_count": 6,
   "id": "ff4ee163-fea9-4795-8bb2-34147b08c254",
   "metadata": {},
   "outputs": [
    {
     "data": {
      "text/plain": [
       "['SV',\n",
       " 'genTtbarId',\n",
       " 'HLT',\n",
       " 'Muon',\n",
       " 'SoftActivityJetNjets10',\n",
       " 'PuppiMET',\n",
       " 'SoftActivityJet',\n",
       " 'SoftActivityJetHT',\n",
       " 'RawMET',\n",
       " 'LHE',\n",
       " 'TrigObj',\n",
       " 'Photon',\n",
       " 'SoftActivityJetHT2',\n",
       " 'ChsMET',\n",
       " 'L1Reco',\n",
       " 'Jet',\n",
       " 'fixedGridRhoFastjetCentralChargedPileUp',\n",
       " 'LHEReweightingWeight',\n",
       " 'DeepMETResponseTune',\n",
       " 'Electron',\n",
       " 'SubGenJetAK8',\n",
       " 'boostedTau',\n",
       " 'L1simulation',\n",
       " 'LHEWeight',\n",
       " 'CaloMET',\n",
       " 'OtherPV',\n",
       " 'genWeight',\n",
       " 'GenJet',\n",
       " 'event',\n",
       " 'LHEScaleWeight',\n",
       " 'Generator',\n",
       " 'HLTriggerFinalPath',\n",
       " 'PV',\n",
       " 'luminosityBlock',\n",
       " 'Tau',\n",
       " 'L1PreFiringWeight',\n",
       " 'Pileup',\n",
       " 'MET',\n",
       " 'GenIsolatedPhoton',\n",
       " 'run',\n",
       " 'LHEPart',\n",
       " 'btagWeight',\n",
       " 'SoftActivityJetNjets2',\n",
       " 'HLTriggerFirstPath',\n",
       " 'fixedGridRhoFastjetAll',\n",
       " 'SoftActivityJetHT5',\n",
       " 'TkMET',\n",
       " 'fixedGridRhoFastjetCentral',\n",
       " 'FsrPhoton',\n",
       " 'GenVisTau',\n",
       " 'GenMET',\n",
       " 'SubJet',\n",
       " 'GenPart',\n",
       " 'LowPtElectron',\n",
       " 'IsoTrack',\n",
       " 'LHEPdfWeight',\n",
       " 'fixedGridRhoFastjetCentralCalo',\n",
       " 'Flag',\n",
       " 'RawPuppiMET',\n",
       " 'SoftActivityJetHT10',\n",
       " 'GenJetAK8',\n",
       " 'FatJet',\n",
       " 'SoftActivityJetNjets5',\n",
       " 'fixedGridRhoFastjetCentralNeutral',\n",
       " 'HTXS',\n",
       " 'PSWeight',\n",
       " 'GenVtx',\n",
       " 'GenDressedLepton',\n",
       " 'L1',\n",
       " 'DeepMETResolutionTune',\n",
       " 'CorrT1METJet']"
      ]
     },
     "execution_count": 6,
     "metadata": {},
     "output_type": "execute_result"
    }
   ],
   "source": [
    "events.fields"
   ]
  },
  {
   "cell_type": "code",
   "execution_count": 7,
   "id": "c630f3b8-03dc-413b-b343-46a15ea87301",
   "metadata": {},
   "outputs": [
    {
     "data": {
      "text/plain": [
       "['area',\n",
       " 'btagCSVV2',\n",
       " 'btagDeepB',\n",
       " 'btagDeepCvB',\n",
       " 'btagDeepCvL',\n",
       " 'btagDeepFlavB',\n",
       " 'btagDeepFlavCvB',\n",
       " 'btagDeepFlavCvL',\n",
       " 'btagDeepFlavQG',\n",
       " 'chEmEF',\n",
       " 'chFPV0EF',\n",
       " 'chHEF',\n",
       " 'eta',\n",
       " 'hfsigmaEtaEta',\n",
       " 'hfsigmaPhiPhi',\n",
       " 'mass',\n",
       " 'muEF',\n",
       " 'muonSubtrFactor',\n",
       " 'neEmEF',\n",
       " 'neHEF',\n",
       " 'phi',\n",
       " 'pt',\n",
       " 'puIdDisc',\n",
       " 'qgl',\n",
       " 'rawFactor',\n",
       " 'bRegCorr',\n",
       " 'bRegRes',\n",
       " 'cRegCorr',\n",
       " 'cRegRes',\n",
       " 'electronIdx1',\n",
       " 'electronIdx2',\n",
       " 'hfadjacentEtaStripsSize',\n",
       " 'hfcentralEtaStripSize',\n",
       " 'jetId',\n",
       " 'muonIdx1',\n",
       " 'muonIdx2',\n",
       " 'nElectrons',\n",
       " 'nMuons',\n",
       " 'puId',\n",
       " 'nConstituents',\n",
       " 'genJetIdx',\n",
       " 'hadronFlavour',\n",
       " 'partonFlavour',\n",
       " 'cleanmask',\n",
       " 'electronIdx1G',\n",
       " 'electronIdx2G',\n",
       " 'genJetIdxG',\n",
       " 'muonIdx1G',\n",
       " 'muonIdx2G',\n",
       " 'muonIdxG',\n",
       " 'electronIdxG']"
      ]
     },
     "execution_count": 7,
     "metadata": {},
     "output_type": "execute_result"
    }
   ],
   "source": [
    "events.Jet.fields"
   ]
  },
  {
   "cell_type": "markdown",
   "id": "b60abc34-2ecf-4be8-9025-1f61a2e2cdeb",
   "metadata": {},
   "source": [
    "# Cross-references\n",
    "The NanoEvents schema is able to read the CMS NanoAOD format and it's cross-references indices. \n"
   ]
  },
  {
   "cell_type": "code",
   "execution_count": 19,
   "id": "9de9799f-82d1-4b4e-8748-f0b7b88388a3",
   "metadata": {},
   "outputs": [
    {
     "data": {
      "text/plain": [
       "<GenParticleArray [[], [], [], ... GenParticle, None], []] type='4410 * var * ?g...'>"
      ]
     },
     "execution_count": 19,
     "metadata": {},
     "output_type": "execute_result"
    }
   ],
   "source": [
    "events.Electron.matched_gen"
   ]
  },
  {
   "cell_type": "markdown",
   "id": "dfb9a9a0-65d5-4d2d-89ea-6b3e963030db",
   "metadata": {},
   "source": [
    "For example: The tree of GenParticles decays can be easily explored"
   ]
  },
  {
   "cell_type": "code",
   "execution_count": 23,
   "id": "62b5a722-80e1-4fcf-b890-9b87c92584c9",
   "metadata": {},
   "outputs": [
    {
     "data": {
      "text/plain": [
       "<GenParticleArray [[[GenParticle], [], ... [], []]] type='4410 * var * var * ?ge...'>"
      ]
     },
     "execution_count": 23,
     "metadata": {},
     "output_type": "execute_result"
    }
   ],
   "source": [
    "events.GenPart.children"
   ]
  },
  {
   "cell_type": "code",
   "execution_count": 27,
   "id": "4f46d060-6fd2-40a6-9bc6-2824d643a5ed",
   "metadata": {},
   "outputs": [
    {
     "name": "stdout",
     "output_type": "stream",
     "text": [
      "Raw status flags: [[14721, 10625, 4481, 257, 257, 257, ... 12354, 12352, 12352, 12354, 12354, 12354]]\n"
     ]
    },
    {
     "data": {
      "text/plain": [
       "<Array [[True, True, False, ... False, False]] type='4410 * var * bool'>"
      ]
     },
     "execution_count": 27,
     "metadata": {},
     "output_type": "execute_result"
    }
   ],
   "source": [
    "print(f\"Raw status flags: {events.GenPart.statusFlags}\")\n",
    "events.GenPart.hasFlags(['isPrompt', 'isLastCopy'])"
   ]
  },
  {
   "cell_type": "code",
   "execution_count": 28,
   "id": "aed8cca8-fc49-4b72-80e1-c36fed5bd270",
   "metadata": {},
   "outputs": [
    {
     "data": {
      "text/plain": [
       "<Array [[], [], [], [], ... [], [23, 23], []] type='4410 * var * ?int32[paramete...'>"
      ]
     },
     "execution_count": 28,
     "metadata": {},
     "output_type": "execute_result"
    }
   ],
   "source": [
    "events.GenPart[\n",
    "    (abs(events.GenPart.pdgId) == 11)\n",
    "    & events.GenPart.hasFlags(['isPrompt', 'isLastCopy'])\n",
    "].distinctParent.pdgId"
   ]
  },
  {
   "cell_type": "markdown",
   "id": "f20bd9ae-1b8e-4551-a571-d89b70a6856a",
   "metadata": {},
   "source": [
    "## Vector behaviour"
   ]
  },
  {
   "cell_type": "code",
   "execution_count": 8,
   "id": "f52c480a-8835-4c2a-81eb-1db2b4a19c9b",
   "metadata": {},
   "outputs": [],
   "source": [
    "mask_2j = ak.num(events.Jet, axis=1)>=2\n",
    "events = events[mask_2j]"
   ]
  },
  {
   "cell_type": "markdown",
   "id": "2e31679c-89be-41c1-8698-933721d294d6",
   "metadata": {},
   "source": [
    "For example: We can compute the deltaR between the leading jet and another collection"
   ]
  },
  {
   "cell_type": "code",
   "execution_count": 10,
   "id": "8dc46698-8cb4-424d-a7b6-cc647a099c00",
   "metadata": {},
   "outputs": [
    {
     "data": {
      "text/plain": [
       "<Array [[], [], [], ... 3.02, 2.61, 2.89], []] type='4410 * var * float32'>"
      ]
     },
     "execution_count": 10,
     "metadata": {},
     "output_type": "execute_result"
    }
   ],
   "source": [
    "dr = events.Jet[:, 0].delta_r(events.Electron)\n",
    "dr"
   ]
  },
  {
   "cell_type": "markdown",
   "id": "f3d6b6a3-69e9-4f47-bcf9-8eb2bd8a1dd6",
   "metadata": {},
   "source": [
    "We can build new candidated by summing other vectors --> the data is interpreted as 4-momentum vectors"
   ]
  },
  {
   "cell_type": "code",
   "execution_count": 24,
   "id": "729e1505-92dd-4dfa-99a3-22b946ea35e4",
   "metadata": {},
   "outputs": [],
   "source": [
    "dijet = events.Jet[:,0] + events.Jet[:,1]"
   ]
  },
  {
   "cell_type": "markdown",
   "id": "de8e9d3f-8374-4d76-a0a9-c9b4a26b81af",
   "metadata": {},
   "source": [
    "For example we can get the mass of the new particle"
   ]
  },
  {
   "cell_type": "code",
   "execution_count": 29,
   "id": "2fd0a74c-f0a7-409d-b0e0-0895622e7c43",
   "metadata": {},
   "outputs": [
    {
     "data": {
      "text/plain": [
       "Text(1, 0, 'dijet mass')"
      ]
     },
     "execution_count": 29,
     "metadata": {},
     "output_type": "execute_result"
    },
    {
     "data": {
      "image/png": "[encoded data removed]",
      "text/plain": [
       "<Figure size 1000x1000 with 1 Axes>"
      ]
     },
     "metadata": {},
     "output_type": "display_data"
    }
   ],
   "source": [
    "plt.hist(dijet.mass, bins=100);\n",
    "plt.xlabel(\"dijet mass\")"
   ]
  },
  {
   "cell_type": "markdown",
   "id": "4c2ddeb6-d416-4b5f-af4a-efa884519716",
   "metadata": {},
   "source": [
    "# Weights"
   ]
  },
  {
   "cell_type": "markdown",
   "id": "fd32e080-134a-47cf-a2c8-865d89945a27",
   "metadata": {},
   "source": [
    "Coffea provides an improved interface to the interpretation of TTrees data formats (specifically for CMS NanoAODs, but other formats are available or under developement, e.g. for ATLAS). Moreover Coffea provides a set of analsysi tools for handling Weights, systematics variation, and cuts.\n",
    "\n"
   ]
  },
  {
   "cell_type": "code",
   "execution_count": 64,
   "id": "d6619276-eeed-4577-9d3a-8923837da639",
   "metadata": {},
   "outputs": [],
   "source": [
    "from coffea.analysis_tools import Weights\n",
    "\n",
    "Nevents = len(events)\n",
    "weights = Weights(Nevents)"
   ]
  },
  {
   "cell_type": "code",
   "execution_count": 65,
   "id": "ae9ccd27-e2f5-44b8-be35-97d0ec4d6ce2",
   "metadata": {},
   "outputs": [],
   "source": [
    "weights.add(\"SF1\", np.random.sample((Nevents)))"
   ]
  },
  {
   "cell_type": "code",
   "execution_count": 56,
   "id": "6f881609-6ac5-4f5b-868b-fa8366106b3f",
   "metadata": {},
   "outputs": [
    {
     "data": {
      "text/plain": [
       "array([0.60349645, 0.50648762, 0.47367758, ..., 0.27911608, 0.42000259,\n",
       "       0.15701576])"
      ]
     },
     "execution_count": 56,
     "metadata": {},
     "output_type": "execute_result"
    }
   ],
   "source": [
    "weights.weight()"
   ]
  },
  {
   "cell_type": "code",
   "execution_count": 57,
   "id": "abef9f99-6147-40ad-94eb-3fd6c3811c51",
   "metadata": {},
   "outputs": [
    {
     "data": {
      "text/plain": [
       "\u001b[0;31mSignature:\u001b[0m \u001b[0mweights\u001b[0m\u001b[0;34m.\u001b[0m\u001b[0madd\u001b[0m\u001b[0;34m(\u001b[0m\u001b[0mname\u001b[0m\u001b[0;34m,\u001b[0m \u001b[0mweight\u001b[0m\u001b[0;34m,\u001b[0m \u001b[0mweightUp\u001b[0m\u001b[0;34m=\u001b[0m\u001b[0;32mNone\u001b[0m\u001b[0;34m,\u001b[0m \u001b[0mweightDown\u001b[0m\u001b[0;34m=\u001b[0m\u001b[0;32mNone\u001b[0m\u001b[0;34m,\u001b[0m \u001b[0mshift\u001b[0m\u001b[0;34m=\u001b[0m\u001b[0;32mFalse\u001b[0m\u001b[0;34m)\u001b[0m\u001b[0;34m\u001b[0m\u001b[0;34m\u001b[0m\u001b[0m\n",
       "\u001b[0;31mDocstring:\u001b[0m\n",
       "Add a new weight\n",
       "\n",
       "Adds a named correction to the event weight, and optionally also associated\n",
       "systematic uncertainties.\n",
       "\n",
       "Parameters\n",
       "----------\n",
       "    name : str\n",
       "        name of correction\n",
       "    weight : numpy.ndarray\n",
       "        the nominal event weight associated with the correction\n",
       "    weightUp : numpy.ndarray, optional\n",
       "        weight with correction uncertainty shifted up (if available)\n",
       "    weightDown : numpy.ndarray, optional\n",
       "        weight with correction uncertainty shifted down. If ``weightUp`` is supplied, and\n",
       "        the correction uncertainty is symmetric, this can be set to None to auto-calculate\n",
       "        the down shift as ``1 / weightUp``.\n",
       "    shift : bool, optional\n",
       "        if True, interpret weightUp and weightDown as a realtive difference (additive) to the\n",
       "        nominal value\n",
       "\n",
       ".. note:: ``weightUp`` and ``weightDown`` are assumed to be rvalue-like and may be modified in-place by this function\n",
       "\u001b[0;31mFile:\u001b[0m      /opt/conda/lib/python3.11/site-packages/coffea/analysis_tools.py\n",
       "\u001b[0;31mType:\u001b[0m      method"
      ]
     },
     "metadata": {},
     "output_type": "display_data"
    }
   ],
   "source": [
    "weights.add?"
   ]
  },
  {
   "cell_type": "markdown",
   "id": "0cb1565a-91dc-4afd-a376-f4496fb7f57c",
   "metadata": {},
   "source": [
    "Let's now add multilple weights. \n",
    "\n",
    "If we want to be able to access the single weights we need to specify `storeIndividual=True`, but we will pay a cost in memory. \n",
    "By default all the weights are accumulated in a single vector when added."
   ]
  },
  {
   "cell_type": "code",
   "execution_count": 101,
   "id": "a60664b4-4f67-4411-96cb-d940ec8490cd",
   "metadata": {},
   "outputs": [],
   "source": [
    "weights = Weights(Nevents, storeIndividual=True)\n",
    "weights.add(\"SF1\", 2.*np.ones(Nevents), \n",
    "            weightUp=5.*np.ones(Nevents), \n",
    "            weightDown=0.5*np.ones(Nevents))"
   ]
  },
  {
   "cell_type": "code",
   "execution_count": 102,
   "id": "afd25dc6-29f3-4ae0-a8e6-5d4137d69e8c",
   "metadata": {},
   "outputs": [
    {
     "data": {
      "text/plain": [
       "{'SF1Down', 'SF1Up'}"
      ]
     },
     "execution_count": 102,
     "metadata": {},
     "output_type": "execute_result"
    }
   ],
   "source": [
    "weights.variations"
   ]
  },
  {
   "cell_type": "code",
   "execution_count": 103,
   "id": "c7b3e501-659b-4c14-9b55-55dcd4cb7ee1",
   "metadata": {},
   "outputs": [
    {
     "data": {
      "text/plain": [
       "array([2., 2., 2., ..., 2., 2., 2.])"
      ]
     },
     "execution_count": 103,
     "metadata": {},
     "output_type": "execute_result"
    }
   ],
   "source": [
    "weights.weight()"
   ]
  },
  {
   "cell_type": "code",
   "execution_count": 104,
   "id": "eeec88e6-c10c-4086-bd6b-1c7ef4246d9e",
   "metadata": {},
   "outputs": [
    {
     "data": {
      "text/plain": [
       "array([0.5, 0.5, 0.5, ..., 0.5, 0.5, 0.5])"
      ]
     },
     "execution_count": 104,
     "metadata": {},
     "output_type": "execute_result"
    }
   ],
   "source": [
    "weights.weight(modifier=\"SF1Down\")"
   ]
  },
  {
   "cell_type": "code",
   "execution_count": 105,
   "id": "14594456-a323-477f-b8dc-94dc4deaa3c5",
   "metadata": {},
   "outputs": [
    {
     "data": {
      "text/plain": [
       "array([5., 5., 5., ..., 5., 5., 5.])"
      ]
     },
     "execution_count": 105,
     "metadata": {},
     "output_type": "execute_result"
    }
   ],
   "source": [
    "weights.weight(modifier=\"SF1Up\")"
   ]
  },
  {
   "cell_type": "code",
   "execution_count": 106,
   "id": "0bc96e12-6c82-4e74-8d89-5a588a9c1d68",
   "metadata": {},
   "outputs": [],
   "source": [
    "weights.add(\"SF2\", 3.*np.ones(Nevents), \n",
    "            weightUp=6.*np.ones(Nevents), \n",
    "            weightDown=0.2*np.ones(Nevents))"
   ]
  },
  {
   "cell_type": "code",
   "execution_count": 107,
   "id": "f4e8fc15-f1ca-4143-8d14-997edc908129",
   "metadata": {},
   "outputs": [
    {
     "data": {
      "text/plain": [
       "array([6., 6., 6., ..., 6., 6., 6.])"
      ]
     },
     "execution_count": 107,
     "metadata": {},
     "output_type": "execute_result"
    }
   ],
   "source": [
    "weights.weight()"
   ]
  },
  {
   "cell_type": "code",
   "execution_count": 108,
   "id": "4f5bbc26-8e33-410e-94c7-9abc97dcbf9b",
   "metadata": {},
   "outputs": [
    {
     "data": {
      "text/plain": [
       "array([2., 2., 2., ..., 2., 2., 2.])"
      ]
     },
     "execution_count": 108,
     "metadata": {},
     "output_type": "execute_result"
    }
   ],
   "source": [
    "weights.partial_weight(include=[\"SF1\"])"
   ]
  },
  {
   "cell_type": "code",
   "execution_count": 109,
   "id": "d26e8a32-72aa-4c08-bdbd-55cbafef172e",
   "metadata": {},
   "outputs": [
    {
     "data": {
      "text/plain": [
       "{'SF1Down', 'SF1Up', 'SF2Down', 'SF2Up'}"
      ]
     },
     "execution_count": 109,
     "metadata": {},
     "output_type": "execute_result"
    }
   ],
   "source": [
    "weights.variations"
   ]
  },
  {
   "cell_type": "code",
   "execution_count": 110,
   "id": "db0d08f7-269e-4e65-bc1c-d6d82f92afd6",
   "metadata": {},
   "outputs": [
    {
     "data": {
      "text/plain": [
       "array([15., 15., 15., ..., 15., 15., 15.])"
      ]
     },
     "execution_count": 110,
     "metadata": {},
     "output_type": "execute_result"
    }
   ],
   "source": [
    "weights.weight(modifier=\"SF1Up\")"
   ]
  },
  {
   "cell_type": "code",
   "execution_count": 111,
   "id": "f79145e3-c5d8-4caa-8fee-563f5f363344",
   "metadata": {},
   "outputs": [
    {
     "data": {
      "text/plain": [
       "array([12., 12., 12., ..., 12., 12., 12.])"
      ]
     },
     "execution_count": 111,
     "metadata": {},
     "output_type": "execute_result"
    }
   ],
   "source": [
    "weights.weight(modifier=\"SF2Up\")"
   ]
  },
  {
   "cell_type": "markdown",
   "id": "401611a8-c43b-4520-b8c0-21416ca8db73",
   "metadata": {},
   "source": [
    "#### Weights with multiple possible variations"
   ]
  },
  {
   "cell_type": "code",
   "execution_count": 114,
   "id": "0ff7b751-431d-44e7-9a93-c78e1f7ab37f",
   "metadata": {},
   "outputs": [],
   "source": [
    "weights = Weights(Nevents)\n",
    "\n",
    "weights.add_multivariation(\"SF1\", \n",
    "            weight=2.*np.ones(Nevents), \n",
    "            modifierNames=[\"stat\", \"syst\"],\n",
    "            weightsUp=[5.*np.ones(Nevents), 3.*np.ones(Nevents)],\n",
    "            weightsDown=[0.5*np.ones(Nevents), 0.3*np.ones(Nevents)]\n",
    "           )"
   ]
  },
  {
   "cell_type": "code",
   "execution_count": 115,
   "id": "6143c923-8eeb-424a-b90b-8a333317174d",
   "metadata": {},
   "outputs": [
    {
     "data": {
      "text/plain": [
       "{'SF1_statDown', 'SF1_statUp', 'SF1_systDown', 'SF1_systUp'}"
      ]
     },
     "execution_count": 115,
     "metadata": {},
     "output_type": "execute_result"
    }
   ],
   "source": [
    "weights.variations"
   ]
  },
  {
   "cell_type": "markdown",
   "id": "c0b30b76-0411-432c-bfd8-2ebc04a7c406",
   "metadata": {},
   "source": [
    "# Cuts"
   ]
  },
  {
   "cell_type": "code",
   "execution_count": null,
   "id": "b2aa592b-e0da-43cf-8ea5-077b3365a244",
   "metadata": {},
   "outputs": [],
   "source": []
  },
  {
   "cell_type": "code",
   "execution_count": null,
   "id": "ca5f629d-cea0-4145-a36b-d17bd9aa0f32",
   "metadata": {},
   "outputs": [],
   "source": []
  },
  {
   "cell_type": "code",
   "execution_count": null,
   "id": "f14264fb-2e34-43b4-876e-47866e90c643",
   "metadata": {},
   "outputs": [],
   "source": []
  },
  {
   "cell_type": "code",
   "execution_count": null,
   "id": "c40f241f-5293-4ec4-be9c-f281c81d80c6",
   "metadata": {},
   "outputs": [],
   "source": []
  },
  {
   "cell_type": "code",
   "execution_count": null,
   "id": "9cbbf1e1-f0e9-4019-8de3-74b5f80a4b5c",
   "metadata": {},
   "outputs": [],
   "source": []
  },
  {
   "cell_type": "markdown",
   "id": "05743ec2-9cce-42a3-9f32-3d112d90b4a5",
   "metadata": {},
   "source": [
    "# Applying corrections"
   ]
  },
  {
   "cell_type": "markdown",
   "id": "a75719f7-3df8-422b-bdef-573e3122cde0",
   "metadata": {},
   "source": [
    "# Processors"
   ]
  },
  {
   "cell_type": "code",
   "execution_count": null,
   "id": "6e469114-2057-43b4-a3e3-b8d0802708fe",
   "metadata": {},
   "outputs": [],
   "source": []
  },
  {
   "cell_type": "markdown",
   "id": "8a06cd16-41e4-4642-a3fb-9f3b66959f4a",
   "metadata": {},
   "source": [
    "# Scale up"
   ]
  },
  {
   "cell_type": "code",
   "execution_count": null,
   "id": "d9ce7afd-59b8-4e17-8fd9-d7116713f7c1",
   "metadata": {},
   "outputs": [],
   "source": []
  },
  {
   "cell_type": "markdown",
   "id": "6f800772-fa95-481c-9705-7803e208f0ab",
   "metadata": {},
   "source": [
    "# Exercise"
   ]
  },
  {
   "cell_type": "code",
   "execution_count": null,
   "id": "96fa1a18-e77a-4ce6-8561-b1d5b30d0d29",
   "metadata": {},
   "outputs": [],
   "source": []
  }
 ],
 "metadata": {
  "kernelspec": {
   "display_name": "Python 3 (ipykernel)",
   "language": "python",
   "name": "python3"
  },
  "language_info": {
   "codemirror_mode": {
    "name": "ipython",
    "version": 3
   },
   "file_extension": ".py",
   "mimetype": "text/x-python",
   "name": "python",
   "nbconvert_exporter": "python",
   "pygments_lexer": "ipython3",
   "version": "3.11.8"
  }
 },
 "nbformat": 4,
 "nbformat_minor": 5
}
