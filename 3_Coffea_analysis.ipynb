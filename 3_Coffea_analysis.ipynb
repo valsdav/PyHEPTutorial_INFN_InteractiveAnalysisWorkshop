{
 "cells": [
  {
   "cell_type": "markdown",
   "id": "0082ad22-0368-4f48-bfac-adfb915fe21a",
   "metadata": {},
   "source": [
    "# Coffea package"
   ]
  },
  {
   "cell_type": "code",
   "execution_count": 1,
   "id": "e9eddab5-aeee-4ecb-a916-f78a1fc5c15b",
   "metadata": {},
   "outputs": [],
   "source": [
    "import awkward as ak\n",
    "import matplotlib.pyplot as plt\n",
    "import mplhep as hep\n",
    "import numpy as np\n",
    "from hist import Hist\n",
    "import hist\n",
    "\n",
    "from coffea.nanoevents import NanoEventsFactory, NanoAODSchema\n",
    "from coffea.analysis_tools import Weights\n",
    "from coffea.analysis_tools import PackedSelection\n",
    "\n",
    "plt.style.use(hep.style.CMS)"
   ]
  },
  {
   "cell_type": "code",
   "execution_count": 2,
   "id": "b2c8786a-3b47-49c2-98be-3f99224afffc",
   "metadata": {},
   "outputs": [],
   "source": [
    "import yaml\n",
    "with open(\"datasets.yaml\") as f:\n",
    "    datasets = yaml.safe_load(f)"
   ]
  },
  {
   "cell_type": "markdown",
   "id": "f12ed915-bb4f-4ae4-9ecf-b8ddeb241654",
   "metadata": {},
   "source": [
    "# NanoEvents"
   ]
  },
  {
   "cell_type": "markdown",
   "id": "5b45bdb7-f29f-43ee-9a2f-5d7bd117b94f",
   "metadata": {},
   "source": [
    "NanoEvents is a Coffea utility to wrap flat nTuple structures (such as the CMS NanoAOD format) into a single awkward array with appropriate object methods (such as Lorentz vector methods), cross references, and nested objects, all lazily accessed from the source ROOT TTree via uproot. The interpretation of the TTree data is configurable via schema objects, which are community-supplied for various source file types. These schema objects allow a richer interpretation of the file contents than the uproot.lazy methods. Currently available schemas include:"
   ]
  },
  {
   "cell_type": "code",
   "execution_count": 3,
   "id": "be236a23-ac1e-411f-9f0e-bec9cb00a947",
   "metadata": {},
   "outputs": [],
   "source": [
    "events = NanoEventsFactory.from_root(\n",
    "    datasets['DYJetsToLL']['files'][0],\n",
    "    schemaclass=NanoAODSchema.v7,\n",
    "    metadata={\"dataset\": \"DYJets\"},\n",
    "    entry_stop = 5000\n",
    ").events()\n"
   ]
  },
  {
   "cell_type": "code",
   "execution_count": 4,
   "id": "5e32d52a-8bf9-4912-b483-0809a2c264b5",
   "metadata": {},
   "outputs": [
    {
     "data": {
      "text/plain": [
       "<NanoEventsArray [<event 1:155:385003>, ... ] type='5000 * event'>"
      ]
     },
     "execution_count": 4,
     "metadata": {},
     "output_type": "execute_result"
    }
   ],
   "source": [
    "events"
   ]
  },
  {
   "cell_type": "code",
   "execution_count": 5,
   "id": "5ca281b4-54b1-4422-aee5-fdf0e9b8c549",
   "metadata": {},
   "outputs": [
    {
     "data": {
      "text/plain": [
       "<JetArray [[], [Jet, Jet, ... Jet, Jet, Jet, Jet]] type='5000 * var * jet'>"
      ]
     },
     "execution_count": 5,
     "metadata": {},
     "output_type": "execute_result"
    }
   ],
   "source": [
    "events.Jet"
   ]
  },
  {
   "cell_type": "markdown",
   "id": "cb6e8940-d50b-4f5a-adba-7a7dc0c851cd",
   "metadata": {},
   "source": [
    "Now the fields of the various object collections are grouped under specific awkward records, such as `Jet`, `Electron` etc"
   ]
  },
  {
   "cell_type": "code",
   "execution_count": 6,
   "id": "ff4ee163-fea9-4795-8bb2-34147b08c254",
   "metadata": {},
   "outputs": [
    {
     "data": {
      "text/plain": [
       "['SV',\n",
       " 'genTtbarId',\n",
       " 'HLT',\n",
       " 'Muon',\n",
       " 'SoftActivityJetNjets10',\n",
       " 'PuppiMET',\n",
       " 'SoftActivityJet',\n",
       " 'SoftActivityJetHT',\n",
       " 'RawMET',\n",
       " 'LHE',\n",
       " 'TrigObj',\n",
       " 'Photon',\n",
       " 'SoftActivityJetHT2',\n",
       " 'ChsMET',\n",
       " 'L1Reco',\n",
       " 'Jet',\n",
       " 'fixedGridRhoFastjetCentralChargedPileUp',\n",
       " 'LHEReweightingWeight',\n",
       " 'DeepMETResponseTune',\n",
       " 'Electron',\n",
       " 'SubGenJetAK8',\n",
       " 'boostedTau',\n",
       " 'L1simulation',\n",
       " 'LHEWeight',\n",
       " 'CaloMET',\n",
       " 'OtherPV',\n",
       " 'genWeight',\n",
       " 'GenJet',\n",
       " 'event',\n",
       " 'LHEScaleWeight',\n",
       " 'Generator',\n",
       " 'HLTriggerFinalPath',\n",
       " 'PV',\n",
       " 'luminosityBlock',\n",
       " 'Tau',\n",
       " 'L1PreFiringWeight',\n",
       " 'Pileup',\n",
       " 'MET',\n",
       " 'GenIsolatedPhoton',\n",
       " 'run',\n",
       " 'LHEPart',\n",
       " 'btagWeight',\n",
       " 'SoftActivityJetNjets2',\n",
       " 'HLTriggerFirstPath',\n",
       " 'fixedGridRhoFastjetAll',\n",
       " 'SoftActivityJetHT5',\n",
       " 'TkMET',\n",
       " 'fixedGridRhoFastjetCentral',\n",
       " 'FsrPhoton',\n",
       " 'GenVisTau',\n",
       " 'GenMET',\n",
       " 'SubJet',\n",
       " 'GenPart',\n",
       " 'LowPtElectron',\n",
       " 'IsoTrack',\n",
       " 'LHEPdfWeight',\n",
       " 'fixedGridRhoFastjetCentralCalo',\n",
       " 'Flag',\n",
       " 'RawPuppiMET',\n",
       " 'SoftActivityJetHT10',\n",
       " 'GenJetAK8',\n",
       " 'FatJet',\n",
       " 'SoftActivityJetNjets5',\n",
       " 'fixedGridRhoFastjetCentralNeutral',\n",
       " 'HTXS',\n",
       " 'PSWeight',\n",
       " 'GenVtx',\n",
       " 'GenDressedLepton',\n",
       " 'L1',\n",
       " 'DeepMETResolutionTune',\n",
       " 'CorrT1METJet']"
      ]
     },
     "execution_count": 6,
     "metadata": {},
     "output_type": "execute_result"
    }
   ],
   "source": [
    "events.fields"
   ]
  },
  {
   "cell_type": "code",
   "execution_count": 7,
   "id": "c630f3b8-03dc-413b-b343-46a15ea87301",
   "metadata": {},
   "outputs": [
    {
     "data": {
      "text/plain": [
       "['area',\n",
       " 'btagCSVV2',\n",
       " 'btagDeepB',\n",
       " 'btagDeepCvB',\n",
       " 'btagDeepCvL',\n",
       " 'btagDeepFlavB',\n",
       " 'btagDeepFlavCvB',\n",
       " 'btagDeepFlavCvL',\n",
       " 'btagDeepFlavQG',\n",
       " 'chEmEF',\n",
       " 'chFPV0EF',\n",
       " 'chHEF',\n",
       " 'eta',\n",
       " 'hfsigmaEtaEta',\n",
       " 'hfsigmaPhiPhi',\n",
       " 'mass',\n",
       " 'muEF',\n",
       " 'muonSubtrFactor',\n",
       " 'neEmEF',\n",
       " 'neHEF',\n",
       " 'phi',\n",
       " 'pt',\n",
       " 'puIdDisc',\n",
       " 'qgl',\n",
       " 'rawFactor',\n",
       " 'bRegCorr',\n",
       " 'bRegRes',\n",
       " 'cRegCorr',\n",
       " 'cRegRes',\n",
       " 'electronIdx1',\n",
       " 'electronIdx2',\n",
       " 'hfadjacentEtaStripsSize',\n",
       " 'hfcentralEtaStripSize',\n",
       " 'jetId',\n",
       " 'muonIdx1',\n",
       " 'muonIdx2',\n",
       " 'nElectrons',\n",
       " 'nMuons',\n",
       " 'puId',\n",
       " 'nConstituents',\n",
       " 'genJetIdx',\n",
       " 'hadronFlavour',\n",
       " 'partonFlavour',\n",
       " 'cleanmask',\n",
       " 'electronIdx1G',\n",
       " 'electronIdx2G',\n",
       " 'genJetIdxG',\n",
       " 'muonIdx1G',\n",
       " 'muonIdx2G',\n",
       " 'muonIdxG',\n",
       " 'electronIdxG']"
      ]
     },
     "execution_count": 7,
     "metadata": {},
     "output_type": "execute_result"
    }
   ],
   "source": [
    "events.Jet.fields"
   ]
  },
  {
   "cell_type": "markdown",
   "id": "b60abc34-2ecf-4be8-9025-1f61a2e2cdeb",
   "metadata": {},
   "source": [
    "# Cross-references\n",
    "The NanoEvents schema is able to read the CMS NanoAOD format and it's cross-references indices. \n"
   ]
  },
  {
   "cell_type": "code",
   "execution_count": 19,
   "id": "9de9799f-82d1-4b4e-8748-f0b7b88388a3",
   "metadata": {},
   "outputs": [
    {
     "data": {
      "text/plain": [
       "<GenParticleArray [[], [], [], ... GenParticle, None], []] type='4410 * var * ?g...'>"
      ]
     },
     "execution_count": 19,
     "metadata": {},
     "output_type": "execute_result"
    }
   ],
   "source": [
    "events.Electron.matched_gen"
   ]
  },
  {
   "cell_type": "markdown",
   "id": "dfb9a9a0-65d5-4d2d-89ea-6b3e963030db",
   "metadata": {},
   "source": [
    "For example: The tree of GenParticles decays can be easily explored"
   ]
  },
  {
   "cell_type": "code",
   "execution_count": 23,
   "id": "62b5a722-80e1-4fcf-b890-9b87c92584c9",
   "metadata": {},
   "outputs": [
    {
     "data": {
      "text/plain": [
       "<GenParticleArray [[[GenParticle], [], ... [], []]] type='4410 * var * var * ?ge...'>"
      ]
     },
     "execution_count": 23,
     "metadata": {},
     "output_type": "execute_result"
    }
   ],
   "source": [
    "events.GenPart.children"
   ]
  },
  {
   "cell_type": "code",
   "execution_count": 27,
   "id": "4f46d060-6fd2-40a6-9bc6-2824d643a5ed",
   "metadata": {},
   "outputs": [
    {
     "name": "stdout",
     "output_type": "stream",
     "text": [
      "Raw status flags: [[14721, 10625, 4481, 257, 257, 257, ... 12354, 12352, 12352, 12354, 12354, 12354]]\n"
     ]
    },
    {
     "data": {
      "text/plain": [
       "<Array [[True, True, False, ... False, False]] type='4410 * var * bool'>"
      ]
     },
     "execution_count": 27,
     "metadata": {},
     "output_type": "execute_result"
    }
   ],
   "source": [
    "print(f\"Raw status flags: {events.GenPart.statusFlags}\")\n",
    "events.GenPart.hasFlags(['isPrompt', 'isLastCopy'])"
   ]
  },
  {
   "cell_type": "code",
   "execution_count": 28,
   "id": "aed8cca8-fc49-4b72-80e1-c36fed5bd270",
   "metadata": {},
   "outputs": [
    {
     "data": {
      "text/plain": [
       "<Array [[], [], [], [], ... [], [23, 23], []] type='4410 * var * ?int32[paramete...'>"
      ]
     },
     "execution_count": 28,
     "metadata": {},
     "output_type": "execute_result"
    }
   ],
   "source": [
    "events.GenPart[\n",
    "    (abs(events.GenPart.pdgId) == 11)\n",
    "    & events.GenPart.hasFlags(['isPrompt', 'isLastCopy'])\n",
    "].distinctParent.pdgId"
   ]
  },
  {
   "cell_type": "markdown",
   "id": "f20bd9ae-1b8e-4551-a571-d89b70a6856a",
   "metadata": {},
   "source": [
    "## Vector behaviour"
   ]
  },
  {
   "cell_type": "code",
   "execution_count": 8,
   "id": "f52c480a-8835-4c2a-81eb-1db2b4a19c9b",
   "metadata": {},
   "outputs": [],
   "source": [
    "mask_2j = ak.num(events.Jet, axis=1)>=2\n",
    "events = events[mask_2j]"
   ]
  },
  {
   "cell_type": "markdown",
   "id": "2e31679c-89be-41c1-8698-933721d294d6",
   "metadata": {},
   "source": [
    "For example: We can compute the deltaR between the leading jet and another collection"
   ]
  },
  {
   "cell_type": "code",
   "execution_count": 10,
   "id": "8dc46698-8cb4-424d-a7b6-cc647a099c00",
   "metadata": {},
   "outputs": [
    {
     "data": {
      "text/plain": [
       "<Array [[], [], [], ... 3.02, 2.61, 2.89], []] type='4410 * var * float32'>"
      ]
     },
     "execution_count": 10,
     "metadata": {},
     "output_type": "execute_result"
    }
   ],
   "source": [
    "dr = events.Jet[:, 0].delta_r(events.Electron)\n",
    "dr"
   ]
  },
  {
   "cell_type": "markdown",
   "id": "f3d6b6a3-69e9-4f47-bcf9-8eb2bd8a1dd6",
   "metadata": {},
   "source": [
    "We can build new candidated by summing other vectors --> the data is interpreted as 4-momentum vectors"
   ]
  },
  {
   "cell_type": "code",
   "execution_count": 24,
   "id": "729e1505-92dd-4dfa-99a3-22b946ea35e4",
   "metadata": {},
   "outputs": [],
   "source": [
    "dijet = events.Jet[:,0] + events.Jet[:,1]"
   ]
  },
  {
   "cell_type": "markdown",
   "id": "de8e9d3f-8374-4d76-a0a9-c9b4a26b81af",
   "metadata": {},
   "source": [
    "For example we can get the mass of the new particle"
   ]
  },
  {
   "cell_type": "code",
   "execution_count": 29,
   "id": "2fd0a74c-f0a7-409d-b0e0-0895622e7c43",
   "metadata": {},
   "outputs": [
    {
     "data": {
      "text/plain": [
       "Text(1, 0, 'dijet mass')"
      ]
     },
     "execution_count": 29,
     "metadata": {},
     "output_type": "execute_result"
    },
    {
     "data": {
      "image/png": "[encoded data removed]",
      "text/plain": [
       "<Figure size 1000x1000 with 1 Axes>"
      ]
     },
     "metadata": {},
     "output_type": "display_data"
    }
   ],
   "source": [
    "plt.hist(dijet.mass, bins=100);\n",
    "plt.xlabel(\"dijet mass\")"
   ]
  },
  {
   "cell_type": "markdown",
   "id": "4c2ddeb6-d416-4b5f-af4a-efa884519716",
   "metadata": {},
   "source": [
    "# Weights"
   ]
  },
  {
   "cell_type": "markdown",
   "id": "fd32e080-134a-47cf-a2c8-865d89945a27",
   "metadata": {},
   "source": [
    "Coffea provides an improved interface to the interpretation of TTrees data formats (specifically for CMS NanoAODs, but other formats are available or under developement, e.g. for ATLAS). Moreover Coffea provides a set of analsysi tools for handling Weights, systematics variation, and cuts.\n",
    "\n"
   ]
  },
  {
   "cell_type": "code",
   "execution_count": 3,
   "id": "d6619276-eeed-4577-9d3a-8923837da639",
   "metadata": {},
   "outputs": [
    {
     "ename": "NameError",
     "evalue": "name 'events' is not defined",
     "output_type": "error",
     "traceback": [
      "\u001b[0;31m---------------------------------------------------------------------------\u001b[0m",
      "\u001b[0;31mNameError\u001b[0m                                 Traceback (most recent call last)",
      "Cell \u001b[0;32mIn[3], line 3\u001b[0m\n\u001b[1;32m      1\u001b[0m \u001b[38;5;28;01mfrom\u001b[39;00m \u001b[38;5;21;01mcoffea\u001b[39;00m\u001b[38;5;21;01m.\u001b[39;00m\u001b[38;5;21;01manalysis_tools\u001b[39;00m \u001b[38;5;28;01mimport\u001b[39;00m Weights\n\u001b[0;32m----> 3\u001b[0m Nevents \u001b[38;5;241m=\u001b[39m \u001b[38;5;28mlen\u001b[39m(\u001b[43mevents\u001b[49m)\n\u001b[1;32m      4\u001b[0m weights \u001b[38;5;241m=\u001b[39m Weights(Nevents)\n",
      "\u001b[0;31mNameError\u001b[0m: name 'events' is not defined"
     ]
    }
   ],
   "source": [
    "from coffea.analysis_tools import Weights\n",
    "\n",
    "Nevents = len(events)\n",
    "weights = Weights(Nevents)"
   ]
  },
  {
   "cell_type": "code",
   "execution_count": 65,
   "id": "ae9ccd27-e2f5-44b8-be35-97d0ec4d6ce2",
   "metadata": {},
   "outputs": [],
   "source": [
    "weights.add(\"SF1\", np.random.sample((Nevents)))"
   ]
  },
  {
   "cell_type": "code",
   "execution_count": 56,
   "id": "6f881609-6ac5-4f5b-868b-fa8366106b3f",
   "metadata": {},
   "outputs": [
    {
     "data": {
      "text/plain": [
       "array([0.60349645, 0.50648762, 0.47367758, ..., 0.27911608, 0.42000259,\n",
       "       0.15701576])"
      ]
     },
     "execution_count": 56,
     "metadata": {},
     "output_type": "execute_result"
    }
   ],
   "source": [
    "weights.weight()"
   ]
  },
  {
   "cell_type": "code",
   "execution_count": 57,
   "id": "abef9f99-6147-40ad-94eb-3fd6c3811c51",
   "metadata": {},
   "outputs": [
    {
     "data": {
      "text/plain": [
       "\u001b[0;31mSignature:\u001b[0m \u001b[0mweights\u001b[0m\u001b[0;34m.\u001b[0m\u001b[0madd\u001b[0m\u001b[0;34m(\u001b[0m\u001b[0mname\u001b[0m\u001b[0;34m,\u001b[0m \u001b[0mweight\u001b[0m\u001b[0;34m,\u001b[0m \u001b[0mweightUp\u001b[0m\u001b[0;34m=\u001b[0m\u001b[0;32mNone\u001b[0m\u001b[0;34m,\u001b[0m \u001b[0mweightDown\u001b[0m\u001b[0;34m=\u001b[0m\u001b[0;32mNone\u001b[0m\u001b[0;34m,\u001b[0m \u001b[0mshift\u001b[0m\u001b[0;34m=\u001b[0m\u001b[0;32mFalse\u001b[0m\u001b[0;34m)\u001b[0m\u001b[0;34m\u001b[0m\u001b[0;34m\u001b[0m\u001b[0m\n",
       "\u001b[0;31mDocstring:\u001b[0m\n",
       "Add a new weight\n",
       "\n",
       "Adds a named correction to the event weight, and optionally also associated\n",
       "systematic uncertainties.\n",
       "\n",
       "Parameters\n",
       "----------\n",
       "    name : str\n",
       "        name of correction\n",
       "    weight : numpy.ndarray\n",
       "        the nominal event weight associated with the correction\n",
       "    weightUp : numpy.ndarray, optional\n",
       "        weight with correction uncertainty shifted up (if available)\n",
       "    weightDown : numpy.ndarray, optional\n",
       "        weight with correction uncertainty shifted down. If ``weightUp`` is supplied, and\n",
       "        the correction uncertainty is symmetric, this can be set to None to auto-calculate\n",
       "        the down shift as ``1 / weightUp``.\n",
       "    shift : bool, optional\n",
       "        if True, interpret weightUp and weightDown as a realtive difference (additive) to the\n",
       "        nominal value\n",
       "\n",
       ".. note:: ``weightUp`` and ``weightDown`` are assumed to be rvalue-like and may be modified in-place by this function\n",
       "\u001b[0;31mFile:\u001b[0m      /opt/conda/lib/python3.11/site-packages/coffea/analysis_tools.py\n",
       "\u001b[0;31mType:\u001b[0m      method"
      ]
     },
     "metadata": {},
     "output_type": "display_data"
    }
   ],
   "source": [
    "weights.add?"
   ]
  },
  {
   "cell_type": "markdown",
   "id": "0cb1565a-91dc-4afd-a376-f4496fb7f57c",
   "metadata": {},
   "source": [
    "Let's now add multilple weights. \n",
    "\n",
    "If we want to be able to access the single weights we need to specify `storeIndividual=True`, but we will pay a cost in memory. \n",
    "By default all the weights are accumulated in a single vector when added."
   ]
  },
  {
   "cell_type": "code",
   "execution_count": 101,
   "id": "a60664b4-4f67-4411-96cb-d940ec8490cd",
   "metadata": {},
   "outputs": [],
   "source": [
    "weights = Weights(Nevents, storeIndividual=True)\n",
    "weights.add(\"SF1\", 2.*np.ones(Nevents), \n",
    "            weightUp=5.*np.ones(Nevents), \n",
    "            weightDown=0.5*np.ones(Nevents))"
   ]
  },
  {
   "cell_type": "code",
   "execution_count": 102,
   "id": "afd25dc6-29f3-4ae0-a8e6-5d4137d69e8c",
   "metadata": {},
   "outputs": [
    {
     "data": {
      "text/plain": [
       "{'SF1Down', 'SF1Up'}"
      ]
     },
     "execution_count": 102,
     "metadata": {},
     "output_type": "execute_result"
    }
   ],
   "source": [
    "weights.variations"
   ]
  },
  {
   "cell_type": "code",
   "execution_count": 103,
   "id": "c7b3e501-659b-4c14-9b55-55dcd4cb7ee1",
   "metadata": {},
   "outputs": [
    {
     "data": {
      "text/plain": [
       "array([2., 2., 2., ..., 2., 2., 2.])"
      ]
     },
     "execution_count": 103,
     "metadata": {},
     "output_type": "execute_result"
    }
   ],
   "source": [
    "weights.weight()"
   ]
  },
  {
   "cell_type": "code",
   "execution_count": 104,
   "id": "eeec88e6-c10c-4086-bd6b-1c7ef4246d9e",
   "metadata": {},
   "outputs": [
    {
     "data": {
      "text/plain": [
       "array([0.5, 0.5, 0.5, ..., 0.5, 0.5, 0.5])"
      ]
     },
     "execution_count": 104,
     "metadata": {},
     "output_type": "execute_result"
    }
   ],
   "source": [
    "weights.weight(modifier=\"SF1Down\")"
   ]
  },
  {
   "cell_type": "code",
   "execution_count": 105,
   "id": "14594456-a323-477f-b8dc-94dc4deaa3c5",
   "metadata": {},
   "outputs": [
    {
     "data": {
      "text/plain": [
       "array([5., 5., 5., ..., 5., 5., 5.])"
      ]
     },
     "execution_count": 105,
     "metadata": {},
     "output_type": "execute_result"
    }
   ],
   "source": [
    "weights.weight(modifier=\"SF1Up\")"
   ]
  },
  {
   "cell_type": "code",
   "execution_count": 106,
   "id": "0bc96e12-6c82-4e74-8d89-5a588a9c1d68",
   "metadata": {},
   "outputs": [],
   "source": [
    "weights.add(\"SF2\", 3.*np.ones(Nevents), \n",
    "            weightUp=6.*np.ones(Nevents), \n",
    "            weightDown=0.2*np.ones(Nevents))"
   ]
  },
  {
   "cell_type": "code",
   "execution_count": 107,
   "id": "f4e8fc15-f1ca-4143-8d14-997edc908129",
   "metadata": {},
   "outputs": [
    {
     "data": {
      "text/plain": [
       "array([6., 6., 6., ..., 6., 6., 6.])"
      ]
     },
     "execution_count": 107,
     "metadata": {},
     "output_type": "execute_result"
    }
   ],
   "source": [
    "weights.weight()"
   ]
  },
  {
   "cell_type": "code",
   "execution_count": 108,
   "id": "4f5bbc26-8e33-410e-94c7-9abc97dcbf9b",
   "metadata": {},
   "outputs": [
    {
     "data": {
      "text/plain": [
       "array([2., 2., 2., ..., 2., 2., 2.])"
      ]
     },
     "execution_count": 108,
     "metadata": {},
     "output_type": "execute_result"
    }
   ],
   "source": [
    "weights.partial_weight(include=[\"SF1\"])"
   ]
  },
  {
   "cell_type": "code",
   "execution_count": 109,
   "id": "d26e8a32-72aa-4c08-bdbd-55cbafef172e",
   "metadata": {},
   "outputs": [
    {
     "data": {
      "text/plain": [
       "{'SF1Down', 'SF1Up', 'SF2Down', 'SF2Up'}"
      ]
     },
     "execution_count": 109,
     "metadata": {},
     "output_type": "execute_result"
    }
   ],
   "source": [
    "weights.variations"
   ]
  },
  {
   "cell_type": "code",
   "execution_count": 110,
   "id": "db0d08f7-269e-4e65-bc1c-d6d82f92afd6",
   "metadata": {},
   "outputs": [
    {
     "data": {
      "text/plain": [
       "array([15., 15., 15., ..., 15., 15., 15.])"
      ]
     },
     "execution_count": 110,
     "metadata": {},
     "output_type": "execute_result"
    }
   ],
   "source": [
    "weights.weight(modifier=\"SF1Up\")"
   ]
  },
  {
   "cell_type": "code",
   "execution_count": 111,
   "id": "f79145e3-c5d8-4caa-8fee-563f5f363344",
   "metadata": {},
   "outputs": [
    {
     "data": {
      "text/plain": [
       "array([12., 12., 12., ..., 12., 12., 12.])"
      ]
     },
     "execution_count": 111,
     "metadata": {},
     "output_type": "execute_result"
    }
   ],
   "source": [
    "weights.weight(modifier=\"SF2Up\")"
   ]
  },
  {
   "cell_type": "markdown",
   "id": "401611a8-c43b-4520-b8c0-21416ca8db73",
   "metadata": {},
   "source": [
    "#### Weights with multiple possible variations"
   ]
  },
  {
   "cell_type": "code",
   "execution_count": 114,
   "id": "0ff7b751-431d-44e7-9a93-c78e1f7ab37f",
   "metadata": {},
   "outputs": [],
   "source": [
    "weights = Weights(Nevents)\n",
    "\n",
    "weights.add_multivariation(\"SF1\", \n",
    "            weight=2.*np.ones(Nevents), \n",
    "            modifierNames=[\"stat\", \"syst\"],\n",
    "            weightsUp=[5.*np.ones(Nevents), 3.*np.ones(Nevents)],\n",
    "            weightsDown=[0.5*np.ones(Nevents), 0.3*np.ones(Nevents)]\n",
    "           )"
   ]
  },
  {
   "cell_type": "code",
   "execution_count": 115,
   "id": "6143c923-8eeb-424a-b90b-8a333317174d",
   "metadata": {},
   "outputs": [
    {
     "data": {
      "text/plain": [
       "{'SF1_statDown', 'SF1_statUp', 'SF1_systDown', 'SF1_systUp'}"
      ]
     },
     "execution_count": 115,
     "metadata": {},
     "output_type": "execute_result"
    }
   ],
   "source": [
    "weights.variations"
   ]
  },
  {
   "cell_type": "markdown",
   "id": "c0b30b76-0411-432c-bfd8-2ebc04a7c406",
   "metadata": {},
   "source": [
    "# Cuts"
   ]
  },
  {
   "cell_type": "markdown",
   "id": "d70b3dbd-2bb5-49f7-9bb9-812f848ed063",
   "metadata": {},
   "source": [
    "Coffea provides a class that can store several boolean arrays in a memory-efficient mannner and evaluate arbitrary combinations of boolean requirements in an CPU-efficient way. Supported inputs include 1D numpy or awkward arrays. This makes it a good tool to form analysis signal and control regions, and to implement cutflow or “N-1” plots."
   ]
  },
  {
   "cell_type": "code",
   "execution_count": 116,
   "id": "ca5f629d-cea0-4145-a36b-d17bd9aa0f32",
   "metadata": {},
   "outputs": [
    {
     "name": "stdout",
     "output_type": "stream",
     "text": [
      "['twoElectron', 'eleOppSign', 'noElectron', 'twoMuon', 'muOppSign', 'noMuon', 'leadPt20']\n"
     ]
    }
   ],
   "source": [
    "from coffea.analysis_tools import PackedSelection\n",
    "\n",
    "selection = PackedSelection()\n",
    "\n",
    "selection.add(\"twoElectron\", ak.num(events.Electron) == 2)\n",
    "selection.add(\"eleOppSign\", ak.sum(events.Electron.charge, axis=1) == 0)\n",
    "selection.add(\"noElectron\", ak.num(events.Electron) == 0)\n",
    "\n",
    "selection.add(\"twoMuon\", ak.num(events.Muon) == 2)\n",
    "selection.add(\"muOppSign\", ak.sum(events.Muon.charge, axis=1) == 0)\n",
    "selection.add(\"noMuon\", ak.num(events.Muon) == 0)\n",
    "\n",
    "selection.add(\n",
    "    \"leadPt20\",\n",
    "    # assuming one of `twoElectron` or `twoMuon` is imposed, this implies at least one is above threshold\n",
    "    ak.any(events.Electron.pt >= 20.0, axis=1) | ak.any(events.Muon.pt >= 20.0, axis=1)\n",
    ")\n",
    "\n",
    "print(selection.names)"
   ]
  },
  {
   "cell_type": "code",
   "execution_count": 118,
   "id": "f14264fb-2e34-43b4-876e-47866e90c643",
   "metadata": {},
   "outputs": [
    {
     "data": {
      "text/plain": [
       "array([False, False, False, ..., False, False, False])"
      ]
     },
     "execution_count": 118,
     "metadata": {},
     "output_type": "execute_result"
    }
   ],
   "source": [
    "selection.all(\"twoElectron\", \"noMuon\", \"leadPt20\")"
   ]
  },
  {
   "cell_type": "code",
   "execution_count": 120,
   "id": "c40f241f-5293-4ec4-be9c-f281c81d80c6",
   "metadata": {},
   "outputs": [
    {
     "name": "stdout",
     "output_type": "stream",
     "text": [
      "Events passing all cuts, ignoring twoElectron: 1243\n",
      "Events passing all cuts, ignoring noMuon: 764\n",
      "Events passing all cuts, ignoring leadPt20: 752\n",
      "Events passing all cuts: 689\n"
     ]
    }
   ],
   "source": [
    "allCuts = {\"twoElectron\", \"noMuon\", \"leadPt20\"}\n",
    "for cut in allCuts:\n",
    "    nev = selection.all(*(allCuts - {cut})).sum()\n",
    "    print(f\"Events passing all cuts, ignoring {cut}: {nev}\")\n",
    "\n",
    "nev = selection.all(*allCuts).sum()\n",
    "print(f\"Events passing all cuts: {nev}\")"
   ]
  },
  {
   "cell_type": "markdown",
   "id": "1cac49b8-2c49-45b6-a7d5-135c9a52d50a",
   "metadata": {},
   "source": [
    "We can also use another syntax as:"
   ]
  },
  {
   "cell_type": "code",
   "execution_count": 171,
   "id": "dc68b209-a63e-4d71-aa9e-9a992fe0c33a",
   "metadata": {},
   "outputs": [
    {
     "data": {
      "text/plain": [
       "array([False, False, False, ..., False, False, False])"
      ]
     },
     "execution_count": 171,
     "metadata": {},
     "output_type": "execute_result"
    }
   ],
   "source": [
    "selection.require(twoElectron=True, twoMuon=False)"
   ]
  },
  {
   "cell_type": "markdown",
   "id": "05743ec2-9cce-42a3-9f32-3d112d90b4a5",
   "metadata": {},
   "source": [
    "# Applying corrections"
   ]
  },
  {
   "cell_type": "markdown",
   "id": "987555d9-ea9b-4d70-8a45-71b2c4cbd67f",
   "metadata": {},
   "source": [
    "Computing and applying corrections is a very general operation needed in data analysis. \n",
    "In CMS the **correctionlib** package has been implemented for this task. The purpose of this library is to provide a well-structured JSON data format for a wide variety of ad-hoc correction factors encountered in a typical HEP analysis and a companion evaluation tool suitable for use in C++ and python programs. "
   ]
  },
  {
   "cell_type": "markdown",
   "id": "71b63065-02fa-434b-aba3-d8535f50eb58",
   "metadata": {},
   "source": [
    "Let's build a correction factor"
   ]
  },
  {
   "cell_type": "code",
   "execution_count": 142,
   "id": "6fca818a-b769-45e2-8c0e-2f5441637a12",
   "metadata": {},
   "outputs": [],
   "source": [
    "H = (\n",
    "    Hist.new.Regular(10, 15, 100, name=\"jetpt\")\n",
    "    .Regular(10, -3, 3, name=\"jeteta\")\n",
    "    .StrCategory([\"MC\", \"Data\"], name=\"event_type\")\n",
    "    .Double())\n"
   ]
  },
  {
   "cell_type": "code",
   "execution_count": 127,
   "id": "272b780d-c13f-49fb-baa2-b3b5c185f66e",
   "metadata": {},
   "outputs": [],
   "source": [
    "events_MC = NanoEventsFactory.from_root(\n",
    "    datasets['DYJetsToLL']['files'][0],\n",
    "    schemaclass=NanoAODSchema.v7,\n",
    "    metadata={\"dataset\": \"DYJets\"},\n",
    "    entry_stop = 10000\n",
    ").events()\n",
    "\n",
    "events_data = NanoEventsFactory.from_root(\n",
    "    datasets['DoubleMuon']['files'][0],\n",
    "    schemaclass=NanoAODSchema.v7,\n",
    "    metadata={\"dataset\": \"DYJets\"},\n",
    "    entry_stop = 10000\n",
    ").events()"
   ]
  },
  {
   "cell_type": "code",
   "execution_count": 143,
   "id": "850b15bf-63db-40c1-a653-94aa7c714e9c",
   "metadata": {},
   "outputs": [
    {
     "data": {
      "text/plain": [
       "Hist(\n",
       "  Regular(10, 15, 100, name='jetpt'),\n",
       "  Regular(10, -3, 3, name='jeteta'),\n",
       "  StrCategory(['MC', 'Data'], name='event_type'),\n",
       "  storage=Double()) # Sum: 14658.0 (18399.0 with flow)"
      ]
     },
     "execution_count": 143,
     "metadata": {},
     "output_type": "execute_result"
    }
   ],
   "source": [
    "mask_2j_MC = ak.num(events_MC.Jet, axis=1)>=2\n",
    "mask_2j_data = ak.num(events_data.Jet, axis=1)>=2\n",
    "\n",
    "H.fill(events_MC[mask_2j_MC].Jet[:,0].pt,\n",
    "            events_MC[mask_2j_MC].Jet[:,0].eta,\n",
    "            event_type=\"MC\")\n",
    "H.fill(events_data[mask_2j_data].Jet[:,0].pt, \n",
    "            events_data[mask_2j_data].Jet[:,0].eta,\n",
    "            event_type=\"Data\")"
   ]
  },
  {
   "cell_type": "code",
   "execution_count": 144,
   "id": "b8c3da9d-b583-4227-a837-8b3ac8b61555",
   "metadata": {},
   "outputs": [
    {
     "data": {
      "text/plain": [
       "<matplotlib.legend.Legend at 0x7eafcc5f3f90>"
      ]
     },
     "execution_count": 144,
     "metadata": {},
     "output_type": "execute_result"
    },
    {
     "data": {
      "image/png": "[encoded data removed]",
      "text/plain": [
       "<Figure size 1000x1000 with 1 Axes>"
      ]
     },
     "metadata": {},
     "output_type": "display_data"
    }
   ],
   "source": [
    "H[{\"event_type\":\"MC\",\"jeteta\":sum}].plot(label=\"MC\")\n",
    "H[{\"event_type\":\"Data\",\"jeteta\":sum}].plot(label=\"Data\")\n",
    "plt.legend()"
   ]
  },
  {
   "cell_type": "code",
   "execution_count": 145,
   "id": "9bbcd253-52a8-45dc-8fe2-be9cf040d829",
   "metadata": {},
   "outputs": [
    {
     "data": {
      "text/plain": [
       "<matplotlib.legend.Legend at 0x7eafcc6d9790>"
      ]
     },
     "execution_count": 145,
     "metadata": {},
     "output_type": "execute_result"
    },
    {
     "data": {
      "image/png": "[encoded data removed]",
      "text/plain": [
       "<Figure size 1000x1000 with 1 Axes>"
      ]
     },
     "metadata": {},
     "output_type": "display_data"
    }
   ],
   "source": [
    "H[{\"event_type\":\"MC\",\"jetpt\":sum}].plot(label=\"MC\")\n",
    "H[{\"event_type\":\"Data\",\"jetpt\":sum}].plot(label=\"Data\")\n",
    "plt.legend()"
   ]
  },
  {
   "cell_type": "markdown",
   "id": "39767fe4-def0-4154-81de-9ba60db9b4c1",
   "metadata": {},
   "source": [
    "Let's image we want to compute a correction factor from the ratio of the two histograms above (it does not make any physical sense, but just to demonstrate the correctionlib function..)"
   ]
  },
  {
   "cell_type": "code",
   "execution_count": 146,
   "id": "91b2a0cf-4532-4e9c-b405-0faf9adfbeb4",
   "metadata": {},
   "outputs": [],
   "source": [
    "sfhist = H[{\"event_type\":\"Data\"}] / H[{\"event_type\":\"MC\"}]"
   ]
  },
  {
   "cell_type": "code",
   "execution_count": 148,
   "id": "2c56cadc-9b7f-4814-9b42-47d84dc05440",
   "metadata": {},
   "outputs": [
    {
     "data": {
      "text/html": [
       "<pre style=\"white-space:pre;overflow-x:auto;line-height:normal;font-family:Menlo,'DejaVu Sans Mono',consolas,'Courier New',monospace\"><span style=\"font-weight: bold\">CorrectionSet</span> (<span style=\"font-style: italic\">schema v2</span>)\n",
       "my custom corrections\n",
       "📂\n",
       "└── 📈 <span style=\"font-weight: bold\">MC_to_Data</span> (v0)\n",
       "    Reweights gen2 to agree with gen1\n",
       "    Node counts: <span style=\"font-weight: bold\">MultiBinning</span>: 1\n",
       "    ╭───────────── ▶ input ─────────────╮ ╭──────────── ▶ input ────────────╮\n",
       "    │ <span style=\"font-weight: bold\">jetpt</span> (real)                      │ │ <span style=\"font-weight: bold\">jeteta</span> (real)                   │\n",
       "    │ jetpt                             │ │ jeteta                          │\n",
       "    │ Range: [15.0, 100.0), overflow ok │ │ Range: [-3.0, 3.0), overflow ok │\n",
       "    ╰───────────────────────────────────╯ ╰─────────────────────────────────╯\n",
       "    ╭─── ◀ output ───╮\n",
       "    │ <span style=\"font-weight: bold\">out</span> (real)     │\n",
       "    │ <span style=\"font-style: italic\">No description</span> │\n",
       "    ╰────────────────╯\n",
       "</pre>\n"
      ],
      "text/plain": [
       "\u001b[1mCorrectionSet\u001b[0m (\u001b[3mschema v2\u001b[0m)\n",
       "my custom corrections\n",
       "📂\n",
       "└── 📈 \u001b[1mMC_to_Data\u001b[0m (v0)\n",
       "    Reweights gen2 to agree with gen1\n",
       "    Node counts: \u001b[1mMultiBinning\u001b[0m: 1\n",
       "    ╭───────────── ▶ input ─────────────╮ ╭──────────── ▶ input ────────────╮\n",
       "    │ \u001b[1mjetpt\u001b[0m (real)                      │ │ \u001b[1mjeteta\u001b[0m (real)                   │\n",
       "    │ jetpt                             │ │ jeteta                          │\n",
       "    │ Range: [15.0, 100.0), overflow ok │ │ Range: [-3.0, 3.0), overflow ok │\n",
       "    ╰───────────────────────────────────╯ ╰─────────────────────────────────╯\n",
       "    ╭─── ◀ output ───╮\n",
       "    │ \u001b[1mout\u001b[0m (real)     │\n",
       "    │ \u001b[3mNo description\u001b[0m │\n",
       "    ╰────────────────╯\n"
      ]
     },
     "metadata": {},
     "output_type": "display_data"
    },
    {
     "name": "stderr",
     "output_type": "stream",
     "text": [
      "/tmp/ipykernel_1612/2882992232.py:21: PydanticDeprecatedSince20: The `json` method is deprecated; use `model_dump_json` instead. Deprecated in Pydantic V2.0 to be removed in V3.0. See Pydantic V2 Migration Guide at https://errors.pydantic.dev/2.10/migration/\n",
      "  fout.write(cset.json(exclude_unset=True))\n"
     ]
    }
   ],
   "source": [
    "import correctionlib, rich\n",
    "import correctionlib.convert\n",
    "\n",
    "# without a name, the resulting object will fail validation\n",
    "sfhist.name = \"MC_to_Data\"\n",
    "sfhist.label = \"out\"\n",
    "\n",
    "clibcorr = correctionlib.convert.from_histogram(sfhist)\n",
    "clibcorr.description = \"Reweights gen2 to agree with gen1\"\n",
    "# set overflow bins behavior (default is to raise an error when out of bounds)\n",
    "clibcorr.data.flow = \"clamp\"\n",
    "\n",
    "cset = correctionlib.schemav2.CorrectionSet(\n",
    "    schema_version=2,\n",
    "    description=\"my custom corrections\",\n",
    "    corrections=[clibcorr],\n",
    ")\n",
    "rich.print(cset)\n",
    "\n",
    "with open(\"mycorrections.json\", \"w\") as fout:\n",
    "    fout.write(cset.json(exclude_unset=True))"
   ]
  },
  {
   "cell_type": "code",
   "execution_count": 149,
   "id": "9df02386-a1d9-4991-99a1-b8bd6750e287",
   "metadata": {},
   "outputs": [],
   "source": [
    "ceval = correctionlib.CorrectionSet.from_file(\"mycorrections.json\")"
   ]
  },
  {
   "cell_type": "code",
   "execution_count": 160,
   "id": "5d642198-ceb8-4066-a8b2-4e20da2fc161",
   "metadata": {},
   "outputs": [
    {
     "data": {
      "text/plain": [
       "['MC_to_Data']"
      ]
     },
     "execution_count": 160,
     "metadata": {},
     "output_type": "execute_result"
    }
   ],
   "source": [
    "list(ceval.keys())"
   ]
  },
  {
   "cell_type": "code",
   "execution_count": 162,
   "id": "ee9245df-a81d-4930-8241-f8836b8cb5eb",
   "metadata": {},
   "outputs": [
    {
     "data": {
      "text/plain": [
       "array([0.93984962, 0.98224852, 0.5       , ..., 0.58441558, 0.2173913 ,\n",
       "       0.2173913 ])"
      ]
     },
     "execution_count": 162,
     "metadata": {},
     "output_type": "execute_result"
    }
   ],
   "source": [
    "ceval['MC_to_Data'].evaluate(ak.flatten(events_MC[mask_2j].Jet.pt), \n",
    "                             ak.flatten(events_MC[mask_2j].Jet.eta))"
   ]
  },
  {
   "cell_type": "markdown",
   "id": "a75719f7-3df8-422b-bdef-573e3122cde0",
   "metadata": {},
   "source": [
    "# Full analysis with Coffea"
   ]
  },
  {
   "cell_type": "markdown",
   "id": "954a92f7-f3e6-4edf-8f72-b84cbe930e7f",
   "metadata": {},
   "source": [
    "Coffea provides utilities to define an **analysis workflow**, and apply it on multiple ROOT files and dataset. \n",
    "\n",
    "Events are processed in \"chunks\" with a map-reduce pattern. The user defines the analysis workflow in a Processor class which output a set of results which are **accumulated** over the full dataset. \n",
    "\n",
    "Coffea relies mainly on uproot to provide access to ROOT files for analysis. As a usual analysis will involve processing tens to thousands of files, totalling gigabytes to terabytes of data, there is a certain amount of work to be done to build a parallelized framework to process the data in a reasonable amount of time. Of course, one can work directly within uproot to achieve this, as we’ll show in the beginning, but coffea provides the coffea.processor module, which allows users to worry just about the actual analysis code and not about how to implement efficient parallelization, assuming that the parallization is a trivial map-reduce operation (e.g. filling histograms and adding them together). The module provides the following key features:\n",
    "\n",
    "- A ProcessorABC abstract base class that can be derived from to implement the analysis code;\n",
    "- A NanoEvents interface to the arrays being read from the TTree as inputs;\n",
    "- A generic accumulate() utility to reduce the outputs to a single result\n",
    "- and A set of parallel executors to access multicore processing or distributed computing systems such as Dask, Parsl, Spark, WorkQueue, and others.\n"
   ]
  },
  {
   "cell_type": "markdown",
   "id": "df0e0c62-65dc-4a3d-85d2-802bc929be25",
   "metadata": {},
   "source": [
    "### Accumulator semantic"
   ]
  },
  {
   "cell_type": "code",
   "execution_count": 163,
   "id": "70dbd17c-9d50-4ff2-9bc4-d64ca444ce79",
   "metadata": {},
   "outputs": [
    {
     "data": {
      "text/plain": [
       "{'num': 4, 'val': 11.1, 'thing': {'a', 'b', 'c'}}"
      ]
     },
     "execution_count": 163,
     "metadata": {},
     "output_type": "execute_result"
    }
   ],
   "source": [
    "from coffea.processor import accumulate\n",
    "\n",
    "accumulate([\n",
    "    {\"num\": 0, \"val\": 3.1},\n",
    "    {\"num\": 2, \"val\": 4.0, \"thing\": {\"a\", \"b\"}},\n",
    "    {\"num\": 2, \"val\": 4.0, \"thing\": {\"a\", \"c\"}},\n",
    "])\n"
   ]
  },
  {
   "cell_type": "markdown",
   "id": "474822df-2d76-4f96-bb5f-9162e0b0e0ea",
   "metadata": {},
   "source": [
    "Also histogram can be accumulated"
   ]
  },
  {
   "cell_type": "code",
   "execution_count": 165,
   "id": "8354ba9c-5c02-4bb2-b302-b0e5a3cf9cc9",
   "metadata": {},
   "outputs": [
    {
     "name": "stdout",
     "output_type": "stream",
     "text": [
      "[0. 3. 0. 2. 0. 1. 0. 0. 0. 0.]\n"
     ]
    },
    {
     "data": {
      "text/html": [
       "<html>\n",
       "<div style=\"display:flex; align-items:center;\">\n",
       "<div style=\"width:290px;\">\n",
       "<svg xmlns=\"http://www.w3.org/2000/svg\" viewBox=\"-10 -105 270 120\">\n",
       "<line x1=\"-5\" y1=\"0\" x2=\"255\" y2=\"0\" style=\"fill:none;stroke-width:2;stroke:currentColor\"/>\n",
       "<text text-anchor=\"middle\" x=\"0\" y=\"15\" style=\"fill:currentColor;\">\n",
       "0\n",
       "</text>\n",
       "<text text-anchor=\"middle\" x=\"250\" y=\"15\" style=\"fill:currentColor;\">\n",
       "1\n",
       "</text>\n",
       "<text text-anchor=\"middle\" x=\"125.0\" y=\"15\" style=\"fill:currentColor;\">\n",
       "Axis 0\n",
       "</text>\n",
       "<polyline points=\"  0,0   0,-0  25,-0  25,-100  50,-100  50,-0  75,-0  75,-66.7 100,-66.7 100,-0 125,-0 125,-33.3 150,-33.3 150,-0 175,-0 175,-0 200,-0 200,-0 225,-0 225,-0 250,-0 250,0\" style=\"fill:none; stroke:currentColor;\"/>\n",
       "</svg>\n",
       "</div>\n",
       "<div style=\"flex=grow:1;\">\n",
       "Regular(10, 0, 1, label='Axis 0')<br/>\n",
       "<hr style=\"margin-top:.2em; margin-bottom:.2em;\"/>\n",
       "Double() Σ=6.0\n",
       "\n",
       "</div>\n",
       "</div>\n",
       "</html>"
      ],
      "text/plain": [
       "Hist(Regular(10, 0, 1, label='Axis 0'), storage=Double()) # Sum: 6.0"
      ]
     },
     "execution_count": 165,
     "metadata": {},
     "output_type": "execute_result"
    }
   ],
   "source": [
    "import hist\n",
    "\n",
    "def makehist():\n",
    "    return hist.Hist.new.Reg(10, 0, 1).Double()\n",
    "\n",
    "h = accumulate([\n",
    "    makehist().fill([0.1, 0.1, 0.3]),\n",
    "    makehist().fill([0.1, 0.3, 0.5]),\n",
    "])\n",
    "print(h.values())\n",
    "h"
   ]
  },
  {
   "cell_type": "markdown",
   "id": "e96172f3-6fba-4f19-8842-33c1820623b2",
   "metadata": {},
   "source": [
    "## Coffea workflow"
   ]
  },
  {
   "cell_type": "markdown",
   "id": "ac352618-d0f1-43e8-9cac-027b828d98f6",
   "metadata": {},
   "source": [
    "Let's write below a full analysis example and then we will build a Coffea processor around it: "
   ]
  },
  {
   "cell_type": "code",
   "execution_count": 169,
   "id": "7e622e24-24fe-417d-b79d-dc76bb65de03",
   "metadata": {},
   "outputs": [],
   "source": [
    "events = NanoEventsFactory.from_root(\n",
    "    datasets['DYJetsToLL']['files'][0],\n",
    "    schemaclass=NanoAODSchema.v7,\n",
    "    metadata={\"dataset\": \"DYJets\"},\n",
    "    entry_stop = 5000\n",
    ").events()\n"
   ]
  },
  {
   "cell_type": "code",
   "execution_count": 200,
   "id": "d8c20311-bd3c-4cf2-9bca-db8d428b31f3",
   "metadata": {},
   "outputs": [
    {
     "data": {
      "text/plain": [
       "{'DYJets': {'sumw': 5000.0,\n",
       "  'histograms': {'mass': Hist(\n",
       "     StrCategory(['ee', 'eeSS', 'mm', 'mmSS'], name='region'),\n",
       "     StrCategory(['nominal', 'lumiDown', 'lumiUp', 'alphaSUp', 'alphaSDown'], name='systematic'),\n",
       "     Regular(60, 60, 120, name='mass', label='$m_{ll}$ [GeV]'),\n",
       "     storage=Weight()) # Sum: WeightedSum(value=2.97106e+11, variance=1.38285e+19) (WeightedSum(value=3.34796e+11, variance=1.55828e+19) with flow),\n",
       "   'lepton_pt': Hist(\n",
       "     StrCategory(['ee', 'eeSS', 'mm', 'mmSS'], name='region'),\n",
       "     StrCategory(['nominal', 'lumiDown', 'lumiUp', 'alphaSUp', 'alphaSDown'], name='systematic'),\n",
       "     Regular(30, 10, 120, name='leppt', label='Lepton $p_T$ [GeV]'),\n",
       "     storage=Weight()) # Sum: WeightedSum(value=3.31537e+11, variance=1.5431e+19) (WeightedSum(value=3.34796e+11, variance=1.55828e+19) with flow)},\n",
       "  'weightStats': {'genWeight': WeightStatistics(sumw=5000.0, sumw2=5000.0, minw=1.0, maxw=1.0, n=5000),\n",
       "   'alphaS': WeightStatistics(sumw=5000.0, sumw2=5000.0, minw=1.0, maxw=1.0, n=5000),\n",
       "   'lumi': WeightStatistics(sumw=38266306.135000005, sumw2=292862037043.50775, minw=7653.261227, maxw=7653.261227, n=5000),\n",
       "   'XS': WeightStatistics(sumw=30386100.0, sumw2=184663014642.0, minw=6077.22, maxw=6077.22, n=5000)}}}"
      ]
     },
     "execution_count": 200,
     "metadata": {},
     "output_type": "execute_result"
    }
   ],
   "source": [
    "selection = PackedSelection()\n",
    "\n",
    "selection.add(\"twoElectron\", ak.num(events.Electron) == 2)\n",
    "selection.add(\"eleOppSign\", ak.sum(events.Electron.charge, axis=1) == 0)\n",
    "selection.add(\"noElectron\", ak.num(events.Electron) == 0)\n",
    "\n",
    "selection.add(\"twoMuon\", ak.num(events.Muon) == 2)\n",
    "selection.add(\"muOppSign\", ak.sum(events.Muon.charge, axis=1) == 0)\n",
    "selection.add(\"noMuon\", ak.num(events.Muon) == 0)\n",
    "\n",
    "selection.add(\n",
    "    \"leadPt20\",\n",
    "    # assuming one of `twoElectron` or `twoMuon` is imposed, this implies at least one is above threshold\n",
    "    ak.any(events.Electron.pt >= 20.0, axis=1) | ak.any(events.Muon.pt >= 20.0, axis=1)\n",
    ")\n",
    "\n",
    "\n",
    "weights = Weights(len(events))\n",
    "\n",
    "weights.add(\"genWeight\", events.genWeight)\n",
    "weights.add(\n",
    "    \"alphaS\",\n",
    "    # in NanoAOD, the generator weights are already stored with respect to nominal\n",
    "    weight=np.ones(len(events)),\n",
    "    # 31 => alphas(MZ)=0.1165 central value; 32 => alphas(MZ)=0.1195\n",
    "    weightUp=events.LHEPdfWeight[:, 32],\n",
    "    weightDown=events.LHEPdfWeight[:, 31],\n",
    ")\n",
    "weights.add(\"lumi\", np.ones(len(events))*7653.261227, np.ones(len(events))*7653.261227*1.025, np.ones(len(events))*7653.261227*0.975 )# /pb)\n",
    "weights.add(\"XS\", np.ones(len(events))*6077.22) #pb\n",
    "            \n",
    "\n",
    "# Let's define some regions    \n",
    "regions = {\n",
    "    \"ee\": {\"twoElectron\": True, \"noMuon\": True, \"leadPt20\": True, \"eleOppSign\": True},\n",
    "    \"eeSS\": {\"twoElectron\": True, \"noMuon\": True, \"leadPt20\": True, \"eleOppSign\": False},\n",
    "    \"mm\": {\"twoMuon\": True, \"noElectron\": True, \"leadPt20\": True, \"muOppSign\": True},\n",
    "    \"mmSS\": {\"twoMuon\": True, \"noElectron\": True, \"leadPt20\": True, \"muOppSign\": False},\n",
    "}\n",
    "\n",
    "# one output histogram\n",
    "masshist = (\n",
    "    hist.Hist.new\n",
    "    .StrCat(regions.keys(), name=\"region\")\n",
    "    .StrCat([\"nominal\"] + list(weights.variations), name=\"systematic\")\n",
    "    .Reg(60, 60, 120, name=\"mass\", label=\"$m_{ll}$ [GeV]\")\n",
    "    .Weight()\n",
    ")\n",
    "leppt_hist = (\n",
    "    hist.Hist.new\n",
    "    .StrCat(regions.keys(), name=\"region\")\n",
    "    .StrCat([\"nominal\"] + list(weights.variations), name=\"systematic\")\n",
    "    .Reg(30, 10, 120, name=\"leppt\", label=\"Lepton $p_T$ [GeV]\")\n",
    "    .Weight()\n",
    ")\n",
    "\n",
    "for region, cuts in regions.items():\n",
    "    goodevent = selection.require(**cuts)\n",
    "\n",
    "    if region.startswith(\"ee\"):\n",
    "        mass = events.Electron[goodevent].sum().mass\n",
    "        leppt = events.Electron[goodevent][:,0].pt\n",
    "    elif region.startswith(\"mm\"):\n",
    "        mass = events.Muon[goodevent].sum().mass\n",
    "        leppt = events.Muon[goodevent][:,0].pt\n",
    "\n",
    "    masshist.fill(\n",
    "        region=region,\n",
    "        systematic=\"nominal\",\n",
    "        mass=mass,\n",
    "        weight=weights.weight()[goodevent],\n",
    "    )\n",
    "    leppt_hist.fill(\n",
    "            region=region,\n",
    "            systematic=\"nominal\",\n",
    "            leppt=leppt,\n",
    "            weight=weights.weight()[goodevent],\n",
    "        )\n",
    "    for syst in weights.variations:\n",
    "        masshist.fill(\n",
    "            region=region,\n",
    "            systematic=syst,\n",
    "            mass=mass,\n",
    "            weight=weights.weight(syst)[goodevent],\n",
    "        )\n",
    "        leppt_hist.fill(\n",
    "            region=region,\n",
    "            systematic=syst,\n",
    "            leppt=leppt,\n",
    "            weight=weights.weight(syst)[goodevent],\n",
    "        )\n",
    "\n",
    "out = {\n",
    "    events.metadata[\"dataset\"]: {\n",
    "        \"sumw\": ak.sum(events.genWeight),\n",
    "        \"histograms\": {\n",
    "            \"mass\": masshist,\n",
    "            \"lepton_pt\": leppt_hist, \n",
    "        },\n",
    "        \"weightStats\": weights.weightStatistics,\n",
    "    }\n",
    "}\n",
    "\n",
    "out"
   ]
  },
  {
   "cell_type": "code",
   "execution_count": 215,
   "id": "183b4c7e-614c-4cae-aae6-51225d561cbb",
   "metadata": {},
   "outputs": [
    {
     "data": {
      "text/plain": [
       "<matplotlib.legend.Legend at 0x7eaf9cad5010>"
      ]
     },
     "execution_count": 215,
     "metadata": {},
     "output_type": "execute_result"
    },
    {
     "data": {
      "image/png": "[encoded data removed]",
      "text/plain": [
       "<Figure size 1000x1000 with 1 Axes>"
      ]
     },
     "metadata": {},
     "output_type": "display_data"
    }
   ],
   "source": [
    "out[\"DYJets\"][\"histograms\"][\"mass\"][{\"region\":\"ee\", \"systematic\":\"nominal\"}].plot(label=\"nominal\")\n",
    "out[\"DYJets\"][\"histograms\"][\"mass\"][{\"region\":\"ee\", \"systematic\":\"lumiUp\"}].plot(label=\"lumiUp\")\n",
    "out[\"DYJets\"][\"histograms\"][\"mass\"][{\"region\":\"ee\", \"systematic\":\"lumiDown\"}].plot(label=\"lumiDown\")\n",
    "plt.legend()"
   ]
  },
  {
   "cell_type": "markdown",
   "id": "ece6f17e-de1b-4ed9-a68c-78ef8bb229c7",
   "metadata": {},
   "source": [
    "We have tested our analysis workflow on a single chunk of a MC file, now we need to apply it on all the dataset, also distinguishing between data and MC events"
   ]
  },
  {
   "cell_type": "markdown",
   "id": "fc81d758-0f99-4b86-959e-e1c31d66151a",
   "metadata": {},
   "source": [
    "## Coffea processor"
   ]
  },
  {
   "cell_type": "code",
   "execution_count": 17,
   "id": "7d80655d-a9a2-49d6-a4c8-7785e1f6ef26",
   "metadata": {},
   "outputs": [],
   "source": [
    "from coffea import processor\n",
    "\n",
    "class MyProcessor(processor.ProcessorABC):\n",
    "    def __init__(self):\n",
    "        pass\n",
    "\n",
    "    def process(self, events):\n",
    "        dataset = events.metadata['dataset']\n",
    "        isMC = events.metadata[\"isMC\"] # reading from the dataset metadata\n",
    "        \n",
    "        selection = PackedSelection()\n",
    "        selection.add(\"twoElectron\", ak.num(events.Electron) == 2)\n",
    "        selection.add(\"eleOppSign\", ak.sum(events.Electron.charge, axis=1) == 0)\n",
    "        selection.add(\"noElectron\", ak.num(events.Electron) == 0)\n",
    "        \n",
    "        selection.add(\"twoMuon\", ak.num(events.Muon) == 2)\n",
    "        selection.add(\"muOppSign\", ak.sum(events.Muon.charge, axis=1) == 0)\n",
    "        selection.add(\"noMuon\", ak.num(events.Muon) == 0)\n",
    "        \n",
    "        selection.add(\n",
    "            \"leadPt20\",\n",
    "            # assuming one of `twoElectron` or `twoMuon` is imposed, this implies at least one is above threshold\n",
    "            ak.any(events.Electron.pt >= 20.0, axis=1) | ak.any(events.Muon.pt >= 20.0, axis=1)\n",
    "        )\n",
    "        \n",
    "\n",
    "        weights = Weights(len(events))\n",
    "        if isMC:\n",
    "            weights.add(\"genWeight\", events.genWeight)\n",
    "            weights.add(\n",
    "                \"alphaS\",\n",
    "                # in NanoAOD, the generator weights are already stored with respect to nominal\n",
    "                weight=np.ones(len(events)),\n",
    "                # 31 => alphas(MZ)=0.1165 central value; 32 => alphas(MZ)=0.1195\n",
    "                weightUp=events.LHEPdfWeight[:, 32],\n",
    "                weightDown=events.LHEPdfWeight[:, 31],\n",
    "            )\n",
    "            weights.add(\"lumi\", np.ones(len(events))*7653.261227, np.ones(len(events))*7653.261227*1.025, np.ones(len(events))*7653.261227*0.975 )# /pb)\n",
    "            weights.add(\"XS\", np.ones(len(events))*6077.22) #pb\n",
    "        else:\n",
    "            weights.add(\"nominal\", np.ones(len(events)))\n",
    "                        \n",
    "        \n",
    "        # Let's define some regions    \n",
    "        regions = {\n",
    "            \"ee\": {\"twoElectron\": True, \"noMuon\": True, \"leadPt20\": True, \"eleOppSign\": True},\n",
    "            \"eeSS\": {\"twoElectron\": True, \"noMuon\": True, \"leadPt20\": True, \"eleOppSign\": False},\n",
    "            \"mm\": {\"twoMuon\": True, \"noElectron\": True, \"leadPt20\": True, \"muOppSign\": True},\n",
    "            \"mmSS\": {\"twoMuon\": True, \"noElectron\": True, \"leadPt20\": True, \"muOppSign\": False},\n",
    "        }\n",
    "        \n",
    "        # one output histogram\n",
    "        masshist = (\n",
    "            hist.Hist.new\n",
    "            .StrCat(regions.keys(), name=\"region\")\n",
    "            .StrCat([\"nominal\"] + list(sorted(weights.variations)), name=\"systematic\", growth=False)\n",
    "            .Reg(60, 60, 120, name=\"mass\", label=\"$m_{ll}$ [GeV]\")\n",
    "            .Weight()\n",
    "        )\n",
    "        leppt_hist = (\n",
    "            hist.Hist.new\n",
    "            .StrCat(regions.keys(), name=\"region\")\n",
    "            .StrCat([\"nominal\"] + list(sorted(weights.variations)), name=\"systematic\", growth=False)\n",
    "            .Reg(30, 10, 120, name=\"leppt\", label=\"Lepton $p_T$ [GeV]\")\n",
    "            .Weight()\n",
    "        )\n",
    "        \n",
    "        for region, cuts in regions.items():\n",
    "            goodevent = selection.require(**cuts)\n",
    "        \n",
    "            if region.startswith(\"ee\"):\n",
    "                mass = events.Electron[goodevent].sum().mass\n",
    "                leppt = events.Electron[goodevent][:,0].pt\n",
    "            elif region.startswith(\"mm\"):\n",
    "                mass = events.Muon[goodevent].sum().mass\n",
    "                leppt = events.Muon[goodevent][:,0].pt\n",
    "        \n",
    "            masshist.fill(\n",
    "                region=region,\n",
    "                systematic=\"nominal\",\n",
    "                mass=mass,\n",
    "                weight=weights.weight()[goodevent],\n",
    "            )\n",
    "            leppt_hist.fill(\n",
    "                    region=region,\n",
    "                    systematic=\"nominal\",\n",
    "                    leppt=leppt,\n",
    "                    weight=weights.weight()[goodevent],\n",
    "                )\n",
    "            for syst in weights.variations:\n",
    "                masshist.fill(\n",
    "                    region=region,\n",
    "                    systematic=syst,\n",
    "                    mass=mass,\n",
    "                    weight=weights.weight(syst)[goodevent],\n",
    "                )\n",
    "                leppt_hist.fill(\n",
    "                    region=region,\n",
    "                    systematic=syst,\n",
    "                    leppt=leppt,\n",
    "                    weight=weights.weight(syst)[goodevent],\n",
    "                )\n",
    "        \n",
    "        return {\n",
    "            events.metadata[\"dataset\"]: {\n",
    "                \"sumw\": ak.sum(events.genWeight) if isMC else len(events),\n",
    "                \"histograms\": {\n",
    "                    \"mass\": masshist,\n",
    "                    \"lepton_pt\": leppt_hist, \n",
    "                }\n",
    "            }\n",
    "        }\n",
    "        \n",
    "\n",
    "    def postprocess(self, accumulator):\n",
    "        pass"
   ]
  },
  {
   "cell_type": "code",
   "execution_count": 223,
   "id": "3fef99d6-69d0-4757-bb17-be289f51d455",
   "metadata": {},
   "outputs": [],
   "source": [
    "events_MC = NanoEventsFactory.from_root(\n",
    "    datasets['DYJetsToLL']['files'][1],\n",
    "    schemaclass=NanoAODSchema.v7,\n",
    "    metadata={\n",
    "        \"dataset\": \"DYJets\",\n",
    "        \"isMC\": True\n",
    "    },\n",
    "    entry_stop = 5000\n",
    ").events()\n",
    "\n",
    "events_DATA = NanoEventsFactory.from_root(\n",
    "    datasets['DoubleMuon']['files'][1],\n",
    "    schemaclass=NanoAODSchema.v7,\n",
    "    metadata={\n",
    "        \"dataset\": \"DoubleMuon\",\n",
    "        \"isMC\": False\n",
    "    },\n",
    "    entry_stop = 5000\n",
    ").events()\n",
    "\n",
    "\n",
    "\n",
    "p = MyProcessor()\n",
    "out_MC = p.process(events_MC)\n",
    "out_Data = p.process(events_DATA)\n"
   ]
  },
  {
   "cell_type": "markdown",
   "id": "8ec7bc63-8615-40a8-95ea-2ed91300f34c",
   "metadata": {},
   "source": [
    "The processor is just a wrapper around the analysis workflow. We now need to scale it up to our full dataset definition."
   ]
  },
  {
   "cell_type": "markdown",
   "id": "5419cb5c-1e09-43aa-b9f9-a4290f42e8ea",
   "metadata": {},
   "source": [
    "Just for visualization, let's rescale the MC histogram to the data normalization"
   ]
  },
  {
   "cell_type": "code",
   "execution_count": 255,
   "id": "24b65370-c156-4397-8787-5a814732d3ae",
   "metadata": {},
   "outputs": [
    {
     "data": {
      "text/plain": [
       "<matplotlib.legend.Legend at 0x7eaf9dc89790>"
      ]
     },
     "execution_count": 255,
     "metadata": {},
     "output_type": "execute_result"
    },
    {
     "data": {
      "image/png": "[encoded data removed]",
      "text/plain": [
       "<Figure size 1000x1000 with 1 Axes>"
      ]
     },
     "metadata": {},
     "output_type": "display_data"
    }
   ],
   "source": [
    "h_Data = out_Data[\"DoubleMuon\"][\"histograms\"][\"mass\"][{\"region\":\"mm\", \"systematic\":\"nominal\"}]\n",
    "h_MC = out_MC[\"DYJets\"][\"histograms\"][\"mass\"][{\"region\":\"mm\", \"systematic\":\"nominal\"}]\n",
    "\n",
    "rescaling = (h_Data.sum().value / h_MC.sum().value)\n",
    "h_MC *= rescaling\n",
    "\n",
    "h_MC.plot(label=\"MC\", histtype=\"fill\")\n",
    "plt.errorbar(h_Data.axes[0].centers, h_Data.values(), \n",
    "             yerr= np.sqrt(h_Data.variances()), \n",
    "             marker=\".\", c=\"black\", linestyle=\"none\",\n",
    "            label=\"Data\")\n",
    "\n",
    "plt.legend()"
   ]
  },
  {
   "cell_type": "markdown",
   "id": "8a06cd16-41e4-4642-a3fb-9f3b66959f4a",
   "metadata": {},
   "source": [
    "# Scale up"
   ]
  },
  {
   "cell_type": "code",
   "execution_count": 4,
   "id": "9d69de17-5b94-4906-8b0b-75e62f2e7f41",
   "metadata": {},
   "outputs": [],
   "source": [
    "import yaml\n",
    "with open(\"datasets.yaml\") as f:\n",
    "    fileset = yaml.safe_load(f)"
   ]
  },
  {
   "cell_type": "code",
   "execution_count": 5,
   "id": "8154c3bc-7649-4c3d-8028-1e139b1dd599",
   "metadata": {},
   "outputs": [
    {
     "data": {
      "text/plain": [
       "{'DoubleMuon': {'metadata': {'opendata-entry': 'https://opendata.cern.ch/record/30522',\n",
       "   'isMC': False,\n",
       "   'sample': 'Data'},\n",
       "  'files': ['root://eospublic.cern.ch//eos/opendata/cms/Run2016G/DoubleMuon/NANOAOD/UL2016_MiniAODv2_NanoAODv9-v2/2430000/05DD095C-F6C3-9A4F-9FB3-348A5A6403D5.root',\n",
       "   'root://eospublic.cern.ch//eos/opendata/cms/Run2016G/DoubleMuon/NANOAOD/UL2016_MiniAODv2_NanoAODv9-v2/2430000/209D94D9-B6D5-A34B-A2A3-CBB7E4EA8ADF.root',\n",
       "   'root://eospublic.cern.ch//eos/opendata/cms/Run2016G/DoubleMuon/NANOAOD/UL2016_MiniAODv2_NanoAODv9-v2/2430000/23A0C786-B116-F346-81C1-18EF4716C097.root',\n",
       "   'root://eospublic.cern.ch//eos/opendata/cms/Run2016G/DoubleMuon/NANOAOD/UL2016_MiniAODv2_NanoAODv9-v2/2430000/2631F9B1-3B3E-7E4A-BE75-FC57E322C981.root',\n",
       "   'root://eospublic.cern.ch//eos/opendata/cms/Run2016G/DoubleMuon/NANOAOD/UL2016_MiniAODv2_NanoAODv9-v2/2430000/26A77DF8-54A5-7B44-B1BB-5B93CFF5C9C6.root',\n",
       "   'root://eospublic.cern.ch//eos/opendata/cms/Run2016G/DoubleMuon/NANOAOD/UL2016_MiniAODv2_NanoAODv9-v2/2430000/28E0E7C4-3DA1-6C47-8EBB-89C9507BC283.root',\n",
       "   'root://eospublic.cern.ch//eos/opendata/cms/Run2016G/DoubleMuon/NANOAOD/UL2016_MiniAODv2_NanoAODv9-v2/2430000/3B20EB8F-4FD1-D041-9513-1A82351756E1.root',\n",
       "   'root://eospublic.cern.ch//eos/opendata/cms/Run2016G/DoubleMuon/NANOAOD/UL2016_MiniAODv2_NanoAODv9-v2/2430000/4AAF4AB2-171D-F54C-8FE3-0D709B049A8A.root',\n",
       "   'root://eospublic.cern.ch//eos/opendata/cms/Run2016G/DoubleMuon/NANOAOD/UL2016_MiniAODv2_NanoAODv9-v2/2430000/4E3A26DE-E53B-A844-8048-36376617AE8D.root',\n",
       "   'root://eospublic.cern.ch//eos/opendata/cms/Run2016G/DoubleMuon/NANOAOD/UL2016_MiniAODv2_NanoAODv9-v2/2430000/58749C91-2895-334A-8546-D163C2E05718.root']},\n",
       " 'DoubleEG': {'metadata': {'opendata-entry': 'https://opendata.cern.ch/record/30521',\n",
       "   'sample': 'Data',\n",
       "   'isMC': False},\n",
       "  'files': ['root://eospublic.cern.ch//eos/opendata/cms/Run2016G/DoubleEG/NANOAOD/UL2016_MiniAODv2_NanoAODv9-v1/100000/11DA657F-5262-BD4A-AD1E-8E53BE62A601.root',\n",
       "   'root://eospublic.cern.ch//eos/opendata/cms/Run2016G/DoubleEG/NANOAOD/UL2016_MiniAODv2_NanoAODv9-v1/100000/148C0840-3400-844C-A955-0318E69E353C.root',\n",
       "   'root://eospublic.cern.ch//eos/opendata/cms/Run2016G/DoubleEG/NANOAOD/UL2016_MiniAODv2_NanoAODv9-v1/100000/27CFDBBC-45BA-EB40-BCDD-589BD19208E0.root',\n",
       "   'root://eospublic.cern.ch//eos/opendata/cms/Run2016G/DoubleEG/NANOAOD/UL2016_MiniAODv2_NanoAODv9-v1/100000/2D7814E0-D1F2-2A4E-9C4C-A1875418EDBB.root',\n",
       "   'root://eospublic.cern.ch//eos/opendata/cms/Run2016G/DoubleEG/NANOAOD/UL2016_MiniAODv2_NanoAODv9-v1/100000/390EC465-A417-0048-B2D4-6D7081C9B348.root',\n",
       "   'root://eospublic.cern.ch//eos/opendata/cms/Run2016G/DoubleEG/NANOAOD/UL2016_MiniAODv2_NanoAODv9-v1/100000/45823BAC-337D-1C4E-9058-CA552D0423F7.root',\n",
       "   'root://eospublic.cern.ch//eos/opendata/cms/Run2016G/DoubleEG/NANOAOD/UL2016_MiniAODv2_NanoAODv9-v1/100000/46F874F2-25BF-FE44-A95E-C79F3C374504.root',\n",
       "   'root://eospublic.cern.ch//eos/opendata/cms/Run2016G/DoubleEG/NANOAOD/UL2016_MiniAODv2_NanoAODv9-v1/100000/55DE6E50-CAF8-8449-9C11-8B9828D57121.root',\n",
       "   'root://eospublic.cern.ch//eos/opendata/cms/Run2016G/DoubleEG/NANOAOD/UL2016_MiniAODv2_NanoAODv9-v1/100000/59FCC2C6-03BA-6D44-85A9-0DF7EF6191AF.root',\n",
       "   'root://eospublic.cern.ch//eos/opendata/cms/Run2016G/DoubleEG/NANOAOD/UL2016_MiniAODv2_NanoAODv9-v1/100000/60EB951D-C1FB-564F-BD39-08F98612DA87.root']},\n",
       " 'DYJetsToLL': {'metadata': {'opendata-entry': 'http://opendata.cern.ch/record/35671',\n",
       "   'sample': 'DYJets',\n",
       "   'isMC': True},\n",
       "  'files': ['root://eospublic.cern.ch//eos/opendata/cms/mc/RunIISummer20UL16NanoAODv9/DYJetsToLL_M-50_TuneCP5_13TeV-madgraphMLM-pythia8/NANOAODSIM/106X_mcRun2_asymptotic_v17-v1/40000/14B6A8AE-C9FE-D744-80A4-DDE5D008C1CD.root',\n",
       "   'root://eospublic.cern.ch//eos/opendata/cms/mc/RunIISummer20UL16NanoAODv9/DYJetsToLL_M-50_TuneCP5_13TeV-madgraphMLM-pythia8/NANOAODSIM/106X_mcRun2_asymptotic_v17-v1/40000/1542B5DE-398C-0A4E-A970-9CD38709B98F.root',\n",
       "   'root://eospublic.cern.ch//eos/opendata/cms/mc/RunIISummer20UL16NanoAODv9/DYJetsToLL_M-50_TuneCP5_13TeV-madgraphMLM-pythia8/NANOAODSIM/106X_mcRun2_asymptotic_v17-v1/40000/1544A357-D3B8-B84C-A854-C38E93BCC67A.root',\n",
       "   'root://eospublic.cern.ch//eos/opendata/cms/mc/RunIISummer20UL16NanoAODv9/DYJetsToLL_M-50_TuneCP5_13TeV-madgraphMLM-pythia8/NANOAODSIM/106X_mcRun2_asymptotic_v17-v1/40000/1B11D47A-B6B6-2444-9A83-1649F6B54F3A.root',\n",
       "   'root://eospublic.cern.ch//eos/opendata/cms/mc/RunIISummer20UL16NanoAODv9/DYJetsToLL_M-50_TuneCP5_13TeV-madgraphMLM-pythia8/NANOAODSIM/106X_mcRun2_asymptotic_v17-v1/40000/202FEE1A-6266-ED4D-A0B2-F3D0C5B6EE1B.root',\n",
       "   'root://eospublic.cern.ch//eos/opendata/cms/mc/RunIISummer20UL16NanoAODv9/DYJetsToLL_M-50_TuneCP5_13TeV-madgraphMLM-pythia8/NANOAODSIM/106X_mcRun2_asymptotic_v17-v1/40000/216C2A60-D4EC-B647-8421-BAB0C6A4247C.root',\n",
       "   'root://eospublic.cern.ch//eos/opendata/cms/mc/RunIISummer20UL16NanoAODv9/DYJetsToLL_M-50_TuneCP5_13TeV-madgraphMLM-pythia8/NANOAODSIM/106X_mcRun2_asymptotic_v17-v1/40000/22766655-2217-B848-8979-AD0EA0128682.root',\n",
       "   'root://eospublic.cern.ch//eos/opendata/cms/mc/RunIISummer20UL16NanoAODv9/DYJetsToLL_M-50_TuneCP5_13TeV-madgraphMLM-pythia8/NANOAODSIM/106X_mcRun2_asymptotic_v17-v1/40000/27531B8A-C535-894F-9C15-4C0C9E309F27.root',\n",
       "   'root://eospublic.cern.ch//eos/opendata/cms/mc/RunIISummer20UL16NanoAODv9/DYJetsToLL_M-50_TuneCP5_13TeV-madgraphMLM-pythia8/NANOAODSIM/106X_mcRun2_asymptotic_v17-v1/40000/3411EB3A-03C1-6A4F-A0E7-570107EEFD0C.root',\n",
       "   'root://eospublic.cern.ch//eos/opendata/cms/mc/RunIISummer20UL16NanoAODv9/DYJetsToLL_M-50_TuneCP5_13TeV-madgraphMLM-pythia8/NANOAODSIM/106X_mcRun2_asymptotic_v17-v1/40000/3E52FE18-4D6A-EC4F-B64A-65DA4140BAF5.root']}}"
      ]
     },
     "execution_count": 5,
     "metadata": {},
     "output_type": "execute_result"
    }
   ],
   "source": [
    "max_files = 10\n",
    "for key, value in fileset.items():\n",
    "    value[\"files\"] = value[\"files\"][0:max_files]\n",
    "\n",
    "fileset"
   ]
  },
  {
   "cell_type": "markdown",
   "id": "2173cbca-f29b-4a56-a2d4-62dd24f4254e",
   "metadata": {},
   "source": [
    "### Iterative runner\n",
    "\n",
    "Runs single-thread locally --> useful for debugging and testing"
   ]
  },
  {
   "cell_type": "code",
   "execution_count": null,
   "id": "530fc228-9526-4f8a-8146-e85af1f19101",
   "metadata": {},
   "outputs": [],
   "source": [
    "processor_workflow = MyProcessor()\n",
    "\n",
    "run = processor.Runner(\n",
    "            executor=processor.IterativeExecutor(),\n",
    "            chunksize=1000,\n",
    "            maxchunks=30,\n",
    "            #skipbadfiles=True,\n",
    "            schema=processor.NanoAODSchema,\n",
    "            format=\"root\",\n",
    "        )\n",
    "output = run(fileset,\n",
    "             treename=\"Events\",\n",
    "             processor_instance=processor_workflow)\n"
   ]
  },
  {
   "cell_type": "markdown",
   "id": "4a892de3-bc39-4969-a6dc-d01f5efdf7c0",
   "metadata": {},
   "source": [
    "### Multi-processing runner\n",
    "\n",
    "Runs multiprocess locally --> useful for quick processing without scaling on a cluster"
   ]
  },
  {
   "cell_type": "code",
   "execution_count": 6,
   "id": "72c8ca7e-56ca-4f87-8ad8-5f857e5378d2",
   "metadata": {},
   "outputs": [
    {
     "data": {
      "application/vnd.jupyter.widget-view+json": {
       "model_id": "913a09d48bb14ce7bc0f47d10e7a702a",
       "version_major": 2,
       "version_minor": 0
      },
      "text/plain": [
       "Output()"
      ]
     },
     "metadata": {},
     "output_type": "display_data"
    },
    {
     "data": {
      "text/html": [
       "<pre style=\"white-space:pre;overflow-x:auto;line-height:normal;font-family:Menlo,'DejaVu Sans Mono',consolas,'Courier New',monospace\"></pre>\n"
      ],
      "text/plain": []
     },
     "metadata": {},
     "output_type": "display_data"
    },
    {
     "data": {
      "application/vnd.jupyter.widget-view+json": {
       "model_id": "34f5576e12bb47a3934cc9f5f28684dc",
       "version_major": 2,
       "version_minor": 0
      },
      "text/plain": [
       "Output()"
      ]
     },
     "metadata": {},
     "output_type": "display_data"
    },
    {
     "data": {
      "text/html": [
       "<pre style=\"white-space:pre;overflow-x:auto;line-height:normal;font-family:Menlo,'DejaVu Sans Mono',consolas,'Courier New',monospace\"></pre>\n"
      ],
      "text/plain": []
     },
     "metadata": {},
     "output_type": "display_data"
    }
   ],
   "source": [
    "run = processor.Runner(\n",
    "            executor=processor.FuturesExecutor(workers=8),\n",
    "            chunksize=10000,\n",
    "            maxchunks=20,\n",
    "            #skipbadfiles=True,\n",
    "            schema=processor.NanoAODSchema,\n",
    "            format=\"root\",\n",
    "        )\n",
    "output = run(fileset,\n",
    "             treename=\"Events\",\n",
    "             processor_instance=MyProcessor())\n",
    "        "
   ]
  },
  {
   "cell_type": "code",
   "execution_count": 7,
   "id": "dabac3f5-99ba-45bf-a3ca-8f34315bb9ad",
   "metadata": {},
   "outputs": [
    {
     "data": {
      "text/plain": [
       "{'DYJetsToLL': {'sumw': 200760.0,\n",
       "  'histograms': {'mass': Hist(\n",
       "     StrCategory(['ee', 'eeSS', 'mm', 'mmSS'], name='region'),\n",
       "     StrCategory(['nominal', 'lumiDown', 'lumiUp', 'alphaSDown', 'alphaSUp'], name='systematic'),\n",
       "     Regular(60, 60, 120, name='mass', label='$m_{ll}$ [GeV]'),\n",
       "     storage=Weight()) # Sum: WeightedSum(value=1.15903e+13, variance=5.39455e+20) (WeightedSum(value=1.29864e+13, variance=6.04437e+20) with flow),\n",
       "   'lepton_pt': Hist(\n",
       "     StrCategory(['ee', 'eeSS', 'mm', 'mmSS'], name='region'),\n",
       "     StrCategory(['nominal', 'lumiDown', 'lumiUp', 'alphaSDown', 'alphaSUp'], name='systematic'),\n",
       "     Regular(30, 10, 120, name='leppt', label='Lepton $p_T$ [GeV]'),\n",
       "     storage=Weight()) # Sum: WeightedSum(value=1.28794e+13, variance=5.99456e+20) (WeightedSum(value=1.29864e+13, variance=6.04437e+20) with flow)}},\n",
       " 'DoubleEG': {'sumw': 200340,\n",
       "  'histograms': {'mass': Hist(\n",
       "     StrCategory(['ee', 'eeSS', 'mm', 'mmSS'], name='region'),\n",
       "     StrCategory(['nominal'], name='systematic'),\n",
       "     Regular(60, 60, 120, name='mass', label='$m_{ll}$ [GeV]'),\n",
       "     storage=Weight()) # Sum: WeightedSum(value=22576, variance=22576) (WeightedSum(value=44742, variance=44742) with flow),\n",
       "   'lepton_pt': Hist(\n",
       "     StrCategory(['ee', 'eeSS', 'mm', 'mmSS'], name='region'),\n",
       "     StrCategory(['nominal'], name='systematic'),\n",
       "     Regular(30, 10, 120, name='leppt', label='Lepton $p_T$ [GeV]'),\n",
       "     storage=Weight()) # Sum: WeightedSum(value=42406, variance=42406) (WeightedSum(value=44742, variance=44742) with flow)}},\n",
       " 'DoubleMuon': {'sumw': 199900,\n",
       "  'histograms': {'mass': Hist(\n",
       "     StrCategory(['ee', 'eeSS', 'mm', 'mmSS'], name='region'),\n",
       "     StrCategory(['nominal'], name='systematic'),\n",
       "     Regular(60, 60, 120, name='mass', label='$m_{ll}$ [GeV]'),\n",
       "     storage=Weight()) # Sum: WeightedSum(value=25745, variance=25745) (WeightedSum(value=59309, variance=59309) with flow),\n",
       "   'lepton_pt': Hist(\n",
       "     StrCategory(['ee', 'eeSS', 'mm', 'mmSS'], name='region'),\n",
       "     StrCategory(['nominal'], name='systematic'),\n",
       "     Regular(30, 10, 120, name='leppt', label='Lepton $p_T$ [GeV]'),\n",
       "     storage=Weight()) # Sum: WeightedSum(value=58628, variance=58628) (WeightedSum(value=59309, variance=59309) with flow)}}}"
      ]
     },
     "execution_count": 7,
     "metadata": {},
     "output_type": "execute_result"
    }
   ],
   "source": [
    "output"
   ]
  },
  {
   "cell_type": "code",
   "execution_count": 17,
   "id": "08032c73-44cf-450a-ab6b-dbee272400dc",
   "metadata": {},
   "outputs": [
    {
     "data": {
      "text/plain": [
       "<matplotlib.legend.Legend at 0x7639d99cfe90>"
      ]
     },
     "execution_count": 17,
     "metadata": {},
     "output_type": "execute_result"
    },
    {
     "data": {
      "image/png": "[encoded data removed]",
      "text/plain": [
       "<Figure size 1000x1000 with 1 Axes>"
      ]
     },
     "metadata": {},
     "output_type": "display_data"
    }
   ],
   "source": [
    "h_Data = output[\"DoubleMuon\"][\"histograms\"][\"mass\"][{\"region\":\"mm\", \"systematic\":\"nominal\"}]\n",
    "h_MC = output[\"DYJetsToLL\"][\"histograms\"][\"mass\"][{\"region\":\"mm\", \"systematic\":\"nominal\"}]\n",
    "\n",
    "rescaling = (h_Data.sum().value / h_MC.sum().value)\n",
    "h_MC *= rescaling  # rescaling just for plotting \n",
    "\n",
    "h_MC.plot(label=\"MC\", histtype=\"fill\")\n",
    "plt.errorbar(h_Data.axes[0].centers, h_Data.values(), \n",
    "             yerr= np.sqrt(h_Data.variances()), \n",
    "             marker=\".\", c=\"black\", linestyle=\"none\",\n",
    "            label=\"Data\")\n",
    "\n",
    "plt.legend()"
   ]
  },
  {
   "cell_type": "markdown",
   "id": "c8e6cce3-3e7a-4940-b5db-a9f47eaad8f5",
   "metadata": {},
   "source": [
    "### Dask runner"
   ]
  },
  {
   "cell_type": "code",
   "execution_count": 26,
   "id": "df24177e-e65d-406f-b486-f1805485fb0e",
   "metadata": {},
   "outputs": [
    {
     "data": {
      "text/html": [
       "<div>\n",
       "    <div style=\"width: 24px; height: 24px; background-color: #e1e1e1; border: 3px solid #9D9D9D; border-radius: 5px; position: absolute;\"> </div>\n",
       "    <div style=\"margin-left: 48px;\">\n",
       "        <h3 style=\"margin-bottom: 0px;\">Client</h3>\n",
       "        <p style=\"color: #9D9D9D; margin-bottom: 0px;\">Client-d4a35cd7-cde6-11ef-95cf-ca3425f4d844</p>\n",
       "        <table style=\"width: 100%; text-align: left;\">\n",
       "\n",
       "        <tr>\n",
       "        \n",
       "            <td style=\"text-align: left;\"><strong>Connection method:</strong> Direct</td>\n",
       "            <td style=\"text-align: left;\"></td>\n",
       "        \n",
       "        </tr>\n",
       "\n",
       "        \n",
       "            <tr>\n",
       "                <td style=\"text-align: left;\">\n",
       "                    <strong>Dashboard: </strong> <a href=\"http://dask-davalsecchi-bco5n-scheduler.jhub:8787/status\" target=\"_blank\">http://dask-davalsecchi-bco5n-scheduler.jhub:8787/status</a>\n",
       "                </td>\n",
       "                <td style=\"text-align: left;\"></td>\n",
       "            </tr>\n",
       "        \n",
       "\n",
       "        </table>\n",
       "\n",
       "        \n",
       "            <button style=\"margin-bottom: 12px;\" data-commandlinker-command=\"dask:populate-and-launch-layout\" data-commandlinker-args='{\"url\": \"http://dask-davalsecchi-bco5n-scheduler.jhub:8787/status\" }'>\n",
       "                Launch dashboard in JupyterLab\n",
       "            </button>\n",
       "        \n",
       "\n",
       "        \n",
       "            <details>\n",
       "            <summary style=\"margin-bottom: 20px;\"><h3 style=\"display: inline;\">Scheduler Info</h3></summary>\n",
       "            <div style=\"\">\n",
       "    <div>\n",
       "        <div style=\"width: 24px; height: 24px; background-color: #FFF7E5; border: 3px solid #FF6132; border-radius: 5px; position: absolute;\"> </div>\n",
       "        <div style=\"margin-left: 48px;\">\n",
       "            <h3 style=\"margin-bottom: 0px;\">Scheduler</h3>\n",
       "            <p style=\"color: #9D9D9D; margin-bottom: 0px;\">Scheduler-23521aa7-a1d0-4acc-a3a2-e8bd1dbc2aca</p>\n",
       "            <table style=\"width: 100%; text-align: left;\">\n",
       "                <tr>\n",
       "                    <td style=\"text-align: left;\">\n",
       "                        <strong>Comm:</strong> tcp://10.42.1.160:8786\n",
       "                    </td>\n",
       "                    <td style=\"text-align: left;\">\n",
       "                        <strong>Workers:</strong> 5\n",
       "                    </td>\n",
       "                </tr>\n",
       "                <tr>\n",
       "                    <td style=\"text-align: left;\">\n",
       "                        <strong>Dashboard:</strong> <a href=\"http://10.42.1.160:8787/status\" target=\"_blank\">http://10.42.1.160:8787/status</a>\n",
       "                    </td>\n",
       "                    <td style=\"text-align: left;\">\n",
       "                        <strong>Total threads:</strong> 5\n",
       "                    </td>\n",
       "                </tr>\n",
       "                <tr>\n",
       "                    <td style=\"text-align: left;\">\n",
       "                        <strong>Started:</strong> 1 minute ago\n",
       "                    </td>\n",
       "                    <td style=\"text-align: left;\">\n",
       "                        <strong>Total memory:</strong> 10.00 GiB\n",
       "                    </td>\n",
       "                </tr>\n",
       "            </table>\n",
       "        </div>\n",
       "    </div>\n",
       "\n",
       "    <details style=\"margin-left: 48px;\">\n",
       "        <summary style=\"margin-bottom: 20px;\">\n",
       "            <h3 style=\"display: inline;\">Workers</h3>\n",
       "        </summary>\n",
       "\n",
       "        \n",
       "        <div style=\"margin-bottom: 20px;\">\n",
       "            <div style=\"width: 24px; height: 24px; background-color: #DBF5FF; border: 3px solid #4CC9FF; border-radius: 5px; position: absolute;\"> </div>\n",
       "            <div style=\"margin-left: 48px;\">\n",
       "            <details>\n",
       "                <summary>\n",
       "                    <h4 style=\"margin-bottom: 0px; display: inline;\">Worker: dask-davalsecchi-bco5n-default-worker-5b1a00f385</h4>\n",
       "                </summary>\n",
       "                <table style=\"width: 100%; text-align: left;\">\n",
       "                    <tr>\n",
       "                        <td style=\"text-align: left;\">\n",
       "                            <strong>Comm: </strong> tcp://10.42.5.138:38707\n",
       "                        </td>\n",
       "                        <td style=\"text-align: left;\">\n",
       "                            <strong>Total threads: </strong> 1\n",
       "                        </td>\n",
       "                    </tr>\n",
       "                    <tr>\n",
       "                        <td style=\"text-align: left;\">\n",
       "                            <strong>Dashboard: </strong> <a href=\"http://10.42.5.138:8788/status\" target=\"_blank\">http://10.42.5.138:8788/status</a>\n",
       "                        </td>\n",
       "                        <td style=\"text-align: left;\">\n",
       "                            <strong>Memory: </strong> 2.00 GiB\n",
       "                        </td>\n",
       "                    </tr>\n",
       "                    <tr>\n",
       "                        <td style=\"text-align: left;\">\n",
       "                            <strong>Nanny: </strong> tcp://10.42.5.138:42869\n",
       "                        </td>\n",
       "                        <td style=\"text-align: left;\"></td>\n",
       "                    </tr>\n",
       "                    <tr>\n",
       "                        <td colspan=\"2\" style=\"text-align: left;\">\n",
       "                            <strong>Local directory: </strong> /tmp/dask-scratch-space/worker-bk2rpskl\n",
       "                        </td>\n",
       "                    </tr>\n",
       "\n",
       "                    \n",
       "\n",
       "                    \n",
       "                    <tr>\n",
       "                        <td style=\"text-align: left;\">\n",
       "                            <strong>Tasks executing: </strong> \n",
       "                        </td>\n",
       "                        <td style=\"text-align: left;\">\n",
       "                            <strong>Tasks in memory: </strong> \n",
       "                        </td>\n",
       "                    </tr>\n",
       "                    <tr>\n",
       "                        <td style=\"text-align: left;\">\n",
       "                            <strong>Tasks ready: </strong> \n",
       "                        </td>\n",
       "                        <td style=\"text-align: left;\">\n",
       "                            <strong>Tasks in flight: </strong>\n",
       "                        </td>\n",
       "                    </tr>\n",
       "                    <tr>\n",
       "                        <td style=\"text-align: left;\">\n",
       "                            <strong>CPU usage:</strong> 4.0%\n",
       "                        </td>\n",
       "                        <td style=\"text-align: left;\">\n",
       "                            <strong>Last seen: </strong> Just now\n",
       "                        </td>\n",
       "                    </tr>\n",
       "                    <tr>\n",
       "                        <td style=\"text-align: left;\">\n",
       "                            <strong>Memory usage: </strong> 151.57 MiB\n",
       "                        </td>\n",
       "                        <td style=\"text-align: left;\">\n",
       "                            <strong>Spilled bytes: </strong> 0 B\n",
       "                        </td>\n",
       "                    </tr>\n",
       "                    <tr>\n",
       "                        <td style=\"text-align: left;\">\n",
       "                            <strong>Read bytes: </strong> 285.9591752384876 B\n",
       "                        </td>\n",
       "                        <td style=\"text-align: left;\">\n",
       "                            <strong>Write bytes: </strong> 1.44 kiB\n",
       "                        </td>\n",
       "                    </tr>\n",
       "                    \n",
       "\n",
       "                </table>\n",
       "            </details>\n",
       "            </div>\n",
       "        </div>\n",
       "        \n",
       "        <div style=\"margin-bottom: 20px;\">\n",
       "            <div style=\"width: 24px; height: 24px; background-color: #DBF5FF; border: 3px solid #4CC9FF; border-radius: 5px; position: absolute;\"> </div>\n",
       "            <div style=\"margin-left: 48px;\">\n",
       "            <details>\n",
       "                <summary>\n",
       "                    <h4 style=\"margin-bottom: 0px; display: inline;\">Worker: dask-davalsecchi-bco5n-default-worker-63128d72e4</h4>\n",
       "                </summary>\n",
       "                <table style=\"width: 100%; text-align: left;\">\n",
       "                    <tr>\n",
       "                        <td style=\"text-align: left;\">\n",
       "                            <strong>Comm: </strong> tcp://10.42.2.135:46437\n",
       "                        </td>\n",
       "                        <td style=\"text-align: left;\">\n",
       "                            <strong>Total threads: </strong> 1\n",
       "                        </td>\n",
       "                    </tr>\n",
       "                    <tr>\n",
       "                        <td style=\"text-align: left;\">\n",
       "                            <strong>Dashboard: </strong> <a href=\"http://10.42.2.135:8788/status\" target=\"_blank\">http://10.42.2.135:8788/status</a>\n",
       "                        </td>\n",
       "                        <td style=\"text-align: left;\">\n",
       "                            <strong>Memory: </strong> 2.00 GiB\n",
       "                        </td>\n",
       "                    </tr>\n",
       "                    <tr>\n",
       "                        <td style=\"text-align: left;\">\n",
       "                            <strong>Nanny: </strong> tcp://10.42.2.135:41057\n",
       "                        </td>\n",
       "                        <td style=\"text-align: left;\"></td>\n",
       "                    </tr>\n",
       "                    <tr>\n",
       "                        <td colspan=\"2\" style=\"text-align: left;\">\n",
       "                            <strong>Local directory: </strong> /tmp/dask-scratch-space/worker-0mw1fxgc\n",
       "                        </td>\n",
       "                    </tr>\n",
       "\n",
       "                    \n",
       "\n",
       "                    \n",
       "                    <tr>\n",
       "                        <td style=\"text-align: left;\">\n",
       "                            <strong>Tasks executing: </strong> \n",
       "                        </td>\n",
       "                        <td style=\"text-align: left;\">\n",
       "                            <strong>Tasks in memory: </strong> \n",
       "                        </td>\n",
       "                    </tr>\n",
       "                    <tr>\n",
       "                        <td style=\"text-align: left;\">\n",
       "                            <strong>Tasks ready: </strong> \n",
       "                        </td>\n",
       "                        <td style=\"text-align: left;\">\n",
       "                            <strong>Tasks in flight: </strong>\n",
       "                        </td>\n",
       "                    </tr>\n",
       "                    <tr>\n",
       "                        <td style=\"text-align: left;\">\n",
       "                            <strong>CPU usage:</strong> 2.0%\n",
       "                        </td>\n",
       "                        <td style=\"text-align: left;\">\n",
       "                            <strong>Last seen: </strong> Just now\n",
       "                        </td>\n",
       "                    </tr>\n",
       "                    <tr>\n",
       "                        <td style=\"text-align: left;\">\n",
       "                            <strong>Memory usage: </strong> 151.82 MiB\n",
       "                        </td>\n",
       "                        <td style=\"text-align: left;\">\n",
       "                            <strong>Spilled bytes: </strong> 0 B\n",
       "                        </td>\n",
       "                    </tr>\n",
       "                    <tr>\n",
       "                        <td style=\"text-align: left;\">\n",
       "                            <strong>Read bytes: </strong> 286.75987525637305 B\n",
       "                        </td>\n",
       "                        <td style=\"text-align: left;\">\n",
       "                            <strong>Write bytes: </strong> 1.45 kiB\n",
       "                        </td>\n",
       "                    </tr>\n",
       "                    \n",
       "\n",
       "                </table>\n",
       "            </details>\n",
       "            </div>\n",
       "        </div>\n",
       "        \n",
       "        <div style=\"margin-bottom: 20px;\">\n",
       "            <div style=\"width: 24px; height: 24px; background-color: #DBF5FF; border: 3px solid #4CC9FF; border-radius: 5px; position: absolute;\"> </div>\n",
       "            <div style=\"margin-left: 48px;\">\n",
       "            <details>\n",
       "                <summary>\n",
       "                    <h4 style=\"margin-bottom: 0px; display: inline;\">Worker: dask-davalsecchi-bco5n-default-worker-732ceb6825</h4>\n",
       "                </summary>\n",
       "                <table style=\"width: 100%; text-align: left;\">\n",
       "                    <tr>\n",
       "                        <td style=\"text-align: left;\">\n",
       "                            <strong>Comm: </strong> tcp://10.42.2.134:33095\n",
       "                        </td>\n",
       "                        <td style=\"text-align: left;\">\n",
       "                            <strong>Total threads: </strong> 1\n",
       "                        </td>\n",
       "                    </tr>\n",
       "                    <tr>\n",
       "                        <td style=\"text-align: left;\">\n",
       "                            <strong>Dashboard: </strong> <a href=\"http://10.42.2.134:8788/status\" target=\"_blank\">http://10.42.2.134:8788/status</a>\n",
       "                        </td>\n",
       "                        <td style=\"text-align: left;\">\n",
       "                            <strong>Memory: </strong> 2.00 GiB\n",
       "                        </td>\n",
       "                    </tr>\n",
       "                    <tr>\n",
       "                        <td style=\"text-align: left;\">\n",
       "                            <strong>Nanny: </strong> tcp://10.42.2.134:42479\n",
       "                        </td>\n",
       "                        <td style=\"text-align: left;\"></td>\n",
       "                    </tr>\n",
       "                    <tr>\n",
       "                        <td colspan=\"2\" style=\"text-align: left;\">\n",
       "                            <strong>Local directory: </strong> /tmp/dask-scratch-space/worker-_dkmqjpi\n",
       "                        </td>\n",
       "                    </tr>\n",
       "\n",
       "                    \n",
       "\n",
       "                    \n",
       "                    <tr>\n",
       "                        <td style=\"text-align: left;\">\n",
       "                            <strong>Tasks executing: </strong> \n",
       "                        </td>\n",
       "                        <td style=\"text-align: left;\">\n",
       "                            <strong>Tasks in memory: </strong> \n",
       "                        </td>\n",
       "                    </tr>\n",
       "                    <tr>\n",
       "                        <td style=\"text-align: left;\">\n",
       "                            <strong>Tasks ready: </strong> \n",
       "                        </td>\n",
       "                        <td style=\"text-align: left;\">\n",
       "                            <strong>Tasks in flight: </strong>\n",
       "                        </td>\n",
       "                    </tr>\n",
       "                    <tr>\n",
       "                        <td style=\"text-align: left;\">\n",
       "                            <strong>CPU usage:</strong> 2.0%\n",
       "                        </td>\n",
       "                        <td style=\"text-align: left;\">\n",
       "                            <strong>Last seen: </strong> Just now\n",
       "                        </td>\n",
       "                    </tr>\n",
       "                    <tr>\n",
       "                        <td style=\"text-align: left;\">\n",
       "                            <strong>Memory usage: </strong> 151.81 MiB\n",
       "                        </td>\n",
       "                        <td style=\"text-align: left;\">\n",
       "                            <strong>Spilled bytes: </strong> 0 B\n",
       "                        </td>\n",
       "                    </tr>\n",
       "                    <tr>\n",
       "                        <td style=\"text-align: left;\">\n",
       "                            <strong>Read bytes: </strong> 286.26095894352386 B\n",
       "                        </td>\n",
       "                        <td style=\"text-align: left;\">\n",
       "                            <strong>Write bytes: </strong> 1.44 kiB\n",
       "                        </td>\n",
       "                    </tr>\n",
       "                    \n",
       "\n",
       "                </table>\n",
       "            </details>\n",
       "            </div>\n",
       "        </div>\n",
       "        \n",
       "        <div style=\"margin-bottom: 20px;\">\n",
       "            <div style=\"width: 24px; height: 24px; background-color: #DBF5FF; border: 3px solid #4CC9FF; border-radius: 5px; position: absolute;\"> </div>\n",
       "            <div style=\"margin-left: 48px;\">\n",
       "            <details>\n",
       "                <summary>\n",
       "                    <h4 style=\"margin-bottom: 0px; display: inline;\">Worker: dask-davalsecchi-bco5n-default-worker-b2ad3e7c0a</h4>\n",
       "                </summary>\n",
       "                <table style=\"width: 100%; text-align: left;\">\n",
       "                    <tr>\n",
       "                        <td style=\"text-align: left;\">\n",
       "                            <strong>Comm: </strong> tcp://10.42.7.147:42287\n",
       "                        </td>\n",
       "                        <td style=\"text-align: left;\">\n",
       "                            <strong>Total threads: </strong> 1\n",
       "                        </td>\n",
       "                    </tr>\n",
       "                    <tr>\n",
       "                        <td style=\"text-align: left;\">\n",
       "                            <strong>Dashboard: </strong> <a href=\"http://10.42.7.147:8788/status\" target=\"_blank\">http://10.42.7.147:8788/status</a>\n",
       "                        </td>\n",
       "                        <td style=\"text-align: left;\">\n",
       "                            <strong>Memory: </strong> 2.00 GiB\n",
       "                        </td>\n",
       "                    </tr>\n",
       "                    <tr>\n",
       "                        <td style=\"text-align: left;\">\n",
       "                            <strong>Nanny: </strong> tcp://10.42.7.147:42311\n",
       "                        </td>\n",
       "                        <td style=\"text-align: left;\"></td>\n",
       "                    </tr>\n",
       "                    <tr>\n",
       "                        <td colspan=\"2\" style=\"text-align: left;\">\n",
       "                            <strong>Local directory: </strong> /tmp/dask-scratch-space/worker-k91wqayj\n",
       "                        </td>\n",
       "                    </tr>\n",
       "\n",
       "                    \n",
       "\n",
       "                    \n",
       "                    <tr>\n",
       "                        <td style=\"text-align: left;\">\n",
       "                            <strong>Tasks executing: </strong> \n",
       "                        </td>\n",
       "                        <td style=\"text-align: left;\">\n",
       "                            <strong>Tasks in memory: </strong> \n",
       "                        </td>\n",
       "                    </tr>\n",
       "                    <tr>\n",
       "                        <td style=\"text-align: left;\">\n",
       "                            <strong>Tasks ready: </strong> \n",
       "                        </td>\n",
       "                        <td style=\"text-align: left;\">\n",
       "                            <strong>Tasks in flight: </strong>\n",
       "                        </td>\n",
       "                    </tr>\n",
       "                    <tr>\n",
       "                        <td style=\"text-align: left;\">\n",
       "                            <strong>CPU usage:</strong> 4.0%\n",
       "                        </td>\n",
       "                        <td style=\"text-align: left;\">\n",
       "                            <strong>Last seen: </strong> Just now\n",
       "                        </td>\n",
       "                    </tr>\n",
       "                    <tr>\n",
       "                        <td style=\"text-align: left;\">\n",
       "                            <strong>Memory usage: </strong> 153.56 MiB\n",
       "                        </td>\n",
       "                        <td style=\"text-align: left;\">\n",
       "                            <strong>Spilled bytes: </strong> 0 B\n",
       "                        </td>\n",
       "                    </tr>\n",
       "                    <tr>\n",
       "                        <td style=\"text-align: left;\">\n",
       "                            <strong>Read bytes: </strong> 369.5078032550555 B\n",
       "                        </td>\n",
       "                        <td style=\"text-align: left;\">\n",
       "                            <strong>Write bytes: </strong> 1.52 kiB\n",
       "                        </td>\n",
       "                    </tr>\n",
       "                    \n",
       "\n",
       "                </table>\n",
       "            </details>\n",
       "            </div>\n",
       "        </div>\n",
       "        \n",
       "        <div style=\"margin-bottom: 20px;\">\n",
       "            <div style=\"width: 24px; height: 24px; background-color: #DBF5FF; border: 3px solid #4CC9FF; border-radius: 5px; position: absolute;\"> </div>\n",
       "            <div style=\"margin-left: 48px;\">\n",
       "            <details>\n",
       "                <summary>\n",
       "                    <h4 style=\"margin-bottom: 0px; display: inline;\">Worker: dask-davalsecchi-bco5n-default-worker-edbd5f1615</h4>\n",
       "                </summary>\n",
       "                <table style=\"width: 100%; text-align: left;\">\n",
       "                    <tr>\n",
       "                        <td style=\"text-align: left;\">\n",
       "                            <strong>Comm: </strong> tcp://10.42.3.164:44609\n",
       "                        </td>\n",
       "                        <td style=\"text-align: left;\">\n",
       "                            <strong>Total threads: </strong> 1\n",
       "                        </td>\n",
       "                    </tr>\n",
       "                    <tr>\n",
       "                        <td style=\"text-align: left;\">\n",
       "                            <strong>Dashboard: </strong> <a href=\"http://10.42.3.164:8788/status\" target=\"_blank\">http://10.42.3.164:8788/status</a>\n",
       "                        </td>\n",
       "                        <td style=\"text-align: left;\">\n",
       "                            <strong>Memory: </strong> 2.00 GiB\n",
       "                        </td>\n",
       "                    </tr>\n",
       "                    <tr>\n",
       "                        <td style=\"text-align: left;\">\n",
       "                            <strong>Nanny: </strong> tcp://10.42.3.164:37345\n",
       "                        </td>\n",
       "                        <td style=\"text-align: left;\"></td>\n",
       "                    </tr>\n",
       "                    <tr>\n",
       "                        <td colspan=\"2\" style=\"text-align: left;\">\n",
       "                            <strong>Local directory: </strong> /tmp/dask-scratch-space/worker-wet8kbxl\n",
       "                        </td>\n",
       "                    </tr>\n",
       "\n",
       "                    \n",
       "\n",
       "                    \n",
       "                    <tr>\n",
       "                        <td style=\"text-align: left;\">\n",
       "                            <strong>Tasks executing: </strong> \n",
       "                        </td>\n",
       "                        <td style=\"text-align: left;\">\n",
       "                            <strong>Tasks in memory: </strong> \n",
       "                        </td>\n",
       "                    </tr>\n",
       "                    <tr>\n",
       "                        <td style=\"text-align: left;\">\n",
       "                            <strong>Tasks ready: </strong> \n",
       "                        </td>\n",
       "                        <td style=\"text-align: left;\">\n",
       "                            <strong>Tasks in flight: </strong>\n",
       "                        </td>\n",
       "                    </tr>\n",
       "                    <tr>\n",
       "                        <td style=\"text-align: left;\">\n",
       "                            <strong>CPU usage:</strong> 4.0%\n",
       "                        </td>\n",
       "                        <td style=\"text-align: left;\">\n",
       "                            <strong>Last seen: </strong> Just now\n",
       "                        </td>\n",
       "                    </tr>\n",
       "                    <tr>\n",
       "                        <td style=\"text-align: left;\">\n",
       "                            <strong>Memory usage: </strong> 151.94 MiB\n",
       "                        </td>\n",
       "                        <td style=\"text-align: left;\">\n",
       "                            <strong>Spilled bytes: </strong> 0 B\n",
       "                        </td>\n",
       "                    </tr>\n",
       "                    <tr>\n",
       "                        <td style=\"text-align: left;\">\n",
       "                            <strong>Read bytes: </strong> 285.9970327998089 B\n",
       "                        </td>\n",
       "                        <td style=\"text-align: left;\">\n",
       "                            <strong>Write bytes: </strong> 1.44 kiB\n",
       "                        </td>\n",
       "                    </tr>\n",
       "                    \n",
       "\n",
       "                </table>\n",
       "            </details>\n",
       "            </div>\n",
       "        </div>\n",
       "        \n",
       "\n",
       "    </details>\n",
       "</div>\n",
       "            </details>\n",
       "        \n",
       "\n",
       "    </div>\n",
       "</div>"
      ],
      "text/plain": [
       "<Client: 'tcp://10.42.1.160:8786' processes=5 threads=5, memory=10.00 GiB>"
      ]
     },
     "execution_count": 26,
     "metadata": {},
     "output_type": "execute_result"
    },
    {
     "name": "stderr",
     "output_type": "stream",
     "text": [
      "2025-01-08 18:38:36,261 - distributed.client - ERROR - Failed to reconnect to scheduler after 30.00 seconds, closing client\n"
     ]
    }
   ],
   "source": [
    "from dask.distributed import Client\n",
    "\n",
    "client = Client(\"tcp://dask-davalsecchi-bco5n-scheduler.jhub:8786\")\n",
    "client"
   ]
  },
  {
   "cell_type": "code",
   "execution_count": 27,
   "id": "3591f535-566b-4321-8b50-ed80b1f0e55e",
   "metadata": {},
   "outputs": [
    {
     "name": "stdout",
     "output_type": "stream",
     "text": [
      "[########################################] | 100% Completed |  1min 41.0s\u001b[2K\r"
     ]
    }
   ],
   "source": [
    "dask_executor = processor.dask_executor(client=client, \n",
    "                                   treereduction=20,  # number of elements for map-reduce\n",
    "                                   retries = 5)\n",
    "\n",
    "run = processor.Runner(\n",
    "            executor=dask_executor,\n",
    "            chunksize=50000,\n",
    "            maxchunks=50,\n",
    "            #skipbadfiles=True,\n",
    "            schema=processor.NanoAODSchema,\n",
    "            format=\"root\",\n",
    "        )\n",
    "output = run(fileset,\n",
    "             treename=\"Events\",\n",
    "             processor_instance=MyProcessor())\n",
    "        "
   ]
  },
  {
   "cell_type": "code",
   "execution_count": 23,
   "id": "cbee0e54-72fb-4f7b-b08f-1cc163b1db53",
   "metadata": {},
   "outputs": [
    {
     "data": {
      "text/plain": [
       "{'DoubleMuon': {'sumw': 2502857,\n",
       "  'histograms': {'mass': Hist(\n",
       "     StrCategory(['ee', 'eeSS', 'mm', 'mmSS'], name='region'),\n",
       "     StrCategory(['nominal'], name='systematic'),\n",
       "     Regular(60, 60, 120, name='mass', label='$m_{ll}$ [GeV]'),\n",
       "     storage=Weight()) # Sum: WeightedSum(value=327911, variance=327911) (WeightedSum(value=760631, variance=760631) with flow),\n",
       "   'lepton_pt': Hist(\n",
       "     StrCategory(['ee', 'eeSS', 'mm', 'mmSS'], name='region'),\n",
       "     StrCategory(['nominal'], name='systematic'),\n",
       "     Regular(30, 10, 120, name='leppt', label='Lepton $p_T$ [GeV]'),\n",
       "     storage=Weight()) # Sum: WeightedSum(value=752747, variance=752747) (WeightedSum(value=760631, variance=760631) with flow)}},\n",
       " 'DYJetsToLL': {'sumw': 2498743.0,\n",
       "  'histograms': {'mass': Hist(\n",
       "     StrCategory(['ee', 'eeSS', 'mm', 'mmSS'], name='region'),\n",
       "     StrCategory(['nominal', 'alphaSDown', 'alphaSUp', 'lumiDown', 'lumiUp'], name='systematic'),\n",
       "     Regular(60, 60, 120, name='mass', label='$m_{ll}$ [GeV]'),\n",
       "     storage=Weight()) # Sum: WeightedSum(value=1.43508e+14, variance=6.67945e+21) (WeightedSum(value=1.60919e+14, variance=7.48979e+21) with flow),\n",
       "   'lepton_pt': Hist(\n",
       "     StrCategory(['ee', 'eeSS', 'mm', 'mmSS'], name='region'),\n",
       "     StrCategory(['nominal', 'alphaSDown', 'alphaSUp', 'lumiDown', 'lumiUp'], name='systematic'),\n",
       "     Regular(30, 10, 120, name='leppt', label='Lepton $p_T$ [GeV]'),\n",
       "     storage=Weight()) # Sum: WeightedSum(value=1.59595e+14, variance=7.42818e+21) (WeightedSum(value=1.60919e+14, variance=7.48979e+21) with flow)}},\n",
       " 'DoubleEG': {'sumw': 2512892,\n",
       "  'histograms': {'mass': Hist(\n",
       "     StrCategory(['ee', 'eeSS', 'mm', 'mmSS'], name='region'),\n",
       "     StrCategory(['nominal'], name='systematic'),\n",
       "     Regular(60, 60, 120, name='mass', label='$m_{ll}$ [GeV]'),\n",
       "     storage=Weight()) # Sum: WeightedSum(value=286126, variance=286126) (WeightedSum(value=567700, variance=567700) with flow),\n",
       "   'lepton_pt': Hist(\n",
       "     StrCategory(['ee', 'eeSS', 'mm', 'mmSS'], name='region'),\n",
       "     StrCategory(['nominal'], name='systematic'),\n",
       "     Regular(30, 10, 120, name='leppt', label='Lepton $p_T$ [GeV]'),\n",
       "     storage=Weight()) # Sum: WeightedSum(value=538682, variance=538682) (WeightedSum(value=567700, variance=567700) with flow)}}}"
      ]
     },
     "execution_count": 23,
     "metadata": {},
     "output_type": "execute_result"
    }
   ],
   "source": [
    "output"
   ]
  },
  {
   "cell_type": "code",
   "execution_count": 24,
   "id": "88b48548-0f8f-4afc-a7bb-43c239c17b2b",
   "metadata": {},
   "outputs": [
    {
     "data": {
      "text/plain": [
       "<matplotlib.legend.Legend at 0x7dc7546f2fd0>"
      ]
     },
     "execution_count": 24,
     "metadata": {},
     "output_type": "execute_result"
    },
    {
     "data": {
      "image/png": "[encoded data removed]",
      "text/plain": [
       "<Figure size 1000x1000 with 1 Axes>"
      ]
     },
     "metadata": {},
     "output_type": "display_data"
    }
   ],
   "source": [
    "h_Data = output[\"DoubleMuon\"][\"histograms\"][\"mass\"][{\"region\":\"mm\", \"systematic\":\"nominal\"}]\n",
    "h_MC = output[\"DYJetsToLL\"][\"histograms\"][\"mass\"][{\"region\":\"mm\", \"systematic\":\"nominal\"}]\n",
    "\n",
    "rescaling = (h_Data.sum().value / h_MC.sum().value)\n",
    "h_MC *= rescaling  # rescaling just for plotting \n",
    "\n",
    "h_MC.plot(label=\"MC\", histtype=\"fill\")\n",
    "plt.errorbar(h_Data.axes[0].centers, h_Data.values(), \n",
    "             yerr= np.sqrt(h_Data.variances()), \n",
    "             marker=\".\", c=\"black\", linestyle=\"none\",\n",
    "            label=\"Data\")\n",
    "\n",
    "plt.legend()"
   ]
  },
  {
   "cell_type": "markdown",
   "id": "6f800772-fa95-481c-9705-7803e208f0ab",
   "metadata": {},
   "source": [
    "# Exercise"
   ]
  },
  {
   "cell_type": "markdown",
   "id": "c60cb56e-81d7-4e38-86dc-8ea5792eea31",
   "metadata": {},
   "source": [
    "1. Add a new category in the Z analysis, low and high Jet HT (sum of the absolute value of Jets pt)\n",
    "2. Add this category as a new axis in the output histogram. "
   ]
  },
  {
   "cell_type": "code",
   "execution_count": null,
   "id": "d1778ba2-0412-4508-88d9-2503323f2b46",
   "metadata": {},
   "outputs": [],
   "source": []
  }
 ],
 "metadata": {
  "kernelspec": {
   "display_name": "Python 3 (ipykernel)",
   "language": "python",
   "name": "python3"
  },
  "language_info": {
   "codemirror_mode": {
    "name": "ipython",
    "version": 3
   },
   "file_extension": ".py",
   "mimetype": "text/x-python",
   "name": "python",
   "nbconvert_exporter": "python",
   "pygments_lexer": "ipython3",
   "version": "3.11.8"
  }
 },
 "nbformat": 4,
 "nbformat_minor": 5
}
