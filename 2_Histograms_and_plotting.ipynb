{
 "cells": [
  {
   "cell_type": "code",
   "execution_count": 26,
   "id": "c1f1dbd8-7390-4504-8259-c05e4f49f9ce",
   "metadata": {},
   "outputs": [],
   "source": [
    "import uproot\n",
    "import awkward as ak\n",
    "import numpy as np\n",
    "import hist\n",
    "import matplotlib.pyplot as plt\n",
    "from matplotlib.colors import LogNorm\n",
    "import mplhep"
   ]
  },
  {
   "cell_type": "code",
   "execution_count": 17,
   "id": "c04f430a-5800-4657-a932-61c53e785017",
   "metadata": {},
   "outputs": [],
   "source": [
    "cms_opendata_file = \"root://eospublic.cern.ch//eos/opendata/cms/mc/RunIISummer20UL16NanoAODv9/DYJetsToLL_M-50_TuneCP5_13TeV-madgraphMLM-pythia8/NANOAODSIM/106X_mcRun2_asymptotic_v17-v1/40000/14B6A8AE-C9FE-D744-80A4-DDE5D008C1CD.root\"\n",
    "tree = uproot.open(f\"{cms_opendata_file}:Events\")\n",
    "\n",
    "events = tree.arrays(entry_stop=10000)"
   ]
  },
  {
   "cell_type": "markdown",
   "id": "16375239-a9b5-4a42-9c0c-9d4418dff96a",
   "metadata": {},
   "source": [
    "# Histograms with numpy"
   ]
  },
  {
   "cell_type": "code",
   "execution_count": 18,
   "id": "efa7f899-6f68-41fb-8b0f-5617ce1e46e6",
   "metadata": {},
   "outputs": [
    {
     "data": {
      "text/plain": [
       "(array([   0,    0,    0, 3637, 8295, 4031, 2741, 2032, 1775, 1772, 1671,\n",
       "        1675, 1533, 1061,  890,  580,  352,  247,  207,  135,  116,   97,\n",
       "          76,   61,   44,   29,   31,   23,   34,   12,   16,   22,   14,\n",
       "          16,   10,    9,    9,   12,    2,    5,    3,    2,    5,    4,\n",
       "           4,    2,    5,    3,    4,    2]),\n",
       " array([  0.,   4.,   8.,  12.,  16.,  20.,  24.,  28.,  32.,  36.,  40.,\n",
       "         44.,  48.,  52.,  56.,  60.,  64.,  68.,  72.,  76.,  80.,  84.,\n",
       "         88.,  92.,  96., 100., 104., 108., 112., 116., 120., 124., 128.,\n",
       "        132., 136., 140., 144., 148., 152., 156., 160., 164., 168., 172.,\n",
       "        176., 180., 184., 188., 192., 196., 200.], dtype=float32))"
      ]
     },
     "execution_count": 18,
     "metadata": {},
     "output_type": "execute_result"
    }
   ],
   "source": [
    "counts, bins = np.histogram(ak.flatten(events.Jet_pt, axis=1).to_numpy(), \n",
    "             bins=50, \n",
    "             range=(0, 200))\n",
    "counts, bins"
   ]
  },
  {
   "cell_type": "code",
   "execution_count": 21,
   "id": "e4c1e4eb-fa4e-4ba6-9119-6fef091fafc6",
   "metadata": {},
   "outputs": [
    {
     "data": {
      "text/plain": [
       "(array([[0., 0., 0., ..., 0., 0., 0.],\n",
       "        [0., 0., 0., ..., 0., 0., 0.],\n",
       "        [0., 0., 0., ..., 0., 0., 0.],\n",
       "        ...,\n",
       "        [0., 0., 0., ..., 0., 0., 0.],\n",
       "        [0., 0., 0., ..., 0., 0., 0.],\n",
       "        [0., 0., 0., ..., 0., 0., 0.]]),\n",
       " array([  0.,   4.,   8.,  12.,  16.,  20.,  24.,  28.,  32.,  36.,  40.,\n",
       "         44.,  48.,  52.,  56.,  60.,  64.,  68.,  72.,  76.,  80.,  84.,\n",
       "         88.,  92.,  96., 100., 104., 108., 112., 116., 120., 124., 128.,\n",
       "        132., 136., 140., 144., 148., 152., 156., 160., 164., 168., 172.,\n",
       "        176., 180., 184., 188., 192., 196., 200.]),\n",
       " array([-3.  , -2.88, -2.76, -2.64, -2.52, -2.4 , -2.28, -2.16, -2.04,\n",
       "        -1.92, -1.8 , -1.68, -1.56, -1.44, -1.32, -1.2 , -1.08, -0.96,\n",
       "        -0.84, -0.72, -0.6 , -0.48, -0.36, -0.24, -0.12,  0.  ,  0.12,\n",
       "         0.24,  0.36,  0.48,  0.6 ,  0.72,  0.84,  0.96,  1.08,  1.2 ,\n",
       "         1.32,  1.44,  1.56,  1.68,  1.8 ,  1.92,  2.04,  2.16,  2.28,\n",
       "         2.4 ,  2.52,  2.64,  2.76,  2.88,  3.  ]))"
      ]
     },
     "execution_count": 21,
     "metadata": {},
     "output_type": "execute_result"
    }
   ],
   "source": [
    "counts, xbins, ybins = np.histogram2d(ak.flatten(events.Jet_pt, axis=1).to_numpy(), \n",
    "                   ak.flatten(events.Jet_eta, axis=1).to_numpy(),\n",
    "             bins=(50,50), \n",
    "             range=((0, 200), (-3,3)))\n",
    "counts, xbins, ybins"
   ]
  },
  {
   "cell_type": "markdown",
   "id": "581a1024-c8cc-4790-a8c6-97b62b5ff8bd",
   "metadata": {},
   "source": [
    "# Histogram with matplotlib"
   ]
  },
  {
   "cell_type": "code",
   "execution_count": 23,
   "id": "bd7c4f87-e322-4b55-b9b5-5619fdd7bfcf",
   "metadata": {},
   "outputs": [
    {
     "data": {
      "text/plain": [
       "(array([5627., 3777., 2686., 1990., 1525., 1312., 1088., 1016.,  863.,\n",
       "         852.,  785.,  737.,  766.,  766.,  693.,  737.,  695.,  707.,\n",
       "         727.,  701.,  632.,  603.,  487.,  413.,  413.,  365.,  309.,\n",
       "         252.,  199.,  152.,  156.,  113.,   98.,   98.,   85.,   83.,\n",
       "          60.,   54.,   57.,   39.,   51.,   46.,   33.,   46.,   21.,\n",
       "          26.,   29.,   20.,   20.,   18.]),\n",
       " array([ 15.        ,  16.70000076,  18.39999962,  20.10000038,\n",
       "         21.79999924,  23.5       ,  25.20000076,  26.89999962,\n",
       "         28.60000038,  30.29999924,  32.        ,  33.70000076,\n",
       "         35.40000153,  37.09999847,  38.79999924,  40.5       ,\n",
       "         42.20000076,  43.90000153,  45.59999847,  47.29999924,\n",
       "         49.        ,  50.70000076,  52.40000153,  54.09999847,\n",
       "         55.79999924,  57.5       ,  59.20000076,  60.90000153,\n",
       "         62.59999847,  64.30000305,  66.        ,  67.69999695,\n",
       "         69.40000153,  71.09999847,  72.80000305,  74.5       ,\n",
       "         76.19999695,  77.90000153,  79.59999847,  81.30000305,\n",
       "         83.        ,  84.69999695,  86.40000153,  88.09999847,\n",
       "         89.80000305,  91.5       ,  93.19999695,  94.90000153,\n",
       "         96.59999847,  98.30000305, 100.        ]),\n",
       " <BarContainer object of 50 artists>)"
      ]
     },
     "execution_count": 23,
     "metadata": {},
     "output_type": "execute_result"
    },
    {
     "data": {
      "image/png": "[encoded data removed]",
      "text/plain": [
       "<Figure size 640x480 with 1 Axes>"
      ]
     },
     "metadata": {},
     "output_type": "display_data"
    }
   ],
   "source": [
    "plt.hist(ak.flatten(events.Jet_pt, axis=1).to_numpy(), \n",
    "             bins=50, \n",
    "             range=(15, 100))"
   ]
  },
  {
   "cell_type": "code",
   "execution_count": 34,
   "id": "d0d852d2-a84f-446f-a2ed-d124291482bc",
   "metadata": {},
   "outputs": [
    {
     "data": {
      "text/plain": [
       "Text(0, 0.5, 'Jets $\\\\phi$')"
      ]
     },
     "execution_count": 34,
     "metadata": {},
     "output_type": "execute_result"
    },
    {
     "data": {
      "image/png": "[encoded data removed]",
      "text/plain": [
       "<Figure size 640x480 with 1 Axes>"
      ]
     },
     "metadata": {},
     "output_type": "display_data"
    }
   ],
   "source": [
    "plt.hist2d(\n",
    "        ak.flatten(events.Jet_eta, axis=1).to_numpy(),\n",
    "        ak.flatten(events.Jet_phi, axis=1).to_numpy(), \n",
    "        bins=(20,20), \n",
    "        range=((-3, -3), (-np.pi,np.pi)), \n",
    "        norm=LogNorm()\n",
    ");\n",
    "plt.xlabel(\"Jets $\\eta$\")\n",
    "plt.ylabel(\"Jets $\\phi$\")"
   ]
  },
  {
   "cell_type": "markdown",
   "id": "80bf3ded-5476-415f-95ed-bc8ab4d68b24",
   "metadata": {},
   "source": [
    "# Histograms with boost.hist"
   ]
  },
  {
   "cell_type": "markdown",
   "id": "61eb732f-aef5-4984-93a1-401e0ae60ef8",
   "metadata": {},
   "source": [
    "https://hist.readthedocs.io/en/latest/\n",
    "\n",
    "Hist is a powerful Histogramming tool for analysis based on boost-histogram (the Python binding of the Histogram library in Boost)."
   ]
  },
  {
   "cell_type": "code",
   "execution_count": 35,
   "id": "5c3d06ae-8bd4-4738-8769-f1064a705c6b",
   "metadata": {},
   "outputs": [],
   "source": [
    "import hist\n",
    "from hist import Hist"
   ]
  },
  {
   "cell_type": "code",
   "execution_count": 40,
   "id": "79488a36-03a7-46a4-adaa-cb119ab4e5a4",
   "metadata": {},
   "outputs": [
    {
     "data": {
      "text/html": [
       "<html>\n",
       "<div style=\"display:flex; align-items:center;\">\n",
       "<div style=\"width:290px;\">\n",
       "<svg xmlns=\"http://www.w3.org/2000/svg\" viewBox=\"-10 -105 270 120\">\n",
       "<line x1=\"-5\" y1=\"0\" x2=\"255\" y2=\"0\" style=\"fill:none;stroke-width:2;stroke:currentColor\"/>\n",
       "<text text-anchor=\"middle\" x=\"0\" y=\"15\" style=\"fill:currentColor;\">\n",
       "0\n",
       "</text>\n",
       "<text text-anchor=\"middle\" x=\"250\" y=\"15\" style=\"fill:currentColor;\">\n",
       "100\n",
       "</text>\n",
       "<text text-anchor=\"middle\" x=\"125.0\" y=\"15\" style=\"fill:currentColor;\">\n",
       "MET\n",
       "</text>\n",
       "<polyline points=\"  0,0   0,-0  25,-0  25,-0  50,-0  50,-0  75,-0  75,-0 100,-0 100,-0 125,-0 125,-0 150,-0 150,-0 175,-0 175,-0 200,-0 200,-0 225,-0 225,-0 250,-0 250,0\" style=\"fill:none; stroke:currentColor;\"/>\n",
       "</svg>\n",
       "</div>\n",
       "<div style=\"flex=grow:1;\">\n",
       "Regular(10, 0, 100, name='MET')<br/>\n",
       "<hr style=\"margin-top:.2em; margin-bottom:.2em;\"/>\n",
       "Double() Σ=0.0\n",
       "\n",
       "</div>\n",
       "</div>\n",
       "</html>"
      ],
      "text/plain": [
       "Hist(Regular(10, 0, 100, name='MET'), storage=Double())"
      ]
     },
     "execution_count": 40,
     "metadata": {},
     "output_type": "execute_result"
    }
   ],
   "source": [
    "h = Hist(hist.axis.Regular(bins=10, start=0, stop=100, name=\"MET\"))\n",
    "h"
   ]
  },
  {
   "cell_type": "code",
   "execution_count": 41,
   "id": "223c889c-edaf-4511-a841-dbbf31aefade",
   "metadata": {},
   "outputs": [
    {
     "data": {
      "text/html": [
       "<html>\n",
       "<div style=\"display:flex; align-items:center;\">\n",
       "<div style=\"width:290px;\">\n",
       "<svg xmlns=\"http://www.w3.org/2000/svg\" viewBox=\"-10 -105 270 120\">\n",
       "<line x1=\"-5\" y1=\"0\" x2=\"255\" y2=\"0\" style=\"fill:none;stroke-width:2;stroke:currentColor\"/>\n",
       "<text text-anchor=\"middle\" x=\"0\" y=\"15\" style=\"fill:currentColor;\">\n",
       "0\n",
       "</text>\n",
       "<text text-anchor=\"middle\" x=\"250\" y=\"15\" style=\"fill:currentColor;\">\n",
       "100\n",
       "</text>\n",
       "<text text-anchor=\"middle\" x=\"125.0\" y=\"15\" style=\"fill:currentColor;\">\n",
       "MET\n",
       "</text>\n",
       "<polyline points=\"  0,0   0,-44.3  25,-44.3  25,-100  50,-100  50,-93.5  75,-93.5  75,-67.4 100,-67.4 100,-42.4 125,-42.4 125,-21 150,-21 150,-11.1 175,-11.1 175,-4.74 200,-4.74 200,-2.14 225,-2.14 225,-0.738 250,-0.738 250,0\" style=\"fill:none; stroke:currentColor;\"/>\n",
       "</svg>\n",
       "</div>\n",
       "<div style=\"flex=grow:1;\">\n",
       "Regular(10, 0, 100, name='MET')<br/>\n",
       "<hr style=\"margin-top:.2em; margin-bottom:.2em;\"/>\n",
       "Double() Σ=9969.0 <em>(10000.0 with flow)</em>\n",
       "\n",
       "</div>\n",
       "</div>\n",
       "</html>"
      ],
      "text/plain": [
       "Hist(Regular(10, 0, 100, name='MET'), storage=Double()) # Sum: 9969.0 (10000.0 with flow)"
      ]
     },
     "execution_count": 41,
     "metadata": {},
     "output_type": "execute_result"
    }
   ],
   "source": [
    "h.fill(events.MET_pt)"
   ]
  },
  {
   "cell_type": "markdown",
   "id": "8aa04ef0-dccb-4d35-beeb-65a81e8bc453",
   "metadata": {},
   "source": [
    "Now multidim"
   ]
  },
  {
   "cell_type": "code",
   "execution_count": 62,
   "id": "fcd7123b-eb3a-4cf6-bc78-6812cc5bda89",
   "metadata": {},
   "outputs": [
    {
     "data": {
      "text/html": [
       "<html>\n",
       "<div style=\"display:flex; align-items:center;\">\n",
       "<div style=\"width:290px;\">\n",
       "<svg xmlns=\"http://www.w3.org/2000/svg\" viewBox=\"-20 -270 290 290\">\n",
       "<text text-anchor=\"middle\" x=\"0\" y=\"13\" style=\"fill:currentColor;\">\n",
       "-3\n",
       "</text>\n",
       "<text text-anchor=\"middle\" x=\"250\" y=\"13\" style=\"fill:currentColor;\">\n",
       "3\n",
       "</text>\n",
       "<text text-anchor=\"middle\" x=\"-10\" y=\"0\" style=\"fill:currentColor;\">\n",
       "-3.14\n",
       "</text>\n",
       "<text text-anchor=\"middle\" x=\"-10\" y=\"-250\" style=\"fill:currentColor;\">\n",
       "3.14\n",
       "</text>\n",
       "<text text-anchor=\"middle\" x=\"125.0\" y=\"13\" style=\"fill:currentColor;\">\n",
       "eta\n",
       "</text>\n",
       "<text text-anchor=\"middle\" x=\"-10\" y=\"-125.0\" transform=\"rotate(-90,-10,-125.0)\" style=\"fill:currentColor;\">\n",
       "phi\n",
       "</text>\n",
       "<rect x=\"0.0\" y=\"-25.000000000000004\" width=\"25.0\" height=\"25.0\" opacity=\"0.7746913580246915\" fill=\"currentColor\" stroke-width=\"0.1\"/>\n",
       "<rect x=\"24.999999999999986\" y=\"-25.000000000000004\" width=\"25.0\" height=\"25.0\" opacity=\"0.7654320987654316\" fill=\"currentColor\" stroke-width=\"0.1\"/>\n",
       "<rect x=\"49.999999999999986\" y=\"-25.000000000000004\" width=\"25.0\" height=\"25.0\" opacity=\"0.8179012345679001\" fill=\"currentColor\" stroke-width=\"0.1\"/>\n",
       "<rect x=\"75.00000000000001\" y=\"-25.000000000000004\" width=\"25.0\" height=\"25.0\" opacity=\"0.7993827160493822\" fill=\"currentColor\" stroke-width=\"0.1\"/>\n",
       "<rect x=\"100.00000000000001\" y=\"-25.000000000000004\" width=\"25.0\" height=\"25.0\" opacity=\"0.8395061728395062\" fill=\"currentColor\" stroke-width=\"0.1\"/>\n",
       "<rect x=\"125.0\" y=\"-25.000000000000004\" width=\"25.0\" height=\"25.0\" opacity=\"0.9074074074074076\" fill=\"currentColor\" stroke-width=\"0.1\"/>\n",
       "<rect x=\"150.0\" y=\"-25.000000000000004\" width=\"25.0\" height=\"25.0\" opacity=\"0.7592592592592591\" fill=\"currentColor\" stroke-width=\"0.1\"/>\n",
       "<rect x=\"174.99999999999997\" y=\"-25.000000000000004\" width=\"25.0\" height=\"25.0\" opacity=\"0.7654320987654304\" fill=\"currentColor\" stroke-width=\"0.1\"/>\n",
       "<rect x=\"200.00000000000003\" y=\"-25.000000000000004\" width=\"25.0\" height=\"25.0\" opacity=\"0.7654320987654318\" fill=\"currentColor\" stroke-width=\"0.1\"/>\n",
       "<rect x=\"225.0\" y=\"-25.000000000000004\" width=\"25.0\" height=\"25.0\" opacity=\"0.6604938271604939\" fill=\"currentColor\" stroke-width=\"0.1\"/>\n",
       "<rect x=\"0.0\" y=\"-49.999999999999986\" width=\"25.0\" height=\"25.0\" opacity=\"0.8117283950617291\" fill=\"currentColor\" stroke-width=\"0.1\"/>\n",
       "<rect x=\"24.999999999999986\" y=\"-49.999999999999986\" width=\"25.0\" height=\"25.0\" opacity=\"0.6450617283950617\" fill=\"currentColor\" stroke-width=\"0.1\"/>\n",
       "<rect x=\"49.999999999999986\" y=\"-49.999999999999986\" width=\"25.0\" height=\"25.0\" opacity=\"0.7870370370370365\" fill=\"currentColor\" stroke-width=\"0.1\"/>\n",
       "<rect x=\"75.00000000000001\" y=\"-49.999999999999986\" width=\"25.0\" height=\"25.0\" opacity=\"0.910493827160494\" fill=\"currentColor\" stroke-width=\"0.1\"/>\n",
       "<rect x=\"100.00000000000001\" y=\"-49.999999999999986\" width=\"25.0\" height=\"25.0\" opacity=\"0.8055555555555562\" fill=\"currentColor\" stroke-width=\"0.1\"/>\n",
       "<rect x=\"125.0\" y=\"-49.999999999999986\" width=\"25.0\" height=\"25.0\" opacity=\"0.8456790123456797\" fill=\"currentColor\" stroke-width=\"0.1\"/>\n",
       "<rect x=\"150.0\" y=\"-49.999999999999986\" width=\"25.0\" height=\"25.0\" opacity=\"0.7993827160493832\" fill=\"currentColor\" stroke-width=\"0.1\"/>\n",
       "<rect x=\"174.99999999999997\" y=\"-49.999999999999986\" width=\"25.0\" height=\"25.0\" opacity=\"0.8456790123456778\" fill=\"currentColor\" stroke-width=\"0.1\"/>\n",
       "<rect x=\"200.00000000000003\" y=\"-49.999999999999986\" width=\"25.0\" height=\"25.0\" opacity=\"0.8086419753086423\" fill=\"currentColor\" stroke-width=\"0.1\"/>\n",
       "<rect x=\"225.0\" y=\"-49.999999999999986\" width=\"25.0\" height=\"25.0\" opacity=\"0.7469135802469141\" fill=\"currentColor\" stroke-width=\"0.1\"/>\n",
       "<rect x=\"0.0\" y=\"-75.0\" width=\"25.0\" height=\"25.0\" opacity=\"0.6790123456790121\" fill=\"currentColor\" stroke-width=\"0.1\"/>\n",
       "<rect x=\"24.999999999999986\" y=\"-75.0\" width=\"25.0\" height=\"25.0\" opacity=\"0.5956790123456783\" fill=\"currentColor\" stroke-width=\"0.1\"/>\n",
       "<rect x=\"49.999999999999986\" y=\"-75.0\" width=\"25.0\" height=\"25.0\" opacity=\"0.9043209876543193\" fill=\"currentColor\" stroke-width=\"0.1\"/>\n",
       "<rect x=\"75.00000000000001\" y=\"-75.0\" width=\"25.0\" height=\"25.0\" opacity=\"0.8333333333333325\" fill=\"currentColor\" stroke-width=\"0.1\"/>\n",
       "<rect x=\"100.00000000000001\" y=\"-75.0\" width=\"25.0\" height=\"25.0\" opacity=\"0.8580246913580245\" fill=\"currentColor\" stroke-width=\"0.1\"/>\n",
       "<rect x=\"125.0\" y=\"-75.0\" width=\"25.0\" height=\"25.0\" opacity=\"0.8302469135802467\" fill=\"currentColor\" stroke-width=\"0.1\"/>\n",
       "<rect x=\"150.0\" y=\"-75.0\" width=\"25.0\" height=\"25.0\" opacity=\"0.8086419753086413\" fill=\"currentColor\" stroke-width=\"0.1\"/>\n",
       "<rect x=\"174.99999999999997\" y=\"-75.0\" width=\"25.0\" height=\"25.0\" opacity=\"0.8641975308641954\" fill=\"currentColor\" stroke-width=\"0.1\"/>\n",
       "<rect x=\"200.00000000000003\" y=\"-75.0\" width=\"25.0\" height=\"25.0\" opacity=\"0.7654320987654316\" fill=\"currentColor\" stroke-width=\"0.1\"/>\n",
       "<rect x=\"225.0\" y=\"-75.0\" width=\"25.0\" height=\"25.0\" opacity=\"0.7283950617283949\" fill=\"currentColor\" stroke-width=\"0.1\"/>\n",
       "<rect x=\"0.0\" y=\"-100.00000000000001\" width=\"25.0\" height=\"25.0\" opacity=\"0.7777777777777776\" fill=\"currentColor\" stroke-width=\"0.1\"/>\n",
       "<rect x=\"24.999999999999986\" y=\"-100.00000000000001\" width=\"25.0\" height=\"25.0\" opacity=\"0.7499999999999992\" fill=\"currentColor\" stroke-width=\"0.1\"/>\n",
       "<rect x=\"49.999999999999986\" y=\"-100.00000000000001\" width=\"25.0\" height=\"25.0\" opacity=\"0.8981481481481465\" fill=\"currentColor\" stroke-width=\"0.1\"/>\n",
       "<rect x=\"75.00000000000001\" y=\"-100.00000000000001\" width=\"25.0\" height=\"25.0\" opacity=\"0.8487654320987646\" fill=\"currentColor\" stroke-width=\"0.1\"/>\n",
       "<rect x=\"100.00000000000001\" y=\"-100.00000000000001\" width=\"25.0\" height=\"25.0\" opacity=\"0.7962962962962961\" fill=\"currentColor\" stroke-width=\"0.1\"/>\n",
       "<rect x=\"125.0\" y=\"-100.00000000000001\" width=\"25.0\" height=\"25.0\" opacity=\"0.8796296296296294\" fill=\"currentColor\" stroke-width=\"0.1\"/>\n",
       "<rect x=\"150.0\" y=\"-100.00000000000001\" width=\"25.0\" height=\"25.0\" opacity=\"0.7962962962962957\" fill=\"currentColor\" stroke-width=\"0.1\"/>\n",
       "<rect x=\"174.99999999999997\" y=\"-100.00000000000001\" width=\"25.0\" height=\"25.0\" opacity=\"0.8611111111111089\" fill=\"currentColor\" stroke-width=\"0.1\"/>\n",
       "<rect x=\"200.00000000000003\" y=\"-100.00000000000001\" width=\"25.0\" height=\"25.0\" opacity=\"0.8456790123456784\" fill=\"currentColor\" stroke-width=\"0.1\"/>\n",
       "<rect x=\"225.0\" y=\"-100.00000000000001\" width=\"25.0\" height=\"25.0\" opacity=\"0.8271604938271603\" fill=\"currentColor\" stroke-width=\"0.1\"/>\n",
       "<rect x=\"0.0\" y=\"-125.0\" width=\"25.0\" height=\"25.0\" opacity=\"0.7746913580246919\" fill=\"currentColor\" stroke-width=\"0.1\"/>\n",
       "<rect x=\"24.999999999999986\" y=\"-125.0\" width=\"25.0\" height=\"25.0\" opacity=\"0.8765432098765433\" fill=\"currentColor\" stroke-width=\"0.1\"/>\n",
       "<rect x=\"49.999999999999986\" y=\"-125.0\" width=\"25.0\" height=\"25.0\" opacity=\"0.8395061728395056\" fill=\"currentColor\" stroke-width=\"0.1\"/>\n",
       "<rect x=\"75.00000000000001\" y=\"-125.0\" width=\"25.0\" height=\"25.0\" opacity=\"1.0\" fill=\"currentColor\" stroke-width=\"0.1\"/>\n",
       "<rect x=\"100.00000000000001\" y=\"-125.0\" width=\"25.0\" height=\"25.0\" opacity=\"0.8395061728395069\" fill=\"currentColor\" stroke-width=\"0.1\"/>\n",
       "<rect x=\"125.0\" y=\"-125.0\" width=\"25.0\" height=\"25.0\" opacity=\"0.854938271604939\" fill=\"currentColor\" stroke-width=\"0.1\"/>\n",
       "<rect x=\"150.0\" y=\"-125.0\" width=\"25.0\" height=\"25.0\" opacity=\"0.8148148148148152\" fill=\"currentColor\" stroke-width=\"0.1\"/>\n",
       "<rect x=\"174.99999999999997\" y=\"-125.0\" width=\"25.0\" height=\"25.0\" opacity=\"0.8333333333333321\" fill=\"currentColor\" stroke-width=\"0.1\"/>\n",
       "<rect x=\"200.00000000000003\" y=\"-125.0\" width=\"25.0\" height=\"25.0\" opacity=\"0.762345679012346\" fill=\"currentColor\" stroke-width=\"0.1\"/>\n",
       "<rect x=\"225.0\" y=\"-125.0\" width=\"25.0\" height=\"25.0\" opacity=\"0.7839506172839513\" fill=\"currentColor\" stroke-width=\"0.1\"/>\n",
       "<rect x=\"0.0\" y=\"-150.0\" width=\"25.0\" height=\"25.0\" opacity=\"0.7067901234567907\" fill=\"currentColor\" stroke-width=\"0.1\"/>\n",
       "<rect x=\"24.999999999999986\" y=\"-150.0\" width=\"25.0\" height=\"25.0\" opacity=\"0.8333333333333334\" fill=\"currentColor\" stroke-width=\"0.1\"/>\n",
       "<rect x=\"49.999999999999986\" y=\"-150.0\" width=\"25.0\" height=\"25.0\" opacity=\"0.8518518518518513\" fill=\"currentColor\" stroke-width=\"0.1\"/>\n",
       "<rect x=\"75.00000000000001\" y=\"-150.0\" width=\"25.0\" height=\"25.0\" opacity=\"0.8179012345679012\" fill=\"currentColor\" stroke-width=\"0.1\"/>\n",
       "<rect x=\"100.00000000000001\" y=\"-150.0\" width=\"25.0\" height=\"25.0\" opacity=\"0.7561728395061735\" fill=\"currentColor\" stroke-width=\"0.1\"/>\n",
       "<rect x=\"125.0\" y=\"-150.0\" width=\"25.0\" height=\"25.0\" opacity=\"0.833333333333334\" fill=\"currentColor\" stroke-width=\"0.1\"/>\n",
       "<rect x=\"150.0\" y=\"-150.0\" width=\"25.0\" height=\"25.0\" opacity=\"0.8302469135802473\" fill=\"currentColor\" stroke-width=\"0.1\"/>\n",
       "<rect x=\"174.99999999999997\" y=\"-150.0\" width=\"25.0\" height=\"25.0\" opacity=\"0.7993827160493815\" fill=\"currentColor\" stroke-width=\"0.1\"/>\n",
       "<rect x=\"200.00000000000003\" y=\"-150.0\" width=\"25.0\" height=\"25.0\" opacity=\"0.7530864197530868\" fill=\"currentColor\" stroke-width=\"0.1\"/>\n",
       "<rect x=\"225.0\" y=\"-150.0\" width=\"25.0\" height=\"25.0\" opacity=\"0.6450617283950623\" fill=\"currentColor\" stroke-width=\"0.1\"/>\n",
       "<rect x=\"0.0\" y=\"-175.0\" width=\"25.0\" height=\"25.0\" opacity=\"0.7098765432098766\" fill=\"currentColor\" stroke-width=\"0.1\"/>\n",
       "<rect x=\"24.999999999999986\" y=\"-175.0\" width=\"25.0\" height=\"25.0\" opacity=\"0.7623456790123452\" fill=\"currentColor\" stroke-width=\"0.1\"/>\n",
       "<rect x=\"49.999999999999986\" y=\"-175.0\" width=\"25.0\" height=\"25.0\" opacity=\"0.7962962962962952\" fill=\"currentColor\" stroke-width=\"0.1\"/>\n",
       "<rect x=\"75.00000000000001\" y=\"-175.0\" width=\"25.0\" height=\"25.0\" opacity=\"0.9567901234567895\" fill=\"currentColor\" stroke-width=\"0.1\"/>\n",
       "<rect x=\"100.00000000000001\" y=\"-175.0\" width=\"25.0\" height=\"25.0\" opacity=\"0.888888888888889\" fill=\"currentColor\" stroke-width=\"0.1\"/>\n",
       "<rect x=\"125.0\" y=\"-175.0\" width=\"25.0\" height=\"25.0\" opacity=\"0.7870370370370371\" fill=\"currentColor\" stroke-width=\"0.1\"/>\n",
       "<rect x=\"150.0\" y=\"-175.0\" width=\"25.0\" height=\"25.0\" opacity=\"0.8456790123456788\" fill=\"currentColor\" stroke-width=\"0.1\"/>\n",
       "<rect x=\"174.99999999999997\" y=\"-175.0\" width=\"25.0\" height=\"25.0\" opacity=\"0.8456790123456771\" fill=\"currentColor\" stroke-width=\"0.1\"/>\n",
       "<rect x=\"200.00000000000003\" y=\"-175.0\" width=\"25.0\" height=\"25.0\" opacity=\"0.7623456790123455\" fill=\"currentColor\" stroke-width=\"0.1\"/>\n",
       "<rect x=\"225.0\" y=\"-175.0\" width=\"25.0\" height=\"25.0\" opacity=\"0.7253086419753086\" fill=\"currentColor\" stroke-width=\"0.1\"/>\n",
       "<rect x=\"0.0\" y=\"-200.00000000000003\" width=\"25.0\" height=\"25.0\" opacity=\"0.7469135802469128\" fill=\"currentColor\" stroke-width=\"0.1\"/>\n",
       "<rect x=\"24.999999999999986\" y=\"-200.00000000000003\" width=\"25.0\" height=\"25.0\" opacity=\"0.7932098765432085\" fill=\"currentColor\" stroke-width=\"0.1\"/>\n",
       "<rect x=\"49.999999999999986\" y=\"-200.00000000000003\" width=\"25.0\" height=\"25.0\" opacity=\"0.8858024691358003\" fill=\"currentColor\" stroke-width=\"0.1\"/>\n",
       "<rect x=\"75.00000000000001\" y=\"-200.00000000000003\" width=\"25.0\" height=\"25.0\" opacity=\"0.9259259259259243\" fill=\"currentColor\" stroke-width=\"0.1\"/>\n",
       "<rect x=\"100.00000000000001\" y=\"-200.00000000000003\" width=\"25.0\" height=\"25.0\" opacity=\"0.8117283950617276\" fill=\"currentColor\" stroke-width=\"0.1\"/>\n",
       "<rect x=\"125.0\" y=\"-200.00000000000003\" width=\"25.0\" height=\"25.0\" opacity=\"0.851851851851851\" fill=\"currentColor\" stroke-width=\"0.1\"/>\n",
       "<rect x=\"150.0\" y=\"-200.00000000000003\" width=\"25.0\" height=\"25.0\" opacity=\"0.7839506172839495\" fill=\"currentColor\" stroke-width=\"0.1\"/>\n",
       "<rect x=\"174.99999999999997\" y=\"-200.00000000000003\" width=\"25.0\" height=\"25.0\" opacity=\"0.8271604938271577\" fill=\"currentColor\" stroke-width=\"0.1\"/>\n",
       "<rect x=\"200.00000000000003\" y=\"-200.00000000000003\" width=\"25.0\" height=\"25.0\" opacity=\"0.7160493827160485\" fill=\"currentColor\" stroke-width=\"0.1\"/>\n",
       "<rect x=\"225.0\" y=\"-200.00000000000003\" width=\"25.0\" height=\"25.0\" opacity=\"0.7746913580246906\" fill=\"currentColor\" stroke-width=\"0.1\"/>\n",
       "<rect x=\"0.0\" y=\"-225.0\" width=\"25.0\" height=\"25.0\" opacity=\"0.679012345679013\" fill=\"currentColor\" stroke-width=\"0.1\"/>\n",
       "<rect x=\"24.999999999999986\" y=\"-225.0\" width=\"25.0\" height=\"25.0\" opacity=\"0.6574074074074076\" fill=\"currentColor\" stroke-width=\"0.1\"/>\n",
       "<rect x=\"49.999999999999986\" y=\"-225.0\" width=\"25.0\" height=\"25.0\" opacity=\"0.8919753086419748\" fill=\"currentColor\" stroke-width=\"0.1\"/>\n",
       "<rect x=\"75.00000000000001\" y=\"-225.0\" width=\"25.0\" height=\"25.0\" opacity=\"0.8271604938271607\" fill=\"currentColor\" stroke-width=\"0.1\"/>\n",
       "<rect x=\"100.00000000000001\" y=\"-225.0\" width=\"25.0\" height=\"25.0\" opacity=\"0.7530864197530872\" fill=\"currentColor\" stroke-width=\"0.1\"/>\n",
       "<rect x=\"125.0\" y=\"-225.0\" width=\"25.0\" height=\"25.0\" opacity=\"0.8271604938271613\" fill=\"currentColor\" stroke-width=\"0.1\"/>\n",
       "<rect x=\"150.0\" y=\"-225.0\" width=\"25.0\" height=\"25.0\" opacity=\"0.71604938271605\" fill=\"currentColor\" stroke-width=\"0.1\"/>\n",
       "<rect x=\"174.99999999999997\" y=\"-225.0\" width=\"25.0\" height=\"25.0\" opacity=\"0.8765432098765422\" fill=\"currentColor\" stroke-width=\"0.1\"/>\n",
       "<rect x=\"200.00000000000003\" y=\"-225.0\" width=\"25.0\" height=\"25.0\" opacity=\"0.7438271604938278\" fill=\"currentColor\" stroke-width=\"0.1\"/>\n",
       "<rect x=\"225.0\" y=\"-225.0\" width=\"25.0\" height=\"25.0\" opacity=\"0.7654320987654328\" fill=\"currentColor\" stroke-width=\"0.1\"/>\n",
       "<rect x=\"0.0\" y=\"-250.0\" width=\"25.0\" height=\"25.0\" opacity=\"0.675925925925926\" fill=\"currentColor\" stroke-width=\"0.1\"/>\n",
       "<rect x=\"24.999999999999986\" y=\"-250.0\" width=\"25.0\" height=\"25.0\" opacity=\"0.8148148148148143\" fill=\"currentColor\" stroke-width=\"0.1\"/>\n",
       "<rect x=\"49.999999999999986\" y=\"-250.0\" width=\"25.0\" height=\"25.0\" opacity=\"0.8117283950617273\" fill=\"currentColor\" stroke-width=\"0.1\"/>\n",
       "<rect x=\"75.00000000000001\" y=\"-250.0\" width=\"25.0\" height=\"25.0\" opacity=\"0.8395061728395056\" fill=\"currentColor\" stroke-width=\"0.1\"/>\n",
       "<rect x=\"100.00000000000001\" y=\"-250.0\" width=\"25.0\" height=\"25.0\" opacity=\"0.8055555555555556\" fill=\"currentColor\" stroke-width=\"0.1\"/>\n",
       "<rect x=\"125.0\" y=\"-250.0\" width=\"25.0\" height=\"25.0\" opacity=\"0.9259259259259259\" fill=\"currentColor\" stroke-width=\"0.1\"/>\n",
       "<rect x=\"150.0\" y=\"-250.0\" width=\"25.0\" height=\"25.0\" opacity=\"0.8487654320987652\" fill=\"currentColor\" stroke-width=\"0.1\"/>\n",
       "<rect x=\"174.99999999999997\" y=\"-250.0\" width=\"25.0\" height=\"25.0\" opacity=\"0.9012345679012326\" fill=\"currentColor\" stroke-width=\"0.1\"/>\n",
       "<rect x=\"200.00000000000003\" y=\"-250.0\" width=\"25.0\" height=\"25.0\" opacity=\"0.7376543209876542\" fill=\"currentColor\" stroke-width=\"0.1\"/>\n",
       "<rect x=\"225.0\" y=\"-250.0\" width=\"25.0\" height=\"25.0\" opacity=\"0.6913580246913581\" fill=\"currentColor\" stroke-width=\"0.1\"/>\n",
       "</svg>\n",
       "</div>\n",
       "<div style=\"flex=grow:1;\">\n",
       "Regular(10, -3, 3, name='eta')<br/>\n",
       "Regular(10, -3.14, 3.14, name='phi')<br/>\n",
       "<hr style=\"margin-top:.2em; margin-bottom:.2em;\"/>\n",
       "Double() Σ=25986.0 <em>(33336.0 with flow)</em>\n",
       "\n",
       "</div>\n",
       "</div>\n",
       "</html>"
      ],
      "text/plain": [
       "Hist(\n",
       "  Regular(10, -3, 3, name='eta'),\n",
       "  Regular(10, -3.14, 3.14, name='phi'),\n",
       "  storage=Double()) # Sum: 25986.0 (33336.0 with flow)"
      ]
     },
     "execution_count": 62,
     "metadata": {},
     "output_type": "execute_result"
    }
   ],
   "source": [
    "h = Hist(\n",
    "    hist.axis.Regular(bins=10, start=-3, stop=3, name=\"eta\"),\n",
    "    hist.axis.Regular(bins=10, start=-3.14, stop=3.14, name=\"phi\")\n",
    ")\n",
    "h.fill(ak.flatten(events.Jet_eta), ak.flatten(events.Jet_phi))\n",
    "h"
   ]
  },
  {
   "cell_type": "markdown",
   "id": "95c2c355-338c-4bf5-bbb4-879a12f1392d",
   "metadata": {},
   "source": [
    "There is also a syntax for fast building of histograms"
   ]
  },
  {
   "cell_type": "code",
   "execution_count": 68,
   "id": "24498a54-d5ed-4f67-8638-ebf367895b63",
   "metadata": {},
   "outputs": [
    {
     "data": {
      "text/plain": [
       "Hist(\n",
       "  Regular(10, 0, 100, name='x'),\n",
       "  Regular(10, 0, 10, name='y'),\n",
       "  Variable([1, 2, 3, 4, 5, 5.5, 6], name='z'),\n",
       "  storage=Weight()) # Sum: WeightedSum(value=0, variance=0)"
      ]
     },
     "execution_count": 68,
     "metadata": {},
     "output_type": "execute_result"
    }
   ],
   "source": [
    "hist3d =( \n",
    "    Hist.new.Regular(10, 0, 100, name=\"x\")\n",
    "        .Regular(10, 0.0, 10.0, name=\"y\")\n",
    "        .Variable([1, 2, 3, 4, 5, 5.5, 6], name=\"z\")\n",
    "        .Weight()\n",
    ")\n",
    "hist3d"
   ]
  },
  {
   "cell_type": "markdown",
   "id": "536f8c19-0109-436c-84ba-8bed8d8cc2dd",
   "metadata": {},
   "source": [
    "## Defining Axes"
   ]
  },
  {
   "cell_type": "markdown",
   "id": "3375d91e-26bd-4d23-a961-7820d687567c",
   "metadata": {},
   "source": [
    "Hists can be constructed with an arbitrary number of axes (be careful with your RAM!).\n",
    "\n",
    "There are many types of axes, numerical and categorical."
   ]
  },
  {
   "cell_type": "code",
   "execution_count": 76,
   "id": "3a2700f0-18cb-4096-a925-797b47e30996",
   "metadata": {},
   "outputs": [],
   "source": [
    "# numerical axes\n",
    "axis0 = hist.axis.Regular(10, -5, 5, overflow=False, underflow=False, name=\"A\", label=\"a\")\n",
    "axis1 = hist.axis.Boolean(name=\"B\")\n",
    "axis2 = hist.axis.Variable(range(10), name=\"C\")\n",
    "axis3 = hist.axis.Integer(-5, 5, overflow=False, underflow=False, name=\"D\")\n",
    "\n",
    "# Categorical axes\n",
    "axis4 = hist.axis.IntCategory(range(10), name=\"E\")\n",
    "axis5 = hist.axis.StrCategory([\"T\", \"F\"], name=\"F\")"
   ]
  },
  {
   "cell_type": "markdown",
   "id": "31f517e1-6b7b-4d8f-b23a-422f56abbb81",
   "metadata": {},
   "source": [
    "Axes properties can be accessed with"
   ]
  },
  {
   "cell_type": "code",
   "execution_count": 70,
   "id": "bdda4916-9739-49be-97bf-b8f72d557934",
   "metadata": {},
   "outputs": [
    {
     "data": {
      "text/plain": [
       "(Regular(10, 0, 100, name='x'),\n",
       " Regular(10, 0, 10, name='y'),\n",
       " Variable([1, 2, 3, 4, 5, 5.5, 6], name='z'))"
      ]
     },
     "execution_count": 70,
     "metadata": {},
     "output_type": "execute_result"
    }
   ],
   "source": [
    "hist3d.axes"
   ]
  },
  {
   "cell_type": "code",
   "execution_count": 72,
   "id": "4f7e9a29-5449-4bc9-8018-f2816fa76824",
   "metadata": {},
   "outputs": [
    {
     "data": {
      "text/plain": [
       "array([-4.5, -3.5, -2.5, -1.5, -0.5,  0.5,  1.5,  2.5,  3.5,  4.5])"
      ]
     },
     "execution_count": 72,
     "metadata": {},
     "output_type": "execute_result"
    }
   ],
   "source": [
    "axis0.centers"
   ]
  },
  {
   "cell_type": "code",
   "execution_count": 73,
   "id": "bce8607b-6158-4027-a959-c5bb5f2f84f5",
   "metadata": {},
   "outputs": [
    {
     "data": {
      "text/plain": [
       "array([-5., -4., -3., -2., -1.,  0.,  1.,  2.,  3.,  4.,  5.])"
      ]
     },
     "execution_count": 73,
     "metadata": {},
     "output_type": "execute_result"
    }
   ],
   "source": [
    "axis0.edges"
   ]
  },
  {
   "cell_type": "code",
   "execution_count": 77,
   "id": "a758c740-9696-478b-8fcf-44b1ed5f7eae",
   "metadata": {},
   "outputs": [
    {
     "data": {
      "text/plain": [
       "('a', 'A')"
      ]
     },
     "execution_count": 77,
     "metadata": {},
     "output_type": "execute_result"
    }
   ],
   "source": [
    "axis0.label, axis0.name"
   ]
  },
  {
   "cell_type": "markdown",
   "id": "c83942c3-38ec-4520-9b1a-3bcaef9feead",
   "metadata": {},
   "source": [
    "## Storage and filling"
   ]
  },
  {
   "cell_type": "markdown",
   "id": "860df571-d2e9-4670-ae5e-4630f167e54d",
   "metadata": {},
   "source": [
    "Histograms can store plain interger/double or store weighted entries. In the latter case there are methods defined to compute the variance of the histogram content (sumw2)"
   ]
  },
  {
   "cell_type": "code",
   "execution_count": 84,
   "id": "f5a11d36-8e58-4edb-9812-6666a3d4613d",
   "metadata": {},
   "outputs": [
    {
     "data": {
      "text/plain": [
       "array([[0., 0., 0., 0., 0., 0., 0., 0., 0., 0.],\n",
       "       [0., 0., 0., 0., 0., 0., 0., 0., 0., 0.],\n",
       "       [0., 0., 0., 0., 0., 0., 0., 0., 0., 0.],\n",
       "       [0., 0., 0., 0., 0., 0., 0., 0., 0., 0.],\n",
       "       [0., 0., 0., 0., 0., 0., 0., 0., 0., 0.],\n",
       "       [0., 0., 1., 0., 0., 0., 1., 0., 0., 0.],\n",
       "       [0., 0., 0., 0., 0., 0., 0., 0., 0., 0.],\n",
       "       [0., 0., 0., 0., 0., 0., 0., 0., 0., 0.],\n",
       "       [0., 0., 0., 0., 0., 0., 0., 0., 0., 0.],\n",
       "       [0., 0., 0., 0., 0., 0., 0., 0., 0., 0.]])"
      ]
     },
     "execution_count": 84,
     "metadata": {},
     "output_type": "execute_result"
    }
   ],
   "source": [
    "h = (\n",
    "   Hist.new.Reg(10, 0, 1, name=\"x\")\n",
    "    .Reg(10, 0, 1, name=\"y\")\n",
    "    .Double()\n",
    "    .fill(x=[0.5, 0.5], y=[0.2, 0.6])\n",
    ")\n",
    "h.values()"
   ]
  },
  {
   "cell_type": "code",
   "execution_count": 89,
   "id": "828ec9f1-edcf-4dca-a22b-65813160b8e9",
   "metadata": {},
   "outputs": [
    {
     "name": "stdout",
     "output_type": "stream",
     "text": [
      "[[0.  0.  0.  0.  0.  0.  0.  0.  0.  0. ]\n",
      " [0.  0.  0.  0.  0.  0.  0.  0.  0.  0. ]\n",
      " [0.  0.  0.  0.  0.  0.  0.  0.  0.  0. ]\n",
      " [0.  0.  0.  0.  0.  0.  0.  0.  0.  0. ]\n",
      " [0.  0.  0.  0.  0.  0.  0.  0.  0.  0. ]\n",
      " [0.  0.  0.1 0.  0.  0.  3.  0.  0.  0. ]\n",
      " [0.  0.  0.  0.  0.  0.  0.  0.  0.  0. ]\n",
      " [0.  0.  0.  0.  0.  0.  0.  0.  0.  0. ]\n",
      " [0.  0.  0.  0.  0.  0.  0.  0.  0.  0. ]\n",
      " [0.  0.  0.  0.  0.  0.  0.  0.  0.  0. ]]\n",
      "[[0.   0.   0.   0.   0.   0.   0.   0.   0.   0.  ]\n",
      " [0.   0.   0.   0.   0.   0.   0.   0.   0.   0.  ]\n",
      " [0.   0.   0.   0.   0.   0.   0.   0.   0.   0.  ]\n",
      " [0.   0.   0.   0.   0.   0.   0.   0.   0.   0.  ]\n",
      " [0.   0.   0.   0.   0.   0.   0.   0.   0.   0.  ]\n",
      " [0.   0.   0.01 0.   0.   0.   9.   0.   0.   0.  ]\n",
      " [0.   0.   0.   0.   0.   0.   0.   0.   0.   0.  ]\n",
      " [0.   0.   0.   0.   0.   0.   0.   0.   0.   0.  ]\n",
      " [0.   0.   0.   0.   0.   0.   0.   0.   0.   0.  ]\n",
      " [0.   0.   0.   0.   0.   0.   0.   0.   0.   0.  ]]\n"
     ]
    }
   ],
   "source": [
    "h = (\n",
    "   Hist.new.Reg(10, 0, 1, name=\"x\")\n",
    "    .Reg(10, 0, 1, name=\"y\")\n",
    "    .Weight()\n",
    "    .fill(x=[0.5, 0.5], y=[0.2, 0.6], weight=[0.1, 3])\n",
    ")\n",
    "print(h.values())\n",
    "print(h.variances())"
   ]
  },
  {
   "cell_type": "markdown",
   "id": "afdbeff5-6fb3-441d-be78-91bc6e6c3364",
   "metadata": {},
   "source": [
    "## Slicing and indexing\n",
    "\n",
    "More advanced examples: https://hist.readthedocs.io/en/latest/user-guide/notebooks/Histogram.html"
   ]
  },
  {
   "cell_type": "markdown",
   "id": "3baf5918-9072-499c-b891-e6a9524ba359",
   "metadata": {},
   "source": [
    "Histograms can be easily sliced"
   ]
  },
  {
   "cell_type": "code",
   "execution_count": 136,
   "id": "69baceb6-9398-4a44-8a44-12274268bb99",
   "metadata": {},
   "outputs": [],
   "source": [
    "hist3d =( \n",
    "    Hist.new.Regular(30, 15, 150, name=\"pt\")\n",
    "        .Regular(20, -3, 3, name=\"eta\")\n",
    "        .Regular(20, 0, 2*np.pi, circular=True, name=\"phi\")\n",
    "        .Weight()\n",
    ")"
   ]
  },
  {
   "cell_type": "code",
   "execution_count": 137,
   "id": "7e5d305e-dfce-4b5e-a59b-67f28227bfef",
   "metadata": {},
   "outputs": [
    {
     "data": {
      "text/plain": [
       "Hist(\n",
       "  Regular(30, 15, 150, name='pt'),\n",
       "  Regular(20, -3, 3, name='eta'),\n",
       "  Regular(20, 0, 6.28319, circular=True, name='phi'),\n",
       "  storage=Weight()) # Sum: WeightedSum(value=25919, variance=25919) (WeightedSum(value=33336, variance=33336) with flow)"
      ]
     },
     "execution_count": 137,
     "metadata": {},
     "output_type": "execute_result"
    }
   ],
   "source": [
    "hist3d.fill(\n",
    "    ak.flatten(events.Jet_pt), \n",
    "    ak.flatten(events.Jet_eta), \n",
    "    ak.flatten(events.Jet_phi), \n",
    "    weight= ak.flatten(events.genWeight * ak.ones_like(events.Jet_pt))\n",
    ")"
   ]
  },
  {
   "cell_type": "markdown",
   "id": "196c068b-2ed4-4c60-8b85-e063acb667a1",
   "metadata": {},
   "source": [
    "Indexing with bin position"
   ]
  },
  {
   "cell_type": "code",
   "execution_count": 138,
   "id": "f47e5952-03af-4ae7-9646-5382311277d2",
   "metadata": {},
   "outputs": [
    {
     "data": {
      "text/plain": [
       "Hist(\n",
       "  Regular(4, 15, 33, name='pt'),\n",
       "  Regular(10, 0, 3, name='eta'),\n",
       "  Regular(20, 0, 6.28319, circular=True, name='phi'),\n",
       "  storage=Weight()) # Sum: WeightedSum(value=7510, variance=7510) (WeightedSum(value=33336, variance=33336) with flow)"
      ]
     },
     "execution_count": 138,
     "metadata": {},
     "output_type": "execute_result"
    }
   ],
   "source": [
    "hist3d[ 0:4,  10:20, :]"
   ]
  },
  {
   "cell_type": "markdown",
   "id": "fcdbe095-71ce-40e3-bb61-df6b54c36aa3",
   "metadata": {},
   "source": [
    "Or indexing with axes value ranges"
   ]
  },
  {
   "cell_type": "code",
   "execution_count": 139,
   "id": "65245076-9267-429b-af1b-33bb0b44e6fd",
   "metadata": {},
   "outputs": [
    {
     "data": {
      "text/html": [
       "<html>\n",
       "<div style=\"display:flex; align-items:center;\">\n",
       "<div style=\"width:290px;\">\n",
       "<svg xmlns=\"http://www.w3.org/2000/svg\" viewBox=\"-20 -270 290 290\">\n",
       "<text text-anchor=\"middle\" x=\"0\" y=\"13\" style=\"fill:currentColor;\">\n",
       "15\n",
       "</text>\n",
       "<text text-anchor=\"middle\" x=\"250\" y=\"13\" style=\"fill:currentColor;\">\n",
       "19.5\n",
       "</text>\n",
       "<text text-anchor=\"middle\" x=\"-10\" y=\"0\" style=\"fill:currentColor;\">\n",
       "-1.5\n",
       "</text>\n",
       "<text text-anchor=\"middle\" x=\"-10\" y=\"-250\" style=\"fill:currentColor;\">\n",
       "1.5\n",
       "</text>\n",
       "<text text-anchor=\"middle\" x=\"125.0\" y=\"13\" style=\"fill:currentColor;\">\n",
       "pt\n",
       "</text>\n",
       "<text text-anchor=\"middle\" x=\"-10\" y=\"-125.0\" transform=\"rotate(-90,-10,-125.0)\" style=\"fill:currentColor;\">\n",
       "eta\n",
       "</text>\n",
       "<rect x=\"0.0\" y=\"-24.999999999999986\" width=\"250.0\" height=\"25.0\" opacity=\"0.9717223650385604\" fill=\"currentColor\" stroke-width=\"0.1\"/>\n",
       "<rect x=\"0.0\" y=\"-49.999999999999986\" width=\"250.0\" height=\"25.0\" opacity=\"0.894601542416452\" fill=\"currentColor\" stroke-width=\"0.1\"/>\n",
       "<rect x=\"0.0\" y=\"-75.00000000000001\" width=\"250.0\" height=\"25.0\" opacity=\"0.958868894601541\" fill=\"currentColor\" stroke-width=\"0.1\"/>\n",
       "<rect x=\"0.0\" y=\"-100.00000000000001\" width=\"250.0\" height=\"25.0\" opacity=\"0.8200514138817476\" fill=\"currentColor\" stroke-width=\"0.1\"/>\n",
       "<rect x=\"0.0\" y=\"-125.0\" width=\"250.0\" height=\"25.0\" opacity=\"0.8406169665809768\" fill=\"currentColor\" stroke-width=\"0.1\"/>\n",
       "<rect x=\"0.0\" y=\"-150.0\" width=\"250.0\" height=\"25.0\" opacity=\"0.8534704370179949\" fill=\"currentColor\" stroke-width=\"0.1\"/>\n",
       "<rect x=\"0.0\" y=\"-174.99999999999997\" width=\"250.0\" height=\"25.0\" opacity=\"0.7763496143958867\" fill=\"currentColor\" stroke-width=\"0.1\"/>\n",
       "<rect x=\"0.0\" y=\"-200.00000000000003\" width=\"250.0\" height=\"25.0\" opacity=\"0.7660668380462708\" fill=\"currentColor\" stroke-width=\"0.1\"/>\n",
       "<rect x=\"0.0\" y=\"-225.0\" width=\"250.0\" height=\"25.0\" opacity=\"0.8277634961439586\" fill=\"currentColor\" stroke-width=\"0.1\"/>\n",
       "<rect x=\"0.0\" y=\"-250.0\" width=\"250.0\" height=\"25.0\" opacity=\"1.0\" fill=\"currentColor\" stroke-width=\"0.1\"/>\n",
       "</svg>\n",
       "</div>\n",
       "<div style=\"flex=grow:1;\">\n",
       "Regular(1, 15, 19.5, name='pt')<br/>\n",
       "Regular(10, -1.5, 1.5, name='eta')<br/>\n",
       "<hr style=\"margin-top:.2em; margin-bottom:.2em;\"/>\n",
       "Weight() Σ=WeightedSum(value=3388, variance=3388) <em>(WeightedSum(value=33336, variance=33336) with flow)</em>\n",
       "\n",
       "</div>\n",
       "</div>\n",
       "</html>"
      ],
      "text/plain": [
       "Hist(\n",
       "  Regular(1, 15, 19.5, name='pt'),\n",
       "  Regular(10, -1.5, 1.5, name='eta'),\n",
       "  storage=Weight()) # Sum: WeightedSum(value=3388, variance=3388) (WeightedSum(value=33336, variance=33336) with flow)"
      ]
     },
     "execution_count": 139,
     "metadata": {},
     "output_type": "execute_result"
    }
   ],
   "source": [
    "hist3d[ 15j:20j,  -1.5j:1.5j, sum]"
   ]
  },
  {
   "cell_type": "markdown",
   "id": "8d37a441-f1e3-4926-ba07-647c0853105b",
   "metadata": {},
   "source": [
    "In this last example the bins on the last axes (phi) have been accumulated using the `sum` function."
   ]
  },
  {
   "cell_type": "markdown",
   "id": "2851c394-824e-4881-8a62-f4f937b4d3cd",
   "metadata": {},
   "source": [
    "### Rebinning"
   ]
  },
  {
   "cell_type": "code",
   "execution_count": 140,
   "id": "6373498c-a845-4818-8b51-37f6b51d747f",
   "metadata": {},
   "outputs": [
    {
     "data": {
      "text/html": [
       "<html>\n",
       "<div style=\"display:flex; align-items:center;\">\n",
       "<div style=\"width:290px;\">\n",
       "<svg xmlns=\"http://www.w3.org/2000/svg\" viewBox=\"-10 -105 270 120\">\n",
       "<line x1=\"-5\" y1=\"0\" x2=\"255\" y2=\"0\" style=\"fill:none;stroke-width:2;stroke:currentColor\"/>\n",
       "<text text-anchor=\"middle\" x=\"0\" y=\"15\" style=\"fill:currentColor;\">\n",
       "15\n",
       "</text>\n",
       "<text text-anchor=\"middle\" x=\"250\" y=\"15\" style=\"fill:currentColor;\">\n",
       "150\n",
       "</text>\n",
       "<text text-anchor=\"middle\" x=\"125.0\" y=\"15\" style=\"fill:currentColor;\">\n",
       "pt\n",
       "</text>\n",
       "<polyline points=\"  0,0   0,-100 8.33333,-100 8.33333,-42.7 16.6667,-42.7 16.6667,-26.9  25,-26.9  25,-19.5 33.3333,-19.5 33.3333,-18.1 41.6667,-18.1 41.6667,-17.5  50,-17.5  50,-16.8 58.3333,-16.8 58.3333,-15.6 66.6667,-15.6 66.6667,-12  75,-12  75,-8.98 83.3333,-8.98 83.3333,-5.62 91.6667,-5.62 91.6667,-3.36 100,-3.36 100,-2.33 108.333,-2.33 108.333,-1.71 116.667,-1.71 116.667,-1.22 125,-1.22 125,-1.08 133.333,-1.08 133.333,-0.778 141.667,-0.778 141.667,-0.617 150,-0.617 150,-0.42 158.333,-0.42 158.333,-0.331 166.667,-0.331 166.667,-0.241 175,-0.241 175,-0.277 183.333,-0.277 183.333,-0.232 191.667,-0.232 191.667,-0.161 200,-0.161 200,-0.197 208.333,-0.197 208.333,-0.152 216.667,-0.152 216.667,-0.161 225,-0.161 225,-0.0894 233.333,-0.0894 233.333,-0.0894 241.667,-0.0894 241.667,-0.116 250,-0.116 250,0\" style=\"fill:none; stroke:currentColor;\"/>\n",
       "</svg>\n",
       "</div>\n",
       "<div style=\"flex=grow:1;\">\n",
       "Regular(30, 15, 150, name='pt')<br/>\n",
       "<hr style=\"margin-top:.2em; margin-bottom:.2em;\"/>\n",
       "Weight() Σ=WeightedSum(value=33260, variance=33260) <em>(WeightedSum(value=33336, variance=33336) with flow)</em>\n",
       "\n",
       "</div>\n",
       "</div>\n",
       "</html>"
      ],
      "text/plain": [
       "Hist(Regular(30, 15, 150, name='pt'), storage=Weight()) # Sum: WeightedSum(value=33260, variance=33260) (WeightedSum(value=33336, variance=33336) with flow)"
      ]
     },
     "execution_count": 140,
     "metadata": {},
     "output_type": "execute_result"
    }
   ],
   "source": [
    "hist3d[ :, sum, sum]"
   ]
  },
  {
   "cell_type": "code",
   "execution_count": 141,
   "id": "d8ab401b-d407-48ff-91e5-147d7eb9b54b",
   "metadata": {},
   "outputs": [
    {
     "data": {
      "text/html": [
       "<html>\n",
       "<div style=\"display:flex; align-items:center;\">\n",
       "<div style=\"width:290px;\">\n",
       "<svg xmlns=\"http://www.w3.org/2000/svg\" viewBox=\"-10 -105 270 120\">\n",
       "<line x1=\"-5\" y1=\"0\" x2=\"255\" y2=\"0\" style=\"fill:none;stroke-width:2;stroke:currentColor\"/>\n",
       "<text text-anchor=\"middle\" x=\"0\" y=\"15\" style=\"fill:currentColor;\">\n",
       "15\n",
       "</text>\n",
       "<text text-anchor=\"middle\" x=\"250\" y=\"15\" style=\"fill:currentColor;\">\n",
       "150\n",
       "</text>\n",
       "<text text-anchor=\"middle\" x=\"125.0\" y=\"15\" style=\"fill:currentColor;\">\n",
       "pt\n",
       "</text>\n",
       "<polyline points=\"  0,0   0,-100  25,-100  25,-32.5  50,-32.5  50,-26.2  75,-26.2  75,-10.6 100,-10.6 100,-3.1 125,-3.1 125,-1.46 150,-1.46 150,-0.585 175,-0.585 175,-0.395 200,-0.395 200,-0.3 225,-0.3 225,-0.174 250,-0.174 250,0\" style=\"fill:none; stroke:currentColor;\"/>\n",
       "</svg>\n",
       "</div>\n",
       "<div style=\"flex=grow:1;\">\n",
       "Regular(10, 15, 150, name='pt')<br/>\n",
       "<hr style=\"margin-top:.2em; margin-bottom:.2em;\"/>\n",
       "Weight() Σ=WeightedSum(value=33260, variance=33260) <em>(WeightedSum(value=33336, variance=33336) with flow)</em>\n",
       "\n",
       "</div>\n",
       "</div>\n",
       "</html>"
      ],
      "text/plain": [
       "Hist(Regular(10, 15, 150, name='pt'), storage=Weight()) # Sum: WeightedSum(value=33260, variance=33260) (WeightedSum(value=33336, variance=33336) with flow)"
      ]
     },
     "execution_count": 141,
     "metadata": {},
     "output_type": "execute_result"
    }
   ],
   "source": [
    "hist3d[ ::hist.rebin(3), sum, sum]"
   ]
  },
  {
   "cell_type": "markdown",
   "id": "4fec27bd-5892-40a8-8d59-b2761fb22eeb",
   "metadata": {},
   "source": [
    "### Projection"
   ]
  },
  {
   "cell_type": "code",
   "execution_count": 142,
   "id": "b20aeda2-9909-4d68-b19f-4ce19018055f",
   "metadata": {},
   "outputs": [
    {
     "data": {
      "text/html": [
       "<html>\n",
       "<div style=\"display:flex; align-items:center;\">\n",
       "<div style=\"width:290px;\">\n",
       "<svg xmlns=\"http://www.w3.org/2000/svg\" viewBox=\"-10 -105 270 120\">\n",
       "<line x1=\"-5\" y1=\"0\" x2=\"255\" y2=\"0\" style=\"fill:none;stroke-width:2;stroke:currentColor\"/>\n",
       "<text text-anchor=\"middle\" x=\"0\" y=\"15\" style=\"fill:currentColor;\">\n",
       "15\n",
       "</text>\n",
       "<text text-anchor=\"middle\" x=\"250\" y=\"15\" style=\"fill:currentColor;\">\n",
       "150\n",
       "</text>\n",
       "<text text-anchor=\"middle\" x=\"125.0\" y=\"15\" style=\"fill:currentColor;\">\n",
       "pt\n",
       "</text>\n",
       "<polyline points=\"  0,0   0,-100 8.33333,-100 8.33333,-42.7 16.6667,-42.7 16.6667,-26.9  25,-26.9  25,-19.5 33.3333,-19.5 33.3333,-18.1 41.6667,-18.1 41.6667,-17.5  50,-17.5  50,-16.8 58.3333,-16.8 58.3333,-15.6 66.6667,-15.6 66.6667,-12  75,-12  75,-8.98 83.3333,-8.98 83.3333,-5.62 91.6667,-5.62 91.6667,-3.36 100,-3.36 100,-2.33 108.333,-2.33 108.333,-1.71 116.667,-1.71 116.667,-1.22 125,-1.22 125,-1.08 133.333,-1.08 133.333,-0.778 141.667,-0.778 141.667,-0.617 150,-0.617 150,-0.42 158.333,-0.42 158.333,-0.331 166.667,-0.331 166.667,-0.241 175,-0.241 175,-0.277 183.333,-0.277 183.333,-0.232 191.667,-0.232 191.667,-0.161 200,-0.161 200,-0.197 208.333,-0.197 208.333,-0.152 216.667,-0.152 216.667,-0.161 225,-0.161 225,-0.0894 233.333,-0.0894 233.333,-0.0894 241.667,-0.0894 241.667,-0.116 250,-0.116 250,0\" style=\"fill:none; stroke:currentColor;\"/>\n",
       "</svg>\n",
       "</div>\n",
       "<div style=\"flex=grow:1;\">\n",
       "Regular(30, 15, 150, name='pt')<br/>\n",
       "<hr style=\"margin-top:.2em; margin-bottom:.2em;\"/>\n",
       "Weight() Σ=WeightedSum(value=33260, variance=33260) <em>(WeightedSum(value=33336, variance=33336) with flow)</em>\n",
       "\n",
       "</div>\n",
       "</div>\n",
       "</html>"
      ],
      "text/plain": [
       "Hist(Regular(30, 15, 150, name='pt'), storage=Weight()) # Sum: WeightedSum(value=33260, variance=33260) (WeightedSum(value=33336, variance=33336) with flow)"
      ]
     },
     "execution_count": 142,
     "metadata": {},
     "output_type": "execute_result"
    }
   ],
   "source": [
    "hist3d.project(\"pt\")"
   ]
  },
  {
   "cell_type": "code",
   "execution_count": 143,
   "id": "0a7215c6-8abf-433e-8b0f-51fc2776f1b3",
   "metadata": {},
   "outputs": [
    {
     "data": {
      "text/html": [
       "<html>\n",
       "<div style=\"display:flex; align-items:center;\">\n",
       "<div style=\"width:290px;\">\n",
       "<svg xmlns=\"http://www.w3.org/2000/svg\" viewBox=\"-20 -270 290 290\">\n",
       "<text text-anchor=\"middle\" x=\"0\" y=\"13\" style=\"fill:currentColor;\">\n",
       "-3\n",
       "</text>\n",
       "<text text-anchor=\"middle\" x=\"250\" y=\"13\" style=\"fill:currentColor;\">\n",
       "3\n",
       "</text>\n",
       "<text text-anchor=\"middle\" x=\"-10\" y=\"0\" style=\"fill:currentColor;\">\n",
       "0\n",
       "</text>\n",
       "<text text-anchor=\"middle\" x=\"-10\" y=\"-250\" style=\"fill:currentColor;\">\n",
       "6.28\n",
       "</text>\n",
       "<text text-anchor=\"middle\" x=\"125.0\" y=\"13\" style=\"fill:currentColor;\">\n",
       "eta\n",
       "</text>\n",
       "<text text-anchor=\"middle\" x=\"-10\" y=\"-125.0\" transform=\"rotate(-90,-10,-125.0)\" style=\"fill:currentColor;\">\n",
       "phi\n",
       "</text>\n",
       "<rect x=\"0.0\" y=\"-12.5\" width=\"12.5\" height=\"12.5\" opacity=\"0.6063829787234052\" fill=\"currentColor\" stroke-width=\"0.1\"/>\n",
       "<rect x=\"12.50000000000001\" y=\"-12.5\" width=\"12.5\" height=\"12.5\" opacity=\"0.6702127659574497\" fill=\"currentColor\" stroke-width=\"0.1\"/>\n",
       "<rect x=\"24.999999999999986\" y=\"-12.5\" width=\"12.5\" height=\"12.5\" opacity=\"0.7340425531914893\" fill=\"currentColor\" stroke-width=\"0.1\"/>\n",
       "<rect x=\"37.500000000000014\" y=\"-12.5\" width=\"12.5\" height=\"12.5\" opacity=\"0.8404255319148973\" fill=\"currentColor\" stroke-width=\"0.1\"/>\n",
       "<rect x=\"49.999999999999986\" y=\"-12.5\" width=\"12.5\" height=\"12.5\" opacity=\"0.819148936170214\" fill=\"currentColor\" stroke-width=\"0.1\"/>\n",
       "<rect x=\"62.5\" y=\"-12.5\" width=\"12.5\" height=\"12.5\" opacity=\"0.7872340425531926\" fill=\"currentColor\" stroke-width=\"0.1\"/>\n",
       "<rect x=\"75.00000000000001\" y=\"-12.5\" width=\"12.5\" height=\"12.5\" opacity=\"0.6489361702127688\" fill=\"currentColor\" stroke-width=\"0.1\"/>\n",
       "<rect x=\"87.49999999999999\" y=\"-12.5\" width=\"12.5\" height=\"12.5\" opacity=\"0.7659574468085106\" fill=\"currentColor\" stroke-width=\"0.1\"/>\n",
       "<rect x=\"100.00000000000001\" y=\"-12.5\" width=\"12.5\" height=\"12.5\" opacity=\"0.6382978723404279\" fill=\"currentColor\" stroke-width=\"0.1\"/>\n",
       "<rect x=\"112.5\" y=\"-12.5\" width=\"12.5\" height=\"12.5\" opacity=\"0.6382978723404269\" fill=\"currentColor\" stroke-width=\"0.1\"/>\n",
       "<rect x=\"125.0\" y=\"-12.5\" width=\"12.5\" height=\"12.5\" opacity=\"0.5851063829787242\" fill=\"currentColor\" stroke-width=\"0.1\"/>\n",
       "<rect x=\"137.5\" y=\"-12.5\" width=\"12.5\" height=\"12.5\" opacity=\"0.8297872340425569\" fill=\"currentColor\" stroke-width=\"0.1\"/>\n",
       "<rect x=\"150.0\" y=\"-12.5\" width=\"12.5\" height=\"12.5\" opacity=\"0.7659574468085106\" fill=\"currentColor\" stroke-width=\"0.1\"/>\n",
       "<rect x=\"162.5\" y=\"-12.5\" width=\"12.5\" height=\"12.5\" opacity=\"0.797872340425536\" fill=\"currentColor\" stroke-width=\"0.1\"/>\n",
       "<rect x=\"174.99999999999997\" y=\"-12.5\" width=\"12.5\" height=\"12.5\" opacity=\"0.6914893617021282\" fill=\"currentColor\" stroke-width=\"0.1\"/>\n",
       "<rect x=\"187.5\" y=\"-12.5\" width=\"12.5\" height=\"12.5\" opacity=\"0.7446808510638303\" fill=\"currentColor\" stroke-width=\"0.1\"/>\n",
       "<rect x=\"200.00000000000003\" y=\"-12.5\" width=\"12.5\" height=\"12.5\" opacity=\"0.6489361702127693\" fill=\"currentColor\" stroke-width=\"0.1\"/>\n",
       "<rect x=\"212.5\" y=\"-12.5\" width=\"12.5\" height=\"12.5\" opacity=\"0.5744680851063829\" fill=\"currentColor\" stroke-width=\"0.1\"/>\n",
       "<rect x=\"225.0\" y=\"-12.5\" width=\"12.5\" height=\"12.5\" opacity=\"0.500000000000003\" fill=\"currentColor\" stroke-width=\"0.1\"/>\n",
       "<rect x=\"237.49999999999997\" y=\"-12.5\" width=\"12.5\" height=\"12.5\" opacity=\"0.5212765957446808\" fill=\"currentColor\" stroke-width=\"0.1\"/>\n",
       "<rect x=\"0.0\" y=\"-25.0\" width=\"12.5\" height=\"12.5\" opacity=\"0.6595744680851073\" fill=\"currentColor\" stroke-width=\"0.1\"/>\n",
       "<rect x=\"12.50000000000001\" y=\"-25.0\" width=\"12.5\" height=\"12.5\" opacity=\"0.5106382978723427\" fill=\"currentColor\" stroke-width=\"0.1\"/>\n",
       "<rect x=\"24.999999999999986\" y=\"-25.0\" width=\"12.5\" height=\"12.5\" opacity=\"0.7021276595744681\" fill=\"currentColor\" stroke-width=\"0.1\"/>\n",
       "<rect x=\"37.500000000000014\" y=\"-25.0\" width=\"12.5\" height=\"12.5\" opacity=\"0.5957446808510665\" fill=\"currentColor\" stroke-width=\"0.1\"/>\n",
       "<rect x=\"49.999999999999986\" y=\"-25.0\" width=\"12.5\" height=\"12.5\" opacity=\"0.6808510638297882\" fill=\"currentColor\" stroke-width=\"0.1\"/>\n",
       "<rect x=\"62.5\" y=\"-25.0\" width=\"12.5\" height=\"12.5\" opacity=\"0.6595744680851073\" fill=\"currentColor\" stroke-width=\"0.1\"/>\n",
       "<rect x=\"75.00000000000001\" y=\"-25.0\" width=\"12.5\" height=\"12.5\" opacity=\"0.606382978723407\" fill=\"currentColor\" stroke-width=\"0.1\"/>\n",
       "<rect x=\"87.49999999999999\" y=\"-25.0\" width=\"12.5\" height=\"12.5\" opacity=\"0.7978723404255319\" fill=\"currentColor\" stroke-width=\"0.1\"/>\n",
       "<rect x=\"100.00000000000001\" y=\"-25.0\" width=\"12.5\" height=\"12.5\" opacity=\"0.6595744680851088\" fill=\"currentColor\" stroke-width=\"0.1\"/>\n",
       "<rect x=\"112.5\" y=\"-25.0\" width=\"12.5\" height=\"12.5\" opacity=\"0.6808510638297887\" fill=\"currentColor\" stroke-width=\"0.1\"/>\n",
       "<rect x=\"125.0\" y=\"-25.0\" width=\"12.5\" height=\"12.5\" opacity=\"0.7340425531914904\" fill=\"currentColor\" stroke-width=\"0.1\"/>\n",
       "<rect x=\"137.5\" y=\"-25.0\" width=\"12.5\" height=\"12.5\" opacity=\"0.7340425531914926\" fill=\"currentColor\" stroke-width=\"0.1\"/>\n",
       "<rect x=\"150.0\" y=\"-25.0\" width=\"12.5\" height=\"12.5\" opacity=\"0.6276595744680851\" fill=\"currentColor\" stroke-width=\"0.1\"/>\n",
       "<rect x=\"162.5\" y=\"-25.0\" width=\"12.5\" height=\"12.5\" opacity=\"0.6702127659574503\" fill=\"currentColor\" stroke-width=\"0.1\"/>\n",
       "<rect x=\"174.99999999999997\" y=\"-25.0\" width=\"12.5\" height=\"12.5\" opacity=\"0.5957446808510642\" fill=\"currentColor\" stroke-width=\"0.1\"/>\n",
       "<rect x=\"187.5\" y=\"-25.0\" width=\"12.5\" height=\"12.5\" opacity=\"0.7234042553191494\" fill=\"currentColor\" stroke-width=\"0.1\"/>\n",
       "<rect x=\"200.00000000000003\" y=\"-25.0\" width=\"12.5\" height=\"12.5\" opacity=\"0.7446808510638336\" fill=\"currentColor\" stroke-width=\"0.1\"/>\n",
       "<rect x=\"212.5\" y=\"-25.0\" width=\"12.5\" height=\"12.5\" opacity=\"0.6382978723404255\" fill=\"currentColor\" stroke-width=\"0.1\"/>\n",
       "<rect x=\"225.0\" y=\"-25.0\" width=\"12.5\" height=\"12.5\" opacity=\"0.5319148936170244\" fill=\"currentColor\" stroke-width=\"0.1\"/>\n",
       "<rect x=\"237.49999999999997\" y=\"-25.0\" width=\"12.5\" height=\"12.5\" opacity=\"0.6702127659574467\" fill=\"currentColor\" stroke-width=\"0.1\"/>\n",
       "<rect x=\"0.0\" y=\"-37.5\" width=\"12.5\" height=\"12.5\" opacity=\"0.6702127659574477\" fill=\"currentColor\" stroke-width=\"0.1\"/>\n",
       "<rect x=\"12.50000000000001\" y=\"-37.5\" width=\"12.5\" height=\"12.5\" opacity=\"0.5744680851063855\" fill=\"currentColor\" stroke-width=\"0.1\"/>\n",
       "<rect x=\"24.999999999999986\" y=\"-37.5\" width=\"12.5\" height=\"12.5\" opacity=\"0.6914893617021276\" fill=\"currentColor\" stroke-width=\"0.1\"/>\n",
       "<rect x=\"37.500000000000014\" y=\"-37.5\" width=\"12.5\" height=\"12.5\" opacity=\"0.7021276595744712\" fill=\"currentColor\" stroke-width=\"0.1\"/>\n",
       "<rect x=\"49.999999999999986\" y=\"-37.5\" width=\"12.5\" height=\"12.5\" opacity=\"0.7872340425531926\" fill=\"currentColor\" stroke-width=\"0.1\"/>\n",
       "<rect x=\"62.5\" y=\"-37.5\" width=\"12.5\" height=\"12.5\" opacity=\"0.6808510638297882\" fill=\"currentColor\" stroke-width=\"0.1\"/>\n",
       "<rect x=\"75.00000000000001\" y=\"-37.5\" width=\"12.5\" height=\"12.5\" opacity=\"0.7021276595744712\" fill=\"currentColor\" stroke-width=\"0.1\"/>\n",
       "<rect x=\"87.49999999999999\" y=\"-37.5\" width=\"12.5\" height=\"12.5\" opacity=\"1.0\" fill=\"currentColor\" stroke-width=\"0.1\"/>\n",
       "<rect x=\"100.00000000000001\" y=\"-37.5\" width=\"12.5\" height=\"12.5\" opacity=\"0.734042553191492\" fill=\"currentColor\" stroke-width=\"0.1\"/>\n",
       "<rect x=\"112.5\" y=\"-37.5\" width=\"12.5\" height=\"12.5\" opacity=\"0.6595744680851078\" fill=\"currentColor\" stroke-width=\"0.1\"/>\n",
       "<rect x=\"125.0\" y=\"-37.5\" width=\"12.5\" height=\"12.5\" opacity=\"0.6702127659574477\" fill=\"currentColor\" stroke-width=\"0.1\"/>\n",
       "<rect x=\"137.5\" y=\"-37.5\" width=\"12.5\" height=\"12.5\" opacity=\"0.6702127659574497\" fill=\"currentColor\" stroke-width=\"0.1\"/>\n",
       "<rect x=\"150.0\" y=\"-37.5\" width=\"12.5\" height=\"12.5\" opacity=\"0.7872340425531914\" fill=\"currentColor\" stroke-width=\"0.1\"/>\n",
       "<rect x=\"162.5\" y=\"-37.5\" width=\"12.5\" height=\"12.5\" opacity=\"0.5851063829787264\" fill=\"currentColor\" stroke-width=\"0.1\"/>\n",
       "<rect x=\"174.99999999999997\" y=\"-37.5\" width=\"12.5\" height=\"12.5\" opacity=\"0.8191489361702132\" fill=\"currentColor\" stroke-width=\"0.1\"/>\n",
       "<rect x=\"187.5\" y=\"-37.5\" width=\"12.5\" height=\"12.5\" opacity=\"0.638297872340426\" fill=\"currentColor\" stroke-width=\"0.1\"/>\n",
       "<rect x=\"200.00000000000003\" y=\"-37.5\" width=\"12.5\" height=\"12.5\" opacity=\"0.6382978723404288\" fill=\"currentColor\" stroke-width=\"0.1\"/>\n",
       "<rect x=\"212.5\" y=\"-37.5\" width=\"12.5\" height=\"12.5\" opacity=\"0.776595744680851\" fill=\"currentColor\" stroke-width=\"0.1\"/>\n",
       "<rect x=\"225.0\" y=\"-37.5\" width=\"12.5\" height=\"12.5\" opacity=\"0.6276595744680887\" fill=\"currentColor\" stroke-width=\"0.1\"/>\n",
       "<rect x=\"237.49999999999997\" y=\"-37.5\" width=\"12.5\" height=\"12.5\" opacity=\"0.6382978723404255\" fill=\"currentColor\" stroke-width=\"0.1\"/>\n",
       "<rect x=\"0.0\" y=\"-50.0\" width=\"12.5\" height=\"12.5\" opacity=\"0.6489361702127668\" fill=\"currentColor\" stroke-width=\"0.1\"/>\n",
       "<rect x=\"12.50000000000001\" y=\"-50.0\" width=\"12.5\" height=\"12.5\" opacity=\"0.5531914893617046\" fill=\"currentColor\" stroke-width=\"0.1\"/>\n",
       "<rect x=\"24.999999999999986\" y=\"-50.0\" width=\"12.5\" height=\"12.5\" opacity=\"0.7127659574468085\" fill=\"currentColor\" stroke-width=\"0.1\"/>\n",
       "<rect x=\"37.500000000000014\" y=\"-50.0\" width=\"12.5\" height=\"12.5\" opacity=\"0.5212765957446832\" fill=\"currentColor\" stroke-width=\"0.1\"/>\n",
       "<rect x=\"49.999999999999986\" y=\"-50.0\" width=\"12.5\" height=\"12.5\" opacity=\"0.5531914893617029\" fill=\"currentColor\" stroke-width=\"0.1\"/>\n",
       "<rect x=\"62.5\" y=\"-50.0\" width=\"12.5\" height=\"12.5\" opacity=\"0.7127659574468096\" fill=\"currentColor\" stroke-width=\"0.1\"/>\n",
       "<rect x=\"75.00000000000001\" y=\"-50.0\" width=\"12.5\" height=\"12.5\" opacity=\"0.8404255319148973\" fill=\"currentColor\" stroke-width=\"0.1\"/>\n",
       "<rect x=\"87.49999999999999\" y=\"-50.0\" width=\"12.5\" height=\"12.5\" opacity=\"0.7553191489361702\" fill=\"currentColor\" stroke-width=\"0.1\"/>\n",
       "<rect x=\"100.00000000000001\" y=\"-50.0\" width=\"12.5\" height=\"12.5\" opacity=\"0.8404255319148967\" fill=\"currentColor\" stroke-width=\"0.1\"/>\n",
       "<rect x=\"112.5\" y=\"-50.0\" width=\"12.5\" height=\"12.5\" opacity=\"0.8297872340425549\" fill=\"currentColor\" stroke-width=\"0.1\"/>\n",
       "<rect x=\"125.0\" y=\"-50.0\" width=\"12.5\" height=\"12.5\" opacity=\"0.72340425531915\" fill=\"currentColor\" stroke-width=\"0.1\"/>\n",
       "<rect x=\"137.5\" y=\"-50.0\" width=\"12.5\" height=\"12.5\" opacity=\"0.6382978723404283\" fill=\"currentColor\" stroke-width=\"0.1\"/>\n",
       "<rect x=\"150.0\" y=\"-50.0\" width=\"12.5\" height=\"12.5\" opacity=\"0.8297872340425532\" fill=\"currentColor\" stroke-width=\"0.1\"/>\n",
       "<rect x=\"162.5\" y=\"-50.0\" width=\"12.5\" height=\"12.5\" opacity=\"0.7127659574468121\" fill=\"currentColor\" stroke-width=\"0.1\"/>\n",
       "<rect x=\"174.99999999999997\" y=\"-50.0\" width=\"12.5\" height=\"12.5\" opacity=\"0.8191489361702132\" fill=\"currentColor\" stroke-width=\"0.1\"/>\n",
       "<rect x=\"187.5\" y=\"-50.0\" width=\"12.5\" height=\"12.5\" opacity=\"0.638297872340426\" fill=\"currentColor\" stroke-width=\"0.1\"/>\n",
       "<rect x=\"200.00000000000003\" y=\"-50.0\" width=\"12.5\" height=\"12.5\" opacity=\"0.5212765957446835\" fill=\"currentColor\" stroke-width=\"0.1\"/>\n",
       "<rect x=\"212.5\" y=\"-50.0\" width=\"12.5\" height=\"12.5\" opacity=\"0.6808510638297872\" fill=\"currentColor\" stroke-width=\"0.1\"/>\n",
       "<rect x=\"225.0\" y=\"-50.0\" width=\"12.5\" height=\"12.5\" opacity=\"0.5212765957446839\" fill=\"currentColor\" stroke-width=\"0.1\"/>\n",
       "<rect x=\"237.49999999999997\" y=\"-50.0\" width=\"12.5\" height=\"12.5\" opacity=\"0.7127659574468085\" fill=\"currentColor\" stroke-width=\"0.1\"/>\n",
       "<rect x=\"0.0\" y=\"-62.5\" width=\"12.5\" height=\"12.5\" opacity=\"0.7553191489361712\" fill=\"currentColor\" stroke-width=\"0.1\"/>\n",
       "<rect x=\"12.50000000000001\" y=\"-62.5\" width=\"12.5\" height=\"12.5\" opacity=\"0.5638297872340451\" fill=\"currentColor\" stroke-width=\"0.1\"/>\n",
       "<rect x=\"24.999999999999986\" y=\"-62.5\" width=\"12.5\" height=\"12.5\" opacity=\"0.6914893617021276\" fill=\"currentColor\" stroke-width=\"0.1\"/>\n",
       "<rect x=\"37.500000000000014\" y=\"-62.5\" width=\"12.5\" height=\"12.5\" opacity=\"0.6914893617021307\" fill=\"currentColor\" stroke-width=\"0.1\"/>\n",
       "<rect x=\"49.999999999999986\" y=\"-62.5\" width=\"12.5\" height=\"12.5\" opacity=\"0.6382978723404265\" fill=\"currentColor\" stroke-width=\"0.1\"/>\n",
       "<rect x=\"62.5\" y=\"-62.5\" width=\"12.5\" height=\"12.5\" opacity=\"0.9042553191489374\" fill=\"currentColor\" stroke-width=\"0.1\"/>\n",
       "<rect x=\"75.00000000000001\" y=\"-62.5\" width=\"12.5\" height=\"12.5\" opacity=\"0.8404255319148973\" fill=\"currentColor\" stroke-width=\"0.1\"/>\n",
       "<rect x=\"87.49999999999999\" y=\"-62.5\" width=\"12.5\" height=\"12.5\" opacity=\"0.7127659574468085\" fill=\"currentColor\" stroke-width=\"0.1\"/>\n",
       "<rect x=\"100.00000000000001\" y=\"-62.5\" width=\"12.5\" height=\"12.5\" opacity=\"0.6702127659574493\" fill=\"currentColor\" stroke-width=\"0.1\"/>\n",
       "<rect x=\"112.5\" y=\"-62.5\" width=\"12.5\" height=\"12.5\" opacity=\"0.5957446808510651\" fill=\"currentColor\" stroke-width=\"0.1\"/>\n",
       "<rect x=\"125.0\" y=\"-62.5\" width=\"12.5\" height=\"12.5\" opacity=\"0.6276595744680861\" fill=\"currentColor\" stroke-width=\"0.1\"/>\n",
       "<rect x=\"137.5\" y=\"-62.5\" width=\"12.5\" height=\"12.5\" opacity=\"0.787234042553195\" fill=\"currentColor\" stroke-width=\"0.1\"/>\n",
       "<rect x=\"150.0\" y=\"-62.5\" width=\"12.5\" height=\"12.5\" opacity=\"0.6170212765957447\" fill=\"currentColor\" stroke-width=\"0.1\"/>\n",
       "<rect x=\"162.5\" y=\"-62.5\" width=\"12.5\" height=\"12.5\" opacity=\"0.797872340425536\" fill=\"currentColor\" stroke-width=\"0.1\"/>\n",
       "<rect x=\"174.99999999999997\" y=\"-62.5\" width=\"12.5\" height=\"12.5\" opacity=\"0.8085106382978728\" fill=\"currentColor\" stroke-width=\"0.1\"/>\n",
       "<rect x=\"187.5\" y=\"-62.5\" width=\"12.5\" height=\"12.5\" opacity=\"0.638297872340426\" fill=\"currentColor\" stroke-width=\"0.1\"/>\n",
       "<rect x=\"200.00000000000003\" y=\"-62.5\" width=\"12.5\" height=\"12.5\" opacity=\"0.4680851063829811\" fill=\"currentColor\" stroke-width=\"0.1\"/>\n",
       "<rect x=\"212.5\" y=\"-62.5\" width=\"12.5\" height=\"12.5\" opacity=\"0.7234042553191489\" fill=\"currentColor\" stroke-width=\"0.1\"/>\n",
       "<rect x=\"225.0\" y=\"-62.5\" width=\"12.5\" height=\"12.5\" opacity=\"0.6808510638297912\" fill=\"currentColor\" stroke-width=\"0.1\"/>\n",
       "<rect x=\"237.49999999999997\" y=\"-62.5\" width=\"12.5\" height=\"12.5\" opacity=\"0.776595744680851\" fill=\"currentColor\" stroke-width=\"0.1\"/>\n",
       "<rect x=\"0.0\" y=\"-75.0\" width=\"12.5\" height=\"12.5\" opacity=\"0.6063829787234052\" fill=\"currentColor\" stroke-width=\"0.1\"/>\n",
       "<rect x=\"12.50000000000001\" y=\"-75.0\" width=\"12.5\" height=\"12.5\" opacity=\"0.6382978723404283\" fill=\"currentColor\" stroke-width=\"0.1\"/>\n",
       "<rect x=\"24.999999999999986\" y=\"-75.0\" width=\"12.5\" height=\"12.5\" opacity=\"0.7127659574468085\" fill=\"currentColor\" stroke-width=\"0.1\"/>\n",
       "<rect x=\"37.500000000000014\" y=\"-75.0\" width=\"12.5\" height=\"12.5\" opacity=\"0.6489361702127688\" fill=\"currentColor\" stroke-width=\"0.1\"/>\n",
       "<rect x=\"49.999999999999986\" y=\"-75.0\" width=\"12.5\" height=\"12.5\" opacity=\"0.6276595744680861\" fill=\"currentColor\" stroke-width=\"0.1\"/>\n",
       "<rect x=\"62.5\" y=\"-75.0\" width=\"12.5\" height=\"12.5\" opacity=\"0.8829787234042566\" fill=\"currentColor\" stroke-width=\"0.1\"/>\n",
       "<rect x=\"75.00000000000001\" y=\"-75.0\" width=\"12.5\" height=\"12.5\" opacity=\"0.7659574468085141\" fill=\"currentColor\" stroke-width=\"0.1\"/>\n",
       "<rect x=\"87.49999999999999\" y=\"-75.0\" width=\"12.5\" height=\"12.5\" opacity=\"0.8723404255319147\" fill=\"currentColor\" stroke-width=\"0.1\"/>\n",
       "<rect x=\"100.00000000000001\" y=\"-75.0\" width=\"12.5\" height=\"12.5\" opacity=\"0.7127659574468111\" fill=\"currentColor\" stroke-width=\"0.1\"/>\n",
       "<rect x=\"112.5\" y=\"-75.0\" width=\"12.5\" height=\"12.5\" opacity=\"0.8085106382978742\" fill=\"currentColor\" stroke-width=\"0.1\"/>\n",
       "<rect x=\"125.0\" y=\"-75.0\" width=\"12.5\" height=\"12.5\" opacity=\"0.8297872340425544\" fill=\"currentColor\" stroke-width=\"0.1\"/>\n",
       "<rect x=\"137.5\" y=\"-75.0\" width=\"12.5\" height=\"12.5\" opacity=\"0.7021276595744712\" fill=\"currentColor\" stroke-width=\"0.1\"/>\n",
       "<rect x=\"150.0\" y=\"-75.0\" width=\"12.5\" height=\"12.5\" opacity=\"0.6595744680851063\" fill=\"currentColor\" stroke-width=\"0.1\"/>\n",
       "<rect x=\"162.5\" y=\"-75.0\" width=\"12.5\" height=\"12.5\" opacity=\"0.6276595744680883\" fill=\"currentColor\" stroke-width=\"0.1\"/>\n",
       "<rect x=\"174.99999999999997\" y=\"-75.0\" width=\"12.5\" height=\"12.5\" opacity=\"0.7553191489361707\" fill=\"currentColor\" stroke-width=\"0.1\"/>\n",
       "<rect x=\"187.5\" y=\"-75.0\" width=\"12.5\" height=\"12.5\" opacity=\"0.6489361702127664\" fill=\"currentColor\" stroke-width=\"0.1\"/>\n",
       "<rect x=\"200.00000000000003\" y=\"-75.0\" width=\"12.5\" height=\"12.5\" opacity=\"0.5744680851063859\" fill=\"currentColor\" stroke-width=\"0.1\"/>\n",
       "<rect x=\"212.5\" y=\"-75.0\" width=\"12.5\" height=\"12.5\" opacity=\"0.7021276595744681\" fill=\"currentColor\" stroke-width=\"0.1\"/>\n",
       "<rect x=\"225.0\" y=\"-75.0\" width=\"12.5\" height=\"12.5\" opacity=\"0.43617021276596\" fill=\"currentColor\" stroke-width=\"0.1\"/>\n",
       "<rect x=\"237.49999999999997\" y=\"-75.0\" width=\"12.5\" height=\"12.5\" opacity=\"0.776595744680851\" fill=\"currentColor\" stroke-width=\"0.1\"/>\n",
       "<rect x=\"0.0\" y=\"-87.5\" width=\"12.5\" height=\"12.5\" opacity=\"0.6276595744680861\" fill=\"currentColor\" stroke-width=\"0.1\"/>\n",
       "<rect x=\"12.50000000000001\" y=\"-87.5\" width=\"12.5\" height=\"12.5\" opacity=\"0.5106382978723427\" fill=\"currentColor\" stroke-width=\"0.1\"/>\n",
       "<rect x=\"24.999999999999986\" y=\"-87.5\" width=\"12.5\" height=\"12.5\" opacity=\"0.5531914893617021\" fill=\"currentColor\" stroke-width=\"0.1\"/>\n",
       "<rect x=\"37.500000000000014\" y=\"-87.5\" width=\"12.5\" height=\"12.5\" opacity=\"0.5638297872340451\" fill=\"currentColor\" stroke-width=\"0.1\"/>\n",
       "<rect x=\"49.999999999999986\" y=\"-87.5\" width=\"12.5\" height=\"12.5\" opacity=\"0.8297872340425544\" fill=\"currentColor\" stroke-width=\"0.1\"/>\n",
       "<rect x=\"62.5\" y=\"-87.5\" width=\"12.5\" height=\"12.5\" opacity=\"0.7021276595744691\" fill=\"currentColor\" stroke-width=\"0.1\"/>\n",
       "<rect x=\"75.00000000000001\" y=\"-87.5\" width=\"12.5\" height=\"12.5\" opacity=\"0.808510638297876\" fill=\"currentColor\" stroke-width=\"0.1\"/>\n",
       "<rect x=\"87.49999999999999\" y=\"-87.5\" width=\"12.5\" height=\"12.5\" opacity=\"0.7021276595744681\" fill=\"currentColor\" stroke-width=\"0.1\"/>\n",
       "<rect x=\"100.00000000000001\" y=\"-87.5\" width=\"12.5\" height=\"12.5\" opacity=\"0.6808510638297897\" fill=\"currentColor\" stroke-width=\"0.1\"/>\n",
       "<rect x=\"112.5\" y=\"-87.5\" width=\"12.5\" height=\"12.5\" opacity=\"0.6489361702127674\" fill=\"currentColor\" stroke-width=\"0.1\"/>\n",
       "<rect x=\"125.0\" y=\"-87.5\" width=\"12.5\" height=\"12.5\" opacity=\"0.72340425531915\" fill=\"currentColor\" stroke-width=\"0.1\"/>\n",
       "<rect x=\"137.5\" y=\"-87.5\" width=\"12.5\" height=\"12.5\" opacity=\"0.8723404255319187\" fill=\"currentColor\" stroke-width=\"0.1\"/>\n",
       "<rect x=\"150.0\" y=\"-87.5\" width=\"12.5\" height=\"12.5\" opacity=\"0.5851063829787233\" fill=\"currentColor\" stroke-width=\"0.1\"/>\n",
       "<rect x=\"162.5\" y=\"-87.5\" width=\"12.5\" height=\"12.5\" opacity=\"0.5000000000000026\" fill=\"currentColor\" stroke-width=\"0.1\"/>\n",
       "<rect x=\"174.99999999999997\" y=\"-87.5\" width=\"12.5\" height=\"12.5\" opacity=\"0.8723404255319155\" fill=\"currentColor\" stroke-width=\"0.1\"/>\n",
       "<rect x=\"187.5\" y=\"-87.5\" width=\"12.5\" height=\"12.5\" opacity=\"0.712765957446809\" fill=\"currentColor\" stroke-width=\"0.1\"/>\n",
       "<rect x=\"200.00000000000003\" y=\"-87.5\" width=\"12.5\" height=\"12.5\" opacity=\"0.6170212765957478\" fill=\"currentColor\" stroke-width=\"0.1\"/>\n",
       "<rect x=\"212.5\" y=\"-87.5\" width=\"12.5\" height=\"12.5\" opacity=\"0.5531914893617021\" fill=\"currentColor\" stroke-width=\"0.1\"/>\n",
       "<rect x=\"225.0\" y=\"-87.5\" width=\"12.5\" height=\"12.5\" opacity=\"0.500000000000003\" fill=\"currentColor\" stroke-width=\"0.1\"/>\n",
       "<rect x=\"237.49999999999997\" y=\"-87.5\" width=\"12.5\" height=\"12.5\" opacity=\"0.6914893617021276\" fill=\"currentColor\" stroke-width=\"0.1\"/>\n",
       "<rect x=\"0.0\" y=\"-100.0\" width=\"12.5\" height=\"12.5\" opacity=\"0.6808510638297882\" fill=\"currentColor\" stroke-width=\"0.1\"/>\n",
       "<rect x=\"12.50000000000001\" y=\"-100.0\" width=\"12.5\" height=\"12.5\" opacity=\"0.5212765957446832\" fill=\"currentColor\" stroke-width=\"0.1\"/>\n",
       "<rect x=\"24.999999999999986\" y=\"-100.0\" width=\"12.5\" height=\"12.5\" opacity=\"0.5851063829787233\" fill=\"currentColor\" stroke-width=\"0.1\"/>\n",
       "<rect x=\"37.500000000000014\" y=\"-100.0\" width=\"12.5\" height=\"12.5\" opacity=\"0.5744680851063855\" fill=\"currentColor\" stroke-width=\"0.1\"/>\n",
       "<rect x=\"49.999999999999986\" y=\"-100.0\" width=\"12.5\" height=\"12.5\" opacity=\"0.6276595744680861\" fill=\"currentColor\" stroke-width=\"0.1\"/>\n",
       "<rect x=\"62.5\" y=\"-100.0\" width=\"12.5\" height=\"12.5\" opacity=\"0.9148936170212778\" fill=\"currentColor\" stroke-width=\"0.1\"/>\n",
       "<rect x=\"75.00000000000001\" y=\"-100.0\" width=\"12.5\" height=\"12.5\" opacity=\"0.7021276595744712\" fill=\"currentColor\" stroke-width=\"0.1\"/>\n",
       "<rect x=\"87.49999999999999\" y=\"-100.0\" width=\"12.5\" height=\"12.5\" opacity=\"0.648936170212766\" fill=\"currentColor\" stroke-width=\"0.1\"/>\n",
       "<rect x=\"100.00000000000001\" y=\"-100.0\" width=\"12.5\" height=\"12.5\" opacity=\"0.595744680851066\" fill=\"currentColor\" stroke-width=\"0.1\"/>\n",
       "<rect x=\"112.5\" y=\"-100.0\" width=\"12.5\" height=\"12.5\" opacity=\"0.6808510638297887\" fill=\"currentColor\" stroke-width=\"0.1\"/>\n",
       "<rect x=\"125.0\" y=\"-100.0\" width=\"12.5\" height=\"12.5\" opacity=\"0.6063829787234052\" fill=\"currentColor\" stroke-width=\"0.1\"/>\n",
       "<rect x=\"137.5\" y=\"-100.0\" width=\"12.5\" height=\"12.5\" opacity=\"0.6489361702127688\" fill=\"currentColor\" stroke-width=\"0.1\"/>\n",
       "<rect x=\"150.0\" y=\"-100.0\" width=\"12.5\" height=\"12.5\" opacity=\"0.6276595744680851\" fill=\"currentColor\" stroke-width=\"0.1\"/>\n",
       "<rect x=\"162.5\" y=\"-100.0\" width=\"12.5\" height=\"12.5\" opacity=\"0.7659574468085146\" fill=\"currentColor\" stroke-width=\"0.1\"/>\n",
       "<rect x=\"174.99999999999997\" y=\"-100.0\" width=\"12.5\" height=\"12.5\" opacity=\"0.7446808510638303\" fill=\"currentColor\" stroke-width=\"0.1\"/>\n",
       "<rect x=\"187.5\" y=\"-100.0\" width=\"12.5\" height=\"12.5\" opacity=\"0.7021276595744685\" fill=\"currentColor\" stroke-width=\"0.1\"/>\n",
       "<rect x=\"200.00000000000003\" y=\"-100.0\" width=\"12.5\" height=\"12.5\" opacity=\"0.6489361702127693\" fill=\"currentColor\" stroke-width=\"0.1\"/>\n",
       "<rect x=\"212.5\" y=\"-100.0\" width=\"12.5\" height=\"12.5\" opacity=\"0.7659574468085106\" fill=\"currentColor\" stroke-width=\"0.1\"/>\n",
       "<rect x=\"225.0\" y=\"-100.0\" width=\"12.5\" height=\"12.5\" opacity=\"0.7872340425531962\" fill=\"currentColor\" stroke-width=\"0.1\"/>\n",
       "<rect x=\"237.49999999999997\" y=\"-100.0\" width=\"12.5\" height=\"12.5\" opacity=\"0.6595744680851063\" fill=\"currentColor\" stroke-width=\"0.1\"/>\n",
       "<rect x=\"0.0\" y=\"-112.5\" width=\"12.5\" height=\"12.5\" opacity=\"0.6382978723404265\" fill=\"currentColor\" stroke-width=\"0.1\"/>\n",
       "<rect x=\"12.50000000000001\" y=\"-112.5\" width=\"12.5\" height=\"12.5\" opacity=\"0.5744680851063855\" fill=\"currentColor\" stroke-width=\"0.1\"/>\n",
       "<rect x=\"24.999999999999986\" y=\"-112.5\" width=\"12.5\" height=\"12.5\" opacity=\"0.7127659574468085\" fill=\"currentColor\" stroke-width=\"0.1\"/>\n",
       "<rect x=\"37.500000000000014\" y=\"-112.5\" width=\"12.5\" height=\"12.5\" opacity=\"0.6170212765957473\" fill=\"currentColor\" stroke-width=\"0.1\"/>\n",
       "<rect x=\"49.999999999999986\" y=\"-112.5\" width=\"12.5\" height=\"12.5\" opacity=\"0.6382978723404265\" fill=\"currentColor\" stroke-width=\"0.1\"/>\n",
       "<rect x=\"62.5\" y=\"-112.5\" width=\"12.5\" height=\"12.5\" opacity=\"0.6489361702127668\" fill=\"currentColor\" stroke-width=\"0.1\"/>\n",
       "<rect x=\"75.00000000000001\" y=\"-112.5\" width=\"12.5\" height=\"12.5\" opacity=\"0.7553191489361736\" fill=\"currentColor\" stroke-width=\"0.1\"/>\n",
       "<rect x=\"87.49999999999999\" y=\"-112.5\" width=\"12.5\" height=\"12.5\" opacity=\"0.7446808510638298\" fill=\"currentColor\" stroke-width=\"0.1\"/>\n",
       "<rect x=\"100.00000000000001\" y=\"-112.5\" width=\"12.5\" height=\"12.5\" opacity=\"0.5425531914893637\" fill=\"currentColor\" stroke-width=\"0.1\"/>\n",
       "<rect x=\"112.5\" y=\"-112.5\" width=\"12.5\" height=\"12.5\" opacity=\"0.7340425531914909\" fill=\"currentColor\" stroke-width=\"0.1\"/>\n",
       "<rect x=\"125.0\" y=\"-112.5\" width=\"12.5\" height=\"12.5\" opacity=\"0.9468085106382992\" fill=\"currentColor\" stroke-width=\"0.1\"/>\n",
       "<rect x=\"137.5\" y=\"-112.5\" width=\"12.5\" height=\"12.5\" opacity=\"0.7340425531914926\" fill=\"currentColor\" stroke-width=\"0.1\"/>\n",
       "<rect x=\"150.0\" y=\"-112.5\" width=\"12.5\" height=\"12.5\" opacity=\"0.7340425531914893\" fill=\"currentColor\" stroke-width=\"0.1\"/>\n",
       "<rect x=\"162.5\" y=\"-112.5\" width=\"12.5\" height=\"12.5\" opacity=\"0.6808510638297907\" fill=\"currentColor\" stroke-width=\"0.1\"/>\n",
       "<rect x=\"174.99999999999997\" y=\"-112.5\" width=\"12.5\" height=\"12.5\" opacity=\"0.9893617021276603\" fill=\"currentColor\" stroke-width=\"0.1\"/>\n",
       "<rect x=\"187.5\" y=\"-112.5\" width=\"12.5\" height=\"12.5\" opacity=\"0.5531914893617025\" fill=\"currentColor\" stroke-width=\"0.1\"/>\n",
       "<rect x=\"200.00000000000003\" y=\"-112.5\" width=\"12.5\" height=\"12.5\" opacity=\"0.7127659574468121\" fill=\"currentColor\" stroke-width=\"0.1\"/>\n",
       "<rect x=\"212.5\" y=\"-112.5\" width=\"12.5\" height=\"12.5\" opacity=\"0.5851063829787233\" fill=\"currentColor\" stroke-width=\"0.1\"/>\n",
       "<rect x=\"225.0\" y=\"-112.5\" width=\"12.5\" height=\"12.5\" opacity=\"0.5212765957446839\" fill=\"currentColor\" stroke-width=\"0.1\"/>\n",
       "<rect x=\"237.49999999999997\" y=\"-112.5\" width=\"12.5\" height=\"12.5\" opacity=\"0.6914893617021276\" fill=\"currentColor\" stroke-width=\"0.1\"/>\n",
       "<rect x=\"0.0\" y=\"-125.0\" width=\"12.5\" height=\"12.5\" opacity=\"0.5212765957446817\" fill=\"currentColor\" stroke-width=\"0.1\"/>\n",
       "<rect x=\"12.50000000000001\" y=\"-125.0\" width=\"12.5\" height=\"12.5\" opacity=\"0.5957446808510665\" fill=\"currentColor\" stroke-width=\"0.1\"/>\n",
       "<rect x=\"24.999999999999986\" y=\"-125.0\" width=\"12.5\" height=\"12.5\" opacity=\"0.8297872340425532\" fill=\"currentColor\" stroke-width=\"0.1\"/>\n",
       "<rect x=\"37.500000000000014\" y=\"-125.0\" width=\"12.5\" height=\"12.5\" opacity=\"0.6276595744680878\" fill=\"currentColor\" stroke-width=\"0.1\"/>\n",
       "<rect x=\"49.999999999999986\" y=\"-125.0\" width=\"12.5\" height=\"12.5\" opacity=\"0.8404255319148948\" fill=\"currentColor\" stroke-width=\"0.1\"/>\n",
       "<rect x=\"62.5\" y=\"-125.0\" width=\"12.5\" height=\"12.5\" opacity=\"0.6702127659574477\" fill=\"currentColor\" stroke-width=\"0.1\"/>\n",
       "<rect x=\"75.00000000000001\" y=\"-125.0\" width=\"12.5\" height=\"12.5\" opacity=\"0.7234042553191522\" fill=\"currentColor\" stroke-width=\"0.1\"/>\n",
       "<rect x=\"87.49999999999999\" y=\"-125.0\" width=\"12.5\" height=\"12.5\" opacity=\"0.6595744680851063\" fill=\"currentColor\" stroke-width=\"0.1\"/>\n",
       "<rect x=\"100.00000000000001\" y=\"-125.0\" width=\"12.5\" height=\"12.5\" opacity=\"0.8085106382978753\" fill=\"currentColor\" stroke-width=\"0.1\"/>\n",
       "<rect x=\"112.5\" y=\"-125.0\" width=\"12.5\" height=\"12.5\" opacity=\"0.6808510638297887\" fill=\"currentColor\" stroke-width=\"0.1\"/>\n",
       "<rect x=\"125.0\" y=\"-125.0\" width=\"12.5\" height=\"12.5\" opacity=\"0.8085106382978735\" fill=\"currentColor\" stroke-width=\"0.1\"/>\n",
       "<rect x=\"137.5\" y=\"-125.0\" width=\"12.5\" height=\"12.5\" opacity=\"0.7021276595744712\" fill=\"currentColor\" stroke-width=\"0.1\"/>\n",
       "<rect x=\"150.0\" y=\"-125.0\" width=\"12.5\" height=\"12.5\" opacity=\"0.7234042553191489\" fill=\"currentColor\" stroke-width=\"0.1\"/>\n",
       "<rect x=\"162.5\" y=\"-125.0\" width=\"12.5\" height=\"12.5\" opacity=\"0.797872340425536\" fill=\"currentColor\" stroke-width=\"0.1\"/>\n",
       "<rect x=\"174.99999999999997\" y=\"-125.0\" width=\"12.5\" height=\"12.5\" opacity=\"0.7765957446808517\" fill=\"currentColor\" stroke-width=\"0.1\"/>\n",
       "<rect x=\"187.5\" y=\"-125.0\" width=\"12.5\" height=\"12.5\" opacity=\"0.7765957446808517\" fill=\"currentColor\" stroke-width=\"0.1\"/>\n",
       "<rect x=\"200.00000000000003\" y=\"-125.0\" width=\"12.5\" height=\"12.5\" opacity=\"0.4893617021276621\" fill=\"currentColor\" stroke-width=\"0.1\"/>\n",
       "<rect x=\"212.5\" y=\"-125.0\" width=\"12.5\" height=\"12.5\" opacity=\"0.7446808510638298\" fill=\"currentColor\" stroke-width=\"0.1\"/>\n",
       "<rect x=\"225.0\" y=\"-125.0\" width=\"12.5\" height=\"12.5\" opacity=\"0.6063829787234079\" fill=\"currentColor\" stroke-width=\"0.1\"/>\n",
       "<rect x=\"237.49999999999997\" y=\"-125.0\" width=\"12.5\" height=\"12.5\" opacity=\"0.5638297872340425\" fill=\"currentColor\" stroke-width=\"0.1\"/>\n",
       "<rect x=\"0.0\" y=\"-137.5\" width=\"12.5\" height=\"12.5\" opacity=\"0.6914893617021276\" fill=\"currentColor\" stroke-width=\"0.1\"/>\n",
       "<rect x=\"12.50000000000001\" y=\"-137.5\" width=\"12.5\" height=\"12.5\" opacity=\"0.627659574468087\" fill=\"currentColor\" stroke-width=\"0.1\"/>\n",
       "<rect x=\"24.999999999999986\" y=\"-137.5\" width=\"12.5\" height=\"12.5\" opacity=\"0.7340425531914883\" fill=\"currentColor\" stroke-width=\"0.1\"/>\n",
       "<rect x=\"37.500000000000014\" y=\"-137.5\" width=\"12.5\" height=\"12.5\" opacity=\"0.7340425531914915\" fill=\"currentColor\" stroke-width=\"0.1\"/>\n",
       "<rect x=\"49.999999999999986\" y=\"-137.5\" width=\"12.5\" height=\"12.5\" opacity=\"0.7127659574468085\" fill=\"currentColor\" stroke-width=\"0.1\"/>\n",
       "<rect x=\"62.5\" y=\"-137.5\" width=\"12.5\" height=\"12.5\" opacity=\"0.7127659574468085\" fill=\"currentColor\" stroke-width=\"0.1\"/>\n",
       "<rect x=\"75.00000000000001\" y=\"-137.5\" width=\"12.5\" height=\"12.5\" opacity=\"0.5106382978723419\" fill=\"currentColor\" stroke-width=\"0.1\"/>\n",
       "<rect x=\"87.49999999999999\" y=\"-137.5\" width=\"12.5\" height=\"12.5\" opacity=\"0.6702127659574457\" fill=\"currentColor\" stroke-width=\"0.1\"/>\n",
       "<rect x=\"100.00000000000001\" y=\"-137.5\" width=\"12.5\" height=\"12.5\" opacity=\"0.6595744680851078\" fill=\"currentColor\" stroke-width=\"0.1\"/>\n",
       "<rect x=\"112.5\" y=\"-137.5\" width=\"12.5\" height=\"12.5\" opacity=\"0.7553191489361707\" fill=\"currentColor\" stroke-width=\"0.1\"/>\n",
       "<rect x=\"125.0\" y=\"-137.5\" width=\"12.5\" height=\"12.5\" opacity=\"0.8936170212765957\" fill=\"currentColor\" stroke-width=\"0.1\"/>\n",
       "<rect x=\"137.5\" y=\"-137.5\" width=\"12.5\" height=\"12.5\" opacity=\"0.8297872340425557\" fill=\"currentColor\" stroke-width=\"0.1\"/>\n",
       "<rect x=\"150.0\" y=\"-137.5\" width=\"12.5\" height=\"12.5\" opacity=\"0.6170212765957438\" fill=\"currentColor\" stroke-width=\"0.1\"/>\n",
       "<rect x=\"162.5\" y=\"-137.5\" width=\"12.5\" height=\"12.5\" opacity=\"0.7234042553191516\" fill=\"currentColor\" stroke-width=\"0.1\"/>\n",
       "<rect x=\"174.99999999999997\" y=\"-137.5\" width=\"12.5\" height=\"12.5\" opacity=\"0.6808510638297868\" fill=\"currentColor\" stroke-width=\"0.1\"/>\n",
       "<rect x=\"187.5\" y=\"-137.5\" width=\"12.5\" height=\"12.5\" opacity=\"0.638297872340425\" fill=\"currentColor\" stroke-width=\"0.1\"/>\n",
       "<rect x=\"200.00000000000003\" y=\"-137.5\" width=\"12.5\" height=\"12.5\" opacity=\"0.6170212765957469\" fill=\"currentColor\" stroke-width=\"0.1\"/>\n",
       "<rect x=\"212.5\" y=\"-137.5\" width=\"12.5\" height=\"12.5\" opacity=\"0.702127659574467\" fill=\"currentColor\" stroke-width=\"0.1\"/>\n",
       "<rect x=\"225.0\" y=\"-137.5\" width=\"12.5\" height=\"12.5\" opacity=\"0.3936170212765975\" fill=\"currentColor\" stroke-width=\"0.1\"/>\n",
       "<rect x=\"237.49999999999997\" y=\"-137.5\" width=\"12.5\" height=\"12.5\" opacity=\"0.7872340425531903\" fill=\"currentColor\" stroke-width=\"0.1\"/>\n",
       "<rect x=\"0.0\" y=\"-150.0\" width=\"12.5\" height=\"12.5\" opacity=\"0.8191489361702151\" fill=\"currentColor\" stroke-width=\"0.1\"/>\n",
       "<rect x=\"12.50000000000001\" y=\"-150.0\" width=\"12.5\" height=\"12.5\" opacity=\"0.5319148936170243\" fill=\"currentColor\" stroke-width=\"0.1\"/>\n",
       "<rect x=\"24.999999999999986\" y=\"-150.0\" width=\"12.5\" height=\"12.5\" opacity=\"0.6914893617021285\" fill=\"currentColor\" stroke-width=\"0.1\"/>\n",
       "<rect x=\"37.500000000000014\" y=\"-150.0\" width=\"12.5\" height=\"12.5\" opacity=\"0.4893617021276624\" fill=\"currentColor\" stroke-width=\"0.1\"/>\n",
       "<rect x=\"49.999999999999986\" y=\"-150.0\" width=\"12.5\" height=\"12.5\" opacity=\"0.6170212765957463\" fill=\"currentColor\" stroke-width=\"0.1\"/>\n",
       "<rect x=\"62.5\" y=\"-150.0\" width=\"12.5\" height=\"12.5\" opacity=\"0.7659574468085127\" fill=\"currentColor\" stroke-width=\"0.1\"/>\n",
       "<rect x=\"75.00000000000001\" y=\"-150.0\" width=\"12.5\" height=\"12.5\" opacity=\"0.7765957446808556\" fill=\"currentColor\" stroke-width=\"0.1\"/>\n",
       "<rect x=\"87.49999999999999\" y=\"-150.0\" width=\"12.5\" height=\"12.5\" opacity=\"0.7978723404255329\" fill=\"currentColor\" stroke-width=\"0.1\"/>\n",
       "<rect x=\"100.00000000000001\" y=\"-150.0\" width=\"12.5\" height=\"12.5\" opacity=\"0.7765957446808549\" fill=\"currentColor\" stroke-width=\"0.1\"/>\n",
       "<rect x=\"112.5\" y=\"-150.0\" width=\"12.5\" height=\"12.5\" opacity=\"0.712765957446811\" fill=\"currentColor\" stroke-width=\"0.1\"/>\n",
       "<rect x=\"125.0\" y=\"-150.0\" width=\"12.5\" height=\"12.5\" opacity=\"0.6595744680851082\" fill=\"currentColor\" stroke-width=\"0.1\"/>\n",
       "<rect x=\"137.5\" y=\"-150.0\" width=\"12.5\" height=\"12.5\" opacity=\"0.7340425531914936\" fill=\"currentColor\" stroke-width=\"0.1\"/>\n",
       "<rect x=\"150.0\" y=\"-150.0\" width=\"12.5\" height=\"12.5\" opacity=\"0.6489361702127667\" fill=\"currentColor\" stroke-width=\"0.1\"/>\n",
       "<rect x=\"162.5\" y=\"-150.0\" width=\"12.5\" height=\"12.5\" opacity=\"0.6276595744680892\" fill=\"currentColor\" stroke-width=\"0.1\"/>\n",
       "<rect x=\"174.99999999999997\" y=\"-150.0\" width=\"12.5\" height=\"12.5\" opacity=\"0.7659574468085122\" fill=\"currentColor\" stroke-width=\"0.1\"/>\n",
       "<rect x=\"187.5\" y=\"-150.0\" width=\"12.5\" height=\"12.5\" opacity=\"0.5319148936170223\" fill=\"currentColor\" stroke-width=\"0.1\"/>\n",
       "<rect x=\"200.00000000000003\" y=\"-150.0\" width=\"12.5\" height=\"12.5\" opacity=\"0.5638297872340462\" fill=\"currentColor\" stroke-width=\"0.1\"/>\n",
       "<rect x=\"212.5\" y=\"-150.0\" width=\"12.5\" height=\"12.5\" opacity=\"0.7659574468085116\" fill=\"currentColor\" stroke-width=\"0.1\"/>\n",
       "<rect x=\"225.0\" y=\"-150.0\" width=\"12.5\" height=\"12.5\" opacity=\"0.37234042553191754\" fill=\"currentColor\" stroke-width=\"0.1\"/>\n",
       "<rect x=\"237.49999999999997\" y=\"-150.0\" width=\"12.5\" height=\"12.5\" opacity=\"0.7234042553191498\" fill=\"currentColor\" stroke-width=\"0.1\"/>\n",
       "<rect x=\"0.0\" y=\"-162.5\" width=\"12.5\" height=\"12.5\" opacity=\"0.8829787234042566\" fill=\"currentColor\" stroke-width=\"0.1\"/>\n",
       "<rect x=\"12.50000000000001\" y=\"-162.5\" width=\"12.5\" height=\"12.5\" opacity=\"0.5531914893617046\" fill=\"currentColor\" stroke-width=\"0.1\"/>\n",
       "<rect x=\"24.999999999999986\" y=\"-162.5\" width=\"12.5\" height=\"12.5\" opacity=\"0.6170212765957447\" fill=\"currentColor\" stroke-width=\"0.1\"/>\n",
       "<rect x=\"37.500000000000014\" y=\"-162.5\" width=\"12.5\" height=\"12.5\" opacity=\"0.5106382978723427\" fill=\"currentColor\" stroke-width=\"0.1\"/>\n",
       "<rect x=\"49.999999999999986\" y=\"-162.5\" width=\"12.5\" height=\"12.5\" opacity=\"0.5957446808510647\" fill=\"currentColor\" stroke-width=\"0.1\"/>\n",
       "<rect x=\"62.5\" y=\"-162.5\" width=\"12.5\" height=\"12.5\" opacity=\"0.6702127659574477\" fill=\"currentColor\" stroke-width=\"0.1\"/>\n",
       "<rect x=\"75.00000000000001\" y=\"-162.5\" width=\"12.5\" height=\"12.5\" opacity=\"0.7978723404255355\" fill=\"currentColor\" stroke-width=\"0.1\"/>\n",
       "<rect x=\"87.49999999999999\" y=\"-162.5\" width=\"12.5\" height=\"12.5\" opacity=\"0.8723404255319147\" fill=\"currentColor\" stroke-width=\"0.1\"/>\n",
       "<rect x=\"100.00000000000001\" y=\"-162.5\" width=\"12.5\" height=\"12.5\" opacity=\"0.595744680851066\" fill=\"currentColor\" stroke-width=\"0.1\"/>\n",
       "<rect x=\"112.5\" y=\"-162.5\" width=\"12.5\" height=\"12.5\" opacity=\"0.7234042553191505\" fill=\"currentColor\" stroke-width=\"0.1\"/>\n",
       "<rect x=\"125.0\" y=\"-162.5\" width=\"12.5\" height=\"12.5\" opacity=\"0.7872340425531926\" fill=\"currentColor\" stroke-width=\"0.1\"/>\n",
       "<rect x=\"137.5\" y=\"-162.5\" width=\"12.5\" height=\"12.5\" opacity=\"0.7234042553191522\" fill=\"currentColor\" stroke-width=\"0.1\"/>\n",
       "<rect x=\"150.0\" y=\"-162.5\" width=\"12.5\" height=\"12.5\" opacity=\"0.6914893617021276\" fill=\"currentColor\" stroke-width=\"0.1\"/>\n",
       "<rect x=\"162.5\" y=\"-162.5\" width=\"12.5\" height=\"12.5\" opacity=\"0.5744680851063859\" fill=\"currentColor\" stroke-width=\"0.1\"/>\n",
       "<rect x=\"174.99999999999997\" y=\"-162.5\" width=\"12.5\" height=\"12.5\" opacity=\"0.638297872340426\" fill=\"currentColor\" stroke-width=\"0.1\"/>\n",
       "<rect x=\"187.5\" y=\"-162.5\" width=\"12.5\" height=\"12.5\" opacity=\"0.6702127659574473\" fill=\"currentColor\" stroke-width=\"0.1\"/>\n",
       "<rect x=\"200.00000000000003\" y=\"-162.5\" width=\"12.5\" height=\"12.5\" opacity=\"0.6595744680851098\" fill=\"currentColor\" stroke-width=\"0.1\"/>\n",
       "<rect x=\"212.5\" y=\"-162.5\" width=\"12.5\" height=\"12.5\" opacity=\"0.776595744680851\" fill=\"currentColor\" stroke-width=\"0.1\"/>\n",
       "<rect x=\"225.0\" y=\"-162.5\" width=\"12.5\" height=\"12.5\" opacity=\"0.5319148936170244\" fill=\"currentColor\" stroke-width=\"0.1\"/>\n",
       "<rect x=\"237.49999999999997\" y=\"-162.5\" width=\"12.5\" height=\"12.5\" opacity=\"0.6702127659574467\" fill=\"currentColor\" stroke-width=\"0.1\"/>\n",
       "<rect x=\"0.0\" y=\"-175.0\" width=\"12.5\" height=\"12.5\" opacity=\"0.6914893617021287\" fill=\"currentColor\" stroke-width=\"0.1\"/>\n",
       "<rect x=\"12.50000000000001\" y=\"-175.0\" width=\"12.5\" height=\"12.5\" opacity=\"0.6808510638297902\" fill=\"currentColor\" stroke-width=\"0.1\"/>\n",
       "<rect x=\"24.999999999999986\" y=\"-175.0\" width=\"12.5\" height=\"12.5\" opacity=\"0.4787234042553191\" fill=\"currentColor\" stroke-width=\"0.1\"/>\n",
       "<rect x=\"37.500000000000014\" y=\"-175.0\" width=\"12.5\" height=\"12.5\" opacity=\"0.6170212765957473\" fill=\"currentColor\" stroke-width=\"0.1\"/>\n",
       "<rect x=\"49.999999999999986\" y=\"-175.0\" width=\"12.5\" height=\"12.5\" opacity=\"0.6063829787234052\" fill=\"currentColor\" stroke-width=\"0.1\"/>\n",
       "<rect x=\"62.5\" y=\"-175.0\" width=\"12.5\" height=\"12.5\" opacity=\"0.8510638297872353\" fill=\"currentColor\" stroke-width=\"0.1\"/>\n",
       "<rect x=\"75.00000000000001\" y=\"-175.0\" width=\"12.5\" height=\"12.5\" opacity=\"0.7340425531914926\" fill=\"currentColor\" stroke-width=\"0.1\"/>\n",
       "<rect x=\"87.49999999999999\" y=\"-175.0\" width=\"12.5\" height=\"12.5\" opacity=\"0.7234042553191489\" fill=\"currentColor\" stroke-width=\"0.1\"/>\n",
       "<rect x=\"100.00000000000001\" y=\"-175.0\" width=\"12.5\" height=\"12.5\" opacity=\"0.6382978723404279\" fill=\"currentColor\" stroke-width=\"0.1\"/>\n",
       "<rect x=\"112.5\" y=\"-175.0\" width=\"12.5\" height=\"12.5\" opacity=\"0.8191489361702146\" fill=\"currentColor\" stroke-width=\"0.1\"/>\n",
       "<rect x=\"125.0\" y=\"-175.0\" width=\"12.5\" height=\"12.5\" opacity=\"0.7553191489361712\" fill=\"currentColor\" stroke-width=\"0.1\"/>\n",
       "<rect x=\"137.5\" y=\"-175.0\" width=\"12.5\" height=\"12.5\" opacity=\"0.6595744680851092\" fill=\"currentColor\" stroke-width=\"0.1\"/>\n",
       "<rect x=\"150.0\" y=\"-175.0\" width=\"12.5\" height=\"12.5\" opacity=\"0.6063829787234043\" fill=\"currentColor\" stroke-width=\"0.1\"/>\n",
       "<rect x=\"162.5\" y=\"-175.0\" width=\"12.5\" height=\"12.5\" opacity=\"0.8723404255319195\" fill=\"currentColor\" stroke-width=\"0.1\"/>\n",
       "<rect x=\"174.99999999999997\" y=\"-175.0\" width=\"12.5\" height=\"12.5\" opacity=\"0.7765957446808517\" fill=\"currentColor\" stroke-width=\"0.1\"/>\n",
       "<rect x=\"187.5\" y=\"-175.0\" width=\"12.5\" height=\"12.5\" opacity=\"0.8510638297872347\" fill=\"currentColor\" stroke-width=\"0.1\"/>\n",
       "<rect x=\"200.00000000000003\" y=\"-175.0\" width=\"12.5\" height=\"12.5\" opacity=\"0.5638297872340454\" fill=\"currentColor\" stroke-width=\"0.1\"/>\n",
       "<rect x=\"212.5\" y=\"-175.0\" width=\"12.5\" height=\"12.5\" opacity=\"0.7872340425531914\" fill=\"currentColor\" stroke-width=\"0.1\"/>\n",
       "<rect x=\"225.0\" y=\"-175.0\" width=\"12.5\" height=\"12.5\" opacity=\"0.5319148936170244\" fill=\"currentColor\" stroke-width=\"0.1\"/>\n",
       "<rect x=\"237.49999999999997\" y=\"-175.0\" width=\"12.5\" height=\"12.5\" opacity=\"0.8404255319148936\" fill=\"currentColor\" stroke-width=\"0.1\"/>\n",
       "<rect x=\"0.0\" y=\"-187.5\" width=\"12.5\" height=\"12.5\" opacity=\"0.5425531914893624\" fill=\"currentColor\" stroke-width=\"0.1\"/>\n",
       "<rect x=\"12.50000000000001\" y=\"-187.5\" width=\"12.5\" height=\"12.5\" opacity=\"0.5531914893617046\" fill=\"currentColor\" stroke-width=\"0.1\"/>\n",
       "<rect x=\"24.999999999999986\" y=\"-187.5\" width=\"12.5\" height=\"12.5\" opacity=\"0.6170212765957447\" fill=\"currentColor\" stroke-width=\"0.1\"/>\n",
       "<rect x=\"37.500000000000014\" y=\"-187.5\" width=\"12.5\" height=\"12.5\" opacity=\"0.44680851063829985\" fill=\"currentColor\" stroke-width=\"0.1\"/>\n",
       "<rect x=\"49.999999999999986\" y=\"-187.5\" width=\"12.5\" height=\"12.5\" opacity=\"0.7659574468085117\" fill=\"currentColor\" stroke-width=\"0.1\"/>\n",
       "<rect x=\"62.5\" y=\"-187.5\" width=\"12.5\" height=\"12.5\" opacity=\"0.8085106382978735\" fill=\"currentColor\" stroke-width=\"0.1\"/>\n",
       "<rect x=\"75.00000000000001\" y=\"-187.5\" width=\"12.5\" height=\"12.5\" opacity=\"0.6808510638297902\" fill=\"currentColor\" stroke-width=\"0.1\"/>\n",
       "<rect x=\"87.49999999999999\" y=\"-187.5\" width=\"12.5\" height=\"12.5\" opacity=\"0.7446808510638298\" fill=\"currentColor\" stroke-width=\"0.1\"/>\n",
       "<rect x=\"100.00000000000001\" y=\"-187.5\" width=\"12.5\" height=\"12.5\" opacity=\"0.7446808510638325\" fill=\"currentColor\" stroke-width=\"0.1\"/>\n",
       "<rect x=\"112.5\" y=\"-187.5\" width=\"12.5\" height=\"12.5\" opacity=\"0.8085106382978742\" fill=\"currentColor\" stroke-width=\"0.1\"/>\n",
       "<rect x=\"125.0\" y=\"-187.5\" width=\"12.5\" height=\"12.5\" opacity=\"0.7765957446808522\" fill=\"currentColor\" stroke-width=\"0.1\"/>\n",
       "<rect x=\"137.5\" y=\"-187.5\" width=\"12.5\" height=\"12.5\" opacity=\"0.6702127659574497\" fill=\"currentColor\" stroke-width=\"0.1\"/>\n",
       "<rect x=\"150.0\" y=\"-187.5\" width=\"12.5\" height=\"12.5\" opacity=\"0.6276595744680851\" fill=\"currentColor\" stroke-width=\"0.1\"/>\n",
       "<rect x=\"162.5\" y=\"-187.5\" width=\"12.5\" height=\"12.5\" opacity=\"0.7765957446808551\" fill=\"currentColor\" stroke-width=\"0.1\"/>\n",
       "<rect x=\"174.99999999999997\" y=\"-187.5\" width=\"12.5\" height=\"12.5\" opacity=\"0.6914893617021282\" fill=\"currentColor\" stroke-width=\"0.1\"/>\n",
       "<rect x=\"187.5\" y=\"-187.5\" width=\"12.5\" height=\"12.5\" opacity=\"0.638297872340426\" fill=\"currentColor\" stroke-width=\"0.1\"/>\n",
       "<rect x=\"200.00000000000003\" y=\"-187.5\" width=\"12.5\" height=\"12.5\" opacity=\"0.6063829787234074\" fill=\"currentColor\" stroke-width=\"0.1\"/>\n",
       "<rect x=\"212.5\" y=\"-187.5\" width=\"12.5\" height=\"12.5\" opacity=\"0.6382978723404255\" fill=\"currentColor\" stroke-width=\"0.1\"/>\n",
       "<rect x=\"225.0\" y=\"-187.5\" width=\"12.5\" height=\"12.5\" opacity=\"0.5319148936170244\" fill=\"currentColor\" stroke-width=\"0.1\"/>\n",
       "<rect x=\"237.49999999999997\" y=\"-187.5\" width=\"12.5\" height=\"12.5\" opacity=\"0.6914893617021276\" fill=\"currentColor\" stroke-width=\"0.1\"/>\n",
       "<rect x=\"0.0\" y=\"-200.0\" width=\"12.5\" height=\"12.5\" opacity=\"0.6595744680851073\" fill=\"currentColor\" stroke-width=\"0.1\"/>\n",
       "<rect x=\"12.50000000000001\" y=\"-200.0\" width=\"12.5\" height=\"12.5\" opacity=\"0.585106382978726\" fill=\"currentColor\" stroke-width=\"0.1\"/>\n",
       "<rect x=\"24.999999999999986\" y=\"-200.0\" width=\"12.5\" height=\"12.5\" opacity=\"0.5851063829787233\" fill=\"currentColor\" stroke-width=\"0.1\"/>\n",
       "<rect x=\"37.500000000000014\" y=\"-200.0\" width=\"12.5\" height=\"12.5\" opacity=\"0.404255319148938\" fill=\"currentColor\" stroke-width=\"0.1\"/>\n",
       "<rect x=\"49.999999999999986\" y=\"-200.0\" width=\"12.5\" height=\"12.5\" opacity=\"0.7553191489361712\" fill=\"currentColor\" stroke-width=\"0.1\"/>\n",
       "<rect x=\"62.5\" y=\"-200.0\" width=\"12.5\" height=\"12.5\" opacity=\"0.7872340425531926\" fill=\"currentColor\" stroke-width=\"0.1\"/>\n",
       "<rect x=\"75.00000000000001\" y=\"-200.0\" width=\"12.5\" height=\"12.5\" opacity=\"0.7553191489361736\" fill=\"currentColor\" stroke-width=\"0.1\"/>\n",
       "<rect x=\"87.49999999999999\" y=\"-200.0\" width=\"12.5\" height=\"12.5\" opacity=\"0.7021276595744681\" fill=\"currentColor\" stroke-width=\"0.1\"/>\n",
       "<rect x=\"100.00000000000001\" y=\"-200.0\" width=\"12.5\" height=\"12.5\" opacity=\"0.7978723404255348\" fill=\"currentColor\" stroke-width=\"0.1\"/>\n",
       "<rect x=\"112.5\" y=\"-200.0\" width=\"12.5\" height=\"12.5\" opacity=\"0.5957446808510651\" fill=\"currentColor\" stroke-width=\"0.1\"/>\n",
       "<rect x=\"125.0\" y=\"-200.0\" width=\"12.5\" height=\"12.5\" opacity=\"0.7659574468085117\" fill=\"currentColor\" stroke-width=\"0.1\"/>\n",
       "<rect x=\"137.5\" y=\"-200.0\" width=\"12.5\" height=\"12.5\" opacity=\"0.6489361702127688\" fill=\"currentColor\" stroke-width=\"0.1\"/>\n",
       "<rect x=\"150.0\" y=\"-200.0\" width=\"12.5\" height=\"12.5\" opacity=\"0.7234042553191489\" fill=\"currentColor\" stroke-width=\"0.1\"/>\n",
       "<rect x=\"162.5\" y=\"-200.0\" width=\"12.5\" height=\"12.5\" opacity=\"0.6702127659574503\" fill=\"currentColor\" stroke-width=\"0.1\"/>\n",
       "<rect x=\"174.99999999999997\" y=\"-200.0\" width=\"12.5\" height=\"12.5\" opacity=\"0.8404255319148942\" fill=\"currentColor\" stroke-width=\"0.1\"/>\n",
       "<rect x=\"187.5\" y=\"-200.0\" width=\"12.5\" height=\"12.5\" opacity=\"0.8085106382978728\" fill=\"currentColor\" stroke-width=\"0.1\"/>\n",
       "<rect x=\"200.00000000000003\" y=\"-200.0\" width=\"12.5\" height=\"12.5\" opacity=\"0.6489361702127693\" fill=\"currentColor\" stroke-width=\"0.1\"/>\n",
       "<rect x=\"212.5\" y=\"-200.0\" width=\"12.5\" height=\"12.5\" opacity=\"0.7340425531914893\" fill=\"currentColor\" stroke-width=\"0.1\"/>\n",
       "<rect x=\"225.0\" y=\"-200.0\" width=\"12.5\" height=\"12.5\" opacity=\"0.5106382978723434\" fill=\"currentColor\" stroke-width=\"0.1\"/>\n",
       "<rect x=\"237.49999999999997\" y=\"-200.0\" width=\"12.5\" height=\"12.5\" opacity=\"0.776595744680851\" fill=\"currentColor\" stroke-width=\"0.1\"/>\n",
       "<rect x=\"0.0\" y=\"-212.5\" width=\"12.5\" height=\"12.5\" opacity=\"0.7021276595744691\" fill=\"currentColor\" stroke-width=\"0.1\"/>\n",
       "<rect x=\"12.50000000000001\" y=\"-212.5\" width=\"12.5\" height=\"12.5\" opacity=\"0.5425531914893641\" fill=\"currentColor\" stroke-width=\"0.1\"/>\n",
       "<rect x=\"24.999999999999986\" y=\"-212.5\" width=\"12.5\" height=\"12.5\" opacity=\"0.648936170212766\" fill=\"currentColor\" stroke-width=\"0.1\"/>\n",
       "<rect x=\"37.500000000000014\" y=\"-212.5\" width=\"12.5\" height=\"12.5\" opacity=\"0.6914893617021307\" fill=\"currentColor\" stroke-width=\"0.1\"/>\n",
       "<rect x=\"49.999999999999986\" y=\"-212.5\" width=\"12.5\" height=\"12.5\" opacity=\"0.8085106382978735\" fill=\"currentColor\" stroke-width=\"0.1\"/>\n",
       "<rect x=\"62.5\" y=\"-212.5\" width=\"12.5\" height=\"12.5\" opacity=\"0.6702127659574477\" fill=\"currentColor\" stroke-width=\"0.1\"/>\n",
       "<rect x=\"75.00000000000001\" y=\"-212.5\" width=\"12.5\" height=\"12.5\" opacity=\"0.6489361702127688\" fill=\"currentColor\" stroke-width=\"0.1\"/>\n",
       "<rect x=\"87.49999999999999\" y=\"-212.5\" width=\"12.5\" height=\"12.5\" opacity=\"0.8085106382978723\" fill=\"currentColor\" stroke-width=\"0.1\"/>\n",
       "<rect x=\"100.00000000000001\" y=\"-212.5\" width=\"12.5\" height=\"12.5\" opacity=\"0.8085106382978753\" fill=\"currentColor\" stroke-width=\"0.1\"/>\n",
       "<rect x=\"112.5\" y=\"-212.5\" width=\"12.5\" height=\"12.5\" opacity=\"0.6914893617021292\" fill=\"currentColor\" stroke-width=\"0.1\"/>\n",
       "<rect x=\"125.0\" y=\"-212.5\" width=\"12.5\" height=\"12.5\" opacity=\"0.8617021276595757\" fill=\"currentColor\" stroke-width=\"0.1\"/>\n",
       "<rect x=\"137.5\" y=\"-212.5\" width=\"12.5\" height=\"12.5\" opacity=\"0.5957446808510665\" fill=\"currentColor\" stroke-width=\"0.1\"/>\n",
       "<rect x=\"150.0\" y=\"-212.5\" width=\"12.5\" height=\"12.5\" opacity=\"0.6276595744680851\" fill=\"currentColor\" stroke-width=\"0.1\"/>\n",
       "<rect x=\"162.5\" y=\"-212.5\" width=\"12.5\" height=\"12.5\" opacity=\"0.8297872340425575\" fill=\"currentColor\" stroke-width=\"0.1\"/>\n",
       "<rect x=\"174.99999999999997\" y=\"-212.5\" width=\"12.5\" height=\"12.5\" opacity=\"0.7553191489361707\" fill=\"currentColor\" stroke-width=\"0.1\"/>\n",
       "<rect x=\"187.5\" y=\"-212.5\" width=\"12.5\" height=\"12.5\" opacity=\"0.712765957446809\" fill=\"currentColor\" stroke-width=\"0.1\"/>\n",
       "<rect x=\"200.00000000000003\" y=\"-212.5\" width=\"12.5\" height=\"12.5\" opacity=\"0.7021276595744717\" fill=\"currentColor\" stroke-width=\"0.1\"/>\n",
       "<rect x=\"212.5\" y=\"-212.5\" width=\"12.5\" height=\"12.5\" opacity=\"0.8404255319148936\" fill=\"currentColor\" stroke-width=\"0.1\"/>\n",
       "<rect x=\"225.0\" y=\"-212.5\" width=\"12.5\" height=\"12.5\" opacity=\"0.5851063829787269\" fill=\"currentColor\" stroke-width=\"0.1\"/>\n",
       "<rect x=\"237.49999999999997\" y=\"-212.5\" width=\"12.5\" height=\"12.5\" opacity=\"0.8085106382978723\" fill=\"currentColor\" stroke-width=\"0.1\"/>\n",
       "<rect x=\"0.0\" y=\"-225.0\" width=\"12.5\" height=\"12.5\" opacity=\"0.7021276595744691\" fill=\"currentColor\" stroke-width=\"0.1\"/>\n",
       "<rect x=\"12.50000000000001\" y=\"-225.0\" width=\"12.5\" height=\"12.5\" opacity=\"0.7340425531914926\" fill=\"currentColor\" stroke-width=\"0.1\"/>\n",
       "<rect x=\"24.999999999999986\" y=\"-225.0\" width=\"12.5\" height=\"12.5\" opacity=\"0.6170212765957447\" fill=\"currentColor\" stroke-width=\"0.1\"/>\n",
       "<rect x=\"37.500000000000014\" y=\"-225.0\" width=\"12.5\" height=\"12.5\" opacity=\"0.6276595744680878\" fill=\"currentColor\" stroke-width=\"0.1\"/>\n",
       "<rect x=\"49.999999999999986\" y=\"-225.0\" width=\"12.5\" height=\"12.5\" opacity=\"0.9255319148936184\" fill=\"currentColor\" stroke-width=\"0.1\"/>\n",
       "<rect x=\"62.5\" y=\"-225.0\" width=\"12.5\" height=\"12.5\" opacity=\"0.6914893617021287\" fill=\"currentColor\" stroke-width=\"0.1\"/>\n",
       "<rect x=\"75.00000000000001\" y=\"-225.0\" width=\"12.5\" height=\"12.5\" opacity=\"0.7340425531914926\" fill=\"currentColor\" stroke-width=\"0.1\"/>\n",
       "<rect x=\"87.49999999999999\" y=\"-225.0\" width=\"12.5\" height=\"12.5\" opacity=\"0.7340425531914893\" fill=\"currentColor\" stroke-width=\"0.1\"/>\n",
       "<rect x=\"100.00000000000001\" y=\"-225.0\" width=\"12.5\" height=\"12.5\" opacity=\"0.6170212765957469\" fill=\"currentColor\" stroke-width=\"0.1\"/>\n",
       "<rect x=\"112.5\" y=\"-225.0\" width=\"12.5\" height=\"12.5\" opacity=\"0.6276595744680865\" fill=\"currentColor\" stroke-width=\"0.1\"/>\n",
       "<rect x=\"125.0\" y=\"-225.0\" width=\"12.5\" height=\"12.5\" opacity=\"0.8085106382978735\" fill=\"currentColor\" stroke-width=\"0.1\"/>\n",
       "<rect x=\"137.5\" y=\"-225.0\" width=\"12.5\" height=\"12.5\" opacity=\"0.7659574468085141\" fill=\"currentColor\" stroke-width=\"0.1\"/>\n",
       "<rect x=\"150.0\" y=\"-225.0\" width=\"12.5\" height=\"12.5\" opacity=\"0.6063829787234043\" fill=\"currentColor\" stroke-width=\"0.1\"/>\n",
       "<rect x=\"162.5\" y=\"-225.0\" width=\"12.5\" height=\"12.5\" opacity=\"0.6808510638297907\" fill=\"currentColor\" stroke-width=\"0.1\"/>\n",
       "<rect x=\"174.99999999999997\" y=\"-225.0\" width=\"12.5\" height=\"12.5\" opacity=\"0.8510638297872347\" fill=\"currentColor\" stroke-width=\"0.1\"/>\n",
       "<rect x=\"187.5\" y=\"-225.0\" width=\"12.5\" height=\"12.5\" opacity=\"0.6489361702127664\" fill=\"currentColor\" stroke-width=\"0.1\"/>\n",
       "<rect x=\"200.00000000000003\" y=\"-225.0\" width=\"12.5\" height=\"12.5\" opacity=\"0.6595744680851098\" fill=\"currentColor\" stroke-width=\"0.1\"/>\n",
       "<rect x=\"212.5\" y=\"-225.0\" width=\"12.5\" height=\"12.5\" opacity=\"0.7234042553191489\" fill=\"currentColor\" stroke-width=\"0.1\"/>\n",
       "<rect x=\"225.0\" y=\"-225.0\" width=\"12.5\" height=\"12.5\" opacity=\"0.6808510638297912\" fill=\"currentColor\" stroke-width=\"0.1\"/>\n",
       "<rect x=\"237.49999999999997\" y=\"-225.0\" width=\"12.5\" height=\"12.5\" opacity=\"0.776595744680851\" fill=\"currentColor\" stroke-width=\"0.1\"/>\n",
       "<rect x=\"0.0\" y=\"-237.5\" width=\"12.5\" height=\"12.5\" opacity=\"0.7446808510638309\" fill=\"currentColor\" stroke-width=\"0.1\"/>\n",
       "<rect x=\"12.50000000000001\" y=\"-237.5\" width=\"12.5\" height=\"12.5\" opacity=\"0.6170212765957473\" fill=\"currentColor\" stroke-width=\"0.1\"/>\n",
       "<rect x=\"24.999999999999986\" y=\"-237.5\" width=\"12.5\" height=\"12.5\" opacity=\"0.648936170212766\" fill=\"currentColor\" stroke-width=\"0.1\"/>\n",
       "<rect x=\"37.500000000000014\" y=\"-237.5\" width=\"12.5\" height=\"12.5\" opacity=\"0.808510638297876\" fill=\"currentColor\" stroke-width=\"0.1\"/>\n",
       "<rect x=\"49.999999999999986\" y=\"-237.5\" width=\"12.5\" height=\"12.5\" opacity=\"0.7553191489361712\" fill=\"currentColor\" stroke-width=\"0.1\"/>\n",
       "<rect x=\"62.5\" y=\"-237.5\" width=\"12.5\" height=\"12.5\" opacity=\"0.6595744680851073\" fill=\"currentColor\" stroke-width=\"0.1\"/>\n",
       "<rect x=\"75.00000000000001\" y=\"-237.5\" width=\"12.5\" height=\"12.5\" opacity=\"0.7553191489361736\" fill=\"currentColor\" stroke-width=\"0.1\"/>\n",
       "<rect x=\"87.49999999999999\" y=\"-237.5\" width=\"12.5\" height=\"12.5\" opacity=\"0.7234042553191489\" fill=\"currentColor\" stroke-width=\"0.1\"/>\n",
       "<rect x=\"100.00000000000001\" y=\"-237.5\" width=\"12.5\" height=\"12.5\" opacity=\"0.7234042553191516\" fill=\"currentColor\" stroke-width=\"0.1\"/>\n",
       "<rect x=\"112.5\" y=\"-237.5\" width=\"12.5\" height=\"12.5\" opacity=\"0.7340425531914909\" fill=\"currentColor\" stroke-width=\"0.1\"/>\n",
       "<rect x=\"125.0\" y=\"-237.5\" width=\"12.5\" height=\"12.5\" opacity=\"0.9574468085106397\" fill=\"currentColor\" stroke-width=\"0.1\"/>\n",
       "<rect x=\"137.5\" y=\"-237.5\" width=\"12.5\" height=\"12.5\" opacity=\"0.6808510638297902\" fill=\"currentColor\" stroke-width=\"0.1\"/>\n",
       "<rect x=\"150.0\" y=\"-237.5\" width=\"12.5\" height=\"12.5\" opacity=\"0.776595744680851\" fill=\"currentColor\" stroke-width=\"0.1\"/>\n",
       "<rect x=\"162.5\" y=\"-237.5\" width=\"12.5\" height=\"12.5\" opacity=\"0.7553191489361741\" fill=\"currentColor\" stroke-width=\"0.1\"/>\n",
       "<rect x=\"174.99999999999997\" y=\"-237.5\" width=\"12.5\" height=\"12.5\" opacity=\"0.7340425531914898\" fill=\"currentColor\" stroke-width=\"0.1\"/>\n",
       "<rect x=\"187.5\" y=\"-237.5\" width=\"12.5\" height=\"12.5\" opacity=\"0.7234042553191494\" fill=\"currentColor\" stroke-width=\"0.1\"/>\n",
       "<rect x=\"200.00000000000003\" y=\"-237.5\" width=\"12.5\" height=\"12.5\" opacity=\"0.6382978723404288\" fill=\"currentColor\" stroke-width=\"0.1\"/>\n",
       "<rect x=\"212.5\" y=\"-237.5\" width=\"12.5\" height=\"12.5\" opacity=\"0.5425531914893618\" fill=\"currentColor\" stroke-width=\"0.1\"/>\n",
       "<rect x=\"225.0\" y=\"-237.5\" width=\"12.5\" height=\"12.5\" opacity=\"0.6702127659574507\" fill=\"currentColor\" stroke-width=\"0.1\"/>\n",
       "<rect x=\"237.49999999999997\" y=\"-237.5\" width=\"12.5\" height=\"12.5\" opacity=\"0.6595744680851063\" fill=\"currentColor\" stroke-width=\"0.1\"/>\n",
       "<rect x=\"0.0\" y=\"-250.0\" width=\"12.5\" height=\"12.5\" opacity=\"0.6382978723404265\" fill=\"currentColor\" stroke-width=\"0.1\"/>\n",
       "<rect x=\"12.50000000000001\" y=\"-250.0\" width=\"12.5\" height=\"12.5\" opacity=\"0.6702127659574497\" fill=\"currentColor\" stroke-width=\"0.1\"/>\n",
       "<rect x=\"24.999999999999986\" y=\"-250.0\" width=\"12.5\" height=\"12.5\" opacity=\"0.7978723404255319\" fill=\"currentColor\" stroke-width=\"0.1\"/>\n",
       "<rect x=\"37.500000000000014\" y=\"-250.0\" width=\"12.5\" height=\"12.5\" opacity=\"0.7659574468085141\" fill=\"currentColor\" stroke-width=\"0.1\"/>\n",
       "<rect x=\"49.999999999999986\" y=\"-250.0\" width=\"12.5\" height=\"12.5\" opacity=\"0.7872340425531926\" fill=\"currentColor\" stroke-width=\"0.1\"/>\n",
       "<rect x=\"62.5\" y=\"-250.0\" width=\"12.5\" height=\"12.5\" opacity=\"0.6914893617021287\" fill=\"currentColor\" stroke-width=\"0.1\"/>\n",
       "<rect x=\"75.00000000000001\" y=\"-250.0\" width=\"12.5\" height=\"12.5\" opacity=\"0.9787234042553236\" fill=\"currentColor\" stroke-width=\"0.1\"/>\n",
       "<rect x=\"87.49999999999999\" y=\"-250.0\" width=\"12.5\" height=\"12.5\" opacity=\"0.9893617021276596\" fill=\"currentColor\" stroke-width=\"0.1\"/>\n",
       "<rect x=\"100.00000000000001\" y=\"-250.0\" width=\"12.5\" height=\"12.5\" opacity=\"0.8191489361702158\" fill=\"currentColor\" stroke-width=\"0.1\"/>\n",
       "<rect x=\"112.5\" y=\"-250.0\" width=\"12.5\" height=\"12.5\" opacity=\"0.6276595744680865\" fill=\"currentColor\" stroke-width=\"0.1\"/>\n",
       "<rect x=\"125.0\" y=\"-250.0\" width=\"12.5\" height=\"12.5\" opacity=\"0.6808510638297882\" fill=\"currentColor\" stroke-width=\"0.1\"/>\n",
       "<rect x=\"137.5\" y=\"-250.0\" width=\"12.5\" height=\"12.5\" opacity=\"0.6276595744680878\" fill=\"currentColor\" stroke-width=\"0.1\"/>\n",
       "<rect x=\"150.0\" y=\"-250.0\" width=\"12.5\" height=\"12.5\" opacity=\"0.5212765957446808\" fill=\"currentColor\" stroke-width=\"0.1\"/>\n",
       "<rect x=\"162.5\" y=\"-250.0\" width=\"12.5\" height=\"12.5\" opacity=\"0.7553191489361741\" fill=\"currentColor\" stroke-width=\"0.1\"/>\n",
       "<rect x=\"174.99999999999997\" y=\"-250.0\" width=\"12.5\" height=\"12.5\" opacity=\"0.6808510638297878\" fill=\"currentColor\" stroke-width=\"0.1\"/>\n",
       "<rect x=\"187.5\" y=\"-250.0\" width=\"12.5\" height=\"12.5\" opacity=\"0.7340425531914898\" fill=\"currentColor\" stroke-width=\"0.1\"/>\n",
       "<rect x=\"200.00000000000003\" y=\"-250.0\" width=\"12.5\" height=\"12.5\" opacity=\"0.6170212765957478\" fill=\"currentColor\" stroke-width=\"0.1\"/>\n",
       "<rect x=\"212.5\" y=\"-250.0\" width=\"12.5\" height=\"12.5\" opacity=\"0.8297872340425532\" fill=\"currentColor\" stroke-width=\"0.1\"/>\n",
       "<rect x=\"225.0\" y=\"-250.0\" width=\"12.5\" height=\"12.5\" opacity=\"0.6276595744680887\" fill=\"currentColor\" stroke-width=\"0.1\"/>\n",
       "<rect x=\"237.49999999999997\" y=\"-250.0\" width=\"12.5\" height=\"12.5\" opacity=\"0.7446808510638298\" fill=\"currentColor\" stroke-width=\"0.1\"/>\n",
       "</svg>\n",
       "</div>\n",
       "<div style=\"flex=grow:1;\">\n",
       "Regular(20, -3, 3, name='eta')<br/>\n",
       "Regular(20, 0, 6.28319, circular=True, name='phi')<br/>\n",
       "<hr style=\"margin-top:.2em; margin-bottom:.2em;\"/>\n",
       "Weight() Σ=WeightedSum(value=25994, variance=25994) <em>(WeightedSum(value=33336, variance=33336) with flow)</em>\n",
       "\n",
       "</div>\n",
       "</div>\n",
       "</html>"
      ],
      "text/plain": [
       "Hist(\n",
       "  Regular(20, -3, 3, name='eta'),\n",
       "  Regular(20, 0, 6.28319, circular=True, name='phi'),\n",
       "  storage=Weight()) # Sum: WeightedSum(value=25994, variance=25994) (WeightedSum(value=33336, variance=33336) with flow)"
      ]
     },
     "execution_count": 143,
     "metadata": {},
     "output_type": "execute_result"
    }
   ],
   "source": [
    "hist3d.project(\"eta\", \"phi\")"
   ]
  },
  {
   "cell_type": "markdown",
   "id": "3a176c5b-584c-4168-8623-054387f736c3",
   "metadata": {},
   "source": [
    "### Slicing with a dictionary"
   ]
  },
  {
   "cell_type": "code",
   "execution_count": 151,
   "id": "f285547d-e755-464c-81be-8ada81dd07e0",
   "metadata": {},
   "outputs": [
    {
     "data": {
      "text/plain": [
       "Hist(\n",
       "  Regular(30, 15, 150, name='pt'),\n",
       "  Regular(20, -3, 3, name='eta'),\n",
       "  Regular(20, 0, 6.28319, circular=True, name='phi'),\n",
       "  StrCategory(['1muon', '0muon'], name='muon_cat'),\n",
       "  storage=Weight()) # Sum: WeightedSum(value=25919, variance=25919) (WeightedSum(value=33336, variance=33336) with flow)"
      ]
     },
     "execution_count": 151,
     "metadata": {},
     "output_type": "execute_result"
    }
   ],
   "source": [
    "hist3d = ( \n",
    "    Hist.new.Regular(30, 15, 150, name=\"pt\")\n",
    "        .Regular(20, -3, 3, name=\"eta\")\n",
    "        .Regular(20, 0, 2*np.pi, circular=True, name=\"phi\")\n",
    "        .StrCategory([\"1muon\", \"0muon\"], name=\"muon_cat\")\n",
    "        .Weight()\n",
    ")\n",
    "\n",
    "mask_muon = ak.num(events.Muon_pt)>0\n",
    "\n",
    "hist3d.fill(\n",
    "    ak.flatten(events[mask_muon].Jet_pt), \n",
    "    ak.flatten(events[mask_muon].Jet_eta), \n",
    "    ak.flatten(events[mask_muon].Jet_phi), \n",
    "    muon_cat = \"1muon\",\n",
    "    weight= ak.flatten(events[mask_muon].genWeight * ak.ones_like(events[mask_muon].Jet_pt))\n",
    ")\n",
    "\n",
    "hist3d.fill(\n",
    "    ak.flatten(events[~mask_muon].Jet_pt), \n",
    "    ak.flatten(events[~mask_muon].Jet_eta), \n",
    "    ak.flatten(events[~mask_muon].Jet_phi), \n",
    "    muon_cat = \"0muon\",\n",
    "    weight= ak.flatten(events[~mask_muon].genWeight * ak.ones_like(events[~mask_muon].Jet_pt))\n",
    ")"
   ]
  },
  {
   "cell_type": "code",
   "execution_count": 154,
   "id": "d7925b25-2a25-426e-b381-e61ca01414f9",
   "metadata": {},
   "outputs": [
    {
     "data": {
      "text/plain": [
       "Hist(\n",
       "  Regular(2, 15, 24, name='pt'),\n",
       "  Regular(20, -3, 3, name='eta'),\n",
       "  Regular(20, 0, 6.28319, circular=True, name='phi'),\n",
       "  storage=Weight()) # Sum: WeightedSum(value=4475, variance=4475) (WeightedSum(value=13883, variance=13883) with flow)"
      ]
     },
     "execution_count": 154,
     "metadata": {},
     "output_type": "execute_result"
    }
   ],
   "source": [
    "hist3d[{\"muon_cat\": \"1muon\", \"pt\": slice(0, 2)}]"
   ]
  },
  {
   "cell_type": "markdown",
   "id": "6025187f-8ac6-4f3b-88db-69a603c7e0c1",
   "metadata": {},
   "source": [
    "The `slice` function is used to specify a slicing command, with the same syntax used for direct slicing"
   ]
  },
  {
   "cell_type": "code",
   "execution_count": 155,
   "id": "6fc4ecb9-a49a-4da6-acdb-ae01cdf33c6f",
   "metadata": {},
   "outputs": [
    {
     "data": {
      "text/html": [
       "<html>\n",
       "<div style=\"display:flex; align-items:center;\">\n",
       "<div style=\"width:290px;\">\n",
       "<svg xmlns=\"http://www.w3.org/2000/svg\" viewBox=\"-20 -270 290 290\">\n",
       "<text text-anchor=\"middle\" x=\"0\" y=\"13\" style=\"fill:currentColor;\">\n",
       "15\n",
       "</text>\n",
       "<text text-anchor=\"middle\" x=\"250\" y=\"13\" style=\"fill:currentColor;\">\n",
       "150\n",
       "</text>\n",
       "<text text-anchor=\"middle\" x=\"-10\" y=\"0\" style=\"fill:currentColor;\">\n",
       "0\n",
       "</text>\n",
       "<text text-anchor=\"middle\" x=\"-10\" y=\"-250\" style=\"fill:currentColor;\">\n",
       "6.28\n",
       "</text>\n",
       "<text text-anchor=\"middle\" x=\"125.0\" y=\"13\" style=\"fill:currentColor;\">\n",
       "pt\n",
       "</text>\n",
       "<text text-anchor=\"middle\" x=\"-10\" y=\"-125.0\" transform=\"rotate(-90,-10,-125.0)\" style=\"fill:currentColor;\">\n",
       "phi\n",
       "</text>\n",
       "<rect x=\"0.0\" y=\"-12.5\" width=\"8.333\" height=\"12.5\" opacity=\"0.9411764705882353\" fill=\"currentColor\" stroke-width=\"0.1\"/>\n",
       "<rect x=\"8.333333333333334\" y=\"-12.5\" width=\"8.333\" height=\"12.5\" opacity=\"0.40196078431372545\" fill=\"currentColor\" stroke-width=\"0.1\"/>\n",
       "<rect x=\"16.666666666666668\" y=\"-12.5\" width=\"8.333\" height=\"12.5\" opacity=\"0.3333333333333333\" fill=\"currentColor\" stroke-width=\"0.1\"/>\n",
       "<rect x=\"25.0\" y=\"-12.5\" width=\"8.333\" height=\"12.5\" opacity=\"0.3137254901960784\" fill=\"currentColor\" stroke-width=\"0.1\"/>\n",
       "<rect x=\"33.333333333333336\" y=\"-12.5\" width=\"8.333\" height=\"12.5\" opacity=\"0.37254901960784315\" fill=\"currentColor\" stroke-width=\"0.1\"/>\n",
       "<rect x=\"41.666666666666664\" y=\"-12.5\" width=\"8.333\" height=\"12.5\" opacity=\"0.2941176470588235\" fill=\"currentColor\" stroke-width=\"0.1\"/>\n",
       "<rect x=\"50.0\" y=\"-12.5\" width=\"8.333\" height=\"12.5\" opacity=\"0.28431372549019607\" fill=\"currentColor\" stroke-width=\"0.1\"/>\n",
       "<rect x=\"58.333333333333336\" y=\"-12.5\" width=\"8.333\" height=\"12.5\" opacity=\"0.4215686274509804\" fill=\"currentColor\" stroke-width=\"0.1\"/>\n",
       "<rect x=\"66.66666666666667\" y=\"-12.5\" width=\"8.333\" height=\"12.5\" opacity=\"0.2647058823529412\" fill=\"currentColor\" stroke-width=\"0.1\"/>\n",
       "<rect x=\"75.0\" y=\"-12.5\" width=\"8.333\" height=\"12.5\" opacity=\"0.22549019607843138\" fill=\"currentColor\" stroke-width=\"0.1\"/>\n",
       "<rect x=\"83.33333333333333\" y=\"-12.5\" width=\"8.333\" height=\"12.5\" opacity=\"0.058823529411764705\" fill=\"currentColor\" stroke-width=\"0.1\"/>\n",
       "<rect x=\"91.66666666666666\" y=\"-12.5\" width=\"8.333\" height=\"12.5\" opacity=\"0.029411764705882353\" fill=\"currentColor\" stroke-width=\"0.1\"/>\n",
       "<rect x=\"100.0\" y=\"-12.5\" width=\"8.333\" height=\"12.5\" opacity=\"0.0392156862745098\" fill=\"currentColor\" stroke-width=\"0.1\"/>\n",
       "<rect x=\"108.33333333333334\" y=\"-12.5\" width=\"8.333\" height=\"12.5\" opacity=\"0.049019607843137254\" fill=\"currentColor\" stroke-width=\"0.1\"/>\n",
       "<rect x=\"116.66666666666667\" y=\"-12.5\" width=\"8.333\" height=\"12.5\" opacity=\"0.0392156862745098\" fill=\"currentColor\" stroke-width=\"0.1\"/>\n",
       "<rect x=\"125.0\" y=\"-12.5\" width=\"8.333\" height=\"12.5\" opacity=\"0.0196078431372549\" fill=\"currentColor\" stroke-width=\"0.1\"/>\n",
       "<rect x=\"133.33333333333334\" y=\"-12.5\" width=\"8.333\" height=\"12.5\" opacity=\"0.0196078431372549\" fill=\"currentColor\" stroke-width=\"0.1\"/>\n",
       "<rect x=\"141.66666666666666\" y=\"-12.5\" width=\"8.333\" height=\"12.5\" opacity=\"0.00980392156862745\" fill=\"currentColor\" stroke-width=\"0.1\"/>\n",
       "<rect x=\"150.0\" y=\"-12.5\" width=\"8.333\" height=\"12.5\" opacity=\"0.00980392156862745\" fill=\"currentColor\" stroke-width=\"0.1\"/>\n",
       "<rect x=\"158.33333333333331\" y=\"-12.5\" width=\"8.333\" height=\"12.5\" opacity=\"0.0196078431372549\" fill=\"currentColor\" stroke-width=\"0.1\"/>\n",
       "<rect x=\"166.66666666666666\" y=\"-12.5\" width=\"8.333\" height=\"12.5\" opacity=\"0.0\" fill=\"currentColor\" stroke-width=\"0.1\"/>\n",
       "<rect x=\"175.0\" y=\"-12.5\" width=\"8.333\" height=\"12.5\" opacity=\"0.0\" fill=\"currentColor\" stroke-width=\"0.1\"/>\n",
       "<rect x=\"183.33333333333331\" y=\"-12.5\" width=\"8.333\" height=\"12.5\" opacity=\"0.00980392156862739\" fill=\"currentColor\" stroke-width=\"0.1\"/>\n",
       "<rect x=\"191.66666666666669\" y=\"-12.5\" width=\"8.333\" height=\"12.5\" opacity=\"0.0\" fill=\"currentColor\" stroke-width=\"0.1\"/>\n",
       "<rect x=\"200.0\" y=\"-12.5\" width=\"8.333\" height=\"12.5\" opacity=\"0.0\" fill=\"currentColor\" stroke-width=\"0.1\"/>\n",
       "<rect x=\"208.33333333333334\" y=\"-12.5\" width=\"8.333\" height=\"12.5\" opacity=\"0.0\" fill=\"currentColor\" stroke-width=\"0.1\"/>\n",
       "<rect x=\"216.66666666666669\" y=\"-12.5\" width=\"8.333\" height=\"12.5\" opacity=\"0.0\" fill=\"currentColor\" stroke-width=\"0.1\"/>\n",
       "<rect x=\"225.0\" y=\"-12.5\" width=\"8.333\" height=\"12.5\" opacity=\"0.0\" fill=\"currentColor\" stroke-width=\"0.1\"/>\n",
       "<rect x=\"233.33333333333334\" y=\"-12.5\" width=\"8.333\" height=\"12.5\" opacity=\"0.0\" fill=\"currentColor\" stroke-width=\"0.1\"/>\n",
       "<rect x=\"241.66666666666666\" y=\"-12.5\" width=\"8.333\" height=\"12.5\" opacity=\"0.0\" fill=\"currentColor\" stroke-width=\"0.1\"/>\n",
       "<rect x=\"0.0\" y=\"-25.0\" width=\"8.333\" height=\"12.5\" opacity=\"0.7647058823529411\" fill=\"currentColor\" stroke-width=\"0.1\"/>\n",
       "<rect x=\"8.333333333333334\" y=\"-25.0\" width=\"8.333\" height=\"12.5\" opacity=\"0.40196078431372545\" fill=\"currentColor\" stroke-width=\"0.1\"/>\n",
       "<rect x=\"16.666666666666668\" y=\"-25.0\" width=\"8.333\" height=\"12.5\" opacity=\"0.38235294117647056\" fill=\"currentColor\" stroke-width=\"0.1\"/>\n",
       "<rect x=\"25.0\" y=\"-25.0\" width=\"8.333\" height=\"12.5\" opacity=\"0.28431372549019607\" fill=\"currentColor\" stroke-width=\"0.1\"/>\n",
       "<rect x=\"33.333333333333336\" y=\"-25.0\" width=\"8.333\" height=\"12.5\" opacity=\"0.24509803921568626\" fill=\"currentColor\" stroke-width=\"0.1\"/>\n",
       "<rect x=\"41.666666666666664\" y=\"-25.0\" width=\"8.333\" height=\"12.5\" opacity=\"0.19607843137254902\" fill=\"currentColor\" stroke-width=\"0.1\"/>\n",
       "<rect x=\"50.0\" y=\"-25.0\" width=\"8.333\" height=\"12.5\" opacity=\"0.3137254901960784\" fill=\"currentColor\" stroke-width=\"0.1\"/>\n",
       "<rect x=\"58.333333333333336\" y=\"-25.0\" width=\"8.333\" height=\"12.5\" opacity=\"0.3529411764705882\" fill=\"currentColor\" stroke-width=\"0.1\"/>\n",
       "<rect x=\"66.66666666666667\" y=\"-25.0\" width=\"8.333\" height=\"12.5\" opacity=\"0.24509803921568626\" fill=\"currentColor\" stroke-width=\"0.1\"/>\n",
       "<rect x=\"75.0\" y=\"-25.0\" width=\"8.333\" height=\"12.5\" opacity=\"0.1568627450980392\" fill=\"currentColor\" stroke-width=\"0.1\"/>\n",
       "<rect x=\"83.33333333333333\" y=\"-25.0\" width=\"8.333\" height=\"12.5\" opacity=\"0.06862745098039216\" fill=\"currentColor\" stroke-width=\"0.1\"/>\n",
       "<rect x=\"91.66666666666666\" y=\"-25.0\" width=\"8.333\" height=\"12.5\" opacity=\"0.0196078431372549\" fill=\"currentColor\" stroke-width=\"0.1\"/>\n",
       "<rect x=\"100.0\" y=\"-25.0\" width=\"8.333\" height=\"12.5\" opacity=\"0.0196078431372549\" fill=\"currentColor\" stroke-width=\"0.1\"/>\n",
       "<rect x=\"108.33333333333334\" y=\"-25.0\" width=\"8.333\" height=\"12.5\" opacity=\"0.0196078431372549\" fill=\"currentColor\" stroke-width=\"0.1\"/>\n",
       "<rect x=\"116.66666666666667\" y=\"-25.0\" width=\"8.333\" height=\"12.5\" opacity=\"0.029411764705882353\" fill=\"currentColor\" stroke-width=\"0.1\"/>\n",
       "<rect x=\"125.0\" y=\"-25.0\" width=\"8.333\" height=\"12.5\" opacity=\"0.00980392156862745\" fill=\"currentColor\" stroke-width=\"0.1\"/>\n",
       "<rect x=\"133.33333333333334\" y=\"-25.0\" width=\"8.333\" height=\"12.5\" opacity=\"0.00980392156862745\" fill=\"currentColor\" stroke-width=\"0.1\"/>\n",
       "<rect x=\"141.66666666666666\" y=\"-25.0\" width=\"8.333\" height=\"12.5\" opacity=\"0.00980392156862745\" fill=\"currentColor\" stroke-width=\"0.1\"/>\n",
       "<rect x=\"150.0\" y=\"-25.0\" width=\"8.333\" height=\"12.5\" opacity=\"0.00980392156862745\" fill=\"currentColor\" stroke-width=\"0.1\"/>\n",
       "<rect x=\"158.33333333333331\" y=\"-25.0\" width=\"8.333\" height=\"12.5\" opacity=\"0.0\" fill=\"currentColor\" stroke-width=\"0.1\"/>\n",
       "<rect x=\"166.66666666666666\" y=\"-25.0\" width=\"8.333\" height=\"12.5\" opacity=\"0.00980392156862745\" fill=\"currentColor\" stroke-width=\"0.1\"/>\n",
       "<rect x=\"175.0\" y=\"-25.0\" width=\"8.333\" height=\"12.5\" opacity=\"0.0\" fill=\"currentColor\" stroke-width=\"0.1\"/>\n",
       "<rect x=\"183.33333333333331\" y=\"-25.0\" width=\"8.333\" height=\"12.5\" opacity=\"0.00980392156862739\" fill=\"currentColor\" stroke-width=\"0.1\"/>\n",
       "<rect x=\"191.66666666666669\" y=\"-25.0\" width=\"8.333\" height=\"12.5\" opacity=\"0.00980392156862748\" fill=\"currentColor\" stroke-width=\"0.1\"/>\n",
       "<rect x=\"200.0\" y=\"-25.0\" width=\"8.333\" height=\"12.5\" opacity=\"0.0\" fill=\"currentColor\" stroke-width=\"0.1\"/>\n",
       "<rect x=\"208.33333333333334\" y=\"-25.0\" width=\"8.333\" height=\"12.5\" opacity=\"0.0\" fill=\"currentColor\" stroke-width=\"0.1\"/>\n",
       "<rect x=\"216.66666666666669\" y=\"-25.0\" width=\"8.333\" height=\"12.5\" opacity=\"0.0\" fill=\"currentColor\" stroke-width=\"0.1\"/>\n",
       "<rect x=\"225.0\" y=\"-25.0\" width=\"8.333\" height=\"12.5\" opacity=\"0.0\" fill=\"currentColor\" stroke-width=\"0.1\"/>\n",
       "<rect x=\"233.33333333333334\" y=\"-25.0\" width=\"8.333\" height=\"12.5\" opacity=\"0.0\" fill=\"currentColor\" stroke-width=\"0.1\"/>\n",
       "<rect x=\"241.66666666666666\" y=\"-25.0\" width=\"8.333\" height=\"12.5\" opacity=\"0.0\" fill=\"currentColor\" stroke-width=\"0.1\"/>\n",
       "<rect x=\"0.0\" y=\"-37.5\" width=\"8.333\" height=\"12.5\" opacity=\"0.8725490196078431\" fill=\"currentColor\" stroke-width=\"0.1\"/>\n",
       "<rect x=\"8.333333333333334\" y=\"-37.5\" width=\"8.333\" height=\"12.5\" opacity=\"0.4803921568627451\" fill=\"currentColor\" stroke-width=\"0.1\"/>\n",
       "<rect x=\"16.666666666666668\" y=\"-37.5\" width=\"8.333\" height=\"12.5\" opacity=\"0.2941176470588235\" fill=\"currentColor\" stroke-width=\"0.1\"/>\n",
       "<rect x=\"25.0\" y=\"-37.5\" width=\"8.333\" height=\"12.5\" opacity=\"0.2549019607843137\" fill=\"currentColor\" stroke-width=\"0.1\"/>\n",
       "<rect x=\"33.333333333333336\" y=\"-37.5\" width=\"8.333\" height=\"12.5\" opacity=\"0.3627450980392157\" fill=\"currentColor\" stroke-width=\"0.1\"/>\n",
       "<rect x=\"41.666666666666664\" y=\"-37.5\" width=\"8.333\" height=\"12.5\" opacity=\"0.27450980392156865\" fill=\"currentColor\" stroke-width=\"0.1\"/>\n",
       "<rect x=\"50.0\" y=\"-37.5\" width=\"8.333\" height=\"12.5\" opacity=\"0.3529411764705882\" fill=\"currentColor\" stroke-width=\"0.1\"/>\n",
       "<rect x=\"58.333333333333336\" y=\"-37.5\" width=\"8.333\" height=\"12.5\" opacity=\"0.28431372549019607\" fill=\"currentColor\" stroke-width=\"0.1\"/>\n",
       "<rect x=\"66.66666666666667\" y=\"-37.5\" width=\"8.333\" height=\"12.5\" opacity=\"0.20588235294117646\" fill=\"currentColor\" stroke-width=\"0.1\"/>\n",
       "<rect x=\"75.0\" y=\"-37.5\" width=\"8.333\" height=\"12.5\" opacity=\"0.1764705882352941\" fill=\"currentColor\" stroke-width=\"0.1\"/>\n",
       "<rect x=\"83.33333333333333\" y=\"-37.5\" width=\"8.333\" height=\"12.5\" opacity=\"0.10784313725490195\" fill=\"currentColor\" stroke-width=\"0.1\"/>\n",
       "<rect x=\"91.66666666666666\" y=\"-37.5\" width=\"8.333\" height=\"12.5\" opacity=\"0.029411764705882353\" fill=\"currentColor\" stroke-width=\"0.1\"/>\n",
       "<rect x=\"100.0\" y=\"-37.5\" width=\"8.333\" height=\"12.5\" opacity=\"0.06862745098039216\" fill=\"currentColor\" stroke-width=\"0.1\"/>\n",
       "<rect x=\"108.33333333333334\" y=\"-37.5\" width=\"8.333\" height=\"12.5\" opacity=\"0.00980392156862745\" fill=\"currentColor\" stroke-width=\"0.1\"/>\n",
       "<rect x=\"116.66666666666667\" y=\"-37.5\" width=\"8.333\" height=\"12.5\" opacity=\"0.00980392156862745\" fill=\"currentColor\" stroke-width=\"0.1\"/>\n",
       "<rect x=\"125.0\" y=\"-37.5\" width=\"8.333\" height=\"12.5\" opacity=\"0.0196078431372549\" fill=\"currentColor\" stroke-width=\"0.1\"/>\n",
       "<rect x=\"133.33333333333334\" y=\"-37.5\" width=\"8.333\" height=\"12.5\" opacity=\"0.0392156862745098\" fill=\"currentColor\" stroke-width=\"0.1\"/>\n",
       "<rect x=\"141.66666666666666\" y=\"-37.5\" width=\"8.333\" height=\"12.5\" opacity=\"0.0196078431372549\" fill=\"currentColor\" stroke-width=\"0.1\"/>\n",
       "<rect x=\"150.0\" y=\"-37.5\" width=\"8.333\" height=\"12.5\" opacity=\"0.0196078431372549\" fill=\"currentColor\" stroke-width=\"0.1\"/>\n",
       "<rect x=\"158.33333333333331\" y=\"-37.5\" width=\"8.333\" height=\"12.5\" opacity=\"0.0\" fill=\"currentColor\" stroke-width=\"0.1\"/>\n",
       "<rect x=\"166.66666666666666\" y=\"-37.5\" width=\"8.333\" height=\"12.5\" opacity=\"0.0\" fill=\"currentColor\" stroke-width=\"0.1\"/>\n",
       "<rect x=\"175.0\" y=\"-37.5\" width=\"8.333\" height=\"12.5\" opacity=\"0.0\" fill=\"currentColor\" stroke-width=\"0.1\"/>\n",
       "<rect x=\"183.33333333333331\" y=\"-37.5\" width=\"8.333\" height=\"12.5\" opacity=\"0.0\" fill=\"currentColor\" stroke-width=\"0.1\"/>\n",
       "<rect x=\"191.66666666666669\" y=\"-37.5\" width=\"8.333\" height=\"12.5\" opacity=\"0.0\" fill=\"currentColor\" stroke-width=\"0.1\"/>\n",
       "<rect x=\"200.0\" y=\"-37.5\" width=\"8.333\" height=\"12.5\" opacity=\"0.0\" fill=\"currentColor\" stroke-width=\"0.1\"/>\n",
       "<rect x=\"208.33333333333334\" y=\"-37.5\" width=\"8.333\" height=\"12.5\" opacity=\"0.0\" fill=\"currentColor\" stroke-width=\"0.1\"/>\n",
       "<rect x=\"216.66666666666669\" y=\"-37.5\" width=\"8.333\" height=\"12.5\" opacity=\"0.0\" fill=\"currentColor\" stroke-width=\"0.1\"/>\n",
       "<rect x=\"225.0\" y=\"-37.5\" width=\"8.333\" height=\"12.5\" opacity=\"0.0\" fill=\"currentColor\" stroke-width=\"0.1\"/>\n",
       "<rect x=\"233.33333333333334\" y=\"-37.5\" width=\"8.333\" height=\"12.5\" opacity=\"0.00980392156862745\" fill=\"currentColor\" stroke-width=\"0.1\"/>\n",
       "<rect x=\"241.66666666666666\" y=\"-37.5\" width=\"8.333\" height=\"12.5\" opacity=\"0.0\" fill=\"currentColor\" stroke-width=\"0.1\"/>\n",
       "<rect x=\"0.0\" y=\"-50.0\" width=\"8.333\" height=\"12.5\" opacity=\"0.7647058823529411\" fill=\"currentColor\" stroke-width=\"0.1\"/>\n",
       "<rect x=\"8.333333333333334\" y=\"-50.0\" width=\"8.333\" height=\"12.5\" opacity=\"0.5\" fill=\"currentColor\" stroke-width=\"0.1\"/>\n",
       "<rect x=\"16.666666666666668\" y=\"-50.0\" width=\"8.333\" height=\"12.5\" opacity=\"0.4117647058823529\" fill=\"currentColor\" stroke-width=\"0.1\"/>\n",
       "<rect x=\"25.0\" y=\"-50.0\" width=\"8.333\" height=\"12.5\" opacity=\"0.30392156862745096\" fill=\"currentColor\" stroke-width=\"0.1\"/>\n",
       "<rect x=\"33.333333333333336\" y=\"-50.0\" width=\"8.333\" height=\"12.5\" opacity=\"0.3235294117647059\" fill=\"currentColor\" stroke-width=\"0.1\"/>\n",
       "<rect x=\"41.666666666666664\" y=\"-50.0\" width=\"8.333\" height=\"12.5\" opacity=\"0.2941176470588235\" fill=\"currentColor\" stroke-width=\"0.1\"/>\n",
       "<rect x=\"50.0\" y=\"-50.0\" width=\"8.333\" height=\"12.5\" opacity=\"0.3333333333333333\" fill=\"currentColor\" stroke-width=\"0.1\"/>\n",
       "<rect x=\"58.333333333333336\" y=\"-50.0\" width=\"8.333\" height=\"12.5\" opacity=\"0.30392156862745096\" fill=\"currentColor\" stroke-width=\"0.1\"/>\n",
       "<rect x=\"66.66666666666667\" y=\"-50.0\" width=\"8.333\" height=\"12.5\" opacity=\"0.18627450980392157\" fill=\"currentColor\" stroke-width=\"0.1\"/>\n",
       "<rect x=\"75.0\" y=\"-50.0\" width=\"8.333\" height=\"12.5\" opacity=\"0.09803921568627451\" fill=\"currentColor\" stroke-width=\"0.1\"/>\n",
       "<rect x=\"83.33333333333333\" y=\"-50.0\" width=\"8.333\" height=\"12.5\" opacity=\"0.11764705882352941\" fill=\"currentColor\" stroke-width=\"0.1\"/>\n",
       "<rect x=\"91.66666666666666\" y=\"-50.0\" width=\"8.333\" height=\"12.5\" opacity=\"0.0392156862745098\" fill=\"currentColor\" stroke-width=\"0.1\"/>\n",
       "<rect x=\"100.0\" y=\"-50.0\" width=\"8.333\" height=\"12.5\" opacity=\"0.029411764705882353\" fill=\"currentColor\" stroke-width=\"0.1\"/>\n",
       "<rect x=\"108.33333333333334\" y=\"-50.0\" width=\"8.333\" height=\"12.5\" opacity=\"0.0392156862745098\" fill=\"currentColor\" stroke-width=\"0.1\"/>\n",
       "<rect x=\"116.66666666666667\" y=\"-50.0\" width=\"8.333\" height=\"12.5\" opacity=\"0.00980392156862745\" fill=\"currentColor\" stroke-width=\"0.1\"/>\n",
       "<rect x=\"125.0\" y=\"-50.0\" width=\"8.333\" height=\"12.5\" opacity=\"0.00980392156862745\" fill=\"currentColor\" stroke-width=\"0.1\"/>\n",
       "<rect x=\"133.33333333333334\" y=\"-50.0\" width=\"8.333\" height=\"12.5\" opacity=\"0.00980392156862745\" fill=\"currentColor\" stroke-width=\"0.1\"/>\n",
       "<rect x=\"141.66666666666666\" y=\"-50.0\" width=\"8.333\" height=\"12.5\" opacity=\"0.00980392156862745\" fill=\"currentColor\" stroke-width=\"0.1\"/>\n",
       "<rect x=\"150.0\" y=\"-50.0\" width=\"8.333\" height=\"12.5\" opacity=\"0.0\" fill=\"currentColor\" stroke-width=\"0.1\"/>\n",
       "<rect x=\"158.33333333333331\" y=\"-50.0\" width=\"8.333\" height=\"12.5\" opacity=\"0.0\" fill=\"currentColor\" stroke-width=\"0.1\"/>\n",
       "<rect x=\"166.66666666666666\" y=\"-50.0\" width=\"8.333\" height=\"12.5\" opacity=\"0.029411764705882353\" fill=\"currentColor\" stroke-width=\"0.1\"/>\n",
       "<rect x=\"175.0\" y=\"-50.0\" width=\"8.333\" height=\"12.5\" opacity=\"0.00980392156862748\" fill=\"currentColor\" stroke-width=\"0.1\"/>\n",
       "<rect x=\"183.33333333333331\" y=\"-50.0\" width=\"8.333\" height=\"12.5\" opacity=\"0.0\" fill=\"currentColor\" stroke-width=\"0.1\"/>\n",
       "<rect x=\"191.66666666666669\" y=\"-50.0\" width=\"8.333\" height=\"12.5\" opacity=\"0.0\" fill=\"currentColor\" stroke-width=\"0.1\"/>\n",
       "<rect x=\"200.0\" y=\"-50.0\" width=\"8.333\" height=\"12.5\" opacity=\"0.0\" fill=\"currentColor\" stroke-width=\"0.1\"/>\n",
       "<rect x=\"208.33333333333334\" y=\"-50.0\" width=\"8.333\" height=\"12.5\" opacity=\"0.0\" fill=\"currentColor\" stroke-width=\"0.1\"/>\n",
       "<rect x=\"216.66666666666669\" y=\"-50.0\" width=\"8.333\" height=\"12.5\" opacity=\"0.00980392156862745\" fill=\"currentColor\" stroke-width=\"0.1\"/>\n",
       "<rect x=\"225.0\" y=\"-50.0\" width=\"8.333\" height=\"12.5\" opacity=\"0.00980392156862745\" fill=\"currentColor\" stroke-width=\"0.1\"/>\n",
       "<rect x=\"233.33333333333334\" y=\"-50.0\" width=\"8.333\" height=\"12.5\" opacity=\"0.0\" fill=\"currentColor\" stroke-width=\"0.1\"/>\n",
       "<rect x=\"241.66666666666666\" y=\"-50.0\" width=\"8.333\" height=\"12.5\" opacity=\"0.00980392156862745\" fill=\"currentColor\" stroke-width=\"0.1\"/>\n",
       "<rect x=\"0.0\" y=\"-62.5\" width=\"8.333\" height=\"12.5\" opacity=\"0.9019607843137255\" fill=\"currentColor\" stroke-width=\"0.1\"/>\n",
       "<rect x=\"8.333333333333334\" y=\"-62.5\" width=\"8.333\" height=\"12.5\" opacity=\"0.4313725490196078\" fill=\"currentColor\" stroke-width=\"0.1\"/>\n",
       "<rect x=\"16.666666666666668\" y=\"-62.5\" width=\"8.333\" height=\"12.5\" opacity=\"0.45098039215686275\" fill=\"currentColor\" stroke-width=\"0.1\"/>\n",
       "<rect x=\"25.0\" y=\"-62.5\" width=\"8.333\" height=\"12.5\" opacity=\"0.3627450980392157\" fill=\"currentColor\" stroke-width=\"0.1\"/>\n",
       "<rect x=\"33.333333333333336\" y=\"-62.5\" width=\"8.333\" height=\"12.5\" opacity=\"0.34313725490196073\" fill=\"currentColor\" stroke-width=\"0.1\"/>\n",
       "<rect x=\"41.666666666666664\" y=\"-62.5\" width=\"8.333\" height=\"12.5\" opacity=\"0.2156862745098039\" fill=\"currentColor\" stroke-width=\"0.1\"/>\n",
       "<rect x=\"50.0\" y=\"-62.5\" width=\"8.333\" height=\"12.5\" opacity=\"0.3137254901960784\" fill=\"currentColor\" stroke-width=\"0.1\"/>\n",
       "<rect x=\"58.333333333333336\" y=\"-62.5\" width=\"8.333\" height=\"12.5\" opacity=\"0.39215686274509803\" fill=\"currentColor\" stroke-width=\"0.1\"/>\n",
       "<rect x=\"66.66666666666667\" y=\"-62.5\" width=\"8.333\" height=\"12.5\" opacity=\"0.22549019607843138\" fill=\"currentColor\" stroke-width=\"0.1\"/>\n",
       "<rect x=\"75.0\" y=\"-62.5\" width=\"8.333\" height=\"12.5\" opacity=\"0.19607843137254902\" fill=\"currentColor\" stroke-width=\"0.1\"/>\n",
       "<rect x=\"83.33333333333333\" y=\"-62.5\" width=\"8.333\" height=\"12.5\" opacity=\"0.058823529411764705\" fill=\"currentColor\" stroke-width=\"0.1\"/>\n",
       "<rect x=\"91.66666666666666\" y=\"-62.5\" width=\"8.333\" height=\"12.5\" opacity=\"0.0196078431372549\" fill=\"currentColor\" stroke-width=\"0.1\"/>\n",
       "<rect x=\"100.0\" y=\"-62.5\" width=\"8.333\" height=\"12.5\" opacity=\"0.029411764705882353\" fill=\"currentColor\" stroke-width=\"0.1\"/>\n",
       "<rect x=\"108.33333333333334\" y=\"-62.5\" width=\"8.333\" height=\"12.5\" opacity=\"0.029411764705882353\" fill=\"currentColor\" stroke-width=\"0.1\"/>\n",
       "<rect x=\"116.66666666666667\" y=\"-62.5\" width=\"8.333\" height=\"12.5\" opacity=\"0.0196078431372549\" fill=\"currentColor\" stroke-width=\"0.1\"/>\n",
       "<rect x=\"125.0\" y=\"-62.5\" width=\"8.333\" height=\"12.5\" opacity=\"0.0196078431372549\" fill=\"currentColor\" stroke-width=\"0.1\"/>\n",
       "<rect x=\"133.33333333333334\" y=\"-62.5\" width=\"8.333\" height=\"12.5\" opacity=\"0.029411764705882353\" fill=\"currentColor\" stroke-width=\"0.1\"/>\n",
       "<rect x=\"141.66666666666666\" y=\"-62.5\" width=\"8.333\" height=\"12.5\" opacity=\"0.00980392156862745\" fill=\"currentColor\" stroke-width=\"0.1\"/>\n",
       "<rect x=\"150.0\" y=\"-62.5\" width=\"8.333\" height=\"12.5\" opacity=\"0.0\" fill=\"currentColor\" stroke-width=\"0.1\"/>\n",
       "<rect x=\"158.33333333333331\" y=\"-62.5\" width=\"8.333\" height=\"12.5\" opacity=\"0.00980392156862745\" fill=\"currentColor\" stroke-width=\"0.1\"/>\n",
       "<rect x=\"166.66666666666666\" y=\"-62.5\" width=\"8.333\" height=\"12.5\" opacity=\"0.0\" fill=\"currentColor\" stroke-width=\"0.1\"/>\n",
       "<rect x=\"175.0\" y=\"-62.5\" width=\"8.333\" height=\"12.5\" opacity=\"0.00980392156862748\" fill=\"currentColor\" stroke-width=\"0.1\"/>\n",
       "<rect x=\"183.33333333333331\" y=\"-62.5\" width=\"8.333\" height=\"12.5\" opacity=\"0.00980392156862739\" fill=\"currentColor\" stroke-width=\"0.1\"/>\n",
       "<rect x=\"191.66666666666669\" y=\"-62.5\" width=\"8.333\" height=\"12.5\" opacity=\"0.00980392156862748\" fill=\"currentColor\" stroke-width=\"0.1\"/>\n",
       "<rect x=\"200.0\" y=\"-62.5\" width=\"8.333\" height=\"12.5\" opacity=\"0.00980392156862745\" fill=\"currentColor\" stroke-width=\"0.1\"/>\n",
       "<rect x=\"208.33333333333334\" y=\"-62.5\" width=\"8.333\" height=\"12.5\" opacity=\"0.0\" fill=\"currentColor\" stroke-width=\"0.1\"/>\n",
       "<rect x=\"216.66666666666669\" y=\"-62.5\" width=\"8.333\" height=\"12.5\" opacity=\"0.0\" fill=\"currentColor\" stroke-width=\"0.1\"/>\n",
       "<rect x=\"225.0\" y=\"-62.5\" width=\"8.333\" height=\"12.5\" opacity=\"0.0\" fill=\"currentColor\" stroke-width=\"0.1\"/>\n",
       "<rect x=\"233.33333333333334\" y=\"-62.5\" width=\"8.333\" height=\"12.5\" opacity=\"0.0\" fill=\"currentColor\" stroke-width=\"0.1\"/>\n",
       "<rect x=\"241.66666666666666\" y=\"-62.5\" width=\"8.333\" height=\"12.5\" opacity=\"0.0\" fill=\"currentColor\" stroke-width=\"0.1\"/>\n",
       "<rect x=\"0.0\" y=\"-75.0\" width=\"8.333\" height=\"12.5\" opacity=\"0.6862745098039215\" fill=\"currentColor\" stroke-width=\"0.1\"/>\n",
       "<rect x=\"8.333333333333334\" y=\"-75.0\" width=\"8.333\" height=\"12.5\" opacity=\"0.5980392156862745\" fill=\"currentColor\" stroke-width=\"0.1\"/>\n",
       "<rect x=\"16.666666666666668\" y=\"-75.0\" width=\"8.333\" height=\"12.5\" opacity=\"0.4803921568627451\" fill=\"currentColor\" stroke-width=\"0.1\"/>\n",
       "<rect x=\"25.0\" y=\"-75.0\" width=\"8.333\" height=\"12.5\" opacity=\"0.23529411764705882\" fill=\"currentColor\" stroke-width=\"0.1\"/>\n",
       "<rect x=\"33.333333333333336\" y=\"-75.0\" width=\"8.333\" height=\"12.5\" opacity=\"0.39215686274509803\" fill=\"currentColor\" stroke-width=\"0.1\"/>\n",
       "<rect x=\"41.666666666666664\" y=\"-75.0\" width=\"8.333\" height=\"12.5\" opacity=\"0.3529411764705882\" fill=\"currentColor\" stroke-width=\"0.1\"/>\n",
       "<rect x=\"50.0\" y=\"-75.0\" width=\"8.333\" height=\"12.5\" opacity=\"0.3529411764705882\" fill=\"currentColor\" stroke-width=\"0.1\"/>\n",
       "<rect x=\"58.333333333333336\" y=\"-75.0\" width=\"8.333\" height=\"12.5\" opacity=\"0.23529411764705882\" fill=\"currentColor\" stroke-width=\"0.1\"/>\n",
       "<rect x=\"66.66666666666667\" y=\"-75.0\" width=\"8.333\" height=\"12.5\" opacity=\"0.2156862745098039\" fill=\"currentColor\" stroke-width=\"0.1\"/>\n",
       "<rect x=\"75.0\" y=\"-75.0\" width=\"8.333\" height=\"12.5\" opacity=\"0.14705882352941174\" fill=\"currentColor\" stroke-width=\"0.1\"/>\n",
       "<rect x=\"83.33333333333333\" y=\"-75.0\" width=\"8.333\" height=\"12.5\" opacity=\"0.08823529411764705\" fill=\"currentColor\" stroke-width=\"0.1\"/>\n",
       "<rect x=\"91.66666666666666\" y=\"-75.0\" width=\"8.333\" height=\"12.5\" opacity=\"0.0196078431372549\" fill=\"currentColor\" stroke-width=\"0.1\"/>\n",
       "<rect x=\"100.0\" y=\"-75.0\" width=\"8.333\" height=\"12.5\" opacity=\"0.08823529411764705\" fill=\"currentColor\" stroke-width=\"0.1\"/>\n",
       "<rect x=\"108.33333333333334\" y=\"-75.0\" width=\"8.333\" height=\"12.5\" opacity=\"0.0196078431372549\" fill=\"currentColor\" stroke-width=\"0.1\"/>\n",
       "<rect x=\"116.66666666666667\" y=\"-75.0\" width=\"8.333\" height=\"12.5\" opacity=\"0.0196078431372549\" fill=\"currentColor\" stroke-width=\"0.1\"/>\n",
       "<rect x=\"125.0\" y=\"-75.0\" width=\"8.333\" height=\"12.5\" opacity=\"0.0392156862745098\" fill=\"currentColor\" stroke-width=\"0.1\"/>\n",
       "<rect x=\"133.33333333333334\" y=\"-75.0\" width=\"8.333\" height=\"12.5\" opacity=\"0.0\" fill=\"currentColor\" stroke-width=\"0.1\"/>\n",
       "<rect x=\"141.66666666666666\" y=\"-75.0\" width=\"8.333\" height=\"12.5\" opacity=\"0.00980392156862745\" fill=\"currentColor\" stroke-width=\"0.1\"/>\n",
       "<rect x=\"150.0\" y=\"-75.0\" width=\"8.333\" height=\"12.5\" opacity=\"0.0\" fill=\"currentColor\" stroke-width=\"0.1\"/>\n",
       "<rect x=\"158.33333333333331\" y=\"-75.0\" width=\"8.333\" height=\"12.5\" opacity=\"0.0\" fill=\"currentColor\" stroke-width=\"0.1\"/>\n",
       "<rect x=\"166.66666666666666\" y=\"-75.0\" width=\"8.333\" height=\"12.5\" opacity=\"0.00980392156862745\" fill=\"currentColor\" stroke-width=\"0.1\"/>\n",
       "<rect x=\"175.0\" y=\"-75.0\" width=\"8.333\" height=\"12.5\" opacity=\"0.0\" fill=\"currentColor\" stroke-width=\"0.1\"/>\n",
       "<rect x=\"183.33333333333331\" y=\"-75.0\" width=\"8.333\" height=\"12.5\" opacity=\"0.00980392156862739\" fill=\"currentColor\" stroke-width=\"0.1\"/>\n",
       "<rect x=\"191.66666666666669\" y=\"-75.0\" width=\"8.333\" height=\"12.5\" opacity=\"0.00980392156862748\" fill=\"currentColor\" stroke-width=\"0.1\"/>\n",
       "<rect x=\"200.0\" y=\"-75.0\" width=\"8.333\" height=\"12.5\" opacity=\"0.0\" fill=\"currentColor\" stroke-width=\"0.1\"/>\n",
       "<rect x=\"208.33333333333334\" y=\"-75.0\" width=\"8.333\" height=\"12.5\" opacity=\"0.0\" fill=\"currentColor\" stroke-width=\"0.1\"/>\n",
       "<rect x=\"216.66666666666669\" y=\"-75.0\" width=\"8.333\" height=\"12.5\" opacity=\"0.00980392156862745\" fill=\"currentColor\" stroke-width=\"0.1\"/>\n",
       "<rect x=\"225.0\" y=\"-75.0\" width=\"8.333\" height=\"12.5\" opacity=\"0.0\" fill=\"currentColor\" stroke-width=\"0.1\"/>\n",
       "<rect x=\"233.33333333333334\" y=\"-75.0\" width=\"8.333\" height=\"12.5\" opacity=\"0.0\" fill=\"currentColor\" stroke-width=\"0.1\"/>\n",
       "<rect x=\"241.66666666666666\" y=\"-75.0\" width=\"8.333\" height=\"12.5\" opacity=\"0.0\" fill=\"currentColor\" stroke-width=\"0.1\"/>\n",
       "<rect x=\"0.0\" y=\"-87.5\" width=\"8.333\" height=\"12.5\" opacity=\"0.7254901960784313\" fill=\"currentColor\" stroke-width=\"0.1\"/>\n",
       "<rect x=\"8.333333333333334\" y=\"-87.5\" width=\"8.333\" height=\"12.5\" opacity=\"0.4411764705882353\" fill=\"currentColor\" stroke-width=\"0.1\"/>\n",
       "<rect x=\"16.666666666666668\" y=\"-87.5\" width=\"8.333\" height=\"12.5\" opacity=\"0.37254901960784315\" fill=\"currentColor\" stroke-width=\"0.1\"/>\n",
       "<rect x=\"25.0\" y=\"-87.5\" width=\"8.333\" height=\"12.5\" opacity=\"0.30392156862745096\" fill=\"currentColor\" stroke-width=\"0.1\"/>\n",
       "<rect x=\"33.333333333333336\" y=\"-87.5\" width=\"8.333\" height=\"12.5\" opacity=\"0.3333333333333333\" fill=\"currentColor\" stroke-width=\"0.1\"/>\n",
       "<rect x=\"41.666666666666664\" y=\"-87.5\" width=\"8.333\" height=\"12.5\" opacity=\"0.4215686274509804\" fill=\"currentColor\" stroke-width=\"0.1\"/>\n",
       "<rect x=\"50.0\" y=\"-87.5\" width=\"8.333\" height=\"12.5\" opacity=\"0.3529411764705882\" fill=\"currentColor\" stroke-width=\"0.1\"/>\n",
       "<rect x=\"58.333333333333336\" y=\"-87.5\" width=\"8.333\" height=\"12.5\" opacity=\"0.27450980392156865\" fill=\"currentColor\" stroke-width=\"0.1\"/>\n",
       "<rect x=\"66.66666666666667\" y=\"-87.5\" width=\"8.333\" height=\"12.5\" opacity=\"0.18627450980392157\" fill=\"currentColor\" stroke-width=\"0.1\"/>\n",
       "<rect x=\"75.0\" y=\"-87.5\" width=\"8.333\" height=\"12.5\" opacity=\"0.16666666666666666\" fill=\"currentColor\" stroke-width=\"0.1\"/>\n",
       "<rect x=\"83.33333333333333\" y=\"-87.5\" width=\"8.333\" height=\"12.5\" opacity=\"0.06862745098039216\" fill=\"currentColor\" stroke-width=\"0.1\"/>\n",
       "<rect x=\"91.66666666666666\" y=\"-87.5\" width=\"8.333\" height=\"12.5\" opacity=\"0.058823529411764705\" fill=\"currentColor\" stroke-width=\"0.1\"/>\n",
       "<rect x=\"100.0\" y=\"-87.5\" width=\"8.333\" height=\"12.5\" opacity=\"0.058823529411764705\" fill=\"currentColor\" stroke-width=\"0.1\"/>\n",
       "<rect x=\"108.33333333333334\" y=\"-87.5\" width=\"8.333\" height=\"12.5\" opacity=\"0.058823529411764705\" fill=\"currentColor\" stroke-width=\"0.1\"/>\n",
       "<rect x=\"116.66666666666667\" y=\"-87.5\" width=\"8.333\" height=\"12.5\" opacity=\"0.029411764705882353\" fill=\"currentColor\" stroke-width=\"0.1\"/>\n",
       "<rect x=\"125.0\" y=\"-87.5\" width=\"8.333\" height=\"12.5\" opacity=\"0.00980392156862745\" fill=\"currentColor\" stroke-width=\"0.1\"/>\n",
       "<rect x=\"133.33333333333334\" y=\"-87.5\" width=\"8.333\" height=\"12.5\" opacity=\"0.00980392156862745\" fill=\"currentColor\" stroke-width=\"0.1\"/>\n",
       "<rect x=\"141.66666666666666\" y=\"-87.5\" width=\"8.333\" height=\"12.5\" opacity=\"0.0\" fill=\"currentColor\" stroke-width=\"0.1\"/>\n",
       "<rect x=\"150.0\" y=\"-87.5\" width=\"8.333\" height=\"12.5\" opacity=\"0.0\" fill=\"currentColor\" stroke-width=\"0.1\"/>\n",
       "<rect x=\"158.33333333333331\" y=\"-87.5\" width=\"8.333\" height=\"12.5\" opacity=\"0.0\" fill=\"currentColor\" stroke-width=\"0.1\"/>\n",
       "<rect x=\"166.66666666666666\" y=\"-87.5\" width=\"8.333\" height=\"12.5\" opacity=\"0.0\" fill=\"currentColor\" stroke-width=\"0.1\"/>\n",
       "<rect x=\"175.0\" y=\"-87.5\" width=\"8.333\" height=\"12.5\" opacity=\"0.0\" fill=\"currentColor\" stroke-width=\"0.1\"/>\n",
       "<rect x=\"183.33333333333331\" y=\"-87.5\" width=\"8.333\" height=\"12.5\" opacity=\"0.00980392156862739\" fill=\"currentColor\" stroke-width=\"0.1\"/>\n",
       "<rect x=\"191.66666666666669\" y=\"-87.5\" width=\"8.333\" height=\"12.5\" opacity=\"0.0\" fill=\"currentColor\" stroke-width=\"0.1\"/>\n",
       "<rect x=\"200.0\" y=\"-87.5\" width=\"8.333\" height=\"12.5\" opacity=\"0.0\" fill=\"currentColor\" stroke-width=\"0.1\"/>\n",
       "<rect x=\"208.33333333333334\" y=\"-87.5\" width=\"8.333\" height=\"12.5\" opacity=\"0.00980392156862745\" fill=\"currentColor\" stroke-width=\"0.1\"/>\n",
       "<rect x=\"216.66666666666669\" y=\"-87.5\" width=\"8.333\" height=\"12.5\" opacity=\"0.0\" fill=\"currentColor\" stroke-width=\"0.1\"/>\n",
       "<rect x=\"225.0\" y=\"-87.5\" width=\"8.333\" height=\"12.5\" opacity=\"0.00980392156862745\" fill=\"currentColor\" stroke-width=\"0.1\"/>\n",
       "<rect x=\"233.33333333333334\" y=\"-87.5\" width=\"8.333\" height=\"12.5\" opacity=\"0.00980392156862745\" fill=\"currentColor\" stroke-width=\"0.1\"/>\n",
       "<rect x=\"241.66666666666666\" y=\"-87.5\" width=\"8.333\" height=\"12.5\" opacity=\"0.0\" fill=\"currentColor\" stroke-width=\"0.1\"/>\n",
       "<rect x=\"0.0\" y=\"-100.0\" width=\"8.333\" height=\"12.5\" opacity=\"0.8431372549019608\" fill=\"currentColor\" stroke-width=\"0.1\"/>\n",
       "<rect x=\"8.333333333333334\" y=\"-100.0\" width=\"8.333\" height=\"12.5\" opacity=\"0.2647058823529412\" fill=\"currentColor\" stroke-width=\"0.1\"/>\n",
       "<rect x=\"16.666666666666668\" y=\"-100.0\" width=\"8.333\" height=\"12.5\" opacity=\"0.2941176470588235\" fill=\"currentColor\" stroke-width=\"0.1\"/>\n",
       "<rect x=\"25.0\" y=\"-100.0\" width=\"8.333\" height=\"12.5\" opacity=\"0.38235294117647056\" fill=\"currentColor\" stroke-width=\"0.1\"/>\n",
       "<rect x=\"33.333333333333336\" y=\"-100.0\" width=\"8.333\" height=\"12.5\" opacity=\"0.30392156862745096\" fill=\"currentColor\" stroke-width=\"0.1\"/>\n",
       "<rect x=\"41.666666666666664\" y=\"-100.0\" width=\"8.333\" height=\"12.5\" opacity=\"0.39215686274509803\" fill=\"currentColor\" stroke-width=\"0.1\"/>\n",
       "<rect x=\"50.0\" y=\"-100.0\" width=\"8.333\" height=\"12.5\" opacity=\"0.2647058823529412\" fill=\"currentColor\" stroke-width=\"0.1\"/>\n",
       "<rect x=\"58.333333333333336\" y=\"-100.0\" width=\"8.333\" height=\"12.5\" opacity=\"0.24509803921568626\" fill=\"currentColor\" stroke-width=\"0.1\"/>\n",
       "<rect x=\"66.66666666666667\" y=\"-100.0\" width=\"8.333\" height=\"12.5\" opacity=\"0.2647058823529412\" fill=\"currentColor\" stroke-width=\"0.1\"/>\n",
       "<rect x=\"75.0\" y=\"-100.0\" width=\"8.333\" height=\"12.5\" opacity=\"0.11764705882352941\" fill=\"currentColor\" stroke-width=\"0.1\"/>\n",
       "<rect x=\"83.33333333333333\" y=\"-100.0\" width=\"8.333\" height=\"12.5\" opacity=\"0.06862745098039216\" fill=\"currentColor\" stroke-width=\"0.1\"/>\n",
       "<rect x=\"91.66666666666666\" y=\"-100.0\" width=\"8.333\" height=\"12.5\" opacity=\"0.0784313725490196\" fill=\"currentColor\" stroke-width=\"0.1\"/>\n",
       "<rect x=\"100.0\" y=\"-100.0\" width=\"8.333\" height=\"12.5\" opacity=\"0.029411764705882353\" fill=\"currentColor\" stroke-width=\"0.1\"/>\n",
       "<rect x=\"108.33333333333334\" y=\"-100.0\" width=\"8.333\" height=\"12.5\" opacity=\"0.00980392156862745\" fill=\"currentColor\" stroke-width=\"0.1\"/>\n",
       "<rect x=\"116.66666666666667\" y=\"-100.0\" width=\"8.333\" height=\"12.5\" opacity=\"0.029411764705882353\" fill=\"currentColor\" stroke-width=\"0.1\"/>\n",
       "<rect x=\"125.0\" y=\"-100.0\" width=\"8.333\" height=\"12.5\" opacity=\"0.0196078431372549\" fill=\"currentColor\" stroke-width=\"0.1\"/>\n",
       "<rect x=\"133.33333333333334\" y=\"-100.0\" width=\"8.333\" height=\"12.5\" opacity=\"0.00980392156862745\" fill=\"currentColor\" stroke-width=\"0.1\"/>\n",
       "<rect x=\"141.66666666666666\" y=\"-100.0\" width=\"8.333\" height=\"12.5\" opacity=\"0.00980392156862745\" fill=\"currentColor\" stroke-width=\"0.1\"/>\n",
       "<rect x=\"150.0\" y=\"-100.0\" width=\"8.333\" height=\"12.5\" opacity=\"0.00980392156862745\" fill=\"currentColor\" stroke-width=\"0.1\"/>\n",
       "<rect x=\"158.33333333333331\" y=\"-100.0\" width=\"8.333\" height=\"12.5\" opacity=\"0.0\" fill=\"currentColor\" stroke-width=\"0.1\"/>\n",
       "<rect x=\"166.66666666666666\" y=\"-100.0\" width=\"8.333\" height=\"12.5\" opacity=\"0.0\" fill=\"currentColor\" stroke-width=\"0.1\"/>\n",
       "<rect x=\"175.0\" y=\"-100.0\" width=\"8.333\" height=\"12.5\" opacity=\"0.00980392156862748\" fill=\"currentColor\" stroke-width=\"0.1\"/>\n",
       "<rect x=\"183.33333333333331\" y=\"-100.0\" width=\"8.333\" height=\"12.5\" opacity=\"0.0\" fill=\"currentColor\" stroke-width=\"0.1\"/>\n",
       "<rect x=\"191.66666666666669\" y=\"-100.0\" width=\"8.333\" height=\"12.5\" opacity=\"0.0\" fill=\"currentColor\" stroke-width=\"0.1\"/>\n",
       "<rect x=\"200.0\" y=\"-100.0\" width=\"8.333\" height=\"12.5\" opacity=\"0.0\" fill=\"currentColor\" stroke-width=\"0.1\"/>\n",
       "<rect x=\"208.33333333333334\" y=\"-100.0\" width=\"8.333\" height=\"12.5\" opacity=\"0.00980392156862745\" fill=\"currentColor\" stroke-width=\"0.1\"/>\n",
       "<rect x=\"216.66666666666669\" y=\"-100.0\" width=\"8.333\" height=\"12.5\" opacity=\"0.00980392156862745\" fill=\"currentColor\" stroke-width=\"0.1\"/>\n",
       "<rect x=\"225.0\" y=\"-100.0\" width=\"8.333\" height=\"12.5\" opacity=\"0.00980392156862745\" fill=\"currentColor\" stroke-width=\"0.1\"/>\n",
       "<rect x=\"233.33333333333334\" y=\"-100.0\" width=\"8.333\" height=\"12.5\" opacity=\"0.0\" fill=\"currentColor\" stroke-width=\"0.1\"/>\n",
       "<rect x=\"241.66666666666666\" y=\"-100.0\" width=\"8.333\" height=\"12.5\" opacity=\"0.0\" fill=\"currentColor\" stroke-width=\"0.1\"/>\n",
       "<rect x=\"0.0\" y=\"-112.5\" width=\"8.333\" height=\"12.5\" opacity=\"0.8137254901960784\" fill=\"currentColor\" stroke-width=\"0.1\"/>\n",
       "<rect x=\"8.333333333333334\" y=\"-112.5\" width=\"8.333\" height=\"12.5\" opacity=\"0.5196078431372548\" fill=\"currentColor\" stroke-width=\"0.1\"/>\n",
       "<rect x=\"16.666666666666668\" y=\"-112.5\" width=\"8.333\" height=\"12.5\" opacity=\"0.3627450980392157\" fill=\"currentColor\" stroke-width=\"0.1\"/>\n",
       "<rect x=\"25.0\" y=\"-112.5\" width=\"8.333\" height=\"12.5\" opacity=\"0.2941176470588235\" fill=\"currentColor\" stroke-width=\"0.1\"/>\n",
       "<rect x=\"33.333333333333336\" y=\"-112.5\" width=\"8.333\" height=\"12.5\" opacity=\"0.27450980392156865\" fill=\"currentColor\" stroke-width=\"0.1\"/>\n",
       "<rect x=\"41.666666666666664\" y=\"-112.5\" width=\"8.333\" height=\"12.5\" opacity=\"0.3235294117647059\" fill=\"currentColor\" stroke-width=\"0.1\"/>\n",
       "<rect x=\"50.0\" y=\"-112.5\" width=\"8.333\" height=\"12.5\" opacity=\"0.30392156862745096\" fill=\"currentColor\" stroke-width=\"0.1\"/>\n",
       "<rect x=\"58.333333333333336\" y=\"-112.5\" width=\"8.333\" height=\"12.5\" opacity=\"0.23529411764705882\" fill=\"currentColor\" stroke-width=\"0.1\"/>\n",
       "<rect x=\"66.66666666666667\" y=\"-112.5\" width=\"8.333\" height=\"12.5\" opacity=\"0.2549019607843137\" fill=\"currentColor\" stroke-width=\"0.1\"/>\n",
       "<rect x=\"75.0\" y=\"-112.5\" width=\"8.333\" height=\"12.5\" opacity=\"0.16666666666666666\" fill=\"currentColor\" stroke-width=\"0.1\"/>\n",
       "<rect x=\"83.33333333333333\" y=\"-112.5\" width=\"8.333\" height=\"12.5\" opacity=\"0.12745098039215685\" fill=\"currentColor\" stroke-width=\"0.1\"/>\n",
       "<rect x=\"91.66666666666666\" y=\"-112.5\" width=\"8.333\" height=\"12.5\" opacity=\"0.0784313725490196\" fill=\"currentColor\" stroke-width=\"0.1\"/>\n",
       "<rect x=\"100.0\" y=\"-112.5\" width=\"8.333\" height=\"12.5\" opacity=\"0.049019607843137254\" fill=\"currentColor\" stroke-width=\"0.1\"/>\n",
       "<rect x=\"108.33333333333334\" y=\"-112.5\" width=\"8.333\" height=\"12.5\" opacity=\"0.0392156862745098\" fill=\"currentColor\" stroke-width=\"0.1\"/>\n",
       "<rect x=\"116.66666666666667\" y=\"-112.5\" width=\"8.333\" height=\"12.5\" opacity=\"0.0\" fill=\"currentColor\" stroke-width=\"0.1\"/>\n",
       "<rect x=\"125.0\" y=\"-112.5\" width=\"8.333\" height=\"12.5\" opacity=\"0.0\" fill=\"currentColor\" stroke-width=\"0.1\"/>\n",
       "<rect x=\"133.33333333333334\" y=\"-112.5\" width=\"8.333\" height=\"12.5\" opacity=\"0.0196078431372549\" fill=\"currentColor\" stroke-width=\"0.1\"/>\n",
       "<rect x=\"141.66666666666666\" y=\"-112.5\" width=\"8.333\" height=\"12.5\" opacity=\"0.00980392156862745\" fill=\"currentColor\" stroke-width=\"0.1\"/>\n",
       "<rect x=\"150.0\" y=\"-112.5\" width=\"8.333\" height=\"12.5\" opacity=\"0.00980392156862745\" fill=\"currentColor\" stroke-width=\"0.1\"/>\n",
       "<rect x=\"158.33333333333331\" y=\"-112.5\" width=\"8.333\" height=\"12.5\" opacity=\"0.0\" fill=\"currentColor\" stroke-width=\"0.1\"/>\n",
       "<rect x=\"166.66666666666666\" y=\"-112.5\" width=\"8.333\" height=\"12.5\" opacity=\"0.00980392156862745\" fill=\"currentColor\" stroke-width=\"0.1\"/>\n",
       "<rect x=\"175.0\" y=\"-112.5\" width=\"8.333\" height=\"12.5\" opacity=\"0.0\" fill=\"currentColor\" stroke-width=\"0.1\"/>\n",
       "<rect x=\"183.33333333333331\" y=\"-112.5\" width=\"8.333\" height=\"12.5\" opacity=\"0.01960784313725478\" fill=\"currentColor\" stroke-width=\"0.1\"/>\n",
       "<rect x=\"191.66666666666669\" y=\"-112.5\" width=\"8.333\" height=\"12.5\" opacity=\"0.0\" fill=\"currentColor\" stroke-width=\"0.1\"/>\n",
       "<rect x=\"200.0\" y=\"-112.5\" width=\"8.333\" height=\"12.5\" opacity=\"0.0\" fill=\"currentColor\" stroke-width=\"0.1\"/>\n",
       "<rect x=\"208.33333333333334\" y=\"-112.5\" width=\"8.333\" height=\"12.5\" opacity=\"0.0\" fill=\"currentColor\" stroke-width=\"0.1\"/>\n",
       "<rect x=\"216.66666666666669\" y=\"-112.5\" width=\"8.333\" height=\"12.5\" opacity=\"0.0\" fill=\"currentColor\" stroke-width=\"0.1\"/>\n",
       "<rect x=\"225.0\" y=\"-112.5\" width=\"8.333\" height=\"12.5\" opacity=\"0.0\" fill=\"currentColor\" stroke-width=\"0.1\"/>\n",
       "<rect x=\"233.33333333333334\" y=\"-112.5\" width=\"8.333\" height=\"12.5\" opacity=\"0.0\" fill=\"currentColor\" stroke-width=\"0.1\"/>\n",
       "<rect x=\"241.66666666666666\" y=\"-112.5\" width=\"8.333\" height=\"12.5\" opacity=\"0.0196078431372549\" fill=\"currentColor\" stroke-width=\"0.1\"/>\n",
       "<rect x=\"0.0\" y=\"-125.0\" width=\"8.333\" height=\"12.5\" opacity=\"0.8921568627450979\" fill=\"currentColor\" stroke-width=\"0.1\"/>\n",
       "<rect x=\"8.333333333333334\" y=\"-125.0\" width=\"8.333\" height=\"12.5\" opacity=\"0.34313725490196073\" fill=\"currentColor\" stroke-width=\"0.1\"/>\n",
       "<rect x=\"16.666666666666668\" y=\"-125.0\" width=\"8.333\" height=\"12.5\" opacity=\"0.37254901960784315\" fill=\"currentColor\" stroke-width=\"0.1\"/>\n",
       "<rect x=\"25.0\" y=\"-125.0\" width=\"8.333\" height=\"12.5\" opacity=\"0.4117647058823529\" fill=\"currentColor\" stroke-width=\"0.1\"/>\n",
       "<rect x=\"33.333333333333336\" y=\"-125.0\" width=\"8.333\" height=\"12.5\" opacity=\"0.2941176470588235\" fill=\"currentColor\" stroke-width=\"0.1\"/>\n",
       "<rect x=\"41.666666666666664\" y=\"-125.0\" width=\"8.333\" height=\"12.5\" opacity=\"0.37254901960784315\" fill=\"currentColor\" stroke-width=\"0.1\"/>\n",
       "<rect x=\"50.0\" y=\"-125.0\" width=\"8.333\" height=\"12.5\" opacity=\"0.27450980392156865\" fill=\"currentColor\" stroke-width=\"0.1\"/>\n",
       "<rect x=\"58.333333333333336\" y=\"-125.0\" width=\"8.333\" height=\"12.5\" opacity=\"0.38235294117647056\" fill=\"currentColor\" stroke-width=\"0.1\"/>\n",
       "<rect x=\"66.66666666666667\" y=\"-125.0\" width=\"8.333\" height=\"12.5\" opacity=\"0.24509803921568626\" fill=\"currentColor\" stroke-width=\"0.1\"/>\n",
       "<rect x=\"75.0\" y=\"-125.0\" width=\"8.333\" height=\"12.5\" opacity=\"0.10784313725490195\" fill=\"currentColor\" stroke-width=\"0.1\"/>\n",
       "<rect x=\"83.33333333333333\" y=\"-125.0\" width=\"8.333\" height=\"12.5\" opacity=\"0.09803921568627451\" fill=\"currentColor\" stroke-width=\"0.1\"/>\n",
       "<rect x=\"91.66666666666666\" y=\"-125.0\" width=\"8.333\" height=\"12.5\" opacity=\"0.06862745098039216\" fill=\"currentColor\" stroke-width=\"0.1\"/>\n",
       "<rect x=\"100.0\" y=\"-125.0\" width=\"8.333\" height=\"12.5\" opacity=\"0.029411764705882353\" fill=\"currentColor\" stroke-width=\"0.1\"/>\n",
       "<rect x=\"108.33333333333334\" y=\"-125.0\" width=\"8.333\" height=\"12.5\" opacity=\"0.0392156862745098\" fill=\"currentColor\" stroke-width=\"0.1\"/>\n",
       "<rect x=\"116.66666666666667\" y=\"-125.0\" width=\"8.333\" height=\"12.5\" opacity=\"0.029411764705882353\" fill=\"currentColor\" stroke-width=\"0.1\"/>\n",
       "<rect x=\"125.0\" y=\"-125.0\" width=\"8.333\" height=\"12.5\" opacity=\"0.0196078431372549\" fill=\"currentColor\" stroke-width=\"0.1\"/>\n",
       "<rect x=\"133.33333333333334\" y=\"-125.0\" width=\"8.333\" height=\"12.5\" opacity=\"0.049019607843137254\" fill=\"currentColor\" stroke-width=\"0.1\"/>\n",
       "<rect x=\"141.66666666666666\" y=\"-125.0\" width=\"8.333\" height=\"12.5\" opacity=\"0.00980392156862745\" fill=\"currentColor\" stroke-width=\"0.1\"/>\n",
       "<rect x=\"150.0\" y=\"-125.0\" width=\"8.333\" height=\"12.5\" opacity=\"0.0\" fill=\"currentColor\" stroke-width=\"0.1\"/>\n",
       "<rect x=\"158.33333333333331\" y=\"-125.0\" width=\"8.333\" height=\"12.5\" opacity=\"0.0\" fill=\"currentColor\" stroke-width=\"0.1\"/>\n",
       "<rect x=\"166.66666666666666\" y=\"-125.0\" width=\"8.333\" height=\"12.5\" opacity=\"0.00980392156862745\" fill=\"currentColor\" stroke-width=\"0.1\"/>\n",
       "<rect x=\"175.0\" y=\"-125.0\" width=\"8.333\" height=\"12.5\" opacity=\"0.0\" fill=\"currentColor\" stroke-width=\"0.1\"/>\n",
       "<rect x=\"183.33333333333331\" y=\"-125.0\" width=\"8.333\" height=\"12.5\" opacity=\"0.0\" fill=\"currentColor\" stroke-width=\"0.1\"/>\n",
       "<rect x=\"191.66666666666669\" y=\"-125.0\" width=\"8.333\" height=\"12.5\" opacity=\"0.0\" fill=\"currentColor\" stroke-width=\"0.1\"/>\n",
       "<rect x=\"200.0\" y=\"-125.0\" width=\"8.333\" height=\"12.5\" opacity=\"0.0\" fill=\"currentColor\" stroke-width=\"0.1\"/>\n",
       "<rect x=\"208.33333333333334\" y=\"-125.0\" width=\"8.333\" height=\"12.5\" opacity=\"0.0196078431372549\" fill=\"currentColor\" stroke-width=\"0.1\"/>\n",
       "<rect x=\"216.66666666666669\" y=\"-125.0\" width=\"8.333\" height=\"12.5\" opacity=\"0.0\" fill=\"currentColor\" stroke-width=\"0.1\"/>\n",
       "<rect x=\"225.0\" y=\"-125.0\" width=\"8.333\" height=\"12.5\" opacity=\"0.0\" fill=\"currentColor\" stroke-width=\"0.1\"/>\n",
       "<rect x=\"233.33333333333334\" y=\"-125.0\" width=\"8.333\" height=\"12.5\" opacity=\"0.0\" fill=\"currentColor\" stroke-width=\"0.1\"/>\n",
       "<rect x=\"241.66666666666666\" y=\"-125.0\" width=\"8.333\" height=\"12.5\" opacity=\"0.0\" fill=\"currentColor\" stroke-width=\"0.1\"/>\n",
       "<rect x=\"0.0\" y=\"-137.5\" width=\"8.333\" height=\"12.5\" opacity=\"0.9313725490196065\" fill=\"currentColor\" stroke-width=\"0.1\"/>\n",
       "<rect x=\"8.333333333333334\" y=\"-137.5\" width=\"8.333\" height=\"12.5\" opacity=\"0.3725490196078426\" fill=\"currentColor\" stroke-width=\"0.1\"/>\n",
       "<rect x=\"16.666666666666668\" y=\"-137.5\" width=\"8.333\" height=\"12.5\" opacity=\"0.3235294117647054\" fill=\"currentColor\" stroke-width=\"0.1\"/>\n",
       "<rect x=\"25.0\" y=\"-137.5\" width=\"8.333\" height=\"12.5\" opacity=\"0.2647058823529408\" fill=\"currentColor\" stroke-width=\"0.1\"/>\n",
       "<rect x=\"33.333333333333336\" y=\"-137.5\" width=\"8.333\" height=\"12.5\" opacity=\"0.1862745098039213\" fill=\"currentColor\" stroke-width=\"0.1\"/>\n",
       "<rect x=\"41.666666666666664\" y=\"-137.5\" width=\"8.333\" height=\"12.5\" opacity=\"0.3235294117647054\" fill=\"currentColor\" stroke-width=\"0.1\"/>\n",
       "<rect x=\"50.0\" y=\"-137.5\" width=\"8.333\" height=\"12.5\" opacity=\"0.313725490196078\" fill=\"currentColor\" stroke-width=\"0.1\"/>\n",
       "<rect x=\"58.333333333333336\" y=\"-137.5\" width=\"8.333\" height=\"12.5\" opacity=\"0.2941176470588231\" fill=\"currentColor\" stroke-width=\"0.1\"/>\n",
       "<rect x=\"66.66666666666667\" y=\"-137.5\" width=\"8.333\" height=\"12.5\" opacity=\"0.24509803921568593\" fill=\"currentColor\" stroke-width=\"0.1\"/>\n",
       "<rect x=\"75.0\" y=\"-137.5\" width=\"8.333\" height=\"12.5\" opacity=\"0.24509803921568593\" fill=\"currentColor\" stroke-width=\"0.1\"/>\n",
       "<rect x=\"83.33333333333333\" y=\"-137.5\" width=\"8.333\" height=\"12.5\" opacity=\"0.09803921568627436\" fill=\"currentColor\" stroke-width=\"0.1\"/>\n",
       "<rect x=\"91.66666666666666\" y=\"-137.5\" width=\"8.333\" height=\"12.5\" opacity=\"0.0784313725490195\" fill=\"currentColor\" stroke-width=\"0.1\"/>\n",
       "<rect x=\"100.0\" y=\"-137.5\" width=\"8.333\" height=\"12.5\" opacity=\"0.04901960784313718\" fill=\"currentColor\" stroke-width=\"0.1\"/>\n",
       "<rect x=\"108.33333333333334\" y=\"-137.5\" width=\"8.333\" height=\"12.5\" opacity=\"0.03921568627450975\" fill=\"currentColor\" stroke-width=\"0.1\"/>\n",
       "<rect x=\"116.66666666666667\" y=\"-137.5\" width=\"8.333\" height=\"12.5\" opacity=\"0.009803921568627437\" fill=\"currentColor\" stroke-width=\"0.1\"/>\n",
       "<rect x=\"125.0\" y=\"-137.5\" width=\"8.333\" height=\"12.5\" opacity=\"0.0\" fill=\"currentColor\" stroke-width=\"0.1\"/>\n",
       "<rect x=\"133.33333333333334\" y=\"-137.5\" width=\"8.333\" height=\"12.5\" opacity=\"0.009803921568627437\" fill=\"currentColor\" stroke-width=\"0.1\"/>\n",
       "<rect x=\"141.66666666666666\" y=\"-137.5\" width=\"8.333\" height=\"12.5\" opacity=\"0.0\" fill=\"currentColor\" stroke-width=\"0.1\"/>\n",
       "<rect x=\"150.0\" y=\"-137.5\" width=\"8.333\" height=\"12.5\" opacity=\"0.009803921568627437\" fill=\"currentColor\" stroke-width=\"0.1\"/>\n",
       "<rect x=\"158.33333333333331\" y=\"-137.5\" width=\"8.333\" height=\"12.5\" opacity=\"0.019607843137254874\" fill=\"currentColor\" stroke-width=\"0.1\"/>\n",
       "<rect x=\"166.66666666666666\" y=\"-137.5\" width=\"8.333\" height=\"12.5\" opacity=\"0.019607843137254874\" fill=\"currentColor\" stroke-width=\"0.1\"/>\n",
       "<rect x=\"175.0\" y=\"-137.5\" width=\"8.333\" height=\"12.5\" opacity=\"0.009803921568627468\" fill=\"currentColor\" stroke-width=\"0.1\"/>\n",
       "<rect x=\"183.33333333333331\" y=\"-137.5\" width=\"8.333\" height=\"12.5\" opacity=\"0.0\" fill=\"currentColor\" stroke-width=\"0.1\"/>\n",
       "<rect x=\"191.66666666666669\" y=\"-137.5\" width=\"8.333\" height=\"12.5\" opacity=\"0.0\" fill=\"currentColor\" stroke-width=\"0.1\"/>\n",
       "<rect x=\"200.0\" y=\"-137.5\" width=\"8.333\" height=\"12.5\" opacity=\"0.0\" fill=\"currentColor\" stroke-width=\"0.1\"/>\n",
       "<rect x=\"208.33333333333334\" y=\"-137.5\" width=\"8.333\" height=\"12.5\" opacity=\"0.0\" fill=\"currentColor\" stroke-width=\"0.1\"/>\n",
       "<rect x=\"216.66666666666669\" y=\"-137.5\" width=\"8.333\" height=\"12.5\" opacity=\"0.0\" fill=\"currentColor\" stroke-width=\"0.1\"/>\n",
       "<rect x=\"225.0\" y=\"-137.5\" width=\"8.333\" height=\"12.5\" opacity=\"0.0\" fill=\"currentColor\" stroke-width=\"0.1\"/>\n",
       "<rect x=\"233.33333333333334\" y=\"-137.5\" width=\"8.333\" height=\"12.5\" opacity=\"0.0\" fill=\"currentColor\" stroke-width=\"0.1\"/>\n",
       "<rect x=\"241.66666666666666\" y=\"-137.5\" width=\"8.333\" height=\"12.5\" opacity=\"0.0\" fill=\"currentColor\" stroke-width=\"0.1\"/>\n",
       "<rect x=\"0.0\" y=\"-150.0\" width=\"8.333\" height=\"12.5\" opacity=\"0.9411764705882366\" fill=\"currentColor\" stroke-width=\"0.1\"/>\n",
       "<rect x=\"8.333333333333334\" y=\"-150.0\" width=\"8.333\" height=\"12.5\" opacity=\"0.4313725490196084\" fill=\"currentColor\" stroke-width=\"0.1\"/>\n",
       "<rect x=\"16.666666666666668\" y=\"-150.0\" width=\"8.333\" height=\"12.5\" opacity=\"0.2843137254901965\" fill=\"currentColor\" stroke-width=\"0.1\"/>\n",
       "<rect x=\"25.0\" y=\"-150.0\" width=\"8.333\" height=\"12.5\" opacity=\"0.274509803921569\" fill=\"currentColor\" stroke-width=\"0.1\"/>\n",
       "<rect x=\"33.333333333333336\" y=\"-150.0\" width=\"8.333\" height=\"12.5\" opacity=\"0.29411764705882393\" fill=\"currentColor\" stroke-width=\"0.1\"/>\n",
       "<rect x=\"41.666666666666664\" y=\"-150.0\" width=\"8.333\" height=\"12.5\" opacity=\"0.31372549019607887\" fill=\"currentColor\" stroke-width=\"0.1\"/>\n",
       "<rect x=\"50.0\" y=\"-150.0\" width=\"8.333\" height=\"12.5\" opacity=\"0.2843137254901965\" fill=\"currentColor\" stroke-width=\"0.1\"/>\n",
       "<rect x=\"58.333333333333336\" y=\"-150.0\" width=\"8.333\" height=\"12.5\" opacity=\"0.20588235294117677\" fill=\"currentColor\" stroke-width=\"0.1\"/>\n",
       "<rect x=\"66.66666666666667\" y=\"-150.0\" width=\"8.333\" height=\"12.5\" opacity=\"0.31372549019607887\" fill=\"currentColor\" stroke-width=\"0.1\"/>\n",
       "<rect x=\"75.0\" y=\"-150.0\" width=\"8.333\" height=\"12.5\" opacity=\"0.12745098039215705\" fill=\"currentColor\" stroke-width=\"0.1\"/>\n",
       "<rect x=\"83.33333333333333\" y=\"-150.0\" width=\"8.333\" height=\"12.5\" opacity=\"0.1078431372549021\" fill=\"currentColor\" stroke-width=\"0.1\"/>\n",
       "<rect x=\"91.66666666666666\" y=\"-150.0\" width=\"8.333\" height=\"12.5\" opacity=\"0.01960784313725493\" fill=\"currentColor\" stroke-width=\"0.1\"/>\n",
       "<rect x=\"100.0\" y=\"-150.0\" width=\"8.333\" height=\"12.5\" opacity=\"0.029411764705882394\" fill=\"currentColor\" stroke-width=\"0.1\"/>\n",
       "<rect x=\"108.33333333333334\" y=\"-150.0\" width=\"8.333\" height=\"12.5\" opacity=\"0.03921568627450986\" fill=\"currentColor\" stroke-width=\"0.1\"/>\n",
       "<rect x=\"116.66666666666667\" y=\"-150.0\" width=\"8.333\" height=\"12.5\" opacity=\"0.01960784313725493\" fill=\"currentColor\" stroke-width=\"0.1\"/>\n",
       "<rect x=\"125.0\" y=\"-150.0\" width=\"8.333\" height=\"12.5\" opacity=\"0.009803921568627465\" fill=\"currentColor\" stroke-width=\"0.1\"/>\n",
       "<rect x=\"133.33333333333334\" y=\"-150.0\" width=\"8.333\" height=\"12.5\" opacity=\"0.029411764705882394\" fill=\"currentColor\" stroke-width=\"0.1\"/>\n",
       "<rect x=\"141.66666666666666\" y=\"-150.0\" width=\"8.333\" height=\"12.5\" opacity=\"0.0\" fill=\"currentColor\" stroke-width=\"0.1\"/>\n",
       "<rect x=\"150.0\" y=\"-150.0\" width=\"8.333\" height=\"12.5\" opacity=\"0.0\" fill=\"currentColor\" stroke-width=\"0.1\"/>\n",
       "<rect x=\"158.33333333333331\" y=\"-150.0\" width=\"8.333\" height=\"12.5\" opacity=\"0.01960784313725493\" fill=\"currentColor\" stroke-width=\"0.1\"/>\n",
       "<rect x=\"166.66666666666666\" y=\"-150.0\" width=\"8.333\" height=\"12.5\" opacity=\"0.0\" fill=\"currentColor\" stroke-width=\"0.1\"/>\n",
       "<rect x=\"175.0\" y=\"-150.0\" width=\"8.333\" height=\"12.5\" opacity=\"0.009803921568627494\" fill=\"currentColor\" stroke-width=\"0.1\"/>\n",
       "<rect x=\"183.33333333333331\" y=\"-150.0\" width=\"8.333\" height=\"12.5\" opacity=\"0.009803921568627402\" fill=\"currentColor\" stroke-width=\"0.1\"/>\n",
       "<rect x=\"191.66666666666669\" y=\"-150.0\" width=\"8.333\" height=\"12.5\" opacity=\"0.01960784313725499\" fill=\"currentColor\" stroke-width=\"0.1\"/>\n",
       "<rect x=\"200.0\" y=\"-150.0\" width=\"8.333\" height=\"12.5\" opacity=\"0.0\" fill=\"currentColor\" stroke-width=\"0.1\"/>\n",
       "<rect x=\"208.33333333333334\" y=\"-150.0\" width=\"8.333\" height=\"12.5\" opacity=\"0.0\" fill=\"currentColor\" stroke-width=\"0.1\"/>\n",
       "<rect x=\"216.66666666666669\" y=\"-150.0\" width=\"8.333\" height=\"12.5\" opacity=\"0.009803921568627465\" fill=\"currentColor\" stroke-width=\"0.1\"/>\n",
       "<rect x=\"225.0\" y=\"-150.0\" width=\"8.333\" height=\"12.5\" opacity=\"0.009803921568627465\" fill=\"currentColor\" stroke-width=\"0.1\"/>\n",
       "<rect x=\"233.33333333333334\" y=\"-150.0\" width=\"8.333\" height=\"12.5\" opacity=\"0.0\" fill=\"currentColor\" stroke-width=\"0.1\"/>\n",
       "<rect x=\"241.66666666666666\" y=\"-150.0\" width=\"8.333\" height=\"12.5\" opacity=\"0.0\" fill=\"currentColor\" stroke-width=\"0.1\"/>\n",
       "<rect x=\"0.0\" y=\"-162.5\" width=\"8.333\" height=\"12.5\" opacity=\"0.8725490196078431\" fill=\"currentColor\" stroke-width=\"0.1\"/>\n",
       "<rect x=\"8.333333333333334\" y=\"-162.5\" width=\"8.333\" height=\"12.5\" opacity=\"0.49019607843137253\" fill=\"currentColor\" stroke-width=\"0.1\"/>\n",
       "<rect x=\"16.666666666666668\" y=\"-162.5\" width=\"8.333\" height=\"12.5\" opacity=\"0.28431372549019607\" fill=\"currentColor\" stroke-width=\"0.1\"/>\n",
       "<rect x=\"25.0\" y=\"-162.5\" width=\"8.333\" height=\"12.5\" opacity=\"0.27450980392156865\" fill=\"currentColor\" stroke-width=\"0.1\"/>\n",
       "<rect x=\"33.333333333333336\" y=\"-162.5\" width=\"8.333\" height=\"12.5\" opacity=\"0.3137254901960784\" fill=\"currentColor\" stroke-width=\"0.1\"/>\n",
       "<rect x=\"41.666666666666664\" y=\"-162.5\" width=\"8.333\" height=\"12.5\" opacity=\"0.3235294117647059\" fill=\"currentColor\" stroke-width=\"0.1\"/>\n",
       "<rect x=\"50.0\" y=\"-162.5\" width=\"8.333\" height=\"12.5\" opacity=\"0.3529411764705882\" fill=\"currentColor\" stroke-width=\"0.1\"/>\n",
       "<rect x=\"58.333333333333336\" y=\"-162.5\" width=\"8.333\" height=\"12.5\" opacity=\"0.3529411764705882\" fill=\"currentColor\" stroke-width=\"0.1\"/>\n",
       "<rect x=\"66.66666666666667\" y=\"-162.5\" width=\"8.333\" height=\"12.5\" opacity=\"0.12745098039215685\" fill=\"currentColor\" stroke-width=\"0.1\"/>\n",
       "<rect x=\"75.0\" y=\"-162.5\" width=\"8.333\" height=\"12.5\" opacity=\"0.08823529411764705\" fill=\"currentColor\" stroke-width=\"0.1\"/>\n",
       "<rect x=\"83.33333333333333\" y=\"-162.5\" width=\"8.333\" height=\"12.5\" opacity=\"0.0392156862745098\" fill=\"currentColor\" stroke-width=\"0.1\"/>\n",
       "<rect x=\"91.66666666666666\" y=\"-162.5\" width=\"8.333\" height=\"12.5\" opacity=\"0.029411764705882353\" fill=\"currentColor\" stroke-width=\"0.1\"/>\n",
       "<rect x=\"100.0\" y=\"-162.5\" width=\"8.333\" height=\"12.5\" opacity=\"0.058823529411764705\" fill=\"currentColor\" stroke-width=\"0.1\"/>\n",
       "<rect x=\"108.33333333333334\" y=\"-162.5\" width=\"8.333\" height=\"12.5\" opacity=\"0.00980392156862745\" fill=\"currentColor\" stroke-width=\"0.1\"/>\n",
       "<rect x=\"116.66666666666667\" y=\"-162.5\" width=\"8.333\" height=\"12.5\" opacity=\"0.00980392156862745\" fill=\"currentColor\" stroke-width=\"0.1\"/>\n",
       "<rect x=\"125.0\" y=\"-162.5\" width=\"8.333\" height=\"12.5\" opacity=\"0.0196078431372549\" fill=\"currentColor\" stroke-width=\"0.1\"/>\n",
       "<rect x=\"133.33333333333334\" y=\"-162.5\" width=\"8.333\" height=\"12.5\" opacity=\"0.0196078431372549\" fill=\"currentColor\" stroke-width=\"0.1\"/>\n",
       "<rect x=\"141.66666666666666\" y=\"-162.5\" width=\"8.333\" height=\"12.5\" opacity=\"0.0\" fill=\"currentColor\" stroke-width=\"0.1\"/>\n",
       "<rect x=\"150.0\" y=\"-162.5\" width=\"8.333\" height=\"12.5\" opacity=\"0.00980392156862745\" fill=\"currentColor\" stroke-width=\"0.1\"/>\n",
       "<rect x=\"158.33333333333331\" y=\"-162.5\" width=\"8.333\" height=\"12.5\" opacity=\"0.0\" fill=\"currentColor\" stroke-width=\"0.1\"/>\n",
       "<rect x=\"166.66666666666666\" y=\"-162.5\" width=\"8.333\" height=\"12.5\" opacity=\"0.00980392156862745\" fill=\"currentColor\" stroke-width=\"0.1\"/>\n",
       "<rect x=\"175.0\" y=\"-162.5\" width=\"8.333\" height=\"12.5\" opacity=\"0.00980392156862748\" fill=\"currentColor\" stroke-width=\"0.1\"/>\n",
       "<rect x=\"183.33333333333331\" y=\"-162.5\" width=\"8.333\" height=\"12.5\" opacity=\"0.0\" fill=\"currentColor\" stroke-width=\"0.1\"/>\n",
       "<rect x=\"191.66666666666669\" y=\"-162.5\" width=\"8.333\" height=\"12.5\" opacity=\"0.0\" fill=\"currentColor\" stroke-width=\"0.1\"/>\n",
       "<rect x=\"200.0\" y=\"-162.5\" width=\"8.333\" height=\"12.5\" opacity=\"0.0196078431372549\" fill=\"currentColor\" stroke-width=\"0.1\"/>\n",
       "<rect x=\"208.33333333333334\" y=\"-162.5\" width=\"8.333\" height=\"12.5\" opacity=\"0.0\" fill=\"currentColor\" stroke-width=\"0.1\"/>\n",
       "<rect x=\"216.66666666666669\" y=\"-162.5\" width=\"8.333\" height=\"12.5\" opacity=\"0.0\" fill=\"currentColor\" stroke-width=\"0.1\"/>\n",
       "<rect x=\"225.0\" y=\"-162.5\" width=\"8.333\" height=\"12.5\" opacity=\"0.0\" fill=\"currentColor\" stroke-width=\"0.1\"/>\n",
       "<rect x=\"233.33333333333334\" y=\"-162.5\" width=\"8.333\" height=\"12.5\" opacity=\"0.0\" fill=\"currentColor\" stroke-width=\"0.1\"/>\n",
       "<rect x=\"241.66666666666666\" y=\"-162.5\" width=\"8.333\" height=\"12.5\" opacity=\"0.0196078431372549\" fill=\"currentColor\" stroke-width=\"0.1\"/>\n",
       "<rect x=\"0.0\" y=\"-175.0\" width=\"8.333\" height=\"12.5\" opacity=\"0.8039215686274509\" fill=\"currentColor\" stroke-width=\"0.1\"/>\n",
       "<rect x=\"8.333333333333334\" y=\"-175.0\" width=\"8.333\" height=\"12.5\" opacity=\"0.39215686274509803\" fill=\"currentColor\" stroke-width=\"0.1\"/>\n",
       "<rect x=\"16.666666666666668\" y=\"-175.0\" width=\"8.333\" height=\"12.5\" opacity=\"0.3235294117647059\" fill=\"currentColor\" stroke-width=\"0.1\"/>\n",
       "<rect x=\"25.0\" y=\"-175.0\" width=\"8.333\" height=\"12.5\" opacity=\"0.2941176470588235\" fill=\"currentColor\" stroke-width=\"0.1\"/>\n",
       "<rect x=\"33.333333333333336\" y=\"-175.0\" width=\"8.333\" height=\"12.5\" opacity=\"0.45098039215686275\" fill=\"currentColor\" stroke-width=\"0.1\"/>\n",
       "<rect x=\"41.666666666666664\" y=\"-175.0\" width=\"8.333\" height=\"12.5\" opacity=\"0.22549019607843138\" fill=\"currentColor\" stroke-width=\"0.1\"/>\n",
       "<rect x=\"50.0\" y=\"-175.0\" width=\"8.333\" height=\"12.5\" opacity=\"0.3627450980392157\" fill=\"currentColor\" stroke-width=\"0.1\"/>\n",
       "<rect x=\"58.333333333333336\" y=\"-175.0\" width=\"8.333\" height=\"12.5\" opacity=\"0.27450980392156865\" fill=\"currentColor\" stroke-width=\"0.1\"/>\n",
       "<rect x=\"66.66666666666667\" y=\"-175.0\" width=\"8.333\" height=\"12.5\" opacity=\"0.22549019607843138\" fill=\"currentColor\" stroke-width=\"0.1\"/>\n",
       "<rect x=\"75.0\" y=\"-175.0\" width=\"8.333\" height=\"12.5\" opacity=\"0.10784313725490195\" fill=\"currentColor\" stroke-width=\"0.1\"/>\n",
       "<rect x=\"83.33333333333333\" y=\"-175.0\" width=\"8.333\" height=\"12.5\" opacity=\"0.06862745098039216\" fill=\"currentColor\" stroke-width=\"0.1\"/>\n",
       "<rect x=\"91.66666666666666\" y=\"-175.0\" width=\"8.333\" height=\"12.5\" opacity=\"0.10784313725490195\" fill=\"currentColor\" stroke-width=\"0.1\"/>\n",
       "<rect x=\"100.0\" y=\"-175.0\" width=\"8.333\" height=\"12.5\" opacity=\"0.0392156862745098\" fill=\"currentColor\" stroke-width=\"0.1\"/>\n",
       "<rect x=\"108.33333333333334\" y=\"-175.0\" width=\"8.333\" height=\"12.5\" opacity=\"0.029411764705882353\" fill=\"currentColor\" stroke-width=\"0.1\"/>\n",
       "<rect x=\"116.66666666666667\" y=\"-175.0\" width=\"8.333\" height=\"12.5\" opacity=\"0.029411764705882353\" fill=\"currentColor\" stroke-width=\"0.1\"/>\n",
       "<rect x=\"125.0\" y=\"-175.0\" width=\"8.333\" height=\"12.5\" opacity=\"0.00980392156862745\" fill=\"currentColor\" stroke-width=\"0.1\"/>\n",
       "<rect x=\"133.33333333333334\" y=\"-175.0\" width=\"8.333\" height=\"12.5\" opacity=\"0.029411764705882353\" fill=\"currentColor\" stroke-width=\"0.1\"/>\n",
       "<rect x=\"141.66666666666666\" y=\"-175.0\" width=\"8.333\" height=\"12.5\" opacity=\"0.029411764705882353\" fill=\"currentColor\" stroke-width=\"0.1\"/>\n",
       "<rect x=\"150.0\" y=\"-175.0\" width=\"8.333\" height=\"12.5\" opacity=\"0.0\" fill=\"currentColor\" stroke-width=\"0.1\"/>\n",
       "<rect x=\"158.33333333333331\" y=\"-175.0\" width=\"8.333\" height=\"12.5\" opacity=\"0.00980392156862745\" fill=\"currentColor\" stroke-width=\"0.1\"/>\n",
       "<rect x=\"166.66666666666666\" y=\"-175.0\" width=\"8.333\" height=\"12.5\" opacity=\"0.0\" fill=\"currentColor\" stroke-width=\"0.1\"/>\n",
       "<rect x=\"175.0\" y=\"-175.0\" width=\"8.333\" height=\"12.5\" opacity=\"0.0\" fill=\"currentColor\" stroke-width=\"0.1\"/>\n",
       "<rect x=\"183.33333333333331\" y=\"-175.0\" width=\"8.333\" height=\"12.5\" opacity=\"0.0\" fill=\"currentColor\" stroke-width=\"0.1\"/>\n",
       "<rect x=\"191.66666666666669\" y=\"-175.0\" width=\"8.333\" height=\"12.5\" opacity=\"0.01960784313725496\" fill=\"currentColor\" stroke-width=\"0.1\"/>\n",
       "<rect x=\"200.0\" y=\"-175.0\" width=\"8.333\" height=\"12.5\" opacity=\"0.00980392156862745\" fill=\"currentColor\" stroke-width=\"0.1\"/>\n",
       "<rect x=\"208.33333333333334\" y=\"-175.0\" width=\"8.333\" height=\"12.5\" opacity=\"0.00980392156862745\" fill=\"currentColor\" stroke-width=\"0.1\"/>\n",
       "<rect x=\"216.66666666666669\" y=\"-175.0\" width=\"8.333\" height=\"12.5\" opacity=\"0.0\" fill=\"currentColor\" stroke-width=\"0.1\"/>\n",
       "<rect x=\"225.0\" y=\"-175.0\" width=\"8.333\" height=\"12.5\" opacity=\"0.0\" fill=\"currentColor\" stroke-width=\"0.1\"/>\n",
       "<rect x=\"233.33333333333334\" y=\"-175.0\" width=\"8.333\" height=\"12.5\" opacity=\"0.0\" fill=\"currentColor\" stroke-width=\"0.1\"/>\n",
       "<rect x=\"241.66666666666666\" y=\"-175.0\" width=\"8.333\" height=\"12.5\" opacity=\"0.0\" fill=\"currentColor\" stroke-width=\"0.1\"/>\n",
       "<rect x=\"0.0\" y=\"-187.5\" width=\"8.333\" height=\"12.5\" opacity=\"0.9313725490196079\" fill=\"currentColor\" stroke-width=\"0.1\"/>\n",
       "<rect x=\"8.333333333333334\" y=\"-187.5\" width=\"8.333\" height=\"12.5\" opacity=\"0.45098039215686275\" fill=\"currentColor\" stroke-width=\"0.1\"/>\n",
       "<rect x=\"16.666666666666668\" y=\"-187.5\" width=\"8.333\" height=\"12.5\" opacity=\"0.23529411764705882\" fill=\"currentColor\" stroke-width=\"0.1\"/>\n",
       "<rect x=\"25.0\" y=\"-187.5\" width=\"8.333\" height=\"12.5\" opacity=\"0.2647058823529412\" fill=\"currentColor\" stroke-width=\"0.1\"/>\n",
       "<rect x=\"33.333333333333336\" y=\"-187.5\" width=\"8.333\" height=\"12.5\" opacity=\"0.27450980392156865\" fill=\"currentColor\" stroke-width=\"0.1\"/>\n",
       "<rect x=\"41.666666666666664\" y=\"-187.5\" width=\"8.333\" height=\"12.5\" opacity=\"0.3627450980392157\" fill=\"currentColor\" stroke-width=\"0.1\"/>\n",
       "<rect x=\"50.0\" y=\"-187.5\" width=\"8.333\" height=\"12.5\" opacity=\"0.27450980392156865\" fill=\"currentColor\" stroke-width=\"0.1\"/>\n",
       "<rect x=\"58.333333333333336\" y=\"-187.5\" width=\"8.333\" height=\"12.5\" opacity=\"0.3627450980392157\" fill=\"currentColor\" stroke-width=\"0.1\"/>\n",
       "<rect x=\"66.66666666666667\" y=\"-187.5\" width=\"8.333\" height=\"12.5\" opacity=\"0.2647058823529412\" fill=\"currentColor\" stroke-width=\"0.1\"/>\n",
       "<rect x=\"75.0\" y=\"-187.5\" width=\"8.333\" height=\"12.5\" opacity=\"0.1568627450980392\" fill=\"currentColor\" stroke-width=\"0.1\"/>\n",
       "<rect x=\"83.33333333333333\" y=\"-187.5\" width=\"8.333\" height=\"12.5\" opacity=\"0.13725490196078433\" fill=\"currentColor\" stroke-width=\"0.1\"/>\n",
       "<rect x=\"91.66666666666666\" y=\"-187.5\" width=\"8.333\" height=\"12.5\" opacity=\"0.0392156862745098\" fill=\"currentColor\" stroke-width=\"0.1\"/>\n",
       "<rect x=\"100.0\" y=\"-187.5\" width=\"8.333\" height=\"12.5\" opacity=\"0.0\" fill=\"currentColor\" stroke-width=\"0.1\"/>\n",
       "<rect x=\"108.33333333333334\" y=\"-187.5\" width=\"8.333\" height=\"12.5\" opacity=\"0.00980392156862745\" fill=\"currentColor\" stroke-width=\"0.1\"/>\n",
       "<rect x=\"116.66666666666667\" y=\"-187.5\" width=\"8.333\" height=\"12.5\" opacity=\"0.0196078431372549\" fill=\"currentColor\" stroke-width=\"0.1\"/>\n",
       "<rect x=\"125.0\" y=\"-187.5\" width=\"8.333\" height=\"12.5\" opacity=\"0.0196078431372549\" fill=\"currentColor\" stroke-width=\"0.1\"/>\n",
       "<rect x=\"133.33333333333334\" y=\"-187.5\" width=\"8.333\" height=\"12.5\" opacity=\"0.00980392156862745\" fill=\"currentColor\" stroke-width=\"0.1\"/>\n",
       "<rect x=\"141.66666666666666\" y=\"-187.5\" width=\"8.333\" height=\"12.5\" opacity=\"0.0392156862745098\" fill=\"currentColor\" stroke-width=\"0.1\"/>\n",
       "<rect x=\"150.0\" y=\"-187.5\" width=\"8.333\" height=\"12.5\" opacity=\"0.0196078431372549\" fill=\"currentColor\" stroke-width=\"0.1\"/>\n",
       "<rect x=\"158.33333333333331\" y=\"-187.5\" width=\"8.333\" height=\"12.5\" opacity=\"0.00980392156862745\" fill=\"currentColor\" stroke-width=\"0.1\"/>\n",
       "<rect x=\"166.66666666666666\" y=\"-187.5\" width=\"8.333\" height=\"12.5\" opacity=\"0.0\" fill=\"currentColor\" stroke-width=\"0.1\"/>\n",
       "<rect x=\"175.0\" y=\"-187.5\" width=\"8.333\" height=\"12.5\" opacity=\"0.01960784313725496\" fill=\"currentColor\" stroke-width=\"0.1\"/>\n",
       "<rect x=\"183.33333333333331\" y=\"-187.5\" width=\"8.333\" height=\"12.5\" opacity=\"0.00980392156862739\" fill=\"currentColor\" stroke-width=\"0.1\"/>\n",
       "<rect x=\"191.66666666666669\" y=\"-187.5\" width=\"8.333\" height=\"12.5\" opacity=\"0.0\" fill=\"currentColor\" stroke-width=\"0.1\"/>\n",
       "<rect x=\"200.0\" y=\"-187.5\" width=\"8.333\" height=\"12.5\" opacity=\"0.0196078431372549\" fill=\"currentColor\" stroke-width=\"0.1\"/>\n",
       "<rect x=\"208.33333333333334\" y=\"-187.5\" width=\"8.333\" height=\"12.5\" opacity=\"0.0\" fill=\"currentColor\" stroke-width=\"0.1\"/>\n",
       "<rect x=\"216.66666666666669\" y=\"-187.5\" width=\"8.333\" height=\"12.5\" opacity=\"0.00980392156862745\" fill=\"currentColor\" stroke-width=\"0.1\"/>\n",
       "<rect x=\"225.0\" y=\"-187.5\" width=\"8.333\" height=\"12.5\" opacity=\"0.0\" fill=\"currentColor\" stroke-width=\"0.1\"/>\n",
       "<rect x=\"233.33333333333334\" y=\"-187.5\" width=\"8.333\" height=\"12.5\" opacity=\"0.0\" fill=\"currentColor\" stroke-width=\"0.1\"/>\n",
       "<rect x=\"241.66666666666666\" y=\"-187.5\" width=\"8.333\" height=\"12.5\" opacity=\"0.00980392156862745\" fill=\"currentColor\" stroke-width=\"0.1\"/>\n",
       "<rect x=\"0.0\" y=\"-200.0\" width=\"8.333\" height=\"12.5\" opacity=\"0.8333333333333333\" fill=\"currentColor\" stroke-width=\"0.1\"/>\n",
       "<rect x=\"8.333333333333334\" y=\"-200.0\" width=\"8.333\" height=\"12.5\" opacity=\"0.4803921568627451\" fill=\"currentColor\" stroke-width=\"0.1\"/>\n",
       "<rect x=\"16.666666666666668\" y=\"-200.0\" width=\"8.333\" height=\"12.5\" opacity=\"0.38235294117647056\" fill=\"currentColor\" stroke-width=\"0.1\"/>\n",
       "<rect x=\"25.0\" y=\"-200.0\" width=\"8.333\" height=\"12.5\" opacity=\"0.22549019607843138\" fill=\"currentColor\" stroke-width=\"0.1\"/>\n",
       "<rect x=\"33.333333333333336\" y=\"-200.0\" width=\"8.333\" height=\"12.5\" opacity=\"0.3137254901960784\" fill=\"currentColor\" stroke-width=\"0.1\"/>\n",
       "<rect x=\"41.666666666666664\" y=\"-200.0\" width=\"8.333\" height=\"12.5\" opacity=\"0.24509803921568626\" fill=\"currentColor\" stroke-width=\"0.1\"/>\n",
       "<rect x=\"50.0\" y=\"-200.0\" width=\"8.333\" height=\"12.5\" opacity=\"0.3529411764705882\" fill=\"currentColor\" stroke-width=\"0.1\"/>\n",
       "<rect x=\"58.333333333333336\" y=\"-200.0\" width=\"8.333\" height=\"12.5\" opacity=\"0.34313725490196073\" fill=\"currentColor\" stroke-width=\"0.1\"/>\n",
       "<rect x=\"66.66666666666667\" y=\"-200.0\" width=\"8.333\" height=\"12.5\" opacity=\"0.2549019607843137\" fill=\"currentColor\" stroke-width=\"0.1\"/>\n",
       "<rect x=\"75.0\" y=\"-200.0\" width=\"8.333\" height=\"12.5\" opacity=\"0.14705882352941174\" fill=\"currentColor\" stroke-width=\"0.1\"/>\n",
       "<rect x=\"83.33333333333333\" y=\"-200.0\" width=\"8.333\" height=\"12.5\" opacity=\"0.12745098039215685\" fill=\"currentColor\" stroke-width=\"0.1\"/>\n",
       "<rect x=\"91.66666666666666\" y=\"-200.0\" width=\"8.333\" height=\"12.5\" opacity=\"0.058823529411764705\" fill=\"currentColor\" stroke-width=\"0.1\"/>\n",
       "<rect x=\"100.0\" y=\"-200.0\" width=\"8.333\" height=\"12.5\" opacity=\"0.029411764705882353\" fill=\"currentColor\" stroke-width=\"0.1\"/>\n",
       "<rect x=\"108.33333333333334\" y=\"-200.0\" width=\"8.333\" height=\"12.5\" opacity=\"0.0196078431372549\" fill=\"currentColor\" stroke-width=\"0.1\"/>\n",
       "<rect x=\"116.66666666666667\" y=\"-200.0\" width=\"8.333\" height=\"12.5\" opacity=\"0.00980392156862745\" fill=\"currentColor\" stroke-width=\"0.1\"/>\n",
       "<rect x=\"125.0\" y=\"-200.0\" width=\"8.333\" height=\"12.5\" opacity=\"0.029411764705882353\" fill=\"currentColor\" stroke-width=\"0.1\"/>\n",
       "<rect x=\"133.33333333333334\" y=\"-200.0\" width=\"8.333\" height=\"12.5\" opacity=\"0.029411764705882353\" fill=\"currentColor\" stroke-width=\"0.1\"/>\n",
       "<rect x=\"141.66666666666666\" y=\"-200.0\" width=\"8.333\" height=\"12.5\" opacity=\"0.0196078431372549\" fill=\"currentColor\" stroke-width=\"0.1\"/>\n",
       "<rect x=\"150.0\" y=\"-200.0\" width=\"8.333\" height=\"12.5\" opacity=\"0.00980392156862745\" fill=\"currentColor\" stroke-width=\"0.1\"/>\n",
       "<rect x=\"158.33333333333331\" y=\"-200.0\" width=\"8.333\" height=\"12.5\" opacity=\"0.0\" fill=\"currentColor\" stroke-width=\"0.1\"/>\n",
       "<rect x=\"166.66666666666666\" y=\"-200.0\" width=\"8.333\" height=\"12.5\" opacity=\"0.00980392156862745\" fill=\"currentColor\" stroke-width=\"0.1\"/>\n",
       "<rect x=\"175.0\" y=\"-200.0\" width=\"8.333\" height=\"12.5\" opacity=\"0.0\" fill=\"currentColor\" stroke-width=\"0.1\"/>\n",
       "<rect x=\"183.33333333333331\" y=\"-200.0\" width=\"8.333\" height=\"12.5\" opacity=\"0.0\" fill=\"currentColor\" stroke-width=\"0.1\"/>\n",
       "<rect x=\"191.66666666666669\" y=\"-200.0\" width=\"8.333\" height=\"12.5\" opacity=\"0.00980392156862748\" fill=\"currentColor\" stroke-width=\"0.1\"/>\n",
       "<rect x=\"200.0\" y=\"-200.0\" width=\"8.333\" height=\"12.5\" opacity=\"0.0\" fill=\"currentColor\" stroke-width=\"0.1\"/>\n",
       "<rect x=\"208.33333333333334\" y=\"-200.0\" width=\"8.333\" height=\"12.5\" opacity=\"0.0\" fill=\"currentColor\" stroke-width=\"0.1\"/>\n",
       "<rect x=\"216.66666666666669\" y=\"-200.0\" width=\"8.333\" height=\"12.5\" opacity=\"0.0\" fill=\"currentColor\" stroke-width=\"0.1\"/>\n",
       "<rect x=\"225.0\" y=\"-200.0\" width=\"8.333\" height=\"12.5\" opacity=\"0.0\" fill=\"currentColor\" stroke-width=\"0.1\"/>\n",
       "<rect x=\"233.33333333333334\" y=\"-200.0\" width=\"8.333\" height=\"12.5\" opacity=\"0.0\" fill=\"currentColor\" stroke-width=\"0.1\"/>\n",
       "<rect x=\"241.66666666666666\" y=\"-200.0\" width=\"8.333\" height=\"12.5\" opacity=\"0.0\" fill=\"currentColor\" stroke-width=\"0.1\"/>\n",
       "<rect x=\"0.0\" y=\"-212.5\" width=\"8.333\" height=\"12.5\" opacity=\"0.8431372549019608\" fill=\"currentColor\" stroke-width=\"0.1\"/>\n",
       "<rect x=\"8.333333333333334\" y=\"-212.5\" width=\"8.333\" height=\"12.5\" opacity=\"0.5588235294117646\" fill=\"currentColor\" stroke-width=\"0.1\"/>\n",
       "<rect x=\"16.666666666666668\" y=\"-212.5\" width=\"8.333\" height=\"12.5\" opacity=\"0.40196078431372545\" fill=\"currentColor\" stroke-width=\"0.1\"/>\n",
       "<rect x=\"25.0\" y=\"-212.5\" width=\"8.333\" height=\"12.5\" opacity=\"0.3137254901960784\" fill=\"currentColor\" stroke-width=\"0.1\"/>\n",
       "<rect x=\"33.333333333333336\" y=\"-212.5\" width=\"8.333\" height=\"12.5\" opacity=\"0.3235294117647059\" fill=\"currentColor\" stroke-width=\"0.1\"/>\n",
       "<rect x=\"41.666666666666664\" y=\"-212.5\" width=\"8.333\" height=\"12.5\" opacity=\"0.37254901960784315\" fill=\"currentColor\" stroke-width=\"0.1\"/>\n",
       "<rect x=\"50.0\" y=\"-212.5\" width=\"8.333\" height=\"12.5\" opacity=\"0.38235294117647056\" fill=\"currentColor\" stroke-width=\"0.1\"/>\n",
       "<rect x=\"58.333333333333336\" y=\"-212.5\" width=\"8.333\" height=\"12.5\" opacity=\"0.2941176470588235\" fill=\"currentColor\" stroke-width=\"0.1\"/>\n",
       "<rect x=\"66.66666666666667\" y=\"-212.5\" width=\"8.333\" height=\"12.5\" opacity=\"0.1764705882352941\" fill=\"currentColor\" stroke-width=\"0.1\"/>\n",
       "<rect x=\"75.0\" y=\"-212.5\" width=\"8.333\" height=\"12.5\" opacity=\"0.10784313725490195\" fill=\"currentColor\" stroke-width=\"0.1\"/>\n",
       "<rect x=\"83.33333333333333\" y=\"-212.5\" width=\"8.333\" height=\"12.5\" opacity=\"0.058823529411764705\" fill=\"currentColor\" stroke-width=\"0.1\"/>\n",
       "<rect x=\"91.66666666666666\" y=\"-212.5\" width=\"8.333\" height=\"12.5\" opacity=\"0.10784313725490195\" fill=\"currentColor\" stroke-width=\"0.1\"/>\n",
       "<rect x=\"100.0\" y=\"-212.5\" width=\"8.333\" height=\"12.5\" opacity=\"0.049019607843137254\" fill=\"currentColor\" stroke-width=\"0.1\"/>\n",
       "<rect x=\"108.33333333333334\" y=\"-212.5\" width=\"8.333\" height=\"12.5\" opacity=\"0.029411764705882353\" fill=\"currentColor\" stroke-width=\"0.1\"/>\n",
       "<rect x=\"116.66666666666667\" y=\"-212.5\" width=\"8.333\" height=\"12.5\" opacity=\"0.0196078431372549\" fill=\"currentColor\" stroke-width=\"0.1\"/>\n",
       "<rect x=\"125.0\" y=\"-212.5\" width=\"8.333\" height=\"12.5\" opacity=\"0.029411764705882353\" fill=\"currentColor\" stroke-width=\"0.1\"/>\n",
       "<rect x=\"133.33333333333334\" y=\"-212.5\" width=\"8.333\" height=\"12.5\" opacity=\"0.00980392156862745\" fill=\"currentColor\" stroke-width=\"0.1\"/>\n",
       "<rect x=\"141.66666666666666\" y=\"-212.5\" width=\"8.333\" height=\"12.5\" opacity=\"0.0\" fill=\"currentColor\" stroke-width=\"0.1\"/>\n",
       "<rect x=\"150.0\" y=\"-212.5\" width=\"8.333\" height=\"12.5\" opacity=\"0.00980392156862745\" fill=\"currentColor\" stroke-width=\"0.1\"/>\n",
       "<rect x=\"158.33333333333331\" y=\"-212.5\" width=\"8.333\" height=\"12.5\" opacity=\"0.0\" fill=\"currentColor\" stroke-width=\"0.1\"/>\n",
       "<rect x=\"166.66666666666666\" y=\"-212.5\" width=\"8.333\" height=\"12.5\" opacity=\"0.0\" fill=\"currentColor\" stroke-width=\"0.1\"/>\n",
       "<rect x=\"175.0\" y=\"-212.5\" width=\"8.333\" height=\"12.5\" opacity=\"0.0\" fill=\"currentColor\" stroke-width=\"0.1\"/>\n",
       "<rect x=\"183.33333333333331\" y=\"-212.5\" width=\"8.333\" height=\"12.5\" opacity=\"0.0\" fill=\"currentColor\" stroke-width=\"0.1\"/>\n",
       "<rect x=\"191.66666666666669\" y=\"-212.5\" width=\"8.333\" height=\"12.5\" opacity=\"0.0\" fill=\"currentColor\" stroke-width=\"0.1\"/>\n",
       "<rect x=\"200.0\" y=\"-212.5\" width=\"8.333\" height=\"12.5\" opacity=\"0.0\" fill=\"currentColor\" stroke-width=\"0.1\"/>\n",
       "<rect x=\"208.33333333333334\" y=\"-212.5\" width=\"8.333\" height=\"12.5\" opacity=\"0.0\" fill=\"currentColor\" stroke-width=\"0.1\"/>\n",
       "<rect x=\"216.66666666666669\" y=\"-212.5\" width=\"8.333\" height=\"12.5\" opacity=\"0.0\" fill=\"currentColor\" stroke-width=\"0.1\"/>\n",
       "<rect x=\"225.0\" y=\"-212.5\" width=\"8.333\" height=\"12.5\" opacity=\"0.0\" fill=\"currentColor\" stroke-width=\"0.1\"/>\n",
       "<rect x=\"233.33333333333334\" y=\"-212.5\" width=\"8.333\" height=\"12.5\" opacity=\"0.00980392156862745\" fill=\"currentColor\" stroke-width=\"0.1\"/>\n",
       "<rect x=\"241.66666666666666\" y=\"-212.5\" width=\"8.333\" height=\"12.5\" opacity=\"0.0\" fill=\"currentColor\" stroke-width=\"0.1\"/>\n",
       "<rect x=\"0.0\" y=\"-225.0\" width=\"8.333\" height=\"12.5\" opacity=\"0.8823529411764706\" fill=\"currentColor\" stroke-width=\"0.1\"/>\n",
       "<rect x=\"8.333333333333334\" y=\"-225.0\" width=\"8.333\" height=\"12.5\" opacity=\"0.37254901960784315\" fill=\"currentColor\" stroke-width=\"0.1\"/>\n",
       "<rect x=\"16.666666666666668\" y=\"-225.0\" width=\"8.333\" height=\"12.5\" opacity=\"0.37254901960784315\" fill=\"currentColor\" stroke-width=\"0.1\"/>\n",
       "<rect x=\"25.0\" y=\"-225.0\" width=\"8.333\" height=\"12.5\" opacity=\"0.24509803921568626\" fill=\"currentColor\" stroke-width=\"0.1\"/>\n",
       "<rect x=\"33.333333333333336\" y=\"-225.0\" width=\"8.333\" height=\"12.5\" opacity=\"0.38235294117647056\" fill=\"currentColor\" stroke-width=\"0.1\"/>\n",
       "<rect x=\"41.666666666666664\" y=\"-225.0\" width=\"8.333\" height=\"12.5\" opacity=\"0.3529411764705882\" fill=\"currentColor\" stroke-width=\"0.1\"/>\n",
       "<rect x=\"50.0\" y=\"-225.0\" width=\"8.333\" height=\"12.5\" opacity=\"0.2941176470588235\" fill=\"currentColor\" stroke-width=\"0.1\"/>\n",
       "<rect x=\"58.333333333333336\" y=\"-225.0\" width=\"8.333\" height=\"12.5\" opacity=\"0.37254901960784315\" fill=\"currentColor\" stroke-width=\"0.1\"/>\n",
       "<rect x=\"66.66666666666667\" y=\"-225.0\" width=\"8.333\" height=\"12.5\" opacity=\"0.20588235294117646\" fill=\"currentColor\" stroke-width=\"0.1\"/>\n",
       "<rect x=\"75.0\" y=\"-225.0\" width=\"8.333\" height=\"12.5\" opacity=\"0.10784313725490195\" fill=\"currentColor\" stroke-width=\"0.1\"/>\n",
       "<rect x=\"83.33333333333333\" y=\"-225.0\" width=\"8.333\" height=\"12.5\" opacity=\"0.09803921568627451\" fill=\"currentColor\" stroke-width=\"0.1\"/>\n",
       "<rect x=\"91.66666666666666\" y=\"-225.0\" width=\"8.333\" height=\"12.5\" opacity=\"0.0392156862745098\" fill=\"currentColor\" stroke-width=\"0.1\"/>\n",
       "<rect x=\"100.0\" y=\"-225.0\" width=\"8.333\" height=\"12.5\" opacity=\"0.0196078431372549\" fill=\"currentColor\" stroke-width=\"0.1\"/>\n",
       "<rect x=\"108.33333333333334\" y=\"-225.0\" width=\"8.333\" height=\"12.5\" opacity=\"0.029411764705882353\" fill=\"currentColor\" stroke-width=\"0.1\"/>\n",
       "<rect x=\"116.66666666666667\" y=\"-225.0\" width=\"8.333\" height=\"12.5\" opacity=\"0.00980392156862745\" fill=\"currentColor\" stroke-width=\"0.1\"/>\n",
       "<rect x=\"125.0\" y=\"-225.0\" width=\"8.333\" height=\"12.5\" opacity=\"0.058823529411764705\" fill=\"currentColor\" stroke-width=\"0.1\"/>\n",
       "<rect x=\"133.33333333333334\" y=\"-225.0\" width=\"8.333\" height=\"12.5\" opacity=\"0.00980392156862745\" fill=\"currentColor\" stroke-width=\"0.1\"/>\n",
       "<rect x=\"141.66666666666666\" y=\"-225.0\" width=\"8.333\" height=\"12.5\" opacity=\"0.00980392156862745\" fill=\"currentColor\" stroke-width=\"0.1\"/>\n",
       "<rect x=\"150.0\" y=\"-225.0\" width=\"8.333\" height=\"12.5\" opacity=\"0.0\" fill=\"currentColor\" stroke-width=\"0.1\"/>\n",
       "<rect x=\"158.33333333333331\" y=\"-225.0\" width=\"8.333\" height=\"12.5\" opacity=\"0.0\" fill=\"currentColor\" stroke-width=\"0.1\"/>\n",
       "<rect x=\"166.66666666666666\" y=\"-225.0\" width=\"8.333\" height=\"12.5\" opacity=\"0.0\" fill=\"currentColor\" stroke-width=\"0.1\"/>\n",
       "<rect x=\"175.0\" y=\"-225.0\" width=\"8.333\" height=\"12.5\" opacity=\"0.0\" fill=\"currentColor\" stroke-width=\"0.1\"/>\n",
       "<rect x=\"183.33333333333331\" y=\"-225.0\" width=\"8.333\" height=\"12.5\" opacity=\"0.0\" fill=\"currentColor\" stroke-width=\"0.1\"/>\n",
       "<rect x=\"191.66666666666669\" y=\"-225.0\" width=\"8.333\" height=\"12.5\" opacity=\"0.0\" fill=\"currentColor\" stroke-width=\"0.1\"/>\n",
       "<rect x=\"200.0\" y=\"-225.0\" width=\"8.333\" height=\"12.5\" opacity=\"0.0196078431372549\" fill=\"currentColor\" stroke-width=\"0.1\"/>\n",
       "<rect x=\"208.33333333333334\" y=\"-225.0\" width=\"8.333\" height=\"12.5\" opacity=\"0.0\" fill=\"currentColor\" stroke-width=\"0.1\"/>\n",
       "<rect x=\"216.66666666666669\" y=\"-225.0\" width=\"8.333\" height=\"12.5\" opacity=\"0.0196078431372549\" fill=\"currentColor\" stroke-width=\"0.1\"/>\n",
       "<rect x=\"225.0\" y=\"-225.0\" width=\"8.333\" height=\"12.5\" opacity=\"0.0\" fill=\"currentColor\" stroke-width=\"0.1\"/>\n",
       "<rect x=\"233.33333333333334\" y=\"-225.0\" width=\"8.333\" height=\"12.5\" opacity=\"0.0\" fill=\"currentColor\" stroke-width=\"0.1\"/>\n",
       "<rect x=\"241.66666666666666\" y=\"-225.0\" width=\"8.333\" height=\"12.5\" opacity=\"0.0\" fill=\"currentColor\" stroke-width=\"0.1\"/>\n",
       "<rect x=\"0.0\" y=\"-237.5\" width=\"8.333\" height=\"12.5\" opacity=\"0.8823529411764706\" fill=\"currentColor\" stroke-width=\"0.1\"/>\n",
       "<rect x=\"8.333333333333334\" y=\"-237.5\" width=\"8.333\" height=\"12.5\" opacity=\"0.5490196078431373\" fill=\"currentColor\" stroke-width=\"0.1\"/>\n",
       "<rect x=\"16.666666666666668\" y=\"-237.5\" width=\"8.333\" height=\"12.5\" opacity=\"0.3235294117647059\" fill=\"currentColor\" stroke-width=\"0.1\"/>\n",
       "<rect x=\"25.0\" y=\"-237.5\" width=\"8.333\" height=\"12.5\" opacity=\"0.27450980392156865\" fill=\"currentColor\" stroke-width=\"0.1\"/>\n",
       "<rect x=\"33.333333333333336\" y=\"-237.5\" width=\"8.333\" height=\"12.5\" opacity=\"0.3235294117647059\" fill=\"currentColor\" stroke-width=\"0.1\"/>\n",
       "<rect x=\"41.666666666666664\" y=\"-237.5\" width=\"8.333\" height=\"12.5\" opacity=\"0.24509803921568626\" fill=\"currentColor\" stroke-width=\"0.1\"/>\n",
       "<rect x=\"50.0\" y=\"-237.5\" width=\"8.333\" height=\"12.5\" opacity=\"0.3235294117647059\" fill=\"currentColor\" stroke-width=\"0.1\"/>\n",
       "<rect x=\"58.333333333333336\" y=\"-237.5\" width=\"8.333\" height=\"12.5\" opacity=\"0.27450980392156865\" fill=\"currentColor\" stroke-width=\"0.1\"/>\n",
       "<rect x=\"66.66666666666667\" y=\"-237.5\" width=\"8.333\" height=\"12.5\" opacity=\"0.2549019607843137\" fill=\"currentColor\" stroke-width=\"0.1\"/>\n",
       "<rect x=\"75.0\" y=\"-237.5\" width=\"8.333\" height=\"12.5\" opacity=\"0.09803921568627451\" fill=\"currentColor\" stroke-width=\"0.1\"/>\n",
       "<rect x=\"83.33333333333333\" y=\"-237.5\" width=\"8.333\" height=\"12.5\" opacity=\"0.11764705882352941\" fill=\"currentColor\" stroke-width=\"0.1\"/>\n",
       "<rect x=\"91.66666666666666\" y=\"-237.5\" width=\"8.333\" height=\"12.5\" opacity=\"0.029411764705882353\" fill=\"currentColor\" stroke-width=\"0.1\"/>\n",
       "<rect x=\"100.0\" y=\"-237.5\" width=\"8.333\" height=\"12.5\" opacity=\"0.029411764705882353\" fill=\"currentColor\" stroke-width=\"0.1\"/>\n",
       "<rect x=\"108.33333333333334\" y=\"-237.5\" width=\"8.333\" height=\"12.5\" opacity=\"0.049019607843137254\" fill=\"currentColor\" stroke-width=\"0.1\"/>\n",
       "<rect x=\"116.66666666666667\" y=\"-237.5\" width=\"8.333\" height=\"12.5\" opacity=\"0.049019607843137254\" fill=\"currentColor\" stroke-width=\"0.1\"/>\n",
       "<rect x=\"125.0\" y=\"-237.5\" width=\"8.333\" height=\"12.5\" opacity=\"0.0196078431372549\" fill=\"currentColor\" stroke-width=\"0.1\"/>\n",
       "<rect x=\"133.33333333333334\" y=\"-237.5\" width=\"8.333\" height=\"12.5\" opacity=\"0.0196078431372549\" fill=\"currentColor\" stroke-width=\"0.1\"/>\n",
       "<rect x=\"141.66666666666666\" y=\"-237.5\" width=\"8.333\" height=\"12.5\" opacity=\"0.0\" fill=\"currentColor\" stroke-width=\"0.1\"/>\n",
       "<rect x=\"150.0\" y=\"-237.5\" width=\"8.333\" height=\"12.5\" opacity=\"0.00980392156862745\" fill=\"currentColor\" stroke-width=\"0.1\"/>\n",
       "<rect x=\"158.33333333333331\" y=\"-237.5\" width=\"8.333\" height=\"12.5\" opacity=\"0.0\" fill=\"currentColor\" stroke-width=\"0.1\"/>\n",
       "<rect x=\"166.66666666666666\" y=\"-237.5\" width=\"8.333\" height=\"12.5\" opacity=\"0.0\" fill=\"currentColor\" stroke-width=\"0.1\"/>\n",
       "<rect x=\"175.0\" y=\"-237.5\" width=\"8.333\" height=\"12.5\" opacity=\"0.01960784313725496\" fill=\"currentColor\" stroke-width=\"0.1\"/>\n",
       "<rect x=\"183.33333333333331\" y=\"-237.5\" width=\"8.333\" height=\"12.5\" opacity=\"0.0\" fill=\"currentColor\" stroke-width=\"0.1\"/>\n",
       "<rect x=\"191.66666666666669\" y=\"-237.5\" width=\"8.333\" height=\"12.5\" opacity=\"0.0\" fill=\"currentColor\" stroke-width=\"0.1\"/>\n",
       "<rect x=\"200.0\" y=\"-237.5\" width=\"8.333\" height=\"12.5\" opacity=\"0.00980392156862745\" fill=\"currentColor\" stroke-width=\"0.1\"/>\n",
       "<rect x=\"208.33333333333334\" y=\"-237.5\" width=\"8.333\" height=\"12.5\" opacity=\"0.0\" fill=\"currentColor\" stroke-width=\"0.1\"/>\n",
       "<rect x=\"216.66666666666669\" y=\"-237.5\" width=\"8.333\" height=\"12.5\" opacity=\"0.0\" fill=\"currentColor\" stroke-width=\"0.1\"/>\n",
       "<rect x=\"225.0\" y=\"-237.5\" width=\"8.333\" height=\"12.5\" opacity=\"0.0\" fill=\"currentColor\" stroke-width=\"0.1\"/>\n",
       "<rect x=\"233.33333333333334\" y=\"-237.5\" width=\"8.333\" height=\"12.5\" opacity=\"0.00980392156862745\" fill=\"currentColor\" stroke-width=\"0.1\"/>\n",
       "<rect x=\"241.66666666666666\" y=\"-237.5\" width=\"8.333\" height=\"12.5\" opacity=\"0.0\" fill=\"currentColor\" stroke-width=\"0.1\"/>\n",
       "<rect x=\"0.0\" y=\"-250.0\" width=\"8.333\" height=\"12.5\" opacity=\"1.0\" fill=\"currentColor\" stroke-width=\"0.1\"/>\n",
       "<rect x=\"8.333333333333334\" y=\"-250.0\" width=\"8.333\" height=\"12.5\" opacity=\"0.5196078431372548\" fill=\"currentColor\" stroke-width=\"0.1\"/>\n",
       "<rect x=\"16.666666666666668\" y=\"-250.0\" width=\"8.333\" height=\"12.5\" opacity=\"0.46078431372549017\" fill=\"currentColor\" stroke-width=\"0.1\"/>\n",
       "<rect x=\"25.0\" y=\"-250.0\" width=\"8.333\" height=\"12.5\" opacity=\"0.18627450980392157\" fill=\"currentColor\" stroke-width=\"0.1\"/>\n",
       "<rect x=\"33.333333333333336\" y=\"-250.0\" width=\"8.333\" height=\"12.5\" opacity=\"0.3529411764705882\" fill=\"currentColor\" stroke-width=\"0.1\"/>\n",
       "<rect x=\"41.666666666666664\" y=\"-250.0\" width=\"8.333\" height=\"12.5\" opacity=\"0.4803921568627451\" fill=\"currentColor\" stroke-width=\"0.1\"/>\n",
       "<rect x=\"50.0\" y=\"-250.0\" width=\"8.333\" height=\"12.5\" opacity=\"0.20588235294117646\" fill=\"currentColor\" stroke-width=\"0.1\"/>\n",
       "<rect x=\"58.333333333333336\" y=\"-250.0\" width=\"8.333\" height=\"12.5\" opacity=\"0.3627450980392157\" fill=\"currentColor\" stroke-width=\"0.1\"/>\n",
       "<rect x=\"66.66666666666667\" y=\"-250.0\" width=\"8.333\" height=\"12.5\" opacity=\"0.20588235294117646\" fill=\"currentColor\" stroke-width=\"0.1\"/>\n",
       "<rect x=\"75.0\" y=\"-250.0\" width=\"8.333\" height=\"12.5\" opacity=\"0.09803921568627451\" fill=\"currentColor\" stroke-width=\"0.1\"/>\n",
       "<rect x=\"83.33333333333333\" y=\"-250.0\" width=\"8.333\" height=\"12.5\" opacity=\"0.09803921568627451\" fill=\"currentColor\" stroke-width=\"0.1\"/>\n",
       "<rect x=\"91.66666666666666\" y=\"-250.0\" width=\"8.333\" height=\"12.5\" opacity=\"0.0784313725490196\" fill=\"currentColor\" stroke-width=\"0.1\"/>\n",
       "<rect x=\"100.0\" y=\"-250.0\" width=\"8.333\" height=\"12.5\" opacity=\"0.0196078431372549\" fill=\"currentColor\" stroke-width=\"0.1\"/>\n",
       "<rect x=\"108.33333333333334\" y=\"-250.0\" width=\"8.333\" height=\"12.5\" opacity=\"0.00980392156862745\" fill=\"currentColor\" stroke-width=\"0.1\"/>\n",
       "<rect x=\"116.66666666666667\" y=\"-250.0\" width=\"8.333\" height=\"12.5\" opacity=\"0.029411764705882353\" fill=\"currentColor\" stroke-width=\"0.1\"/>\n",
       "<rect x=\"125.0\" y=\"-250.0\" width=\"8.333\" height=\"12.5\" opacity=\"0.0392156862745098\" fill=\"currentColor\" stroke-width=\"0.1\"/>\n",
       "<rect x=\"133.33333333333334\" y=\"-250.0\" width=\"8.333\" height=\"12.5\" opacity=\"0.00980392156862745\" fill=\"currentColor\" stroke-width=\"0.1\"/>\n",
       "<rect x=\"141.66666666666666\" y=\"-250.0\" width=\"8.333\" height=\"12.5\" opacity=\"0.00980392156862745\" fill=\"currentColor\" stroke-width=\"0.1\"/>\n",
       "<rect x=\"150.0\" y=\"-250.0\" width=\"8.333\" height=\"12.5\" opacity=\"0.00980392156862745\" fill=\"currentColor\" stroke-width=\"0.1\"/>\n",
       "<rect x=\"158.33333333333331\" y=\"-250.0\" width=\"8.333\" height=\"12.5\" opacity=\"0.0\" fill=\"currentColor\" stroke-width=\"0.1\"/>\n",
       "<rect x=\"166.66666666666666\" y=\"-250.0\" width=\"8.333\" height=\"12.5\" opacity=\"0.00980392156862745\" fill=\"currentColor\" stroke-width=\"0.1\"/>\n",
       "<rect x=\"175.0\" y=\"-250.0\" width=\"8.333\" height=\"12.5\" opacity=\"0.0\" fill=\"currentColor\" stroke-width=\"0.1\"/>\n",
       "<rect x=\"183.33333333333331\" y=\"-250.0\" width=\"8.333\" height=\"12.5\" opacity=\"0.0\" fill=\"currentColor\" stroke-width=\"0.1\"/>\n",
       "<rect x=\"191.66666666666669\" y=\"-250.0\" width=\"8.333\" height=\"12.5\" opacity=\"0.0\" fill=\"currentColor\" stroke-width=\"0.1\"/>\n",
       "<rect x=\"200.0\" y=\"-250.0\" width=\"8.333\" height=\"12.5\" opacity=\"0.0\" fill=\"currentColor\" stroke-width=\"0.1\"/>\n",
       "<rect x=\"208.33333333333334\" y=\"-250.0\" width=\"8.333\" height=\"12.5\" opacity=\"0.0\" fill=\"currentColor\" stroke-width=\"0.1\"/>\n",
       "<rect x=\"216.66666666666669\" y=\"-250.0\" width=\"8.333\" height=\"12.5\" opacity=\"0.0\" fill=\"currentColor\" stroke-width=\"0.1\"/>\n",
       "<rect x=\"225.0\" y=\"-250.0\" width=\"8.333\" height=\"12.5\" opacity=\"0.0\" fill=\"currentColor\" stroke-width=\"0.1\"/>\n",
       "<rect x=\"233.33333333333334\" y=\"-250.0\" width=\"8.333\" height=\"12.5\" opacity=\"0.0\" fill=\"currentColor\" stroke-width=\"0.1\"/>\n",
       "<rect x=\"241.66666666666666\" y=\"-250.0\" width=\"8.333\" height=\"12.5\" opacity=\"0.0\" fill=\"currentColor\" stroke-width=\"0.1\"/>\n",
       "</svg>\n",
       "</div>\n",
       "<div style=\"flex=grow:1;\">\n",
       "Regular(30, 15, 150, name='pt')<br/>\n",
       "Regular(20, 0, 6.28319, circular=True, name='phi')<br/>\n",
       "<hr style=\"margin-top:.2em; margin-bottom:.2em;\"/>\n",
       "Weight() Σ=WeightedSum(value=7996, variance=7996) <em>(WeightedSum(value=8023, variance=8023) with flow)</em>\n",
       "\n",
       "</div>\n",
       "</div>\n",
       "</html>"
      ],
      "text/plain": [
       "Hist(\n",
       "  Regular(30, 15, 150, name='pt'),\n",
       "  Regular(20, 0, 6.28319, circular=True, name='phi'),\n",
       "  storage=Weight()) # Sum: WeightedSum(value=7996, variance=7996) (WeightedSum(value=8023, variance=8023) with flow)"
      ]
     },
     "execution_count": 155,
     "metadata": {},
     "output_type": "execute_result"
    }
   ],
   "source": [
    "hist3d[{\"muon_cat\": \"1muon\", \"eta\": slice(-2j, 2j, sum)}]"
   ]
  },
  {
   "cell_type": "markdown",
   "id": "e231414f-5092-4aeb-b117-eb9784f253de",
   "metadata": {},
   "source": [
    "## Histograms stack\n",
    "Stacks are a convenient way of grouping histograms with names. "
   ]
  },
  {
   "cell_type": "code",
   "execution_count": 145,
   "id": "2fbb9493-b6ae-407a-8f76-c3b39f5aaa75",
   "metadata": {},
   "outputs": [
    {
     "data": {
      "text/plain": [
       "Stack<('signal', 'upper', 'lower') of Hist(Regular(25, -5, 5, underflow=False, overflow=False, name='x'), storage=Double()) # Sum: 600.0>"
      ]
     },
     "execution_count": 145,
     "metadata": {},
     "output_type": "execute_result"
    }
   ],
   "source": [
    "ax = hist.axis.Regular(25, -5, 5, flow=False, name=\"x\")\n",
    "cax = hist.axis.StrCategory([\"signal\", \"upper\", \"lower\"], name=\"c\")\n",
    "full_hist = Hist(ax, cax)\n",
    "\n",
    "full_hist.fill(x=np.random.normal(size=600), c=\"signal\")\n",
    "full_hist.fill(x=2 * np.random.normal(size=500) + 2, c=\"upper\")\n",
    "full_hist.fill(x=2 * np.random.normal(size=500) - 2, c=\"lower\")\n",
    "\n",
    "# Create a stack over the categorical axes\n",
    "s = full_hist.stack(\"c\")\n",
    "s"
   ]
  },
  {
   "cell_type": "code",
   "execution_count": 147,
   "id": "dc2283dd-d6bb-440d-8c31-64ad258d51c8",
   "metadata": {},
   "outputs": [
    {
     "data": {
      "text/plain": [
       "<matplotlib.legend.Legend at 0x7f2b81850ad0>"
      ]
     },
     "execution_count": 147,
     "metadata": {},
     "output_type": "execute_result"
    },
    {
     "data": {
      "image/png": "[encoded data removed]",
      "text/plain": [
       "<Figure size 640x480 with 1 Axes>"
      ]
     },
     "metadata": {},
     "output_type": "display_data"
    }
   ],
   "source": [
    "s.plot()\n",
    "plt.legend()"
   ]
  },
  {
   "cell_type": "markdown",
   "id": "8c1a45d8-f1b3-44e2-80cb-23b291d1f735",
   "metadata": {},
   "source": [
    "# Plotting with mplhep"
   ]
  },
  {
   "cell_type": "markdown",
   "id": "c232e8d0-083f-4185-9979-a4f1c7716ef8",
   "metadata": {},
   "source": [
    "https://mplhep.readthedocs.io/en/latest/\n",
    "mlhep is matplotlib wrapper for easy plotting required in high energy physics (HEP). Primarily “prebinned” 1D & 2D histograms and matplotlib style-sheets carrying recommended plotting styles of large LHC experiments - ATLAS, CMS & LHCb. "
   ]
  },
  {
   "cell_type": "code",
   "execution_count": 157,
   "id": "d3932fb9-ed18-4862-8ba9-c64a40734e1f",
   "metadata": {},
   "outputs": [],
   "source": [
    "import mplhep as hep\n",
    "plt.style.use(hep.style.CMS)"
   ]
  },
  {
   "cell_type": "code",
   "execution_count": 164,
   "id": "1bc27661-d495-4146-9dbf-378caadff841",
   "metadata": {},
   "outputs": [
    {
     "data": {
      "text/plain": [
       "Text(1, 0, 'Leading Muon $p_T$')"
      ]
     },
     "execution_count": 164,
     "metadata": {},
     "output_type": "execute_result"
    },
    {
     "data": {
      "image/png": "[encoded data removed]",
      "text/plain": [
       "<Figure size 1000x1000 with 1 Axes>"
      ]
     },
     "metadata": {},
     "output_type": "display_data"
    }
   ],
   "source": [
    "plt.hist(events[mask_muon].Muon_pt[:, 0], bins=50, range=(0, 100));\n",
    "plt.xlabel(\"Leading Muon $p_T$\")"
   ]
  },
  {
   "cell_type": "code",
   "execution_count": 171,
   "id": "23cf3b2c-c350-403b-98b1-08750a3fb7d1",
   "metadata": {},
   "outputs": [
    {
     "data": {
      "text/plain": [
       "(exptext: Custom Text(0.0, 1, 'CMS'),\n",
       " expsuffix: Custom Text(0.0, 1.005, 'Open Data'),\n",
       " supptext: Custom Text(1.012, 1, ''))"
      ]
     },
     "execution_count": 171,
     "metadata": {},
     "output_type": "execute_result"
    },
    {
     "data": {
      "image/png": "[encoded data removed]",
      "text/plain": [
       "<Figure size 1000x1000 with 1 Axes>"
      ]
     },
     "metadata": {},
     "output_type": "display_data"
    }
   ],
   "source": [
    "plt.hist(events[mask_muon].Muon_pt[:, 0], bins=50, range=(0, 100));\n",
    "plt.xlabel(\"Leading Muon $p_T$\")\n",
    "\n",
    "# loc setup the location of the label\n",
    "hep.cms.label(\"Open Data\", data=True, lumi=50, year=2016, loc=0)\n",
    "\n",
    "# To setup only the text\n",
    "#hep.<experiment>.text(<text>)"
   ]
  },
  {
   "cell_type": "markdown",
   "id": "ce8b4aa0-5c54-43a0-9578-d0fce8abf993",
   "metadata": {},
   "source": [
    "The hist library is well integrated with matplotlib. \n"
   ]
  },
  {
   "cell_type": "code",
   "execution_count": 178,
   "id": "b7133241-f6ca-4693-9b3a-df2f1452de78",
   "metadata": {},
   "outputs": [
    {
     "data": {
      "text/plain": [
       "<matplotlib.legend.Legend at 0x7f2b77f21090>"
      ]
     },
     "execution_count": 178,
     "metadata": {},
     "output_type": "execute_result"
    },
    {
     "data": {
      "image/png": "[encoded data removed]",
      "text/plain": [
       "<Figure size 1000x1000 with 1 Axes>"
      ]
     },
     "metadata": {},
     "output_type": "display_data"
    }
   ],
   "source": [
    "hist3d[{\"muon_cat\": \"1muon\"}].project(\"pt\").plot(label=\"1muon\");\n",
    "hist3d[{\"muon_cat\": \"0muon\"}].project(\"pt\").plot(label=\"0muon\");\n",
    "plt.legend()"
   ]
  },
  {
   "cell_type": "markdown",
   "id": "68ee6aa4-e237-4558-8cf3-84eb5e1eeb97",
   "metadata": {},
   "source": [
    "We can create a stack with the two categories and plot it in the \"standard\" way"
   ]
  },
  {
   "cell_type": "code",
   "execution_count": 187,
   "id": "529668e6-8434-4be4-aa56-51f181f169df",
   "metadata": {},
   "outputs": [
    {
     "data": {
      "text/plain": [
       "(exptext: Custom Text(0.001, 1, 'CMS'),\n",
       " expsuffix: Custom Text(0.001, 1.005, 'Open Data'),\n",
       " supptext: Custom Text(1.012, 1, ''))"
      ]
     },
     "execution_count": 187,
     "metadata": {},
     "output_type": "execute_result"
    },
    {
     "data": {
      "image/png": "[encoded data removed]",
      "text/plain": [
       "<Figure size 1000x1000 with 1 Axes>"
      ]
     },
     "metadata": {},
     "output_type": "display_data"
    }
   ],
   "source": [
    "stack = hist3d.stack(\"muon_cat\")\n",
    "stack.project(\"pt\").plot(stack=True, histtype=\"fill\")\n",
    "plt.yscale(\"log\")\n",
    "plt.legend()\n",
    "hep.cms.text(\"Open Data\")"
   ]
  },
  {
   "cell_type": "markdown",
   "id": "b6b87e48-c0cb-4e45-be87-20b20d71b596",
   "metadata": {},
   "source": [
    "## 2D histogram plotting"
   ]
  },
  {
   "cell_type": "markdown",
   "id": "67d169d3-921c-44d4-8084-a2b6f56bee0d",
   "metadata": {},
   "source": [
    "2D histograms can be nicely plotting directly from Hist"
   ]
  },
  {
   "cell_type": "code",
   "execution_count": 173,
   "id": "52bd1fe5-2d4d-429b-a3be-f285a930ab9b",
   "metadata": {},
   "outputs": [
    {
     "data": {
      "image/png": "[encoded data removed]",
      "text/plain": [
       "<Figure size 1070x1000 with 2 Axes>"
      ]
     },
     "metadata": {},
     "output_type": "display_data"
    }
   ],
   "source": [
    "hist3d[{\"muon_cat\": \"1muon\", \"eta\": slice(-2j, 2j, sum)}].plot();"
   ]
  },
  {
   "cell_type": "code",
   "execution_count": null,
   "id": "16232e07-4a88-4b03-ad07-b7e360f3ed94",
   "metadata": {},
   "outputs": [],
   "source": []
  }
 ],
 "metadata": {
  "kernelspec": {
   "display_name": "Python 3 (ipykernel)",
   "language": "python",
   "name": "python3"
  },
  "language_info": {
   "codemirror_mode": {
    "name": "ipython",
    "version": 3
   },
   "file_extension": ".py",
   "mimetype": "text/x-python",
   "name": "python",
   "nbconvert_exporter": "python",
   "pygments_lexer": "ipython3",
   "version": "3.11.8"
  }
 },
 "nbformat": 4,
 "nbformat_minor": 5
}
