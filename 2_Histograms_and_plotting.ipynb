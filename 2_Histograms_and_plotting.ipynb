{
 "cells": [
  {
   "cell_type": "markdown",
   "id": "16375239-a9b5-4a42-9c0c-9d4418dff96a",
   "metadata": {},
   "source": [
    "# Histograms with numpy"
   ]
  },
  {
   "cell_type": "markdown",
   "id": "80bf3ded-5476-415f-95ed-bc8ab4d68b24",
   "metadata": {},
   "source": [
    "# Histograms with boost.hist"
   ]
  },
  {
   "cell_type": "markdown",
   "id": "8c1a45d8-f1b3-44e2-80cb-23b291d1f735",
   "metadata": {},
   "source": [
    "# Plotting with mplhep"
   ]
  },
  {
   "cell_type": "code",
   "execution_count": null,
   "id": "9e151aff-4ce7-4dec-8d16-930b7a4e69fa",
   "metadata": {},
   "outputs": [],
   "source": []
  }
 ],
 "metadata": {
  "kernelspec": {
   "display_name": "Python 3 (ipykernel)",
   "language": "python",
   "name": "python3"
  },
  "language_info": {
   "codemirror_mode": {
    "name": "ipython",
    "version": 3
   },
   "file_extension": ".py",
   "mimetype": "text/x-python",
   "name": "python",
   "nbconvert_exporter": "python",
   "pygments_lexer": "ipython3",
   "version": "3.11.8"
  }
 },
 "nbformat": 4,
 "nbformat_minor": 5
}
