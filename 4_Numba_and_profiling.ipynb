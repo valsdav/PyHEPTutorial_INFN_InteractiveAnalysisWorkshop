{
 "cells": [
  {
   "cell_type": "markdown",
   "id": "a9708953-43ee-4fe2-89aa-8a0b62f908e8",
   "metadata": {},
   "source": [
    "# Numba - Python JIT"
   ]
  },
  {
   "cell_type": "markdown",
   "id": "7bc28c92-eb3a-4cf5-b5fb-028ea6443498",
   "metadata": {},
   "source": [
    "Sometimes defining complex algorithms with columar operations on awkward arrays can be cumbersome. \n",
    "\n",
    "Using a for-loop style programming can be much easier for some recursive or iterative algorithms.\n",
    "The problem is that accessing awkward arrays event by event, can be very slow as the operation cannot be \"lowered\" in the C++ backend of awkward.\n",
    "\n",
    "The **numba** library can be very useful in this scenario: https://numba.pydata.org\n",
    "\n",
    "Numba is an open source JIT compiler that translates a subset of Python and NumPy code into fast machine code. \n"
   ]
  },
  {
   "cell_type": "code",
   "execution_count": 1,
   "id": "7af81827-f38c-442d-832f-6a5071046c96",
   "metadata": {},
   "outputs": [],
   "source": [
    "from numba import njit\n",
    "\n",
    "import random\n",
    "\n",
    "@njit\n",
    "def monte_carlo_pi(nsamples):\n",
    "    acc = 0\n",
    "    for i in range(nsamples):\n",
    "        x = random.random()\n",
    "        y = random.random()\n",
    "        if (x ** 2 + y ** 2) < 1.0:\n",
    "            acc += 1\n",
    "    return 4.0 * acc / nsamples\n",
    "\n",
    "def monte_carlo_pi_nonumba(nsamples):\n",
    "    acc = 0\n",
    "    for i in range(nsamples):\n",
    "        x = random.random()\n",
    "        y = random.random()\n",
    "        if (x ** 2 + y ** 2) < 1.0:\n",
    "            acc += 1\n",
    "    return 4.0 * acc / nsamples"
   ]
  },
  {
   "cell_type": "code",
   "execution_count": 8,
   "id": "7f6c62f8-224b-4529-b5c6-3a96389615e4",
   "metadata": {},
   "outputs": [
    {
     "name": "stdout",
     "output_type": "stream",
     "text": [
      "27 ms ± 286 μs per loop (mean ± std. dev. of 7 runs, 10 loops each)\n"
     ]
    }
   ],
   "source": [
    "%%timeit\n",
    "monte_carlo_pi_nonumba(100_000)"
   ]
  },
  {
   "cell_type": "code",
   "execution_count": 9,
   "id": "1971eb0e-b465-4f9e-91cf-621c54432786",
   "metadata": {},
   "outputs": [
    {
     "name": "stdout",
     "output_type": "stream",
     "text": [
      "1.18 ms ± 8.49 μs per loop (mean ± std. dev. of 7 runs, 1,000 loops each)\n"
     ]
    }
   ],
   "source": [
    "%%timeit\n",
    "monte_carlo_pi(100_000)"
   ]
  },
  {
   "cell_type": "markdown",
   "id": "3411b941-d3f1-42a9-bf4a-a52db1f90465",
   "metadata": {},
   "source": [
    "## Example with awkward arrays"
   ]
  },
  {
   "cell_type": "markdown",
   "id": "c3cfe6d3-5397-4491-9fb3-6ac766bc04a3",
   "metadata": {},
   "source": [
    "Awkward array can be used in numba functions easily.  https://awkward-array.org/doc/main/user-guide/how-to-use-in-numba-features.html\n",
    "\n",
    "The ArrayBuilder interface is available to build awkward array on the fly in the numba compiled function"
   ]
  },
  {
   "cell_type": "code",
   "execution_count": 2,
   "id": "1d4aa2eb-63a5-4f28-8dd3-70aacbb9e5c7",
   "metadata": {},
   "outputs": [],
   "source": [
    "import uproot\n",
    "import awkward as ak\n",
    "from coffea.nanoevents import NanoEventsFactory, NanoAODSchema\n",
    "import yaml\n",
    "import numpy as np \n",
    "with open(\"datasets.yaml\") as f:\n",
    "    datasets = yaml.safe_load(f)\n",
    "    \n",
    "events = uproot.open(f\"{datasets['DYJetsToLL']['files'][0]}:Events\", num_workers=4)\n",
    "df = events.arrays(entry_stop=20000)\n"
   ]
  },
  {
   "cell_type": "code",
   "execution_count": 34,
   "id": "2f59c926-f900-4842-b2bd-7c25566b73b4",
   "metadata": {},
   "outputs": [],
   "source": [
    "def sum_all_jet_pt(jets_pt):\n",
    "    out = np.zeros(len(jets_pt))\n",
    "    for iev in range(len(jets_pt)):\n",
    "        for pt in jets_pt[iev]:\n",
    "            out[iev]+= pt\n",
    "    return out\n",
    "\n",
    "@njit\n",
    "def sum_all_jet_pt_numba(jets_pt):\n",
    "    out = np.zeros(len(jets_pt))\n",
    "    for iev in range(len(jets_pt)):\n",
    "        for pt in jets_pt[iev]:\n",
    "            out[iev]+= pt\n",
    "    return out"
   ]
  },
  {
   "cell_type": "code",
   "execution_count": 35,
   "id": "fa01629b-4bad-41fd-8d2a-f8be32d4ea30",
   "metadata": {},
   "outputs": [
    {
     "name": "stdout",
     "output_type": "stream",
     "text": [
      "1.72 s ± 7.24 ms per loop (mean ± std. dev. of 7 runs, 1 loop each)\n"
     ]
    }
   ],
   "source": [
    "%%timeit \n",
    "sum_all_jet_pt(df.Jet_pt)"
   ]
  },
  {
   "cell_type": "code",
   "execution_count": 36,
   "id": "6cad2979-2ecc-4a51-b713-d0ecd7155962",
   "metadata": {},
   "outputs": [
    {
     "name": "stdout",
     "output_type": "stream",
     "text": [
      "1.31 ms ± 9.86 μs per loop (mean ± std. dev. of 7 runs, 1,000 loops each)\n"
     ]
    }
   ],
   "source": [
    "%%timeit \n",
    "sum_all_jet_pt_numba(df.Jet_pt)"
   ]
  },
  {
   "cell_type": "code",
   "execution_count": 37,
   "id": "34a15573-86f3-4714-9141-2dfd7232d195",
   "metadata": {},
   "outputs": [
    {
     "name": "stdout",
     "output_type": "stream",
     "text": [
      "996 μs ± 1.95 μs per loop (mean ± std. dev. of 7 runs, 1,000 loops each)\n"
     ]
    }
   ],
   "source": [
    "%%timeit\n",
    "ak.sum(df.Jet_pt, axis=1)"
   ]
  },
  {
   "cell_type": "markdown",
   "id": "806000ea-1bd2-494e-802c-04eb44e54733",
   "metadata": {},
   "source": [
    "It is not useful when the operation is easy enought to be performed directly with awkward native functions. Those are already written in C++ and optimized"
   ]
  },
  {
   "cell_type": "code",
   "execution_count": 38,
   "id": "be2fd7fc-3194-401d-b0c3-48045d369763",
   "metadata": {},
   "outputs": [],
   "source": [
    "@njit\n",
    "def sum_jets_with_electron_or_muon(jet_pt, ele_pt, mu_pt, builder):\n",
    "    for iev in range(len(jet_pt)):\n",
    "        builder.begin_list()\n",
    "        if len(jet_pt[iev])>0:\n",
    "            if len(ele_pt[iev])>0:\n",
    "                builder.append(jet_pt[iev][0]+ele_pt[iev][0])\n",
    "            elif len(mu_pt[iev])>0:\n",
    "                builder.append(jet_pt[iev][0]+mu_pt[iev][0])\n",
    "        builder.end_list()\n",
    "    return builder"
   ]
  },
  {
   "cell_type": "code",
   "execution_count": 52,
   "id": "a2d74510-f737-4337-a42e-00009db91a79",
   "metadata": {},
   "outputs": [
    {
     "data": {
      "text/plain": [
       "<ArrayBuilder [[], [85.6], [], ... [115], [55.4]] type='20000 * var * float64'>"
      ]
     },
     "execution_count": 52,
     "metadata": {},
     "output_type": "execute_result"
    }
   ],
   "source": [
    "out = sum_jets_with_electron_or_muon(df.Jet_pt, df.Electron_pt, df.Muon_pt, ak.ArrayBuilder())\n",
    "out"
   ]
  },
  {
   "cell_type": "code",
   "execution_count": 41,
   "id": "b8e419fe-29c1-477e-a942-97f14aec7fb0",
   "metadata": {},
   "outputs": [
    {
     "name": "stdout",
     "output_type": "stream",
     "text": [
      "4.52 ms ± 37.8 μs per loop (mean ± std. dev. of 7 runs, 100 loops each)\n"
     ]
    }
   ],
   "source": [
    "%%timeit\n",
    "sum_jets_with_electron_or_muon(df.Jet_pt, df.Electron_pt, df.Muon_pt, ak.ArrayBuilder())"
   ]
  },
  {
   "cell_type": "markdown",
   "id": "7be5f011-a73c-415f-b973-fce0af98eb7c",
   "metadata": {},
   "source": [
    "Also in this case there is a simple columnar expression for the function above, but it is slightly slower."
   ]
  },
  {
   "cell_type": "code",
   "execution_count": 55,
   "id": "39b1607b-0f28-4b22-8dc3-220af17d6304",
   "metadata": {},
   "outputs": [
    {
     "name": "stdout",
     "output_type": "stream",
     "text": [
      "7.32 ms ± 140 μs per loop (mean ± std. dev. of 7 runs, 100 loops each)\n"
     ]
    }
   ],
   "source": [
    "%%timeit\n",
    "has_ele = ak.num(df.Electron_pt)>0\n",
    "ak.firsts(df.Jet_pt) +  ak.firsts(ak.where(has_ele, df.Electron_pt, df.Muon_pt))"
   ]
  },
  {
   "cell_type": "markdown",
   "id": "a684095f-5052-4708-90df-42bcb016e926",
   "metadata": {},
   "source": [
    "### Combinations\n",
    "Writing algoritms on combinations of objects can become cumbersome with columanr expression (event thought there are ak.cartesian and ak.combinations). Often the analysis is clearer if expressed with event loops. \n",
    "\n",
    "Numba can be quite useful in this context."
   ]
  },
  {
   "cell_type": "markdown",
   "id": "61800951-a039-4c4e-b7a3-5a3691a47c32",
   "metadata": {},
   "source": [
    "# Profiling"
   ]
  },
  {
   "cell_type": "code",
   "execution_count": null,
   "id": "a3ca8a31-625e-416e-a584-36bbea86b809",
   "metadata": {},
   "outputs": [],
   "source": []
  }
 ],
 "metadata": {
  "kernelspec": {
   "display_name": "Python 3 (ipykernel)",
   "language": "python",
   "name": "python3"
  },
  "language_info": {
   "codemirror_mode": {
    "name": "ipython",
    "version": 3
   },
   "file_extension": ".py",
   "mimetype": "text/x-python",
   "name": "python",
   "nbconvert_exporter": "python",
   "pygments_lexer": "ipython3",
   "version": "3.11.8"
  }
 },
 "nbformat": 4,
 "nbformat_minor": 5
}
